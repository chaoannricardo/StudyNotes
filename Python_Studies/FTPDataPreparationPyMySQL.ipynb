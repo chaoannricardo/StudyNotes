{
 "cells": [
  {
   "cell_type": "code",
   "execution_count": 11,
   "metadata": {},
   "outputs": [
    {
     "name": "stdout",
     "output_type": "stream",
     "text": [
      "================= Welcome Message =================\n",
      "The program would enable you to import required data from FTP directory into MySQL database.\n",
      "\n",
      "\n",
      "Program begins.\n",
      "You would have to enter required date(YYYY/MM/dd) within the following prompt to continue the process.\n",
      "***Reminder: YYYY contains 4 numbers, while MM and dd contains 2.***\n",
      "Please enter YYYY: 2019\n",
      "Please enter mm: 07\n",
      "Please enter dd: 05\n"
     ]
    }
   ],
   "source": [
    "print('================= Welcome Message =================')\n",
    "print('The program would enable you to import required data from FTP directory into MySQL database.')\n",
    "print()\n",
    "print()\n",
    "print('Program begins.')\n",
    "print('You would have to enter required date(YYYY/MM/dd) within the following prompt to continue the process.')\n",
    "print('***Reminder: YYYY contains 4 numbers, while MM and dd contains 2.***')\n",
    "\n",
    "\n",
    "year = str(input(\"Please enter YYYY: \"))\n",
    "month = str(input(\"Please enter mm: \"))\n",
    "day = str(input(\"Please enter dd: \"))"
   ]
  },
  {
   "cell_type": "code",
   "execution_count": 12,
   "metadata": {},
   "outputs": [
    {
     "name": "stdout",
     "output_type": "stream",
     "text": [
      "\n",
      "\n",
      "Importing packages needed...\n",
      "Packages imported successfully.\n"
     ]
    }
   ],
   "source": [
    "print()\n",
    "print()\n",
    "\n",
    "print('Importing packages needed...')\n",
    "import os\n",
    "import ftplib\n",
    "from ftplib import FTP\n",
    "import re\n",
    "import pandas as pd\n",
    "import sys\n",
    "from os import listdir\n",
    "from os.path import isfile, join\n",
    "import numpy as np\n",
    "\n",
    "while True:\n",
    "    try:\n",
    "        import pymysql\n",
    "    except BaseException:\n",
    "        print(\"Have you installed PyMySQL Package within your local system? If not, install it.\")\n",
    "        print(\"================= The program has been terminated =================.\")\n",
    "        print(\"Reminder: Try again after fulfilling the requirements.\")\n",
    "        break\n",
    "    else:\n",
    "        break\n",
    "\n",
    "\n",
    "print('Packages imported successfully.')"
   ]
  },
  {
   "cell_type": "code",
   "execution_count": 13,
   "metadata": {},
   "outputs": [
    {
     "name": "stdout",
     "output_type": "stream",
     "text": [
      "\n",
      "\n",
      "Python working directory has now changed to C:\\Users\\1907075\\PythonNotebook\\TempData\n",
      "Program would then continue.\n"
     ]
    }
   ],
   "source": [
    "# Change working directory tempData directory\n",
    "print()\n",
    "print()\n",
    "\n",
    "while True:\n",
    "    try:\n",
    "        os.chdir('./TempData')\n",
    "    except BaseException:\n",
    "        pathnow = os.getcwd()\n",
    "        print('Working directory now:', pathnow)\n",
    "        print(\"Have you created 'TempData' directory within python working directory? If not, create it.\")\n",
    "        print(\"================= The program has been terminated =================.\")\n",
    "        print(\"Reminder: Try again after fulfilling the requirements.\")\n",
    "        break\n",
    "    else:\n",
    "        pathnow = os.getcwd()\n",
    "        print(\"Python working directory has now been changed to\", pathnow)\n",
    "        print('Program would then continue.')\n",
    "        break"
   ]
  },
  {
   "cell_type": "code",
   "execution_count": 16,
   "metadata": {},
   "outputs": [
    {
     "name": "stdout",
     "output_type": "stream",
     "text": [
      "\n",
      "\n",
      "Connecting to ftp://10.88.26.112/....\n",
      "Connected successfully\n",
      "Program would then continue.\n",
      "\n",
      "\n",
      "Connecting to directory 2019 / 07 / 05\n",
      "Unable find required directory, check if the values are given correctly.\n",
      "================= The program has been terminated =================\n",
      "Reminder: Try again after fulfilling the requirements.\n"
     ]
    }
   ],
   "source": [
    "# Connect to FTP and print out the directory\n",
    "print()\n",
    "print()\n",
    "\n",
    "while True:\n",
    "    try:\n",
    "        print('Connecting to ftp server....')\n",
    "        ftp = ftplib.FTP('XXX', 'XX', 'XX')\n",
    "    except BaseException:\n",
    "        print(\"Unable to connect to FTP site.\")\n",
    "        print(\"================= The program has been terminated =================.\")\n",
    "        print(\"Reminder: Try again after fulfilling the requirements.\")\n",
    "        break\n",
    "    else:\n",
    "        pathnow = os.getcwd()\n",
    "        print(\"Connected successfully\")\n",
    "        print('Program would then continue.')\n",
    "        break\n",
    "        \n",
    "print()\n",
    "print()\n",
    "        \n",
    "while True:\n",
    "    try:\n",
    "        ftp.cwd(year)\n",
    "        ftp.cwd(month)\n",
    "        ftp.cwd(day)\n",
    "        print('Connecting to directory', year,'/', month, '/', day)\n",
    "        print('Printing out file list within directory...')\n",
    "        print(\"File List: \")\n",
    "        files = ftp.dir()\n",
    "        print(files)\n",
    "    except BaseException:\n",
    "        print('Connecting to directory', year,'/', month, '/', day)\n",
    "        print(\"Unable find required directory, check if the values are given correctly.\")\n",
    "        print(\"================= The program has been terminated =================\")\n",
    "        print(\"Reminder: Try again after fulfilling the requirements.\")\n",
    "        break\n",
    "    else:\n",
    "        pathnow = os.getcwd()\n",
    "        print(\"Sucessfully connected\")\n",
    "        print('Program would then continue.')\n",
    "        break"
   ]
  },
  {
   "cell_type": "code",
   "execution_count": 17,
   "metadata": {},
   "outputs": [
    {
     "name": "stdout",
     "output_type": "stream",
     "text": [
      "File List:\n",
      "PythonCode\n",
      "Python_Package\n",
      "Result-20190406.xlsx\n",
      "Result-20190408.xlsx\n",
      "Result-20190409.xlsx\n",
      "Result-20190410.xlsx\n",
      "Result-20190411.xlsx\n",
      "dccel.log\n",
      "mrtg-2.17.4.tar.gz\n",
      "my.log\n",
      "my.log.1\n"
     ]
    }
   ],
   "source": [
    "# Append file list within python list\n",
    "dirlist = []\n",
    "ftp.dir(dirlist.append)\n",
    "\n",
    "# Create new list includes only filename\n",
    "newdirlist = []\n",
    "for i in range(len(dirlist)):\n",
    "    newdirlist.append(dirlist[i][56:])\n",
    "print('File List:')\n",
    "for i,j in enumerate(newdirlist):\n",
    "    print(newdirlist[i])"
   ]
  },
  {
   "cell_type": "code",
   "execution_count": null,
   "metadata": {},
   "outputs": [],
   "source": [
    "TFT_ID = []\n",
    "CF_ID = []\n",
    "EQP_ID = []\n",
    "\n",
    "# Look up required document 'XXXXRealTime.csv$', and \n",
    "for i in range(len(newdirlist)):\n",
    "    string = newdirlist[i]\n",
    "    regex = re.compile('RealTime.csv$')\n",
    "    match = regex.search(string)\n",
    "    if str(match) != 'None':\n",
    "        TFT_ID.append(newdirlist[i][0:13])\n",
    "        CF_ID.append(newdirlist[i][17:30])\n",
    "        EQP_ID.append(newdirlist[i][34:38])\n",
    "        filename = newdirlist[i]"
   ]
  },
  {
   "cell_type": "code",
   "execution_count": null,
   "metadata": {},
   "outputs": [],
   "source": [
    "# Download required data (to python working directory)\n",
    "def getFile(ftp, filename):\n",
    "    try:\n",
    "        ftp.retrbinary(\"RETR \" + filename ,open(filename, 'wb').write)\n",
    "    except:\n",
    "        print \"Error\"\n",
    "\n",
    "for i, j in enumerate(newdirlist):\n",
    "    getFile(ftp,j)"
   ]
  },
  {
   "cell_type": "code",
   "execution_count": 28,
   "metadata": {},
   "outputs": [
    {
     "name": "stdout",
     "output_type": "stream",
     "text": [
      "Connecting to MySQl Database....\n",
      "Sucessfully connected\n",
      "Program would then continue.\n",
      "\n",
      "\n",
      "\n"
     ]
    }
   ],
   "source": [
    "# Import downloaded data from local filesystem\n",
    "fileInDirectory = [f for f in listdir('.') if isfile(join('.', f))]\n",
    "\n",
    "# Connect to MySQl Database\n",
    "while True:\n",
    "    try:\n",
    "        print('Connecting to MySQl Database....')\n",
    "        conn = pymysql.connect(host='XXX', port=3306, user='XXXX', passwd='XXXX', db='XXXX')\n",
    "        cur = conn.cursor()\n",
    "    except BaseException:\n",
    "        print(\"Unable to connect to MySQl Database.\")\n",
    "        print(\"================= The program has been terminated =================.\")\n",
    "        print(\"Reminder: Try again after fulfilling the requirements.\")\n",
    "        break\n",
    "    else:\n",
    "        print(\"Sucessfully connected\")\n",
    "        print('Program would then continue.')\n",
    "        print()\n",
    "        print()\n",
    "        print()\n",
    "        break"
   ]
  },
  {
   "cell_type": "code",
   "execution_count": null,
   "metadata": {},
   "outputs": [],
   "source": [
    "# Data import starts, combine the data and export to MySQL Database\n",
    "encoding = 'utf-16'\n",
    "for i,j in enumerate(fileInDirectory):\n",
    "    for a,b in enumerate(TFT_ID):\n",
    "        IDName = b\n",
    "        fileName = j\n",
    "        # Filter out data matches TFT_ID\n",
    "        regex = re.compile('RealTime.csv$')\n",
    "        match = regex.search(fileName)\n",
    "        # If filename match, then....\n",
    "        if str(match) != 'None':\n",
    "            # Import data matched\n",
    "            importedData = pd.read_csv(filename, encoding=encoding)\n",
    "            # Select the specific value of each imported file\n",
    "            selected_TFT_ID = TFT_ID[a]\n",
    "            selected_CF_ID = CF_ID[a]\n",
    "            selected_EQP_ID = EQP_ID[a]\n",
    "            # Append new column/data to imported file\n",
    "            importedData['TFT_ID'] = selected_TFT_ID\n",
    "            importedData['CF_ID'] = selected_CF_ID\n",
    "            importedData['EQP_ID'] = selected_EQP_ID\n",
    "            # Insert combined pandas dataframe into MySQL Database\n",
    "            importedData.to_sql(con=conn, name='vas_pressure_trans', if_exists='append', flavor='mysql')\n",
    "            print(filename,'has been inserted into MySQl database.')\n",
    "            "
   ]
  },
  {
   "cell_type": "code",
   "execution_count": 18,
   "metadata": {},
   "outputs": [
    {
     "name": "stdout",
     "output_type": "stream",
     "text": [
      "The program has been successfully executed.\n"
     ]
    }
   ],
   "source": [
    "# Close FTP Connection\n",
    "\n",
    "ftp.quit()\n",
    "\n",
    "print('The program has been successfully executed.')"
   ]
  }
 ],
 "metadata": {
  "kernelspec": {
   "display_name": "Python 3",
   "language": "python",
   "name": "python3"
  },
  "language_info": {
   "codemirror_mode": {
    "name": "ipython",
    "version": 3
   },
   "file_extension": ".py",
   "mimetype": "text/x-python",
   "name": "python",
   "nbconvert_exporter": "python",
   "pygments_lexer": "ipython3",
   "version": "3.7.4"
  }
 },
 "nbformat": 4,
 "nbformat_minor": 2
}
