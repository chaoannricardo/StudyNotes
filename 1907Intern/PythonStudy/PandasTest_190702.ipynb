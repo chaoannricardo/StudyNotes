{
 "cells": [
  {
   "cell_type": "code",
   "execution_count": 1,
   "metadata": {},
   "outputs": [
    {
     "name": "stdout",
     "output_type": "stream",
     "text": [
      "       Chinese  Math  English  Science  Social Science\n",
      "Lin         65    92       78       83              70\n",
      "Chen        90    72       76       93              56\n",
      "Huang       81    85       91       89              77\n",
      "Xiong       79    53       47       94              80\n",
      "======================this is a break============================\n",
      "            Chinese  Math  English  ThisIsNotEnglish,ItsFrench  Social Science\n",
      "LinJingHui       65    92       78                          83              70\n",
      "Chen             90    72       76                          93              56\n",
      "Huang            81    85       91                          89              77\n",
      "Xiong            79    53       47                          94              80\n"
     ]
    }
   ],
   "source": [
    "import pandas as pd\n",
    "\n",
    "datas = [[65,92,78,83,70],[90,72,76,93,56],[81,85,91,89,77],[79,53,47,94,80]]\n",
    "indexs = ['Lin', 'Chen', 'Huang', 'Xiong']\n",
    "columns = ['Chinese', 'Math', 'English', 'Science', 'Social Science']\n",
    "df = pd.DataFrame(datas, columns = columns, index = indexs)\n",
    "print(df)\n",
    "\n",
    "print('======================this is a break============================')\n",
    "\n",
    "indexs[0] = 'LinJingHui'\n",
    "df.index = indexs\n",
    "columns[3] = 'ThisIsNotEnglish,ItsFrench'\n",
    "df.columns = columns\n",
    "print(df)\n"
   ]
  },
  {
   "cell_type": "code",
   "execution_count": 12,
   "metadata": {},
   "outputs": [
    {
     "name": "stdout",
     "output_type": "stream",
     "text": [
      "Mr.Chen\n",
      "Chinese                       90\n",
      "Math                          72\n",
      "English                       76\n",
      "ThisIsNotEnglish,ItsFrench    93\n",
      "Social Science                56\n",
      "Name: Chen, dtype: int64\n",
      "================\n",
      "Mr.Huang's English\n",
      "91\n",
      "=================\n",
      "Loc Test\n",
      "       English  ThisIsNotEnglish,ItsFrench  Social Science\n",
      "Chen        76                          93              56\n",
      "Huang       91                          89              77\n",
      "Xiong       47                          94              80\n",
      "=================\n",
      "iloc Test\n",
      "       Math  English\n",
      "Chen     72       76\n",
      "Huang    85       91\n",
      "=================\n",
      "Other Test\n",
      "            Chinese  Math  English  ThisIsNotEnglish,ItsFrench  Social Science\n",
      "LinJingHui       65    92       78                          83              70\n",
      "Chen             90    72       76                          93              56\n"
     ]
    }
   ],
   "source": [
    "print('Mr.Chen')\n",
    "print(df.loc['Chen',:])\n",
    "print('================')\n",
    "\n",
    "print(\"Mr.Huang's English\")\n",
    "print(df.loc['Huang','English'])\n",
    "print('=================')\n",
    "\n",
    "print('Loc Test')\n",
    "print(df.loc['Chen':'Xiong', 'English':'Social Science'])\n",
    "print('=================')\n",
    "\n",
    "print('iloc Test')\n",
    "print(df.iloc[1:3, 1:3])\n",
    "print('=================')\n",
    "\n",
    "\n",
    "print('Other Test')\n",
    "print(df.head(2))"
   ]
  }
 ],
 "metadata": {
  "kernelspec": {
   "display_name": "Python 3",
   "language": "python",
   "name": "python3"
  },
  "language_info": {
   "codemirror_mode": {
    "name": "ipython",
    "version": 3
   },
   "file_extension": ".py",
   "mimetype": "text/x-python",
   "name": "python",
   "nbconvert_exporter": "python",
   "pygments_lexer": "ipython3",
   "version": "3.6.4"
  }
 },
 "nbformat": 4,
 "nbformat_minor": 2
}
