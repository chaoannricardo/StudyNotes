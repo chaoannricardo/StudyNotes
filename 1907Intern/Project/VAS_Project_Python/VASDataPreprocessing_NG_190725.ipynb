{
 "cells": [
  {
   "cell_type": "code",
   "execution_count": 92,
   "metadata": {},
   "outputs": [
    {
     "name": "stdout",
     "output_type": "stream",
     "text": [
      "Z:\\VPA-13C OAD Data\\1_NG\n"
     ]
    }
   ],
   "source": [
    "import pandas as pd\n",
    "import os\n",
    "import glob\n",
    "import chardet\n",
    "import numpy as np\n",
    "import math\n",
    "# coding=utf-8\n",
    "\n",
    "#查詢目錄位置\n",
    "print( os.getcwd()  )\n",
    "\n",
    "Folder_Path = \"Z:/VPA-13C OAD Data/1_NG\"   #要拼接的文件夾及其完整路徑，注意不要包含中文\n",
    "SaveFile_Path = 'C:/Users/1907075/Project/VAS_Project_Python'    #拼接後要保存的文件路徑\n",
    "SaveFile_Name = 'all_0720_NG.csv'\n",
    "my_encoding = 'utf_16'"
   ]
  },
  {
   "cell_type": "code",
   "execution_count": 94,
   "metadata": {},
   "outputs": [],
   "source": [
    "#修改當前工作目錄\n",
    "os.chdir(Folder_Path)\n",
    "#將該文件夾下的所有文件名存入一個列表\n",
    "file_list = os.listdir()\n",
    "\n",
    "for i,j in enumerate(file_list):\n",
    "    #讀取第一個CSV文件並包含表頭\n",
    "    if i == 0:\n",
    "        dfname = pd.read_csv(Folder_Path +'/'+ j, encoding=my_encoding, sep='\\t')\n",
    "    else:\n",
    "        dfname = pd.read_csv(Folder_Path +'/'+ j, encoding=my_encoding, sep=',')\n",
    "    filename = j\n",
    "    dfname.insert(1,'filename' ,filename ) #插入檔名\n",
    "    #dfname[np.isnan(dfname['Vacuum Data_VG001_Exponent'])]=0\n",
    "\n",
    "    # Vacuum Align System (真空貼合系統)\n",
    "    # 換算壓力值公式 : log10(Mantissa*10^Exponent)，總共7組 gauge pressure sensor ( Mantissa(尾數) ; Exponent(指數))\n",
    "    dfname.insert(2,'VG001' ,np.log10(dfname['Vacuum Data_VG001_Mantissa']*(np.power(10.,(dfname['Vacuum Data_VG001_Exponent']) )  )  ))   #插入VG001\n",
    "    dfname.insert(3,'VG002' ,np.log10(dfname['Vacuum Data_VG002_Mantissa']*(np.power(10.,(dfname['Vacuum Data_VG002_Exponent']) )  )  ))   #插入VG002\n",
    "    dfname.insert(4,'VG003' ,np.log10(dfname['Vacuum Data_VG003_Mantissa']*(np.power(10.,(dfname['Vacuum Data_VG003_Exponent']) )  )  ))   #插入VG003    \n",
    "    dfname.insert(5,'VG111' ,np.log10(dfname['Vacuum Data_VG111_Mantissa']*(np.power(10.,(dfname['Vacuum Data_VG111_Exponent']) )  )  ))   #插入VG111        \n",
    "    dfname.insert(6,'VG921' ,np.log10(dfname['Vacuum Data_VG921_Mantissa']*(np.power(10.,(dfname['Vacuum Data_VG921_Exponent']) )  )  ))   #插入VG921        \n",
    "    dfname.insert(7,'VG922' ,np.log10(dfname['Vacuum Data_VG922_Mantissa']*(np.power(10.,(dfname['Vacuum Data_VG923_Exponent']) )  )  ))   #插入VG922        \n",
    "    dfname.insert(8,'VG923' ,np.log10(dfname['Vacuum Data_VG923_Mantissa']*(np.power(10.,(dfname['Vacuum Data_VG922_Exponent']) )  )  ))   #插入VG923        \n",
    "    \n",
    "    #取代上午/下午\n",
    "    # df.loc[df.First_name != 'Bill', 'name_match'] = 'Mis-Match'  \n",
    "    dfname.loc[dfname.DateTime.str.contains(\"上午\") , 'DateTime24'] =  dfname.DateTime.str.replace('上午','') +\"AM\" \n",
    "    dfname.loc[dfname.DateTime.str.contains(\"下午\") , 'DateTime24'] =  dfname.DateTime.str.replace('下午','') +\"PM\"        \n",
    "\n",
    "    #轉換 DateTime 24小時制\n",
    "    dfname.DateTime24 = pd.to_datetime( dfname.DateTime24 ).dt.strftime('%Y-%m-%d %H:%M:%S')\n",
    "    \n",
    "    # 移動排序 DateTime24\n",
    "    cols = list(dfname)\n",
    "    cols.insert(0,cols.pop(cols.index('DateTime24')))\n",
    "    dfname = dfname.loc[:,cols]\n",
    "    \n",
    "    # dfname['new_DateTime']=dfname.new_DateTime(1)\n",
    "\n",
    "    # Row 排序\n",
    "    #dfname.sort(['DateTime'], ascending=[1])\n",
    "    dfname.sort_values(by=['filename', 'DateTime24'] )  \n",
    "    \n",
    "    #  刪除重複row    \n",
    "    dfname.drop_duplicates( ['filename', 'DateTime24' ] , keep = 'first' ,inplace=True)   \n",
    "    \n",
    "    # 插入rownum\n",
    "    dfname.insert(1,'rownum' , np.arange(len(dfname)) )\n",
    "    dfClean = dfname\n",
    "    dfClean.to_csv(SaveFile_Path+'/'+ SaveFile_Name,encoding=\"utf_8\",index=False, header=True, mode='a+')  # 儲存 Column Name\n",
    "   "
   ]
  }
 ],
 "metadata": {
  "kernelspec": {
   "display_name": "Python 3",
   "language": "python",
   "name": "python3"
  },
  "language_info": {
   "codemirror_mode": {
    "name": "ipython",
    "version": 3
   },
   "file_extension": ".py",
   "mimetype": "text/x-python",
   "name": "python",
   "nbconvert_exporter": "python",
   "pygments_lexer": "ipython3",
   "version": "3.6.4"
  }
 },
 "nbformat": 4,
 "nbformat_minor": 2
}
