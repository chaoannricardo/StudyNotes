{
 "cells": [
  {
   "cell_type": "code",
   "execution_count": 1,
   "metadata": {},
   "outputs": [
    {
     "name": "stdout",
     "output_type": "stream",
     "text": [
      "\n",
      "\n",
      "Importing packages needed...\n",
      "Packages imported successfully.\n"
     ]
    }
   ],
   "source": [
    "print()\n",
    "print()\n",
    "\n",
    "print('Importing packages needed...')\n",
    "import os\n",
    "import re\n",
    "import pandas as pd\n",
    "import numpy as np\n",
    "import ftplib\n",
    "from ftplib import FTP\n",
    "import sys\n",
    "from os import listdir\n",
    "from os.path import isfile, join\n",
    "import http.client\n",
    "\n",
    "while True:\n",
    "    try:\n",
    "        import pymysql\n",
    "    except BaseException:\n",
    "        print(\"Have you installed PyMySQL Package within your local system? If not, install it.\")\n",
    "        print(\"================= The program has been terminated =================.\")\n",
    "        print(\"Reminder: Try again after fulfilling the requirements.\")\n",
    "        break\n",
    "    else:\n",
    "        break\n",
    "\n",
    "\n",
    "print('Packages imported successfully.')"
   ]
  },
  {
   "cell_type": "code",
   "execution_count": 2,
   "metadata": {},
   "outputs": [
    {
     "name": "stdout",
     "output_type": "stream",
     "text": [
      "\n",
      "\n",
      "Python working directory has now been changed to C:\\Users\\1907075\\PythonNotebook\\TempData\n",
      "Program would then continue.\n"
     ]
    }
   ],
   "source": [
    "# Change working directory tempData directory\n",
    "print()\n",
    "print()\n",
    "\n",
    "while True:\n",
    "    try:\n",
    "        os.chdir('./TempData')\n",
    "    except BaseException:\n",
    "        pathnow = os.getcwd()\n",
    "        print('Working directory now:', pathnow)\n",
    "        print(\"Have you created 'TempData' directory within python working directory? If not, create it.\")\n",
    "        print(\"================= The program has been terminated =================.\")\n",
    "        print(\"Reminder: Try again after fulfilling the requirements.\")\n",
    "        break\n",
    "    else:\n",
    "        pathnow = os.getcwd()\n",
    "        print(\"Python working directory has now been changed to\", pathnow)\n",
    "        print('Program would then continue.')\n",
    "        break"
   ]
  },
  {
   "cell_type": "code",
   "execution_count": 5,
   "metadata": {},
   "outputs": [
    {
     "data": {
      "text/plain": [
       "'\\nimport requests\\n\\nproxies = {\\n  \"http\": \"http://auhqproxy.corpnet.auo.com:8083/\",}\\n\\nrequestFile = requests.get(\"http://10.31.141.17/AIP04_LOG/20190701/FR29G6PR60P03.txt\", proxies=proxies)\\n\\nopen(\\'./requestFile.txt\\', \\'wb\\').write(requestFile.content)\\n'"
      ]
     },
     "execution_count": 5,
     "metadata": {},
     "output_type": "execute_result"
    }
   ],
   "source": [
    "# 無法連接，似乎又是防火牆那邊的問題\n",
    "\n",
    "'''\n",
    "import urllib.request\n",
    "import requests\n",
    "url = 'http://10.31.141.17/AIP04_LOG/20190101/20190101045546.txt'\n",
    "print(\"downloading with urllib\")\n",
    "urllib.request.urlretrieve(url, \"Test.txt\")\n",
    "'''\n",
    "\n",
    "'''\n",
    "import requests \n",
    "url = 'http://10.31.141.17:'\n",
    "myfile = requests.get(url)\n",
    "'''\n",
    "\n",
    "# Proxy 嘗試 -------------------------------------------------------\n",
    "# using urllib\n",
    "#import urllib.request\n",
    "#proxy=\"http://auhqproxy.corpnet.auo.com:8083/\"\n",
    "# Build ProxyHandler object by given proxy\n",
    "#proxy_support=urllib.request.ProxyHandler({'http':proxy})\n",
    "# Build opener with ProxyHandler object\n",
    "#opener = urllib.request.build_opener(proxy_support)\n",
    "# Install opener to request\n",
    "#urllib.request.install_opener(opener)\n",
    "# Open url\n",
    "#r = urllib.request.urlopen('http://10.31.141.17',timeout = 1000)\n",
    "\n",
    "# using request\n",
    "'''\n",
    "import requests\n",
    "\n",
    "proxies = {\n",
    "  \"http\": \"http://auhqproxy.corpnet.auo.com:8083/\",}\n",
    "\n",
    "requestFile = requests.get(\"http://10.31.141.17/AIP04_LOG/20190701/FR29G6PR60P03.txt\", proxies=proxies)\n",
    "\n",
    "open('./requestFile.txt', 'wb').write(requestFile.content)\n",
    "'''"
   ]
  },
  {
   "cell_type": "code",
   "execution_count": 2,
   "metadata": {},
   "outputs": [
    {
     "name": "stdout",
     "output_type": "stream",
     "text": [
      "['<HTML>', '<Head>', '<TITLE>404 Not Found', '</TITLE>', '</HEAD>', '<BODY bgcolor=\"#FFFFFF\"><h1>', '404 Not Found', '</h1>', '</BODY>', '</HTML>']\n"
     ]
    }
   ],
   "source": [
    "# 讀取log檔\n",
    "import csv\n",
    "#with open(\"D:/Storage/Project/Data/GA29G6K600P06.txt\") as file:\n",
    "#    lines = file.read().splitlines(False)\n",
    "with open(\"./requestFile.txt\") as file:\n",
    "    lines = file.read().splitlines(False)\n",
    "    \n",
    "print(lines)"
   ]
  },
  {
   "cell_type": "code",
   "execution_count": null,
   "metadata": {},
   "outputs": [],
   "source": [
    "# Connect to MySQl Database\n",
    "while True:\n",
    "    try:\n",
    "        print('Connecting to MySQl Database....')\n",
    "        conn = pymysql.connect(host='10.30.10.64', port=3306, user='Tableau', passwd='l6b$cell', db='l6b_Db')\n",
    "        cur = conn.cursor()\n",
    "    except BaseException:\n",
    "        print(\"Unable to connect to MySQl Database.\")\n",
    "        print(\"================= The program has been terminated =================.\")\n",
    "        print(\"Reminder: Try again after fulfilling the requirements.\")\n",
    "        break\n",
    "    else:\n",
    "        print(\"Sucessfully connected\")\n",
    "        print('Program would then continue.')\n",
    "        print()\n",
    "        print()\n",
    "        print()\n",
    "        break"
   ]
  },
  {
   "cell_type": "code",
   "execution_count": null,
   "metadata": {},
   "outputs": [],
   "source": [
    "# 開始對log file實行數據清理\n",
    "tempData = []\n",
    "encoding = 'utf-8'\n",
    "\n",
    "# 抓取SheetID, ModelNo\n",
    "for i in range(len(lines)):\n",
    "    string = lines[i]\n",
    "    regex = re.compile('^002')\n",
    "    match = regex.search(string)\n",
    "    if str(match) != 'None':\n",
    "            sheetID = lines[i][4:17]\n",
    "            modelNo = lines[i][54:67]\n",
    "            \n",
    "# 抓取\"814\"開頭的資料列\n",
    "for i in range(len(lines)):\n",
    "    string = lines[i]\n",
    "    regex = re.compile('^814')\n",
    "    match = regex.search(string)\n",
    "    if str(match) != 'None':\n",
    "            tempData.append(lines[i])\n",
    "# 將\"814\"開頭的資料列匯出成csv，並準備重新讀入\n",
    "with open(\"./tempOutput.csv\", 'w') as f:\n",
    "    for item in tempData:\n",
    "        f.write(\"%s\\n\" % item)\n",
    "# 將\"814\"開頭的資料重新讀入，並去除814開頭\n",
    "tempInput = pd.read_csv(\"./tempOutput.csv\", sep=',', header=None)\n",
    "tempInput.columns = [\"ChipNo\", \"WinNo\", \"水平垂直\", \"偏移量_um\", \"偏移量_pixel\", \"判定\", \"ROI左上角x座標um\", \"ROI左上角y座標um\", \"ROI右下角x座標um\", \"ROI右下角y座標um\", \"caption\", \"PI偏移上限_um\", \"PI偏移下限\"]\n",
    "listChipNo = tempInput[\"ChipNo\"].tolist()\n",
    "for i in range(len(listChipNo)):\n",
    "    listChipNo[i] = listChipNo[i][4:]\n",
    "tempInput[\"ChipNo\"] = listChipNo\n",
    "tempInput[\"SheetID\"] = sheetID\n",
    "tempInput[\"ModelNo\"] = modelNo\n",
    "\n",
    "print('Inserted Data Preview: ',tempInput\n",
    "\n",
    "# Insert combined pandas dataframe into MySQL Database\n",
    "importedData.to_sql(con=conn, name='vas_pressure_trans', if_exists='append', flavor='mysql')\n",
    "print(filename,'has been inserted into MySQl database.')"
   ]
  },
  {
   "cell_type": "code",
   "execution_count": null,
   "metadata": {},
   "outputs": [],
   "source": [
    "# Connect to FTP and print out the directory\n",
    "print()\n",
    "print()\n",
    "\n",
    "while True:\n",
    "    try:\n",
    "        ftp = ftplib.FTP('10.31.141.17')\n",
    "    except BaseException:\n",
    "        print(\"Unable to connect to FTP site.\")\n",
    "        print(\"================= The program has been terminated =================.\")\n",
    "        print(\"Reminder: Try again after fulfilling the requirements.\")\n",
    "        break\n",
    "    else:\n",
    "        pathnow = os.getcwd()\n",
    "        print(\"Connected successfully\")\n",
    "        print('Program would then continue.')\n",
    "        break\n",
    "        \n"
   ]
  },
  {
   "cell_type": "code",
   "execution_count": null,
   "metadata": {},
   "outputs": [],
   "source": []
  },
  {
   "cell_type": "code",
   "execution_count": null,
   "metadata": {},
   "outputs": [],
   "source": []
  },
  {
   "cell_type": "code",
   "execution_count": null,
   "metadata": {},
   "outputs": [],
   "source": []
  },
  {
   "cell_type": "code",
   "execution_count": null,
   "metadata": {},
   "outputs": [],
   "source": []
  },
  {
   "cell_type": "code",
   "execution_count": null,
   "metadata": {},
   "outputs": [],
   "source": []
  },
  {
   "cell_type": "code",
   "execution_count": null,
   "metadata": {},
   "outputs": [],
   "source": []
  },
  {
   "cell_type": "code",
   "execution_count": null,
   "metadata": {},
   "outputs": [],
   "source": []
  },
  {
   "cell_type": "code",
   "execution_count": null,
   "metadata": {},
   "outputs": [],
   "source": []
  },
  {
   "cell_type": "code",
   "execution_count": null,
   "metadata": {},
   "outputs": [],
   "source": []
  },
  {
   "cell_type": "code",
   "execution_count": null,
   "metadata": {},
   "outputs": [],
   "source": []
  },
  {
   "cell_type": "code",
   "execution_count": null,
   "metadata": {},
   "outputs": [],
   "source": []
  }
 ],
 "metadata": {
  "kernelspec": {
   "display_name": "Python 3",
   "language": "python",
   "name": "python3"
  },
  "language_info": {
   "codemirror_mode": {
    "name": "ipython",
    "version": 3
   },
   "file_extension": ".py",
   "mimetype": "text/x-python",
   "name": "python",
   "nbconvert_exporter": "python",
   "pygments_lexer": "ipython3",
   "version": "3.6.4"
  }
 },
 "nbformat": 4,
 "nbformat_minor": 2
}
