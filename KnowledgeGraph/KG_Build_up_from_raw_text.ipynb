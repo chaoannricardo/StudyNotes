{
 "cells": [
  {
   "cell_type": "markdown",
   "metadata": {},
   "source": [
    "# KG Build up Initial try\n",
    "#### Reference: https://www.analyticsvidhya.com/blog/2019/10/how-to-build-knowledge-graph-text-using-spacy/"
   ]
  },
  {
   "cell_type": "code",
   "execution_count": 4,
   "metadata": {},
   "outputs": [
    {
     "name": "stdout",
     "output_type": "stream",
     "text": [
      "The ... det\n",
      "22-year ... npadvmod\n",
      "- ... punct\n",
      "old ... nsubj\n",
      "recently ... advmod\n",
      "won ... ROOT\n",
      "ATP ... compound\n",
      "Challenger ... compound\n",
      "tournament ... dobj\n",
      ". ... punct\n"
     ]
    }
   ],
   "source": [
    "import spacy\n",
    "\n",
    "# OSError Solution\n",
    "# Reference: https://github.com/explosion/spaCy/issues/4577\n",
    "# pip3 install https://github.com/explosion/spacy-models/releases/download/en_core_web_sm-2.2.0/en_core_web_sm-2.2.0.tar.gz\n",
    "nlp = spacy.load('en_core_web_sm')\n",
    "\n",
    "doc = nlp(\"The 22-year-old recently won ATP Challenger tournament.\")\n",
    "\n",
    "for tok in doc:\n",
    "    print(tok.text, \"...\", tok.dep_)"
   ]
  },
  {
   "cell_type": "code",
   "execution_count": 5,
   "metadata": {},
   "outputs": [
    {
     "name": "stdout",
     "output_type": "stream",
     "text": [
      "Nagal ... nsubj\n",
      "won ... ROOT\n",
      "the ... det\n",
      "first ... amod\n",
      "set ... dobj\n",
      ". ... punct\n"
     ]
    }
   ],
   "source": [
    "doc = nlp(\"Nagal won the first set.\")\n",
    "\n",
    "# To extract the relation, we have to find the ROOT of the sentence.\n",
    "# (which is also the verb of the sentence)\n",
    "# Hence, the relation extracted from this sentence would be “won”.\n",
    "for tok in doc:\n",
    "    print(tok.text, \"...\", tok.dep_)"
   ]
  }
 ],
 "metadata": {
  "kernelspec": {
   "display_name": "normal",
   "language": "python",
   "name": "normal"
  },
  "language_info": {
   "codemirror_mode": {
    "name": "ipython",
    "version": 3
   },
   "file_extension": ".py",
   "mimetype": "text/x-python",
   "name": "python",
   "nbconvert_exporter": "python",
   "pygments_lexer": "ipython3",
   "version": "3.7.7"
  }
 },
 "nbformat": 4,
 "nbformat_minor": 4
}
