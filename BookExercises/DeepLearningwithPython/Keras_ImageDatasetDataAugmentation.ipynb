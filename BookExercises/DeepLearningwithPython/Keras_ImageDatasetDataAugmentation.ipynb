{
 "cells": [
  {
   "cell_type": "markdown",
   "metadata": {},
   "source": [
    "###### Reference: \n",
    "    https://chtseng.wordpress.com/2017/11/11/data-augmentation-%E8%B3%87%E6%96%99%E5%A2%9E%E5%BC%B7/\n",
    "    https://keras.io/zh/preprocessing/image/\n",
    "    https://github.com/ch-tseng/data-augmentation-Keras/blob/master/DataAugmentation-1.ipynb"
   ]
  },
  {
   "cell_type": "code",
   "execution_count": null,
   "metadata": {},
   "outputs": [],
   "source": [
    "# Import class to enable data augmentation feature.\n",
    "import cv2\n",
    "from matplotlib import pyplot as plt\n",
    "# Plot inline\n",
    "%matplotlib inline\n",
    "from pylab import rcParams\n",
    "rcParams['figure.figsize'] = 15, 15\n",
    "from keras.preprocessing.image import ImageDataGenerator, array_to_img, img_to_array, load_img"
   ]
  },
  {
   "cell_type": "code",
   "execution_count": null,
   "metadata": {},
   "outputs": [],
   "source": [
    "# Change working directory\n",
    "import os\n",
    "os.chdir('C:/Users/1907075/Project/OM_Original/1/TrainDefect')\n",
    "print('Current working directory is',os.getcwd())"
   ]
  },
  {
   "cell_type": "code",
   "execution_count": null,
   "metadata": {},
   "outputs": [],
   "source": [
    "# Define ImageDataGenerator function\n",
    "datagen = ImageDataGenerator(\n",
    "    zca_whitening=False,\n",
    "    rotation_range=40,\n",
    "    width_shift_range=0.2,\n",
    "    height_shift_range=0.2,\n",
    "    shear_range=0.2,\n",
    "    zoom_range=0.2,\n",
    "    horizontal_flip=True,\n",
    "    fill_mode='nearest')"
   ]
  },
  {
   "cell_type": "code",
   "execution_count": null,
   "metadata": {},
   "outputs": [],
   "source": [
    "from os import listdir\n",
    "from os.path import isfile, join\n",
    "onlyfiles = [f for f in listdir('.') if isfile(join('.', f))]\n",
    "\n",
    "for index,filename in enumerate(onlyfiles):\n",
    "    imgForTest = filename\n",
    "    img = cv2.imread(imgForTest)  # this is a PIL image\n",
    "    img = cv2.cvtColor(img, cv2.COLOR_BGR2RGB)\n",
    "    #plt.imshow(img)\n",
    "    #print(img.shape)\n",
    "    img = img.reshape((1,) + img.shape)\n",
    "    #print(img.shape)\n",
    "    #x = img_to_array(img)  # this is a Numpy array with shape (3, 150, 150)\n",
    "    #x = x.reshape((1,) + x.shape)  # this is a Numpy array with shape (1, 3, 150, 150)\n",
    "    i = 0\n",
    "    for batch in datagen.flow(img, batch_size=10,\n",
    "                          save_to_dir='AugmentationData', save_prefix='AUG_DEFECT', save_format='jpg'):\n",
    "        plt.subplot(5,10,1 + i)\n",
    "        plt.axis(\"off\")\n",
    "    \n",
    "        augImage = batch[0]\n",
    "        augImage = augImage.astype('float32')\n",
    "        augImage /= 255\n",
    "        plt.imshow(augImage)\n",
    "    \n",
    "        i += 1\n",
    "        if i > 49:\n",
    "            break  # otherwise the generator would loop indefinitely\n",
    "    print(filename, 'Augmentation Completed.')"
   ]
  },
  {
   "cell_type": "markdown",
   "metadata": {},
   "source": [
    "# Original Code Without Gathering"
   ]
  },
  {
   "cell_type": "code",
   "execution_count": null,
   "metadata": {},
   "outputs": [],
   "source": [
    "# Import image\n",
    "imgForTest = \"./20190712-17.jpg\""
   ]
  },
  {
   "cell_type": "code",
   "execution_count": null,
   "metadata": {},
   "outputs": [],
   "source": [
    "img = cv2.imread(imgForTest)  # this is a PIL image\n",
    "img = cv2.cvtColor(img, cv2.COLOR_BGR2RGB)\n",
    "    \n",
    "plt.imshow(img)\n",
    "print(img.shape)\n",
    "img = img.reshape((1,) + img.shape)\n",
    "print(img.shape)\n",
    "#x = img_to_array(img)  # this is a Numpy array with shape (3, 150, 150)\n",
    "#x = x.reshape((1,) + x.shape)  # this is a Numpy array with shape (1, 3, 150, 150)"
   ]
  },
  {
   "cell_type": "code",
   "execution_count": null,
   "metadata": {},
   "outputs": [],
   "source": [
    "from os import listdir\n",
    "from os.path import isfile, join\n",
    "onlyfiles = [f for f in listdir('.') if isfile(join('.', f))]\n",
    "print(onlyfiles)"
   ]
  },
  {
   "cell_type": "code",
   "execution_count": null,
   "metadata": {},
   "outputs": [],
   "source": [
    "i = 0\n",
    "for batch in datagen.flow(img, batch_size=10,\n",
    "                          save_to_dir='AugmentationData', save_prefix='AUG', save_format='jpg'):\n",
    "    plt.subplot(5,10,1 + i)\n",
    "    plt.axis(\"off\")\n",
    "    \n",
    "    augImage = batch[0]\n",
    "    augImage = augImage.astype('float32')\n",
    "    augImage /= 255\n",
    "    plt.imshow(augImage)\n",
    "    \n",
    "    i += 1\n",
    "    if i > 49:\n",
    "        break  # otherwise the generator would loop indefinitely"
   ]
  },
  {
   "cell_type": "code",
   "execution_count": null,
   "metadata": {},
   "outputs": [],
   "source": [
    "# Change working directory\n",
    "import os\n",
    "from os import listdir\n",
    "from os.path import isfile, join\n",
    "os.chdir(\"C:/Users/1907075/Project/Test\")\n",
    "onlyfiles = [f for f in listdir('.') if isfile(join('.', f))]\n",
    "print(onlyfiles)"
   ]
  }
 ],
 "metadata": {
  "kernelspec": {
   "display_name": "Python 3",
   "language": "python",
   "name": "python3"
  },
  "language_info": {
   "codemirror_mode": {
    "name": "ipython",
    "version": 3
   },
   "file_extension": ".py",
   "mimetype": "text/x-python",
   "name": "python",
   "nbconvert_exporter": "python",
   "pygments_lexer": "ipython3",
   "version": "3.7.3"
  }
 },
 "nbformat": 4,
 "nbformat_minor": 2
}
