{
 "cells": [
  {
   "cell_type": "markdown",
   "metadata": {},
   "source": [
    "# Keras Predict Image Classes"
   ]
  },
  {
   "cell_type": "markdown",
   "metadata": {},
   "source": [
    "###### Reference: \n",
    "    https://androidkt.com/how-to-predict-images-using-trained-keras-model/\n",
    "    https://blog.gtwang.org/programming/opencv-basic-image-read-and-write-tutorial/\n",
    "   "
   ]
  },
  {
   "cell_type": "markdown",
   "metadata": {},
   "source": [
    "## Evaluate Model"
   ]
  },
  {
   "cell_type": "code",
   "execution_count": null,
   "metadata": {},
   "outputs": [],
   "source": [
    "from keras.models import load_model\n",
    "from keras.preprocessing import image\n",
    "from keras.preprocessing.image import ImageDataGenerator\n",
    "from keras import optimizers\n",
    "import numpy as np\n",
    "import os\n",
    "\n",
    "# path to model\n",
    "model_path = 'OM_Check.h5'\n",
    "\n",
    "# load the trained model\n",
    "model = load_model(model_path)\n",
    "model.compile(loss='binary_crossentropy',\n",
    "             optimizer=optimizers.RMSprop(lr=1e-4),\n",
    "             metrics=['acc'])\n",
    "\n",
    "test_dir = './OM_test'\n",
    "\n",
    "test_datagen = ImageDataGenerator(rescale=1./255)\n",
    "\n",
    "test_generator = test_datagen.flow_from_directory(\n",
    "    test_dir,\n",
    "    target_size=(640,480),\n",
    "    batch_size=20,\n",
    "    class_mode='binary')\n",
    "\n",
    "test_loss, test_acc = model.evaluate_generator(test_generator, steps=50)\n",
    "print('test acc:', test_acc)"
   ]
  },
  {
   "cell_type": "markdown",
   "metadata": {},
   "source": [
    "# Predict Classes by Keras"
   ]
  },
  {
   "cell_type": "code",
   "execution_count": null,
   "metadata": {},
   "outputs": [],
   "source": [
    "from keras.models import load_model\n",
    "import matplotlib.pyplot as plt\n",
    "import cv2\n",
    "import numpy as np\n",
    "import os\n",
    "\n",
    "model = load_model('OM_Check_WithDropoutAndDataAugmentation.h5')\n",
    "model.compile(loss='binary_crossentropy',\n",
    "              optimizer='rmsprop',\n",
    "              metrics=['accuracy'])\n",
    "\n",
    "directory = os.listdir('C:/Users/1907075/Project/OM_test/1')\n",
    "\n",
    "fig = plt.figure(figsize=(20, 20))\n",
    "\n",
    "for index, file in enumerate(directory):\n",
    "    fig.add_subplot(4,6, index+1)\n",
    "    file_path = os.path.join('C:/Users/1907075/Project/OM_test/1/', file)\n",
    "    img = cv2.imread(file_path)\n",
    "    img_org = img\n",
    "    img = cv2.resize(img,(640,480))\n",
    "    img = np.reshape(img,[1,640,480,3])\n",
    "    classes = model.predict_classes(img)\n",
    "    if classes == 0:\n",
    "        classes = 'NG'\n",
    "    if classes == 1:\n",
    "        classes = 'OK'\n",
    "    plt_img = img_org[:,:,::-1]\n",
    "    plt.imshow(plt_img/256.)\n",
    "    title = str(file) + '_' + str(classes)\n",
    "    plt.title(title)\n",
    "\n",
    "plt.savefig('predict.png')"
   ]
  }
 ],
 "metadata": {
  "kernelspec": {
   "display_name": "Python 3",
   "language": "python",
   "name": "python3"
  },
  "language_info": {
   "codemirror_mode": {
    "name": "ipython",
    "version": 3
   },
   "file_extension": ".py",
   "mimetype": "text/x-python",
   "name": "python",
   "nbconvert_exporter": "python",
   "pygments_lexer": "ipython3",
   "version": "3.7.3"
  }
 },
 "nbformat": 4,
 "nbformat_minor": 2
}
