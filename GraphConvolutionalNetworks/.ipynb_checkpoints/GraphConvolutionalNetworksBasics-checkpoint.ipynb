{
 "cells": [
  {
   "attachments": {},
   "cell_type": "markdown",
   "metadata": {},
   "source": [
    "# Graph Convolutional Networks Basics"
   ]
  },
  {
   "cell_type": "markdown",
   "metadata": {},
   "source": [
    "<img src=\"./PictureSources/0.PNG\" width=300px align=\"left\"></img>"
   ]
  },
  {
   "cell_type": "code",
   "execution_count": 19,
   "metadata": {},
   "outputs": [
    {
     "name": "stdout",
     "output_type": "stream",
     "text": [
      "graph relations\n",
      "[[0. 0. 0. 1.]\n",
      " [1. 0. 1. 0.]\n",
      " [0. 1. 0. 1.]\n",
      " [0. 1. 0. 0.]]\n",
      "\n",
      "feature matrix\n",
      "[[ 0.  0.]\n",
      " [ 1. -1.]\n",
      " [ 2. -2.]\n",
      " [ 3. -3.]]\n",
      "\n",
      "output\n",
      "[[ 3. -3.]\n",
      " [ 2. -2.]\n",
      " [ 4. -4.]\n",
      " [ 1. -1.]]\n"
     ]
    }
   ],
   "source": [
    "import numpy as np\n",
    "\n",
    "# 1: 有被指，0: 沒有被指\n",
    "graph = np.matrix(\n",
    "    [[0, 0, 0, 1],\n",
    "    [1, 0, 1, 0],\n",
    "    [0, 1, 0, 1],\n",
    "    [0, 1, 0, 0]],\n",
    "    dtype = float\n",
    ")\n",
    "\n",
    "print(\"graph relations\")\n",
    "print(graph)\n",
    "print()\n",
    "\n",
    "feature = np.matrix([[i, -i] for i in range(graph.shape[0])], dtype=float)\n",
    "\n",
    "print(\"feature matrix\")\n",
    "print(feature)\n",
    "print()\n",
    "\n",
    "print(\"output\")\n",
    "print(graph * feature)\n",
    "\n",
    "# 這個矩陣乘法代表了對於每個節點來說，它們的值代表了每個指向該節點的節點們的特徵總和。\n",
    "# 舉例而言，節點 1 的值[ 2., -2.]，即為指向它的節點 0與節點 2 加總而得([ 0., 0.] + [ 2., -2.])。\n",
    "# 這邊可以自己算算看會更有感覺。"
   ]
  }
 ],
 "metadata": {
  "kernelspec": {
   "display_name": "Python 3",
   "language": "python",
   "name": "python3"
  },
  "language_info": {
   "codemirror_mode": {
    "name": "ipython",
    "version": 3
   },
   "file_extension": ".py",
   "mimetype": "text/x-python",
   "name": "python",
   "nbconvert_exporter": "python",
   "pygments_lexer": "ipython3",
   "version": "3.7.6"
  }
 },
 "nbformat": 4,
 "nbformat_minor": 4
}
