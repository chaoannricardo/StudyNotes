{
 "cells": [
  {
   "cell_type": "markdown",
   "metadata": {},
   "source": [
    "# Graph Convolutional Networks Basics"
   ]
  },
  {
   "cell_type": "markdown",
   "metadata": {},
   "source": [
    "<img src=\"./PictureSources/0.PNG\" width=300px align=\"left\"></img>"
   ]
  },
  {
   "cell_type": "code",
   "execution_count": 28,
   "metadata": {},
   "outputs": [
    {
     "name": "stdout",
     "output_type": "stream",
     "text": [
      "graph relations\n",
      " [[0. 0. 0. 1.]\n",
      " [1. 0. 1. 0.]\n",
      " [0. 1. 0. 1.]\n",
      " [0. 1. 0. 0.]]\n",
      "\n",
      "feature matrix\n",
      " [[ 0.  0.]\n",
      " [ 1. -1.]\n",
      " [ 2. -2.]\n",
      " [ 3. -3.]]\n",
      "\n",
      "output\n",
      " [[ 3. -3.]\n",
      " [ 2. -2.]\n",
      " [ 4. -4.]\n",
      " [ 1. -1.]]\n",
      "\n",
      "graph relation hat\n",
      " [[1. 0. 0. 1.]\n",
      " [1. 1. 1. 0.]\n",
      " [0. 1. 1. 1.]\n",
      " [0. 1. 0. 1.]]\n",
      "\n",
      "D\n",
      " [[2. 0. 0. 0.]\n",
      " [0. 3. 0. 0.]\n",
      " [0. 0. 3. 0.]\n",
      " [0. 0. 0. 2.]]\n",
      "\n",
      "result\n",
      " [[0.5        0.         0.         0.5       ]\n",
      " [0.33333333 0.33333333 0.33333333 0.        ]\n",
      " [0.         0.33333333 0.33333333 0.33333333]\n",
      " [0.         0.5        0.         0.5       ]]\n"
     ]
    }
   ],
   "source": [
    "import numpy as np\n",
    "\n",
    "# 1: 有被指，0: 沒有被指\n",
    "graph = np.matrix(\n",
    "    [[0, 0, 0, 1],\n",
    "    [1, 0, 1, 0],\n",
    "    [0, 1, 0, 1],\n",
    "    [0, 1, 0, 0]],\n",
    "    dtype = float\n",
    ")\n",
    "\n",
    "print(\"graph relations\\n\", graph)\n",
    "\n",
    "feature = np.matrix([[i, -i] for i in range(graph.shape[0])], dtype=float)\n",
    "\n",
    "print(\"\\nfeature matrix\\n\", feature)\n",
    "print(\"\\noutput\\n\", graph * feature)\n",
    "\n",
    "# 這個矩陣乘法代表了對於每個節點來說，它們的值代表了每個指向該節點的節點們的特徵總和。\n",
    "# 舉例而言，節點 1 的值[ 2., -2.]，即為指向它的節點 0與節點 2 加總而得([ 0., 0.] + [ 2., -2.])。\n",
    "# 這邊可以自己算算看會更有感覺。\n",
    "\n",
    "I = np.matrix(np.eye(graph .shape[0]))\n",
    "# graph relation matrix with self-added\n",
    "graph_hat = graph + I\n",
    "print(\"\\ngraph relation hat\\n\", graph_hat)\n",
    "\n",
    "D = np.array(np.sum(graph_hat, axis=1)).reshape(-1)\n",
    "D = np.matrix(np.diag(D))\n",
    "print(\"\\nD\\n\", D)\n",
    "\n",
    "print(\"\\nresult\\n\", (D ** -1) * graph_hat)"
   ]
  },
  {
   "cell_type": "markdown",
   "metadata": {},
   "source": [
    "# Basic GCN Model"
   ]
  },
  {
   "cell_type": "code",
   "execution_count": 10,
   "metadata": {},
   "outputs": [],
   "source": [
    "from networkx import *\n",
    "import numpy as np\n",
    "\n",
    "zkc = karate_club_graph()\n",
    "order = sorted(list(zkc.nodes()))\n",
    "# print(order)\n",
    "A = to_numpy_matrix(zkc, nodelist=order)\n",
    "I = np.eye(zkc.number_of_nodes())\n",
    "\n",
    "A_hat = A + I # 有自循環的相鄰矩陣\n",
    "D_hat = np.array(np.sum(A_hat, 1)).reshape(-1)\n",
    "D_hat = np.matrix(np.diag(D_hat))"
   ]
  },
  {
   "cell_type": "code",
   "execution_count": 17,
   "metadata": {},
   "outputs": [
    {
     "name": "stdout",
     "output_type": "stream",
     "text": [
      "(34, 34)\n"
     ]
    }
   ],
   "source": [
    "'''\n",
    "dataset website:\n",
    "http://konect.cc/networks/ucidata-zachary/\n",
    "http://vlado.fmf.uni-lj.si/pub/networks/data/ucinet/ucidata.htm#zachary\n",
    "http://vlado.fmf.uni-lj.si/pub/networks/data/ucinet/zachary.dat\n",
    "'''"
   ]
  }
 ],
 "metadata": {
  "kernelspec": {
   "display_name": "gcn",
   "language": "python",
   "name": "gcn"
  },
  "language_info": {
   "codemirror_mode": {
    "name": "ipython",
    "version": 3
   },
   "file_extension": ".py",
   "mimetype": "text/x-python",
   "name": "python",
   "nbconvert_exporter": "python",
   "pygments_lexer": "ipython3",
   "version": "3.7.6"
  }
 },
 "nbformat": 4,
 "nbformat_minor": 4
}
