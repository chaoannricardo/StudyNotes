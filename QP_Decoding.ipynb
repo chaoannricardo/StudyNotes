{
 "cells": [
  {
   "cell_type": "code",
   "execution_count": 1,
   "id": "ace2925d-7268-4069-b88e-70ca7f89287b",
   "metadata": {},
   "outputs": [
    {
     "ename": "LookupError",
     "evalue": "unknown encoding: ",
     "output_type": "error",
     "traceback": [
      "\u001b[1;31m---------------------------------------------------------------------------\u001b[0m",
      "\u001b[1;31mLookupError\u001b[0m                               Traceback (most recent call last)",
      "\u001b[1;32mC:\\Temp/ipykernel_15136/3016303410.py\u001b[0m in \u001b[0;36m<module>\u001b[1;34m\u001b[0m\n\u001b[0;32m      9\u001b[0m \u001b[1;32mfor\u001b[0m \u001b[0mline\u001b[0m \u001b[1;32min\u001b[0m \u001b[0mlines\u001b[0m\u001b[1;33m:\u001b[0m\u001b[1;33m\u001b[0m\u001b[1;33m\u001b[0m\u001b[0m\n\u001b[0;32m     10\u001b[0m     \u001b[0mdecoded_string\u001b[0m \u001b[1;33m=\u001b[0m \u001b[0mquopri\u001b[0m\u001b[1;33m.\u001b[0m\u001b[0mdecodestring\u001b[0m\u001b[1;33m(\u001b[0m\u001b[1;34m\"=C2=BB=C2=AF=C2=A4W=C2=A8=C3=A7\"\u001b[0m\u001b[1;33m)\u001b[0m\u001b[1;33m\u001b[0m\u001b[1;33m\u001b[0m\u001b[0m\n\u001b[1;32m---> 11\u001b[1;33m     \u001b[0mprint\u001b[0m\u001b[1;33m(\u001b[0m\u001b[0mdecoded_string\u001b[0m\u001b[1;33m.\u001b[0m\u001b[0mdecode\u001b[0m\u001b[1;33m(\u001b[0m\u001b[1;34m''\u001b[0m\u001b[1;33m)\u001b[0m\u001b[1;33m)\u001b[0m\u001b[1;33m\u001b[0m\u001b[1;33m\u001b[0m\u001b[0m\n\u001b[0m",
      "\u001b[1;31mLookupError\u001b[0m: unknown encoding: "
     ]
    }
   ],
   "source": [
    "# https://stackoverflow.com/questions/43824650/encoding-issue-decode-quoted-printable-string-in-python\n",
    "\n",
    "import codecs\n",
    "import quopri\n",
    "\n",
    "file_import = codecs.open(\"./new1.UUE\", mode=\"r\", encoding=\"utf8\")\n",
    "lines = file_import.readlines()\n",
    "\n",
    "for line in lines:\n",
    "    decoded_string = quopri.decodestring(\"=C2=BB=C2=AF=C2=A4W=C2=A8=C3=A7\")\n",
    "    print(decoded_string.decode(''))"
   ]
  }
 ],
 "metadata": {
  "kernelspec": {
   "display_name": "Python 3 (ipykernel)",
   "language": "python",
   "name": "python3"
  },
  "language_info": {
   "codemirror_mode": {
    "name": "ipython",
    "version": 3
   },
   "file_extension": ".py",
   "mimetype": "text/x-python",
   "name": "python",
   "nbconvert_exporter": "python",
   "pygments_lexer": "ipython3",
   "version": "3.7.11"
  }
 },
 "nbformat": 4,
 "nbformat_minor": 5
}
