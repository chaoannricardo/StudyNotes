{
 "cells": [
  {
   "cell_type": "code",
   "execution_count": 2,
   "metadata": {},
   "outputs": [],
   "source": [
    "import pandas as pd\n",
    "import numpy as np\n",
    "df = pd.read_csv(\"C:/Users/Student/Desktop/dummy.csv\")"
   ]
  },
  {
   "cell_type": "code",
   "execution_count": 4,
   "metadata": {},
   "outputs": [],
   "source": [
    "y = df['stars_review'].values\n",
    "X = df.drop(['stars_review'], axis=1).values"
   ]
  },
  {
   "cell_type": "code",
   "execution_count": 5,
   "metadata": {},
   "outputs": [
    {
     "name": "stdout",
     "output_type": "stream",
     "text": [
      "Dimensions of y before reshaping: (154910,)\n",
      "Dimensions of X before reshaping: (154910, 31)\n"
     ]
    }
   ],
   "source": [
    "# Print the dimensions of X and y before reshaping\n",
    "print(\"Dimensions of y before reshaping: {}\".format(y.shape))\n",
    "print(\"Dimensions of X before reshaping: {}\".format(X.shape))\n"
   ]
  },
  {
   "cell_type": "code",
   "execution_count": 6,
   "metadata": {},
   "outputs": [
    {
     "name": "stdout",
     "output_type": "stream",
     "text": [
      "R^2: 0.3368707269405661\n",
      "Root Mean Squared Error: 0.23918532927422273\n"
     ]
    },
    {
     "data": {
      "text/plain": [
       "-0.371989805577008"
      ]
     },
     "execution_count": 6,
     "metadata": {},
     "output_type": "execute_result"
    }
   ],
   "source": [
    "# Import necessary modules\n",
    "from sklearn import linear_model\n",
    "from sklearn.linear_model import LinearRegression\n",
    "from sklearn.metrics import mean_squared_error\n",
    "from sklearn.model_selection import train_test_split\n",
    "# Create training and test sets\n",
    "X_train, X_test, y_train, y_test = train_test_split(X, y, test_size = 0.3, random_state=42)\n",
    "# Create the regressor: reg_all\n",
    "reg_all = linear_model.LinearRegression(n_jobs=-1) # n_jobs: CPU used.\n",
    "# Fit the regressor to the training data\n",
    "model = reg_all.fit(X_train, y_train)\n",
    "# Predict on the test data: y_pred\n",
    "y_pred = model.predict(X_test)\n",
    "# Compute and print R^2 and RMSE\n",
    "print(\"R^2: {}\".format(model.score(X_test, y_test))) # \n",
    "rmse = np.sqrt(mean_squared_error(y_test, y_pred))\n",
    "print(\"Root Mean Squared Error: {}\".format(rmse))\n",
    "# Coef, Intercept\n",
    "model.coef_\n",
    "model.intercept_"
   ]
  },
  {
   "cell_type": "code",
   "execution_count": 7,
   "metadata": {},
   "outputs": [
    {
     "data": {
      "text/plain": [
       "numpy.ndarray"
      ]
     },
     "execution_count": 7,
     "metadata": {},
     "output_type": "execute_result"
    }
   ],
   "source": [
    "y_pred\n",
    "type(y_test)"
   ]
  },
  {
   "cell_type": "code",
   "execution_count": 27,
   "metadata": {},
   "outputs": [
    {
     "name": "stdout",
     "output_type": "stream",
     "text": [
      "             0      loss  error_rate\n",
      "0.75  0.571978 -0.237363    0.237363\n",
      "0.50  0.723819  0.447638    0.447638\n",
      "0.75  0.735643 -0.019143    0.019143\n",
      "1.00  1.146858  0.146858    0.146858\n",
      "0.00  0.189854       inf         inf\n",
      "0.25  0.699109  1.796436    1.796436\n",
      "0.00  0.560315       inf         inf\n",
      "0.50  0.622576  0.245151    0.245151\n",
      "0.50  0.516205  0.032410    0.032410\n",
      "0.00  0.508188       inf         inf\n",
      "0.75  0.702769 -0.062975    0.062975\n",
      "1.00  0.602888 -0.397112    0.397112\n",
      "0.50  0.684399  0.368798    0.368798\n",
      "0.75  0.320201 -0.573066    0.573066\n",
      "1.00  0.558761 -0.441239    0.441239\n",
      "0.50  0.613998  0.227995    0.227995\n",
      "1.00  0.630270 -0.369730    0.369730\n",
      "1.00  0.792764 -0.207236    0.207236\n",
      "0.50  0.625098  0.250196    0.250196\n",
      "1.00  0.656411 -0.343589    0.343589\n",
      "0.25  0.600840  1.403359    1.403359\n",
      "0.25  0.667517  1.670068    1.670068\n",
      "0.75  0.641642 -0.144478    0.144478\n",
      "0.00  0.487048       inf         inf\n",
      "0.00  0.196078       inf         inf\n",
      "1.00  0.804010 -0.195990    0.195990\n",
      "0.75  0.666335 -0.111553    0.111553\n",
      "1.00  0.919418 -0.080582    0.080582\n",
      "0.75  0.723510 -0.035320    0.035320\n",
      "0.75  0.731109 -0.025188    0.025188\n",
      "...        ...       ...         ...\n",
      "1.00  0.872978 -0.127022    0.127022\n",
      "0.75  0.678869 -0.094841    0.094841\n",
      "0.75  0.684684 -0.087088    0.087088\n",
      "0.75  0.700505 -0.065993    0.065993\n",
      "0.75  0.596342 -0.204877    0.204877\n",
      "1.00  0.779243 -0.220757    0.220757\n",
      "0.75  0.668082 -0.109224    0.109224\n",
      "0.75  0.237338 -0.683549    0.683549\n",
      "1.00  0.706273 -0.293727    0.293727\n",
      "0.75  0.668000 -0.109333    0.109333\n",
      "0.50  0.465158 -0.069684    0.069684\n",
      "0.75  0.735895 -0.018807    0.018807\n",
      "0.75  0.711195 -0.051740    0.051740\n",
      "0.75  0.785515  0.047354    0.047354\n",
      "0.50  0.562991  0.125981    0.125981\n",
      "1.00  0.849259 -0.150741    0.150741\n",
      "0.75  0.765796  0.021061    0.021061\n",
      "0.50  0.692544  0.385089    0.385089\n",
      "0.00  0.418462       inf         inf\n",
      "0.75  0.613786 -0.181618    0.181618\n",
      "0.75  0.781698  0.042264    0.042264\n",
      "1.00  0.810991 -0.189009    0.189009\n",
      "1.00  0.730107 -0.269893    0.269893\n",
      "0.50  0.657474  0.314948    0.314948\n",
      "0.75  0.723201 -0.035732    0.035732\n",
      "0.75  0.725725 -0.032367    0.032367\n",
      "0.75  0.692180 -0.077093    0.077093\n",
      "0.75  0.679434 -0.094088    0.094088\n",
      "0.50  0.645176  0.290352    0.290352\n",
      "0.75  0.652025 -0.130633    0.130633\n",
      "\n",
      "[46473 rows x 3 columns]\n",
      "[-0.23736285  0.44763816 -0.0191427  ... -0.09408804  0.29035216\n",
      " -0.13063327]\n"
     ]
    },
    {
     "name": "stderr",
     "output_type": "stream",
     "text": [
      "C:\\Users\\Student\\Anaconda3\\lib\\site-packages\\ipykernel_launcher.py:1: RuntimeWarning: divide by zero encountered in true_divide\n",
      "  \"\"\"Entry point for launching an IPython kernel.\n"
     ]
    }
   ],
   "source": [
    "loss = (y_pred-y_test)/y_test\n",
    "\n",
    "df_final = pd.DataFrame(y_pred,y_test)\n",
    "df_final['loss'] = loss\n",
    "df_final['error_rate'] =  np.absolute(loss)\n",
    "\n",
    "print(df_final)\n",
    "print(loss)"
   ]
  },
  {
   "cell_type": "code",
   "execution_count": null,
   "metadata": {},
   "outputs": [],
   "source": []
  }
 ],
 "metadata": {
  "kernelspec": {
   "display_name": "Python 3",
   "language": "python",
   "name": "python3"
  },
  "language_info": {
   "codemirror_mode": {
    "name": "ipython",
    "version": 3
   },
   "file_extension": ".py",
   "mimetype": "text/x-python",
   "name": "python",
   "nbconvert_exporter": "python",
   "pygments_lexer": "ipython3",
   "version": "3.7.3"
  }
 },
 "nbformat": 4,
 "nbformat_minor": 2
}
