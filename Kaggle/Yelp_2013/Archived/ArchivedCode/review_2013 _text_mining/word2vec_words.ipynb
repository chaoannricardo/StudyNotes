{
 "cells": [
  {
   "cell_type": "code",
   "execution_count": null,
   "metadata": {},
   "outputs": [],
   "source": [
    "import gensim\n",
    "from gensim.models import word2vec\n",
    "import logging\n",
    "logging.basicConfig(format='%(asctime)s : %(levelname)s : %(message)s', level=logging.INFO)\n",
    "sentences = word2vec.Text8Corpus('text8')\n",
    "model = word2vec.Word2Vec(sentences, sg=1, size=200,  window=5,  min_count=5,  negative=3, sample=0.001, hs=1, workers=4)\n",
    "model.save('text82.model')\n",
    "print(model['man'])\n"
   ]
  },
  {
   "cell_type": "code",
   "execution_count": null,
   "metadata": {},
   "outputs": [],
   "source": [
    "# with open('text8','r',encoding='utf-8') as file:\n",
    "#     for line in file.readlines():\n",
    "#         print(line)"
   ]
  },
  {
   "cell_type": "code",
   "execution_count": null,
   "metadata": {},
   "outputs": [],
   "source": [
    "# a = 0\n",
    "# b = 0\n",
    "# with open('text8','r',encoding='utf-8') as file:\n",
    "#     line = file.read()\n",
    "#     for char in line:\n",
    "#         b+=1\n",
    "#         print(char,end='')\n",
    "#         if b-a == 100:\n",
    "#             a = b\n",
    "#             print('\\n')\n",
    "#         if a == 5000:\n",
    "#             break"
   ]
  },
  {
   "cell_type": "code",
   "execution_count": null,
   "metadata": {},
   "outputs": [],
   "source": [
    "# model.wv.most_similar(positive=['woman','man','kiss','love'],negative=['girl'],topn=5)"
   ]
  },
  {
   "cell_type": "code",
   "execution_count": null,
   "metadata": {},
   "outputs": [],
   "source": [
    "# model.wv.doesnt_match(['fuck','head','foot','hand'])"
   ]
  },
  {
   "cell_type": "code",
   "execution_count": 21,
   "metadata": {},
   "outputs": [
    {
     "name": "stderr",
     "output_type": "stream",
     "text": [
      "2019-06-13 09:35:49,950 : INFO : loading Word2Vec object from text82.model\n",
      "2019-06-13 09:35:49,953 : WARNING : this function is deprecated, use smart_open.open instead\n",
      "2019-06-13 09:35:50,406 : INFO : loading wv recursively from text82.model.wv.* with mmap=None\n",
      "2019-06-13 09:35:50,407 : INFO : loading vectors from text82.model.wv.vectors.npy with mmap=None\n",
      "2019-06-13 09:35:50,437 : INFO : setting ignored attribute vectors_norm to None\n",
      "2019-06-13 09:35:50,437 : INFO : loading vocabulary recursively from text82.model.vocabulary.* with mmap=None\n",
      "2019-06-13 09:35:50,438 : INFO : loading trainables recursively from text82.model.trainables.* with mmap=None\n",
      "2019-06-13 09:35:50,439 : INFO : loading syn1 from text82.model.trainables.syn1.npy with mmap=None\n",
      "2019-06-13 09:35:50,472 : INFO : loading syn1neg from text82.model.trainables.syn1neg.npy with mmap=None\n",
      "2019-06-13 09:35:50,509 : INFO : setting ignored attribute cum_table to None\n",
      "2019-06-13 09:35:50,511 : INFO : loaded text82.model\n"
     ]
    }
   ],
   "source": [
    "import numpy as np\n",
    "import gensim\n",
    "from gensim.models import word2vec\n",
    "import logging\n",
    "logging.basicConfig(format='%(asctime)s : %(levelname)s : %(message)s', level=logging.INFO)\n",
    "model = word2vec.Word2Vec.load('text82.model')"
   ]
  },
  {
   "cell_type": "code",
   "execution_count": null,
   "metadata": {},
   "outputs": [],
   "source": [
    "#a=list(model['man'])\n",
    "#a"
   ]
  },
  {
   "cell_type": "code",
   "execution_count": 2,
   "metadata": {},
   "outputs": [
    {
     "name": "stderr",
     "output_type": "stream",
     "text": [
      "C:\\ProgramData\\Anaconda3\\lib\\site-packages\\ipykernel_launcher.py:8: DeprecationWarning: Call to deprecated `__contains__` (Method will be removed in 4.0.0, use self.wv.__contains__() instead).\n",
      "  \n",
      "C:\\ProgramData\\Anaconda3\\lib\\site-packages\\ipykernel_launcher.py:9: DeprecationWarning: Call to deprecated `__getitem__` (Method will be removed in 4.0.0, use self.wv.__getitem__() instead).\n",
      "  if __name__ == '__main__':\n"
     ]
    }
   ],
   "source": [
    "import numpy as np\n",
    "import pandas as pd\n",
    "positive_word = pd.read_csv('positive_words.csv',encoding = \"ISO-8859-1\")\n",
    "words = positive_word['words']\n",
    "\n",
    "positive_dict = {}\n",
    "for word in words:\n",
    "    if word in model:\n",
    "        positive_dict.update({word:model[word]})\n",
    "        #print(word+\":\" )\n",
    "        #print(model[word])\n",
    "    else:\n",
    "        continue\n",
    "positiveword = pd.DataFrame.from_dict(positive_dict,  orient='index')"
   ]
  },
  {
   "cell_type": "code",
   "execution_count": 3,
   "metadata": {},
   "outputs": [],
   "source": [
    "idx=positiveword.index\n",
    "np_one=np.ones((1,1433),dtype=int)\n",
    "df_one=pd.DataFrame(np_one).T\n",
    "df_one.index=idx\n",
    "df_one.columns=['sentiment']\n",
    "positiveword=pd.concat([positiveword,df_one],axis=1)"
   ]
  },
  {
   "cell_type": "code",
   "execution_count": 4,
   "metadata": {},
   "outputs": [
    {
     "name": "stderr",
     "output_type": "stream",
     "text": [
      "C:\\ProgramData\\Anaconda3\\lib\\site-packages\\ipykernel_launcher.py:7: DeprecationWarning: Call to deprecated `__contains__` (Method will be removed in 4.0.0, use self.wv.__contains__() instead).\n",
      "  import sys\n",
      "C:\\ProgramData\\Anaconda3\\lib\\site-packages\\ipykernel_launcher.py:8: DeprecationWarning: Call to deprecated `__getitem__` (Method will be removed in 4.0.0, use self.wv.__getitem__() instead).\n",
      "  \n"
     ]
    }
   ],
   "source": [
    "import pandas as pd\n",
    "negative_word = pd.read_csv('negative_words.csv',encoding = \"ISO-8859-1\")\n",
    "words = negative_word['words']\n",
    "\n",
    "negative_dict = {}\n",
    "for word in words:\n",
    "    if word in model:\n",
    "        negative_dict.update({word:model[word]})\n",
    "        #print(word+\":\" )\n",
    "        #print(list(model[word]))\n",
    "    else:\n",
    "        continue\n",
    "\n",
    "negativeword = pd.DataFrame.from_dict(negative_dict, orient='index')"
   ]
  },
  {
   "cell_type": "code",
   "execution_count": 5,
   "metadata": {},
   "outputs": [],
   "source": [
    "idx1=negativeword.index\n",
    "np_minusone=np.full((1,3029),-1)\n",
    "df_minusone=pd.DataFrame(np_minusone).T\n",
    "df_minusone.index=idx1\n",
    "df_minusone.columns=['sentiment']\n",
    "negativeword=pd.concat([negativeword,df_minusone],axis=1)"
   ]
  },
  {
   "cell_type": "code",
   "execution_count": 6,
   "metadata": {},
   "outputs": [],
   "source": [
    "training_data = pd.concat([positiveword, negativeword], axis = 0)\n",
    "#training_data"
   ]
  },
  {
   "cell_type": "code",
   "execution_count": 7,
   "metadata": {},
   "outputs": [],
   "source": [
    "train_x=training_data.iloc[:,:-1]\n",
    "train_y=training_data.iloc[:,-1]\n",
    "#train_y"
   ]
  },
  {
   "cell_type": "code",
   "execution_count": 8,
   "metadata": {},
   "outputs": [
    {
     "name": "stderr",
     "output_type": "stream",
     "text": [
      "C:\\ProgramData\\Anaconda3\\lib\\site-packages\\ipykernel_launcher.py:10: DeprecationWarning: Call to deprecated `__contains__` (Method will be removed in 4.0.0, use self.wv.__contains__() instead).\n",
      "  # Remove the CWD from sys.path while we load stuff.\n",
      "C:\\ProgramData\\Anaconda3\\lib\\site-packages\\ipykernel_launcher.py:11: DeprecationWarning: Call to deprecated `__getitem__` (Method will be removed in 4.0.0, use self.wv.__getitem__() instead).\n",
      "  # This is added back by InteractiveShellApp.init_path()\n"
     ]
    },
    {
     "data": {
      "text/plain": [
       "2906"
      ]
     },
     "execution_count": 8,
     "metadata": {},
     "output_type": "execute_result"
    }
   ],
   "source": [
    "import pandas as pd\n",
    "relation_word = pd.read_csv('only_relation_word.csv',encoding = \"ISO-8859-1\")\n",
    "words = relation_word['relationword']\n",
    "unique = set(list(words.str.lower().values))\n",
    "len(unique) \n",
    "unique\n",
    "\n",
    "relation_dict = {}\n",
    "for word in unique:\n",
    "    if word in model:\n",
    "        relation_dict.update({word:model[word]})\n",
    "    else:\n",
    "        continue     \n",
    "\n",
    "df_relationword = pd.DataFrame.from_dict(relation_dict, orient='index')\n",
    "len(df_relationword)\n"
   ]
  },
  {
   "cell_type": "code",
   "execution_count": 16,
   "metadata": {},
   "outputs": [],
   "source": [
    "test_x=df_relationword\n",
    "idx2=test_x.index"
   ]
  },
  {
   "cell_type": "code",
   "execution_count": 17,
   "metadata": {},
   "outputs": [],
   "source": [
    "from sklearn.ensemble import RandomForestClassifier\n",
    "forest= RandomForestClassifier(n_estimators=100)\n",
    "model=forest.fit(train_x,train_y)\n",
    "pred_y=model.predict(test_x)\n",
    "pred_y=pd.DataFrame(pred_y)\n",
    "pred_y.columns=['sentiment']\n",
    "pred_y.index=idx2\n",
    "\n",
    "sentiment_pred = pd.concat([test_x,pred_y],axis=1)\n",
    "#sentiment_pred"
   ]
  },
  {
   "cell_type": "code",
   "execution_count": 11,
   "metadata": {},
   "outputs": [],
   "source": [
    "sentiment_pred.to_csv('sentiment_pred.csv', encoding='utf8')"
   ]
  },
  {
   "cell_type": "markdown",
   "metadata": {},
   "source": [
    "---"
   ]
  },
  {
   "cell_type": "markdown",
   "metadata": {},
   "source": [
    "## neg_word"
   ]
  },
  {
   "cell_type": "code",
   "execution_count": 22,
   "metadata": {},
   "outputs": [],
   "source": [
    "training_data = pd.concat([positiveword, negativeword], axis = 0)\n",
    "#training_data"
   ]
  },
  {
   "cell_type": "code",
   "execution_count": 23,
   "metadata": {},
   "outputs": [],
   "source": [
    "train_x=training_data.iloc[:,:-1]\n",
    "train_y=training_data.iloc[:,-1]\n",
    "#train_y"
   ]
  },
  {
   "cell_type": "code",
   "execution_count": 24,
   "metadata": {},
   "outputs": [
    {
     "name": "stderr",
     "output_type": "stream",
     "text": [
      "C:\\ProgramData\\Anaconda3\\lib\\site-packages\\ipykernel_launcher.py:10: DeprecationWarning: Call to deprecated `__contains__` (Method will be removed in 4.0.0, use self.wv.__contains__() instead).\n",
      "  # Remove the CWD from sys.path while we load stuff.\n",
      "C:\\ProgramData\\Anaconda3\\lib\\site-packages\\ipykernel_launcher.py:11: DeprecationWarning: Call to deprecated `__getitem__` (Method will be removed in 4.0.0, use self.wv.__getitem__() instead).\n",
      "  # This is added back by InteractiveShellApp.init_path()\n"
     ]
    },
    {
     "data": {
      "text/plain": [
       "2906"
      ]
     },
     "execution_count": 24,
     "metadata": {},
     "output_type": "execute_result"
    }
   ],
   "source": [
    "import pandas as pd\n",
    "relation_word_neg = pd.read_csv('neg_word.csv',encoding = \"ISO-8859-1\")\n",
    "neg_words = relation_word_neg['relationword']\n",
    "neg_unique = set(list(neg_words.str.lower().values))\n",
    "len(neg_unique) \n",
    "neg_unique\n",
    "\n",
    "neg_relation_dict = {}\n",
    "for word in neg_unique:\n",
    "    if word in model:\n",
    "        neg_relation_dict.update({word:model[word]})\n",
    "    else:\n",
    "        continue     \n",
    "\n",
    "df_relationword_neg = pd.DataFrame.from_dict(neg_relation_dict, orient='index')\n",
    "len(df_relationword_neg)"
   ]
  },
  {
   "cell_type": "code",
   "execution_count": 25,
   "metadata": {},
   "outputs": [],
   "source": [
    "test_x=df_relationword_neg\n",
    "idx2=test_x.index"
   ]
  },
  {
   "cell_type": "code",
   "execution_count": 26,
   "metadata": {},
   "outputs": [],
   "source": [
    "from sklearn.ensemble import RandomForestClassifier\n",
    "forest= RandomForestClassifier(n_estimators=100)\n",
    "model=forest.fit(train_x,train_y)\n",
    "pred_y=model.predict(test_x)\n",
    "pred_y=pd.DataFrame(pred_y)\n",
    "pred_y.columns=['sentiment']\n",
    "pred_y.index=idx2\n",
    "\n",
    "sentiment_neg_pred = pd.concat([test_x,pred_y],axis=1)"
   ]
  },
  {
   "cell_type": "code",
   "execution_count": 27,
   "metadata": {},
   "outputs": [],
   "source": [
    "sentiment_neg_pred.to_csv('sentiment_neg_pred.csv', encoding='utf8')"
   ]
  },
  {
   "cell_type": "code",
   "execution_count": null,
   "metadata": {},
   "outputs": [],
   "source": [
    "#下次使用的时候,无需加载sentences文档集,直接读取model啦\n",
    "#model = word2vec.Word2Vec.load('text82.model')"
   ]
  },
  {
   "cell_type": "code",
   "execution_count": null,
   "metadata": {},
   "outputs": [],
   "source": []
  }
 ],
 "metadata": {
  "kernelspec": {
   "display_name": "Python 3",
   "language": "python",
   "name": "python3"
  },
  "language_info": {
   "codemirror_mode": {
    "name": "ipython",
    "version": 3
   },
   "file_extension": ".py",
   "mimetype": "text/x-python",
   "name": "python",
   "nbconvert_exporter": "python",
   "pygments_lexer": "ipython3",
   "version": "3.7.3"
  }
 },
 "nbformat": 4,
 "nbformat_minor": 2
}
