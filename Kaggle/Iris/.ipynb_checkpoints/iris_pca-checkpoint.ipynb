{
 "cells": [
  {
   "cell_type": "markdown",
   "metadata": {},
   "source": [
    "# "
   ]
  },
  {
   "cell_type": "markdown",
   "metadata": {},
   "source": [
    "#### Reference: https://towardsdatascience.com/pca-using-python-scikit-learn-e653f8989e60"
   ]
  },
  {
   "cell_type": "code",
   "execution_count": null,
   "metadata": {},
   "outputs": [],
   "source": [
    "# import packages\n",
    "from sklearn.preprocessing import StandardScaler\n",
    "import numpy as np\n",
    "import pandas as pd"
   ]
  },
  {
   "cell_type": "code",
   "execution_count": null,
   "metadata": {},
   "outputs": [],
   "source": [
    "# read-in training data\n",
    "\n",
    "data_train = pd.read_csv(\"./new_iris_training.csv\")\n",
    "print(data_train.head(5))\n",
    "\n",
    "features = ['SepalLengthCm', 'SepalWidthCm', 'PetalLengthCm', 'PetalWidthCm']\n",
    "\n",
    "X_train = data_train[features]\n",
    "y_train = data_train.loc[:,'Species']\n",
    "\n",
    "print(len(X_train))"
   ]
  },
  {
   "cell_type": "code",
   "execution_count": null,
   "metadata": {},
   "outputs": [],
   "source": [
    "# read-in test data\n",
    "\n",
    "data_test = pd.read_csv(\"./new_iris_test.csv\")\n",
    "print(data_test.head(5))\n",
    "\n",
    "features = ['SepalLengthCm', 'SepalWidthCm', 'PetalLengthCm', 'PetalWidthCm']\n",
    "\n",
    "X_test = data_test[features]\n",
    "y_test = data_test.loc[:,'Species']\n",
    "\n",
    "print(len(X_test))"
   ]
  },
  {
   "cell_type": "code",
   "execution_count": null,
   "metadata": {},
   "outputs": [],
   "source": [
    "# Standardization\n",
    "X = pd.concat([X_train, X_test], axis=0)\n",
    "\n",
    "print(len(X))\n",
    "\n",
    "X = StandardScaler().fit_transform(X)"
   ]
  },
  {
   "cell_type": "code",
   "execution_count": null,
   "metadata": {},
   "outputs": [],
   "source": [
    "from sklearn.decomposition import PCA\n",
    "\n",
    "pca = PCA(n_components=2)\n",
    "principleComponents = pca.fit_transform(X)\n",
    "\n",
    "principleDF = pd.DataFrame(data = principleComponents,\n",
    "                          columns = ['PrincipleComponents_1', 'PrincipleComponents_2'])\n",
    "\n",
    "print(principleDF.head(5))\n",
    "print(principleDF.tail(5))"
   ]
  },
  {
   "cell_type": "code",
   "execution_count": null,
   "metadata": {},
   "outputs": [],
   "source": [
    "X_pca_train = principleDF.iloc[0:900,:]\n",
    "print(len(X_pca_train))\n",
    "print(X_pca_train.head(5))\n",
    "X_pca_test = principleDF.iloc[900:,:]\n",
    "print(len(X_pca_test))\n",
    "print(X_pca_test.head(5))"
   ]
  },
  {
   "cell_type": "code",
   "execution_count": null,
   "metadata": {},
   "outputs": [],
   "source": [
    "data_train = pd.concat([X_pca_train, y_train], axis = 1 )\n",
    "print(len(data_train))\n",
    "data_test = pd.concat([X_pca_test, y_test], axis = 1)\n",
    "print(len(data_test))\n",
    "\n",
    "drop_list = []\n",
    "for i in range(150):\n",
    "    drop_list.append(i)\n",
    "\n",
    "\n",
    "\n",
    "data_test = data_test.drop(drop_list, axis = 0)\n",
    "print(data_test.tail(5))\n",
    "print(data_test.head(5))\n",
    "print(len(data_test))\n",
    "\n",
    "#print(data_test.iloc[140:160,:])"
   ]
  },
  {
   "cell_type": "code",
   "execution_count": null,
   "metadata": {},
   "outputs": [],
   "source": [
    "data_train.to_csv(\"./pca_train.csv\", header=True, index=None)\n",
    "data_test.to_csv(\"./pca_test.csv\", header=True, index=None)"
   ]
  }
 ],
 "metadata": {
  "kernelspec": {
   "display_name": "Python 3",
   "language": "python",
   "name": "python3"
  },
  "language_info": {
   "codemirror_mode": {
    "name": "ipython",
    "version": 3
   },
   "file_extension": ".py",
   "mimetype": "text/x-python",
   "name": "python",
   "nbconvert_exporter": "python",
   "pygments_lexer": "ipython3",
   "version": "3.7.3"
  }
 },
 "nbformat": 4,
 "nbformat_minor": 2
}
