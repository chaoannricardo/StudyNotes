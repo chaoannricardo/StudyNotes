{
 "cells": [
  {
   "cell_type": "code",
   "execution_count": 1,
   "metadata": {},
   "outputs": [
    {
     "name": "stdout",
     "output_type": "stream",
     "text": [
      "150\n",
      "Index(['Id', 'Species'], dtype='object')\n",
      "    Id  Species\n",
      "0    1      NaN\n",
      "1    2      NaN\n",
      "2    3      NaN\n",
      "3    4      NaN\n",
      "4    5      NaN\n",
      "5    6      NaN\n",
      "6    7      NaN\n",
      "7    8      NaN\n",
      "8    9      NaN\n",
      "9   10      NaN\n",
      "10  11      NaN\n",
      "11  12      NaN\n",
      "12  13      NaN\n",
      "13  14      NaN\n",
      "14  15      NaN\n",
      "15  16      NaN\n",
      "16  17      NaN\n",
      "17  18      NaN\n",
      "18  19      NaN\n",
      "19  20      NaN\n"
     ]
    }
   ],
   "source": [
    "import pandas as pd\n",
    "\n",
    "data = pd.read_csv(\"./iris_submission.csv\")\n",
    "\n",
    "print(len(data))\n",
    "print(data.columns)\n",
    "print(data.head(20))"
   ]
  },
  {
   "cell_type": "code",
   "execution_count": 2,
   "metadata": {},
   "outputs": [
    {
     "name": "stdout",
     "output_type": "stream",
     "text": [
      "150\n"
     ]
    }
   ],
   "source": [
    "result = pd.read_csv(\"/home/user/191018_iris/iris_prediction.csv/Species_predictions.csv\", header=None)\n",
    "\n",
    "print(len(result))\n",
    "result_list = result.iloc[:,0].tolist()"
   ]
  },
  {
   "cell_type": "code",
   "execution_count": 3,
   "metadata": {},
   "outputs": [
    {
     "name": "stdout",
     "output_type": "stream",
     "text": [
      "    Id     Species\n",
      "0    1  versicolor\n",
      "1    2   virginica\n",
      "2    3  versicolor\n",
      "3    4      setosa\n",
      "4    5      setosa\n",
      "5    6   virginica\n",
      "6    7      setosa\n",
      "7    8   virginica\n",
      "8    9      setosa\n",
      "9   10  versicolor\n",
      "10  11      setosa\n",
      "11  12   virginica\n",
      "12  13  versicolor\n",
      "13  14      setosa\n",
      "14  15      setosa\n",
      "15  16  versicolor\n",
      "16  17   virginica\n",
      "17  18      setosa\n",
      "18  19   virginica\n",
      "19  20  versicolor\n"
     ]
    }
   ],
   "source": [
    "data.loc[:,'Species'] = result_list\n",
    "print(data.head(20))"
   ]
  },
  {
   "cell_type": "code",
   "execution_count": 4,
   "metadata": {},
   "outputs": [],
   "source": [
    "data.to_csv('./191018_1_finished_iris_submission.csv', index=None, header=True)"
   ]
  }
 ],
 "metadata": {
  "kernelspec": {
   "display_name": "Python 3",
   "language": "python",
   "name": "python3"
  },
  "language_info": {
   "codemirror_mode": {
    "name": "ipython",
    "version": 3
   },
   "file_extension": ".py",
   "mimetype": "text/x-python",
   "name": "python",
   "nbconvert_exporter": "python",
   "pygments_lexer": "ipython3",
   "version": "3.7.3"
  }
 },
 "nbformat": 4,
 "nbformat_minor": 2
}
