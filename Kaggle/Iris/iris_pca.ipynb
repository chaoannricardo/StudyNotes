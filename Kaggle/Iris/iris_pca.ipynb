{
 "cells": [
  {
   "cell_type": "markdown",
   "metadata": {},
   "source": [
    "# "
   ]
  },
  {
   "cell_type": "markdown",
   "metadata": {},
   "source": [
    "#### Reference: https://towardsdatascience.com/pca-using-python-scikit-learn-e653f8989e60"
   ]
  },
  {
   "cell_type": "code",
   "execution_count": 1,
   "metadata": {},
   "outputs": [],
   "source": [
    "# import packages\n",
    "from sklearn.preprocessing import StandardScaler\n",
    "import numpy as np\n",
    "import pandas as pd"
   ]
  },
  {
   "cell_type": "code",
   "execution_count": 2,
   "metadata": {},
   "outputs": [
    {
     "name": "stdout",
     "output_type": "stream",
     "text": [
      "   SepalLengthCm  SepalWidthCm  PetalLengthCm  PetalWidthCm     Species\n",
      "0          4.927         3.696          1.514         0.247      setosa\n",
      "1          5.524         2.828          4.129         1.184  versicolor\n",
      "2          5.114         3.521          1.287         0.262      setosa\n",
      "3          5.947         2.607          5.228         2.038   virginica\n",
      "4          4.835         3.440          1.345         0.190      setosa\n",
      "900\n"
     ]
    }
   ],
   "source": [
    "# read-in training data\n",
    "\n",
    "data_train = pd.read_csv(\"./new_iris_training.csv\")\n",
    "print(data_train.head(5))\n",
    "\n",
    "features = ['SepalLengthCm', 'SepalWidthCm', 'PetalLengthCm', 'PetalWidthCm']\n",
    "\n",
    "X_train = data_train[features]\n",
    "y_train = data_train.loc[:,'Species']\n",
    "\n",
    "print(len(X_train))"
   ]
  },
  {
   "cell_type": "code",
   "execution_count": 3,
   "metadata": {},
   "outputs": [
    {
     "name": "stdout",
     "output_type": "stream",
     "text": [
      "   SepalLengthCm  SepalWidthCm  PetalLengthCm  PetalWidthCm  Species\n",
      "0          5.933         2.770          4.244         1.310      NaN\n",
      "1          6.637         2.736          5.725         1.981      NaN\n",
      "2          5.434         2.747          4.239         1.373      NaN\n",
      "3          5.099         3.358          1.515         0.222      NaN\n",
      "4          5.011         3.431          1.461         0.256      NaN\n",
      "150\n"
     ]
    }
   ],
   "source": [
    "# read-in test data\n",
    "\n",
    "data_test = pd.read_csv(\"./new_iris_test.csv\")\n",
    "print(data_test.head(5))\n",
    "\n",
    "features = ['SepalLengthCm', 'SepalWidthCm', 'PetalLengthCm', 'PetalWidthCm']\n",
    "\n",
    "X_test = data_test[features]\n",
    "y_test = data_test.loc[:,'Species']\n",
    "\n",
    "print(len(X_test))"
   ]
  },
  {
   "cell_type": "code",
   "execution_count": 4,
   "metadata": {},
   "outputs": [
    {
     "name": "stdout",
     "output_type": "stream",
     "text": [
      "1050\n"
     ]
    }
   ],
   "source": [
    "# Standardization\n",
    "X = pd.concat([X_train, X_test], axis=0)\n",
    "\n",
    "print(len(X))\n",
    "\n",
    "X = StandardScaler().fit_transform(X)"
   ]
  },
  {
   "cell_type": "code",
   "execution_count": 5,
   "metadata": {},
   "outputs": [
    {
     "name": "stdout",
     "output_type": "stream",
     "text": [
      "   PrincipleComponents_1  PrincipleComponents_2\n",
      "0              -2.653318               0.756196\n",
      "1               0.118696              -0.676394\n",
      "2              -2.415061               0.401541\n",
      "3               1.599557              -0.742329\n",
      "4              -2.564168               0.066949\n",
      "      PrincipleComponents_1  PrincipleComponents_2\n",
      "1045              -2.205640              -0.740962\n",
      "1046               0.743636              -0.622910\n",
      "1047               0.470654              -0.611545\n",
      "1048               0.753440              -0.803061\n",
      "1049               0.381700              -0.107559\n"
     ]
    }
   ],
   "source": [
    "from sklearn.decomposition import PCA\n",
    "\n",
    "pca = PCA(n_components=2)\n",
    "principleComponents = pca.fit_transform(X)\n",
    "\n",
    "principleDF = pd.DataFrame(data = principleComponents,\n",
    "                          columns = ['PrincipleComponents_1', 'PrincipleComponents_2'])\n",
    "\n",
    "print(principleDF.head(5))\n",
    "print(principleDF.tail(5))"
   ]
  },
  {
   "cell_type": "code",
   "execution_count": 6,
   "metadata": {},
   "outputs": [
    {
     "name": "stdout",
     "output_type": "stream",
     "text": [
      "900\n",
      "   PrincipleComponents_1  PrincipleComponents_2\n",
      "0              -2.653318               0.756196\n",
      "1               0.118696              -0.676394\n",
      "2              -2.415061               0.401541\n",
      "3               1.599557              -0.742329\n",
      "4              -2.564168               0.066949\n",
      "150\n",
      "     PrincipleComponents_1  PrincipleComponents_2\n",
      "900               0.587288              -0.596377\n",
      "901               2.069609              -0.098246\n",
      "902               0.307792              -0.860624\n",
      "903              -2.224024               0.005381\n",
      "904              -2.348251               0.147766\n"
     ]
    }
   ],
   "source": [
    "X_pca_train = principleDF.iloc[0:900,:]\n",
    "print(len(X_pca_train))\n",
    "print(X_pca_train.head(5))\n",
    "X_pca_test = principleDF.iloc[900:,:]\n",
    "print(len(X_pca_test))\n",
    "print(X_pca_test.head(5))"
   ]
  },
  {
   "cell_type": "code",
   "execution_count": 7,
   "metadata": {},
   "outputs": [
    {
     "name": "stdout",
     "output_type": "stream",
     "text": [
      "900\n",
      "300\n",
      "      PrincipleComponents_1  PrincipleComponents_2  Species\n",
      "1045              -2.205640              -0.740962      NaN\n",
      "1046               0.743636              -0.622910      NaN\n",
      "1047               0.470654              -0.611545      NaN\n",
      "1048               0.753440              -0.803061      NaN\n",
      "1049               0.381700              -0.107559      NaN\n",
      "     PrincipleComponents_1  PrincipleComponents_2  Species\n",
      "900               0.587288              -0.596377      NaN\n",
      "901               2.069609              -0.098246      NaN\n",
      "902               0.307792              -0.860624      NaN\n",
      "903              -2.224024               0.005381      NaN\n",
      "904              -2.348251               0.147766      NaN\n",
      "150\n"
     ]
    }
   ],
   "source": [
    "data_train = pd.concat([X_pca_train, y_train], axis = 1 )\n",
    "print(len(data_train))\n",
    "data_test = pd.concat([X_pca_test, y_test], axis = 1)\n",
    "print(len(data_test))\n",
    "\n",
    "drop_list = []\n",
    "for i in range(150):\n",
    "    drop_list.append(i)\n",
    "\n",
    "\n",
    "\n",
    "data_test = data_test.drop(drop_list, axis = 0)\n",
    "print(data_test.tail(5))\n",
    "print(data_test.head(5))\n",
    "print(len(data_test))\n",
    "\n",
    "#print(data_test.iloc[140:160,:])"
   ]
  },
  {
   "cell_type": "code",
   "execution_count": 8,
   "metadata": {},
   "outputs": [],
   "source": [
    "data_train.to_csv(\"./pca_train.csv\", header=True, index=None)\n",
    "data_test.to_csv(\"./pca_test.csv\", header=True, index=None)"
   ]
  }
 ],
 "metadata": {
  "kernelspec": {
   "display_name": "Python 3",
   "language": "python",
   "name": "python3"
  },
  "language_info": {
   "codemirror_mode": {
    "name": "ipython",
    "version": 3
   },
   "file_extension": ".py",
   "mimetype": "text/x-python",
   "name": "python",
   "nbconvert_exporter": "python",
   "pygments_lexer": "ipython3",
   "version": "3.7.4"
  }
 },
 "nbformat": 4,
 "nbformat_minor": 2
}
