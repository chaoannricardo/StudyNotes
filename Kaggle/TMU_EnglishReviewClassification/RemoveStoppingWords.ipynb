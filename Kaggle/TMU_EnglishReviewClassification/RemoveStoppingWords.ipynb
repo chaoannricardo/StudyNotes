{
 "cells": [
  {
   "cell_type": "code",
   "execution_count": 10,
   "metadata": {},
   "outputs": [],
   "source": [
    "import pandas as pd\n",
    "\n",
    "pd.options.display.max_colwidth = 100000000\n",
    "\n",
    "original_data = pd.read_csv(\"C:\\\\Users\\\\ricardo\\\\Documents\\\\GitHub\\\\Kaggle\\\\1910_TMU_EnglishReviewClassification\\\\Data\\\\train_data.csv\")"
   ]
  },
  {
   "cell_type": "code",
   "execution_count": 11,
   "metadata": {},
   "outputs": [],
   "source": [
    "stopwords = []\n",
    "\n",
    "## Open file\n",
    "fp = open(\"C:\\\\Users\\\\ricardo\\\\Documents\\\\GitHub\\\\Kaggle\\\\1910_TMU_EnglishReviewClassification\\\\Stopwords\\\\stopping_words_1.txt\", \"r\")\n",
    " \n",
    "# 變數 lines 會儲存 filename.txt 的內容\n",
    "lines = fp.readlines()\n",
    " \n",
    "# close file\n",
    "fp.close()\n",
    " \n",
    "# print content\n",
    "for i in range(len(lines)):\n",
    "    text = lines[i].strip(\"\\n\")\n",
    "    stopwords.append(text)"
   ]
  },
  {
   "cell_type": "code",
   "execution_count": 12,
   "metadata": {},
   "outputs": [],
   "source": [
    "replace_list = [\":\", \",\", \".\", \"(\", \")\", \"'\", '\"', \"?\", \"&\", \"<\", \">\"]"
   ]
  },
  {
   "cell_type": "code",
   "execution_count": 13,
   "metadata": {},
   "outputs": [],
   "source": [
    "# Create a file to write-in\n",
    "output = open(\"output.txt\", \"w+\", encoding='utf-8')\n",
    "\n",
    "# clean up stopwords\n",
    "for i, j in enumerate(original_data.loc[:, 'text'].tolist()):\n",
    "    text_list = str(j).split(\" \")\n",
    "    for a, b in enumerate(text_list):\n",
    "        b = b.lower()\n",
    "        for c, d in enumerate(replace_list):\n",
    "            b = b.replace(d, \"\")\n",
    "        if (a + 1) != len(text_list):\n",
    "            if b not in stopwords:\n",
    "                output.write(b)\n",
    "                output.write(\" \")\n",
    "        else:\n",
    "            if b not in stopwords:\n",
    "                output.write(b)\n",
    "                output.write(\"\\n\")\n",
    "            else:\n",
    "                output.write(\"\\n\")\n",
    "            \n",
    "output.close()    "
   ]
  },
  {
   "cell_type": "markdown",
   "metadata": {},
   "source": [
    "# Create new training data"
   ]
  },
  {
   "cell_type": "code",
   "execution_count": 14,
   "metadata": {},
   "outputs": [
    {
     "name": "stdout",
     "output_type": "stream",
     "text": [
      "25000\n"
     ]
    }
   ],
   "source": [
    "new_text_file = pd.read_csv(\"./output.txt\", header=None)\n",
    "\n",
    "print(len(new_text_file))"
   ]
  },
  {
   "cell_type": "code",
   "execution_count": 15,
   "metadata": {},
   "outputs": [],
   "source": [
    "new_data = pd.DataFrame({\n",
    "    'text': new_text_file.iloc[:, 0].tolist(),\n",
    "    'class': original_data.loc[:, 'class'].tolist()\n",
    "})\n",
    "\n",
    "new_data.to_csv(\"./training_set_without_stopwords_1.csv\", index=None, header=True)"
   ]
  },
  {
   "cell_type": "markdown",
   "metadata": {},
   "source": [
    "# Prepare new testing data"
   ]
  },
  {
   "cell_type": "code",
   "execution_count": 16,
   "metadata": {},
   "outputs": [],
   "source": [
    "import pandas as pd\n",
    "\n",
    "pd.options.display.max_colwidth = 100000000\n",
    "\n",
    "original_data = pd.read_csv(\"C:\\\\Users\\\\ricardo\\\\Documents\\\\GitHub\\\\Kaggle\\\\1910_TMU_EnglishReviewClassification\\\\Data\\\\test_data.csv\")"
   ]
  },
  {
   "cell_type": "code",
   "execution_count": 17,
   "metadata": {},
   "outputs": [],
   "source": [
    "stopwords = []\n",
    "\n",
    "## Open file\n",
    "fp = open(\"C:\\\\Users\\\\ricardo\\\\Documents\\\\GitHub\\\\Kaggle\\\\1910_TMU_EnglishReviewClassification\\\\Stopwords\\\\stopping_words_1.txt\", \"r\")\n",
    " \n",
    "# 變數 lines 會儲存 filename.txt 的內容\n",
    "lines = fp.readlines()\n",
    " \n",
    "# close file\n",
    "fp.close()\n",
    " \n",
    "# print content\n",
    "for i in range(len(lines)):\n",
    "    text = lines[i].strip(\"\\n\")\n",
    "    stopwords.append(text)"
   ]
  },
  {
   "cell_type": "code",
   "execution_count": 18,
   "metadata": {},
   "outputs": [],
   "source": [
    "replace_list = [\":\", \",\", \".\", \"(\", \")\", \"'\", '\"', \"?\", \"&\", \"<\", \">\"]"
   ]
  },
  {
   "cell_type": "code",
   "execution_count": 19,
   "metadata": {},
   "outputs": [],
   "source": [
    "# Create a file to write-in\n",
    "output = open(\"output_test.txt\", \"w+\", encoding='utf-8')\n",
    "\n",
    "# clean up stopwords\n",
    "for i, j in enumerate(original_data.loc[:, 'text'].tolist()):\n",
    "    text_list = str(j).split(\" \")\n",
    "    for a, b in enumerate(text_list):\n",
    "        b = b.lower()\n",
    "        for c, d in enumerate(replace_list):\n",
    "            b = b.replace(d, \"\")\n",
    "        if (a + 1) != len(text_list):\n",
    "            if b not in stopwords:\n",
    "                output.write(b)\n",
    "                output.write(\" \")\n",
    "        else:\n",
    "            if b not in stopwords:\n",
    "                output.write(b)\n",
    "                output.write(\"\\n\")\n",
    "            else:\n",
    "                output.write(\"\\n\")\n",
    "            \n",
    "output.close()    "
   ]
  },
  {
   "cell_type": "code",
   "execution_count": 20,
   "metadata": {},
   "outputs": [],
   "source": [
    "text_list = []\n",
    "\n",
    "## Open file\n",
    "fp = open('./output_test.txt', \"r\", encoding='utf-8')\n",
    " \n",
    "# 變數 lines 會儲存 filename.txt 的內容\n",
    "lines = fp.readlines()\n",
    " \n",
    "# close file\n",
    "fp.close()\n",
    " \n",
    "# print content\n",
    "for i in range(len(lines)):\n",
    "    text_list.append(lines[i])\n",
    "    "
   ]
  },
  {
   "cell_type": "code",
   "execution_count": 22,
   "metadata": {},
   "outputs": [],
   "source": [
    "import pandas as pd\n",
    "\n",
    "final = pd.DataFrame({\n",
    "    'text': text_list,\n",
    "})\n",
    "\n",
    "final.loc[:, 'class'] = \"\"\n",
    "\n",
    "final.to_csv(\"./test_data_without_stopwords_1.csv\", header=True, index=False)"
   ]
  }
 ],
 "metadata": {
  "kernelspec": {
   "display_name": "Monpa",
   "language": "python",
   "name": "monpa"
  },
  "language_info": {
   "codemirror_mode": {
    "name": "ipython",
    "version": 3
   },
   "file_extension": ".py",
   "mimetype": "text/x-python",
   "name": "python",
   "nbconvert_exporter": "python",
   "pygments_lexer": "ipython3",
   "version": "3.7.3"
  }
 },
 "nbformat": 4,
 "nbformat_minor": 2
}
