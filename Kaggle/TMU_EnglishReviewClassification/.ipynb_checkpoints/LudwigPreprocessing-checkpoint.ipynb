{
 "cells": [
  {
   "cell_type": "code",
   "execution_count": 2,
   "metadata": {},
   "outputs": [],
   "source": [
    "import os\n",
    "\n",
    "os.chdir(\"C:\\\\Users\\\\ricardo\\\\Documents\\\\GitHub\\\\Kaggle\\\\1910_TMU_EnglishReviewClassification\\\\Data\\\\training_dataset_v1\\\\training_dataset\")\n",
    "os.chdir(\"./neg\")"
   ]
  },
  {
   "cell_type": "code",
   "execution_count": 3,
   "metadata": {},
   "outputs": [],
   "source": [
    "import os\n",
    "import pandas as pd\n",
    "\n",
    "pd.options.display.max_colwidth = 100000000\n",
    "test_data = pd.DataFrame()\n",
    "\n",
    "text_list = []\n",
    "class_list = []\n",
    "\n",
    "for i, j in enumerate(os.listdir()):\n",
    "    with open(j, 'r', encoding='UTF-8') as file:\n",
    "        for line in file.readlines():\n",
    "            text_list.append(line)\n",
    "            class_list.append(\"neg\")\n",
    "\n",
    "os.chdir(\"../pos\")\n",
    "\n",
    "for i, j in enumerate(os.listdir()):\n",
    "    with open(j, 'r', encoding='UTF-8') as file:\n",
    "        for line in file.readlines():\n",
    "            text_list.append(line)\n",
    "            class_list.append(\"pos\")\n",
    "\n",
    "test_data.loc[:, 'text'] = text_list\n",
    "test_data.loc[:, 'class'] = class_list"
   ]
  },
  {
   "cell_type": "code",
   "execution_count": 4,
   "metadata": {},
   "outputs": [],
   "source": [
    "test_data.to_csv(\"../train_dataframe.csv\", header=True, index=False)"
   ]
  },
  {
   "cell_type": "markdown",
   "metadata": {},
   "source": [
    "# Prepare test data"
   ]
  },
  {
   "cell_type": "code",
   "execution_count": 21,
   "metadata": {},
   "outputs": [],
   "source": [
    "import os\n",
    "\n",
    "os.chdir(\"C:/Users/ricardo/Documents/GitHub/College/Courses/10801_MachineLearningAndDeepLearning/Assignments/Assignment_2/Data/training_dataset_v1/training_dataset\")\n",
    "os.chdir(\"../../\")"
   ]
  },
  {
   "cell_type": "code",
   "execution_count": 22,
   "metadata": {},
   "outputs": [],
   "source": [
    "import pandas as pd\n",
    "pd.options.display.max_colwidth = 100000000\n",
    "\n",
    "test_data = pd.read_csv(\"./test_dataset.csv\", header=None)\n",
    "\n",
    "test_list = test_data.iloc[:, 1].tolist()\n",
    "\n",
    "output = pd.DataFrame({\n",
    "    'text':test_list,\n",
    "})\n",
    "\n",
    "output.loc[:, 'class'] = \"\"\n",
    "\n",
    "output.to_csv(\"./Ludwig_test_data.csv\", header=True, index=False)"
   ]
  },
  {
   "cell_type": "markdown",
   "metadata": {},
   "source": [
    "# Configure Output"
   ]
  },
  {
   "cell_type": "code",
   "execution_count": 5,
   "metadata": {},
   "outputs": [],
   "source": [
    "predict_list = []\n",
    "\n",
    "## Open file\n",
    "fp = open(\"C:\\\\Users\\\\ricardo\\\\Documents\\\\GitHub\\\\Kaggle\\\\1910_TMU_EnglishReviewClassification\\\\Data\\\\191031_LudwigPredict\\\\class_predictions.csv\", \"r\")\n",
    " \n",
    "# 變數 lines 會儲存 filename.txt 的內容\n",
    "lines = fp.readlines()\n",
    " \n",
    "# close file\n",
    "fp.close()\n",
    " \n",
    "# print content\n",
    "for i in range(len(lines)):\n",
    "    if len(lines[i]) > 1:\n",
    "        result = lines[i].strip(\"\\n\")\n",
    "        predict_list.append(result)"
   ]
  },
  {
   "cell_type": "code",
   "execution_count": 6,
   "metadata": {},
   "outputs": [
    {
     "name": "stdout",
     "output_type": "stream",
     "text": [
      "5986\n"
     ]
    }
   ],
   "source": [
    "print(len(predict_list))"
   ]
  },
  {
   "cell_type": "code",
   "execution_count": 15,
   "metadata": {},
   "outputs": [],
   "source": [
    "import pandas as pd\n",
    "import os\n",
    "\n",
    "os.chdir(\"C:\\\\Users\\\\ricardo\\\\Documents\\\\GitHub\\\\Kaggle\\\\1910_TMU_EnglishReviewClassification\\\\Data\\\\\")\n",
    "submission = pd.read_csv(\"C:\\\\Users\\\\ricardo\\\\Documents\\\\GitHub\\\\Kaggle\\\\1910_TMU_EnglishReviewClassification\\\\Data\\\\submission.csv\")\n",
    "\n",
    "submission.loc[:, 'Label'] = predict_list\n",
    "\n",
    "submission.to_csv(\"./final.csv\", header=True, index=None)"
   ]
  }
 ],
 "metadata": {
  "kernelspec": {
   "display_name": "Monpa",
   "language": "python",
   "name": "monpa"
  },
  "language_info": {
   "codemirror_mode": {
    "name": "ipython",
    "version": 3
   },
   "file_extension": ".py",
   "mimetype": "text/x-python",
   "name": "python",
   "nbconvert_exporter": "python",
   "pygments_lexer": "ipython3",
   "version": "3.7.3"
  }
 },
 "nbformat": 4,
 "nbformat_minor": 2
}
