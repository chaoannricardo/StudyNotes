{
 "cells": [
  {
   "cell_type": "markdown",
   "metadata": {},
   "source": [
    "# 網路爬蟲 2019-05-15"
   ]
  },
  {
   "cell_type": "markdown",
   "metadata": {},
   "source": [
    "## 隨堂練習\n",
    "\n",
    "### Web API: AQI DATA\n",
    "\n",
    "```python\n",
    "import requests\n",
    "\n",
    "r = requests.get(\"https://opendata.epa.gov.tw/ws/Data/AQI/?$format=json\", verify=False)\n",
    "```\n",
    "\n",
    "- How many sites in Taiwan?\n",
    "- How many sites in Taipei City?\n",
    "- Highest PM2.5 site name?\n",
    "- Lowest PM2.5 site name?\n",
    "\n",
    "### Non Web API: IMDB DATA\n",
    "\n",
    "```python\n",
    "import requests\n",
    "\n",
    "r = requests.get(\"https://www.imdb.com/title/tt4154796/releaseinfo/\")\n",
    "```\n",
    "\n",
    "- Parsing release information of Avengers: Endgame (2019)\n",
    "- Summarizing number of countries grouped by release date\n",
    "- When is Taiwan's release date?"
   ]
  },
  {
   "cell_type": "markdown",
   "metadata": {},
   "source": [
    "## Python Environment\n",
    "\n",
    "- [Download Miniconda](https://docs.conda.io/en/latest/miniconda.html)\n",
    "- Installing jupyter\n",
    "\n",
    "```bash\n",
    "pip install jupyter\n",
    "```\n",
    "\n",
    "- Check environments\n",
    "\n",
    "```bash\n",
    "conda env list\n",
    "```\n",
    "\n",
    "- Creating a environment for web crawling\n",
    "\n",
    "```bash\n",
    "# crawler as the env name\n",
    "conda create --name crawler python=3\n",
    "```\n",
    "\n",
    "- Activate environment\n",
    "\n",
    "```bash\n",
    "conda activate crawler\n",
    "```\n",
    "\n",
    "- Install required packages for web crawling: `requirements.txt`\n",
    "    - `requests`: Getting data\n",
    "    - `beautifulsoup`/`pyquery`: Parsing data\n",
    "    - `selenium`: Browser automation\n",
    "    - `numpy`/`pandas`: Data wrangling\n",
    "    - `ipykernel`: Connecting jupyter with environments\n",
    "\n",
    "```\n",
    "requests\n",
    "beautifulsoup4\n",
    "pyquery\n",
    "selenium\n",
    "numpy\n",
    "pandas\n",
    "ipykernel\n",
    "```\n",
    "\n",
    "- Installing required packages\n",
    "\n",
    "```bash\n",
    "pip install -r requirements.txt\n",
    "```\n",
    "\n",
    "- Check Jupyker kernels\n",
    "\n",
    "```bash\n",
    "jupyter kernelspec list\n",
    "```\n",
    "\n",
    "- Connecting kernel with environment\n",
    "\n",
    "```bash\n",
    "# Run this command while \"crawler\" is activated\n",
    "python -m ipykernel install --user --name crawler --display-name \"crawler\"\n",
    "```"
   ]
  },
  {
   "cell_type": "markdown",
   "metadata": {},
   "source": [
    "## Hello world"
   ]
  },
  {
   "cell_type": "code",
   "execution_count": 12,
   "metadata": {},
   "outputs": [
    {
     "name": "stdout",
     "output_type": "stream",
     "text": [
      "200\n"
     ]
    }
   ],
   "source": [
    "import requests\n",
    "\n",
    "r = requests.get(\"http://data.nba.net/prod/v1/20190514/scoreboard.json\") # GET\n",
    "print(r.status_code)"
   ]
  },
  {
   "cell_type": "code",
   "execution_count": 13,
   "metadata": {},
   "outputs": [
    {
     "name": "stdout",
     "output_type": "stream",
     "text": [
      "<class 'dict'>\n"
     ]
    }
   ],
   "source": [
    "today_scoreboard = r.json()\n",
    "print(type(today_scoreboard))"
   ]
  },
  {
   "cell_type": "code",
   "execution_count": 14,
   "metadata": {},
   "outputs": [
    {
     "data": {
      "text/plain": [
       "dict_keys(['_internal', 'numGames', 'games'])"
      ]
     },
     "execution_count": 14,
     "metadata": {},
     "output_type": "execute_result"
    }
   ],
   "source": [
    "today_scoreboard.keys()"
   ]
  },
  {
   "cell_type": "code",
   "execution_count": 15,
   "metadata": {},
   "outputs": [
    {
     "data": {
      "text/plain": [
       "dict_keys(['seasonStageId', 'seasonYear', 'gameId', 'arena', 'isGameActivated', 'statusNum', 'extendedStatusNum', 'startTimeEastern', 'startTimeUTC', 'startDateEastern', 'clock', 'isBuzzerBeater', 'isPreviewArticleAvail', 'isRecapArticleAvail', 'tickets', 'hasGameBookPdf', 'isStartTimeTBD', 'nugget', 'attendance', 'gameDuration', 'tags', 'playoffs', 'period', 'vTeam', 'hTeam', 'watch'])"
      ]
     },
     "execution_count": 15,
     "metadata": {},
     "output_type": "execute_result"
    }
   ],
   "source": [
    "western_final_g1 = today_scoreboard[\"games\"][0]\n",
    "western_final_g1.keys()"
   ]
  },
  {
   "cell_type": "code",
   "execution_count": 16,
   "metadata": {},
   "outputs": [
    {
     "data": {
      "text/plain": [
       "{'teamId': '1610612757',\n",
       " 'triCode': 'POR',\n",
       " 'win': '53',\n",
       " 'loss': '29',\n",
       " 'seriesWin': '0',\n",
       " 'seriesLoss': '0',\n",
       " 'score': '53',\n",
       " 'linescore': [{'score': '23'},\n",
       "  {'score': '22'},\n",
       "  {'score': '8'},\n",
       "  {'score': '0'}]}"
      ]
     },
     "execution_count": 16,
     "metadata": {},
     "output_type": "execute_result"
    }
   ],
   "source": [
    "western_final_g1[\"vTeam\"]"
   ]
  },
  {
   "cell_type": "code",
   "execution_count": 17,
   "metadata": {},
   "outputs": [
    {
     "data": {
      "text/plain": [
       "{'teamId': '1610612744',\n",
       " 'triCode': 'GSW',\n",
       " 'win': '57',\n",
       " 'loss': '25',\n",
       " 'seriesWin': '0',\n",
       " 'seriesLoss': '0',\n",
       " 'score': '67',\n",
       " 'linescore': [{'score': '27'},\n",
       "  {'score': '27'},\n",
       "  {'score': '13'},\n",
       "  {'score': '0'}]}"
      ]
     },
     "execution_count": 17,
     "metadata": {},
     "output_type": "execute_result"
    }
   ],
   "source": [
    "western_final_g1[\"hTeam\"]"
   ]
  },
  {
   "cell_type": "markdown",
   "metadata": {},
   "source": [
    "## Web Scraping Methods\n",
    "\n",
    "- Web API\n",
    "    - `.json`\n",
    "    - `requests`\n",
    "- Non Web API\n",
    "    - `.html`\n",
    "    - `requests` + Parser(beautifulsoup4, pyquery)\n",
    "- Browser Automation\n",
    "    - `selenium`"
   ]
  },
  {
   "cell_type": "markdown",
   "metadata": {},
   "source": [
    "## JSONView\n",
    "\n",
    "讓 JSON 資料格式在瀏覽器上呈現得比較漂亮\n",
    "\n",
    "<https://chrome.google.com/webstore/detail/jsonview/chklaanhfefbnpoihckbnefhakgolnmc>"
   ]
  },
  {
   "cell_type": "markdown",
   "metadata": {},
   "source": [
    "## Web API Examples\n",
    "\n",
    "- [data.nba.net](http://data.nba.net/prod/v1/today.json)\n",
    "- [空氣品質指標(AQI)](https://opendata.epa.gov.tw/ws/Data/AQI/?$format=json)\n",
    "- [PCHome 線上購物](https://ecshweb.pchome.com.tw/search/v3.3/all/results?q=macbook&page=1&sort=sale/dc)\n",
    "\n",
    "### Important attrs / methods\n",
    "\n",
    "- `r = requests.get(URL)`\n",
    "- `r.status_code`\n",
    "- `r.json()`: `dict` / `list`\n",
    "- `r.content`: `bytes`\n",
    "- `r.text`: `str`"
   ]
  },
  {
   "cell_type": "code",
   "execution_count": 19,
   "metadata": {},
   "outputs": [
    {
     "name": "stderr",
     "output_type": "stream",
     "text": [
      "C:\\Users\\Student\\Miniconda3\\envs\\crawler\\lib\\site-packages\\urllib3\\connectionpool.py:847: InsecureRequestWarning: Unverified HTTPS request is being made. Adding certificate verification is strongly advised. See: https://urllib3.readthedocs.io/en/latest/advanced-usage.html#ssl-warnings\n",
      "  InsecureRequestWarning)\n"
     ]
    },
    {
     "name": "stdout",
     "output_type": "stream",
     "text": [
      "<class 'requests.models.Response'>\n"
     ]
    }
   ],
   "source": [
    "import requests\n",
    "\n",
    "r = requests.get(\"https://opendata.epa.gov.tw/ws/Data/AQI/?$format=json\", verify=False)\n",
    "print(type(r))"
   ]
  },
  {
   "cell_type": "code",
   "execution_count": 21,
   "metadata": {},
   "outputs": [
    {
     "name": "stdout",
     "output_type": "stream",
     "text": [
      "200\n"
     ]
    }
   ],
   "source": [
    "print(r.status_code)"
   ]
  },
  {
   "cell_type": "code",
   "execution_count": 22,
   "metadata": {},
   "outputs": [
    {
     "name": "stdout",
     "output_type": "stream",
     "text": [
      "[{'SiteName': '屏東(琉球)', 'County': '屏東縣', 'AQI': '', 'Pollutant': '', 'Status': '設備維護', 'SO2': '', 'CO': '', 'CO_8hr': '0.2', 'O3': '28', 'O3_8hr': '22', 'PM10': '', 'PM2.5': '', 'NO2': '', 'NOx': '', 'NO': '', 'WindSpeed': '2.3', 'WindDirec': '176', 'PublishTime': '2019-05-15 11:00', 'PM2.5_AVG': '', 'PM10_AVG': '15', 'SO2_AVG': '2', 'Longitude': '120.377222', 'Latitude': '22.352222'}, {'SiteName': '苗栗(後龍)', 'County': '苗栗縣', 'AQI': '78', 'Pollutant': '細懸浮微粒', 'Status': '普通', 'SO2': '', 'CO': '', 'CO_8hr': '0.3', 'O3': '', 'O3_8hr': '13', 'PM10': '', 'PM2.5': '', 'NO2': '', 'NOx': '', 'NO': '', 'WindSpeed': '2.2', 'WindDirec': '280', 'PublishTime': '2019-05-15 11:00', 'PM2.5_AVG': '26', 'PM10_AVG': '41', 'SO2_AVG': '3', 'Longitude': '120.786028', 'Latitude': '24.616369'}, {'SiteName': '彰化(大城)', 'County': '彰化縣', 'AQI': '65', 'Pollutant': '細懸浮微粒', 'Status': '普通', 'SO2': '2.5', 'CO': '0.24', 'CO_8hr': '0.2', 'O3': '39', 'O3_8hr': '23', 'PM10': '19', 'PM2.5': '10', 'NO2': '1.6', 'NOx': '3.4', 'NO': '1.8', 'WindSpeed': '0.6', 'WindDirec': '342', 'PublishTime': '2019-05-15 11:00', 'PM2.5_AVG': '21', 'PM10_AVG': '38', 'SO2_AVG': '3', 'Longitude': '120.273117', 'Latitude': '23.843139'}, {'SiteName': '臺南(北門)', 'County': '臺南市', 'AQI': '36', 'Pollutant': '', 'Status': '良好', 'SO2': '1.1', 'CO': '0.03', 'CO_8hr': '0.1', 'O3': '37', 'O3_8hr': '21', 'PM10': '25', 'PM2.5': '9', 'NO2': '2.5', 'NOx': '3.2', 'NO': '0.7', 'WindSpeed': '2.4', 'WindDirec': '272', 'PublishTime': '2019-05-15 11:00', 'PM2.5_AVG': '11', 'PM10_AVG': '28', 'SO2_AVG': '2', 'Longitude': '120.124444', 'Latitude': '23.264722'}, {'SiteName': '富貴角', 'County': '新北市', 'AQI': '49', 'Pollutant': '', 'Status': '良好', 'SO2': '0.3', 'CO': '0.2', 'CO_8hr': '0.2', 'O3': '48', 'O3_8hr': '42', 'PM10': '30', 'PM2.5': '15', 'NO2': '1.3', 'NOx': '1.5', 'NO': '0.2', 'WindSpeed': '3.7', 'WindDirec': '76', 'PublishTime': '2019-05-15 11:00', 'PM2.5_AVG': '15', 'PM10_AVG': '36', 'SO2_AVG': '1', 'Longitude': '121.536763', 'Latitude': '25.298562'}, {'SiteName': '麥寮', 'County': '雲林縣', 'AQI': '', 'Pollutant': '', 'Status': '設備維護', 'SO2': '', 'CO': '', 'CO_8hr': '', 'O3': '', 'O3_8hr': '', 'PM10': '', 'PM2.5': '', 'NO2': '', 'NOx': '', 'NO': '', 'WindSpeed': '', 'WindDirec': '', 'PublishTime': '2019-05-15 11:00', 'PM2.5_AVG': '', 'PM10_AVG': '', 'SO2_AVG': '', 'Longitude': '120.251825', 'Latitude': '23.753506'}, {'SiteName': '關山', 'County': '臺東縣', 'AQI': '44', 'Pollutant': '', 'Status': '良好', 'SO2': '1.6', 'CO': '-', 'CO_8hr': '', 'O3': '26', 'O3_8hr': '16', 'PM10': '30', 'PM2.5': '12', 'NO2': '1.5', 'NOx': '3.5', 'NO': '2.1', 'WindSpeed': '2.1', 'WindDirec': '204', 'PublishTime': '2019-05-15 11:00', 'PM2.5_AVG': '14', 'PM10_AVG': '29', 'SO2_AVG': '1', 'Longitude': '121.161933', 'Latitude': '23.045083'}, {'SiteName': '馬公', 'County': '澎湖縣', 'AQI': '29', 'Pollutant': '', 'Status': '良好', 'SO2': '', 'CO': '', 'CO_8hr': '0.2', 'O3': '', 'O3_8hr': '21', 'PM10': '', 'PM2.5': '', 'NO2': '', 'NOx': '', 'NO': '', 'WindSpeed': '1.7', 'WindDirec': '185', 'PublishTime': '2019-05-15 11:00', 'PM2.5_AVG': '9', 'PM10_AVG': '20', 'SO2_AVG': '1', 'Longitude': '119.566158', 'Latitude': '23.569031'}, {'SiteName': '金門', 'County': '金門縣', 'AQI': '60', 'Pollutant': '細懸浮微粒', 'Status': '普通', 'SO2': '2.3', 'CO': '0.3', 'CO_8hr': '0.3', 'O3': '39', 'O3_8hr': '37', 'PM10': '36', 'PM2.5': '20', 'NO2': '9.6', 'NOx': '12', 'NO': '2.1', 'WindSpeed': '1.8', 'WindDirec': '146', 'PublishTime': '2019-05-15 11:00', 'PM2.5_AVG': '19', 'PM10_AVG': '37', 'SO2_AVG': '3', 'Longitude': '118.312256', 'Latitude': '24.432133'}, {'SiteName': '馬祖', 'County': '連江縣', 'AQI': '61', 'Pollutant': '細懸浮微粒', 'Status': '普通', 'SO2': '1.9', 'CO': '0.15', 'CO_8hr': '0.2', 'O3': '55', 'O3_8hr': '55', 'PM10': '', 'PM2.5': '', 'NO2': '6.6', 'NOx': '9.4', 'NO': '2.8', 'WindSpeed': '1.5', 'WindDirec': '330', 'PublishTime': '2019-05-15 11:00', 'PM2.5_AVG': '19', 'PM10_AVG': '30', 'SO2_AVG': '2', 'Longitude': '119.949875', 'Latitude': '26.160469'}, {'SiteName': '埔里', 'County': '南投縣', 'AQI': '', 'Pollutant': '', 'Status': '設備維護', 'SO2': '1.7', 'CO': '0.2', 'CO_8hr': '0.2', 'O3': '47', 'O3_8hr': '25', 'PM10': '40', 'PM2.5': '', 'NO2': '6.1', 'NOx': '7.1', 'NO': '1', 'WindSpeed': '1.7', 'WindDirec': '6.6', 'PublishTime': '2019-05-15 11:00', 'PM2.5_AVG': '', 'PM10_AVG': '33', 'SO2_AVG': '2', 'Longitude': '120.967903', 'Latitude': '23.968842'}, {'SiteName': '復興', 'County': '高雄市', 'AQI': '62', 'Pollutant': '細懸浮微粒', 'Status': '普通', 'SO2': '2.2', 'CO': '0.29', 'CO_8hr': '0.4', 'O3': '20', 'O3_8hr': '9', 'PM10': '20', 'PM2.5': '19', 'NO2': '11', 'NOx': '14', 'NO': '3', 'WindSpeed': '0.9', 'WindDirec': '233', 'PublishTime': '2019-05-15 11:00', 'PM2.5_AVG': '20', 'PM10_AVG': '37', 'SO2_AVG': '4', 'Longitude': '120.312017', 'Latitude': '22.608711'}, {'SiteName': '永和', 'County': '新北市', 'AQI': '77', 'Pollutant': '細懸浮微粒', 'Status': '普通', 'SO2': '2.4', 'CO': '1.52', 'CO_8hr': '1.2', 'O3': '19', 'O3_8hr': '15', 'PM10': '53', 'PM2.5': '27', 'NO2': '40', 'NOx': '73', 'NO': '34', 'WindSpeed': '0.8', 'WindDirec': '103', 'PublishTime': '2019-05-15 11:00', 'PM2.5_AVG': '26', 'PM10_AVG': '48', 'SO2_AVG': '2', 'Longitude': '121.516306', 'Latitude': '25.017'}, {'SiteName': '竹山', 'County': '南投縣', 'AQI': '36', 'Pollutant': '', 'Status': '良好', 'SO2': '1.6', 'CO': '0.16', 'CO_8hr': '0.2', 'O3': '37', 'O3_8hr': '15', 'PM10': '19', 'PM2.5': '2', 'NO2': '2.9', 'NOx': '5.1', 'NO': '2.2', 'WindSpeed': '1.7', 'WindDirec': '297', 'PublishTime': '2019-05-15 11:00', 'PM2.5_AVG': '11', 'PM10_AVG': '22', 'SO2_AVG': '3', 'Longitude': '120.677306', 'Latitude': '23.756389'}, {'SiteName': '中壢', 'County': '桃園市', 'AQI': '112', 'Pollutant': '細懸浮微粒', 'Status': '對敏感族群不健康', 'SO2': '3.1', 'CO': '1.1', 'CO_8hr': '1.6', 'O3': '16', 'O3_8hr': '6', 'PM10': '39', 'PM2.5': '40', 'NO2': '29', 'NOx': '61', 'NO': '31', 'WindSpeed': '1.1', 'WindDirec': '25', 'PublishTime': '2019-05-15 11:00', 'PM2.5_AVG': '40', 'PM10_AVG': '52', 'SO2_AVG': '4', 'Longitude': '121.221667', 'Latitude': '24.953278'}, {'SiteName': '三重', 'County': '新北市', 'AQI': '70', 'Pollutant': '細懸浮微粒', 'Status': '普通', 'SO2': '4.3', 'CO': '1.51', 'CO_8hr': '1.3', 'O3': '-', 'O3_8hr': '', 'PM10': '53', 'PM2.5': '24', 'NO2': '46', 'NOx': '122', 'NO': '76', 'WindSpeed': '', 'WindDirec': '', 'PublishTime': '2019-05-15 11:00', 'PM2.5_AVG': '23', 'PM10_AVG': '48', 'SO2_AVG': '3', 'Longitude': '121.493806', 'Latitude': '25.072611'}, {'SiteName': '冬山', 'County': '宜蘭縣', 'AQI': '51', 'Pollutant': '細懸浮微粒', 'Status': '普通', 'SO2': '1.9', 'CO': '0.25', 'CO_8hr': '0.2', 'O3': '38', 'O3_8hr': '29', 'PM10': '33', 'PM2.5': '14', 'NO2': '12', 'NOx': '15', 'NO': '2.8', 'WindSpeed': '1.6', 'WindDirec': '36', 'PublishTime': '2019-05-15 11:00', 'PM2.5_AVG': '16', 'PM10_AVG': '36', 'SO2_AVG': '3', 'Longitude': '121.792928', 'Latitude': '24.632203'}, {'SiteName': '宜蘭', 'County': '宜蘭縣', 'AQI': '', 'Pollutant': '', 'Status': '設備維護', 'SO2': '', 'CO': '', 'CO_8hr': '0.2', 'O3': '', 'O3_8hr': '19', 'PM10': '', 'PM2.5': '', 'NO2': '', 'NOx': '', 'NO': '', 'WindSpeed': '', 'WindDirec': '', 'PublishTime': '2019-05-15 11:00', 'PM2.5_AVG': '', 'PM10_AVG': '', 'SO2_AVG': '2', 'Longitude': '121.746394', 'Latitude': '24.747917'}, {'SiteName': '陽明', 'County': '臺北市', 'AQI': '46', 'Pollutant': '', 'Status': '良好', 'SO2': '2.8', 'CO': '0.23', 'CO_8hr': '0.2', 'O3': '25', 'O3_8hr': '21', 'PM10': '22', 'PM2.5': '17', 'NO2': '3.3', 'NOx': '3.8', 'NO': '0.5', 'WindSpeed': '', 'WindDirec': '', 'PublishTime': '2019-05-15 11:00', 'PM2.5_AVG': '14', 'PM10_AVG': '20', 'SO2_AVG': '2', 'Longitude': '121.529583', 'Latitude': '25.182722'}, {'SiteName': '花蓮', 'County': '花蓮縣', 'AQI': '65', 'Pollutant': '細懸浮微粒', 'Status': '普通', 'SO2': '1.5', 'CO': '0.22', 'CO_8hr': '0.2', 'O3': '47', 'O3_8hr': '29', 'PM10': '39', 'PM2.5': '28', 'NO2': '5', 'NOx': '7', 'NO': '2', 'WindSpeed': '3.7', 'WindDirec': '93', 'PublishTime': '2019-05-15 11:00', 'PM2.5_AVG': '21', 'PM10_AVG': '39', 'SO2_AVG': '1', 'Longitude': '121.599769', 'Latitude': '23.971306'}, {'SiteName': '臺東', 'County': '臺東縣', 'AQI': '57', 'Pollutant': '細懸浮微粒', 'Status': '普通', 'SO2': '1.1', 'CO': '0.3', 'CO_8hr': '0.3', 'O3': '26', 'O3_8hr': '20', 'PM10': '55', 'PM2.5': '17', 'NO2': '4.4', 'NOx': '5.3', 'NO': '0.9', 'WindSpeed': '2', 'WindDirec': '96', 'PublishTime': '2019-05-15 11:00', 'PM2.5_AVG': '18', 'PM10_AVG': '32', 'SO2_AVG': '1', 'Longitude': '121.15045', 'Latitude': '22.755358'}, {'SiteName': '恆春', 'County': '屏東縣', 'AQI': '29', 'Pollutant': '', 'Status': '良好', 'SO2': '1.7', 'CO': '0.1', 'CO_8hr': '0.1', 'O3': '24', 'O3_8hr': '28', 'PM10': '11', 'PM2.5': '5', 'NO2': '1.5', 'NOx': '2.1', 'NO': '0.6', 'WindSpeed': '1.6', 'WindDirec': '54', 'PublishTime': '2019-05-15 11:00', 'PM2.5_AVG': '9', 'PM10_AVG': '16', 'SO2_AVG': '2', 'Longitude': '120.788928', 'Latitude': '21.958069'}, {'SiteName': '潮州', 'County': '屏東縣', 'AQI': '56', 'Pollutant': '細懸浮微粒', 'Status': '普通', 'SO2': '2.5', 'CO': '0.22', 'CO_8hr': '0.2', 'O3': '34', 'O3_8hr': '17', 'PM10': '41', 'PM2.5': '21', 'NO2': '4.3', 'NOx': '6.3', 'NO': '2', 'WindSpeed': '2.6', 'WindDirec': '213', 'PublishTime': '2019-05-15 11:00', 'PM2.5_AVG': '17', 'PM10_AVG': '38', 'SO2_AVG': '3', 'Longitude': '120.561175', 'Latitude': '22.523108'}, {'SiteName': '屏東', 'County': '屏東縣', 'AQI': '60', 'Pollutant': '細懸浮微粒', 'Status': '普通', 'SO2': '2.3', 'CO': '0.51', 'CO_8hr': '0.4', 'O3': '26', 'O3_8hr': '17', 'PM10': '40', 'PM2.5': '26', 'NO2': '17', 'NOx': '19', 'NO': '1.9', 'WindSpeed': '2.2', 'WindDirec': '234', 'PublishTime': '2019-05-15 11:00', 'PM2.5_AVG': '19', 'PM10_AVG': '40', 'SO2_AVG': '2', 'Longitude': '120.488033', 'Latitude': '22.673081'}, {'SiteName': '小港', 'County': '高雄市', 'AQI': '47', 'Pollutant': '', 'Status': '良好', 'SO2': '2.2', 'CO': '0.25', 'CO_8hr': '0.3', 'O3': '11', 'O3_8hr': '9', 'PM10': '30', 'PM2.5': '14', 'NO2': '21', 'NOx': '31', 'NO': '9.6', 'WindSpeed': '1.4', 'WindDirec': '217', 'PublishTime': '2019-05-15 11:00', 'PM2.5_AVG': '14', 'PM10_AVG': '31', 'SO2_AVG': '3', 'Longitude': '120.337736', 'Latitude': '22.565833'}, {'SiteName': '前鎮', 'County': '高雄市', 'AQI': '37', 'Pollutant': '', 'Status': '良好', 'SO2': '2.7', 'CO': '0.31', 'CO_8hr': '0.4', 'O3': '19', 'O3_8hr': '8', 'PM10': '26', 'PM2.5': 'ND', 'NO2': '13', 'NOx': '16', 'NO': '3.5', 'WindSpeed': '1.5', 'WindDirec': '202', 'PublishTime': '2019-05-15 11:00', 'PM2.5_AVG': '12', 'PM10_AVG': '34', 'SO2_AVG': '4', 'Longitude': '120.307564', 'Latitude': '22.605386'}, {'SiteName': '前金', 'County': '高雄市', 'AQI': '53', 'Pollutant': '細懸浮微粒', 'Status': '普通', 'SO2': '2.5', 'CO': '0.24', 'CO_8hr': '0.3', 'O3': '24', 'O3_8hr': '13', 'PM10': '30', 'PM2.5': '14', 'NO2': '11', 'NOx': '14', 'NO': '3.4', 'WindSpeed': '2.5', 'WindDirec': '227', 'PublishTime': '2019-05-15 11:00', 'PM2.5_AVG': '16', 'PM10_AVG': '32', 'SO2_AVG': '2', 'Longitude': '120.288086', 'Latitude': '22.632567'}, {'SiteName': '左營', 'County': '高雄市', 'AQI': '58', 'Pollutant': '細懸浮微粒', 'Status': '普通', 'SO2': '3.3', 'CO': '0.25', 'CO_8hr': '0.4', 'O3': '18', 'O3_8hr': '19', 'PM10': '23', 'PM2.5': '19', 'NO2': '11', 'NOx': '15', 'NO': '4', 'WindSpeed': '1.2', 'WindDirec': '298', 'PublishTime': '2019-05-15 11:00', 'PM2.5_AVG': '19', 'PM10_AVG': '31', 'SO2_AVG': '3', 'Longitude': '120.292917', 'Latitude': '22.674861'}, {'SiteName': '楠梓', 'County': '高雄市', 'AQI': '76', 'Pollutant': '細懸浮微粒', 'Status': '普通', 'SO2': '2.5', 'CO': '0.37', 'CO_8hr': '0.4', 'O3': '31', 'O3_8hr': '20', 'PM10': '37', 'PM2.5': '33', 'NO2': '17', 'NOx': '22', 'NO': '4.8', 'WindSpeed': '2.1', 'WindDirec': '186', 'PublishTime': '2019-05-15 11:00', 'PM2.5_AVG': '26', 'PM10_AVG': '35', 'SO2_AVG': '2', 'Longitude': '120.328289', 'Latitude': '22.733667'}, {'SiteName': '林園', 'County': '高雄市', 'AQI': '43', 'Pollutant': '', 'Status': '良好', 'SO2': '2', 'CO': '0.13', 'CO_8hr': '0.2', 'O3': '29', 'O3_8hr': '22', 'PM10': '22', 'PM2.5': '6', 'NO2': '1.9', 'NOx': '2.4', 'NO': '0.5', 'WindSpeed': '3.5', 'WindDirec': '184', 'PublishTime': '2019-05-15 11:00', 'PM2.5_AVG': '13', 'PM10_AVG': '31', 'SO2_AVG': '4', 'Longitude': '120.41175', 'Latitude': '22.4795'}, {'SiteName': '大寮', 'County': '高雄市', 'AQI': '59', 'Pollutant': '細懸浮微粒', 'Status': '普通', 'SO2': '3.9', 'CO': '0.22', 'CO_8hr': '0.2', 'O3': '16', 'O3_8hr': '12', 'PM10': '33', 'PM2.5': '24', 'NO2': '13', 'NOx': '15', 'NO': '2.8', 'WindSpeed': '1.3', 'WindDirec': '207', 'PublishTime': '2019-05-15 11:00', 'PM2.5_AVG': '19', 'PM10_AVG': '38', 'SO2_AVG': '4', 'Longitude': '120.425081', 'Latitude': '22.565747'}, {'SiteName': '鳳山', 'County': '高雄市', 'AQI': '66', 'Pollutant': '細懸浮微粒', 'Status': '普通', 'SO2': '3.2', 'CO': '0.53', 'CO_8hr': '0.4', 'O3': '8.3', 'O3_8hr': '13', 'PM10': '34', 'PM2.5': '25', 'NO2': '28', 'NOx': '35', 'NO': '7.3', 'WindSpeed': '2', 'WindDirec': '82', 'PublishTime': '2019-05-15 11:00', 'PM2.5_AVG': '22', 'PM10_AVG': '38', 'SO2_AVG': '3', 'Longitude': '120.358083', 'Latitude': '22.627392'}, {'SiteName': '仁武', 'County': '高雄市', 'AQI': '70', 'Pollutant': '細懸浮微粒', 'Status': '普通', 'SO2': '', 'CO': '', 'CO_8hr': '0.4', 'O3': '', 'O3_8hr': '15', 'PM10': '', 'PM2.5': '29', 'NO2': '', 'NOx': '', 'NO': '', 'WindSpeed': '1.5', 'WindDirec': '119', 'PublishTime': '2019-05-15 11:00', 'PM2.5_AVG': '23', 'PM10_AVG': '44', 'SO2_AVG': '4', 'Longitude': '120.332631', 'Latitude': '22.689056'}, {'SiteName': '橋頭', 'County': '高雄市', 'AQI': '68', 'Pollutant': '細懸浮微粒', 'Status': '普通', 'SO2': '2.9', 'CO': '0.29', 'CO_8hr': '0.3', 'O3': '45', 'O3_8hr': '23', 'PM10': '38', 'PM2.5': '36', 'NO2': '13', 'NOx': '14', 'NO': '1.4', 'WindSpeed': '3.2', 'WindDirec': '221', 'PublishTime': '2019-05-15 11:00', 'PM2.5_AVG': '23', 'PM10_AVG': '31', 'SO2_AVG': '3', 'Longitude': '120.305689', 'Latitude': '22.757506'}, {'SiteName': '美濃', 'County': '高雄市', 'AQI': '28', 'Pollutant': '', 'Status': '良好', 'SO2': '2.1', 'CO': '0.14', 'CO_8hr': '0.2', 'O3': '34', 'O3_8hr': '15', 'PM10': '32', 'PM2.5': '8', 'NO2': '3.1', 'NOx': '4.1', 'NO': '1', 'WindSpeed': '3.4', 'WindDirec': '203', 'PublishTime': '2019-05-15 11:00', 'PM2.5_AVG': '8', 'PM10_AVG': '30', 'SO2_AVG': '2', 'Longitude': '120.530542', 'Latitude': '22.883583'}, {'SiteName': '臺南', 'County': '臺南市', 'AQI': '57', 'Pollutant': '細懸浮微粒', 'Status': '普通', 'SO2': '2.9', 'CO': '0.32', 'CO_8hr': '0.4', 'O3': '54', 'O3_8hr': '25', 'PM10': '35', 'PM2.5': '19', 'NO2': '9.7', 'NOx': '10', 'NO': '0.5', 'WindSpeed': '3.4', 'WindDirec': '266', 'PublishTime': '2019-05-15 11:00', 'PM2.5_AVG': '18', 'PM10_AVG': '27', 'SO2_AVG': '3', 'Longitude': '120.202617', 'Latitude': '22.984581'}, {'SiteName': '安南', 'County': '臺南市', 'AQI': '53', 'Pollutant': '細懸浮微粒', 'Status': '普通', 'SO2': '1.9', 'CO': '0.24', 'CO_8hr': '0.3', 'O3': '', 'O3_8hr': '14', 'PM10': '41', 'PM2.5': '16', 'NO2': '7.9', 'NOx': '9.7', 'NO': '1.8', 'WindSpeed': '3.7', 'WindDirec': '255', 'PublishTime': '2019-05-15 11:00', 'PM2.5_AVG': '16', 'PM10_AVG': '43', 'SO2_AVG': '2', 'Longitude': '120.2175', 'Latitude': '23.048197'}, {'SiteName': '善化', 'County': '臺南市', 'AQI': '27', 'Pollutant': '', 'Status': '良好', 'SO2': '2.6', 'CO': '0.16', 'CO_8hr': '0.2', 'O3': '', 'O3_8hr': '12', 'PM10': '21', 'PM2.5': '11', 'NO2': '2.1', 'NOx': '5.6', 'NO': '3.6', 'WindSpeed': '2.1', 'WindDirec': '330', 'PublishTime': '2019-05-15 11:00', 'PM2.5_AVG': '8', 'PM10_AVG': '25', 'SO2_AVG': '3', 'Longitude': '120.297142', 'Latitude': '23.115097'}, {'SiteName': '新營', 'County': '臺南市', 'AQI': '24', 'Pollutant': '', 'Status': '良好', 'SO2': '1.4', 'CO': '0.23', 'CO_8hr': '0.3', 'O3': '31', 'O3_8hr': '14', 'PM10': '16', 'PM2.5': '2', 'NO2': '7.2', 'NOx': '8.6', 'NO': '1.4', 'WindSpeed': '1.7', 'WindDirec': '320', 'PublishTime': '2019-05-15 11:00', 'PM2.5_AVG': '7', 'PM10_AVG': '25', 'SO2_AVG': '2', 'Longitude': '120.31725', 'Latitude': '23.305633'}, {'SiteName': '嘉義', 'County': '嘉義市', 'AQI': '35', 'Pollutant': '', 'Status': '良好', 'SO2': '2.6', 'CO': '0.31', 'CO_8hr': '0.3', 'O3': '39', 'O3_8hr': '17', 'PM10': '17', 'PM2.5': '10', 'NO2': '7.7', 'NOx': '9', 'NO': '1.4', 'WindSpeed': '2.5', 'WindDirec': '269', 'PublishTime': '2019-05-15 11:00', 'PM2.5_AVG': '11', 'PM10_AVG': '17', 'SO2_AVG': '2', 'Longitude': '120.440833', 'Latitude': '23.462778'}, {'SiteName': '臺西', 'County': '雲林縣', 'AQI': '74', 'Pollutant': '細懸浮微粒', 'Status': '普通', 'SO2': '3.7', 'CO': '0.16', 'CO_8hr': '0.2', 'O3': '35', 'O3_8hr': '17', 'PM10': '21', 'PM2.5': '20', 'NO2': '3.6', 'NOx': '6.6', 'NO': '2.9', 'WindSpeed': '4.1', 'WindDirec': '266', 'PublishTime': '2019-05-15 11:00', 'PM2.5_AVG': '25', 'PM10_AVG': '36', 'SO2_AVG': '2', 'Longitude': '120.202842', 'Latitude': '23.717533'}, {'SiteName': '朴子', 'County': '嘉義縣', 'AQI': '43', 'Pollutant': '', 'Status': '良好', 'SO2': '1.9', 'CO': '0.15', 'CO_8hr': '0.2', 'O3': '', 'O3_8hr': '8', 'PM10': '15', 'PM2.5': '11', 'NO2': '2.4', 'NOx': '3.2', 'NO': '0.8', 'WindSpeed': '2.5', 'WindDirec': '307', 'PublishTime': '2019-05-15 11:00', 'PM2.5_AVG': '13', 'PM10_AVG': '26', 'SO2_AVG': '2', 'Longitude': '120.24781', 'Latitude': '23.467123'}, {'SiteName': '新港', 'County': '嘉義縣', 'AQI': '69', 'Pollutant': '細懸浮微粒', 'Status': '普通', 'SO2': '2.8', 'CO': '0.19', 'CO_8hr': '0.3', 'O3': '', 'O3_8hr': '7', 'PM10': '26', 'PM2.5': '23', 'NO2': '3.5', 'NOx': '4.9', 'NO': '1.4', 'WindSpeed': '2', 'WindDirec': '242', 'PublishTime': '2019-05-15 11:00', 'PM2.5_AVG': '23', 'PM10_AVG': '30', 'SO2_AVG': '2', 'Longitude': '120.345531', 'Latitude': '23.554839'}, {'SiteName': '崙背', 'County': '雲林縣', 'AQI': '55', 'Pollutant': '細懸浮微粒', 'Status': '普通', 'SO2': '2.9', 'CO': '0.13', 'CO_8hr': '0.2', 'O3': '40', 'O3_8hr': '18', 'PM10': '23', 'PM2.5': '9', 'NO2': '4.5', 'NOx': '6.4', 'NO': '1.9', 'WindSpeed': '1.6', 'WindDirec': '235', 'PublishTime': '2019-05-15 11:00', 'PM2.5_AVG': '17', 'PM10_AVG': '38', 'SO2_AVG': '2', 'Longitude': '120.348742', 'Latitude': '23.757547'}, {'SiteName': '斗六', 'County': '雲林縣', 'AQI': '47', 'Pollutant': '', 'Status': '良好', 'SO2': '3', 'CO': '0.25', 'CO_8hr': '0.2', 'O3': '47', 'O3_8hr': '18', 'PM10': '31', 'PM2.5': '16', 'NO2': '6.9', 'NOx': '11', 'NO': '4.1', 'WindSpeed': '2.3', 'WindDirec': '325', 'PublishTime': '2019-05-15 11:00', 'PM2.5_AVG': '15', 'PM10_AVG': '26', 'SO2_AVG': '3', 'Longitude': '120.544994', 'Latitude': '23.711853'}, {'SiteName': '南投', 'County': '南投縣', 'AQI': '57', 'Pollutant': '細懸浮微粒', 'Status': '普通', 'SO2': '', 'CO': '', 'CO_8hr': '0.3', 'O3': '33', 'O3_8hr': '10', 'PM10': '', 'PM2.5': '', 'NO2': '', 'NOx': '', 'NO': '', 'WindSpeed': '1.8', 'WindDirec': '11', 'PublishTime': '2019-05-15 11:00', 'PM2.5_AVG': '18', 'PM10_AVG': '31', 'SO2_AVG': '2', 'Longitude': '120.685306', 'Latitude': '23.913'}, {'SiteName': '二林', 'County': '彰化縣', 'AQI': '78', 'Pollutant': '細懸浮微粒', 'Status': '普通', 'SO2': '3.4', 'CO': '0.18', 'CO_8hr': '0.2', 'O3': '34', 'O3_8hr': '18', 'PM10': '65', 'PM2.5': '27', 'NO2': '2.1', 'NOx': '3.5', 'NO': '1.3', 'WindSpeed': '1.4', 'WindDirec': '309', 'PublishTime': '2019-05-15 11:00', 'PM2.5_AVG': '27', 'PM10_AVG': '59', 'SO2_AVG': '3', 'Longitude': '120.409653', 'Latitude': '23.925175'}, {'SiteName': '線西', 'County': '彰化縣', 'AQI': '91', 'Pollutant': '細懸浮微粒', 'Status': '普通', 'SO2': '3.8', 'CO': '0.26', 'CO_8hr': '0.3', 'O3': '40', 'O3_8hr': '22', 'PM10': '29', 'PM2.5': '23', 'NO2': '6.1', 'NOx': '7.4', 'NO': '1.2', 'WindSpeed': '3.5', 'WindDirec': '308', 'PublishTime': '2019-05-15 11:00', 'PM2.5_AVG': '32', 'PM10_AVG': '42', 'SO2_AVG': '3', 'Longitude': '120.469061', 'Latitude': '24.131672'}, {'SiteName': '彰化', 'County': '彰化縣', 'AQI': '65', 'Pollutant': '細懸浮微粒', 'Status': '普通', 'SO2': '2.1', 'CO': '0.24', 'CO_8hr': '0.4', 'O3': '50', 'O3_8hr': '22', 'PM10': '28', 'PM2.5': '24', 'NO2': '6.9', 'NOx': '7.9', 'NO': '0.9', 'WindSpeed': '2.9', 'WindDirec': '291', 'PublishTime': '2019-05-15 11:00', 'PM2.5_AVG': '21', 'PM10_AVG': '34', 'SO2_AVG': '3', 'Longitude': '120.541519', 'Latitude': '24.066'}, {'SiteName': '西屯', 'County': '臺中市', 'AQI': '71', 'Pollutant': '細懸浮微粒', 'Status': '普通', 'SO2': '3.1', 'CO': '0.33', 'CO_8hr': '0.3', 'O3': '63', 'O3_8hr': '23', 'PM10': '38', 'PM2.5': '20', 'NO2': '10', 'NOx': '12', 'NO': '1.5', 'WindSpeed': '2.5', 'WindDirec': '159', 'PublishTime': '2019-05-15 11:00', 'PM2.5_AVG': '24', 'PM10_AVG': '37', 'SO2_AVG': '3', 'Longitude': '120.616917', 'Latitude': '24.162197'}, {'SiteName': '忠明', 'County': '臺中市', 'AQI': '63', 'Pollutant': '細懸浮微粒', 'Status': '普通', 'SO2': '1.9', 'CO': '0.32', 'CO_8hr': '0.3', 'O3': '57', 'O3_8hr': '20', 'PM10': '29', 'PM2.5': '19', 'NO2': '13', 'NOx': '14', 'NO': '1.4', 'WindSpeed': '1.9', 'WindDirec': '220', 'PublishTime': '2019-05-15 11:00', 'PM2.5_AVG': '20', 'PM10_AVG': '27', 'SO2_AVG': '3', 'Longitude': '120.641092', 'Latitude': '24.151958'}, {'SiteName': '大里', 'County': '臺中市', 'AQI': '40', 'Pollutant': '', 'Status': '良好', 'SO2': '3.7', 'CO': '0.31', 'CO_8hr': '0.4', 'O3': '', 'O3_8hr': '5', 'PM10': '39', 'PM2.5': '18', 'NO2': '9.8', 'NOx': '12', 'NO': '1.7', 'WindSpeed': '2.2', 'WindDirec': '218', 'PublishTime': '2019-05-15 11:00', 'PM2.5_AVG': '12', 'PM10_AVG': '32', 'SO2_AVG': '3', 'Longitude': '120.677689', 'Latitude': '24.099611'}, {'SiteName': '沙鹿', 'County': '臺中市', 'AQI': '60', 'Pollutant': '細懸浮微粒', 'Status': '普通', 'SO2': '8.6', 'CO': '0.6', 'CO_8hr': '0.4', 'O3': '31', 'O3_8hr': '18', 'PM10': '43', 'PM2.5': '10', 'NO2': '17', 'NOx': '21', 'NO': '4.1', 'WindSpeed': '3', 'WindDirec': '318', 'PublishTime': '2019-05-15 11:00', 'PM2.5_AVG': '19', 'PM10_AVG': '33', 'SO2_AVG': '4', 'Longitude': '120.568794', 'Latitude': '24.225628'}, {'SiteName': '豐原', 'County': '臺中市', 'AQI': '58', 'Pollutant': '細懸浮微粒', 'Status': '普通', 'SO2': '2', 'CO': '0.29', 'CO_8hr': '0.4', 'O3': '52', 'O3_8hr': '20', 'PM10': '36', 'PM2.5': '14', 'NO2': '9.3', 'NOx': '15', 'NO': '5.9', 'WindSpeed': '2.2', 'WindDirec': '182', 'PublishTime': '2019-05-15 11:00', 'PM2.5_AVG': '19', 'PM10_AVG': '33', 'SO2_AVG': '3', 'Longitude': '120.741711', 'Latitude': '24.256586'}, {'SiteName': '三義', 'County': '苗栗縣', 'AQI': '68', 'Pollutant': '細懸浮微粒', 'Status': '普通', 'SO2': '2.6', 'CO': '0.24', 'CO_8hr': '0.2', 'O3': '49', 'O3_8hr': '17', 'PM10': '44', 'PM2.5': '28', 'NO2': '9', 'NOx': '11', 'NO': '2.1', 'WindSpeed': '1.9', 'WindDirec': '235', 'PublishTime': '2019-05-15 11:00', 'PM2.5_AVG': '23', 'PM10_AVG': '34', 'SO2_AVG': '3', 'Longitude': '120.758833', 'Latitude': '24.382942'}, {'SiteName': '苗栗', 'County': '苗栗縣', 'AQI': '90', 'Pollutant': '細懸浮微粒', 'Status': '普通', 'SO2': '3.1', 'CO': '0.33', 'CO_8hr': '0.4', 'O3': '31', 'O3_8hr': '14', 'PM10': '27', 'PM2.5': '27', 'NO2': '8.1', 'NOx': '10', 'NO': '2.1', 'WindSpeed': '2.3', 'WindDirec': '338', 'PublishTime': '2019-05-15 11:00', 'PM2.5_AVG': '31', 'PM10_AVG': '38', 'SO2_AVG': '3', 'Longitude': '120.8202', 'Latitude': '24.565269'}, {'SiteName': '頭份', 'County': '苗栗縣', 'AQI': '77', 'Pollutant': '細懸浮微粒', 'Status': '普通', 'SO2': '1.7', 'CO': '0.25', 'CO_8hr': '0.4', 'O3': '38', 'O3_8hr': '15', 'PM10': '41', 'PM2.5': '24', 'NO2': '7.6', 'NOx': '10', 'NO': '2.7', 'WindSpeed': '2.6', 'WindDirec': '324', 'PublishTime': '2019-05-15 11:00', 'PM2.5_AVG': '26', 'PM10_AVG': '54', 'SO2_AVG': '3', 'Longitude': '120.898572', 'Latitude': '24.696969'}, {'SiteName': '新竹', 'County': '新竹市', 'AQI': '75', 'Pollutant': '細懸浮微粒', 'Status': '普通', 'SO2': '2.7', 'CO': '0.35', 'CO_8hr': '0.4', 'O3': '40', 'O3_8hr': '14', 'PM10': '39', 'PM2.5': '20', 'NO2': '6.3', 'NOx': '9', 'NO': '2.7', 'WindSpeed': '1.9', 'WindDirec': '278', 'PublishTime': '2019-05-15 11:00', 'PM2.5_AVG': '25', 'PM10_AVG': '49', 'SO2_AVG': '3', 'Longitude': '120.972075', 'Latitude': '24.805619'}, {'SiteName': '竹東', 'County': '新竹縣', 'AQI': '60', 'Pollutant': '細懸浮微粒', 'Status': '普通', 'SO2': '1.3', 'CO': '0.27', 'CO_8hr': '0.3', 'O3': '34', 'O3_8hr': '12', 'PM10': '39', 'PM2.5': '23', 'NO2': '6.2', 'NOx': '7.9', 'NO': '1.7', 'WindSpeed': '0.9', 'WindDirec': '223', 'PublishTime': '2019-05-15 11:00', 'PM2.5_AVG': '19', 'PM10_AVG': '40', 'SO2_AVG': '2', 'Longitude': '121.088903', 'Latitude': '24.740644'}, {'SiteName': '湖口', 'County': '新竹縣', 'AQI': '73', 'Pollutant': '細懸浮微粒', 'Status': '普通', 'SO2': '3.8', 'CO': '0.33', 'CO_8hr': '0.3', 'O3': '45', 'O3_8hr': '20', 'PM10': '58', 'PM2.5': '25', 'NO2': '9.8', 'NOx': '13', 'NO': '2.8', 'WindSpeed': '2', 'WindDirec': '313', 'PublishTime': '2019-05-15 11:00', 'PM2.5_AVG': '25', 'PM10_AVG': '54', 'SO2_AVG': '3', 'Longitude': '121.038653', 'Latitude': '24.900142'}, {'SiteName': '龍潭', 'County': '桃園市', 'AQI': '84', 'Pollutant': '細懸浮微粒', 'Status': '普通', 'SO2': '2', 'CO': '0.42', 'CO_8hr': '0.4', 'O3': '31', 'O3_8hr': '16', 'PM10': '37', 'PM2.5': '21', 'NO2': '10', 'NOx': '14', 'NO': '3.5', 'WindSpeed': '2.1', 'WindDirec': '244', 'PublishTime': '2019-05-15 11:00', 'PM2.5_AVG': '29', 'PM10_AVG': '43', 'SO2_AVG': '3', 'Longitude': '121.21635', 'Latitude': '24.863869'}, {'SiteName': '平鎮', 'County': '桃園市', 'AQI': '104', 'Pollutant': '細懸浮微粒', 'Status': '對敏感族群不健康', 'SO2': '3.1', 'CO': '0.3', 'CO_8hr': '0.5', 'O3': '30', 'O3_8hr': '13', 'PM10': '', 'PM2.5': '43', 'NO2': '18', 'NOx': '25', 'NO': '6.6', 'WindSpeed': '2', 'WindDirec': '274', 'PublishTime': '2019-05-15 11:00', 'PM2.5_AVG': '37', 'PM10_AVG': '56', 'SO2_AVG': '3', 'Longitude': '121.203986', 'Latitude': '24.952786'}, {'SiteName': '觀音', 'County': '桃園市', 'AQI': '75', 'Pollutant': '細懸浮微粒', 'Status': '普通', 'SO2': '7.2', 'CO': '0.4', 'CO_8hr': '0.4', 'O3': '37', 'O3_8hr': '19', 'PM10': '56', 'PM2.5': '32', 'NO2': '15', 'NOx': '19', 'NO': '3.9', 'WindSpeed': '1.6', 'WindDirec': '349', 'PublishTime': '2019-05-15 11:00', 'PM2.5_AVG': '25', 'PM10_AVG': '50', 'SO2_AVG': '5', 'Longitude': '121.082761', 'Latitude': '25.035503'}, {'SiteName': '大園', 'County': '桃園市', 'AQI': '89', 'Pollutant': '細懸浮微粒', 'Status': '普通', 'SO2': '6.9', 'CO': '0.44', 'CO_8hr': '0.5', 'O3': '25', 'O3_8hr': '17', 'PM10': '61', 'PM2.5': '49', 'NO2': '29', 'NOx': '39', 'NO': '11', 'WindSpeed': '2.9', 'WindDirec': '0.4', 'PublishTime': '2019-05-15 11:00', 'PM2.5_AVG': '31', 'PM10_AVG': '56', 'SO2_AVG': '5', 'Longitude': '121.201811', 'Latitude': '25.060344'}, {'SiteName': '桃園', 'County': '桃園市', 'AQI': '106', 'Pollutant': '細懸浮微粒', 'Status': '對敏感族群不健康', 'SO2': '3.1', 'CO': '0.45', 'CO_8hr': '0.6', 'O3': '20', 'O3_8hr': '12', 'PM10': '37', 'PM2.5': '35', 'NO2': '17', 'NOx': '20', 'NO': '3.4', 'WindSpeed': '0.7', 'WindDirec': '217', 'PublishTime': '2019-05-15 11:00', 'PM2.5_AVG': '38', 'PM10_AVG': '55', 'SO2_AVG': '5', 'Longitude': '121.304383', 'Latitude': '24.995368'}, {'SiteName': '大同', 'County': '臺北市', 'AQI': '72', 'Pollutant': '細懸浮微粒', 'Status': '普通', 'SO2': '3.6', 'CO': '1.43', 'CO_8hr': '1.0', 'O3': '-', 'O3_8hr': '', 'PM10': '41', 'PM2.5': '23', 'NO2': '40', 'NOx': '80', 'NO': '40', 'WindSpeed': '', 'WindDirec': '', 'PublishTime': '2019-05-15 11:00', 'PM2.5_AVG': '24', 'PM10_AVG': '50', 'SO2_AVG': '3', 'Longitude': '121.513311', 'Latitude': '25.0632'}, {'SiteName': '松山', 'County': '臺北市', 'AQI': '68', 'Pollutant': '細懸浮微粒', 'Status': '普通', 'SO2': '3.2', 'CO': '0.46', 'CO_8hr': '0.4', 'O3': '25', 'O3_8hr': '22', 'PM10': '42', 'PM2.5': '24', 'NO2': '22', 'NOx': '31', 'NO': '9.4', 'WindSpeed': '1.3', 'WindDirec': '311', 'PublishTime': '2019-05-15 11:00', 'PM2.5_AVG': '22', 'PM10_AVG': '48', 'SO2_AVG': '2', 'Longitude': '121.578611', 'Latitude': '25.05'}, {'SiteName': '古亭', 'County': '臺北市', 'AQI': '86', 'Pollutant': '細懸浮微粒', 'Status': '普通', 'SO2': '2.3', 'CO': '0.77', 'CO_8hr': '0.5', 'O3': '27', 'O3_8hr': '19', 'PM10': '47', 'PM2.5': '34', 'NO2': '28', 'NOx': '38', 'NO': '9.6', 'WindSpeed': '1.3', 'WindDirec': '270', 'PublishTime': '2019-05-15 11:00', 'PM2.5_AVG': '30', 'PM10_AVG': '49', 'SO2_AVG': '2', 'Longitude': '121.529556', 'Latitude': '25.020608'}, {'SiteName': '萬華', 'County': '臺北市', 'AQI': '68', 'Pollutant': '細懸浮微粒', 'Status': '普通', 'SO2': '3.1', 'CO': '0.82', 'CO_8hr': '0.5', 'O3': '23', 'O3_8hr': '17', 'PM10': '42', 'PM2.5': '18', 'NO2': '28', 'NOx': '38', 'NO': '10', 'WindSpeed': '1', 'WindDirec': '307', 'PublishTime': '2019-05-15 11:00', 'PM2.5_AVG': '22', 'PM10_AVG': '45', 'SO2_AVG': '2', 'Longitude': '121.507972', 'Latitude': '25.046503'}, {'SiteName': '中山', 'County': '臺北市', 'AQI': '70', 'Pollutant': '細懸浮微粒', 'Status': '普通', 'SO2': '3.8', 'CO': '0.74', 'CO_8hr': '0.6', 'O3': '20', 'O3_8hr': '18', 'PM10': '42', 'PM2.5': '23', 'NO2': '31', 'NOx': '45', 'NO': '14', 'WindSpeed': '1.5', 'WindDirec': '149', 'PublishTime': '2019-05-15 11:00', 'PM2.5_AVG': '23', 'PM10_AVG': '47', 'SO2_AVG': '2', 'Longitude': '121.526528', 'Latitude': '25.062361'}, {'SiteName': '士林', 'County': '臺北市', 'AQI': '61', 'Pollutant': '細懸浮微粒', 'Status': '普通', 'SO2': '', 'CO': '', 'CO_8hr': '0.3', 'O3': '', 'O3_8hr': '25', 'PM10': '', 'PM2.5': '', 'NO2': '', 'NOx': '', 'NO': '', 'WindSpeed': '0.7', 'WindDirec': '244', 'PublishTime': '2019-05-15 11:00', 'PM2.5_AVG': '20', 'PM10_AVG': '38', 'SO2_AVG': '3', 'Longitude': '121.515389', 'Latitude': '25.105417'}, {'SiteName': '淡水', 'County': '新北市', 'AQI': '65', 'Pollutant': '細懸浮微粒', 'Status': '普通', 'SO2': '2.9', 'CO': '0.46', 'CO_8hr': '0.3', 'O3': '22', 'O3_8hr': '20', 'PM10': '36', 'PM2.5': '22', 'NO2': '18', 'NOx': '21', 'NO': '3.1', 'WindSpeed': '', 'WindDirec': '', 'PublishTime': '2019-05-15 11:00', 'PM2.5_AVG': '21', 'PM10_AVG': '34', 'SO2_AVG': '3', 'Longitude': '121.449239', 'Latitude': '25.1645'}, {'SiteName': '林口', 'County': '新北市', 'AQI': '67', 'Pollutant': '細懸浮微粒', 'Status': '普通', 'SO2': '3.2', 'CO': '0.39', 'CO_8hr': '0.5', 'O3': '27', 'O3_8hr': '15', 'PM10': '39', 'PM2.5': '23', 'NO2': '17', 'NOx': '21', 'NO': '4.1', 'WindSpeed': '2.1', 'WindDirec': '261', 'PublishTime': '2019-05-15 11:00', 'PM2.5_AVG': '22', 'PM10_AVG': '51', 'SO2_AVG': '3', 'Longitude': '121.376869', 'Latitude': '25.077197'}, {'SiteName': '菜寮', 'County': '新北市', 'AQI': '61', 'Pollutant': '細懸浮微粒', 'Status': '普通', 'SO2': '3.1', 'CO': '0.83', 'CO_8hr': '0.6', 'O3': '24', 'O3_8hr': '19', 'PM10': '46', 'PM2.5': '20', 'NO2': '28', 'NOx': '35', 'NO': '7', 'WindSpeed': '1.1', 'WindDirec': '332', 'PublishTime': '2019-05-15 11:00', 'PM2.5_AVG': '20', 'PM10_AVG': '45', 'SO2_AVG': '3', 'Longitude': '121.481028', 'Latitude': '25.06895'}, {'SiteName': '新莊', 'County': '新北市', 'AQI': '75', 'Pollutant': '細懸浮微粒', 'Status': '普通', 'SO2': '4', 'CO': '0.72', 'CO_8hr': '0.6', 'O3': '34', 'O3_8hr': '20', 'PM10': '47', 'PM2.5': '26', 'NO2': '24', 'NOx': '30', 'NO': '5.2', 'WindSpeed': '1.6', 'WindDirec': '217', 'PublishTime': '2019-05-15 11:00', 'PM2.5_AVG': '25', 'PM10_AVG': '52', 'SO2_AVG': '3', 'Longitude': '121.4325', 'Latitude': '25.037972'}, {'SiteName': '板橋', 'County': '新北市', 'AQI': '60', 'Pollutant': '細懸浮微粒', 'Status': '普通', 'SO2': '6.1', 'CO': '0.67', 'CO_8hr': '0.7', 'O3': '30', 'O3_8hr': '16', 'PM10': '39', 'PM2.5': '15', 'NO2': '25', 'NOx': '30', 'NO': '5.2', 'WindSpeed': '1.8', 'WindDirec': '295', 'PublishTime': '2019-05-15 11:00', 'PM2.5_AVG': '19', 'PM10_AVG': '45', 'SO2_AVG': '6', 'Longitude': '121.458667', 'Latitude': '25.012972'}, {'SiteName': '土城', 'County': '新北市', 'AQI': '86', 'Pollutant': '細懸浮微粒', 'Status': '普通', 'SO2': '3.9', 'CO': '0.62', 'CO_8hr': '0.5', 'O3': '28', 'O3_8hr': '12', 'PM10': '59', 'PM2.5': '27', 'NO2': '25', 'NOx': '33', 'NO': '7.9', 'WindSpeed': '1.2', 'WindDirec': '288', 'PublishTime': '2019-05-15 11:00', 'PM2.5_AVG': '30', 'PM10_AVG': '59', 'SO2_AVG': '2', 'Longitude': '121.451861', 'Latitude': '24.982528'}, {'SiteName': '新店', 'County': '新北市', 'AQI': '67', 'Pollutant': '細懸浮微粒', 'Status': '普通', 'SO2': '2.4', 'CO': '0.56', 'CO_8hr': '0.5', 'O3': '35', 'O3_8hr': '17', 'PM10': '32', 'PM2.5': '16', 'NO2': '17', 'NOx': '22', 'NO': '5.5', 'WindSpeed': '2.4', 'WindDirec': '309', 'PublishTime': '2019-05-15 11:00', 'PM2.5_AVG': '22', 'PM10_AVG': '33', 'SO2_AVG': '2', 'Longitude': '121.537778', 'Latitude': '24.977222'}, {'SiteName': '萬里', 'County': '新北市', 'AQI': '44', 'Pollutant': '', 'Status': '良好', 'SO2': '2.8', 'CO': '0.19', 'CO_8hr': '0.2', 'O3': '55', 'O3_8hr': '41', 'PM10': '21', 'PM2.5': '10', 'NO2': '2.2', 'NOx': '3.3', 'NO': '1.1', 'WindSpeed': '2.7', 'WindDirec': '65', 'PublishTime': '2019-05-15 11:00', 'PM2.5_AVG': '14', 'PM10_AVG': '37', 'SO2_AVG': '2', 'Longitude': '121.689881', 'Latitude': '25.179667'}, {'SiteName': '汐止', 'County': '新北市', 'AQI': '66', 'Pollutant': '細懸浮微粒', 'Status': '普通', 'SO2': '3', 'CO': '0.38', 'CO_8hr': '0.3', 'O3': '24', 'O3_8hr': '25', 'PM10': '24', 'PM2.5': '24', 'NO2': '25', 'NOx': '37', 'NO': '12', 'WindSpeed': '1.3', 'WindDirec': '22', 'PublishTime': '2019-05-15 11:00', 'PM2.5_AVG': '22', 'PM10_AVG': '41', 'SO2_AVG': '3', 'Longitude': '121.6423', 'Latitude': '25.067131'}, {'SiteName': '基隆', 'County': '基隆市', 'AQI': '44', 'Pollutant': '', 'Status': '良好', 'SO2': '1.8', 'CO': '0.26', 'CO_8hr': '0.3', 'O3': '50', 'O3_8hr': '39', 'PM10': '22', 'PM2.5': '11', 'NO2': '4', 'NOx': '5.4', 'NO': '1.5', 'WindSpeed': '1.8', 'WindDirec': '86', 'PublishTime': '2019-05-15 11:00', 'PM2.5_AVG': '14', 'PM10_AVG': '29', 'SO2_AVG': '2', 'Longitude': '121.760056', 'Latitude': '25.129167'}]\n"
     ]
    }
   ],
   "source": [
    "print(r.json())"
   ]
  },
  {
   "cell_type": "code",
   "execution_count": null,
   "metadata": {},
   "outputs": [],
   "source": [
    "# How many sites in Taiwan?\n",
    "# How many sites in Taipei City?\n",
    "# Highest PM2.5 site name?\n",
    "# Lowest PM2.5 site name?"
   ]
  },
  {
   "cell_type": "code",
   "execution_count": 30,
   "metadata": {},
   "outputs": [
    {
     "name": "stderr",
     "output_type": "stream",
     "text": [
      "C:\\Users\\Student\\Miniconda3\\envs\\crawler\\lib\\site-packages\\urllib3\\connectionpool.py:847: InsecureRequestWarning: Unverified HTTPS request is being made. Adding certificate verification is strongly advised. See: https://urllib3.readthedocs.io/en/latest/advanced-usage.html#ssl-warnings\n",
      "  InsecureRequestWarning)\n"
     ]
    }
   ],
   "source": [
    "import requests\n",
    "\n",
    "r = requests.get(\"https://opendata.epa.gov.tw/ws/Data/AQI/?$format=json\", verify=False)\n",
    "aqi_data = r.json()"
   ]
  },
  {
   "cell_type": "code",
   "execution_count": 33,
   "metadata": {},
   "outputs": [
    {
     "data": {
      "text/plain": [
       "81"
      ]
     },
     "execution_count": 33,
     "metadata": {},
     "output_type": "execute_result"
    }
   ],
   "source": [
    "# How many sites in Taiwan?\n",
    "len(aqi_data)"
   ]
  },
  {
   "cell_type": "code",
   "execution_count": 48,
   "metadata": {},
   "outputs": [
    {
     "name": "stdout",
     "output_type": "stream",
     "text": [
      "7\n"
     ]
    }
   ],
   "source": [
    "# How many sites in Taipei City?\n",
    "ans = 0\n",
    "for i in aqi_data:\n",
    "    if i[\"County\"] == \"臺北市\":\n",
    "         ans += 1\n",
    "print(ans)"
   ]
  },
  {
   "cell_type": "code",
   "execution_count": 53,
   "metadata": {},
   "outputs": [],
   "source": [
    "import numpy as np\n",
    "\n",
    "site_names = [aqi_data[i]['SiteName'] for i in range(len(aqi_data))]\n",
    "pm25 = np.zeros(len(site_names))\n",
    "for i in range(len(aqi_data)):\n",
    "    if aqi_data[i]['PM2.5'] == '' or aqi_data[i]['PM2.5'] == 'ND':\n",
    "        pm25[i] = np.nan\n",
    "    else:\n",
    "        pm25[i] = float(aqi_data[i]['PM2.5'])"
   ]
  },
  {
   "cell_type": "code",
   "execution_count": 62,
   "metadata": {},
   "outputs": [
    {
     "name": "stdout",
     "output_type": "stream",
     "text": [
      "49.0\n",
      "2.0\n"
     ]
    }
   ],
   "source": [
    "max_pm25 = pm25[~np.isnan(pm25)].max()\n",
    "min_pm25 = pm25[~np.isnan(pm25)].min()\n",
    "print(max_pm25)\n",
    "print(min_pm25)"
   ]
  },
  {
   "cell_type": "code",
   "execution_count": 63,
   "metadata": {},
   "outputs": [
    {
     "name": "stdout",
     "output_type": "stream",
     "text": [
      "大園\n"
     ]
    }
   ],
   "source": [
    "# Highest PM2.5 site name? \n",
    "for idx, val in enumerate(pm25):\n",
    "    if val == max_pm25:\n",
    "        print(site_names[idx])"
   ]
  },
  {
   "cell_type": "code",
   "execution_count": 67,
   "metadata": {},
   "outputs": [
    {
     "data": {
      "text/plain": [
       "array(['大園'], dtype='<U6')"
      ]
     },
     "execution_count": 67,
     "metadata": {},
     "output_type": "execute_result"
    }
   ],
   "source": [
    "np.array(site_names)[pm25 == max_pm25]"
   ]
  },
  {
   "cell_type": "code",
   "execution_count": 64,
   "metadata": {},
   "outputs": [
    {
     "name": "stdout",
     "output_type": "stream",
     "text": [
      "竹山\n",
      "新營\n"
     ]
    }
   ],
   "source": [
    "# Lowest PM2.5 site name? \n",
    "for idx, val in enumerate(pm25):\n",
    "    if val == min_pm25:\n",
    "        print(site_names[idx])"
   ]
  },
  {
   "cell_type": "code",
   "execution_count": 68,
   "metadata": {},
   "outputs": [
    {
     "data": {
      "text/plain": [
       "array(['竹山', '新營'], dtype='<U6')"
      ]
     },
     "execution_count": 68,
     "metadata": {},
     "output_type": "execute_result"
    }
   ],
   "source": [
    "np.array(site_names)[pm25 == min_pm25]"
   ]
  },
  {
   "cell_type": "markdown",
   "metadata": {},
   "source": [
    "## Non Web API\n",
    "\n",
    "- `requests` Getting data\n",
    "- `beautifulsoup4` / `pyquery` Parsing data\n",
    "- [Selector Gadget](https://chrome.google.com/webstore/detail/selectorgadget/mhjhnkcfbdhnjickkkdbjoemdmbfginb)\n",
    "\n",
    "### Examples\n",
    "\n",
    "- [Avengers: Endgame (2019)](https://www.imdb.com/title/tt4154796)\n",
    "- [Yahoo! 奇摩股市](https://tw.stock.yahoo.com/d/i/rank.php?t=pri&e=tse&n=100)\n",
    "- [PTT 實業坊](https://www.ptt.cc/bbs/NBA/index.html)"
   ]
  },
  {
   "cell_type": "code",
   "execution_count": 70,
   "metadata": {},
   "outputs": [
    {
     "name": "stdout",
     "output_type": "stream",
     "text": [
      "241126\n"
     ]
    }
   ],
   "source": [
    "import requests\n",
    "\n",
    "r = requests.get(\"https://www.imdb.com/title/tt4154796\")\n",
    "html_str = r.text\n",
    "print(len(html_str))"
   ]
  },
  {
   "cell_type": "markdown",
   "metadata": {},
   "source": [
    "## `beautifulsoup4`\n",
    "\n",
    "- `from bs4 import BeautifulSoup`\n",
    "- `soup = BeautifulSoup(html_str)`\n",
    "- `soup.find()`: Finding specific data via tag name\n",
    "- `soup.find_all()`: Finding specific data via tag names\n",
    "- `soup.select()`: Finding specific data via CSS Selector\n",
    "\n",
    "- `bs4.BeautifulSoup`\n",
    "    - `bs4.element.Tag`\n",
    "        - `.text`\n",
    "        - `.get(\"<ATTR>\")`"
   ]
  },
  {
   "cell_type": "code",
   "execution_count": 71,
   "metadata": {},
   "outputs": [],
   "source": [
    "from bs4 import BeautifulSoup\n",
    "\n",
    "soup = BeautifulSoup(html_str)"
   ]
  },
  {
   "cell_type": "code",
   "execution_count": 81,
   "metadata": {},
   "outputs": [
    {
     "data": {
      "text/plain": [
       "bs4.BeautifulSoup"
      ]
     },
     "execution_count": 81,
     "metadata": {},
     "output_type": "execute_result"
    }
   ],
   "source": [
    "type(soup)"
   ]
  },
  {
   "cell_type": "code",
   "execution_count": 82,
   "metadata": {},
   "outputs": [
    {
     "data": {
      "text/plain": [
       "<h1 class=\"\">Avengers: Endgame <span id=\"titleYear\">(<a href=\"/year/2019/\">2019</a>)</span> </h1>"
      ]
     },
     "execution_count": 82,
     "metadata": {},
     "output_type": "execute_result"
    }
   ],
   "source": [
    "soup.find(\"h1\")"
   ]
  },
  {
   "cell_type": "code",
   "execution_count": 83,
   "metadata": {},
   "outputs": [
    {
     "name": "stdout",
     "output_type": "stream",
     "text": [
      "<class 'bs4.element.Tag'>\n"
     ]
    }
   ],
   "source": [
    "print(type(soup.find(\"h1\")))"
   ]
  },
  {
   "cell_type": "code",
   "execution_count": 84,
   "metadata": {},
   "outputs": [
    {
     "data": {
      "text/plain": [
       "'Avengers: Endgame\\xa0(2019) '"
      ]
     },
     "execution_count": 84,
     "metadata": {},
     "output_type": "execute_result"
    }
   ],
   "source": [
    "soup.find(\"h1\").text"
   ]
  },
  {
   "cell_type": "code",
   "execution_count": 88,
   "metadata": {},
   "outputs": [
    {
     "data": {
      "text/plain": [
       "<a class=\"navbarSprite\" href=\"/\" id=\"home_img\" title=\"Home\"></a>"
      ]
     },
     "execution_count": 88,
     "metadata": {},
     "output_type": "execute_result"
    }
   ],
   "source": [
    "soup.find(\"a\")"
   ]
  },
  {
   "cell_type": "code",
   "execution_count": 86,
   "metadata": {},
   "outputs": [
    {
     "data": {
      "text/plain": [
       "['navbarSprite']"
      ]
     },
     "execution_count": 86,
     "metadata": {},
     "output_type": "execute_result"
    }
   ],
   "source": [
    "soup.find(\"a\").get(\"class\")"
   ]
  },
  {
   "cell_type": "code",
   "execution_count": 87,
   "metadata": {},
   "outputs": [
    {
     "data": {
      "text/plain": [
       "'/'"
      ]
     },
     "execution_count": 87,
     "metadata": {},
     "output_type": "execute_result"
    }
   ],
   "source": [
    "soup.find(\"a\").get(\"href\")"
   ]
  },
  {
   "cell_type": "code",
   "execution_count": 89,
   "metadata": {},
   "outputs": [
    {
     "data": {
      "text/plain": [
       "'home_img'"
      ]
     },
     "execution_count": 89,
     "metadata": {},
     "output_type": "execute_result"
    }
   ],
   "source": [
    "soup.find(\"a\").get(\"id\")"
   ]
  },
  {
   "cell_type": "code",
   "execution_count": 76,
   "metadata": {},
   "outputs": [
    {
     "data": {
      "text/plain": [
       "[<h2><div class=\"checkin-error\">Error</div></h2>,\n",
       " <h2><div class=\"checkin-success\">Added to Your Check-Ins.</div></h2>,\n",
       " <h2>Videos</h2>,\n",
       " <h2>Photos</h2>,\n",
       " <h2 class=\"rec_heading_wrapper\">\n",
       " <span class=\"rec_heading\" data-spec=\"p13nsims:tt4154796\">More Like This </span>\n",
       " </h2>,\n",
       " <h2>Cast</h2>,\n",
       " <h2>Storyline</h2>,\n",
       " <h2>Details</h2>,\n",
       " <h2>Did You Know?</h2>,\n",
       " <h2>Frequently Asked Questions</h2>,\n",
       " <h2>User Reviews</h2>,\n",
       " <h2>Contribute to This Page</h2>]"
      ]
     },
     "execution_count": 76,
     "metadata": {},
     "output_type": "execute_result"
    }
   ],
   "source": [
    "soup.find_all(\"h2\")"
   ]
  },
  {
   "cell_type": "code",
   "execution_count": 79,
   "metadata": {},
   "outputs": [
    {
     "data": {
      "text/plain": [
       "[<span itemprop=\"ratingValue\">8.8</span>,\n",
       " <span class=\"grey\">/</span>,\n",
       " <span class=\"grey\" itemprop=\"bestRating\">10</span>]"
      ]
     },
     "execution_count": 79,
     "metadata": {},
     "output_type": "execute_result"
    }
   ],
   "source": [
    "soup.select(\".ratingValue span\")"
   ]
  },
  {
   "cell_type": "code",
   "execution_count": 95,
   "metadata": {},
   "outputs": [
    {
     "data": {
      "text/plain": [
       "'https://m.media-amazon.com/images/M/MV5BMTc5MDE2ODcwNV5BMl5BanBnXkFtZTgwMzI2NzQ2NzM@._V1_UX182_CR0,0,182,268_AL_.jpg'"
      ]
     },
     "execution_count": 95,
     "metadata": {},
     "output_type": "execute_result"
    }
   ],
   "source": [
    "soup.find_all(\"img\")[2].get(\"src\")"
   ]
  },
  {
   "cell_type": "markdown",
   "metadata": {},
   "source": [
    "## pyquery\n",
    "\n",
    "- `from pyquery import PyQuery as pq`\n",
    "- `d = pq(html_str)`\n",
    "- `d(\"<SELECTOR>\")`: Finding specific data via CSS Selector\n",
    "- PyQuery\n",
    "    - `HtmlElement.items()`\n",
    "        - `.text()`\n",
    "        - `.attr(\"<ATTR>\")`"
   ]
  },
  {
   "cell_type": "code",
   "execution_count": 97,
   "metadata": {},
   "outputs": [
    {
     "data": {
      "text/plain": [
       "pyquery.pyquery.PyQuery"
      ]
     },
     "execution_count": 97,
     "metadata": {},
     "output_type": "execute_result"
    }
   ],
   "source": [
    "from pyquery import PyQuery as pq\n",
    "\n",
    "d = pq(html_str)\n",
    "type(d)"
   ]
  },
  {
   "cell_type": "code",
   "execution_count": 112,
   "metadata": {},
   "outputs": [
    {
     "name": "stdout",
     "output_type": "stream",
     "text": [
      "8.8\n",
      "/\n",
      "10\n"
     ]
    }
   ],
   "source": [
    "for i in d(\".ratingValue span\").items():\n",
    "    print(i.text())"
   ]
  },
  {
   "cell_type": "code",
   "execution_count": 122,
   "metadata": {},
   "outputs": [
    {
     "name": "stdout",
     "output_type": "stream",
     "text": [
      "https://m.media-amazon.com/images/M/MV5BMTc5MDE2ODcwNV5BMl5BanBnXkFtZTgwMzI2NzQ2NzM@._V1_UX182_CR0,0,182,268_AL_.jpg\n"
     ]
    }
   ],
   "source": [
    "for i in d(\".poster img\").items():\n",
    "    print(i.attr(\"src\"))"
   ]
  },
  {
   "cell_type": "code",
   "execution_count": 125,
   "metadata": {},
   "outputs": [
    {
     "name": "stdout",
     "output_type": "stream",
     "text": [
      "3h 1min\n",
      "181 min\n"
     ]
    }
   ],
   "source": [
    "for i in soup.find_all(\"time\"):\n",
    "    print(i.text.strip())"
   ]
  },
  {
   "cell_type": "code",
   "execution_count": 129,
   "metadata": {},
   "outputs": [
    {
     "name": "stdout",
     "output_type": "stream",
     "text": [
      "Robert Downey Jr.\n",
      "Chris Evans\n",
      "Mark Ruffalo\n",
      "Chris Hemsworth\n",
      "Scarlett Johansson\n",
      "Jeremy Renner\n",
      "Don Cheadle\n",
      "Paul Rudd\n",
      "Benedict Cumberbatch\n",
      "Chadwick Boseman\n",
      "Brie Larson\n",
      "Tom Holland\n",
      "Karen Gillan\n",
      "Zoe Saldana\n",
      "Evangeline Lilly\n"
     ]
    }
   ],
   "source": [
    "for i in soup.select(\".primary_photo+ td a\"):\n",
    "    print(i.text.strip())"
   ]
  },
  {
   "cell_type": "code",
   "execution_count": 131,
   "metadata": {},
   "outputs": [
    {
     "name": "stdout",
     "output_type": "stream",
     "text": [
      "https://www.imdb.com/name/nm0000375/\n",
      "https://www.imdb.com/name/nm0262635/\n",
      "https://www.imdb.com/name/nm0749263/\n",
      "https://www.imdb.com/name/nm1165110/\n",
      "https://www.imdb.com/name/nm0424060/\n",
      "https://www.imdb.com/name/nm0719637/\n",
      "https://www.imdb.com/name/nm0000332/\n",
      "https://www.imdb.com/name/nm0748620/\n",
      "https://www.imdb.com/name/nm1212722/\n",
      "https://www.imdb.com/name/nm1569276/\n",
      "https://www.imdb.com/name/nm0488953/\n",
      "https://www.imdb.com/name/nm4043618/\n",
      "https://www.imdb.com/name/nm2394794/\n",
      "https://www.imdb.com/name/nm0757855/\n",
      "https://www.imdb.com/name/nm1431940/\n"
     ]
    }
   ],
   "source": [
    "for i in soup.select(\".primary_photo+ td a\"):\n",
    "    route = i.get(\"href\")\n",
    "    print(\"https://www.imdb.com\" + route)"
   ]
  },
  {
   "cell_type": "code",
   "execution_count": 132,
   "metadata": {},
   "outputs": [
    {
     "name": "stdout",
     "output_type": "stream",
     "text": [
      "3h 1min\n",
      "181 min\n"
     ]
    }
   ],
   "source": [
    "for i in d(\"time\").items():\n",
    "    print(i.text())"
   ]
  },
  {
   "cell_type": "code",
   "execution_count": 133,
   "metadata": {},
   "outputs": [
    {
     "name": "stdout",
     "output_type": "stream",
     "text": [
      "Robert Downey Jr.\n",
      "Chris Evans\n",
      "Mark Ruffalo\n",
      "Chris Hemsworth\n",
      "Scarlett Johansson\n",
      "Jeremy Renner\n",
      "Don Cheadle\n",
      "Paul Rudd\n",
      "Benedict Cumberbatch\n",
      "Chadwick Boseman\n",
      "Brie Larson\n",
      "Tom Holland\n",
      "Karen Gillan\n",
      "Zoe Saldana\n",
      "Evangeline Lilly\n"
     ]
    }
   ],
   "source": [
    "for i in d(\".primary_photo+ td a\").items():\n",
    "    print(i.text())"
   ]
  },
  {
   "cell_type": "code",
   "execution_count": 135,
   "metadata": {},
   "outputs": [
    {
     "name": "stdout",
     "output_type": "stream",
     "text": [
      "https://www.imdb.com/name/nm0000375/\n",
      "https://www.imdb.com/name/nm0262635/\n",
      "https://www.imdb.com/name/nm0749263/\n",
      "https://www.imdb.com/name/nm1165110/\n",
      "https://www.imdb.com/name/nm0424060/\n",
      "https://www.imdb.com/name/nm0719637/\n",
      "https://www.imdb.com/name/nm0000332/\n",
      "https://www.imdb.com/name/nm0748620/\n",
      "https://www.imdb.com/name/nm1212722/\n",
      "https://www.imdb.com/name/nm1569276/\n",
      "https://www.imdb.com/name/nm0488953/\n",
      "https://www.imdb.com/name/nm4043618/\n",
      "https://www.imdb.com/name/nm2394794/\n",
      "https://www.imdb.com/name/nm0757855/\n",
      "https://www.imdb.com/name/nm1431940/\n"
     ]
    }
   ],
   "source": [
    "for i in d(\".primary_photo+ td a\").items():\n",
    "    route = i.attr(\"href\")\n",
    "    print(\"https://www.imdb.com\" + route)"
   ]
  },
  {
   "cell_type": "code",
   "execution_count": 137,
   "metadata": {},
   "outputs": [],
   "source": [
    "import requests\n",
    "from bs4 import BeautifulSoup\n",
    "from pyquery import PyQuery\n",
    "import pandas as pd\n",
    "\n",
    "r = requests.get(\"https://www.imdb.com/title/tt4154796/releaseinfo/\")\n",
    "html_str = r.text"
   ]
  },
  {
   "cell_type": "code",
   "execution_count": 153,
   "metadata": {},
   "outputs": [
    {
     "name": "stdout",
     "output_type": "stream",
     "text": [
      "release_date\n",
      "22 April 2019     1\n",
      "23 April 2019     1\n",
      "24 April 2019    31\n",
      "25 April 2019    21\n",
      "26 April 2019    14\n",
      "28 April 2019     1\n",
      "29 April 2019     1\n",
      "Name: country, dtype: int64\n",
      "24 April 2019\n"
     ]
    }
   ],
   "source": [
    "soup = BeautifulSoup(html_str)\n",
    "# Parsing release information of Avengers: Endgame (2019)\n",
    "countries = [i.text.strip() for i in soup.select(\".release-date-item__country-name a\")]\n",
    "release_dates = [i.text for i in soup.select(\".release-date-item__date\")]\n",
    "# Summarizing number of countries grouped by release date\n",
    "df = pd.DataFrame()\n",
    "df[\"country\"] = countries\n",
    "df[\"release_date\"] = release_dates\n",
    "print(df.groupby(\"release_date\")[\"country\"].count())\n",
    "# When is Taiwan's release date?\n",
    "print(df[df[\"country\"] == \"Taiwan\"][\"release_date\"].values[0])"
   ]
  },
  {
   "cell_type": "code",
   "execution_count": 158,
   "metadata": {},
   "outputs": [
    {
     "name": "stdout",
     "output_type": "stream",
     "text": [
      "release_date\n",
      "22 April 2019     1\n",
      "23 April 2019     1\n",
      "24 April 2019    31\n",
      "25 April 2019    21\n",
      "26 April 2019    14\n",
      "28 April 2019     1\n",
      "29 April 2019     1\n",
      "Name: country, dtype: int64\n",
      "24 April 2019\n"
     ]
    }
   ],
   "source": [
    "d = PyQuery(html_str)\n",
    "# Parsing release information of Avengers: Endgame (2019)\n",
    "countries = [i.text() for i in d(\".release-date-item__country-name a\").items()]\n",
    "release_dates = [i.text() for i in d(\".release-date-item__date\").items()]\n",
    "# Summarizing number of countries grouped by release date\n",
    "df = pd.DataFrame()\n",
    "df[\"country\"] = countries\n",
    "df[\"release_date\"] = release_dates\n",
    "print(df.groupby(\"release_date\")[\"country\"].count())\n",
    "# When is Taiwan's release date?\n",
    "print(df[df[\"country\"] == \"Taiwan\"][\"release_date\"].values[0])"
   ]
  },
  {
   "cell_type": "code",
   "execution_count": 174,
   "metadata": {},
   "outputs": [],
   "source": [
    "def get_imdb_movie_data(movie_url):\n",
    "    r = requests.get(movie_url)\n",
    "    html_str = r.text\n",
    "    d = pq(html_str)\n",
    "    rating = float([i.text() for i in d(\".ratingValue span\").items()][0])\n",
    "    r = requests.get(movie_url + \"releaseinfo\")\n",
    "    html_str = r.text\n",
    "    d = pq(html_str)\n",
    "    countries = [i.text() for i in d(\".release-date-item__country-name a\").items()]\n",
    "    release_dates = [i.text() for i in d(\".release-date-item__date\").items()]\n",
    "    release_dates_dict = {\n",
    "        \"country\": countries,\n",
    "        \"release_date\": release_dates\n",
    "    }\n",
    "    return rating, release_dates_dict"
   ]
  },
  {
   "cell_type": "code",
   "execution_count": 178,
   "metadata": {},
   "outputs": [],
   "source": [
    "def get_movie(movie_title):\n",
    "    q_url = \"https://www.imdb.com/find?q={}&s=tt&ttype=ft&ref_=fn_ft\".format(movie_title)\n",
    "    r = requests.get(q_url)\n",
    "    html_str = r.text\n",
    "    soup = BeautifulSoup(html_str)\n",
    "    movie_url = soup.select(\".result_text a\")[0].get(\"href\")\n",
    "    movie_url = \"https://www.imdb.com\" + movie_url\n",
    "    movie = get_imdb_movie_data(movie_url)\n",
    "    return movie"
   ]
  },
  {
   "cell_type": "code",
   "execution_count": 179,
   "metadata": {},
   "outputs": [
    {
     "data": {
      "text/plain": [
       "(8.8,\n",
       " {'country': ['USA',\n",
       "   'Russia',\n",
       "   'United Arab Emirates',\n",
       "   'Austria',\n",
       "   'Australia',\n",
       "   'Belgium',\n",
       "   'China',\n",
       "   'Colombia',\n",
       "   'Cyprus',\n",
       "   'Germany',\n",
       "   'Denmark',\n",
       "   'Egypt',\n",
       "   'Finland',\n",
       "   'France',\n",
       "   'Greece',\n",
       "   'Hong Kong',\n",
       "   'Indonesia',\n",
       "   'Israel',\n",
       "   'Italy',\n",
       "   'South Korea',\n",
       "   'Lebanon',\n",
       "   'Malaysia',\n",
       "   'Netherlands',\n",
       "   'Norway',\n",
       "   'New Zealand',\n",
       "   'Philippines',\n",
       "   'Paraguay',\n",
       "   'Saudi Arabia',\n",
       "   'Sweden',\n",
       "   'Singapore',\n",
       "   'Thailand',\n",
       "   'Taiwan',\n",
       "   'Kosovo',\n",
       "   'Argentina',\n",
       "   'Brazil',\n",
       "   'Costa Rica',\n",
       "   'Spain',\n",
       "   'UK',\n",
       "   'Hungary',\n",
       "   'Ireland',\n",
       "   'Cambodia',\n",
       "   'Kuwait',\n",
       "   'Lithuania',\n",
       "   'Montenegro',\n",
       "   'Nigeria',\n",
       "   'Peru',\n",
       "   'Poland',\n",
       "   'Portugal',\n",
       "   'Romania',\n",
       "   'Serbia',\n",
       "   'Slovakia',\n",
       "   'Turkey',\n",
       "   'Ukraine',\n",
       "   'Uruguay',\n",
       "   'Bangladesh',\n",
       "   'Bulgaria',\n",
       "   'Canada',\n",
       "   'Estonia',\n",
       "   'India',\n",
       "   'Japan',\n",
       "   'Sri Lanka',\n",
       "   'Lithuania',\n",
       "   'Morocco',\n",
       "   'Mexico',\n",
       "   'Nepal',\n",
       "   'Pakistan',\n",
       "   'USA',\n",
       "   'Vietnam',\n",
       "   'Armenia',\n",
       "   'Russia'],\n",
       "  'release_date': ['22 April 2019',\n",
       "   '23 April 2019',\n",
       "   '24 April 2019',\n",
       "   '24 April 2019',\n",
       "   '24 April 2019',\n",
       "   '24 April 2019',\n",
       "   '24 April 2019',\n",
       "   '24 April 2019',\n",
       "   '24 April 2019',\n",
       "   '24 April 2019',\n",
       "   '24 April 2019',\n",
       "   '24 April 2019',\n",
       "   '24 April 2019',\n",
       "   '24 April 2019',\n",
       "   '24 April 2019',\n",
       "   '24 April 2019',\n",
       "   '24 April 2019',\n",
       "   '24 April 2019',\n",
       "   '24 April 2019',\n",
       "   '24 April 2019',\n",
       "   '24 April 2019',\n",
       "   '24 April 2019',\n",
       "   '24 April 2019',\n",
       "   '24 April 2019',\n",
       "   '24 April 2019',\n",
       "   '24 April 2019',\n",
       "   '24 April 2019',\n",
       "   '24 April 2019',\n",
       "   '24 April 2019',\n",
       "   '24 April 2019',\n",
       "   '24 April 2019',\n",
       "   '24 April 2019',\n",
       "   '24 April 2019',\n",
       "   '25 April 2019',\n",
       "   '25 April 2019',\n",
       "   '25 April 2019',\n",
       "   '25 April 2019',\n",
       "   '25 April 2019',\n",
       "   '25 April 2019',\n",
       "   '25 April 2019',\n",
       "   '25 April 2019',\n",
       "   '25 April 2019',\n",
       "   '25 April 2019',\n",
       "   '25 April 2019',\n",
       "   '25 April 2019',\n",
       "   '25 April 2019',\n",
       "   '25 April 2019',\n",
       "   '25 April 2019',\n",
       "   '25 April 2019',\n",
       "   '25 April 2019',\n",
       "   '25 April 2019',\n",
       "   '25 April 2019',\n",
       "   '25 April 2019',\n",
       "   '25 April 2019',\n",
       "   '26 April 2019',\n",
       "   '26 April 2019',\n",
       "   '26 April 2019',\n",
       "   '26 April 2019',\n",
       "   '26 April 2019',\n",
       "   '26 April 2019',\n",
       "   '26 April 2019',\n",
       "   '26 April 2019',\n",
       "   '26 April 2019',\n",
       "   '26 April 2019',\n",
       "   '26 April 2019',\n",
       "   '26 April 2019',\n",
       "   '26 April 2019',\n",
       "   '26 April 2019',\n",
       "   '28 April 2019',\n",
       "   '29 April 2019']})"
      ]
     },
     "execution_count": 179,
     "metadata": {},
     "output_type": "execute_result"
    }
   ],
   "source": [
    "get_movie(\"Avengers: Endgame\")"
   ]
  },
  {
   "cell_type": "markdown",
   "metadata": {},
   "source": [
    "## R Environemt\n",
    "\n",
    "```r\n",
    "pkgs <- c(\"jsonlite\", \"rvest\", \"httr\", \"magrittr\")\n",
    "install.packages(pkgs)\n",
    "```\n",
    "\n",
    "### Web API\n",
    "\n",
    "- `jsonlite::fromJSON()`\n",
    "    - Object: `list` as output\n",
    "    - Array of Objects: `data.frame` as output\n",
    "\n",
    "### Non Web API\n",
    "\n",
    "- `rvest`\n",
    "    - `read_html()`: Performs the same behavior as `requests.get()`\n",
    "    - `html_nodes()`: Performs the same behavior as `soup.select()`\n",
    "    - `html_text()`: Extracts text part from tags\n",
    "    - `html_attr()`: Extracts attr part from tags"
   ]
  }
 ],
 "metadata": {
  "kernelspec": {
   "display_name": "crawler",
   "language": "python",
   "name": "crawler"
  },
  "language_info": {
   "codemirror_mode": {
    "name": "ipython",
    "version": 3
   },
   "file_extension": ".py",
   "mimetype": "text/x-python",
   "name": "python",
   "nbconvert_exporter": "python",
   "pygments_lexer": "ipython3",
   "version": "3.7.3"
  }
 },
 "nbformat": 4,
 "nbformat_minor": 2
}
