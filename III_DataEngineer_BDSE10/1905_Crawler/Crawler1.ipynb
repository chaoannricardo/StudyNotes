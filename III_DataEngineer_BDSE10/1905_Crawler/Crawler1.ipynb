{
 "cells": [
  {
   "cell_type": "markdown",
   "metadata": {},
   "source": [
    "## Python Environment\n",
    "- [Download Miniconda](https://docs.conda.io/en/latest/miniconda.html)\n",
    "- Installing jupyter\n",
    "```bash\n",
    "pip install jupyter\n",
    "```\n",
    "- Check environments\n",
    "```bash\n",
    "conda env list\n",
    "```\n",
    "- Creating a environment for web crawling\n",
    "```bash\n",
    "# crawler as the env name\n",
    "conda create --name crawler python=3\n",
    "```\n",
    "- Activate environment\n",
    "```bash\n",
    "conda activate crawler\n",
    "```\n",
    "- Install required packages for web crawling: `requirements.txt`\n",
    "    - requests: Getting data\n",
    "    - beautifulsoup/pyquery: Parsing data\n",
    "    - selenium: Browser automation\n",
    "    - numpy/pandas: Data wrangling\n",
    "    - ipykernel: Connecting jupyter with environments\n",
    "```\n",
    "requests\n",
    "beautifulsoup4\n",
    "pyquery\n",
    "selenium\n",
    "numpy\n",
    "pandas\n",
    "ipykernel\n",
    "```\n",
    "- Installing required packages\n",
    "```bash\n",
    "pip install -r requirements.txt\n",
    "```\n",
    "- Check Jupyker kernels\n",
    "```bash\n",
    "jupyter kernelspec list\n",
    "```\n",
    "- Connecting kernel with environment\n",
    "```bash\n",
    "python -m ipykernel install --user --name crawler --display-name \"crawler\"\n",
    "```"
   ]
  },
  {
   "cell_type": "code",
   "execution_count": 19,
   "metadata": {},
   "outputs": [
    {
     "name": "stdout",
     "output_type": "stream",
     "text": [
      "200\n"
     ]
    }
   ],
   "source": [
    "import requests\n",
    "\n",
    "r = requests.get(\"http://data.nba.net/prod/v1/20190514/scoreboard.json\") # get json data\n",
    "print(r.status_code)"
   ]
  },
  {
   "cell_type": "code",
   "execution_count": 20,
   "metadata": {},
   "outputs": [
    {
     "name": "stdout",
     "output_type": "stream",
     "text": [
      "<class 'dict'>\n"
     ]
    }
   ],
   "source": [
    "today_scoreboard = r.json()\n",
    "print(type(today_scoreboard))"
   ]
  },
  {
   "cell_type": "code",
   "execution_count": 21,
   "metadata": {},
   "outputs": [
    {
     "data": {
      "text/plain": [
       "dict_keys(['_internal', 'numGames', 'games'])"
      ]
     },
     "execution_count": 21,
     "metadata": {},
     "output_type": "execute_result"
    }
   ],
   "source": [
    "today_scoreboard.keys()"
   ]
  },
  {
   "cell_type": "code",
   "execution_count": 22,
   "metadata": {},
   "outputs": [
    {
     "data": {
      "text/plain": [
       "dict_keys(['seasonStageId', 'seasonYear', 'gameId', 'arena', 'isGameActivated', 'statusNum', 'extendedStatusNum', 'startTimeEastern', 'startTimeUTC', 'startDateEastern', 'clock', 'isBuzzerBeater', 'isPreviewArticleAvail', 'isRecapArticleAvail', 'tickets', 'hasGameBookPdf', 'isStartTimeTBD', 'nugget', 'attendance', 'gameDuration', 'tags', 'playoffs', 'period', 'vTeam', 'hTeam', 'watch'])"
      ]
     },
     "execution_count": 22,
     "metadata": {},
     "output_type": "execute_result"
    }
   ],
   "source": [
    "western_final_g1 = today_scoreboard[\"games\"][0]\n",
    "western_final_g1.keys()"
   ]
  },
  {
   "cell_type": "code",
   "execution_count": 23,
   "metadata": {},
   "outputs": [
    {
     "name": "stdout",
     "output_type": "stream",
     "text": [
      "75\n",
      "67\n"
     ]
    }
   ],
   "source": [
    "print(western_final_g1[\"hTeam\"][\"score\"])\n",
    "print(western_final_g1[\"vTeam\"][\"score\"])"
   ]
  },
  {
   "cell_type": "markdown",
   "metadata": {},
   "source": [
    "## Web Scraping Methods\n",
    "\n",
    "- Web API\n",
    "    - `.json`\n",
    "    - `requests`\n",
    "- Non Web API\n",
    "    - `.html`\n",
    "    - `requests` + Parser(beautifulsoup4, pyquery)"
   ]
  },
  {
   "cell_type": "code",
   "execution_count": 25,
   "metadata": {},
   "outputs": [
    {
     "name": "stdout",
     "output_type": "stream",
     "text": [
      "200\n",
      "<class 'requests.models.Response'>\n"
     ]
    }
   ],
   "source": [
    "import requests\n",
    "\n",
    "r = requests.get(\"https://ecshweb.pchome.com.tw/search/v3.3/all/results?q=macbook&page=1&sort=sale/dc\", verify=False) # get json data\n",
    "print(r.status_code)\n",
    "print(type(r))\n"
   ]
  },
  {
   "cell_type": "code",
   "execution_count": 27,
   "metadata": {},
   "outputs": [
    {
     "name": "stdout",
     "output_type": "stream",
     "text": [
      "{'QTime': 105, 'totalRows': 14470, 'totalPage': 100, 'range': {'min': '', 'max': ''}, 'cateName': '', 'q': 'macbook', 'subq': '', 'token': ['macbook'], 'prods': [{'Id': 'DYAJBG-19009S5Q7', 'cateId': 'DYAJCW', 'picS': '/items/DYAJBG19009S5Q7/000002_1553827164.jpg', 'picB': '/items/DYAJBG19009S5Q7/000001_1554886523.jpg', 'name': 'MacBook Air 13-inch: 1.8GHz dual-core Intel Core i5, 128GB (MQD32TA/A)', 'describe': '降2千★再搭原廠滑鼠MacBook Air 13第五代 i5 / 8GB / 128GB / 1.8GHz dual\\\\r\\\\n降2千★再搭原廠滑鼠活動日期：2019 04 12(五) 15:00 -2019 06 21(五) 23:59\\r\\nmacbook air  128gb (市價$31900) + \\r\\nmagic mouse 2 (市價$2290) \\r\\n數量有限，售完為止\\r\\n網路價$34190．驚喜優惠價↘$２９９００\\r\\n\\r\\n● intel core  i5 處理器\\r\\n● intel hd graphics 6000\\r\\n● ssd 儲存裝置\\r\\n● 長達 12 小時電池續航力\\r\\n● 802.11 ac wi-fi\\r\\n● multi - touch 觸控式軌跡板\\r\\n● 最長可達 30 天待機時間\\r\\n● 節能低耗又兼具高效能的設計\\r\\n\\r\\n注意事項', 'price': 29900, 'originPrice': 29900, 'author': '', 'brand': '', 'publishDate': '', 'sellerId': '', 'isPChome': 1, 'isNC17': 0, 'couponActid': [], 'BU': 'ec'}, {'Id': 'DYAJBD-A90097XCT', 'cateId': 'DYAJBD', 'picS': '/items/DYAJBDA90097XCT/000002_1544004919.jpg', 'picB': '/items/DYAJBDA90097XCT/000001_1556250026.jpg', 'name': 'MacBook Pro 13-inch: 2.3GHz dual-core i5, 128GB - Silver (MPXR2TA/A)', 'describe': 'MacBook Pro 13 銀色第七代 i5 / 8GB / 128GB / 2.3GHz\\\\r\\\\n★限時92折優惠05 01(三) 00:00 至 05 31(五)10:00止 \\r\\n數量有限，售完為止\\r\\n網路價$41900．限時價↘$３８５４８\\r\\n\\r\\n★此機型無觸控列和touch id \\r\\n\\r\\n商品特色\\r\\n● 2.3 ghz 處理器 \\r\\n● 128 gb 儲存空間\\r\\n● 2.3 ghz 雙核心第七代 intel core i5 處理器\\r\\n● turbo boost 可達 3.6 ghz\\r\\n● 8 gb 2133 mhz lpddr 3 記憶體\\r\\n● 128 gb ssd 儲存裝置\\r\\n● intel iris plus graphics 640\\r\\n● 兩個 thunderbolt 3 埠\\r\\n\\r\\n館長小叮嚀：儲值購買最划算～\\r\\n↑4月儲值優惠活動，請點我\\r\\n\\r\\n4月銀行優惠 限量需登錄\\r\\n↑銀行刷卡活動詳情請點圖片了解\\r\\n\\r\\n注意事項', 'price': 38548, 'originPrice': 38548, 'author': '', 'brand': '', 'publishDate': '', 'sellerId': '', 'isPChome': 1, 'isNC17': 0, 'couponActid': [], 'BU': 'ec'}, {'Id': 'DYAJBL-19009QCQT', 'cateId': 'DYAJBL', 'picS': '/items/DYAJBL19009QCQT/000002_1548818088.jpg', 'picB': '/items/DYAJBL19009QCQT/000001_1554889696.jpg', 'name': 'MacBook Air 13: 1.6GHz dual-core Intel Core i5, 256GB - Silver', 'describe': '★限時92折優惠MacBook Air 13 銀色第八代 i5 / 8GB / 256GB / 1.6GHz\\\\r\\\\n★限時92折優惠05 01(三) 00:00 至 05 31(五)10:00止 \\r\\n數量有限，售完為止\\r\\n網路價$45900．限時價↘$４２２２８\\r\\n\\r\\n● touch id\\r\\n● 雙核心第八代 intel core i5 處理器\\r\\n● intel uhd graphics 617\\r\\n● 快速的 ssd 儲存裝置\\r\\n● 8gb 記憶體\\r\\n● 立體聲揚聲器具備更寬廣的立體聲\\r\\n● 兩個 thunderbolt 3 (usb-c) 埠\\r\\n● 長達 12 小時電池續航力\\r\\n● 802.11ac wi-fi\\r\\n\\r\\n注意事項', 'price': 42228, 'originPrice': 42228, 'author': '', 'brand': '', 'publishDate': '', 'sellerId': '', 'isPChome': 1, 'isNC17': 0, 'couponActid': [], 'BU': 'ec'}, {'Id': 'DCADHZ-A9008WQYY', 'cateId': 'DCADMP', 'picS': '/items/DCADHZA9008WQYY/000002_1544163763.jpg', 'picB': '/items/DCADHZA9008WQYY/000001_1557280680.jpg', 'name': 'New MacBook Pro hub Type-C轉USB轉接器mac轉換頭 多功能充電集線器-T8', 'describe': 'WIWU type-c轉USB 轉換器USB 3.1 Type-C HDMI 7 port 多功能集線器【銀色】▼新款專用 雙介面▼\\\\r\\\\n☆七合一多功能轉接器☆\\r\\n\\r\\n▼new macbook的最佳搭檔▼\\r\\n◆ 一物多用，連接多種設備\\r\\n◆ typec接口設計，可雙向充電、傳輸\\r\\n◆ 支援快充技術，辦公必備的mac搭檔\\r\\n◆ type-c充電，邊充邊玩不掉電\\r\\n◆ 支援 4k hdmi轉接、sd讀卡機\\r\\n◆ 四重保護，讓您使用起來更放心\\r\\n◆ 加碼贈送特製收納包，方便攜帶不易刮傷筆電\\r\\n◆ macbook pro新款專用\\r\\n\\r\\n▼注意事項▼：\\r\\n★ 購買時請注意，此款產品為macbook專用的，其他品牌的筆電有一些是不能支援使用的\\r\\n★ 提醒若macbook pro僅單邊一個usb-c埠，不建議購買此配件 \\r\\n\\r\\n★其他顏色可選擇★ \\r\\n►►鈦金灰\\r\\n\\r\\n\\r\\n★更多款式可選★ \\r\\n▶▶usb 3.0 type-c 五合一多功能hub充電傳輸集線器-t8 lite', 'price': 2299, 'originPrice': 2299, 'author': '', 'brand': '', 'publishDate': '', 'sellerId': '', 'isPChome': 1, 'isNC17': 0, 'couponActid': [], 'BU': 'ec'}, {'Id': 'DYAJBD-19009OXPJ', 'cateId': 'DYAJCW', 'picS': '/items/DYAJBD19009OXPJ/000002_1556088163.jpg', 'picB': '/items/DYAJBD19009OXPJ/000001_1556606430.jpg', 'name': 'MacBook Pro 13-inch: 2.3GHz dual-core i5, 128GB - Silver (MPXR2TA/A)', 'describe': 'MacBook Pro 13 銀色第七代 i5 / 8GB / 128GB / 2.3GHz\\\\r\\\\n95折優惠★再搭原廠滑鼠至 2019 06 21(五) 23:59\\r\\nmacbook pro 128gb (市價$41900) + \\r\\nmagic mouse 2 (市價$2290) \\r\\n數量有限，售完為止\\r\\n網路價$44190．驚喜優惠價↘$３９８０５\\r\\n\\r\\n★此機型無觸控列和touch id \\r\\n\\r\\n商品特色\\r\\n● 2.3 ghz 處理器 \\r\\n● 128 gb 儲存空間\\r\\n● 2.3 ghz 雙核心第七代 intel core i5 處理器\\r\\n● turbo boost 可達 3.6 ghz\\r\\n● 8 gb 2133 mhz lpddr 3 記憶體\\r\\n● 128 gb ssd 儲存裝置\\r\\n● intel iris plus graphics 640\\r\\n● 兩個 thunderbolt 3 埠\\r\\n\\r\\n注意事項', 'price': 39805, 'originPrice': 39805, 'author': '', 'brand': '', 'publishDate': '', 'sellerId': '', 'isPChome': 1, 'isNC17': 0, 'couponActid': [], 'BU': 'ec'}, {'Id': 'DYAJBL-19009QCQ8', 'cateId': 'DYAJBL', 'picS': '/items/DYAJBL19009QCQ8/000002_1548641482.jpg', 'picB': '/items/DYAJBL19009QCQ8/000001_1554889726.jpg', 'name': 'MacBook Air 13: 1.6GHz dual-core Intel Core i5, 128GB - Gold', 'describe': '★限時92折優惠MacBook Air 13 金色第八代 i5 / 8GB / 128GB / 1.6GHz\\\\r\\\\n★限時92折優惠05 01(三) 00:00 至 05 31(五)10:00止\\r\\n數量有限，售完為止\\r\\n網路價$39900．限時價↘$３６７０８\\r\\n\\r\\n● touch id\\r\\n● 雙核心第八代 intel core i5 處理器\\r\\n● intel uhd graphics 617\\r\\n● 快速的 ssd 儲存裝置\\r\\n● 8gb 記憶體\\r\\n● 立體聲揚聲器具備更寬廣的立體聲\\r\\n● 兩個 thunderbolt 3 (usb-c) 埠\\r\\n● 長達 12 小時電池續航力\\r\\n● 802.11ac wi-fi\\r\\n\\r\\n注意事項', 'price': 36708, 'originPrice': 36708, 'author': '', 'brand': '', 'publishDate': '', 'sellerId': '', 'isPChome': 1, 'isNC17': 0, 'couponActid': [], 'BU': 'ec'}, {'Id': 'DCADHZ-A9008CTGG', 'cateId': 'DCADLA', 'picS': '/items/DCADHZA9008CTGG/000002_1541407853.jpg', 'picB': '/items/DCADHZA9008CTGG/000001_1503307976.jpg', 'name': 'innowatt DOCK Pro+ Thunderbolt Type-C Hub for MacBook Pro 多功能充電傳輸集線器', 'describe': 'innowatt THE DOCK Pro+ 七合一多功能充電傳輸集線器 for MacBook Pro with Thunderbolt 3 & HDMI (型號iW71)\\\\r\\\\n1.適用macbook pro 2016~2019全系列\\r\\n2.多功能集線器高階thunderbolt 3版本 (iw71)\\r\\n3.無線收納超easy，輕薄短小放pocket \\r\\n4.雙type-c公頭且正反皆可用的hub \\r\\n5.usb-c1具thunderbolt 3 (40gb）傳輸規格 \\r\\n6.usb-c1母座可支援pd充電 5k video輸出 雙屏4k輸出 \\r\\n7.usb-c2母座可支援資料高速傳輸5gb s\\r\\n8.具備hdmi 1080p@60hz & 4k@30hz\\r\\n\\r\\n★若本區庫存銷售一空，請至下列原廠與pchome合作的另一連結採購，可獲贈專屬macbook pro保護殼\\r\\n→《dock pro+ 贈專屬客製macbook pro保護殼》\\r\\n\\r\\n★本專區贈送好禮 含皮套 iphone傳輸線等\\r\\n\\r\\n▼innowatt熱銷推薦 \\r\\n《dock net thunderbolt  usb 3.1多功能充電傳輸集線器》\\r\\n《the dock s type-c hdmi usb 多功能充電傳輸集線器》\\r\\n《dock pro thunderbolt  usb 3.1多功能充電傳輸集線器》\\r\\n《dock dock mini  usb 3.1多功能充電傳輸集線器灰色》\\r\\n《dock dock mini  usb 3.1多功能充電傳輸集線器銀色》\\r\\n《apple macbook pro專用超薄高透鍵盤保護膜》\\r\\n《螢幕防窺片macbook retina12吋》\\r\\n《螢幕防窺片macbook retina13吋》\\r\\n《mfi蘋果認證 270cm充電傳輸線》\\r\\n《tough線 (1米 玫瑰金）》\\r\\n《tough線 (1米 金）》\\r\\n《innowatt the yoga 優架(l) 筆電支架》', 'price': 2290, 'originPrice': 2290, 'author': '', 'brand': '', 'publishDate': '', 'sellerId': '', 'isPChome': 1, 'isNC17': 0, 'couponActid': [], 'BU': 'ec'}, {'Id': 'DMAABB-A9009OZDA', 'cateId': 'DMAABB', 'picS': '/items/DMAABBA9009OZDA/000002_1551665425.jpg', 'picB': '/items/DMAABBA9009OZDA/000001_1557715934.jpg', 'name': 'Google Chromecast HDMI Streaming Media Player', 'describe': '▼520暖男寵妻日▼☆指間上的精彩 完美在電視呈現2019年 全新一代CHROMECASTHDMI媒體串流播放器\\\\r\\\\n《寵妻放閃❤沒有極限》\\r\\n開始﹕５／１３（星期一）１１：００\\r\\n結束﹕５／２４（星期五）１１：００\\r\\n網路價$1445．\\r\\n限時價↘$1445 再送catchplay月付會員一個月優惠代碼(限量:我們與惡的距離 封面明信片)\\r\\n\\r\\n★處理速度提升15%，播放1080p影片更加順暢\\r\\n★內建1g記憶體(512mb ddr3l+512mb slc nand flash)\\r\\n\\r\\n★將youtube、spotify、netflix、kkbox 等app，或chrome瀏覽器內容投放至電視\\r\\n★支援多種平台(android、iphone®、ipad®、windows®、  mac®和chromebook)\\r\\n★可透過google語音助理播放音樂和影片\\r\\n★您的裝置就是您的專屬遙控器\\r\\n★三步驟設定超簡單，即插即用\\r\\n★原廠公司貨，維修有保障\\r\\n\\r\\n ▌探索更多支援應用程式 ▌ 歡迎前往 chromecast.com apps', 'price': 1445, 'originPrice': 1445, 'author': '', 'brand': '', 'publishDate': '', 'sellerId': '', 'isPChome': 1, 'isNC17': 0, 'couponActid': [], 'BU': 'ec'}, {'Id': 'DYAJBL-A9009SV1D', 'cateId': 'DYAJEW', 'picS': '/items/DYAJBLA9009SV1D/000002_1550133585.jpg', 'picB': '/items/DYAJBLA9009SV1D/000001_1557799537.jpg', 'name': 'MacBook Air 13: 1.6GHz dual-core Intel Core i5, 256GB - Silver', 'describe': 'MacBook Air 13 銀色第八代 i5 / 16GB / 256GB / 1.6GHz\\\\r\\\\n★此商品為規格特製機\\r\\n●原ram8gb↗升級16gb \\r\\n\\r\\n● touch id\\r\\n● 雙核心第八代 intel core i5 處理器\\r\\n● intel uhd graphics 617\\r\\n● 快速的 ssd 儲存裝置\\r\\n● 16gb 記憶體\\r\\n● 立體聲揚聲器具備更寬廣的立體聲\\r\\n● 兩個 thunderbolt 3 (usb-c) 埠\\r\\n● 長達 12 小時電池續航力\\r\\n● 802.11ac wi-fi\\r\\n\\r\\n注意事項', 'price': 52420, 'originPrice': 52420, 'author': '', 'brand': '', 'publishDate': '', 'sellerId': '', 'isPChome': 1, 'isNC17': 0, 'couponActid': [], 'BU': 'ec'}, {'Id': 'DYAJBL-19009QDOL', 'cateId': 'DYAJBL', 'picS': '/items/DYAJBL19009QDOL/000002_1547445108.jpg', 'picB': '/items/DYAJBL19009QDOL/000001_1554889726.jpg', 'name': 'MacBook Air 13: 1.6GHz dual-core Intel Core i5, 128GB - Gold', 'describe': '新款★降3千再贈雙重好禮MacBook Air 13 金色第八代 i5 / 8GB / 128GB / 1.6GHz\\\\r\\\\n新款★降3千再贈雙重好禮 \\r\\n網路價$39900．\\r\\n限時價↘$３６９００\\r\\n\\r\\n● touch id\\r\\n● 雙核心第八代 intel core i5 處理器\\r\\n● intel uhd graphics 617\\r\\n● 快速的 ssd 儲存裝置\\r\\n● 8gb 記憶體\\r\\n● 立體聲揚聲器具備更寬廣的立體聲\\r\\n● 兩個 thunderbolt 3 (usb-c) 埠\\r\\n● 長達 12 小時電池續航力\\r\\n● 802.11ac wi-fi\\r\\n\\r\\n注意事項', 'price': 36900, 'originPrice': 36900, 'author': '', 'brand': '', 'publishDate': '', 'sellerId': '', 'isPChome': 1, 'isNC17': 0, 'couponActid': [], 'BU': 'ec'}, {'Id': 'DYAJBL-19009QDOX', 'cateId': 'DYAJBL', 'picS': '/items/DYAJBL19009QDOX/000002_1547445006.jpg', 'picB': '/items/DYAJBL19009QDOX/000001_1554889696.jpg', 'name': 'MacBook Air 13: 1.6GHz dual-core Intel Core i5, 256GB - Silver', 'describe': 'MacBook Air 13 銀色第八代 i5 / 8GB / 256GB / 1.6GHz\\\\r\\\\n新款★降3千再贈雙重好禮\\r\\n網路價$45900．\\r\\n限時價↘$４２９００\\r\\n\\r\\n● touch id\\r\\n● 雙核心第八代 intel core i5 處理器\\r\\n● intel uhd graphics 617\\r\\n● 快速的 ssd 儲存裝置\\r\\n● 8gb 記憶體\\r\\n● 立體聲揚聲器具備更寬廣的立體聲\\r\\n● 兩個 thunderbolt 3 (usb-c) 埠\\r\\n● 長達 12 小時電池續航力\\r\\n● 802.11ac wi-fi\\r\\n\\r\\n注意事項', 'price': 42900, 'originPrice': 42900, 'author': '', 'brand': '', 'publishDate': '', 'sellerId': '', 'isPChome': 1, 'isNC17': 0, 'couponActid': [], 'BU': 'ec'}, {'Id': 'DYAJCW-19009WOYF', 'cateId': 'DYAJCW', 'picS': '/items/DYAJCW19009WOYF/000002_1553829768.jpg', 'picB': '/items/DYAJCW19009WOYF/000001_1554886556.jpg', 'name': 'MacBook Air 13-inch: 1.8GHz dual-core Intel Core i5, 128GB (MQD32TA/A)', 'describe': 'MacBook Air 13第五代 i5 / 8GB / 128GB / 1.8GHz dual\\\\r\\\\n★贈原廠滑鼠+自選好禮4選2活動日期：2019 03 31(日) 00:00 -2019 06 21(五) 23:59\\r\\nmagic mouse 2 (市價2290) & 自選好禮4選2(市價1800)\\r\\n數量有限，售完為止\\r\\n網路價$35990．限時價↘$３１９００\\r\\n\\r\\n**注意事項**\\r\\n本賣場屬信用卡活動★結帳僅接受信用卡支付★\\r\\n\\r\\n● intel core  i5 處理器\\r\\n● intel hd graphics 6000\\r\\n● ssd 儲存裝置\\r\\n● 長達 12 小時電池續航力\\r\\n● 802.11 ac wi-fi\\r\\n● multi - touch 觸控式軌跡板\\r\\n● 最長可達 30 天待機時間\\r\\n● 節能低耗又兼具高效能的設計\\r\\n\\r\\n注意事項', 'price': 31900, 'originPrice': 31900, 'author': '', 'brand': '', 'publishDate': '', 'sellerId': '', 'isPChome': 1, 'isNC17': 0, 'couponActid': [], 'BU': 'ec'}, {'Id': 'DYAJBD-A90097XIB', 'cateId': 'DYAJCS', 'picS': '/items/DYAJBDA90097XIB/000002_1544086661.jpg', 'picB': '/items/DYAJBDA90097XIB/000001_1554889658.jpg', 'name': 'MacBook Pro13 Touch Bar: 2.3GHz quad-core 8th- Intel\\xa0Core\\xa0i5, 256GB - Silve', 'describe': 'MacBook Pro13 銀色第八代 i5 / 8GB / 256GB / 2.3GHz\\\\r\\\\n★限時92折優惠05 01(三) 00:00 至 05 31(五)10:00止\\r\\n數量有限，售完為止\\r\\n網路價$57900．限時價↘$５３２６８\\r\\n\\r\\n★2018新款觸控\\r\\n商品特色\\r\\n• 4 核心 intel core i5 處理器\\r\\n• 具備原彩顯示技術的亮麗 retina 顯示器\\r\\n• 觸控列和 touch id\\r\\n• intel iris plus graphics 655\\r\\n• 超快速 ssd\\r\\n• 四個 thunderbolt 3 (usb-c) 埠\\r\\n• 長達 10 小時電池續航力2\\r\\n• 802.11ac wi-fi\\r\\n• 力度觸控板\\r\\n\\r\\n注意事項', 'price': 53268, 'originPrice': 53268, 'author': '', 'brand': '', 'publishDate': '', 'sellerId': '', 'isPChome': 1, 'isNC17': 0, 'couponActid': [], 'BU': 'ec'}, {'Id': 'DCADLA-A9009LMQZ', 'cateId': 'DCADLA', 'picS': '/items/DCADLAA9009LMQZ/000002_1542967034.jpg', 'picB': '/items/DCADLAA9009LMQZ/000001_1542967034.jpg', 'name': 'innowatt DOCK NET RJ45 & HDMI Type-C Hub for Macbook Pro 多功能充電傳輸集線器 iW71N', 'describe': 'innowatt DOCK NET Thunderbolt 3 & RJ45 & HDMI Type-C Hub for Macbook Pro 多功能充電傳輸集線器 iW71N\\\\r\\\\n1.適用macbook pro 2016~2019全系列 \\r\\n2.多功能集線器高階thunderbolt 3版本 (iw71n) \\r\\n3.usb-c具thunderbolt 3 (40gb）傳輸規格 \\r\\n4.支援pd充電 5k video輸出 雙屏4k輸出 \\r\\n5.具備hdmi 1080p@60hz & 4k@30hz \\r\\n6.具備rj45網路孔設計 隨插即用不需設定 可達1 gb s \\r\\n7.無線收納超easy，輕薄短小放pocket\\r\\n\\r\\n★若本區庫存銷售一空，請至下列原廠與pchome合作的另一連結採購，可獲贈專屬macbook pro保護殼\\r\\n→《dock net 贈專屬客製macbook pro保護殼》\\r\\n\\r\\n★本專區贈送多重好禮 含皮套 iphone傳輸線等\\r\\n\\r\\n▼innowatt熱銷推薦 \\r\\n《the dock s type-c hdmi usb 多功能充電傳輸集線器》\\r\\n《dock pro+ thunderbolt  usb 3.1多功能充電傳輸集線器》\\r\\n《dock pro thunderbolt  usb 3.1多功能充電傳輸集線器》\\r\\n《dock dock mini  usb 3.1多功能充電傳輸集線器灰色》\\r\\n《dock dock mini  usb 3.1多功能充電傳輸集線器銀色》\\r\\n《apple macbook pro專用超薄高透鍵盤保護膜》\\r\\n《螢幕防窺片macbook retina12吋》\\r\\n《螢幕防窺片macbook retina13吋》\\r\\n《mfi蘋果認證 270cm充電傳輸線》\\r\\n《tough線 (1米 玫瑰金）》\\r\\n《tough線 (1米 金）》\\r\\n《innowatt the yoga 優架(l) 筆電支架》', 'price': 2490, 'originPrice': 2490, 'author': '', 'brand': '', 'publishDate': '', 'sellerId': '', 'isPChome': 1, 'isNC17': 0, 'couponActid': [], 'BU': 'ec'}, {'Id': 'DICM5Z-A90096BOR', 'cateId': 'DICM5Z', 'picS': '/items/DICM5ZA90096BOR/000002_1530496855.jpg', 'picB': '/items/DICM5ZA90096BOR/000001_1530496855.jpg', 'name': '高級防震筆電保護包_MacBook Air /一般筆電適用 13吋 15吋', 'describe': '蘋果筆記本電腦包 蘋果筆記本電腦內膽包 MacBook Air 13吋 15吋電腦包 高級筆電保護內袋 / 防震包 /一般筆電 13吋 15吋15.6吋筆電適用\\\\r\\\\n高級防震筆電保護包_macbook air 13吋 15吋 \\r\\n一般筆電適用 13吋 15吋 15.6吋 \\r\\n13吋筆電包本身尺寸:36cm x 26cm x 2cm \\r\\n15吋筆電包本身尺寸:38cm x 28cm x 2cm\\r\\n15.6筆電包本身尺寸:42cm x 28cm x 2cm\\r\\n(手工量測 誤差值正負+-1cm)\\r\\n材質:表層潛水布料 防潑水表層 \\r\\n內層尼龍面料 輕柔順滑觸感 \\r\\n中間層放筆電 外層口袋放平板或手機 \\r\\n時尚經典灰色', 'price': 699, 'originPrice': 699, 'author': '', 'brand': '', 'publishDate': '', 'sellerId': '', 'isPChome': 1, 'isNC17': 0, 'couponActid': [], 'BU': 'ec'}, {'Id': 'DCACPL-A9009SA27', 'cateId': 'DCACYK', 'picS': '/items/DCACPLA9009SA27/000002_1549003288.jpg', 'picB': '/items/DCACPLA9009SA27/000001_1551664586.jpg', 'name': '綠聯 MacBook集線器 USB3.0*3+USB-C*2+PD+4K HDMI+ 8K Thunderbolt3', 'describe': '綠聯 MacBook集線器 USB3.0*3+USB-C*2+PD+4K HDMI+ 8K Thunderbolt3\\\\r\\\\n◆原廠編號：50963\\r\\n◆充電 夠快才暢快\\r\\n◆8k視頻輸出 一絲一毫盡收眼底\\r\\n◆隨身碟 鍵鼠輕鬆連接\\r\\n◆升級款獨立芯片穩定流暢\\r\\n◆量身打造接口牢固不易鬆動', 'price': 1499, 'originPrice': 1499, 'author': '', 'brand': '', 'publishDate': '', 'sellerId': '', 'isPChome': 1, 'isNC17': 0, 'couponActid': [], 'BU': 'ec'}, {'Id': 'DYAJCS-19009FXWV', 'cateId': 'DYAJCS', 'picS': '/items/DYAJCS19009FXWV/000002_1548036804.jpg', 'picB': '/items/DYAJCS19009FXWV/000001_1554889659.jpg', 'name': 'MacBook Pro13 Touch Bar: 2.3GHz quad-core 8th- Intel Core i5, 256GB - Silve', 'describe': 'MacBook Pro13 銀色第八代 i5 / 8GB / 256GB / 2.3GHz\\\\r\\\\n降3千贈傳輸線筆電包 \\r\\n網路價$57900．限時價↘$５４９００\\r\\n\\r\\n商品特色\\r\\n• 4 核心 intel core i5 處理器\\r\\n• 具備原彩顯示技術的亮麗 retina 顯示器\\r\\n• 觸控列和 touch id\\r\\n• intel iris plus graphics 655\\r\\n• 超快速 ssd\\r\\n• 四個 thunderbolt 3 (usb-c) 埠\\r\\n• 長達 10 小時電池續航力2\\r\\n• 802.11ac wi-fi\\r\\n• 力度觸控板\\r\\n\\r\\n注意事項', 'price': 54900, 'originPrice': 54900, 'author': '', 'brand': '', 'publishDate': '', 'sellerId': '', 'isPChome': 1, 'isNC17': 0, 'couponActid': [], 'BU': 'ec'}, {'Id': 'DYAJBL-A9009SV0T', 'cateId': 'DYAJEW', 'picS': '/items/DYAJBLA9009SV0T/000002_1550133536.jpg', 'picB': '/items/DYAJBLA9009SV0T/000001_1557367873.jpg', 'name': 'MacBook Air 13: 1.6GHz dual-core Intel Core i5, 256GB - Gold', 'describe': 'MacBook Air 13 金色第八代 i5 / 16GB / 256GB / 1.6GHz\\\\r\\\\n★此商品為規格特製機\\r\\n●原ram8gb↗升級16gb \\r\\n\\r\\n● touch id\\r\\n● 雙核心第八代 intel core i5 處理器\\r\\n● intel uhd graphics 617\\r\\n● 快速的 ssd 儲存裝置\\r\\n● 16gb 記憶體\\r\\n● 立體聲揚聲器具備更寬廣的立體聲\\r\\n● 兩個 thunderbolt 3 (usb-c) 埠\\r\\n● 長達 12 小時電池續航力\\r\\n● 802.11ac wi-fi\\r\\n\\r\\n注意事項', 'price': 52420, 'originPrice': 52420, 'author': '', 'brand': '', 'publishDate': '', 'sellerId': '', 'isPChome': 1, 'isNC17': 0, 'couponActid': [], 'BU': 'ec'}, {'Id': 'DYAJBD-19009C3MU', 'cateId': 'DYAJBD', 'picS': '/items/DYAJBD19009C3MU/000002_1544580264.jpg', 'picB': '/items/DYAJBD19009C3MU/000001_1545188587.jpg', 'name': 'MacBook Pro 13-inch : 2.3GHz dual-core i5, 256GB - Space Grey (MPXT2TA/A)', 'describe': 'MacBook Pro 13 灰色第七代 i5 / 8GB / 256GB / 2.3GHz\\\\r\\\\n降3千★再贈雙重好禮\\r\\n網路價$47900．限時價↘$４４９００\\r\\n\\r\\n★此機型無觸控列和touch id \\r\\n\\r\\n商品特色\\r\\n● 2.3 ghz 處理器 \\r\\n● 256 gb 儲存空間\\r\\n● 2.3 ghz 雙核心第七代 intel core i5 處理器\\r\\n● turbo boost 可達 3.6 ghz\\r\\n● 8 gb 2133 mhz lpddr 3 記憶體\\r\\n● 256 gb ssd 儲存裝置\\r\\n● intel iris plus graphics 640\\r\\n● 兩個 thunderbolt 3 埠\\r\\n\\r\\n注意事項', 'price': 44900, 'originPrice': 44900, 'author': '', 'brand': '', 'publishDate': '', 'sellerId': '', 'isPChome': 1, 'isNC17': 0, 'couponActid': [], 'BU': 'ec'}, {'Id': 'DYAJCS-19009PR5Z', 'cateId': 'DYAJCR', 'picS': '/items/DYAJCS19009PR5Z/000002_1547604365.jpg', 'picB': '/items/DYAJCS19009PR5Z/000001_1554889265.jpg', 'name': 'MacBook Pro15 Touch Bar: 2.6GHz 6-core 8th- Intel Core i7, 512GB - Space Grey', 'describe': 'MacBook Pro15 灰色第八代 i7 / 16GB / 512GB / 2.6GHz\\\\r\\\\n降3千贈防盜包+保貼\\r\\n網路價$89900．限時價↘$８６９００\\r\\n\\r\\n★2018新款觸控\\r\\n\\r\\n商品特色\\r\\n• 6 核心 intel core i7 處理器\\r\\n• 具備原彩顯示技術的亮麗 retina 顯示器\\r\\n• 觸控列和 touch id\\r\\n• radeon pro 560x 繪圖處理器配備 4gb 視訊記憶體\\r\\n• intel uhd graphics 630\\r\\n• 超快速 ssd\\r\\n• 四個 thunderbolt 3 (usb-c) 埠\\r\\n• 長達 10 小時電池續航力\\r\\n• 802.11ac wi-fi\\r\\n• 力度觸控板\\r\\n\\r\\n注意事項', 'price': 86900, 'originPrice': 86900, 'author': '', 'brand': '', 'publishDate': '', 'sellerId': '', 'isPChome': 1, 'isNC17': 0, 'couponActid': [], 'BU': 'ec'}]}\n"
     ]
    }
   ],
   "source": [
    "print(r.json())"
   ]
  },
  {
   "cell_type": "code",
   "execution_count": 28,
   "metadata": {},
   "outputs": [
    {
     "name": "stdout",
     "output_type": "stream",
     "text": [
      "b'{\"QTime\":105,\"totalRows\":14470,\"totalPage\":100,\"range\":{\"min\":\"\",\"max\":\"\"},\"cateName\":\"\",\"q\":\"macbook\",\"subq\":\"\",\"token\":[\"macbook\"],\"prods\":[{\"Id\":\"DYAJBG-19009S5Q7\",\"cateId\":\"DYAJCW\",\"picS\":\"\\\\/items\\\\/DYAJBG19009S5Q7\\\\/000002_1553827164.jpg\",\"picB\":\"\\\\/items\\\\/DYAJBG19009S5Q7\\\\/000001_1554886523.jpg\",\"name\":\"MacBook Air 13-inch: 1.8GHz dual-core Intel Core i5, 128GB (MQD32TA\\\\/A)\",\"describe\":\"\\\\u964d2\\\\u5343\\\\u2605\\\\u518d\\\\u642d\\\\u539f\\\\u5ee0\\\\u6ed1\\\\u9f20MacBook Air 13\\\\u7b2c\\\\u4e94\\\\u4ee3 i5 \\\\/ 8GB \\\\/ 128GB \\\\/ 1.8GHz dual\\\\\\\\r\\\\\\\\n\\\\u964d2\\\\u5343\\\\u2605\\\\u518d\\\\u642d\\\\u539f\\\\u5ee0\\\\u6ed1\\\\u9f20\\\\u6d3b\\\\u52d5\\\\u65e5\\\\u671f\\\\uff1a2019 04 12(\\\\u4e94) 15:00 -2019 06 21(\\\\u4e94) 23:59\\\\r\\\\nmacbook air  128gb (\\\\u5e02\\\\u50f9$31900) + \\\\r\\\\nmagic mouse 2 (\\\\u5e02\\\\u50f9$2290) \\\\r\\\\n\\\\u6578\\\\u91cf\\\\u6709\\\\u9650\\\\uff0c\\\\u552e\\\\u5b8c\\\\u70ba\\\\u6b62\\\\r\\\\n\\\\u7db2\\\\u8def\\\\u50f9$34190\\\\uff0e\\\\u9a5a\\\\u559c\\\\u512a\\\\u60e0\\\\u50f9\\\\u2198$\\\\uff12\\\\uff19\\\\uff19\\\\uff10\\\\uff10\\\\r\\\\n\\\\r\\\\n\\\\u25cf intel core  i5 \\\\u8655\\\\u7406\\\\u5668\\\\r\\\\n\\\\u25cf intel hd graphics 6000\\\\r\\\\n\\\\u25cf ssd \\\\u5132\\\\u5b58\\\\u88dd\\\\u7f6e\\\\r\\\\n\\\\u25cf \\\\u9577\\\\u9054 12 \\\\u5c0f\\\\u6642\\\\u96fb\\\\u6c60\\\\u7e8c\\\\u822a\\\\u529b\\\\r\\\\n\\\\u25cf 802.11 ac wi-fi\\\\r\\\\n\\\\u25cf multi - touch \\\\u89f8\\\\u63a7\\\\u5f0f\\\\u8ecc\\\\u8de1\\\\u677f\\\\r\\\\n\\\\u25cf \\\\u6700\\\\u9577\\\\u53ef\\\\u9054 30 \\\\u5929\\\\u5f85\\\\u6a5f\\\\u6642\\\\u9593\\\\r\\\\n\\\\u25cf \\\\u7bc0\\\\u80fd\\\\u4f4e\\\\u8017\\\\u53c8\\\\u517c\\\\u5177\\\\u9ad8\\\\u6548\\\\u80fd\\\\u7684\\\\u8a2d\\\\u8a08\\\\r\\\\n\\\\r\\\\n\\\\u6ce8\\\\u610f\\\\u4e8b\\\\u9805\",\"price\":29900,\"originPrice\":29900,\"author\":\"\",\"brand\":\"\",\"publishDate\":\"\",\"sellerId\":\"\",\"isPChome\":1,\"isNC17\":0,\"couponActid\":[],\"BU\":\"ec\"},{\"Id\":\"DYAJBD-A90097XCT\",\"cateId\":\"DYAJBD\",\"picS\":\"\\\\/items\\\\/DYAJBDA90097XCT\\\\/000002_1544004919.jpg\",\"picB\":\"\\\\/items\\\\/DYAJBDA90097XCT\\\\/000001_1556250026.jpg\",\"name\":\"MacBook Pro 13-inch: 2.3GHz dual-core i5, 128GB - Silver (MPXR2TA\\\\/A)\",\"describe\":\"MacBook Pro 13 \\\\u9280\\\\u8272\\\\u7b2c\\\\u4e03\\\\u4ee3 i5 \\\\/ 8GB \\\\/ 128GB \\\\/ 2.3GHz\\\\\\\\r\\\\\\\\n\\\\u2605\\\\u9650\\\\u664292\\\\u6298\\\\u512a\\\\u60e005 01(\\\\u4e09) 00:00 \\\\u81f3 05 31(\\\\u4e94)10:00\\\\u6b62 \\\\r\\\\n\\\\u6578\\\\u91cf\\\\u6709\\\\u9650\\\\uff0c\\\\u552e\\\\u5b8c\\\\u70ba\\\\u6b62\\\\r\\\\n\\\\u7db2\\\\u8def\\\\u50f9$41900\\\\uff0e\\\\u9650\\\\u6642\\\\u50f9\\\\u2198$\\\\uff13\\\\uff18\\\\uff15\\\\uff14\\\\uff18\\\\r\\\\n\\\\r\\\\n\\\\u2605\\\\u6b64\\\\u6a5f\\\\u578b\\\\u7121\\\\u89f8\\\\u63a7\\\\u5217\\\\u548ctouch id \\\\r\\\\n\\\\r\\\\n\\\\u5546\\\\u54c1\\\\u7279\\\\u8272\\\\r\\\\n\\\\u25cf 2.3 ghz \\\\u8655\\\\u7406\\\\u5668 \\\\r\\\\n\\\\u25cf 128 gb \\\\u5132\\\\u5b58\\\\u7a7a\\\\u9593\\\\r\\\\n\\\\u25cf 2.3 ghz \\\\u96d9\\\\u6838\\\\u5fc3\\\\u7b2c\\\\u4e03\\\\u4ee3 intel core i5 \\\\u8655\\\\u7406\\\\u5668\\\\r\\\\n\\\\u25cf turbo boost \\\\u53ef\\\\u9054 3.6 ghz\\\\r\\\\n\\\\u25cf 8 gb 2133 mhz lpddr 3 \\\\u8a18\\\\u61b6\\\\u9ad4\\\\r\\\\n\\\\u25cf 128 gb ssd \\\\u5132\\\\u5b58\\\\u88dd\\\\u7f6e\\\\r\\\\n\\\\u25cf intel iris plus graphics 640\\\\r\\\\n\\\\u25cf \\\\u5169\\\\u500b thunderbolt 3 \\\\u57e0\\\\r\\\\n\\\\r\\\\n\\\\u9928\\\\u9577\\\\u5c0f\\\\u53ee\\\\u5680\\\\uff1a\\\\u5132\\\\u503c\\\\u8cfc\\\\u8cb7\\\\u6700\\\\u5212\\\\u7b97\\\\uff5e\\\\r\\\\n\\\\u21914\\\\u6708\\\\u5132\\\\u503c\\\\u512a\\\\u60e0\\\\u6d3b\\\\u52d5\\\\uff0c\\\\u8acb\\\\u9ede\\\\u6211\\\\r\\\\n\\\\r\\\\n4\\\\u6708\\\\u9280\\\\u884c\\\\u512a\\\\u60e0 \\\\u9650\\\\u91cf\\\\u9700\\\\u767b\\\\u9304\\\\r\\\\n\\\\u2191\\\\u9280\\\\u884c\\\\u5237\\\\u5361\\\\u6d3b\\\\u52d5\\\\u8a73\\\\u60c5\\\\u8acb\\\\u9ede\\\\u5716\\\\u7247\\\\u4e86\\\\u89e3\\\\r\\\\n\\\\r\\\\n\\\\u6ce8\\\\u610f\\\\u4e8b\\\\u9805\",\"price\":38548,\"originPrice\":38548,\"author\":\"\",\"brand\":\"\",\"publishDate\":\"\",\"sellerId\":\"\",\"isPChome\":1,\"isNC17\":0,\"couponActid\":[],\"BU\":\"ec\"},{\"Id\":\"DYAJBL-19009QCQT\",\"cateId\":\"DYAJBL\",\"picS\":\"\\\\/items\\\\/DYAJBL19009QCQT\\\\/000002_1548818088.jpg\",\"picB\":\"\\\\/items\\\\/DYAJBL19009QCQT\\\\/000001_1554889696.jpg\",\"name\":\"MacBook Air 13: 1.6GHz dual-core Intel Core i5, 256GB - Silver\",\"describe\":\"\\\\u2605\\\\u9650\\\\u664292\\\\u6298\\\\u512a\\\\u60e0MacBook Air 13 \\\\u9280\\\\u8272\\\\u7b2c\\\\u516b\\\\u4ee3 i5 \\\\/ 8GB \\\\/ 256GB \\\\/ 1.6GHz\\\\\\\\r\\\\\\\\n\\\\u2605\\\\u9650\\\\u664292\\\\u6298\\\\u512a\\\\u60e005 01(\\\\u4e09) 00:00 \\\\u81f3 05 31(\\\\u4e94)10:00\\\\u6b62 \\\\r\\\\n\\\\u6578\\\\u91cf\\\\u6709\\\\u9650\\\\uff0c\\\\u552e\\\\u5b8c\\\\u70ba\\\\u6b62\\\\r\\\\n\\\\u7db2\\\\u8def\\\\u50f9$45900\\\\uff0e\\\\u9650\\\\u6642\\\\u50f9\\\\u2198$\\\\uff14\\\\uff12\\\\uff12\\\\uff12\\\\uff18\\\\r\\\\n\\\\r\\\\n\\\\u25cf touch id\\\\r\\\\n\\\\u25cf \\\\u96d9\\\\u6838\\\\u5fc3\\\\u7b2c\\\\u516b\\\\u4ee3 intel core i5 \\\\u8655\\\\u7406\\\\u5668\\\\r\\\\n\\\\u25cf intel uhd graphics 617\\\\r\\\\n\\\\u25cf \\\\u5feb\\\\u901f\\\\u7684 ssd \\\\u5132\\\\u5b58\\\\u88dd\\\\u7f6e\\\\r\\\\n\\\\u25cf 8gb \\\\u8a18\\\\u61b6\\\\u9ad4\\\\r\\\\n\\\\u25cf \\\\u7acb\\\\u9ad4\\\\u8072\\\\u63da\\\\u8072\\\\u5668\\\\u5177\\\\u5099\\\\u66f4\\\\u5bec\\\\u5ee3\\\\u7684\\\\u7acb\\\\u9ad4\\\\u8072\\\\r\\\\n\\\\u25cf \\\\u5169\\\\u500b thunderbolt 3 (usb-c) \\\\u57e0\\\\r\\\\n\\\\u25cf \\\\u9577\\\\u9054 12 \\\\u5c0f\\\\u6642\\\\u96fb\\\\u6c60\\\\u7e8c\\\\u822a\\\\u529b\\\\r\\\\n\\\\u25cf 802.11ac wi-fi\\\\r\\\\n\\\\r\\\\n\\\\u6ce8\\\\u610f\\\\u4e8b\\\\u9805\",\"price\":42228,\"originPrice\":42228,\"author\":\"\",\"brand\":\"\",\"publishDate\":\"\",\"sellerId\":\"\",\"isPChome\":1,\"isNC17\":0,\"couponActid\":[],\"BU\":\"ec\"},{\"Id\":\"DCADHZ-A9008WQYY\",\"cateId\":\"DCADMP\",\"picS\":\"\\\\/items\\\\/DCADHZA9008WQYY\\\\/000002_1544163763.jpg\",\"picB\":\"\\\\/items\\\\/DCADHZA9008WQYY\\\\/000001_1557280680.jpg\",\"name\":\"New MacBook Pro hub Type-C\\\\u8f49USB\\\\u8f49\\\\u63a5\\\\u5668mac\\\\u8f49\\\\u63db\\\\u982d \\\\u591a\\\\u529f\\\\u80fd\\\\u5145\\\\u96fb\\\\u96c6\\\\u7dda\\\\u5668-T8\",\"describe\":\"WIWU type-c\\\\u8f49USB \\\\u8f49\\\\u63db\\\\u5668USB 3.1 Type-C HDMI 7 port \\\\u591a\\\\u529f\\\\u80fd\\\\u96c6\\\\u7dda\\\\u5668\\\\u3010\\\\u9280\\\\u8272\\\\u3011\\\\u25bc\\\\u65b0\\\\u6b3e\\\\u5c08\\\\u7528 \\\\u96d9\\\\u4ecb\\\\u9762\\\\u25bc\\\\\\\\r\\\\\\\\n\\\\u2606\\\\u4e03\\\\u5408\\\\u4e00\\\\u591a\\\\u529f\\\\u80fd\\\\u8f49\\\\u63a5\\\\u5668\\\\u2606\\\\r\\\\n\\\\r\\\\n\\\\u25bcnew macbook\\\\u7684\\\\u6700\\\\u4f73\\\\u642d\\\\u6a94\\\\u25bc\\\\r\\\\n\\\\u25c6 \\\\u4e00\\\\u7269\\\\u591a\\\\u7528\\\\uff0c\\\\u9023\\\\u63a5\\\\u591a\\\\u7a2e\\\\u8a2d\\\\u5099\\\\r\\\\n\\\\u25c6 typec\\\\u63a5\\\\u53e3\\\\u8a2d\\\\u8a08\\\\uff0c\\\\u53ef\\\\u96d9\\\\u5411\\\\u5145\\\\u96fb\\\\u3001\\\\u50b3\\\\u8f38\\\\r\\\\n\\\\u25c6 \\\\u652f\\\\u63f4\\\\u5feb\\\\u5145\\\\u6280\\\\u8853\\\\uff0c\\\\u8fa6\\\\u516c\\\\u5fc5\\\\u5099\\\\u7684mac\\\\u642d\\\\u6a94\\\\r\\\\n\\\\u25c6 type-c\\\\u5145\\\\u96fb\\\\uff0c\\\\u908a\\\\u5145\\\\u908a\\\\u73a9\\\\u4e0d\\\\u6389\\\\u96fb\\\\r\\\\n\\\\u25c6 \\\\u652f\\\\u63f4 4k hdmi\\\\u8f49\\\\u63a5\\\\u3001sd\\\\u8b80\\\\u5361\\\\u6a5f\\\\r\\\\n\\\\u25c6 \\\\u56db\\\\u91cd\\\\u4fdd\\\\u8b77\\\\uff0c\\\\u8b93\\\\u60a8\\\\u4f7f\\\\u7528\\\\u8d77\\\\u4f86\\\\u66f4\\\\u653e\\\\u5fc3\\\\r\\\\n\\\\u25c6 \\\\u52a0\\\\u78bc\\\\u8d08\\\\u9001\\\\u7279\\\\u88fd\\\\u6536\\\\u7d0d\\\\u5305\\\\uff0c\\\\u65b9\\\\u4fbf\\\\u651c\\\\u5e36\\\\u4e0d\\\\u6613\\\\u522e\\\\u50b7\\\\u7b46\\\\u96fb\\\\r\\\\n\\\\u25c6 macbook pro\\\\u65b0\\\\u6b3e\\\\u5c08\\\\u7528\\\\r\\\\n\\\\r\\\\n\\\\u25bc\\\\u6ce8\\\\u610f\\\\u4e8b\\\\u9805\\\\u25bc\\\\uff1a\\\\r\\\\n\\\\u2605 \\\\u8cfc\\\\u8cb7\\\\u6642\\\\u8acb\\\\u6ce8\\\\u610f\\\\uff0c\\\\u6b64\\\\u6b3e\\\\u7522\\\\u54c1\\\\u70bamacbook\\\\u5c08\\\\u7528\\\\u7684\\\\uff0c\\\\u5176\\\\u4ed6\\\\u54c1\\\\u724c\\\\u7684\\\\u7b46\\\\u96fb\\\\u6709\\\\u4e00\\\\u4e9b\\\\u662f\\\\u4e0d\\\\u80fd\\\\u652f\\\\u63f4\\\\u4f7f\\\\u7528\\\\u7684\\\\r\\\\n\\\\u2605 \\\\u63d0\\\\u9192\\\\u82e5macbook pro\\\\u50c5\\\\u55ae\\\\u908a\\\\u4e00\\\\u500busb-c\\\\u57e0\\\\uff0c\\\\u4e0d\\\\u5efa\\\\u8b70\\\\u8cfc\\\\u8cb7\\\\u6b64\\\\u914d\\\\u4ef6 \\\\r\\\\n\\\\r\\\\n\\\\u2605\\\\u5176\\\\u4ed6\\\\u984f\\\\u8272\\\\u53ef\\\\u9078\\\\u64c7\\\\u2605 \\\\r\\\\n\\\\u25ba\\\\u25ba\\\\u9226\\\\u91d1\\\\u7070\\\\r\\\\n\\\\r\\\\n\\\\r\\\\n\\\\u2605\\\\u66f4\\\\u591a\\\\u6b3e\\\\u5f0f\\\\u53ef\\\\u9078\\\\u2605 \\\\r\\\\n\\\\u25b6\\\\u25b6usb 3.0 type-c \\\\u4e94\\\\u5408\\\\u4e00\\\\u591a\\\\u529f\\\\u80fdhub\\\\u5145\\\\u96fb\\\\u50b3\\\\u8f38\\\\u96c6\\\\u7dda\\\\u5668-t8 lite\",\"price\":2299,\"originPrice\":2299,\"author\":\"\",\"brand\":\"\",\"publishDate\":\"\",\"sellerId\":\"\",\"isPChome\":1,\"isNC17\":0,\"couponActid\":[],\"BU\":\"ec\"},{\"Id\":\"DYAJBD-19009OXPJ\",\"cateId\":\"DYAJCW\",\"picS\":\"\\\\/items\\\\/DYAJBD19009OXPJ\\\\/000002_1556088163.jpg\",\"picB\":\"\\\\/items\\\\/DYAJBD19009OXPJ\\\\/000001_1556606430.jpg\",\"name\":\"MacBook Pro 13-inch: 2.3GHz dual-core i5, 128GB - Silver (MPXR2TA\\\\/A)\",\"describe\":\"MacBook Pro 13 \\\\u9280\\\\u8272\\\\u7b2c\\\\u4e03\\\\u4ee3 i5 \\\\/ 8GB \\\\/ 128GB \\\\/ 2.3GHz\\\\\\\\r\\\\\\\\n95\\\\u6298\\\\u512a\\\\u60e0\\\\u2605\\\\u518d\\\\u642d\\\\u539f\\\\u5ee0\\\\u6ed1\\\\u9f20\\\\u81f3 2019 06 21(\\\\u4e94) 23:59\\\\r\\\\nmacbook pro 128gb (\\\\u5e02\\\\u50f9$41900) + \\\\r\\\\nmagic mouse 2 (\\\\u5e02\\\\u50f9$2290) \\\\r\\\\n\\\\u6578\\\\u91cf\\\\u6709\\\\u9650\\\\uff0c\\\\u552e\\\\u5b8c\\\\u70ba\\\\u6b62\\\\r\\\\n\\\\u7db2\\\\u8def\\\\u50f9$44190\\\\uff0e\\\\u9a5a\\\\u559c\\\\u512a\\\\u60e0\\\\u50f9\\\\u2198$\\\\uff13\\\\uff19\\\\uff18\\\\uff10\\\\uff15\\\\r\\\\n\\\\r\\\\n\\\\u2605\\\\u6b64\\\\u6a5f\\\\u578b\\\\u7121\\\\u89f8\\\\u63a7\\\\u5217\\\\u548ctouch id \\\\r\\\\n\\\\r\\\\n\\\\u5546\\\\u54c1\\\\u7279\\\\u8272\\\\r\\\\n\\\\u25cf 2.3 ghz \\\\u8655\\\\u7406\\\\u5668 \\\\r\\\\n\\\\u25cf 128 gb \\\\u5132\\\\u5b58\\\\u7a7a\\\\u9593\\\\r\\\\n\\\\u25cf 2.3 ghz \\\\u96d9\\\\u6838\\\\u5fc3\\\\u7b2c\\\\u4e03\\\\u4ee3 intel core i5 \\\\u8655\\\\u7406\\\\u5668\\\\r\\\\n\\\\u25cf turbo boost \\\\u53ef\\\\u9054 3.6 ghz\\\\r\\\\n\\\\u25cf 8 gb 2133 mhz lpddr 3 \\\\u8a18\\\\u61b6\\\\u9ad4\\\\r\\\\n\\\\u25cf 128 gb ssd \\\\u5132\\\\u5b58\\\\u88dd\\\\u7f6e\\\\r\\\\n\\\\u25cf intel iris plus graphics 640\\\\r\\\\n\\\\u25cf \\\\u5169\\\\u500b thunderbolt 3 \\\\u57e0\\\\r\\\\n\\\\r\\\\n\\\\u6ce8\\\\u610f\\\\u4e8b\\\\u9805\",\"price\":39805,\"originPrice\":39805,\"author\":\"\",\"brand\":\"\",\"publishDate\":\"\",\"sellerId\":\"\",\"isPChome\":1,\"isNC17\":0,\"couponActid\":[],\"BU\":\"ec\"},{\"Id\":\"DYAJBL-19009QCQ8\",\"cateId\":\"DYAJBL\",\"picS\":\"\\\\/items\\\\/DYAJBL19009QCQ8\\\\/000002_1548641482.jpg\",\"picB\":\"\\\\/items\\\\/DYAJBL19009QCQ8\\\\/000001_1554889726.jpg\",\"name\":\"MacBook Air 13: 1.6GHz dual-core Intel Core i5, 128GB - Gold\",\"describe\":\"\\\\u2605\\\\u9650\\\\u664292\\\\u6298\\\\u512a\\\\u60e0MacBook Air 13 \\\\u91d1\\\\u8272\\\\u7b2c\\\\u516b\\\\u4ee3 i5 \\\\/ 8GB \\\\/ 128GB \\\\/ 1.6GHz\\\\\\\\r\\\\\\\\n\\\\u2605\\\\u9650\\\\u664292\\\\u6298\\\\u512a\\\\u60e005 01(\\\\u4e09) 00:00 \\\\u81f3 05 31(\\\\u4e94)10:00\\\\u6b62\\\\r\\\\n\\\\u6578\\\\u91cf\\\\u6709\\\\u9650\\\\uff0c\\\\u552e\\\\u5b8c\\\\u70ba\\\\u6b62\\\\r\\\\n\\\\u7db2\\\\u8def\\\\u50f9$39900\\\\uff0e\\\\u9650\\\\u6642\\\\u50f9\\\\u2198$\\\\uff13\\\\uff16\\\\uff17\\\\uff10\\\\uff18\\\\r\\\\n\\\\r\\\\n\\\\u25cf touch id\\\\r\\\\n\\\\u25cf \\\\u96d9\\\\u6838\\\\u5fc3\\\\u7b2c\\\\u516b\\\\u4ee3 intel core i5 \\\\u8655\\\\u7406\\\\u5668\\\\r\\\\n\\\\u25cf intel uhd graphics 617\\\\r\\\\n\\\\u25cf \\\\u5feb\\\\u901f\\\\u7684 ssd \\\\u5132\\\\u5b58\\\\u88dd\\\\u7f6e\\\\r\\\\n\\\\u25cf 8gb \\\\u8a18\\\\u61b6\\\\u9ad4\\\\r\\\\n\\\\u25cf \\\\u7acb\\\\u9ad4\\\\u8072\\\\u63da\\\\u8072\\\\u5668\\\\u5177\\\\u5099\\\\u66f4\\\\u5bec\\\\u5ee3\\\\u7684\\\\u7acb\\\\u9ad4\\\\u8072\\\\r\\\\n\\\\u25cf \\\\u5169\\\\u500b thunderbolt 3 (usb-c) \\\\u57e0\\\\r\\\\n\\\\u25cf \\\\u9577\\\\u9054 12 \\\\u5c0f\\\\u6642\\\\u96fb\\\\u6c60\\\\u7e8c\\\\u822a\\\\u529b\\\\r\\\\n\\\\u25cf 802.11ac wi-fi\\\\r\\\\n\\\\r\\\\n\\\\u6ce8\\\\u610f\\\\u4e8b\\\\u9805\",\"price\":36708,\"originPrice\":36708,\"author\":\"\",\"brand\":\"\",\"publishDate\":\"\",\"sellerId\":\"\",\"isPChome\":1,\"isNC17\":0,\"couponActid\":[],\"BU\":\"ec\"},{\"Id\":\"DCADHZ-A9008CTGG\",\"cateId\":\"DCADLA\",\"picS\":\"\\\\/items\\\\/DCADHZA9008CTGG\\\\/000002_1541407853.jpg\",\"picB\":\"\\\\/items\\\\/DCADHZA9008CTGG\\\\/000001_1503307976.jpg\",\"name\":\"innowatt DOCK Pro+ Thunderbolt Type-C Hub for MacBook Pro \\\\u591a\\\\u529f\\\\u80fd\\\\u5145\\\\u96fb\\\\u50b3\\\\u8f38\\\\u96c6\\\\u7dda\\\\u5668\",\"describe\":\"innowatt THE DOCK Pro+ \\\\u4e03\\\\u5408\\\\u4e00\\\\u591a\\\\u529f\\\\u80fd\\\\u5145\\\\u96fb\\\\u50b3\\\\u8f38\\\\u96c6\\\\u7dda\\\\u5668 for MacBook Pro with Thunderbolt 3 & HDMI (\\\\u578b\\\\u865fiW71)\\\\\\\\r\\\\\\\\n1.\\\\u9069\\\\u7528macbook pro 2016~2019\\\\u5168\\\\u7cfb\\\\u5217\\\\r\\\\n2.\\\\u591a\\\\u529f\\\\u80fd\\\\u96c6\\\\u7dda\\\\u5668\\\\u9ad8\\\\u968ethunderbolt 3\\\\u7248\\\\u672c (iw71)\\\\r\\\\n3.\\\\u7121\\\\u7dda\\\\u6536\\\\u7d0d\\\\u8d85easy\\\\uff0c\\\\u8f15\\\\u8584\\\\u77ed\\\\u5c0f\\\\u653epocket \\\\r\\\\n4.\\\\u96d9type-c\\\\u516c\\\\u982d\\\\u4e14\\\\u6b63\\\\u53cd\\\\u7686\\\\u53ef\\\\u7528\\\\u7684hub \\\\r\\\\n5.usb-c1\\\\u5177thunderbolt 3 (40gb\\\\uff09\\\\u50b3\\\\u8f38\\\\u898f\\\\u683c \\\\r\\\\n6.usb-c1\\\\u6bcd\\\\u5ea7\\\\u53ef\\\\u652f\\\\u63f4pd\\\\u5145\\\\u96fb 5k video\\\\u8f38\\\\u51fa \\\\u96d9\\\\u5c4f4k\\\\u8f38\\\\u51fa \\\\r\\\\n7.usb-c2\\\\u6bcd\\\\u5ea7\\\\u53ef\\\\u652f\\\\u63f4\\\\u8cc7\\\\u6599\\\\u9ad8\\\\u901f\\\\u50b3\\\\u8f385gb s\\\\r\\\\n8.\\\\u5177\\\\u5099hdmi 1080p@60hz & 4k@30hz\\\\r\\\\n\\\\r\\\\n\\\\u2605\\\\u82e5\\\\u672c\\\\u5340\\\\u5eab\\\\u5b58\\\\u92b7\\\\u552e\\\\u4e00\\\\u7a7a\\\\uff0c\\\\u8acb\\\\u81f3\\\\u4e0b\\\\u5217\\\\u539f\\\\u5ee0\\\\u8207pchome\\\\u5408\\\\u4f5c\\\\u7684\\\\u53e6\\\\u4e00\\\\u9023\\\\u7d50\\\\u63a1\\\\u8cfc\\\\uff0c\\\\u53ef\\\\u7372\\\\u8d08\\\\u5c08\\\\u5c6cmacbook pro\\\\u4fdd\\\\u8b77\\\\u6bbc\\\\r\\\\n\\\\u2192\\\\u300adock pro+ \\\\u8d08\\\\u5c08\\\\u5c6c\\\\u5ba2\\\\u88fdmacbook pro\\\\u4fdd\\\\u8b77\\\\u6bbc\\\\u300b\\\\r\\\\n\\\\r\\\\n\\\\u2605\\\\u672c\\\\u5c08\\\\u5340\\\\u8d08\\\\u9001\\\\u597d\\\\u79ae \\\\u542b\\\\u76ae\\\\u5957 iphone\\\\u50b3\\\\u8f38\\\\u7dda\\\\u7b49\\\\r\\\\n\\\\r\\\\n\\\\u25bcinnowatt\\\\u71b1\\\\u92b7\\\\u63a8\\\\u85a6 \\\\r\\\\n\\\\u300adock net thunderbolt  usb 3.1\\\\u591a\\\\u529f\\\\u80fd\\\\u5145\\\\u96fb\\\\u50b3\\\\u8f38\\\\u96c6\\\\u7dda\\\\u5668\\\\u300b\\\\r\\\\n\\\\u300athe dock s type-c hdmi usb \\\\u591a\\\\u529f\\\\u80fd\\\\u5145\\\\u96fb\\\\u50b3\\\\u8f38\\\\u96c6\\\\u7dda\\\\u5668\\\\u300b\\\\r\\\\n\\\\u300adock pro thunderbolt  usb 3.1\\\\u591a\\\\u529f\\\\u80fd\\\\u5145\\\\u96fb\\\\u50b3\\\\u8f38\\\\u96c6\\\\u7dda\\\\u5668\\\\u300b\\\\r\\\\n\\\\u300adock dock mini  usb 3.1\\\\u591a\\\\u529f\\\\u80fd\\\\u5145\\\\u96fb\\\\u50b3\\\\u8f38\\\\u96c6\\\\u7dda\\\\u5668\\\\u7070\\\\u8272\\\\u300b\\\\r\\\\n\\\\u300adock dock mini  usb 3.1\\\\u591a\\\\u529f\\\\u80fd\\\\u5145\\\\u96fb\\\\u50b3\\\\u8f38\\\\u96c6\\\\u7dda\\\\u5668\\\\u9280\\\\u8272\\\\u300b\\\\r\\\\n\\\\u300aapple macbook pro\\\\u5c08\\\\u7528\\\\u8d85\\\\u8584\\\\u9ad8\\\\u900f\\\\u9375\\\\u76e4\\\\u4fdd\\\\u8b77\\\\u819c\\\\u300b\\\\r\\\\n\\\\u300a\\\\u87a2\\\\u5e55\\\\u9632\\\\u7aba\\\\u7247macbook retina12\\\\u540b\\\\u300b\\\\r\\\\n\\\\u300a\\\\u87a2\\\\u5e55\\\\u9632\\\\u7aba\\\\u7247macbook retina13\\\\u540b\\\\u300b\\\\r\\\\n\\\\u300amfi\\\\u860b\\\\u679c\\\\u8a8d\\\\u8b49 270cm\\\\u5145\\\\u96fb\\\\u50b3\\\\u8f38\\\\u7dda\\\\u300b\\\\r\\\\n\\\\u300atough\\\\u7dda (1\\\\u7c73 \\\\u73ab\\\\u7470\\\\u91d1\\\\uff09\\\\u300b\\\\r\\\\n\\\\u300atough\\\\u7dda (1\\\\u7c73 \\\\u91d1\\\\uff09\\\\u300b\\\\r\\\\n\\\\u300ainnowatt the yoga \\\\u512a\\\\u67b6(l) \\\\u7b46\\\\u96fb\\\\u652f\\\\u67b6\\\\u300b\",\"price\":2290,\"originPrice\":2290,\"author\":\"\",\"brand\":\"\",\"publishDate\":\"\",\"sellerId\":\"\",\"isPChome\":1,\"isNC17\":0,\"couponActid\":[],\"BU\":\"ec\"},{\"Id\":\"DMAABB-A9009OZDA\",\"cateId\":\"DMAABB\",\"picS\":\"\\\\/items\\\\/DMAABBA9009OZDA\\\\/000002_1551665425.jpg\",\"picB\":\"\\\\/items\\\\/DMAABBA9009OZDA\\\\/000001_1557715934.jpg\",\"name\":\"Google Chromecast HDMI Streaming Media Player\",\"describe\":\"\\\\u25bc520\\\\u6696\\\\u7537\\\\u5bf5\\\\u59bb\\\\u65e5\\\\u25bc\\\\u2606\\\\u6307\\\\u9593\\\\u4e0a\\\\u7684\\\\u7cbe\\\\u5f69 \\\\u5b8c\\\\u7f8e\\\\u5728\\\\u96fb\\\\u8996\\\\u5448\\\\u73fe2019\\\\u5e74 \\\\u5168\\\\u65b0\\\\u4e00\\\\u4ee3CHROMECASTHDMI\\\\u5a92\\\\u9ad4\\\\u4e32\\\\u6d41\\\\u64ad\\\\u653e\\\\u5668\\\\\\\\r\\\\\\\\n\\\\u300a\\\\u5bf5\\\\u59bb\\\\u653e\\\\u9583\\\\u2764\\\\u6c92\\\\u6709\\\\u6975\\\\u9650\\\\u300b\\\\r\\\\n\\\\u958b\\\\u59cb\\\\ufe55\\\\uff15\\\\uff0f\\\\uff11\\\\uff13\\\\uff08\\\\u661f\\\\u671f\\\\u4e00\\\\uff09\\\\uff11\\\\uff11\\\\uff1a\\\\uff10\\\\uff10\\\\r\\\\n\\\\u7d50\\\\u675f\\\\ufe55\\\\uff15\\\\uff0f\\\\uff12\\\\uff14\\\\uff08\\\\u661f\\\\u671f\\\\u4e94\\\\uff09\\\\uff11\\\\uff11\\\\uff1a\\\\uff10\\\\uff10\\\\r\\\\n\\\\u7db2\\\\u8def\\\\u50f9$1445\\\\uff0e\\\\r\\\\n\\\\u9650\\\\u6642\\\\u50f9\\\\u2198$1445 \\\\u518d\\\\u9001catchplay\\\\u6708\\\\u4ed8\\\\u6703\\\\u54e1\\\\u4e00\\\\u500b\\\\u6708\\\\u512a\\\\u60e0\\\\u4ee3\\\\u78bc(\\\\u9650\\\\u91cf:\\\\u6211\\\\u5011\\\\u8207\\\\u60e1\\\\u7684\\\\u8ddd\\\\u96e2 \\\\u5c01\\\\u9762\\\\u660e\\\\u4fe1\\\\u7247)\\\\r\\\\n\\\\r\\\\n\\\\u2605\\\\u8655\\\\u7406\\\\u901f\\\\u5ea6\\\\u63d0\\\\u534715%\\\\uff0c\\\\u64ad\\\\u653e1080p\\\\u5f71\\\\u7247\\\\u66f4\\\\u52a0\\\\u9806\\\\u66a2\\\\r\\\\n\\\\u2605\\\\u5167\\\\u5efa1g\\\\u8a18\\\\u61b6\\\\u9ad4(512mb ddr3l+512mb slc nand flash)\\\\r\\\\n\\\\r\\\\n\\\\u2605\\\\u5c07youtube\\\\u3001spotify\\\\u3001netflix\\\\u3001kkbox \\\\u7b49app\\\\uff0c\\\\u6216chrome\\\\u700f\\\\u89bd\\\\u5668\\\\u5167\\\\u5bb9\\\\u6295\\\\u653e\\\\u81f3\\\\u96fb\\\\u8996\\\\r\\\\n\\\\u2605\\\\u652f\\\\u63f4\\\\u591a\\\\u7a2e\\\\u5e73\\\\u53f0(android\\\\u3001iphone\\\\u00ae\\\\u3001ipad\\\\u00ae\\\\u3001windows\\\\u00ae\\\\u3001  mac\\\\u00ae\\\\u548cchromebook)\\\\r\\\\n\\\\u2605\\\\u53ef\\\\u900f\\\\u904egoogle\\\\u8a9e\\\\u97f3\\\\u52a9\\\\u7406\\\\u64ad\\\\u653e\\\\u97f3\\\\u6a02\\\\u548c\\\\u5f71\\\\u7247\\\\r\\\\n\\\\u2605\\\\u60a8\\\\u7684\\\\u88dd\\\\u7f6e\\\\u5c31\\\\u662f\\\\u60a8\\\\u7684\\\\u5c08\\\\u5c6c\\\\u9059\\\\u63a7\\\\u5668\\\\r\\\\n\\\\u2605\\\\u4e09\\\\u6b65\\\\u9a5f\\\\u8a2d\\\\u5b9a\\\\u8d85\\\\u7c21\\\\u55ae\\\\uff0c\\\\u5373\\\\u63d2\\\\u5373\\\\u7528\\\\r\\\\n\\\\u2605\\\\u539f\\\\u5ee0\\\\u516c\\\\u53f8\\\\u8ca8\\\\uff0c\\\\u7dad\\\\u4fee\\\\u6709\\\\u4fdd\\\\u969c\\\\r\\\\n\\\\r\\\\n \\\\u258c\\\\u63a2\\\\u7d22\\\\u66f4\\\\u591a\\\\u652f\\\\u63f4\\\\u61c9\\\\u7528\\\\u7a0b\\\\u5f0f \\\\u258c \\\\u6b61\\\\u8fce\\\\u524d\\\\u5f80 chromecast.com apps\",\"price\":1445,\"originPrice\":1445,\"author\":\"\",\"brand\":\"\",\"publishDate\":\"\",\"sellerId\":\"\",\"isPChome\":1,\"isNC17\":0,\"couponActid\":[],\"BU\":\"ec\"},{\"Id\":\"DYAJBL-A9009SV1D\",\"cateId\":\"DYAJEW\",\"picS\":\"\\\\/items\\\\/DYAJBLA9009SV1D\\\\/000002_1550133585.jpg\",\"picB\":\"\\\\/items\\\\/DYAJBLA9009SV1D\\\\/000001_1557799537.jpg\",\"name\":\"MacBook Air 13: 1.6GHz dual-core Intel Core i5, 256GB - Silver\",\"describe\":\"MacBook Air 13 \\\\u9280\\\\u8272\\\\u7b2c\\\\u516b\\\\u4ee3 i5 \\\\/ 16GB \\\\/ 256GB \\\\/ 1.6GHz\\\\\\\\r\\\\\\\\n\\\\u2605\\\\u6b64\\\\u5546\\\\u54c1\\\\u70ba\\\\u898f\\\\u683c\\\\u7279\\\\u88fd\\\\u6a5f\\\\r\\\\n\\\\u25cf\\\\u539fram8gb\\\\u2197\\\\u5347\\\\u7d1a16gb \\\\r\\\\n\\\\r\\\\n\\\\u25cf touch id\\\\r\\\\n\\\\u25cf \\\\u96d9\\\\u6838\\\\u5fc3\\\\u7b2c\\\\u516b\\\\u4ee3 intel core i5 \\\\u8655\\\\u7406\\\\u5668\\\\r\\\\n\\\\u25cf intel uhd graphics 617\\\\r\\\\n\\\\u25cf \\\\u5feb\\\\u901f\\\\u7684 ssd \\\\u5132\\\\u5b58\\\\u88dd\\\\u7f6e\\\\r\\\\n\\\\u25cf 16gb \\\\u8a18\\\\u61b6\\\\u9ad4\\\\r\\\\n\\\\u25cf \\\\u7acb\\\\u9ad4\\\\u8072\\\\u63da\\\\u8072\\\\u5668\\\\u5177\\\\u5099\\\\u66f4\\\\u5bec\\\\u5ee3\\\\u7684\\\\u7acb\\\\u9ad4\\\\u8072\\\\r\\\\n\\\\u25cf \\\\u5169\\\\u500b thunderbolt 3 (usb-c) \\\\u57e0\\\\r\\\\n\\\\u25cf \\\\u9577\\\\u9054 12 \\\\u5c0f\\\\u6642\\\\u96fb\\\\u6c60\\\\u7e8c\\\\u822a\\\\u529b\\\\r\\\\n\\\\u25cf 802.11ac wi-fi\\\\r\\\\n\\\\r\\\\n\\\\u6ce8\\\\u610f\\\\u4e8b\\\\u9805\",\"price\":52420,\"originPrice\":52420,\"author\":\"\",\"brand\":\"\",\"publishDate\":\"\",\"sellerId\":\"\",\"isPChome\":1,\"isNC17\":0,\"couponActid\":[],\"BU\":\"ec\"},{\"Id\":\"DYAJBL-19009QDOL\",\"cateId\":\"DYAJBL\",\"picS\":\"\\\\/items\\\\/DYAJBL19009QDOL\\\\/000002_1547445108.jpg\",\"picB\":\"\\\\/items\\\\/DYAJBL19009QDOL\\\\/000001_1554889726.jpg\",\"name\":\"MacBook Air 13: 1.6GHz dual-core Intel Core i5, 128GB - Gold\",\"describe\":\"\\\\u65b0\\\\u6b3e\\\\u2605\\\\u964d3\\\\u5343\\\\u518d\\\\u8d08\\\\u96d9\\\\u91cd\\\\u597d\\\\u79aeMacBook Air 13 \\\\u91d1\\\\u8272\\\\u7b2c\\\\u516b\\\\u4ee3 i5 \\\\/ 8GB \\\\/ 128GB \\\\/ 1.6GHz\\\\\\\\r\\\\\\\\n\\\\u65b0\\\\u6b3e\\\\u2605\\\\u964d3\\\\u5343\\\\u518d\\\\u8d08\\\\u96d9\\\\u91cd\\\\u597d\\\\u79ae \\\\r\\\\n\\\\u7db2\\\\u8def\\\\u50f9$39900\\\\uff0e\\\\r\\\\n\\\\u9650\\\\u6642\\\\u50f9\\\\u2198$\\\\uff13\\\\uff16\\\\uff19\\\\uff10\\\\uff10\\\\r\\\\n\\\\r\\\\n\\\\u25cf touch id\\\\r\\\\n\\\\u25cf \\\\u96d9\\\\u6838\\\\u5fc3\\\\u7b2c\\\\u516b\\\\u4ee3 intel core i5 \\\\u8655\\\\u7406\\\\u5668\\\\r\\\\n\\\\u25cf intel uhd graphics 617\\\\r\\\\n\\\\u25cf \\\\u5feb\\\\u901f\\\\u7684 ssd \\\\u5132\\\\u5b58\\\\u88dd\\\\u7f6e\\\\r\\\\n\\\\u25cf 8gb \\\\u8a18\\\\u61b6\\\\u9ad4\\\\r\\\\n\\\\u25cf \\\\u7acb\\\\u9ad4\\\\u8072\\\\u63da\\\\u8072\\\\u5668\\\\u5177\\\\u5099\\\\u66f4\\\\u5bec\\\\u5ee3\\\\u7684\\\\u7acb\\\\u9ad4\\\\u8072\\\\r\\\\n\\\\u25cf \\\\u5169\\\\u500b thunderbolt 3 (usb-c) \\\\u57e0\\\\r\\\\n\\\\u25cf \\\\u9577\\\\u9054 12 \\\\u5c0f\\\\u6642\\\\u96fb\\\\u6c60\\\\u7e8c\\\\u822a\\\\u529b\\\\r\\\\n\\\\u25cf 802.11ac wi-fi\\\\r\\\\n\\\\r\\\\n\\\\u6ce8\\\\u610f\\\\u4e8b\\\\u9805\",\"price\":36900,\"originPrice\":36900,\"author\":\"\",\"brand\":\"\",\"publishDate\":\"\",\"sellerId\":\"\",\"isPChome\":1,\"isNC17\":0,\"couponActid\":[],\"BU\":\"ec\"},{\"Id\":\"DYAJBL-19009QDOX\",\"cateId\":\"DYAJBL\",\"picS\":\"\\\\/items\\\\/DYAJBL19009QDOX\\\\/000002_1547445006.jpg\",\"picB\":\"\\\\/items\\\\/DYAJBL19009QDOX\\\\/000001_1554889696.jpg\",\"name\":\"MacBook Air 13: 1.6GHz dual-core Intel Core i5, 256GB - Silver\",\"describe\":\"MacBook Air 13 \\\\u9280\\\\u8272\\\\u7b2c\\\\u516b\\\\u4ee3 i5 \\\\/ 8GB \\\\/ 256GB \\\\/ 1.6GHz\\\\\\\\r\\\\\\\\n\\\\u65b0\\\\u6b3e\\\\u2605\\\\u964d3\\\\u5343\\\\u518d\\\\u8d08\\\\u96d9\\\\u91cd\\\\u597d\\\\u79ae\\\\r\\\\n\\\\u7db2\\\\u8def\\\\u50f9$45900\\\\uff0e\\\\r\\\\n\\\\u9650\\\\u6642\\\\u50f9\\\\u2198$\\\\uff14\\\\uff12\\\\uff19\\\\uff10\\\\uff10\\\\r\\\\n\\\\r\\\\n\\\\u25cf touch id\\\\r\\\\n\\\\u25cf \\\\u96d9\\\\u6838\\\\u5fc3\\\\u7b2c\\\\u516b\\\\u4ee3 intel core i5 \\\\u8655\\\\u7406\\\\u5668\\\\r\\\\n\\\\u25cf intel uhd graphics 617\\\\r\\\\n\\\\u25cf \\\\u5feb\\\\u901f\\\\u7684 ssd \\\\u5132\\\\u5b58\\\\u88dd\\\\u7f6e\\\\r\\\\n\\\\u25cf 8gb \\\\u8a18\\\\u61b6\\\\u9ad4\\\\r\\\\n\\\\u25cf \\\\u7acb\\\\u9ad4\\\\u8072\\\\u63da\\\\u8072\\\\u5668\\\\u5177\\\\u5099\\\\u66f4\\\\u5bec\\\\u5ee3\\\\u7684\\\\u7acb\\\\u9ad4\\\\u8072\\\\r\\\\n\\\\u25cf \\\\u5169\\\\u500b thunderbolt 3 (usb-c) \\\\u57e0\\\\r\\\\n\\\\u25cf \\\\u9577\\\\u9054 12 \\\\u5c0f\\\\u6642\\\\u96fb\\\\u6c60\\\\u7e8c\\\\u822a\\\\u529b\\\\r\\\\n\\\\u25cf 802.11ac wi-fi\\\\r\\\\n\\\\r\\\\n\\\\u6ce8\\\\u610f\\\\u4e8b\\\\u9805\",\"price\":42900,\"originPrice\":42900,\"author\":\"\",\"brand\":\"\",\"publishDate\":\"\",\"sellerId\":\"\",\"isPChome\":1,\"isNC17\":0,\"couponActid\":[],\"BU\":\"ec\"},{\"Id\":\"DYAJCW-19009WOYF\",\"cateId\":\"DYAJCW\",\"picS\":\"\\\\/items\\\\/DYAJCW19009WOYF\\\\/000002_1553829768.jpg\",\"picB\":\"\\\\/items\\\\/DYAJCW19009WOYF\\\\/000001_1554886556.jpg\",\"name\":\"MacBook Air 13-inch: 1.8GHz dual-core Intel Core i5, 128GB (MQD32TA\\\\/A)\",\"describe\":\"MacBook Air 13\\\\u7b2c\\\\u4e94\\\\u4ee3 i5 \\\\/ 8GB \\\\/ 128GB \\\\/ 1.8GHz dual\\\\\\\\r\\\\\\\\n\\\\u2605\\\\u8d08\\\\u539f\\\\u5ee0\\\\u6ed1\\\\u9f20+\\\\u81ea\\\\u9078\\\\u597d\\\\u79ae4\\\\u90782\\\\u6d3b\\\\u52d5\\\\u65e5\\\\u671f\\\\uff1a2019 03 31(\\\\u65e5) 00:00 -2019 06 21(\\\\u4e94) 23:59\\\\r\\\\nmagic mouse 2 (\\\\u5e02\\\\u50f92290) & \\\\u81ea\\\\u9078\\\\u597d\\\\u79ae4\\\\u90782(\\\\u5e02\\\\u50f91800)\\\\r\\\\n\\\\u6578\\\\u91cf\\\\u6709\\\\u9650\\\\uff0c\\\\u552e\\\\u5b8c\\\\u70ba\\\\u6b62\\\\r\\\\n\\\\u7db2\\\\u8def\\\\u50f9$35990\\\\uff0e\\\\u9650\\\\u6642\\\\u50f9\\\\u2198$\\\\uff13\\\\uff11\\\\uff19\\\\uff10\\\\uff10\\\\r\\\\n\\\\r\\\\n**\\\\u6ce8\\\\u610f\\\\u4e8b\\\\u9805**\\\\r\\\\n\\\\u672c\\\\u8ce3\\\\u5834\\\\u5c6c\\\\u4fe1\\\\u7528\\\\u5361\\\\u6d3b\\\\u52d5\\\\u2605\\\\u7d50\\\\u5e33\\\\u50c5\\\\u63a5\\\\u53d7\\\\u4fe1\\\\u7528\\\\u5361\\\\u652f\\\\u4ed8\\\\u2605\\\\r\\\\n\\\\r\\\\n\\\\u25cf intel core  i5 \\\\u8655\\\\u7406\\\\u5668\\\\r\\\\n\\\\u25cf intel hd graphics 6000\\\\r\\\\n\\\\u25cf ssd \\\\u5132\\\\u5b58\\\\u88dd\\\\u7f6e\\\\r\\\\n\\\\u25cf \\\\u9577\\\\u9054 12 \\\\u5c0f\\\\u6642\\\\u96fb\\\\u6c60\\\\u7e8c\\\\u822a\\\\u529b\\\\r\\\\n\\\\u25cf 802.11 ac wi-fi\\\\r\\\\n\\\\u25cf multi - touch \\\\u89f8\\\\u63a7\\\\u5f0f\\\\u8ecc\\\\u8de1\\\\u677f\\\\r\\\\n\\\\u25cf \\\\u6700\\\\u9577\\\\u53ef\\\\u9054 30 \\\\u5929\\\\u5f85\\\\u6a5f\\\\u6642\\\\u9593\\\\r\\\\n\\\\u25cf \\\\u7bc0\\\\u80fd\\\\u4f4e\\\\u8017\\\\u53c8\\\\u517c\\\\u5177\\\\u9ad8\\\\u6548\\\\u80fd\\\\u7684\\\\u8a2d\\\\u8a08\\\\r\\\\n\\\\r\\\\n\\\\u6ce8\\\\u610f\\\\u4e8b\\\\u9805\",\"price\":31900,\"originPrice\":31900,\"author\":\"\",\"brand\":\"\",\"publishDate\":\"\",\"sellerId\":\"\",\"isPChome\":1,\"isNC17\":0,\"couponActid\":[],\"BU\":\"ec\"},{\"Id\":\"DYAJBD-A90097XIB\",\"cateId\":\"DYAJCS\",\"picS\":\"\\\\/items\\\\/DYAJBDA90097XIB\\\\/000002_1544086661.jpg\",\"picB\":\"\\\\/items\\\\/DYAJBDA90097XIB\\\\/000001_1554889658.jpg\",\"name\":\"MacBook Pro13 Touch Bar: 2.3GHz quad-core 8th- Intel\\\\u00a0Core\\\\u00a0i5, 256GB - Silve\",\"describe\":\"MacBook Pro13 \\\\u9280\\\\u8272\\\\u7b2c\\\\u516b\\\\u4ee3 i5 \\\\/ 8GB \\\\/ 256GB \\\\/ 2.3GHz\\\\\\\\r\\\\\\\\n\\\\u2605\\\\u9650\\\\u664292\\\\u6298\\\\u512a\\\\u60e005 01(\\\\u4e09) 00:00 \\\\u81f3 05 31(\\\\u4e94)10:00\\\\u6b62\\\\r\\\\n\\\\u6578\\\\u91cf\\\\u6709\\\\u9650\\\\uff0c\\\\u552e\\\\u5b8c\\\\u70ba\\\\u6b62\\\\r\\\\n\\\\u7db2\\\\u8def\\\\u50f9$57900\\\\uff0e\\\\u9650\\\\u6642\\\\u50f9\\\\u2198$\\\\uff15\\\\uff13\\\\uff12\\\\uff16\\\\uff18\\\\r\\\\n\\\\r\\\\n\\\\u26052018\\\\u65b0\\\\u6b3e\\\\u89f8\\\\u63a7\\\\r\\\\n\\\\u5546\\\\u54c1\\\\u7279\\\\u8272\\\\r\\\\n\\\\u2022 4 \\\\u6838\\\\u5fc3 intel core i5 \\\\u8655\\\\u7406\\\\u5668\\\\r\\\\n\\\\u2022 \\\\u5177\\\\u5099\\\\u539f\\\\u5f69\\\\u986f\\\\u793a\\\\u6280\\\\u8853\\\\u7684\\\\u4eae\\\\u9e97 retina \\\\u986f\\\\u793a\\\\u5668\\\\r\\\\n\\\\u2022 \\\\u89f8\\\\u63a7\\\\u5217\\\\u548c touch id\\\\r\\\\n\\\\u2022 intel iris plus graphics 655\\\\r\\\\n\\\\u2022 \\\\u8d85\\\\u5feb\\\\u901f ssd\\\\r\\\\n\\\\u2022 \\\\u56db\\\\u500b thunderbolt 3 (usb-c) \\\\u57e0\\\\r\\\\n\\\\u2022 \\\\u9577\\\\u9054 10 \\\\u5c0f\\\\u6642\\\\u96fb\\\\u6c60\\\\u7e8c\\\\u822a\\\\u529b2\\\\r\\\\n\\\\u2022 802.11ac wi-fi\\\\r\\\\n\\\\u2022 \\\\u529b\\\\u5ea6\\\\u89f8\\\\u63a7\\\\u677f\\\\r\\\\n\\\\r\\\\n\\\\u6ce8\\\\u610f\\\\u4e8b\\\\u9805\",\"price\":53268,\"originPrice\":53268,\"author\":\"\",\"brand\":\"\",\"publishDate\":\"\",\"sellerId\":\"\",\"isPChome\":1,\"isNC17\":0,\"couponActid\":[],\"BU\":\"ec\"},{\"Id\":\"DCADLA-A9009LMQZ\",\"cateId\":\"DCADLA\",\"picS\":\"\\\\/items\\\\/DCADLAA9009LMQZ\\\\/000002_1542967034.jpg\",\"picB\":\"\\\\/items\\\\/DCADLAA9009LMQZ\\\\/000001_1542967034.jpg\",\"name\":\"innowatt DOCK NET RJ45 & HDMI Type-C Hub for Macbook Pro \\\\u591a\\\\u529f\\\\u80fd\\\\u5145\\\\u96fb\\\\u50b3\\\\u8f38\\\\u96c6\\\\u7dda\\\\u5668 iW71N\",\"describe\":\"innowatt DOCK NET Thunderbolt 3 & RJ45 & HDMI Type-C Hub for Macbook Pro \\\\u591a\\\\u529f\\\\u80fd\\\\u5145\\\\u96fb\\\\u50b3\\\\u8f38\\\\u96c6\\\\u7dda\\\\u5668 iW71N\\\\\\\\r\\\\\\\\n1.\\\\u9069\\\\u7528macbook pro 2016~2019\\\\u5168\\\\u7cfb\\\\u5217 \\\\r\\\\n2.\\\\u591a\\\\u529f\\\\u80fd\\\\u96c6\\\\u7dda\\\\u5668\\\\u9ad8\\\\u968ethunderbolt 3\\\\u7248\\\\u672c (iw71n) \\\\r\\\\n3.usb-c\\\\u5177thunderbolt 3 (40gb\\\\uff09\\\\u50b3\\\\u8f38\\\\u898f\\\\u683c \\\\r\\\\n4.\\\\u652f\\\\u63f4pd\\\\u5145\\\\u96fb 5k video\\\\u8f38\\\\u51fa \\\\u96d9\\\\u5c4f4k\\\\u8f38\\\\u51fa \\\\r\\\\n5.\\\\u5177\\\\u5099hdmi 1080p@60hz & 4k@30hz \\\\r\\\\n6.\\\\u5177\\\\u5099rj45\\\\u7db2\\\\u8def\\\\u5b54\\\\u8a2d\\\\u8a08 \\\\u96a8\\\\u63d2\\\\u5373\\\\u7528\\\\u4e0d\\\\u9700\\\\u8a2d\\\\u5b9a \\\\u53ef\\\\u90541 gb s \\\\r\\\\n7.\\\\u7121\\\\u7dda\\\\u6536\\\\u7d0d\\\\u8d85easy\\\\uff0c\\\\u8f15\\\\u8584\\\\u77ed\\\\u5c0f\\\\u653epocket\\\\r\\\\n\\\\r\\\\n\\\\u2605\\\\u82e5\\\\u672c\\\\u5340\\\\u5eab\\\\u5b58\\\\u92b7\\\\u552e\\\\u4e00\\\\u7a7a\\\\uff0c\\\\u8acb\\\\u81f3\\\\u4e0b\\\\u5217\\\\u539f\\\\u5ee0\\\\u8207pchome\\\\u5408\\\\u4f5c\\\\u7684\\\\u53e6\\\\u4e00\\\\u9023\\\\u7d50\\\\u63a1\\\\u8cfc\\\\uff0c\\\\u53ef\\\\u7372\\\\u8d08\\\\u5c08\\\\u5c6cmacbook pro\\\\u4fdd\\\\u8b77\\\\u6bbc\\\\r\\\\n\\\\u2192\\\\u300adock net \\\\u8d08\\\\u5c08\\\\u5c6c\\\\u5ba2\\\\u88fdmacbook pro\\\\u4fdd\\\\u8b77\\\\u6bbc\\\\u300b\\\\r\\\\n\\\\r\\\\n\\\\u2605\\\\u672c\\\\u5c08\\\\u5340\\\\u8d08\\\\u9001\\\\u591a\\\\u91cd\\\\u597d\\\\u79ae \\\\u542b\\\\u76ae\\\\u5957 iphone\\\\u50b3\\\\u8f38\\\\u7dda\\\\u7b49\\\\r\\\\n\\\\r\\\\n\\\\u25bcinnowatt\\\\u71b1\\\\u92b7\\\\u63a8\\\\u85a6 \\\\r\\\\n\\\\u300athe dock s type-c hdmi usb \\\\u591a\\\\u529f\\\\u80fd\\\\u5145\\\\u96fb\\\\u50b3\\\\u8f38\\\\u96c6\\\\u7dda\\\\u5668\\\\u300b\\\\r\\\\n\\\\u300adock pro+ thunderbolt  usb 3.1\\\\u591a\\\\u529f\\\\u80fd\\\\u5145\\\\u96fb\\\\u50b3\\\\u8f38\\\\u96c6\\\\u7dda\\\\u5668\\\\u300b\\\\r\\\\n\\\\u300adock pro thunderbolt  usb 3.1\\\\u591a\\\\u529f\\\\u80fd\\\\u5145\\\\u96fb\\\\u50b3\\\\u8f38\\\\u96c6\\\\u7dda\\\\u5668\\\\u300b\\\\r\\\\n\\\\u300adock dock mini  usb 3.1\\\\u591a\\\\u529f\\\\u80fd\\\\u5145\\\\u96fb\\\\u50b3\\\\u8f38\\\\u96c6\\\\u7dda\\\\u5668\\\\u7070\\\\u8272\\\\u300b\\\\r\\\\n\\\\u300adock dock mini  usb 3.1\\\\u591a\\\\u529f\\\\u80fd\\\\u5145\\\\u96fb\\\\u50b3\\\\u8f38\\\\u96c6\\\\u7dda\\\\u5668\\\\u9280\\\\u8272\\\\u300b\\\\r\\\\n\\\\u300aapple macbook pro\\\\u5c08\\\\u7528\\\\u8d85\\\\u8584\\\\u9ad8\\\\u900f\\\\u9375\\\\u76e4\\\\u4fdd\\\\u8b77\\\\u819c\\\\u300b\\\\r\\\\n\\\\u300a\\\\u87a2\\\\u5e55\\\\u9632\\\\u7aba\\\\u7247macbook retina12\\\\u540b\\\\u300b\\\\r\\\\n\\\\u300a\\\\u87a2\\\\u5e55\\\\u9632\\\\u7aba\\\\u7247macbook retina13\\\\u540b\\\\u300b\\\\r\\\\n\\\\u300amfi\\\\u860b\\\\u679c\\\\u8a8d\\\\u8b49 270cm\\\\u5145\\\\u96fb\\\\u50b3\\\\u8f38\\\\u7dda\\\\u300b\\\\r\\\\n\\\\u300atough\\\\u7dda (1\\\\u7c73 \\\\u73ab\\\\u7470\\\\u91d1\\\\uff09\\\\u300b\\\\r\\\\n\\\\u300atough\\\\u7dda (1\\\\u7c73 \\\\u91d1\\\\uff09\\\\u300b\\\\r\\\\n\\\\u300ainnowatt the yoga \\\\u512a\\\\u67b6(l) \\\\u7b46\\\\u96fb\\\\u652f\\\\u67b6\\\\u300b\",\"price\":2490,\"originPrice\":2490,\"author\":\"\",\"brand\":\"\",\"publishDate\":\"\",\"sellerId\":\"\",\"isPChome\":1,\"isNC17\":0,\"couponActid\":[],\"BU\":\"ec\"},{\"Id\":\"DICM5Z-A90096BOR\",\"cateId\":\"DICM5Z\",\"picS\":\"\\\\/items\\\\/DICM5ZA90096BOR\\\\/000002_1530496855.jpg\",\"picB\":\"\\\\/items\\\\/DICM5ZA90096BOR\\\\/000001_1530496855.jpg\",\"name\":\"\\\\u9ad8\\\\u7d1a\\\\u9632\\\\u9707\\\\u7b46\\\\u96fb\\\\u4fdd\\\\u8b77\\\\u5305_MacBook Air \\\\/\\\\u4e00\\\\u822c\\\\u7b46\\\\u96fb\\\\u9069\\\\u7528 13\\\\u540b 15\\\\u540b\",\"describe\":\"\\\\u860b\\\\u679c\\\\u7b46\\\\u8a18\\\\u672c\\\\u96fb\\\\u8166\\\\u5305 \\\\u860b\\\\u679c\\\\u7b46\\\\u8a18\\\\u672c\\\\u96fb\\\\u8166\\\\u5167\\\\u81bd\\\\u5305 MacBook Air 13\\\\u540b 15\\\\u540b\\\\u96fb\\\\u8166\\\\u5305 \\\\u9ad8\\\\u7d1a\\\\u7b46\\\\u96fb\\\\u4fdd\\\\u8b77\\\\u5167\\\\u888b \\\\/ \\\\u9632\\\\u9707\\\\u5305 \\\\/\\\\u4e00\\\\u822c\\\\u7b46\\\\u96fb 13\\\\u540b 15\\\\u540b15.6\\\\u540b\\\\u7b46\\\\u96fb\\\\u9069\\\\u7528\\\\\\\\r\\\\\\\\n\\\\u9ad8\\\\u7d1a\\\\u9632\\\\u9707\\\\u7b46\\\\u96fb\\\\u4fdd\\\\u8b77\\\\u5305_macbook air 13\\\\u540b 15\\\\u540b \\\\r\\\\n\\\\u4e00\\\\u822c\\\\u7b46\\\\u96fb\\\\u9069\\\\u7528 13\\\\u540b 15\\\\u540b 15.6\\\\u540b \\\\r\\\\n13\\\\u540b\\\\u7b46\\\\u96fb\\\\u5305\\\\u672c\\\\u8eab\\\\u5c3a\\\\u5bf8:36cm x 26cm x 2cm \\\\r\\\\n15\\\\u540b\\\\u7b46\\\\u96fb\\\\u5305\\\\u672c\\\\u8eab\\\\u5c3a\\\\u5bf8:38cm x 28cm x 2cm\\\\r\\\\n15.6\\\\u7b46\\\\u96fb\\\\u5305\\\\u672c\\\\u8eab\\\\u5c3a\\\\u5bf8:42cm x 28cm x 2cm\\\\r\\\\n(\\\\u624b\\\\u5de5\\\\u91cf\\\\u6e2c \\\\u8aa4\\\\u5dee\\\\u503c\\\\u6b63\\\\u8ca0+-1cm)\\\\r\\\\n\\\\u6750\\\\u8cea:\\\\u8868\\\\u5c64\\\\u6f5b\\\\u6c34\\\\u5e03\\\\u6599 \\\\u9632\\\\u6f51\\\\u6c34\\\\u8868\\\\u5c64 \\\\r\\\\n\\\\u5167\\\\u5c64\\\\u5c3c\\\\u9f8d\\\\u9762\\\\u6599 \\\\u8f15\\\\u67d4\\\\u9806\\\\u6ed1\\\\u89f8\\\\u611f \\\\r\\\\n\\\\u4e2d\\\\u9593\\\\u5c64\\\\u653e\\\\u7b46\\\\u96fb \\\\u5916\\\\u5c64\\\\u53e3\\\\u888b\\\\u653e\\\\u5e73\\\\u677f\\\\u6216\\\\u624b\\\\u6a5f \\\\r\\\\n\\\\u6642\\\\u5c1a\\\\u7d93\\\\u5178\\\\u7070\\\\u8272\",\"price\":699,\"originPrice\":699,\"author\":\"\",\"brand\":\"\",\"publishDate\":\"\",\"sellerId\":\"\",\"isPChome\":1,\"isNC17\":0,\"couponActid\":[],\"BU\":\"ec\"},{\"Id\":\"DCACPL-A9009SA27\",\"cateId\":\"DCACYK\",\"picS\":\"\\\\/items\\\\/DCACPLA9009SA27\\\\/000002_1549003288.jpg\",\"picB\":\"\\\\/items\\\\/DCACPLA9009SA27\\\\/000001_1551664586.jpg\",\"name\":\"\\\\u7da0\\\\u806f MacBook\\\\u96c6\\\\u7dda\\\\u5668 USB3.0*3+USB-C*2+PD+4K HDMI+ 8K Thunderbolt3\",\"describe\":\"\\\\u7da0\\\\u806f MacBook\\\\u96c6\\\\u7dda\\\\u5668 USB3.0*3+USB-C*2+PD+4K HDMI+ 8K Thunderbolt3\\\\\\\\r\\\\\\\\n\\\\u25c6\\\\u539f\\\\u5ee0\\\\u7de8\\\\u865f\\\\uff1a50963\\\\r\\\\n\\\\u25c6\\\\u5145\\\\u96fb \\\\u5920\\\\u5feb\\\\u624d\\\\u66a2\\\\u5feb\\\\r\\\\n\\\\u25c68k\\\\u8996\\\\u983b\\\\u8f38\\\\u51fa \\\\u4e00\\\\u7d72\\\\u4e00\\\\u6beb\\\\u76e1\\\\u6536\\\\u773c\\\\u5e95\\\\r\\\\n\\\\u25c6\\\\u96a8\\\\u8eab\\\\u789f \\\\u9375\\\\u9f20\\\\u8f15\\\\u9b06\\\\u9023\\\\u63a5\\\\r\\\\n\\\\u25c6\\\\u5347\\\\u7d1a\\\\u6b3e\\\\u7368\\\\u7acb\\\\u82af\\\\u7247\\\\u7a69\\\\u5b9a\\\\u6d41\\\\u66a2\\\\r\\\\n\\\\u25c6\\\\u91cf\\\\u8eab\\\\u6253\\\\u9020\\\\u63a5\\\\u53e3\\\\u7262\\\\u56fa\\\\u4e0d\\\\u6613\\\\u9b06\\\\u52d5\",\"price\":1499,\"originPrice\":1499,\"author\":\"\",\"brand\":\"\",\"publishDate\":\"\",\"sellerId\":\"\",\"isPChome\":1,\"isNC17\":0,\"couponActid\":[],\"BU\":\"ec\"},{\"Id\":\"DYAJCS-19009FXWV\",\"cateId\":\"DYAJCS\",\"picS\":\"\\\\/items\\\\/DYAJCS19009FXWV\\\\/000002_1548036804.jpg\",\"picB\":\"\\\\/items\\\\/DYAJCS19009FXWV\\\\/000001_1554889659.jpg\",\"name\":\"MacBook Pro13 Touch Bar: 2.3GHz quad-core 8th- Intel Core i5, 256GB - Silve\",\"describe\":\"MacBook Pro13 \\\\u9280\\\\u8272\\\\u7b2c\\\\u516b\\\\u4ee3 i5 \\\\/ 8GB \\\\/ 256GB \\\\/ 2.3GHz\\\\\\\\r\\\\\\\\n\\\\u964d3\\\\u5343\\\\u8d08\\\\u50b3\\\\u8f38\\\\u7dda\\\\u7b46\\\\u96fb\\\\u5305 \\\\r\\\\n\\\\u7db2\\\\u8def\\\\u50f9$57900\\\\uff0e\\\\u9650\\\\u6642\\\\u50f9\\\\u2198$\\\\uff15\\\\uff14\\\\uff19\\\\uff10\\\\uff10\\\\r\\\\n\\\\r\\\\n\\\\u5546\\\\u54c1\\\\u7279\\\\u8272\\\\r\\\\n\\\\u2022 4 \\\\u6838\\\\u5fc3 intel core i5 \\\\u8655\\\\u7406\\\\u5668\\\\r\\\\n\\\\u2022 \\\\u5177\\\\u5099\\\\u539f\\\\u5f69\\\\u986f\\\\u793a\\\\u6280\\\\u8853\\\\u7684\\\\u4eae\\\\u9e97 retina \\\\u986f\\\\u793a\\\\u5668\\\\r\\\\n\\\\u2022 \\\\u89f8\\\\u63a7\\\\u5217\\\\u548c touch id\\\\r\\\\n\\\\u2022 intel iris plus graphics 655\\\\r\\\\n\\\\u2022 \\\\u8d85\\\\u5feb\\\\u901f ssd\\\\r\\\\n\\\\u2022 \\\\u56db\\\\u500b thunderbolt 3 (usb-c) \\\\u57e0\\\\r\\\\n\\\\u2022 \\\\u9577\\\\u9054 10 \\\\u5c0f\\\\u6642\\\\u96fb\\\\u6c60\\\\u7e8c\\\\u822a\\\\u529b2\\\\r\\\\n\\\\u2022 802.11ac wi-fi\\\\r\\\\n\\\\u2022 \\\\u529b\\\\u5ea6\\\\u89f8\\\\u63a7\\\\u677f\\\\r\\\\n\\\\r\\\\n\\\\u6ce8\\\\u610f\\\\u4e8b\\\\u9805\",\"price\":54900,\"originPrice\":54900,\"author\":\"\",\"brand\":\"\",\"publishDate\":\"\",\"sellerId\":\"\",\"isPChome\":1,\"isNC17\":0,\"couponActid\":[],\"BU\":\"ec\"},{\"Id\":\"DYAJBL-A9009SV0T\",\"cateId\":\"DYAJEW\",\"picS\":\"\\\\/items\\\\/DYAJBLA9009SV0T\\\\/000002_1550133536.jpg\",\"picB\":\"\\\\/items\\\\/DYAJBLA9009SV0T\\\\/000001_1557367873.jpg\",\"name\":\"MacBook Air 13: 1.6GHz dual-core Intel Core i5, 256GB - Gold\",\"describe\":\"MacBook Air 13 \\\\u91d1\\\\u8272\\\\u7b2c\\\\u516b\\\\u4ee3 i5 \\\\/ 16GB \\\\/ 256GB \\\\/ 1.6GHz\\\\\\\\r\\\\\\\\n\\\\u2605\\\\u6b64\\\\u5546\\\\u54c1\\\\u70ba\\\\u898f\\\\u683c\\\\u7279\\\\u88fd\\\\u6a5f\\\\r\\\\n\\\\u25cf\\\\u539fram8gb\\\\u2197\\\\u5347\\\\u7d1a16gb \\\\r\\\\n\\\\r\\\\n\\\\u25cf touch id\\\\r\\\\n\\\\u25cf \\\\u96d9\\\\u6838\\\\u5fc3\\\\u7b2c\\\\u516b\\\\u4ee3 intel core i5 \\\\u8655\\\\u7406\\\\u5668\\\\r\\\\n\\\\u25cf intel uhd graphics 617\\\\r\\\\n\\\\u25cf \\\\u5feb\\\\u901f\\\\u7684 ssd \\\\u5132\\\\u5b58\\\\u88dd\\\\u7f6e\\\\r\\\\n\\\\u25cf 16gb \\\\u8a18\\\\u61b6\\\\u9ad4\\\\r\\\\n\\\\u25cf \\\\u7acb\\\\u9ad4\\\\u8072\\\\u63da\\\\u8072\\\\u5668\\\\u5177\\\\u5099\\\\u66f4\\\\u5bec\\\\u5ee3\\\\u7684\\\\u7acb\\\\u9ad4\\\\u8072\\\\r\\\\n\\\\u25cf \\\\u5169\\\\u500b thunderbolt 3 (usb-c) \\\\u57e0\\\\r\\\\n\\\\u25cf \\\\u9577\\\\u9054 12 \\\\u5c0f\\\\u6642\\\\u96fb\\\\u6c60\\\\u7e8c\\\\u822a\\\\u529b\\\\r\\\\n\\\\u25cf 802.11ac wi-fi\\\\r\\\\n\\\\r\\\\n\\\\u6ce8\\\\u610f\\\\u4e8b\\\\u9805\",\"price\":52420,\"originPrice\":52420,\"author\":\"\",\"brand\":\"\",\"publishDate\":\"\",\"sellerId\":\"\",\"isPChome\":1,\"isNC17\":0,\"couponActid\":[],\"BU\":\"ec\"},{\"Id\":\"DYAJBD-19009C3MU\",\"cateId\":\"DYAJBD\",\"picS\":\"\\\\/items\\\\/DYAJBD19009C3MU\\\\/000002_1544580264.jpg\",\"picB\":\"\\\\/items\\\\/DYAJBD19009C3MU\\\\/000001_1545188587.jpg\",\"name\":\"MacBook Pro 13-inch : 2.3GHz dual-core i5, 256GB - Space Grey (MPXT2TA\\\\/A)\",\"describe\":\"MacBook Pro 13 \\\\u7070\\\\u8272\\\\u7b2c\\\\u4e03\\\\u4ee3 i5 \\\\/ 8GB \\\\/ 256GB \\\\/ 2.3GHz\\\\\\\\r\\\\\\\\n\\\\u964d3\\\\u5343\\\\u2605\\\\u518d\\\\u8d08\\\\u96d9\\\\u91cd\\\\u597d\\\\u79ae\\\\r\\\\n\\\\u7db2\\\\u8def\\\\u50f9$47900\\\\uff0e\\\\u9650\\\\u6642\\\\u50f9\\\\u2198$\\\\uff14\\\\uff14\\\\uff19\\\\uff10\\\\uff10\\\\r\\\\n\\\\r\\\\n\\\\u2605\\\\u6b64\\\\u6a5f\\\\u578b\\\\u7121\\\\u89f8\\\\u63a7\\\\u5217\\\\u548ctouch id \\\\r\\\\n\\\\r\\\\n\\\\u5546\\\\u54c1\\\\u7279\\\\u8272\\\\r\\\\n\\\\u25cf 2.3 ghz \\\\u8655\\\\u7406\\\\u5668 \\\\r\\\\n\\\\u25cf 256 gb \\\\u5132\\\\u5b58\\\\u7a7a\\\\u9593\\\\r\\\\n\\\\u25cf 2.3 ghz \\\\u96d9\\\\u6838\\\\u5fc3\\\\u7b2c\\\\u4e03\\\\u4ee3 intel core i5 \\\\u8655\\\\u7406\\\\u5668\\\\r\\\\n\\\\u25cf turbo boost \\\\u53ef\\\\u9054 3.6 ghz\\\\r\\\\n\\\\u25cf 8 gb 2133 mhz lpddr 3 \\\\u8a18\\\\u61b6\\\\u9ad4\\\\r\\\\n\\\\u25cf 256 gb ssd \\\\u5132\\\\u5b58\\\\u88dd\\\\u7f6e\\\\r\\\\n\\\\u25cf intel iris plus graphics 640\\\\r\\\\n\\\\u25cf \\\\u5169\\\\u500b thunderbolt 3 \\\\u57e0\\\\r\\\\n\\\\r\\\\n\\\\u6ce8\\\\u610f\\\\u4e8b\\\\u9805\",\"price\":44900,\"originPrice\":44900,\"author\":\"\",\"brand\":\"\",\"publishDate\":\"\",\"sellerId\":\"\",\"isPChome\":1,\"isNC17\":0,\"couponActid\":[],\"BU\":\"ec\"},{\"Id\":\"DYAJCS-19009PR5Z\",\"cateId\":\"DYAJCR\",\"picS\":\"\\\\/items\\\\/DYAJCS19009PR5Z\\\\/000002_1547604365.jpg\",\"picB\":\"\\\\/items\\\\/DYAJCS19009PR5Z\\\\/000001_1554889265.jpg\",\"name\":\"MacBook Pro15 Touch Bar: 2.6GHz 6-core 8th- Intel Core i7, 512GB - Space Grey\",\"describe\":\"MacBook Pro15 \\\\u7070\\\\u8272\\\\u7b2c\\\\u516b\\\\u4ee3 i7 \\\\/ 16GB \\\\/ 512GB \\\\/ 2.6GHz\\\\\\\\r\\\\\\\\n\\\\u964d3\\\\u5343\\\\u8d08\\\\u9632\\\\u76dc\\\\u5305+\\\\u4fdd\\\\u8cbc\\\\r\\\\n\\\\u7db2\\\\u8def\\\\u50f9$89900\\\\uff0e\\\\u9650\\\\u6642\\\\u50f9\\\\u2198$\\\\uff18\\\\uff16\\\\uff19\\\\uff10\\\\uff10\\\\r\\\\n\\\\r\\\\n\\\\u26052018\\\\u65b0\\\\u6b3e\\\\u89f8\\\\u63a7\\\\r\\\\n\\\\r\\\\n\\\\u5546\\\\u54c1\\\\u7279\\\\u8272\\\\r\\\\n\\\\u2022 6 \\\\u6838\\\\u5fc3 intel core i7 \\\\u8655\\\\u7406\\\\u5668\\\\r\\\\n\\\\u2022 \\\\u5177\\\\u5099\\\\u539f\\\\u5f69\\\\u986f\\\\u793a\\\\u6280\\\\u8853\\\\u7684\\\\u4eae\\\\u9e97 retina \\\\u986f\\\\u793a\\\\u5668\\\\r\\\\n\\\\u2022 \\\\u89f8\\\\u63a7\\\\u5217\\\\u548c touch id\\\\r\\\\n\\\\u2022 radeon pro 560x \\\\u7e6a\\\\u5716\\\\u8655\\\\u7406\\\\u5668\\\\u914d\\\\u5099 4gb \\\\u8996\\\\u8a0a\\\\u8a18\\\\u61b6\\\\u9ad4\\\\r\\\\n\\\\u2022 intel uhd graphics 630\\\\r\\\\n\\\\u2022 \\\\u8d85\\\\u5feb\\\\u901f ssd\\\\r\\\\n\\\\u2022 \\\\u56db\\\\u500b thunderbolt 3 (usb-c) \\\\u57e0\\\\r\\\\n\\\\u2022 \\\\u9577\\\\u9054 10 \\\\u5c0f\\\\u6642\\\\u96fb\\\\u6c60\\\\u7e8c\\\\u822a\\\\u529b\\\\r\\\\n\\\\u2022 802.11ac wi-fi\\\\r\\\\n\\\\u2022 \\\\u529b\\\\u5ea6\\\\u89f8\\\\u63a7\\\\u677f\\\\r\\\\n\\\\r\\\\n\\\\u6ce8\\\\u610f\\\\u4e8b\\\\u9805\",\"price\":86900,\"originPrice\":86900,\"author\":\"\",\"brand\":\"\",\"publishDate\":\"\",\"sellerId\":\"\",\"isPChome\":1,\"isNC17\":0,\"couponActid\":[],\"BU\":\"ec\"}]}'\n"
     ]
    }
   ],
   "source": [
    "print(r.content)"
   ]
  },
  {
   "cell_type": "code",
   "execution_count": 30,
   "metadata": {},
   "outputs": [
    {
     "name": "stdout",
     "output_type": "stream",
     "text": [
      "200\n",
      "<class 'requests.models.Response'>\n",
      "[{\"Id\":\"Q\",\"name\":\"\\u8cfc\\u7269\\u4e2d\\u5fc3\",\"qty\":3090,\"nodes\":[{\"Id\":\"QAAO\",\"name\":\"Apple\\/\\u914d\\u4ef6\",\"qty\":941,\"nodes\":[{\"Id\":\"QAAO0E\",\"qty\":337},{\"Id\":\"QAAO0D\",\"qty\":106},{\"Id\":\"QAAO6E\",\"qty\":71},{\"Id\":\"QAAO6C\",\"qty\":64},{\"Id\":\"QAAO6D\",\"qty\":62},{\"Id\":\"QAAO6B\",\"qty\":38},{\"Id\":\"QAAO0Y\",\"qty\":33},{\"Id\":\"QAAO5I\",\"qty\":24},{\"Id\":\"QAAO6A\",\"qty\":24},{\"Id\":\"QAAOAP\",\"qty\":19},{\"Id\":\"QAAO5F\",\"qty\":15},{\"Id\":\"QAAO2F\",\"qty\":13},{\"Id\":\"QAAO1K\",\"qty\":11},{\"Id\":\"QAAO1B\",\"qty\":6},{\"Id\":\"QAAO32\",\"qty\":6},{\"Id\":\"QAAOBT\",\"qty\":6},{\"Id\":\"QAAO1E\",\"qty\":5},{\"Id\":\"QAAO5H\",\"qty\":5},{\"Id\":\"QAAO0U\",\"qty\":4},{\"Id\":\"QAAO21\",\"qty\":4},{\"Id\":\"QAAO40\",\"qty\":4},{\"Id\":\"QAAO5D\",\"qty\":4},{\"Id\":\"QAAO5G\",\"qty\":4},{\"Id\":\"QAAO71\",\"qty\":4},{\"Id\":\"QAAO78\",\"qty\":4},{\"Id\":\"QAAO9O\",\"qty\":4},{\"Id\":\"QAAOBR\",\"qty\":4},{\"Id\":\"QAAO2T\",\"qty\":3},{\"Id\":\"QAAO37\",\"qty\":3},{\"Id\":\"QAAO3B\",\"qty\":3},{\"Id\":\"QAAO59\",\"qty\":3},{\"Id\":\"QAAO5K\",\"qty\":3},{\"Id\":\"QAAO72\",\"qty\":3},{\"Id\":\"QAAO76\",\"qty\":3},{\"Id\":\"QAAOBA\",\"qty\":3},{\"Id\":\"QAAO0T\",\"qty\":2},{\"Id\":\"QAAO0X\",\"qty\":2},{\"Id\":\"QAAO36\",\"qty\":2},{\"Id\":\"QAAO4B\",\"qty\":2},{\"Id\":\"QAAO4U\",\"qty\":2},{\"Id\":\"QAAO7F\",\"qty\":2},{\"Id\":\"QAAOA9\",\"qty\":2},{\"Id\":\"QAAOAC\",\"qty\":2},{\"Id\":\"QAAOB9\",\"qty\":2},{\"Id\":\"QAAO0B\",\"qty\":1},{\"Id\":\"QAAO0F\",\"qty\":1},{\"Id\":\"QAAO0S\",\"qty\":1},{\"Id\":\"QAAO16\",\"qty\":1},{\"Id\":\"QAAO18\",\"qty\":1},{\"Id\":\"QAAO1J\",\"qty\":1},{\"Id\":\"QAAO2H\",\"qty\":1},{\"Id\":\"QAAO34\",\"qty\":1},{\"Id\":\"QAAO43\",\"qty\":1},{\"Id\":\"QAAO45\",\"qty\":1},{\"Id\":\"QAAO4E\",\"qty\":1},{\"Id\":\"QAAO75\",\"qty\":1},{\"Id\":\"QAAO7E\",\"qty\":1},{\"Id\":\"QAAO89\",\"qty\":1},{\"Id\":\"QAAOAB\",\"qty\":1},{\"Id\":\"QAAOAD\",\"qty\":1},{\"Id\":\"QAAOAE\",\"qty\":1},{\"Id\":\"QAAOBW\",\"qty\":1}]},{\"Id\":\"QAAJ\",\"name\":\"\\u5468\\u908a\",\"qty\":662,\"nodes\":[{\"Id\":\"QAAJJ9\",\"qty\":66},{\"Id\":\"QAAJ6K\",\"qty\":62},{\"Id\":\"QAAJG7\",\"qty\":39},{\"Id\":\"QAAJ9X\",\"qty\":32},{\"Id\":\"QAAJ9L\",\"qty\":23},{\"Id\":\"QAAJH0\",\"qty\":23},{\"Id\":\"QAAJL9\",\"qty\":23},{\"Id\":\"QAAJFS\",\"qty\":22},{\"Id\":\"QAAJ60\",\"qty\":21},{\"Id\":\"QAAJ6L\",\"qty\":17},{\"Id\":\"QAAJ11\",\"qty\":16},{\"Id\":\"QAAJGW\",\"qty\":14},{\"Id\":\"QAAJ2N\",\"qty\":13},{\"Id\":\"QAAJ03\",\"qty\":12},{\"Id\":\"QAAJ6S\",\"qty\":12},{\"Id\":\"QAAJFJ\",\"qty\":12},{\"Id\":\"QAAJ3D\",\"qty\":11},{\"Id\":\"QAAJ5P\",\"qty\":11},{\"Id\":\"QAAJFZ\",\"qty\":11},{\"Id\":\"QAAJG8\",\"qty\":11},{\"Id\":\"QAAJJY\",\"qty\":10},{\"Id\":\"QAAJLE\",\"qty\":10},{\"Id\":\"QAAJ4F\",\"qty\":8},{\"Id\":\"QAAJFM\",\"qty\":8},{\"Id\":\"QAAJFK\",\"qty\":7},{\"Id\":\"QAAJGB\",\"qty\":7},{\"Id\":\"QAAJGZ\",\"qty\":7},{\"Id\":\"QAAJFO\",\"qty\":6},{\"Id\":\"QAAJG9\",\"qty\":6},{\"Id\":\"QAAJH3\",\"qty\":6},{\"Id\":\"QAAJJU\",\"qty\":6},{\"Id\":\"QAAJ1Z\",\"qty\":5},{\"Id\":\"QAAJFW\",\"qty\":5},{\"Id\":\"QAAJJN\",\"qty\":5},{\"Id\":\"QAAJLS\",\"qty\":5},{\"Id\":\"QAAJ1L\",\"qty\":4},{\"Id\":\"QAAJ4E\",\"qty\":4},{\"Id\":\"QAAJ5Q\",\"qty\":4},{\"Id\":\"QAAJ69\",\"qty\":4},{\"Id\":\"QAAJ9P\",\"qty\":4},{\"Id\":\"QAAJG0\",\"qty\":4},{\"Id\":\"QAAJJS\",\"qty\":4},{\"Id\":\"QAAJKD\",\"qty\":4},{\"Id\":\"QAAJL6\",\"qty\":4},{\"Id\":\"QAAJL7\",\"qty\":4},{\"Id\":\"QAAJL8\",\"qty\":4},{\"Id\":\"QAAJLA\",\"qty\":4},{\"Id\":\"QAAJ29\",\"qty\":3},{\"Id\":\"QAAJ6T\",\"qty\":3},{\"Id\":\"QAAJ9Q\",\"qty\":3},{\"Id\":\"QAAJFI\",\"qty\":3},{\"Id\":\"QAAJFL\",\"qty\":3},{\"Id\":\"QAAJFN\",\"qty\":3},{\"Id\":\"QAAJK0\",\"qty\":3},{\"Id\":\"QAAJKB\",\"qty\":3},{\"Id\":\"QAAJKJ\",\"qty\":3},{\"Id\":\"QAAJL5\",\"qty\":3},{\"Id\":\"QAAJ1Q\",\"qty\":2},{\"Id\":\"QAAJ3E\",\"qty\":2},{\"Id\":\"QAAJGC\",\"qty\":2},{\"Id\":\"QAAJH4\",\"qty\":2},{\"Id\":\"QAAJHB\",\"qty\":2},{\"Id\":\"QAAJIW\",\"qty\":2},{\"Id\":\"QAAJJT\",\"qty\":2},{\"Id\":\"QAAJJX\",\"qty\":2},{\"Id\":\"QAAJ0W\",\"qty\":1},{\"Id\":\"QAAJ3H\",\"qty\":1},{\"Id\":\"QAAJ3Q\",\"qty\":1},{\"Id\":\"QAAJ3S\",\"qty\":1},{\"Id\":\"QAAJ40\",\"qty\":1},{\"Id\":\"QAAJ5M\",\"qty\":1},{\"Id\":\"QAAJ7P\",\"qty\":1},{\"Id\":\"QAAJ7W\",\"qty\":1},{\"Id\":\"QAAJ9E\",\"qty\":1},{\"Id\":\"QAAJDN\",\"qty\":1},{\"Id\":\"QAAJFR\",\"qty\":1},{\"Id\":\"QAAJFY\",\"qty\":1},{\"Id\":\"QAAJJ1\",\"qty\":1},{\"Id\":\"QAAJJ5\",\"qty\":1},{\"Id\":\"QAAJJW\",\"qty\":1},{\"Id\":\"QAAJK7\",\"qty\":1}]},{\"Id\":\"QAAL\",\"name\":\"\\u624b\\u6a5f\\u5468\\u908a\",\"qty\":199,\"nodes\":[{\"Id\":\"QAAL6I\",\"qty\":60},{\"Id\":\"QAAL6N\",\"qty\":41},{\"Id\":\"QAALAU\",\"qty\":38},{\"Id\":\"QAAL73\",\"qty\":32},{\"Id\":\"QAAL9E\",\"qty\":5},{\"Id\":\"QAAL6C\",\"qty\":2},{\"Id\":\"QAAL6D\",\"qty\":2},{\"Id\":\"QAAL6O\",\"qty\":2},{\"Id\":\"QAAL6U\",\"qty\":2},{\"Id\":\"QAAL74\",\"qty\":2},{\"Id\":\"QAAL75\",\"qty\":2},{\"Id\":\"QAAL7T\",\"qty\":2},{\"Id\":\"QAAL8C\",\"qty\":2},{\"Id\":\"QAAL6K\",\"qty\":1},{\"Id\":\"QAAL6Z\",\"qty\":1},{\"Id\":\"QAAL7H\",\"qty\":1},{\"Id\":\"QAAL7O\",\"qty\":1},{\"Id\":\"QAAL91\",\"qty\":1},{\"Id\":\"QAAL9I\",\"qty\":1},{\"Id\":\"QAALCD\",\"qty\":1}]},{\"Id\":\"QAAD\",\"name\":\"\\u5217\\u5370\",\"qty\":115,\"nodes\":[{\"Id\":\"QAAD6L\",\"qty\":21},{\"Id\":\"QAAD6V\",\"qty\":12},{\"Id\":\"QAAD70\",\"qty\":12},{\"Id\":\"QAAD85\",\"qty\":12},{\"Id\":\"QAAD8D\",\"qty\":10},{\"Id\":\"QAAD6X\",\"qty\":7},{\"Id\":\"QAAD5H\",\"qty\":6},{\"Id\":\"QAAD6T\",\"qty\":5},{\"Id\":\"QAAD6Y\",\"qty\":5},{\"Id\":\"QAAD6O\",\"qty\":4},{\"Id\":\"QAAD80\",\"qty\":4},{\"Id\":\"QAAD6P\",\"qty\":3},{\"Id\":\"QAAD7J\",\"qty\":3},{\"Id\":\"QAAD6U\",\"qty\":2},{\"Id\":\"QAAD83\",\"qty\":2},{\"Id\":\"QAAD9Z\",\"qty\":2},{\"Id\":\"QAADAN\",\"qty\":2},{\"Id\":\"QAAD6W\",\"qty\":1},{\"Id\":\"QAAD7T\",\"qty\":1},{\"Id\":\"QAAD82\",\"qty\":1}]},{\"Id\":\"QABB\",\"name\":\"\\u5357\\u7d213C\",\"qty\":107,\"nodes\":[{\"Id\":\"QABB3J\",\"qty\":26},{\"Id\":\"QABB5B\",\"qty\":14},{\"Id\":\"QABB1Y\",\"qty\":11},{\"Id\":\"QABB3K\",\"qty\":10},{\"Id\":\"QABB5E\",\"qty\":10},{\"Id\":\"QABB1F\",\"qty\":8},{\"Id\":\"QABB3G\",\"qty\":6},{\"Id\":\"QABB5C\",\"qty\":6},{\"Id\":\"QABB1Z\",\"qty\":4},{\"Id\":\"QABB0C\",\"qty\":3},{\"Id\":\"QABB3H\",\"qty\":2},{\"Id\":\"QABB4T\",\"qty\":2},{\"Id\":\"QABB0M\",\"qty\":1},{\"Id\":\"QABB37\",\"qty\":1},{\"Id\":\"QABB3A\",\"qty\":1},{\"Id\":\"QABB3P\",\"qty\":1},{\"Id\":\"QABB3Q\",\"qty\":1}]},{\"Id\":\"QABF\",\"name\":\"\\u4e09\\u4e953C\",\"qty\":85,\"nodes\":[{\"Id\":\"QABF0W\",\"qty\":18},{\"Id\":\"QABF16\",\"qty\":15},{\"Id\":\"QABF0L\",\"qty\":11},{\"Id\":\"QABF10\",\"qty\":10},{\"Id\":\"QABF23\",\"qty\":10},{\"Id\":\"QABF0V\",\"qty\":8},{\"Id\":\"QABF0Z\",\"qty\":7},{\"Id\":\"QABF0Q\",\"qty\":3},{\"Id\":\"QABF13\",\"qty\":3}]},{\"Id\":\"QABE\",\"name\":\"\\u9375\\u76e4\\/\\u6ed1\\u9f20\",\"qty\":81,\"nodes\":[{\"Id\":\"QABE4K\",\"qty\":23},{\"Id\":\"QABE2K\",\"qty\":9},{\"Id\":\"QABE2F\",\"qty\":7},{\"Id\":\"QABE1D\",\"qty\":5},{\"Id\":\"QABE00\",\"qty\":3},{\"Id\":\"QABE16\",\"qty\":3},{\"Id\":\"QABE32\",\"qty\":3},{\"Id\":\"QABE0G\",\"qty\":2},{\"Id\":\"QABE1B\",\"qty\":2},{\"Id\":\"QABE1P\",\"qty\":2},{\"Id\":\"QABE1Q\",\"qty\":2},{\"Id\":\"QABE1Y\",\"qty\":2},{\"Id\":\"QABE20\",\"qty\":2},{\"Id\":\"QABE2S\",\"qty\":2},{\"Id\":\"QABE2T\",\"qty\":2},{\"Id\":\"QABE31\",\"qty\":2},{\"Id\":\"QABE3R\",\"qty\":2},{\"Id\":\"QABE07\",\"qty\":1},{\"Id\":\"QABE0L\",\"qty\":1},{\"Id\":\"QABE14\",\"qty\":1},{\"Id\":\"QABE1S\",\"qty\":1},{\"Id\":\"QABE23\",\"qty\":1},{\"Id\":\"QABE34\",\"qty\":1},{\"Id\":\"QABE36\",\"qty\":1},{\"Id\":\"QABE4P\",\"qty\":1}]},{\"Id\":\"QAAY\",\"name\":\"\\u4e0b\\u8f09\",\"qty\":71,\"nodes\":[{\"Id\":\"QAAY2H\",\"qty\":19},{\"Id\":\"QAAY29\",\"qty\":12},{\"Id\":\"QAAY25\",\"qty\":10},{\"Id\":\"QAAY0H\",\"qty\":4},{\"Id\":\"QAAY4R\",\"qty\":4},{\"Id\":\"QAAY2E\",\"qty\":3},{\"Id\":\"QAAY33\",\"qty\":3},{\"Id\":\"QAAY1A\",\"qty\":2},{\"Id\":\"QAAY21\",\"qty\":2},{\"Id\":\"QAAY26\",\"qty\":2},{\"Id\":\"QAAY28\",\"qty\":2},{\"Id\":\"QAAY2B\",\"qty\":2},{\"Id\":\"QAAY2G\",\"qty\":2},{\"Id\":\"QAAY4Q\",\"qty\":2},{\"Id\":\"QAAY24\",\"qty\":1},{\"Id\":\"QAAY3I\",\"qty\":1}]},{\"Id\":\"QBAD\",\"name\":\"\\u6a02\\u5668\",\"qty\":65,\"nodes\":[{\"Id\":\"QBAD1M\",\"qty\":17},{\"Id\":\"QBAD1O\",\"qty\":15},{\"Id\":\"QBAD3Z\",\"qty\":11},{\"Id\":\"QBAD1N\",\"qty\":7},{\"Id\":\"QBAD1Q\",\"qty\":4},{\"Id\":\"QBAD29\",\"qty\":3},{\"Id\":\"QBAD0H\",\"qty\":2},{\"Id\":\"QBAD4G\",\"qty\":2},{\"Id\":\"QBAD0B\",\"qty\":1},{\"Id\":\"QBAD0M\",\"qty\":1},{\"Id\":\"QBAD1T\",\"qty\":1},{\"Id\":\"QBAD2I\",\"qty\":1}]},{\"Id\":\"QAAG\",\"name\":\"\\u786c\\u789f\",\"qty\":60,\"nodes\":[{\"Id\":\"QAAG3F\",\"qty\":32},{\"Id\":\"QAAG0L\",\"qty\":14},{\"Id\":\"QAAG24\",\"qty\":4},{\"Id\":\"QAAG25\",\"qty\":3},{\"Id\":\"QAAG0X\",\"qty\":2},{\"Id\":\"QAAG2C\",\"qty\":2},{\"Id\":\"QAAG0B\",\"qty\":1},{\"Id\":\"QAAG2D\",\"qty\":1},{\"Id\":\"QAAG3K\",\"qty\":1}]},{\"Id\":\"QBAA\",\"name\":\"\\u8996\\u807d\\u5a1b\\u6a02\",\"qty\":55,\"nodes\":[{\"Id\":\"QBAA1E\",\"qty\":18},{\"Id\":\"QBAA1F\",\"qty\":16},{\"Id\":\"QBAA2Z\",\"qty\":5},{\"Id\":\"QBAA1D\",\"qty\":3},{\"Id\":\"QBAA2P\",\"qty\":3},{\"Id\":\"QBAA5M\",\"qty\":2},{\"Id\":\"QBAA0U\",\"qty\":1},{\"Id\":\"QBAA0X\",\"qty\":1},{\"Id\":\"QBAA2I\",\"qty\":1},{\"Id\":\"QBAA2M\",\"qty\":1},{\"Id\":\"QBAA2X\",\"qty\":1},{\"Id\":\"QBAA4B\",\"qty\":1},{\"Id\":\"QBAA4I\",\"qty\":1},{\"Id\":\"QBAA4J\",\"qty\":1}]},{\"Id\":\"QAAB\",\"name\":\"\\u7db2\\u8def\",\"qty\":51,\"nodes\":[{\"Id\":\"QAAB2L\",\"qty\":10},{\"Id\":\"QAAB0P\",\"qty\":5},{\"Id\":\"QAAB15\",\"qty\":5},{\"Id\":\"QAAB1B\",\"qty\":5},{\"Id\":\"QAAB0I\",\"qty\":3},{\"Id\":\"QAAB0T\",\"qty\":3},{\"Id\":\"QAAB3P\",\"qty\":3},{\"Id\":\"QAAB42\",\"qty\":3},{\"Id\":\"QAAB6A\",\"qty\":3},{\"Id\":\"QAAB0J\",\"qty\":2},{\"Id\":\"QAAB0Q\",\"qty\":2},{\"Id\":\"QAAB10\",\"qty\":2},{\"Id\":\"QAAB61\",\"qty\":2},{\"Id\":\"QAAB1Y\",\"qty\":1},{\"Id\":\"QAAB3Y\",\"qty\":1},{\"Id\":\"QAAB5N\",\"qty\":1}]},{\"Id\":\"QDAE\",\"name\":\"\\u3000\\u7537\\u3000\\u5305\",\"qty\":51,\"nodes\":[{\"Id\":\"QDAEB5\",\"qty\":24},{\"Id\":\"QDAE46\",\"qty\":18},{\"Id\":\"QDAE01\",\"qty\":2},{\"Id\":\"QDAE03\",\"qty\":2},{\"Id\":\"QDAE3V\",\"qty\":2},{\"Id\":\"QDAE9R\",\"qty\":2},{\"Id\":\"QDAEBI\",\"qty\":1}]},{\"Id\":\"QAAT\",\"name\":\"\\u8a18\\u61b6\\u5361\\/\\u789f\",\"qty\":44,\"nodes\":[{\"Id\":\"QAAT2K\",\"qty\":10},{\"Id\":\"QAAT11\",\"qty\":7},{\"Id\":\"QAAT2S\",\"qty\":4},{\"Id\":\"QAAT1C\",\"qty\":3},{\"Id\":\"QAAT36\",\"qty\":3},{\"Id\":\"QAAT12\",\"qty\":2},{\"Id\":\"QAAT31\",\"qty\":2},{\"Id\":\"QAAT32\",\"qty\":2},{\"Id\":\"QAAT0B\",\"qty\":1},{\"Id\":\"QAAT0H\",\"qty\":1},{\"Id\":\"QAAT13\",\"qty\":1},{\"Id\":\"QAAT1Q\",\"qty\":1},{\"Id\":\"QAAT22\",\"qty\":1},{\"Id\":\"QAAT23\",\"qty\":1},{\"Id\":\"QAAT28\",\"qty\":1},{\"Id\":\"QAAT29\",\"qty\":1},{\"Id\":\"QAAT33\",\"qty\":1},{\"Id\":\"QAAT35\",\"qty\":1},{\"Id\":\"QAAT3I\",\"qty\":1}]},{\"Id\":\"QAAR\",\"name\":\"\\u55ae\\u773c\\/\\u76f8\\u6a5f\",\"qty\":39,\"nodes\":[{\"Id\":\"QAAR1E\",\"qty\":11},{\"Id\":\"QAAR1P\",\"qty\":10},{\"Id\":\"QAAR1I\",\"qty\":7},{\"Id\":\"QAAR1K\",\"qty\":7},{\"Id\":\"QAAR43\",\"qty\":3},{\"Id\":\"QAAR3U\",\"qty\":1}]},{\"Id\":\"QAAH\",\"name\":\"\\u7b46\\u8a18\\u578b\\u96fb\\u8166\",\"qty\":38,\"nodes\":[{\"Id\":\"QAAH2P\",\"qty\":17},{\"Id\":\"QAAH33\",\"qty\":11},{\"Id\":\"QAAH36\",\"qty\":4},{\"Id\":\"QAAH6E\",\"qty\":3},{\"Id\":\"QAAH1P\",\"qty\":1},{\"Id\":\"QAAH4W\",\"qty\":1},{\"Id\":\"QAAH51\",\"qty\":1}]},{\"Id\":\"QEAF\",\"name\":\"\\u5c08\\u6ac3\\u5f69\\u599d\",\"qty\":38,\"nodes\":[{\"Id\":\"QEAF4U\",\"qty\":38}]},{\"Id\":\"QABD\",\"name\":\"\\u8fa6\\u516c\\u8a2d\\u5099\",\"qty\":35,\"nodes\":[{\"Id\":\"QABD5E\",\"qty\":11},{\"Id\":\"QABD0Y\",\"qty\":8},{\"Id\":\"QABD10\",\"qty\":5},{\"Id\":\"QABD0O\",\"qty\":3},{\"Id\":\"QABD0Z\",\"qty\":2},{\"Id\":\"QABD0N\",\"qty\":1},{\"Id\":\"QABD0V\",\"qty\":1},{\"Id\":\"QABD0W\",\"qty\":1},{\"Id\":\"QABD0X\",\"qty\":1},{\"Id\":\"QABD5L\",\"qty\":1},{\"Id\":\"QABD6D\",\"qty\":1}]},{\"Id\":\"QAAA\",\"name\":\"\\u96f6\\u7d44\\u4ef6\",\"qty\":32,\"nodes\":[{\"Id\":\"QAAA4N\",\"qty\":22},{\"Id\":\"QAAA3N\",\"qty\":3},{\"Id\":\"QAAA43\",\"qty\":3},{\"Id\":\"QAAA4C\",\"qty\":2},{\"Id\":\"QAAA45\",\"qty\":1},{\"Id\":\"QAAA7N\",\"qty\":1}]},{\"Id\":\"QBAB\",\"name\":\"\\u97f3\\u97ff\\/\\u5287\\u9662\",\"qty\":28,\"nodes\":[{\"Id\":\"QBAB06\",\"qty\":6},{\"Id\":\"QBAB0X\",\"qty\":5},{\"Id\":\"QBAB14\",\"qty\":2},{\"Id\":\"QBAB31\",\"qty\":2},{\"Id\":\"QBAB3B\",\"qty\":2},{\"Id\":\"QBAB6L\",\"qty\":2},{\"Id\":\"QBAB7U\",\"qty\":2},{\"Id\":\"QBAB1D\",\"qty\":1},{\"Id\":\"QBAB1F\",\"qty\":1},{\"Id\":\"QBAB1G\",\"qty\":1},{\"Id\":\"QBAB2C\",\"qty\":1},{\"Id\":\"QBAB2U\",\"qty\":1},{\"Id\":\"QBAB2V\",\"qty\":1},{\"Id\":\"QBAB5O\",\"qty\":1}]},{\"Id\":\"QFAP\",\"name\":\"\\u9632\\u76dc\",\"qty\":27,\"nodes\":[{\"Id\":\"QFAP3W\",\"qty\":14},{\"Id\":\"QFAP3X\",\"qty\":7},{\"Id\":\"QFAP0O\",\"qty\":2},{\"Id\":\"QFAP0Q\",\"qty\":2},{\"Id\":\"QFAP3R\",\"qty\":2}]},{\"Id\":\"QAAC\",\"name\":\"\\u5e73\\u677f\",\"qty\":27,\"nodes\":[{\"Id\":\"QAAC05\",\"qty\":8},{\"Id\":\"QAAC17\",\"qty\":6},{\"Id\":\"QAAC00\",\"qty\":2},{\"Id\":\"QAAC01\",\"qty\":2},{\"Id\":\"QAAC04\",\"qty\":2},{\"Id\":\"QAAC0V\",\"qty\":2},{\"Id\":\"QAAC0X\",\"qty\":2},{\"Id\":\"QAAC06\",\"qty\":1},{\"Id\":\"QAAC0L\",\"qty\":1},{\"Id\":\"QAAC0Z\",\"qty\":1}]},{\"Id\":\"QFCD\",\"name\":\"\\u96fb\\u5b50\\u66f8\",\"qty\":24,\"nodes\":[{\"Id\":\"QFCD3O\",\"qty\":6},{\"Id\":\"QFCD4P\",\"qty\":6},{\"Id\":\"QFCD5T\",\"qty\":5},{\"Id\":\"QFCD5V\",\"qty\":2},{\"Id\":\"QFCD00\",\"qty\":1},{\"Id\":\"QFCD1F\",\"qty\":1},{\"Id\":\"QFCD4X\",\"qty\":1},{\"Id\":\"QFCD5R\",\"qty\":1},{\"Id\":\"QFCD5U\",\"qty\":1}]},{\"Id\":\"QBAE\",\"name\":\"\\u751f\\u6d3b\\u5bb6\\u96fb\",\"qty\":20,\"nodes\":[{\"Id\":\"QBAE1X\",\"qty\":17},{\"Id\":\"QBAE96\",\"qty\":2},{\"Id\":\"QBAE2E\",\"qty\":1}]},{\"Id\":\"QAAP\",\"name\":\"\\u85cd\\u7259\\/\\u8033\\u6a5f\",\"qty\":20,\"nodes\":[{\"Id\":\"QAAP4V\",\"qty\":7},{\"Id\":\"QAAPA2\",\"qty\":3},{\"Id\":\"QAAP06\",\"qty\":2},{\"Id\":\"QAAP3X\",\"qty\":2},{\"Id\":\"QAAP5S\",\"qty\":2},{\"Id\":\"QAAP24\",\"qty\":1},{\"Id\":\"QAAP2L\",\"qty\":1},{\"Id\":\"QAAP5J\",\"qty\":1},{\"Id\":\"QAAP6K\",\"qty\":1}]},{\"Id\":\"QAAQ\",\"name\":\"\\u76f8\\u6a5f\\u914d\\u4ef6\",\"qty\":19,\"nodes\":[{\"Id\":\"QAAQ8H\",\"qty\":9},{\"Id\":\"QAAQ7N\",\"qty\":3},{\"Id\":\"QAAQ4M\",\"qty\":2},{\"Id\":\"QAAQ7V\",\"qty\":2},{\"Id\":\"QAAQ0W\",\"qty\":1},{\"Id\":\"QAAQ4O\",\"qty\":1},{\"Id\":\"QAAQ6H\",\"qty\":1}]},{\"Id\":\"QAAI\",\"name\":\"\\u798f\\u5229\\u9928\",\"qty\":19,\"nodes\":[{\"Id\":\"QAAI0A\",\"qty\":7},{\"Id\":\"QAAI12\",\"qty\":6},{\"Id\":\"QAAI1H\",\"qty\":2},{\"Id\":\"QAAI01\",\"qty\":1},{\"Id\":\"QAAI07\",\"qty\":1},{\"Id\":\"QAAI1C\",\"qty\":1},{\"Id\":\"QAAI1P\",\"qty\":1}]},{\"Id\":\"QAAE\",\"name\":\"\\u8edf\\u9ad4\",\"qty\":17,\"nodes\":[{\"Id\":\"QAAE16\",\"qty\":5},{\"Id\":\"QAAE47\",\"qty\":5},{\"Id\":\"QAAE0Z\",\"qty\":3},{\"Id\":\"QAAE2G\",\"qty\":2},{\"Id\":\"QAAE0S\",\"qty\":1},{\"Id\":\"QAAE4J\",\"qty\":1}]},{\"Id\":\"QAAF\",\"name\":\"\\u8fa6\\u516cOA\",\"qty\":13,\"nodes\":[{\"Id\":\"QAAF1U\",\"qty\":5},{\"Id\":\"QAAF1V\",\"qty\":5},{\"Id\":\"QAAF30\",\"qty\":2},{\"Id\":\"QAAF3T\",\"qty\":1}]},{\"Id\":\"QFAK\",\"name\":\"\\u8a2d\\u8a08\",\"qty\":12,\"nodes\":[{\"Id\":\"QFAKE1\",\"qty\":9},{\"Id\":\"QFAK85\",\"qty\":3}]},{\"Id\":\"QBAW\",\"name\":\"\\u6566\\u714c\\u6a02\\u5668\",\"qty\":10,\"nodes\":[{\"Id\":\"QBAW1H\",\"qty\":5},{\"Id\":\"QBAW1F\",\"qty\":2},{\"Id\":\"QBAW1G\",\"qty\":1},{\"Id\":\"QBAW1N\",\"qty\":1},{\"Id\":\"QBAW3I\",\"qty\":1}]},{\"Id\":\"QBAC\",\"name\":\"\\u6295\\u5f71\\u6a5f\",\"qty\":9,\"nodes\":[{\"Id\":\"QBAC1E\",\"qty\":4},{\"Id\":\"QBAC1D\",\"qty\":2},{\"Id\":\"QBAC0V\",\"qty\":1},{\"Id\":\"QBAC1C\",\"qty\":1},{\"Id\":\"QBAC1F\",\"qty\":1}]},{\"Id\":\"QFAB\",\"name\":\"\\u66f8\\u623f\\u50a2\",\"qty\":9,\"nodes\":[{\"Id\":\"QFAB6D\",\"qty\":9}]},{\"Id\":\"QAAW\",\"name\":\"LCD\",\"qty\":8,\"nodes\":[{\"Id\":\"QAAW21\",\"qty\":4},{\"Id\":\"QAAW1J\",\"qty\":3},{\"Id\":\"QAAW20\",\"qty\":1}]},{\"Id\":\"QAAS\",\"name\":\"\\u96fb\\u73a9\\/\\u96fb\\u7af6\",\"qty\":7,\"nodes\":[{\"Id\":\"QAAS01\",\"qty\":4},{\"Id\":\"QAAS0O\",\"qty\":1},{\"Id\":\"QAAS1C\",\"qty\":1},{\"Id\":\"QAAS33\",\"qty\":1}]},{\"Id\":\"QCAB\",\"name\":\"\\u6c7d\\u767e\\/\\u5c0e\\u822a\",\"qty\":6,\"nodes\":[{\"Id\":\"QCAB2U\",\"qty\":3},{\"Id\":\"QCAB22\",\"qty\":1},{\"Id\":\"QCAB82\",\"qty\":1},{\"Id\":\"QCAB9N\",\"qty\":1}]},{\"Id\":\"QCAD\",\"name\":\"\\u6236\\u5916\\u65c5\\u904a\",\"qty\":6,\"nodes\":[{\"Id\":\"QCAD8U\",\"qty\":3},{\"Id\":\"QCAD6P\",\"qty\":2},{\"Id\":\"QCAD6R\",\"qty\":1}]},{\"Id\":\"QFBI\",\"name\":\"\\u5357\\u7d21\\u751f\\u6d3b\",\"qty\":4,\"nodes\":[{\"Id\":\"QFBI4V\",\"qty\":4}]},{\"Id\":\"QAAM\",\"name\":\"\\u624b\\u6a5f\\u6bbc\\/\\u5957\",\"qty\":4,\"nodes\":[{\"Id\":\"QAAM5R\",\"qty\":2},{\"Id\":\"QAAM43\",\"qty\":1},{\"Id\":\"QAAMHO\",\"qty\":1}]},{\"Id\":\"QDAW\",\"name\":\"\\u773c\\u93e1\\/\\u592a\\u967d\\u773c\\u93e1\",\"qty\":3,\"nodes\":[{\"Id\":\"QDAW3M\",\"qty\":3}]},{\"Id\":\"QDAX\",\"name\":\"\\u5357\\u7d21\\u6642\\u5c1a\",\"qty\":3,\"nodes\":[{\"Id\":\"QDAX51\",\"qty\":3}]},{\"Id\":\"QFAW\",\"name\":\"\\u5bf5\\u7269\",\"qty\":2,\"nodes\":[{\"Id\":\"QFAW7S\",\"qty\":2}]},{\"Id\":\"QFBQ\",\"name\":\"\\u6a21\\u578b\",\"qty\":2,\"nodes\":[{\"Id\":\"QFBQ0I\",\"qty\":2}]},{\"Id\":\"QFAD\",\"name\":\"\\u6536\\u7d0d\",\"qty\":2,\"nodes\":[{\"Id\":\"QFAD06\",\"qty\":2}]},{\"Id\":\"QDAF\",\"name\":\"\\u3000\\u5973\\u3000\\u5305\",\"qty\":2,\"nodes\":[{\"Id\":\"QDAF52\",\"qty\":2}]},{\"Id\":\"QBAV\",\"name\":\"\\u5357\\u7d21\\u5bb6\\u96fb\",\"qty\":2,\"nodes\":[{\"Id\":\"QBAV13\",\"qty\":2}]},{\"Id\":\"QAAU\",\"name\":\"PC\",\"qty\":2,\"nodes\":[{\"Id\":\"QAAU1N\",\"qty\":2}]},{\"Id\":\"QBAZ\",\"name\":\"\\u958b\\u5e97\\u8a2d\\u5099\",\"qty\":2,\"nodes\":[{\"Id\":\"QBAZ29\",\"qty\":2}]},{\"Id\":\"QBAK\",\"name\":\"\\u6db2\\u6676\\u96fb\\u8996\",\"qty\":1,\"nodes\":[{\"Id\":\"QBAK1L\",\"qty\":1}]},{\"Id\":\"QBAJ\",\"name\":\"\\u51b7\\u6696\\u7a7a\\u8abf\",\"qty\":1,\"nodes\":[{\"Id\":\"QBAJ3O\",\"qty\":1}]},{\"Id\":\"QBAX\",\"name\":\"\\u96fb\\u5668\\u56b4\\u9078\",\"qty\":1,\"nodes\":[{\"Id\":\"QBAX0M\",\"qty\":1}]},{\"Id\":\"QDAB\",\"name\":\"\\u5c08\\u6ac3\\u98fe\\u54c1\",\"qty\":1,\"nodes\":[{\"Id\":\"QDAB8Z\",\"qty\":1}]},{\"Id\":\"QFAM\",\"name\":\"\\u71c8.\\u4fee\\u7e55\",\"qty\":1,\"nodes\":[{\"Id\":\"QFAM5C\",\"qty\":1}]},{\"Id\":\"QFBS\",\"name\":\"\\u7279\\u529b\\u5c4b\",\"qty\":1,\"nodes\":[{\"Id\":\"QFBSF8\",\"qty\":1}]},{\"Id\":\"QFBU\",\"name\":\"\\u66f8\\u5beb\",\"qty\":1,\"nodes\":[{\"Id\":\"QFBU8W\",\"qty\":1}]},{\"Id\":\"QFAJ\",\"name\":\"\\u5bb6\\u98fe\",\"qty\":1,\"nodes\":[{\"Id\":\"QFAJ1S\",\"qty\":1}]},{\"Id\":\"QEAC\",\"name\":\"\\u5c08\\u6ac3\\u4fdd\\u990a\",\"qty\":1,\"nodes\":[{\"Id\":\"QEAC0R\",\"qty\":1}]},{\"Id\":\"QAAN\",\"name\":\"\\u667a\\u6167\\u578b\\u624b\\u6a5f\",\"qty\":1,\"nodes\":[{\"Id\":\"QAANAZ\",\"qty\":1}]},{\"Id\":\"QDAI\",\"name\":\"\\u6d41\\u3000\\u884c\\u3000\\u7537\\u3000\\u88dd\",\"qty\":1,\"nodes\":[{\"Id\":\"QDAI4C\",\"qty\":1}]},{\"Id\":\"QDAA\",\"name\":\"\\u7cbe\\u54c1\\/\\u7cbe\\u54c1\\u5305\",\"qty\":1,\"nodes\":[{\"Id\":\"QDAAGU\",\"qty\":1}]}]},{\"Id\":\"DJ,DN\",\"name\":\"24h\\u66f8\\u5e97\",\"qty\":298,\"nodes\":[{\"Id\":\"DJAA\",\"name\":\"\\u96fb\\u8166\\u8cc7\\u8a0a\",\"qty\":136,\"nodes\":[{\"Id\":\"DJAA0F\",\"qty\":54},{\"Id\":\"DJAA3L\",\"qty\":22},{\"Id\":\"DJAA4D\",\"qty\":14},{\"Id\":\"DJAA3K\",\"qty\":9},{\"Id\":\"DJAA3M\",\"qty\":9},{\"Id\":\"DJAA3X\",\"qty\":6},{\"Id\":\"DJAA1Z\",\"qty\":4},{\"Id\":\"DJAA07\",\"qty\":2},{\"Id\":\"DJAA0Z\",\"qty\":2},{\"Id\":\"DJAA1K\",\"qty\":2},{\"Id\":\"DJAA3B\",\"qty\":2},{\"Id\":\"DJAA06\",\"qty\":1},{\"Id\":\"DJAA0A\",\"qty\":1},{\"Id\":\"DJAA0J\",\"qty\":1},{\"Id\":\"DJAA0N\",\"qty\":1},{\"Id\":\"DJAA0Y\",\"qty\":1},{\"Id\":\"DJAA13\",\"qty\":1},{\"Id\":\"DJAA1X\",\"qty\":1},{\"Id\":\"DJAA32\",\"qty\":1},{\"Id\":\"DJAA3E\",\"qty\":1},{\"Id\":\"DJAA3J\",\"qty\":1}]},{\"Id\":\"DJAG\",\"name\":\"\\u4e2d\\u5916\\u96dc\\u8a8c\",\"qty\":109,\"nodes\":[{\"Id\":\"DJAG2I\",\"qty\":44},{\"Id\":\"DJAG34\",\"qty\":20},{\"Id\":\"DJAG08\",\"qty\":16},{\"Id\":\"DJAG36\",\"qty\":11},{\"Id\":\"DJAG2L\",\"qty\":9},{\"Id\":\"DJAG2S\",\"qty\":8},{\"Id\":\"DJAG2W\",\"qty\":1}]},{\"Id\":\"DNAB\",\"name\":\"\\u97f3\\u6a02CD\",\"qty\":31,\"nodes\":[{\"Id\":\"DNAB1S\",\"qty\":15},{\"Id\":\"DNAB23\",\"qty\":2},{\"Id\":\"DNAB46\",\"qty\":2},{\"Id\":\"DNAB4A\",\"qty\":2},{\"Id\":\"DNAB6P\",\"qty\":2},{\"Id\":\"DNAB0L\",\"qty\":1},{\"Id\":\"DNAB11\",\"qty\":1},{\"Id\":\"DNAB2D\",\"qty\":1},{\"Id\":\"DNAB32\",\"qty\":1},{\"Id\":\"DNAB6O\",\"qty\":1},{\"Id\":\"DNAB8A\",\"qty\":1},{\"Id\":\"DNAB9O\",\"qty\":1},{\"Id\":\"DNABCV\",\"qty\":1}]},{\"Id\":\"DJAF\",\"name\":\"\\u7ae5\\u66f8\\u7e6a\\u672c\",\"qty\":8,\"nodes\":[{\"Id\":\"DJAF06\",\"qty\":6},{\"Id\":\"DJAF1T\",\"qty\":2}]},{\"Id\":\"DJBM\",\"name\":\"\\u5916\\u6587\\u66f8\",\"qty\":6,\"nodes\":[{\"Id\":\"DJBM09\",\"qty\":4},{\"Id\":\"DJBM0M\",\"qty\":1},{\"Id\":\"DJBM0V\",\"qty\":1}]},{\"Id\":\"DJBJ\",\"name\":\"\\u7c21\\u9ad4\\u66f8\",\"qty\":2,\"nodes\":[{\"Id\":\"DJBJ0E\",\"qty\":1},{\"Id\":\"DJBJ0F\",\"qty\":1}]},{\"Id\":\"DNAA\",\"name\":\"DVD_BD\",\"qty\":2,\"nodes\":[{\"Id\":\"DNAA2X\",\"qty\":1},{\"Id\":\"DNAA35\",\"qty\":1}]},{\"Id\":\"DJBB\",\"name\":\"\\u85dd\\u8853\\u8a2d\\u8a08\",\"qty\":2,\"nodes\":[{\"Id\":\"DJBB0T\",\"qty\":1},{\"Id\":\"DJBB2R\",\"qty\":1}]},{\"Id\":\"DJAV\",\"name\":\"\\u6559\\u79d1\\u8003\",\"qty\":1,\"nodes\":[{\"Id\":\"DJAV53\",\"qty\":1}]},{\"Id\":\"DJAK\",\"name\":\"\\u8a9e\\u8a00\\u5b78\\u7fd2\",\"qty\":1,\"nodes\":[{\"Id\":\"DJAK1U\",\"qty\":1}]}]},{\"Id\":\"D\",\"name\":\"24h\\u8cfc\\u7269\",\"qty\":7224,\"nodes\":[{\"Id\":\"DGAX\",\"name\":\"Mac\\u5468\\u908a\",\"qty\":1505,\"nodes\":[{\"Id\":\"DGAX6J\",\"qty\":165},{\"Id\":\"DGAXBY\",\"qty\":109},{\"Id\":\"DGAXB3\",\"qty\":103},{\"Id\":\"DGAX9I\",\"qty\":98},{\"Id\":\"DGAXA3\",\"qty\":79},{\"Id\":\"DGAXAY\",\"qty\":76},{\"Id\":\"DGAXB1\",\"qty\":72},{\"Id\":\"DGAXB5\",\"qty\":70},{\"Id\":\"DGAX6N\",\"qty\":66},{\"Id\":\"DGAX9Y\",\"qty\":60},{\"Id\":\"DGAXAZ\",\"qty\":59},{\"Id\":\"DGAXCH\",\"qty\":43},{\"Id\":\"DGAX6P\",\"qty\":39},{\"Id\":\"DGAX4A\",\"qty\":36},{\"Id\":\"DGAX6I\",\"qty\":36},{\"Id\":\"DGAXB2\",\"qty\":36},{\"Id\":\"DGAX9J\",\"qty\":31},{\"Id\":\"DGAXAX\",\"qty\":30},{\"Id\":\"DGAXAV\",\"qty\":29},{\"Id\":\"DGAXAW\",\"qty\":29},{\"Id\":\"DGAXA0\",\"qty\":25},{\"Id\":\"DGAXC8\",\"qty\":25},{\"Id\":\"DGAX9N\",\"qty\":24},{\"Id\":\"DGAX9Z\",\"qty\":24},{\"Id\":\"DGAXA1\",\"qty\":15},{\"Id\":\"DGAXA7\",\"qty\":12},{\"Id\":\"DGAXA9\",\"qty\":12},{\"Id\":\"DGAX4G\",\"qty\":11},{\"Id\":\"DGAXC4\",\"qty\":11},{\"Id\":\"DGAX7Y\",\"qty\":10},{\"Id\":\"DGAXC5\",\"qty\":10},{\"Id\":\"DGAX4F\",\"qty\":8},{\"Id\":\"DGAX6O\",\"qty\":8},{\"Id\":\"DGAXA6\",\"qty\":8},{\"Id\":\"DGAX4H\",\"qty\":6},{\"Id\":\"DGAX9X\",\"qty\":6},{\"Id\":\"DGAX47\",\"qty\":5},{\"Id\":\"DGAX6K\",\"qty\":5},{\"Id\":\"DGAXA5\",\"qty\":4},{\"Id\":\"DGAX4D\",\"qty\":2},{\"Id\":\"DGAXC7\",\"qty\":2},{\"Id\":\"DGAX25\",\"qty\":1},{\"Id\":\"DGAX9M\",\"qty\":1},{\"Id\":\"DGAXA2\",\"qty\":1},{\"Id\":\"DGAXA4\",\"qty\":1},{\"Id\":\"DGAXAA\",\"qty\":1},{\"Id\":\"DGAXBZ\",\"qty\":1}]},{\"Id\":\"DICM\",\"name\":\"\\u96fb\\u8166\\u5546\\u52d9\\u5305\",\"qty\":649,\"nodes\":[{\"Id\":\"DICMGZ\",\"qty\":81},{\"Id\":\"DICMH0\",\"qty\":43},{\"Id\":\"DICMFK\",\"qty\":39},{\"Id\":\"DICMG1\",\"qty\":39},{\"Id\":\"DICMHB\",\"qty\":32},{\"Id\":\"DICMI5\",\"qty\":32},{\"Id\":\"DICM73\",\"qty\":28},{\"Id\":\"DICMHU\",\"qty\":28},{\"Id\":\"DICMI7\",\"qty\":25},{\"Id\":\"DICMHK\",\"qty\":23},{\"Id\":\"DICM74\",\"qty\":19},{\"Id\":\"DICMJ3\",\"qty\":19},{\"Id\":\"DICMHY\",\"qty\":18},{\"Id\":\"DICM3D\",\"qty\":17},{\"Id\":\"DICM67\",\"qty\":16},{\"Id\":\"DICMAD\",\"qty\":16},{\"Id\":\"DICM0T\",\"qty\":14},{\"Id\":\"DICMFM\",\"qty\":14},{\"Id\":\"DICMGV\",\"qty\":13},{\"Id\":\"DICMI1\",\"qty\":13},{\"Id\":\"DICMHR\",\"qty\":11},{\"Id\":\"DICMHV\",\"qty\":11},{\"Id\":\"DICM75\",\"qty\":10},{\"Id\":\"DICM61\",\"qty\":9},{\"Id\":\"DICM9O\",\"qty\":8},{\"Id\":\"DICMIX\",\"qty\":7},{\"Id\":\"DICMI4\",\"qty\":5},{\"Id\":\"DICMIQ\",\"qty\":5},{\"Id\":\"DICM0U\",\"qty\":4},{\"Id\":\"DICMHW\",\"qty\":4},{\"Id\":\"DICMIO\",\"qty\":4},{\"Id\":\"DICMIZ\",\"qty\":4},{\"Id\":\"DICM5Z\",\"qty\":3},{\"Id\":\"DICM66\",\"qty\":3},{\"Id\":\"DICM68\",\"qty\":3},{\"Id\":\"DICMI3\",\"qty\":3},{\"Id\":\"DICMIF\",\"qty\":3},{\"Id\":\"DICM9Y\",\"qty\":2},{\"Id\":\"DICMH2\",\"qty\":2},{\"Id\":\"DICMHD\",\"qty\":2},{\"Id\":\"DICMI6\",\"qty\":2},{\"Id\":\"DICMIR\",\"qty\":2},{\"Id\":\"DICMJ4\",\"qty\":2},{\"Id\":\"DICM62\",\"qty\":1},{\"Id\":\"DICM65\",\"qty\":1},{\"Id\":\"DICMC9\",\"qty\":1},{\"Id\":\"DICMF1\",\"qty\":1},{\"Id\":\"DICMGY\",\"qty\":1},{\"Id\":\"DICMHP\",\"qty\":1},{\"Id\":\"DICMI8\",\"qty\":1},{\"Id\":\"DICMIA\",\"qty\":1},{\"Id\":\"DICMIH\",\"qty\":1},{\"Id\":\"DICMIN\",\"qty\":1},{\"Id\":\"DICMIP\",\"qty\":1}]},{\"Id\":\"DGBH\",\"name\":\"\\u76f8\\u6a5f\\u5c08\\u696d\\u914d\\u4ef6\",\"qty\":630,\"nodes\":[{\"Id\":\"DGBH7R\",\"qty\":580},{\"Id\":\"DGBH74\",\"qty\":41},{\"Id\":\"DGBH4U\",\"qty\":4},{\"Id\":\"DGBHCO\",\"qty\":3},{\"Id\":\"DGBH0T\",\"qty\":1},{\"Id\":\"DGBHAZ\",\"qty\":1}]},{\"Id\":\"DCAC\",\"name\":\"\\u7dda\\u3000\\u3000\\u6750\",\"qty\":593,\"nodes\":[{\"Id\":\"DCACED\",\"qty\":34},{\"Id\":\"DCACPQ\",\"qty\":30},{\"Id\":\"DCACRX\",\"qty\":27},{\"Id\":\"DCACLL\",\"qty\":25},{\"Id\":\"DCACAG\",\"qty\":24},{\"Id\":\"DCACKS\",\"qty\":24},{\"Id\":\"DCACS4\",\"qty\":24},{\"Id\":\"DCAC16\",\"qty\":23},{\"Id\":\"DCACS7\",\"qty\":20},{\"Id\":\"DCACXA\",\"qty\":17},{\"Id\":\"DCACLM\",\"qty\":16},{\"Id\":\"DCACSV\",\"qty\":14},{\"Id\":\"DCACKN\",\"qty\":12},{\"Id\":\"DCACX1\",\"qty\":12},{\"Id\":\"DCAC5Z\",\"qty\":11},{\"Id\":\"DCACX0\",\"qty\":11},{\"Id\":\"DCACQN\",\"qty\":10},{\"Id\":\"DCACKU\",\"qty\":9},{\"Id\":\"DCACM3\",\"qty\":9},{\"Id\":\"DCACYK\",\"qty\":9},{\"Id\":\"DCAC1S\",\"qty\":8},{\"Id\":\"DCAC6W\",\"qty\":8},{\"Id\":\"DCACFP\",\"qty\":8},{\"Id\":\"DCACLQ\",\"qty\":8},{\"Id\":\"DCAC6R\",\"qty\":7},{\"Id\":\"DCAC82\",\"qty\":7},{\"Id\":\"DCACGJ\",\"qty\":7},{\"Id\":\"DCACSK\",\"qty\":7},{\"Id\":\"DCACWY\",\"qty\":7},{\"Id\":\"DCAC18\",\"qty\":6},{\"Id\":\"DCACPP\",\"qty\":6},{\"Id\":\"DCACT2\",\"qty\":6},{\"Id\":\"DCACT9\",\"qty\":6},{\"Id\":\"DCACVT\",\"qty\":6},{\"Id\":\"DCACW7\",\"qty\":6},{\"Id\":\"DCACZG\",\"qty\":6},{\"Id\":\"DCAC5X\",\"qty\":5},{\"Id\":\"DCACMK\",\"qty\":5},{\"Id\":\"DCACQH\",\"qty\":5},{\"Id\":\"DCACQO\",\"qty\":5},{\"Id\":\"DCACRT\",\"qty\":5},{\"Id\":\"DCACSE\",\"qty\":5},{\"Id\":\"DCACSL\",\"qty\":5},{\"Id\":\"DCACX9\",\"qty\":5},{\"Id\":\"DCACXC\",\"qty\":5},{\"Id\":\"DCACIW\",\"qty\":4},{\"Id\":\"DCACRQ\",\"qty\":4},{\"Id\":\"DCACXB\",\"qty\":4},{\"Id\":\"DCACZW\",\"qty\":4},{\"Id\":\"DCACI6\",\"qty\":3},{\"Id\":\"DCACPS\",\"qty\":3},{\"Id\":\"DCACQ1\",\"qty\":3},{\"Id\":\"DCACXJ\",\"qty\":3},{\"Id\":\"DCACZA\",\"qty\":3},{\"Id\":\"DCAC9B\",\"qty\":2},{\"Id\":\"DCACAL\",\"qty\":2},{\"Id\":\"DCACAO\",\"qty\":2},{\"Id\":\"DCACGE\",\"qty\":2},{\"Id\":\"DCACMB\",\"qty\":2},{\"Id\":\"DCACPL\",\"qty\":2},{\"Id\":\"DCACPO\",\"qty\":2},{\"Id\":\"DCACSB\",\"qty\":2},{\"Id\":\"DCACVU\",\"qty\":2},{\"Id\":\"DCACWT\",\"qty\":2},{\"Id\":\"DCACX2\",\"qty\":2},{\"Id\":\"DCACXE\",\"qty\":2},{\"Id\":\"DCAC14\",\"qty\":1},{\"Id\":\"DCAC15\",\"qty\":1},{\"Id\":\"DCAC5B\",\"qty\":1},{\"Id\":\"DCAC7I\",\"qty\":1},{\"Id\":\"DCACAM\",\"qty\":1},{\"Id\":\"DCACBY\",\"qty\":1},{\"Id\":\"DCACE9\",\"qty\":1},{\"Id\":\"DCACL8\",\"qty\":1},{\"Id\":\"DCACMO\",\"qty\":1},{\"Id\":\"DCACMQ\",\"qty\":1},{\"Id\":\"DCACQL\",\"qty\":1},{\"Id\":\"DCACR2\",\"qty\":1},{\"Id\":\"DCACRO\",\"qty\":1},{\"Id\":\"DCACRS\",\"qty\":1},{\"Id\":\"DCACS9\",\"qty\":1},{\"Id\":\"DCACW6\",\"qty\":1},{\"Id\":\"DCACWS\",\"qty\":1},{\"Id\":\"DCACWW\",\"qty\":1},{\"Id\":\"DCACWZ\",\"qty\":1},{\"Id\":\"DCACZH\",\"qty\":1},{\"Id\":\"DCACZO\",\"qty\":1},{\"Id\":\"DCACZQ\",\"qty\":1},{\"Id\":\"DCACZV\",\"qty\":1}]},{\"Id\":\"DYAP\",\"name\":\"\\u624b\\u6a5f\\u7dda\\u6750\",\"qty\":538,\"nodes\":[{\"Id\":\"DYAP00\",\"qty\":92},{\"Id\":\"DYAP8T\",\"qty\":79},{\"Id\":\"DYAPAU\",\"qty\":77},{\"Id\":\"DYAP98\",\"qty\":76},{\"Id\":\"DYAP62\",\"qty\":50},{\"Id\":\"DYAP8E\",\"qty\":44},{\"Id\":\"DYAP3J\",\"qty\":29},{\"Id\":\"DYAP8P\",\"qty\":19},{\"Id\":\"DYAPC0\",\"qty\":12},{\"Id\":\"DYAP5O\",\"qty\":7},{\"Id\":\"DYAP6W\",\"qty\":7},{\"Id\":\"DYAP72\",\"qty\":6},{\"Id\":\"DYAP4B\",\"qty\":5},{\"Id\":\"DYAPBY\",\"qty\":5},{\"Id\":\"DYAP5Q\",\"qty\":4},{\"Id\":\"DYAPAD\",\"qty\":4},{\"Id\":\"DYAPAX\",\"qty\":3},{\"Id\":\"DYAPBI\",\"qty\":3},{\"Id\":\"DYAP02\",\"qty\":2},{\"Id\":\"DYAP07\",\"qty\":2},{\"Id\":\"DYAP4E\",\"qty\":2},{\"Id\":\"DYAP8N\",\"qty\":2},{\"Id\":\"DYAPAE\",\"qty\":2},{\"Id\":\"DYAPCE\",\"qty\":2},{\"Id\":\"DYAP2N\",\"qty\":1},{\"Id\":\"DYAP59\",\"qty\":1},{\"Id\":\"DYAP6L\",\"qty\":1},{\"Id\":\"DYAPAB\",\"qty\":1}]},{\"Id\":\"DCAD\",\"name\":\"USB\\u5468\\u908a\",\"qty\":508,\"nodes\":[{\"Id\":\"DCADJ5\",\"qty\":152},{\"Id\":\"DCADLV\",\"qty\":50},{\"Id\":\"DCADI1\",\"qty\":47},{\"Id\":\"DCADM1\",\"qty\":32},{\"Id\":\"DCAD5S\",\"qty\":28},{\"Id\":\"DCADLA\",\"qty\":26},{\"Id\":\"DCADHX\",\"qty\":19},{\"Id\":\"DCADLR\",\"qty\":16},{\"Id\":\"DCADMP\",\"qty\":16},{\"Id\":\"DCAD59\",\"qty\":15},{\"Id\":\"DCAD6E\",\"qty\":14},{\"Id\":\"DCADI2\",\"qty\":13},{\"Id\":\"DCADIJ\",\"qty\":13},{\"Id\":\"DCADJL\",\"qty\":10},{\"Id\":\"DCADK1\",\"qty\":8},{\"Id\":\"DCAD8J\",\"qty\":6},{\"Id\":\"DCAD0E\",\"qty\":5},{\"Id\":\"DCAD4G\",\"qty\":5},{\"Id\":\"DCADHT\",\"qty\":5},{\"Id\":\"DCAD8M\",\"qty\":4},{\"Id\":\"DCADM5\",\"qty\":4},{\"Id\":\"DCADLY\",\"qty\":3},{\"Id\":\"DCADM3\",\"qty\":3},{\"Id\":\"DCAD5F\",\"qty\":2},{\"Id\":\"DCAD5U\",\"qty\":2},{\"Id\":\"DCADLS\",\"qty\":2},{\"Id\":\"DCADM2\",\"qty\":2},{\"Id\":\"DCADI3\",\"qty\":1},{\"Id\":\"DCADJF\",\"qty\":1},{\"Id\":\"DCADJS\",\"qty\":1},{\"Id\":\"DCADKU\",\"qty\":1},{\"Id\":\"DCADM4\",\"qty\":1},{\"Id\":\"DCADMJ\",\"qty\":1}]},{\"Id\":\"DCAX\",\"name\":\"\\u96fb\\u8166\\u64f4\\u5145\",\"qty\":294,\"nodes\":[{\"Id\":\"DCAXPN\",\"qty\":66},{\"Id\":\"DCAX3N\",\"qty\":61},{\"Id\":\"DCAX4G\",\"qty\":33},{\"Id\":\"DCAX07\",\"qty\":24},{\"Id\":\"DCAX8P\",\"qty\":23},{\"Id\":\"DCAX4H\",\"qty\":19},{\"Id\":\"DCAXQ5\",\"qty\":12},{\"Id\":\"DCAXQX\",\"qty\":12},{\"Id\":\"DCAXNU\",\"qty\":7},{\"Id\":\"DCAXLU\",\"qty\":6},{\"Id\":\"DCAX54\",\"qty\":5},{\"Id\":\"DCAXKI\",\"qty\":5},{\"Id\":\"DCAXQ0\",\"qty\":5},{\"Id\":\"DCAXQ7\",\"qty\":4},{\"Id\":\"DCAXQH\",\"qty\":4},{\"Id\":\"DCAX8I\",\"qty\":2},{\"Id\":\"DCAXIP\",\"qty\":2},{\"Id\":\"DCAXPU\",\"qty\":2},{\"Id\":\"DCAX49\",\"qty\":1},{\"Id\":\"DCAXIY\",\"qty\":1}]},{\"Id\":\"DYAJ\",\"name\":\"\\u3000APPLE\\u3000\",\"qty\":152,\"nodes\":[{\"Id\":\"DYAJCW\",\"qty\":22},{\"Id\":\"DYAJCS\",\"qty\":16},{\"Id\":\"DYAJEP\",\"qty\":15},{\"Id\":\"DYAJBL\",\"qty\":14},{\"Id\":\"DYAJBD\",\"qty\":13},{\"Id\":\"DYAJBE\",\"qty\":10},{\"Id\":\"DYAJCR\",\"qty\":10},{\"Id\":\"DYAJBF\",\"qty\":8},{\"Id\":\"DYAJBS\",\"qty\":8},{\"Id\":\"DYAJBV\",\"qty\":7},{\"Id\":\"DYAJBK\",\"qty\":6},{\"Id\":\"DYAJC2\",\"qty\":5},{\"Id\":\"DYAJBQ\",\"qty\":4},{\"Id\":\"DYAJBI\",\"qty\":3},{\"Id\":\"DYAJEW\",\"qty\":3},{\"Id\":\"DYAJEX\",\"qty\":3},{\"Id\":\"DYAJBZ\",\"qty\":2},{\"Id\":\"DYAJEQ\",\"qty\":2},{\"Id\":\"DYAJBG\",\"qty\":1}]},{\"Id\":\"DYAH\",\"name\":\"\\u4fdd\\u8b77\\u8cbc\",\"qty\":148,\"nodes\":[{\"Id\":\"DYAH62\",\"qty\":21},{\"Id\":\"DYAH66\",\"qty\":13},{\"Id\":\"DYAH61\",\"qty\":12},{\"Id\":\"DYAH3Z\",\"qty\":11},{\"Id\":\"DYAH03\",\"qty\":10},{\"Id\":\"DYAH04\",\"qty\":9},{\"Id\":\"DYAH15\",\"qty\":9},{\"Id\":\"DYAH1B\",\"qty\":8},{\"Id\":\"DYAH5J\",\"qty\":8},{\"Id\":\"DYAH3U\",\"qty\":7},{\"Id\":\"DYAH2C\",\"qty\":6},{\"Id\":\"DYAH5I\",\"qty\":6},{\"Id\":\"DYAH0Z\",\"qty\":3},{\"Id\":\"DYAH3I\",\"qty\":3},{\"Id\":\"DYAH0N\",\"qty\":2},{\"Id\":\"DYAH18\",\"qty\":2},{\"Id\":\"DYAH2I\",\"qty\":2},{\"Id\":\"DYAH3O\",\"qty\":2},{\"Id\":\"DYAH5Z\",\"qty\":2},{\"Id\":\"DYAH68\",\"qty\":2},{\"Id\":\"DYAH7C\",\"qty\":2},{\"Id\":\"DYAH0L\",\"qty\":1},{\"Id\":\"DYAH0T\",\"qty\":1},{\"Id\":\"DYAH0W\",\"qty\":1},{\"Id\":\"DYAH13\",\"qty\":1},{\"Id\":\"DYAH1S\",\"qty\":1},{\"Id\":\"DYAH2L\",\"qty\":1},{\"Id\":\"DYAH4A\",\"qty\":1},{\"Id\":\"DYAH5C\",\"qty\":1}]},{\"Id\":\"DYAF\",\"name\":\"\\u624b\\u6a5f\\/\\u5e73\\u677f\\u5468\\u908a\",\"qty\":143,\"nodes\":[{\"Id\":\"DYAFCM\",\"qty\":27},{\"Id\":\"DYAF69\",\"qty\":16},{\"Id\":\"DYAF70\",\"qty\":11},{\"Id\":\"DYAF8K\",\"qty\":10},{\"Id\":\"DYAF13\",\"qty\":8},{\"Id\":\"DYAF1Y\",\"qty\":7},{\"Id\":\"DYAFDV\",\"qty\":7},{\"Id\":\"DYAF7K\",\"qty\":6},{\"Id\":\"DYAFCA\",\"qty\":6},{\"Id\":\"DYAF7H\",\"qty\":5},{\"Id\":\"DYAF4H\",\"qty\":4},{\"Id\":\"DYAF0V\",\"qty\":3},{\"Id\":\"DYAF6P\",\"qty\":3},{\"Id\":\"DYAF98\",\"qty\":3},{\"Id\":\"DYAFA0\",\"qty\":3},{\"Id\":\"DYAF3M\",\"qty\":2},{\"Id\":\"DYAF6M\",\"qty\":2},{\"Id\":\"DYAF6N\",\"qty\":2},{\"Id\":\"DYAF7G\",\"qty\":2},{\"Id\":\"DYAF8M\",\"qty\":2},{\"Id\":\"DYAF1W\",\"qty\":1},{\"Id\":\"DYAF3H\",\"qty\":1},{\"Id\":\"DYAF5J\",\"qty\":1},{\"Id\":\"DYAF6D\",\"qty\":1},{\"Id\":\"DYAF6G\",\"qty\":1},{\"Id\":\"DYAF6Z\",\"qty\":1},{\"Id\":\"DYAF77\",\"qty\":1},{\"Id\":\"DYAF7D\",\"qty\":1},{\"Id\":\"DYAF8G\",\"qty\":1},{\"Id\":\"DYAF9A\",\"qty\":1},{\"Id\":\"DYAFA8\",\"qty\":1},{\"Id\":\"DYAFC3\",\"qty\":1},{\"Id\":\"DYAFCB\",\"qty\":1},{\"Id\":\"DYAFD0\",\"qty\":1}]},{\"Id\":\"DGCD\",\"name\":\"\\u96a8\\u8eab\\u789f\",\"qty\":130,\"nodes\":[{\"Id\":\"DGCD19\",\"qty\":19},{\"Id\":\"DGCD1T\",\"qty\":16},{\"Id\":\"DGCD0A\",\"qty\":14},{\"Id\":\"DGCD1Z\",\"qty\":10},{\"Id\":\"DGCD09\",\"qty\":9},{\"Id\":\"DGCD0D\",\"qty\":8},{\"Id\":\"DGCD1E\",\"qty\":8},{\"Id\":\"DGCD2R\",\"qty\":7},{\"Id\":\"DGCD06\",\"qty\":6},{\"Id\":\"DGCD1K\",\"qty\":4},{\"Id\":\"DGCD0C\",\"qty\":3},{\"Id\":\"DGCD0Y\",\"qty\":3},{\"Id\":\"DGCD1V\",\"qty\":3},{\"Id\":\"DGCD63\",\"qty\":3},{\"Id\":\"DGCD03\",\"qty\":2},{\"Id\":\"DGCD05\",\"qty\":2},{\"Id\":\"DGCD0K\",\"qty\":2},{\"Id\":\"DGCD2A\",\"qty\":2},{\"Id\":\"DGCD64\",\"qty\":2},{\"Id\":\"DGCD8X\",\"qty\":2},{\"Id\":\"DGCD0L\",\"qty\":1},{\"Id\":\"DGCD0X\",\"qty\":1},{\"Id\":\"DGCD13\",\"qty\":1},{\"Id\":\"DGCD15\",\"qty\":1},{\"Id\":\"DGCD27\",\"qty\":1}]},{\"Id\":\"DRAH\",\"name\":\"SSD\",\"qty\":125,\"nodes\":[{\"Id\":\"DRAH5Z\",\"qty\":36},{\"Id\":\"DRAH25\",\"qty\":13},{\"Id\":\"DRAH31\",\"qty\":11},{\"Id\":\"DRAH7W\",\"qty\":11},{\"Id\":\"DRAH0T\",\"qty\":8},{\"Id\":\"DRAH0V\",\"qty\":5},{\"Id\":\"DRAH4T\",\"qty\":4},{\"Id\":\"DRAH7Q\",\"qty\":4},{\"Id\":\"DRAH7R\",\"qty\":4},{\"Id\":\"DRAH6S\",\"qty\":3},{\"Id\":\"DRAH7M\",\"qty\":3},{\"Id\":\"DRAH8H\",\"qty\":3},{\"Id\":\"DRAH4Y\",\"qty\":2},{\"Id\":\"DRAH53\",\"qty\":2},{\"Id\":\"DRAH55\",\"qty\":2},{\"Id\":\"DRAH57\",\"qty\":2},{\"Id\":\"DRAH58\",\"qty\":2},{\"Id\":\"DRAH7U\",\"qty\":2},{\"Id\":\"DRAH87\",\"qty\":2},{\"Id\":\"DRAH19\",\"qty\":1},{\"Id\":\"DRAH2B\",\"qty\":1},{\"Id\":\"DRAH52\",\"qty\":1},{\"Id\":\"DRAH7O\",\"qty\":1},{\"Id\":\"DRAH7T\",\"qty\":1},{\"Id\":\"DRAH86\",\"qty\":1}]},{\"Id\":\"DYAR\",\"name\":\"APPLE\\u6bbc\\/\\u5957\",\"qty\":115,\"nodes\":[{\"Id\":\"DYAR6U\",\"qty\":51},{\"Id\":\"DYAR1H\",\"qty\":17},{\"Id\":\"DYAR0B\",\"qty\":7},{\"Id\":\"DYARBB\",\"qty\":6},{\"Id\":\"DYAR0U\",\"qty\":4},{\"Id\":\"DYAR12\",\"qty\":4},{\"Id\":\"DYARBN\",\"qty\":4},{\"Id\":\"DYAR00\",\"qty\":3},{\"Id\":\"DYAR19\",\"qty\":3},{\"Id\":\"DYAR1E\",\"qty\":3},{\"Id\":\"DYAR3X\",\"qty\":3},{\"Id\":\"DYAR28\",\"qty\":2},{\"Id\":\"DYARAJ\",\"qty\":2},{\"Id\":\"DYAR0Z\",\"qty\":1},{\"Id\":\"DYAR16\",\"qty\":1},{\"Id\":\"DYAR1Q\",\"qty\":1},{\"Id\":\"DYAR24\",\"qty\":1},{\"Id\":\"DYAR2G\",\"qty\":1},{\"Id\":\"DYAR48\",\"qty\":1}]},{\"Id\":\"DCBA\",\"name\":\"\\u8fa6\\u516c\\u8a2d\\u5099\",\"qty\":109,\"nodes\":[{\"Id\":\"DCBAAP\",\"qty\":23},{\"Id\":\"DCBAE1\",\"qty\":18},{\"Id\":\"DCBADU\",\"qty\":7},{\"Id\":\"DCBADW\",\"qty\":7},{\"Id\":\"DCBAA1\",\"qty\":6},{\"Id\":\"DCBAB5\",\"qty\":6},{\"Id\":\"DCBAA2\",\"qty\":5},{\"Id\":\"DCBA3P\",\"qty\":4},{\"Id\":\"DCBA83\",\"qty\":4},{\"Id\":\"DCBAA7\",\"qty\":4},{\"Id\":\"DCBAA8\",\"qty\":4},{\"Id\":\"DCBADY\",\"qty\":4},{\"Id\":\"DCBAA3\",\"qty\":3},{\"Id\":\"DCBAA5\",\"qty\":3},{\"Id\":\"DCBAA6\",\"qty\":3},{\"Id\":\"DCBAAU\",\"qty\":2},{\"Id\":\"DCBADV\",\"qty\":2},{\"Id\":\"DCBADX\",\"qty\":2},{\"Id\":\"DCBA2K\",\"qty\":1},{\"Id\":\"DCBAAA\",\"qty\":1}]},{\"Id\":\"DMAA\",\"name\":\"\\u5f71\\u97f3\\/\\u5287\\u9662\",\"qty\":109,\"nodes\":[{\"Id\":\"DMAA5S\",\"qty\":15},{\"Id\":\"DMAAFU\",\"qty\":15},{\"Id\":\"DMAA6A\",\"qty\":14},{\"Id\":\"DMAAFW\",\"qty\":5},{\"Id\":\"DMAA3W\",\"qty\":4},{\"Id\":\"DMAA82\",\"qty\":4},{\"Id\":\"DMAABB\",\"qty\":4},{\"Id\":\"DMAA0R\",\"qty\":3},{\"Id\":\"DMAA3U\",\"qty\":3},{\"Id\":\"DMAA41\",\"qty\":3},{\"Id\":\"DMAAED\",\"qty\":3},{\"Id\":\"DMAAEI\",\"qty\":3},{\"Id\":\"DMAAFT\",\"qty\":3},{\"Id\":\"DMAA23\",\"qty\":2},{\"Id\":\"DMAA52\",\"qty\":2},{\"Id\":\"DMAA9Z\",\"qty\":2},{\"Id\":\"DMAAA0\",\"qty\":2},{\"Id\":\"DMAAA2\",\"qty\":2},{\"Id\":\"DMAAB7\",\"qty\":2},{\"Id\":\"DMAAB8\",\"qty\":2},{\"Id\":\"DMAABW\",\"qty\":2},{\"Id\":\"DMAACO\",\"qty\":2},{\"Id\":\"DMAAG1\",\"qty\":2},{\"Id\":\"DMAA2K\",\"qty\":1},{\"Id\":\"DMAA75\",\"qty\":1},{\"Id\":\"DMAA8T\",\"qty\":1},{\"Id\":\"DMAAA1\",\"qty\":1},{\"Id\":\"DMAAAD\",\"qty\":1},{\"Id\":\"DMAACT\",\"qty\":1},{\"Id\":\"DMAADK\",\"qty\":1},{\"Id\":\"DMAAEE\",\"qty\":1},{\"Id\":\"DMAAEW\",\"qty\":1},{\"Id\":\"DMAAFS\",\"qty\":1}]},{\"Id\":\"DCAE\",\"name\":\"\\u5674\\u58a8\\u5370\\u8868\\u6a5f\",\"qty\":96,\"nodes\":[{\"Id\":\"DCAE5M\",\"qty\":16},{\"Id\":\"DCAE0W\",\"qty\":9},{\"Id\":\"DCAE5N\",\"qty\":9},{\"Id\":\"DCAE0H\",\"qty\":7},{\"Id\":\"DCAE1Z\",\"qty\":6},{\"Id\":\"DCAE22\",\"qty\":5},{\"Id\":\"DCAE7W\",\"qty\":5},{\"Id\":\"DCAE00\",\"qty\":4},{\"Id\":\"DCAE06\",\"qty\":4},{\"Id\":\"DCAE21\",\"qty\":4},{\"Id\":\"DCAE3T\",\"qty\":4},{\"Id\":\"DCAE0V\",\"qty\":3},{\"Id\":\"DCAE20\",\"qty\":3},{\"Id\":\"DCAE86\",\"qty\":3},{\"Id\":\"DCAE0S\",\"qty\":2},{\"Id\":\"DCAE60\",\"qty\":2},{\"Id\":\"DCAE6C\",\"qty\":2},{\"Id\":\"DCAE0F\",\"qty\":1},{\"Id\":\"DCAE45\",\"qty\":1},{\"Id\":\"DCAE6N\",\"qty\":1},{\"Id\":\"DCAE70\",\"qty\":1},{\"Id\":\"DCAE8C\",\"qty\":1},{\"Id\":\"DCAE9H\",\"qty\":1},{\"Id\":\"DCAEAN\",\"qty\":1},{\"Id\":\"DCAEAO\",\"qty\":1}]},{\"Id\":\"DDBH\",\"name\":\"\\u5c08\\u6ac3\\u5f69\\u599d\",\"qty\":81,\"nodes\":[{\"Id\":\"DDBH1L\",\"qty\":74},{\"Id\":\"DDBH0D\",\"qty\":2},{\"Id\":\"DDBH08\",\"qty\":1},{\"Id\":\"DDBH09\",\"qty\":1},{\"Id\":\"DDBH4G\",\"qty\":1},{\"Id\":\"DDBH4H\",\"qty\":1},{\"Id\":\"DDBH6U\",\"qty\":1}]},{\"Id\":\"DRAM\",\"name\":\"Seagate\",\"qty\":80,\"nodes\":[{\"Id\":\"DRAM08\",\"qty\":60},{\"Id\":\"DRAM0C\",\"qty\":8},{\"Id\":\"DRAM0B\",\"qty\":7},{\"Id\":\"DRAM0K\",\"qty\":3},{\"Id\":\"DRAM09\",\"qty\":1},{\"Id\":\"DRAM0L\",\"qty\":1}]},{\"Id\":\"DRAF\",\"name\":\"\\u7db2\\u8def\",\"qty\":78,\"nodes\":[{\"Id\":\"DRAF07\",\"qty\":17},{\"Id\":\"DRAF5X\",\"qty\":13},{\"Id\":\"DRAF5L\",\"qty\":8},{\"Id\":\"DRAF81\",\"qty\":6},{\"Id\":\"DRAF04\",\"qty\":5},{\"Id\":\"DRAF2J\",\"qty\":3},{\"Id\":\"DRAF0R\",\"qty\":2},{\"Id\":\"DRAF2K\",\"qty\":2},{\"Id\":\"DRAF2L\",\"qty\":2},{\"Id\":\"DRAF4H\",\"qty\":2},{\"Id\":\"DRAF6Q\",\"qty\":2},{\"Id\":\"DRAFB7\",\"qty\":2},{\"Id\":\"DRAFDA\",\"qty\":2},{\"Id\":\"DRAF01\",\"qty\":1},{\"Id\":\"DRAF0E\",\"qty\":1},{\"Id\":\"DRAF0H\",\"qty\":1},{\"Id\":\"DRAF2I\",\"qty\":1},{\"Id\":\"DRAF57\",\"qty\":1},{\"Id\":\"DRAF5I\",\"qty\":1},{\"Id\":\"DRAF60\",\"qty\":1},{\"Id\":\"DRAF64\",\"qty\":1},{\"Id\":\"DRAF8O\",\"qty\":1},{\"Id\":\"DRAF9G\",\"qty\":1},{\"Id\":\"DRAFAE\",\"qty\":1},{\"Id\":\"DRAFAY\",\"qty\":1}]},{\"Id\":\"DIBM\",\"name\":\"\\u7537\\u5305\",\"qty\":70,\"nodes\":[{\"Id\":\"DIBMYI\",\"qty\":31},{\"Id\":\"DIBMXF\",\"qty\":13},{\"Id\":\"DIBMG5\",\"qty\":11},{\"Id\":\"DIBM3G\",\"qty\":5},{\"Id\":\"DIBMAM\",\"qty\":3},{\"Id\":\"DIBMQ1\",\"qty\":3},{\"Id\":\"DIBMYN\",\"qty\":2},{\"Id\":\"DIBMMA\",\"qty\":1},{\"Id\":\"DIBMYJ\",\"qty\":1}]},{\"Id\":\"DCAY\",\"name\":\"\\u8033\\u3000\\u3000\\u6a5f\",\"qty\":67,\"nodes\":[{\"Id\":\"DCAYJI\",\"qty\":19},{\"Id\":\"DCAYBD\",\"qty\":5},{\"Id\":\"DCAY5W\",\"qty\":4},{\"Id\":\"DCAYEB\",\"qty\":4},{\"Id\":\"DCAYEC\",\"qty\":3},{\"Id\":\"DCAY08\",\"qty\":2},{\"Id\":\"DCAY0R\",\"qty\":2},{\"Id\":\"DCAY0S\",\"qty\":2},{\"Id\":\"DCAY1Q\",\"qty\":2},{\"Id\":\"DCAY1R\",\"qty\":2},{\"Id\":\"DCAY1W\",\"qty\":2},{\"Id\":\"DCAY8X\",\"qty\":2},{\"Id\":\"DCAYAF\",\"qty\":2},{\"Id\":\"DCAYBL\",\"qty\":2},{\"Id\":\"DCAYMQ\",\"qty\":2},{\"Id\":\"DCAYP8\",\"qty\":2},{\"Id\":\"DCAY3J\",\"qty\":1},{\"Id\":\"DCAY4Y\",\"qty\":1},{\"Id\":\"DCAY69\",\"qty\":1},{\"Id\":\"DCAY8P\",\"qty\":1},{\"Id\":\"DCAYBS\",\"qty\":1},{\"Id\":\"DCAYLK\",\"qty\":1},{\"Id\":\"DCAYMJ\",\"qty\":1},{\"Id\":\"DCAYMP\",\"qty\":1},{\"Id\":\"DCAYN4\",\"qty\":1},{\"Id\":\"DCAYOB\",\"qty\":1}]},{\"Id\":\"DSAE\",\"name\":\"\\u96fb\\u3000\\u8166\\u3000\\u8edf\\u3000\\u9ad4\",\"qty\":63,\"nodes\":[{\"Id\":\"DSAEC7\",\"qty\":9},{\"Id\":\"DSAE9D\",\"qty\":6},{\"Id\":\"DSAE9G\",\"qty\":6},{\"Id\":\"DSAEA4\",\"qty\":6},{\"Id\":\"DSAEE2\",\"qty\":5},{\"Id\":\"DSAEDO\",\"qty\":4},{\"Id\":\"DSAEAI\",\"qty\":3},{\"Id\":\"DSAECF\",\"qty\":3},{\"Id\":\"DSAECS\",\"qty\":3},{\"Id\":\"DSAEC3\",\"qty\":2},{\"Id\":\"DSAECN\",\"qty\":2},{\"Id\":\"DSAECP\",\"qty\":2},{\"Id\":\"DSAE0L\",\"qty\":1},{\"Id\":\"DSAE2G\",\"qty\":1},{\"Id\":\"DSAE9E\",\"qty\":1},{\"Id\":\"DSAEA9\",\"qty\":1},{\"Id\":\"DSAEB1\",\"qty\":1},{\"Id\":\"DSAEBW\",\"qty\":1},{\"Id\":\"DSAEBZ\",\"qty\":1},{\"Id\":\"DSAEC8\",\"qty\":1},{\"Id\":\"DSAEC9\",\"qty\":1},{\"Id\":\"DSAECR\",\"qty\":1},{\"Id\":\"DSAEDT\",\"qty\":1},{\"Id\":\"DSAEDV\",\"qty\":1}]},{\"Id\":\"DRAA\",\"name\":\"\\u5916\\u63a5\\u786c\\u789f\",\"qty\":60,\"nodes\":[{\"Id\":\"DRAA6H\",\"qty\":22},{\"Id\":\"DRAA6E\",\"qty\":15},{\"Id\":\"DRAA1V\",\"qty\":10},{\"Id\":\"DRAA6T\",\"qty\":5},{\"Id\":\"DRAA70\",\"qty\":2},{\"Id\":\"DRAA7Y\",\"qty\":2},{\"Id\":\"DRAA00\",\"qty\":1},{\"Id\":\"DRAA4Y\",\"qty\":1},{\"Id\":\"DRAA6F\",\"qty\":1},{\"Id\":\"DRAA7W\",\"qty\":1}]},{\"Id\":\"DCAH\",\"name\":\"\\u9375\\u3000\\u3000\\u76e4\",\"qty\":58,\"nodes\":[{\"Id\":\"DCAH55\",\"qty\":9},{\"Id\":\"DCAHFA\",\"qty\":9},{\"Id\":\"DCAH0L\",\"qty\":7},{\"Id\":\"DCAH10\",\"qty\":4},{\"Id\":\"DCAH2O\",\"qty\":4},{\"Id\":\"DCAH7H\",\"qty\":4},{\"Id\":\"DCAH58\",\"qty\":3},{\"Id\":\"DCAHAP\",\"qty\":3},{\"Id\":\"DCAH18\",\"qty\":2},{\"Id\":\"DCAH6G\",\"qty\":2},{\"Id\":\"DCAHEL\",\"qty\":2},{\"Id\":\"DCAHH6\",\"qty\":2},{\"Id\":\"DCAH11\",\"qty\":1},{\"Id\":\"DCAH3Q\",\"qty\":1},{\"Id\":\"DCAH98\",\"qty\":1},{\"Id\":\"DCAHAM\",\"qty\":1},{\"Id\":\"DCAHBC\",\"qty\":1},{\"Id\":\"DCAHDO\",\"qty\":1},{\"Id\":\"DCAHI7\",\"qty\":1}]},{\"Id\":\"DCAB\",\"name\":\"\\u5145\\u96fb\\uff0f\\u96fb\\u6c60\",\"qty\":55,\"nodes\":[{\"Id\":\"DCABHT\",\"qty\":15},{\"Id\":\"DCABI4\",\"qty\":13},{\"Id\":\"DCABLN\",\"qty\":8},{\"Id\":\"DCABIX\",\"qty\":5},{\"Id\":\"DCABIC\",\"qty\":4},{\"Id\":\"DCABJF\",\"qty\":4},{\"Id\":\"DCABIE\",\"qty\":2},{\"Id\":\"DCABI0\",\"qty\":1},{\"Id\":\"DCABIJ\",\"qty\":1},{\"Id\":\"DCABJB\",\"qty\":1},{\"Id\":\"DCABJE\",\"qty\":1}]},{\"Id\":\"DCAO\",\"name\":\"\\u9632\\u3000\\u6bd2\\u3000\\u8edf\\u3000\\u9ad4\",\"qty\":55,\"nodes\":[{\"Id\":\"DCAO26\",\"qty\":23},{\"Id\":\"DCAO11\",\"qty\":12},{\"Id\":\"DCAO3U\",\"qty\":11},{\"Id\":\"DCAO0C\",\"qty\":7},{\"Id\":\"DCAO1I\",\"qty\":1},{\"Id\":\"DCAO3Q\",\"qty\":1}]},{\"Id\":\"DCAV\",\"name\":\"\\u624b\\u5beb\\uff0f\\u7e6a\\u5716\\u677f\",\"qty\":51,\"nodes\":[{\"Id\":\"DCAV1T\",\"qty\":13},{\"Id\":\"DCAV21\",\"qty\":11},{\"Id\":\"DCAV2R\",\"qty\":9},{\"Id\":\"DCAV2V\",\"qty\":3},{\"Id\":\"DCAV3R\",\"qty\":3},{\"Id\":\"DCAV0D\",\"qty\":2},{\"Id\":\"DCAV0G\",\"qty\":2},{\"Id\":\"DCAV0I\",\"qty\":2},{\"Id\":\"DCAV30\",\"qty\":2},{\"Id\":\"DCAV44\",\"qty\":2},{\"Id\":\"DCAV1A\",\"qty\":1},{\"Id\":\"DCAV2Z\",\"qty\":1}]},{\"Id\":\"DGAG\",\"name\":\"\\u8a18\\u61b6\\u5361\",\"qty\":50,\"nodes\":[{\"Id\":\"DGAG08\",\"qty\":13},{\"Id\":\"DGAG9P\",\"qty\":11},{\"Id\":\"DGAG0N\",\"qty\":8},{\"Id\":\"DGAG8O\",\"qty\":5},{\"Id\":\"DGAG0H\",\"qty\":2},{\"Id\":\"DGAG11\",\"qty\":2},{\"Id\":\"DGAG2F\",\"qty\":2},{\"Id\":\"DGAG6X\",\"qty\":2},{\"Id\":\"DGAG2D\",\"qty\":1},{\"Id\":\"DGAG2E\",\"qty\":1},{\"Id\":\"DGAG4J\",\"qty\":1},{\"Id\":\"DGAG6S\",\"qty\":1},{\"Id\":\"DGAG70\",\"qty\":1}]},{\"Id\":\"DRAB\",\"name\":\"\\u5167\\u63a5\\u786c\\u789f\",\"qty\":42,\"nodes\":[{\"Id\":\"DRAB5O\",\"qty\":9},{\"Id\":\"DRAB4E\",\"qty\":6},{\"Id\":\"DRAB5S\",\"qty\":4},{\"Id\":\"DRAB0S\",\"qty\":3},{\"Id\":\"DRAB6L\",\"qty\":3},{\"Id\":\"DRAB0T\",\"qty\":2},{\"Id\":\"DRAB1X\",\"qty\":2},{\"Id\":\"DRAB2H\",\"qty\":2},{\"Id\":\"DRAB2U\",\"qty\":2},{\"Id\":\"DRAB31\",\"qty\":2},{\"Id\":\"DRAB5R\",\"qty\":2},{\"Id\":\"DRAB5U\",\"qty\":2},{\"Id\":\"DRAB1L\",\"qty\":1},{\"Id\":\"DRAB4C\",\"qty\":1},{\"Id\":\"DRAB6N\",\"qty\":1}]},{\"Id\":\"DYAO\",\"name\":\"Qi\\/\\u884c\\u52d5\\u96fb\\u6e90\",\"qty\":40,\"nodes\":[{\"Id\":\"DYAO6G\",\"qty\":13},{\"Id\":\"DYAO8Z\",\"qty\":4},{\"Id\":\"DYAO9C\",\"qty\":4},{\"Id\":\"DYAO40\",\"qty\":3},{\"Id\":\"DYAO46\",\"qty\":3},{\"Id\":\"DYAOA2\",\"qty\":3},{\"Id\":\"DYAO2J\",\"qty\":2},{\"Id\":\"DYAO1Q\",\"qty\":1},{\"Id\":\"DYAO20\",\"qty\":1},{\"Id\":\"DYAO21\",\"qty\":1},{\"Id\":\"DYAO44\",\"qty\":1},{\"Id\":\"DYAO47\",\"qty\":1},{\"Id\":\"DYAO7E\",\"qty\":1},{\"Id\":\"DYAO8C\",\"qty\":1},{\"Id\":\"DYAOA3\",\"qty\":1}]},{\"Id\":\"DRAG\",\"name\":\"\\u7db2\\u8def\\u786c\\u789f\",\"qty\":40,\"nodes\":[{\"Id\":\"DRAG80\",\"qty\":10},{\"Id\":\"DRAG9J\",\"qty\":5},{\"Id\":\"DRAG3P\",\"qty\":4},{\"Id\":\"DRAG3S\",\"qty\":4},{\"Id\":\"DRAG4J\",\"qty\":3},{\"Id\":\"DRAG6J\",\"qty\":3},{\"Id\":\"DRAGAA\",\"qty\":3},{\"Id\":\"DRAG0I\",\"qty\":2},{\"Id\":\"DRAG0J\",\"qty\":2},{\"Id\":\"DRAG3Z\",\"qty\":2},{\"Id\":\"DRAG05\",\"qty\":1},{\"Id\":\"DRAG3F\",\"qty\":1}]},{\"Id\":\"DSAJ\",\"name\":\"\\u4e3b\\u6a5f\\u677f\",\"qty\":32,\"nodes\":[{\"Id\":\"DSAJ45\",\"qty\":30},{\"Id\":\"DSAJ44\",\"qty\":1},{\"Id\":\"DSAJ76\",\"qty\":1}]},{\"Id\":\"DCAN\",\"name\":\"\\u6ed1\\u3000\\u3000\\u9f20\",\"qty\":32,\"nodes\":[{\"Id\":\"DCAN2Q\",\"qty\":5},{\"Id\":\"DCAN8Y\",\"qty\":5},{\"Id\":\"DCANIH\",\"qty\":5},{\"Id\":\"DCAN33\",\"qty\":3},{\"Id\":\"DCAN3U\",\"qty\":3},{\"Id\":\"DCAN8G\",\"qty\":3},{\"Id\":\"DCANAR\",\"qty\":2},{\"Id\":\"DCAN2P\",\"qty\":1},{\"Id\":\"DCAN2S\",\"qty\":1},{\"Id\":\"DCAN3G\",\"qty\":1},{\"Id\":\"DCAN6Z\",\"qty\":1},{\"Id\":\"DCANA0\",\"qty\":1},{\"Id\":\"DCANIE\",\"qty\":1}]},{\"Id\":\"DMAF\",\"name\":\"\\u97f3\\u97ff\\/\\u6a02\\u5668\",\"qty\":25,\"nodes\":[{\"Id\":\"DMAF5Y\",\"qty\":11},{\"Id\":\"DMAF56\",\"qty\":3},{\"Id\":\"DMAFCV\",\"qty\":3},{\"Id\":\"DMAFDF\",\"qty\":2},{\"Id\":\"DMAF5X\",\"qty\":1},{\"Id\":\"DMAFBA\",\"qty\":1},{\"Id\":\"DMAFCT\",\"qty\":1},{\"Id\":\"DMAFD0\",\"qty\":1},{\"Id\":\"DMAFDM\",\"qty\":1},{\"Id\":\"DMAFDN\",\"qty\":1}]},{\"Id\":\"DCBB\",\"name\":\"\\u8fa6\\u516c\\u50a2\\u4ff1\",\"qty\":25,\"nodes\":[{\"Id\":\"DCBB03\",\"qty\":9},{\"Id\":\"DCBB66\",\"qty\":7},{\"Id\":\"DCBB06\",\"qty\":5},{\"Id\":\"DCBB4L\",\"qty\":3},{\"Id\":\"DCBB69\",\"qty\":1}]},{\"Id\":\"DCAG\",\"name\":\"Targus\",\"qty\":21,\"nodes\":[{\"Id\":\"DCAGOD\",\"qty\":10},{\"Id\":\"DCAGMV\",\"qty\":8},{\"Id\":\"DCAGOC\",\"qty\":3}]},{\"Id\":\"DCAW\",\"name\":\"\\u96f7\\u5c04\\u5370\\u8868\\u6a5f\",\"qty\":20,\"nodes\":[{\"Id\":\"DCAW1P\",\"qty\":5},{\"Id\":\"DCAW47\",\"qty\":3},{\"Id\":\"DCAW09\",\"qty\":2},{\"Id\":\"DCAW0A\",\"qty\":2},{\"Id\":\"DCAW1D\",\"qty\":2},{\"Id\":\"DCAW50\",\"qty\":2},{\"Id\":\"DCAW2J\",\"qty\":1},{\"Id\":\"DCAW39\",\"qty\":1},{\"Id\":\"DCAW3F\",\"qty\":1},{\"Id\":\"DCAW3Y\",\"qty\":1}]},{\"Id\":\"DSAF\",\"name\":\"\\u6e05\\u5009\",\"qty\":20,\"nodes\":[{\"Id\":\"DSAF25\",\"qty\":19},{\"Id\":\"DSAF26\",\"qty\":1}]},{\"Id\":\"DIBF\",\"name\":\"\\u5973\\u5305\\/\\u89aa\\u5b50\\u5305\",\"qty\":20,\"nodes\":[{\"Id\":\"DIBF5D\",\"qty\":10},{\"Id\":\"DIBFRD\",\"qty\":8},{\"Id\":\"DIBF2R\",\"qty\":2}]},{\"Id\":\"DGBX\",\"name\":\"\\u5c08\\u696d\\u651d\\u5f71\\u5305\",\"qty\":19,\"nodes\":[{\"Id\":\"DGBX7J\",\"qty\":7},{\"Id\":\"DGBX0O\",\"qty\":2},{\"Id\":\"DGBX0R\",\"qty\":2},{\"Id\":\"DGBX3B\",\"qty\":2},{\"Id\":\"DGBX19\",\"qty\":1},{\"Id\":\"DGBX1O\",\"qty\":1},{\"Id\":\"DGBX2E\",\"qty\":1},{\"Id\":\"DGBX2G\",\"qty\":1},{\"Id\":\"DGBX34\",\"qty\":1},{\"Id\":\"DGBX3X\",\"qty\":1}]},{\"Id\":\"DEAE\",\"name\":\"\\u8da3\\u5473\",\"qty\":17,\"nodes\":[{\"Id\":\"DEAEBT\",\"qty\":16},{\"Id\":\"DEAE9R\",\"qty\":1}]},{\"Id\":\"DEAL\",\"name\":\"\\u8a2d\\u8a08\\u54c1\",\"qty\":15,\"nodes\":[{\"Id\":\"DEALD8\",\"qty\":8},{\"Id\":\"DEAL2R\",\"qty\":4},{\"Id\":\"DEAL83\",\"qty\":1},{\"Id\":\"DEAL9B\",\"qty\":1},{\"Id\":\"DEALDI\",\"qty\":1}]},{\"Id\":\"DHAY\",\"name\":\"\\u5fae\\u8edfSurface\",\"qty\":15,\"nodes\":[{\"Id\":\"DHAY1M\",\"qty\":15}]},{\"Id\":\"DRAC\",\"name\":\"\\u8a18\\u61b6\\u9ad4\",\"qty\":13,\"nodes\":[{\"Id\":\"DRAC8F\",\"qty\":5},{\"Id\":\"DRAC6V\",\"qty\":3},{\"Id\":\"DRAC7A\",\"qty\":3},{\"Id\":\"DRAC13\",\"qty\":1},{\"Id\":\"DRAC5D\",\"qty\":1}]},{\"Id\":\"DYAG\",\"name\":\"Android\\u6bbc\\/\\u5957\",\"qty\":13,\"nodes\":[{\"Id\":\"DYAG1K\",\"qty\":10},{\"Id\":\"DYAG0Q\",\"qty\":1},{\"Id\":\"DYAG1J\",\"qty\":1},{\"Id\":\"DYAG4R\",\"qty\":1}]},{\"Id\":\"DSBA\",\"name\":\"D-Link\",\"qty\":13,\"nodes\":[{\"Id\":\"DSBA0W\",\"qty\":5},{\"Id\":\"DSBA06\",\"qty\":3},{\"Id\":\"DSBA0S\",\"qty\":2},{\"Id\":\"DSBA0V\",\"qty\":2},{\"Id\":\"DSBA39\",\"qty\":1}]},{\"Id\":\"DSAB\",\"name\":\"LCD\\u87a2\\u5e55\",\"qty\":13,\"nodes\":[{\"Id\":\"DSABA8\",\"qty\":5},{\"Id\":\"DSABA2\",\"qty\":3},{\"Id\":\"DSABBM\",\"qty\":3},{\"Id\":\"DSAB93\",\"qty\":2}]},{\"Id\":\"DYAQ\",\"name\":\"\\u85cd\\u7259\\u8033\\u6a5f\",\"qty\":12,\"nodes\":[{\"Id\":\"DYAQBC\",\"qty\":4},{\"Id\":\"DYAQ7T\",\"qty\":3},{\"Id\":\"DYAQ45\",\"qty\":1},{\"Id\":\"DYAQ5H\",\"qty\":1},{\"Id\":\"DYAQ5I\",\"qty\":1},{\"Id\":\"DYAQ9D\",\"qty\":1},{\"Id\":\"DYAQE4\",\"qty\":1}]},{\"Id\":\"DPAE\",\"name\":\"\\u6295\\u5f71\\u6a5f.\",\"qty\":12,\"nodes\":[{\"Id\":\"DPAE2K\",\"qty\":3},{\"Id\":\"DPAE2L\",\"qty\":3},{\"Id\":\"DPAE2N\",\"qty\":2},{\"Id\":\"DPAE0D\",\"qty\":1},{\"Id\":\"DPAE16\",\"qty\":1},{\"Id\":\"DPAE18\",\"qty\":1},{\"Id\":\"DPAE57\",\"qty\":1}]},{\"Id\":\"DGCF\",\"name\":\"\\u651d\\u9304\\u5f71\\u5668\\u6750\",\"qty\":11,\"nodes\":[{\"Id\":\"DGCF1S\",\"qty\":3},{\"Id\":\"DGCF30\",\"qty\":3},{\"Id\":\"DGCF2I\",\"qty\":2},{\"Id\":\"DGCF07\",\"qty\":1},{\"Id\":\"DGCF1K\",\"qty\":1},{\"Id\":\"DGCF1Q\",\"qty\":1}]},{\"Id\":\"DECD\",\"name\":\"\\u71df\\u696d\\u8a2d\\u5099\",\"qty\":11,\"nodes\":[{\"Id\":\"DECD4V\",\"qty\":7},{\"Id\":\"DECD3Z\",\"qty\":4}]},{\"Id\":\"DGBJ\",\"name\":\"\\u96fb\\u73a9\\/\\u904a\\u6232\",\"qty\":11,\"nodes\":[{\"Id\":\"DGBJ8R\",\"qty\":5},{\"Id\":\"DGBJA8\",\"qty\":3},{\"Id\":\"DGBJC0\",\"qty\":3}]},{\"Id\":\"DEAN\",\"name\":\"\\u8a2d\\u8a08\\u50a2\\u4ff1\",\"qty\":11,\"nodes\":[{\"Id\":\"DEAN3W\",\"qty\":11}]},{\"Id\":\"DCAI\",\"name\":\"\\u5587\\u3000\\u3000\\u53ed\",\"qty\":10,\"nodes\":[{\"Id\":\"DCAIJR\",\"qty\":4},{\"Id\":\"DCAIAL\",\"qty\":2},{\"Id\":\"DCAIE1\",\"qty\":2},{\"Id\":\"DCAI9E\",\"qty\":1},{\"Id\":\"DCAIFW\",\"qty\":1}]},{\"Id\":\"DICD\",\"name\":\"\\u65c5\\u904a\\u7528\\u54c1\",\"qty\":10,\"nodes\":[{\"Id\":\"DICD07\",\"qty\":9},{\"Id\":\"DICD8X\",\"qty\":1}]},{\"Id\":\"DCAA\",\"name\":\"\\u5149\\u789f\\u7247\\uff0f\\u71d2\\u9304\\u6a5f\",\"qty\":7,\"nodes\":[{\"Id\":\"DCAA3C\",\"qty\":3},{\"Id\":\"DCAA45\",\"qty\":2},{\"Id\":\"DCAA42\",\"qty\":1},{\"Id\":\"DCAA4O\",\"qty\":1}]},{\"Id\":\"DEAF\",\"name\":\"\\u66f8\\u5beb\\u7e6a\",\"qty\":7,\"nodes\":[{\"Id\":\"DEAFAD\",\"qty\":3},{\"Id\":\"DEAFA3\",\"qty\":2},{\"Id\":\"DEAFJU\",\"qty\":2}]},{\"Id\":\"DEBV\",\"name\":\"\\u5bf5\\u7269\\u98df\\u54c1\",\"qty\":6,\"nodes\":[{\"Id\":\"DEBV7V\",\"qty\":6}]},{\"Id\":\"DICF\",\"name\":\"\\u6a5f\\u80fd\\u670d\\/\\u914d\\u4ef6\",\"qty\":5,\"nodes\":[{\"Id\":\"DICFVH\",\"qty\":5}]},{\"Id\":\"DDAF\",\"name\":\"\\u91ab\\u7f8e\\u4fdd\\u990a\",\"qty\":5,\"nodes\":[{\"Id\":\"DDAFOS\",\"qty\":5}]},{\"Id\":\"DCBD\",\"name\":\"\\u4f01\\u696d\\u5c08\\u5340\",\"qty\":5,\"nodes\":[{\"Id\":\"DCBD0K\",\"qty\":5}]},{\"Id\":\"DCAS\",\"name\":\"\\u8996\\u8a0a\\u76e3\\u63a7\",\"qty\":5,\"nodes\":[{\"Id\":\"DCAS21\",\"qty\":2},{\"Id\":\"DCAS4L\",\"qty\":2},{\"Id\":\"DCAS4K\",\"qty\":1}]},{\"Id\":\"DIAC\",\"name\":\"\\u624b\\u9336\",\"qty\":4,\"nodes\":[{\"Id\":\"DIACJN\",\"qty\":4}]},{\"Id\":\"DEBL\",\"name\":\"\\u6236\\u5916\\u670d\\u98fe\",\"qty\":4,\"nodes\":[{\"Id\":\"DEBLWF\",\"qty\":2},{\"Id\":\"DEBLWG\",\"qty\":2}]},{\"Id\":\"DEAS\",\"name\":\"\\u73a9\\u5177\",\"qty\":4,\"nodes\":[{\"Id\":\"DEAS93\",\"qty\":2},{\"Id\":\"DEAS1I\",\"qty\":1},{\"Id\":\"DEAS9A\",\"qty\":1}]},{\"Id\":\"DEBU\",\"name\":\"\\u8fa6\\u516c\\u7528\\u54c1\",\"qty\":3,\"nodes\":[{\"Id\":\"DEBUJB\",\"qty\":2},{\"Id\":\"DEBUIM\",\"qty\":1}]},{\"Id\":\"DGCI\",\"name\":\"\\u904b\\u52d5\\/\\u651d\\u5f71\\u6a5f\",\"qty\":3,\"nodes\":[{\"Id\":\"DGCI30\",\"qty\":1},{\"Id\":\"DGCI33\",\"qty\":1},{\"Id\":\"DGCI34\",\"qty\":1}]},{\"Id\":\"DEAC\",\"name\":\"\\u4fee\\u7e55\",\"qty\":3,\"nodes\":[{\"Id\":\"DEACGL\",\"qty\":2},{\"Id\":\"DEAC0D\",\"qty\":1}]},{\"Id\":\"DEAD\",\"name\":\"\\u6c7d\\u8eca\\u767e\\u8ca8\",\"qty\":3,\"nodes\":[{\"Id\":\"DEADCG\",\"qty\":3}]},{\"Id\":\"DDAT\",\"name\":\"\\u5f69\\u3000\\u599d\",\"qty\":3,\"nodes\":[{\"Id\":\"DDATB7\",\"qty\":3}]},{\"Id\":\"DEAH\",\"name\":\"\\u6587\\u5177\",\"qty\":3,\"nodes\":[{\"Id\":\"DEAHZN\",\"qty\":3}]},{\"Id\":\"DSAO\",\"name\":\"\\u5ef6\\u3000\\u9577\\u3000\\u7dda\",\"qty\":3,\"nodes\":[{\"Id\":\"DSAO0H\",\"qty\":3}]},{\"Id\":\"DXAA\",\"name\":\"\\u8eca\\u7528\\u96fb\\u5b50\",\"qty\":2,\"nodes\":[{\"Id\":\"DXAA5P\",\"qty\":2}]},{\"Id\":\"DYAL\",\"name\":\"\\u4e09\\u661f\\u65d7\\u8266\\u9928\",\"qty\":2,\"nodes\":[{\"Id\":\"DYAL7B\",\"qty\":2}]},{\"Id\":\"DICK\",\"name\":\"\\u540d\\u54c1\\u7cbe\\u54c1\",\"qty\":2,\"nodes\":[{\"Id\":\"DICK2V\",\"qty\":2}]},{\"Id\":\"DEAW\",\"name\":\"\\u934b\\u5177\",\"qty\":1,\"nodes\":[{\"Id\":\"DEAWE6\",\"qty\":1}]},{\"Id\":\"DEAI\",\"name\":\"\\u5a66\\u5e7c\",\"qty\":1,\"nodes\":[{\"Id\":\"DEAIUP\",\"qty\":1}]},{\"Id\":\"DEAB\",\"name\":\"\\u50a2\\u4ff1\\u684c\\u6905\",\"qty\":1,\"nodes\":[{\"Id\":\"DEAB5U\",\"qty\":1}]},{\"Id\":\"DDBX\",\"name\":\"\\u6c99\\u9f8d\\u9aee\\u54c1\",\"qty\":1,\"nodes\":[{\"Id\":\"DDBXCJ\",\"qty\":1}]},{\"Id\":\"DEBD\",\"name\":\"\\u71c8\\u98fe\",\"qty\":1,\"nodes\":[{\"Id\":\"DEBD13\",\"qty\":1}]},{\"Id\":\"DEBM\",\"name\":\"\\u9910\\u5177\",\"qty\":1,\"nodes\":[{\"Id\":\"DEBMB8\",\"qty\":1}]},{\"Id\":\"DGCR\",\"name\":\"\\u5c08\\u696d\\u651d\\u5f71\\u8173\\u67b6\",\"qty\":1,\"nodes\":[{\"Id\":\"DGCR1B\",\"qty\":1}]},{\"Id\":\"DGAF\",\"name\":\"MP3\\/\\u9304\\u97f3\\u7b46\",\"qty\":1,\"nodes\":[{\"Id\":\"DGAF0L\",\"qty\":1}]},{\"Id\":\"DEBW\",\"name\":\"\\u676f\\u74f6\\u58fa\",\"qty\":1,\"nodes\":[{\"Id\":\"DEBW9E\",\"qty\":1}]},{\"Id\":\"DEBQ\",\"name\":\"\\u9732\\u71df\",\"qty\":1,\"nodes\":[{\"Id\":\"DEBQ72\",\"qty\":1}]}]},{\"Id\":\"D_kdn\",\"name\":\"\\u4ee3\\u8cfc\\u670d\\u52d9\",\"qty\":3858,\"nodes\":[{\"Id\":\"DSAB_kdn\",\"name\":\"LCD\\u87a2\\u5e55\",\"qty\":550,\"nodes\":[{\"Id\":\"DSABE1_kdn\",\"qty\":528},{\"Id\":\"DSAB9Y_kdn\",\"qty\":21},{\"Id\":\"DSAB9W_kdn\",\"qty\":1}]},{\"Id\":\"DCAH_kdn\",\"name\":\"\\u9375\\u3000\\u3000\\u76e4\",\"qty\":265,\"nodes\":[{\"Id\":\"DCAH55_kdn\",\"qty\":199},{\"Id\":\"DCAH1I_kdn\",\"qty\":36},{\"Id\":\"DCAHEK_kdn\",\"qty\":29},{\"Id\":\"DCAH11_kdn\",\"qty\":1}]},{\"Id\":\"DDAT_kdn\",\"name\":\"\\u5f69\\u3000\\u599d\",\"qty\":252,\"nodes\":[{\"Id\":\"DDATAJ_kdn\",\"qty\":112},{\"Id\":\"DDATEJ_kdn\",\"qty\":54},{\"Id\":\"DDATCC_kdn\",\"qty\":32},{\"Id\":\"DDATAL_kdn\",\"qty\":26},{\"Id\":\"DDATAK_kdn\",\"qty\":22},{\"Id\":\"DDAT5J_kdn\",\"qty\":3},{\"Id\":\"DDATH6_kdn\",\"qty\":2},{\"Id\":\"DDAT7K_kdn\",\"qty\":1}]},{\"Id\":\"DICM_kdn\",\"name\":\"\\u96fb\\u8166\\u5546\\u52d9\\u5305\",\"qty\":242,\"nodes\":[{\"Id\":\"DICM75_kdn\",\"qty\":242}]},{\"Id\":\"DYAH_kdn\",\"name\":\"\\u4fdd\\u8b77\\u8cbc\",\"qty\":232,\"nodes\":[{\"Id\":\"DYAH16_kdn\",\"qty\":230},{\"Id\":\"DYAH2O_kdn\",\"qty\":2}]},{\"Id\":\"DEBU_kdn\",\"name\":\"\\u8fa6\\u516c\\u7528\\u54c1\",\"qty\":212,\"nodes\":[{\"Id\":\"DEBUJB_kdn\",\"qty\":135},{\"Id\":\"DEBUCZ_kdn\",\"qty\":50},{\"Id\":\"DEBULO_kdn\",\"qty\":20},{\"Id\":\"DEBUA3_kdn\",\"qty\":7}]},{\"Id\":\"DXAG_kdn\",\"name\":\"\\u7403\\u985e\",\"qty\":201,\"nodes\":[{\"Id\":\"DXAG1O_kdn\",\"qty\":133},{\"Id\":\"DXAG14_kdn\",\"qty\":28},{\"Id\":\"DXAG6X_kdn\",\"qty\":28},{\"Id\":\"DXAG19_kdn\",\"qty\":9},{\"Id\":\"DXAG1W_kdn\",\"qty\":3}]},{\"Id\":\"DSAE_kdn\",\"name\":\"\\u96fb\\u3000\\u8166\\u3000\\u8edf\\u3000\\u9ad4\",\"qty\":168,\"nodes\":[{\"Id\":\"DSAE29_kdn\",\"qty\":53},{\"Id\":\"DSAE3U_kdn\",\"qty\":39},{\"Id\":\"DSAE2K_kdn\",\"qty\":21},{\"Id\":\"DSAEBC_kdn\",\"qty\":20},{\"Id\":\"DSAEBV_kdn\",\"qty\":16},{\"Id\":\"DSAE6S_kdn\",\"qty\":10},{\"Id\":\"DSAE0L_kdn\",\"qty\":8},{\"Id\":\"DSAE2C_kdn\",\"qty\":1}]},{\"Id\":\"DEAH_kdn\",\"name\":\"\\u6587\\u5177\",\"qty\":167,\"nodes\":[{\"Id\":\"DEAHXH_kdn\",\"qty\":101},{\"Id\":\"DEAH08_kdn\",\"qty\":53},{\"Id\":\"DEAH39_kdn\",\"qty\":10},{\"Id\":\"DEAHM2_kdn\",\"qty\":2},{\"Id\":\"DEAH11_kdn\",\"qty\":1}]},{\"Id\":\"DYAF_kdn\",\"name\":\"\\u624b\\u6a5f\\/\\u5e73\\u677f\\u5468\\u908a\",\"qty\":140,\"nodes\":[{\"Id\":\"DYAF1Y_kdn\",\"qty\":139},{\"Id\":\"DYAFC3_kdn\",\"qty\":1}]},{\"Id\":\"DIBF_kdn\",\"name\":\"\\u5973\\u5305\\/\\u89aa\\u5b50\\u5305\",\"qty\":138,\"nodes\":[{\"Id\":\"DIBF5O_kdn\",\"qty\":100},{\"Id\":\"DIBFI8_kdn\",\"qty\":25},{\"Id\":\"DIBF2R_kdn\",\"qty\":7},{\"Id\":\"DIBF8Q_kdn\",\"qty\":4},{\"Id\":\"DIBF2N_kdn\",\"qty\":2}]},{\"Id\":\"DYAM_kdn\",\"name\":\"\\u5e73\\u677f\\u96fb\\u8166\",\"qty\":138,\"nodes\":[{\"Id\":\"DYAM1X_kdn\",\"qty\":138}]},{\"Id\":\"DCAC_kdn\",\"name\":\"\\u7dda\\u3000\\u3000\\u6750\",\"qty\":132,\"nodes\":[{\"Id\":\"DCACCO_kdn\",\"qty\":118},{\"Id\":\"DCACXQ_kdn\",\"qty\":14}]},{\"Id\":\"DIBM_kdn\",\"name\":\"\\u7537\\u5305\",\"qty\":115,\"nodes\":[{\"Id\":\"DIBMAR_kdn\",\"qty\":53},{\"Id\":\"DIBME2_kdn\",\"qty\":37},{\"Id\":\"DIBM3G_kdn\",\"qty\":7},{\"Id\":\"DIBME4_kdn\",\"qty\":7},{\"Id\":\"DIBMDD_kdn\",\"qty\":5},{\"Id\":\"DIBMUZ_kdn\",\"qty\":2},{\"Id\":\"DIBMWO_kdn\",\"qty\":2},{\"Id\":\"DIBMJD_kdn\",\"qty\":1},{\"Id\":\"DIBMTK_kdn\",\"qty\":1}]},{\"Id\":\"DEAC_kdn\",\"name\":\"\\u4fee\\u7e55\",\"qty\":112,\"nodes\":[{\"Id\":\"DEAC8R_kdn\",\"qty\":94},{\"Id\":\"DEAC8P_kdn\",\"qty\":16},{\"Id\":\"DEAC8F_kdn\",\"qty\":1},{\"Id\":\"DEACDO_kdn\",\"qty\":1}]},{\"Id\":\"DSAA_kdn\",\"name\":\"\\u684c\\u4e0a\\u96fb\\u8166\",\"qty\":90,\"nodes\":[{\"Id\":\"DSAA92_kdn\",\"qty\":90}]},{\"Id\":\"DCAD_kdn\",\"name\":\"USB\\u5468\\u908a\",\"qty\":81,\"nodes\":[{\"Id\":\"DCAD57_kdn\",\"qty\":26},{\"Id\":\"DCAD6E_kdn\",\"qty\":26},{\"Id\":\"DCADL4_kdn\",\"qty\":20},{\"Id\":\"DCADIL_kdn\",\"qty\":9}]},{\"Id\":\"DEAG_kdn\",\"name\":\"\\u9910\\u5eda\",\"qty\":71,\"nodes\":[{\"Id\":\"DEAGHK_kdn\",\"qty\":71}]},{\"Id\":\"DRAE_kdn\",\"name\":\"\\u96fb\\u8166\\u6a5f\\u6bbc\",\"qty\":66,\"nodes\":[{\"Id\":\"DRAE3H_kdn\",\"qty\":66}]},{\"Id\":\"DRAA_kdn\",\"name\":\"\\u5916\\u63a5\\u786c\\u789f\",\"qty\":60,\"nodes\":[{\"Id\":\"DRAA6E_kdn\",\"qty\":60}]},{\"Id\":\"DMAF_kdn\",\"name\":\"\\u97f3\\u97ff\\/\\u6a02\\u5668\",\"qty\":57,\"nodes\":[{\"Id\":\"DMAFDN_kdn\",\"qty\":17},{\"Id\":\"DMAFD0_kdn\",\"qty\":14},{\"Id\":\"DMAFDF_kdn\",\"qty\":13},{\"Id\":\"DMAF9G_kdn\",\"qty\":11},{\"Id\":\"DMAFD3_kdn\",\"qty\":1},{\"Id\":\"DMAFE5_kdn\",\"qty\":1}]},{\"Id\":\"DEBL_kdn\",\"name\":\"\\u6236\\u5916\\u670d\\u98fe\",\"qty\":46,\"nodes\":[{\"Id\":\"DEBLWA_kdn\",\"qty\":46}]},{\"Id\":\"DGCD_kdn\",\"name\":\"\\u96a8\\u8eab\\u789f\",\"qty\":40,\"nodes\":[{\"Id\":\"DGCD0R_kdn\",\"qty\":24},{\"Id\":\"DGCD1K_kdn\",\"qty\":16}]},{\"Id\":\"DCAA_kdn\",\"name\":\"\\u5149\\u789f\\u7247\\uff0f\\u71d2\\u9304\\u6a5f\",\"qty\":32,\"nodes\":[{\"Id\":\"DCAA40_kdn\",\"qty\":16},{\"Id\":\"DCAA42_kdn\",\"qty\":10},{\"Id\":\"DCAA2Q_kdn\",\"qty\":6}]},{\"Id\":\"DAAM_kdn\",\"name\":\"\\u81c9\\u90e8\\u5c08\\u5340\",\"qty\":26,\"nodes\":[{\"Id\":\"DAAM0J_kdn\",\"qty\":10},{\"Id\":\"DAAM0F_kdn\",\"qty\":9},{\"Id\":\"DAAM0H_kdn\",\"qty\":3},{\"Id\":\"DAAM6F_kdn\",\"qty\":3},{\"Id\":\"DAAM0E_kdn\",\"qty\":1}]},{\"Id\":\"DICK_kdn\",\"name\":\"\\u540d\\u54c1\\u7cbe\\u54c1\",\"qty\":22,\"nodes\":[{\"Id\":\"DICK1R_kdn\",\"qty\":22}]},{\"Id\":\"DDAI_kdn\",\"name\":\"\\u65e5\\u7cfb\\u7f8e\\u599d\",\"qty\":21,\"nodes\":[{\"Id\":\"DDAI8T_kdn\",\"qty\":21}]},{\"Id\":\"DEAE_kdn\",\"name\":\"\\u8da3\\u5473\",\"qty\":19,\"nodes\":[{\"Id\":\"DEAE9R_kdn\",\"qty\":15},{\"Id\":\"DEAEB3_kdn\",\"qty\":2},{\"Id\":\"DEAE80_kdn\",\"qty\":1},{\"Id\":\"DEAEA9_kdn\",\"qty\":1}]},{\"Id\":\"DPAF_kdn\",\"name\":\"\\u51b7\\u6696\\u7a7a\\u8abf\",\"qty\":14,\"nodes\":[{\"Id\":\"DPAF0I_kdn\",\"qty\":14}]},{\"Id\":\"DAAY_kdn\",\"name\":\"\\u7f8e\\u3000\\u9ad4\",\"qty\":13,\"nodes\":[{\"Id\":\"DAAY3A_kdn\",\"qty\":13}]},{\"Id\":\"DEAM_kdn\",\"name\":\"\\u7a4d\\u6728\\u684c\\u904a\",\"qty\":11,\"nodes\":[{\"Id\":\"DEAM74_kdn\",\"qty\":11}]},{\"Id\":\"DRAH_kdn\",\"name\":\"SSD\",\"qty\":10,\"nodes\":[{\"Id\":\"DRAH5Z_kdn\",\"qty\":10}]},{\"Id\":\"DEBN_kdn\",\"name\":\"\\u904b\\u52d5\\u670d\",\"qty\":9,\"nodes\":[{\"Id\":\"DEBNJ8_kdn\",\"qty\":7},{\"Id\":\"DEBN8A_kdn\",\"qty\":1},{\"Id\":\"DEBNJ5_kdn\",\"qty\":1}]},{\"Id\":\"DECA_kdn\",\"name\":\"\\u96fb\\u5de5\",\"qty\":9,\"nodes\":[{\"Id\":\"DECA0E_kdn\",\"qty\":8},{\"Id\":\"DECA02_kdn\",\"qty\":1}]},{\"Id\":\"DIBP_kdn\",\"name\":\"\\u7537\\u978b\",\"qty\":9,\"nodes\":[{\"Id\":\"DIBPPW_kdn\",\"qty\":9}]},{\"Id\":\"DSAJ_kdn\",\"name\":\"\\u4e3b\\u6a5f\\u677f\",\"qty\":8,\"nodes\":[{\"Id\":\"DSAJ4U_kdn\",\"qty\":8}]},{\"Id\":\"DCAN_kdn\",\"name\":\"\\u6ed1\\u3000\\u3000\\u9f20\",\"qty\":7,\"nodes\":[{\"Id\":\"DCAN2P_kdn\",\"qty\":6},{\"Id\":\"DCAN3X_kdn\",\"qty\":1}]},{\"Id\":\"DCBA_kdn\",\"name\":\"\\u8fa6\\u516c\\u8a2d\\u5099\",\"qty\":6,\"nodes\":[{\"Id\":\"DCBA7N_kdn\",\"qty\":4},{\"Id\":\"DCBA7C_kdn\",\"qty\":2}]},{\"Id\":\"DGAD_kdn\",\"name\":\"\\u6578\\u4f4d\\u76f8\\u6a5f\\/\\u985e\\u55ae\",\"qty\":6,\"nodes\":[{\"Id\":\"DGAD6S_kdn\",\"qty\":6}]},{\"Id\":\"DXAU_kdn\",\"name\":\"\\u767b\\u5c71\\u6236\\u5916\",\"qty\":5,\"nodes\":[{\"Id\":\"DXAU8P_kdn\",\"qty\":4},{\"Id\":\"DXAU8X_kdn\",\"qty\":1}]},{\"Id\":\"DEBP_kdn\",\"name\":\"\\u5712\\u85dd\",\"qty\":5,\"nodes\":[{\"Id\":\"DEBP12_kdn\",\"qty\":4},{\"Id\":\"DEBP0G_kdn\",\"qty\":1}]},{\"Id\":\"DECE_kdn\",\"name\":\"\\u5c45\\u5b89\",\"qty\":5,\"nodes\":[{\"Id\":\"DECE1B_kdn\",\"qty\":5}]},{\"Id\":\"DRAD_kdn\",\"name\":\"\\u986f\\u793a\\u5361\",\"qty\":4,\"nodes\":[{\"Id\":\"DRADA1_kdn\",\"qty\":2},{\"Id\":\"DRADAG_kdn\",\"qty\":2}]},{\"Id\":\"DEBY_kdn\",\"name\":\"\\u5065\\u8eab\\u5668\\u6750\",\"qty\":4,\"nodes\":[{\"Id\":\"DEBYAD_kdn\",\"qty\":3},{\"Id\":\"DEBYAN_kdn\",\"qty\":1}]},{\"Id\":\"DMAL_kdn\",\"name\":\"\\u751f\\u6d3b\\u5bb6\\u96fb\",\"qty\":4,\"nodes\":[{\"Id\":\"DMALBY_kdn\",\"qty\":4}]},{\"Id\":\"DEAS_kdn\",\"name\":\"\\u73a9\\u5177\",\"qty\":3,\"nodes\":[{\"Id\":\"DEAS16_kdn\",\"qty\":2},{\"Id\":\"DEASRB_kdn\",\"qty\":1}]},{\"Id\":\"DCAY_kdn\",\"name\":\"\\u8033\\u3000\\u3000\\u6a5f\",\"qty\":3,\"nodes\":[{\"Id\":\"DCAY1R_kdn\",\"qty\":3}]},{\"Id\":\"DCAE_kdn\",\"name\":\"\\u5674\\u58a8\\u5370\\u8868\\u6a5f\",\"qty\":3,\"nodes\":[{\"Id\":\"DCAE3Q_kdn\",\"qty\":3}]},{\"Id\":\"DEAU_kdn\",\"name\":\"\\u89aa\\u5b50\\u5916\\u51fa\",\"qty\":2,\"nodes\":[{\"Id\":\"DEAU5H_kdn\",\"qty\":2}]},{\"Id\":\"DEAB_kdn\",\"name\":\"\\u50a2\\u4ff1\\u684c\\u6905\",\"qty\":2,\"nodes\":[{\"Id\":\"DEABA2_kdn\",\"qty\":2}]},{\"Id\":\"DMAU_kdn\",\"name\":\"\\u6e05\\u6de8\\u9664\\u6fd5\",\"qty\":2,\"nodes\":[{\"Id\":\"DMAU0C_kdn\",\"qty\":2}]},{\"Id\":\"DIAC_kdn\",\"name\":\"\\u624b\\u9336\",\"qty\":2,\"nodes\":[{\"Id\":\"DIACNR_kdn\",\"qty\":2}]},{\"Id\":\"DIAE_kdn\",\"name\":\"\\u98fe\\u54c1\\/\\u9020\\u578b\",\"qty\":1,\"nodes\":[{\"Id\":\"DIAEM1_kdn\",\"qty\":1}]},{\"Id\":\"DIAI_kdn\",\"name\":\"\\u7d33\\u58eb\\u7537\\u88dd\",\"qty\":1,\"nodes\":[{\"Id\":\"DIAIM1_kdn\",\"qty\":1}]},{\"Id\":\"DGCI_kdn\",\"name\":\"\\u904b\\u52d5\\/\\u651d\\u5f71\\u6a5f\",\"qty\":1,\"nodes\":[{\"Id\":\"DGCI2O_kdn\",\"qty\":1}]},{\"Id\":\"DMAB_kdn\",\"name\":\"\\u96fb\\u98a8\\u6247\",\"qty\":1,\"nodes\":[{\"Id\":\"DMAB64_kdn\",\"qty\":1}]},{\"Id\":\"DYAC_kdn\",\"name\":\"moto\\/\\u5176\\u4ed6\",\"qty\":1,\"nodes\":[{\"Id\":\"DYAC1U_kdn\",\"qty\":1}]},{\"Id\":\"DGBH_kdn\",\"name\":\"\\u76f8\\u6a5f\\u5c08\\u696d\\u914d\\u4ef6\",\"qty\":1,\"nodes\":[{\"Id\":\"DGBH0T_kdn\",\"qty\":1}]},{\"Id\":\"DPAE_kdn\",\"name\":\"\\u6295\\u5f71\\u6a5f.\",\"qty\":1,\"nodes\":[{\"Id\":\"DPAE2D_kdn\",\"qty\":1}]},{\"Id\":\"DMAE_kdn\",\"name\":\"\\u901a\\u8a0a\\u5bb6\\u96fb\",\"qty\":1,\"nodes\":[{\"Id\":\"DMAE1E_kdn\",\"qty\":1}]},{\"Id\":\"DAAA_kdn\",\"name\":\"\\u6d17\\u9aee\\u7cbe\",\"qty\":1,\"nodes\":[{\"Id\":\"DAAA09_kdn\",\"qty\":1}]},{\"Id\":\"DEAZ_kdn\",\"name\":\"\\u5bb6\\u98fe\",\"qty\":1,\"nodes\":[{\"Id\":\"DEAZLF_kdn\",\"qty\":1}]},{\"Id\":\"DEAW_kdn\",\"name\":\"\\u934b\\u5177\",\"qty\":1,\"nodes\":[{\"Id\":\"DEAW03_kdn\",\"qty\":1}]},{\"Id\":\"DEAO_kdn\",\"name\":\"\\u55ae\\u8eca\\/\\u9031\\u908a\",\"qty\":1,\"nodes\":[{\"Id\":\"DEAO00_kdn\",\"qty\":1}]},{\"Id\":\"DEBB_kdn\",\"name\":\"\\u8a18\\u9304\\u5668\\uff0fGPS\",\"qty\":1,\"nodes\":[{\"Id\":\"DEBB3I_kdn\",\"qty\":1}]},{\"Id\":\"DEBW_kdn\",\"name\":\"\\u676f\\u74f6\\u58fa\",\"qty\":1,\"nodes\":[{\"Id\":\"DEBW3T_kdn\",\"qty\":1}]},{\"Id\":\"DGAF_kdn\",\"name\":\"MP3\\/\\u9304\\u97f3\\u7b46\",\"qty\":1,\"nodes\":[{\"Id\":\"DGAF3T_kdn\",\"qty\":1}]},{\"Id\":\"DECQ_kdn\",\"name\":\"\\u91ce\\u9910\\/\\u70e4\\u8089\",\"qty\":1,\"nodes\":[{\"Id\":\"DECQ07_kdn\",\"qty\":1}]},{\"Id\":\"DGAG_kdn\",\"name\":\"\\u8a18\\u61b6\\u5361\",\"qty\":1,\"nodes\":[{\"Id\":\"DGAG5F_kdn\",\"qty\":1}]}]}]\n"
     ]
    },
    {
     "name": "stderr",
     "output_type": "stream",
     "text": [
      "C:\\Users\\richi\\Anaconda3\\envs\\crawler\\lib\\site-packages\\urllib3\\connectionpool.py:847: InsecureRequestWarning: Unverified HTTPS request is being made. Adding certificate verification is strongly advised. See: https://urllib3.readthedocs.io/en/latest/advanced-usage.html#ssl-warnings\n",
      "  InsecureRequestWarning)\n"
     ]
    }
   ],
   "source": [
    "# 非結構化資料\n",
    "import requests\n",
    "\n",
    "test = requests.get(\"https://ecshweb.pchome.com.tw/search/v3.3/all/categories?q=macbook\", verify=False) # get json data\n",
    "print(test.status_code)\n",
    "print(type(test))\n",
    "print(test.text)"
   ]
  },
  {
   "cell_type": "markdown",
   "metadata": {},
   "source": [
    "### Exercise 1: AQI"
   ]
  },
  {
   "cell_type": "code",
   "execution_count": 2,
   "metadata": {},
   "outputs": [
    {
     "name": "stdout",
     "output_type": "stream",
     "text": [
      "200\n"
     ]
    },
    {
     "name": "stderr",
     "output_type": "stream",
     "text": [
      "C:\\Users\\richi\\Anaconda3\\envs\\crawler\\lib\\site-packages\\urllib3\\connectionpool.py:847: InsecureRequestWarning: Unverified HTTPS request is being made. Adding certificate verification is strongly advised. See: https://urllib3.readthedocs.io/en/latest/advanced-usage.html#ssl-warnings\n",
      "  InsecureRequestWarning)\n"
     ]
    }
   ],
   "source": [
    "import requests\n",
    "r = requests.get(\"https://opendata.epa.gov.tw/ws/Data/AQI/?$format=json\", verify=False) # get json data\n",
    "print(r.status_code)"
   ]
  },
  {
   "cell_type": "code",
   "execution_count": 4,
   "metadata": {},
   "outputs": [
    {
     "name": "stdout",
     "output_type": "stream",
     "text": [
      "總共有81間測站\n"
     ]
    }
   ],
   "source": [
    "# How many sites in Taiwan?\n",
    "todayAQI = r.json()\n",
    "#todayAQI[:10]\n",
    "print(\"總共有\" + str(len(todayAQI)) + \"間測站\")"
   ]
  },
  {
   "cell_type": "code",
   "execution_count": 37,
   "metadata": {},
   "outputs": [],
   "source": [
    "#todayAQI[:50]"
   ]
  },
  {
   "cell_type": "code",
   "execution_count": 5,
   "metadata": {},
   "outputs": [
    {
     "name": "stdout",
     "output_type": "stream",
     "text": [
      "台北市共有7間測站\n"
     ]
    }
   ],
   "source": [
    "# How many sited in Taipei City?\n",
    "site_Taipei_City = []\n",
    "for i in range(len(todayAQI)):\n",
    "    if todayAQI[i][\"County\"] == '臺北市':\n",
    "        site_Taipei_City.append(todayAQI[i][\"County\"])\n",
    "\n",
    "print(\"台北市共有\" + str(len(site_Taipei_City)) + \"間測站\")"
   ]
  },
  {
   "cell_type": "code",
   "execution_count": 9,
   "metadata": {},
   "outputs": [
    {
     "name": "stdout",
     "output_type": "stream",
     "text": [
      "48.0\n"
     ]
    }
   ],
   "source": [
    "# Highest PM2.5 site name?\n",
    "site_names = [todayAQI[i][\"SiteName\"] for i in range(len(todayAQI))]\n",
    "pm25 = []\n",
    "for i in range(len(todayAQI)):\n",
    "    if todayAQI[i][\"PM2.5\"] == '' or todayAQI[i][\"PM2.5\"] == 'ND':\n",
    "        pm25.append(0)\n",
    "    else:\n",
    "        pm25.append(float(todayAQI[i][\"PM2.5\"]))\n",
    "        \n",
    "import pandas as pd\n",
    "ser = pd.Series(pm25, index=site_names)\n",
    "\n",
    "for i in range(len(todayAQI)):\n",
    "    if todayAQI[i][\"PM2.5\"] == max(pm25):\n",
    "        print(todayAQI[i][\"SiteName\"])"
   ]
  },
  {
   "cell_type": "code",
   "execution_count": 41,
   "metadata": {},
   "outputs": [
    {
     "name": "stdout",
     "output_type": "stream",
     "text": [
      "49.0\n"
     ]
    }
   ],
   "source": [
    "# Lowest PM2.5 site name?\n",
    "site_names = [todayAQI[i][\"SiteName\"] for i in range(len(todayAQI))]\n",
    "pm25 = []\n",
    "for i in range(len(todayAQI)):\n",
    "    if todayAQI[i][\"PM2.5\"] == '' or todayAQI[i][\"PM2.5\"] == 'ND':\n",
    "        pm25.append(0)\n",
    "    else:\n",
    "        pm25.append(float(todayAQI[i][\"PM2.5\"]))\n",
    "        \n",
    "import pandas as pd\n",
    "ser = pd.Series(pm25, index=site_names)\n",
    "print(max(ser.sort_values()))"
   ]
  },
  {
   "cell_type": "markdown",
   "metadata": {},
   "source": [
    "## Non Web API\n",
    "\n",
    "- `requests` Getting data\n",
    "- `beautifulsoup4` / `pyquery` Parsing data\n",
    "\n",
    "### Examples\n",
    "\n",
    "- [Avengers: Endgame (2019)](https://www.imdb.com/title/tt4154796)\n",
    "- [Yahoo! 奇摩股市](https://tw.stock.yahoo.com/d/i/rank.php?t=pri&e=tse&n=100)\n",
    "- [PTT 實業坊](https://www.ptt.cc/bbs/NBA/index.html)"
   ]
  },
  {
   "cell_type": "code",
   "execution_count": 11,
   "metadata": {},
   "outputs": [
    {
     "name": "stderr",
     "output_type": "stream",
     "text": [
      "C:\\Users\\richi\\Anaconda3\\envs\\crawler\\lib\\site-packages\\urllib3\\connectionpool.py:847: InsecureRequestWarning: Unverified HTTPS request is being made. Adding certificate verification is strongly advised. See: https://urllib3.readthedocs.io/en/latest/advanced-usage.html#ssl-warnings\n",
      "  InsecureRequestWarning)\n"
     ]
    },
    {
     "name": "stdout",
     "output_type": "stream",
     "text": [
      "200\n",
      "240075\n"
     ]
    }
   ],
   "source": [
    "import requests\n",
    "r = requests.get(\"https://www.imdb.com/title/tt4154796/\", verify=False) # get nonWEBAPI data\n",
    "print(r.status_code)\n",
    "html_str = r.text\n",
    "print(len(html_str))"
   ]
  },
  {
   "cell_type": "code",
   "execution_count": 12,
   "metadata": {},
   "outputs": [],
   "source": [
    "from bs4 import BeautifulSoup\n",
    "soup = BeautifulSoup(html_str)"
   ]
  },
  {
   "cell_type": "code",
   "execution_count": 16,
   "metadata": {},
   "outputs": [
    {
     "data": {
      "text/plain": [
       "<h1 class=\"\">Avengers: Endgame <span id=\"titleYear\">(<a href=\"/year/2019/\">2019</a>)</span> </h1>"
      ]
     },
     "execution_count": 16,
     "metadata": {},
     "output_type": "execute_result"
    }
   ],
   "source": [
    "soup.find(\"h1\")"
   ]
  },
  {
   "cell_type": "code",
   "execution_count": 23,
   "metadata": {},
   "outputs": [
    {
     "data": {
      "text/plain": [
       "'home_img'"
      ]
     },
     "execution_count": 23,
     "metadata": {},
     "output_type": "execute_result"
    }
   ],
   "source": [
    "soup.find(\"a\").get(\"id\")"
   ]
  },
  {
   "cell_type": "code",
   "execution_count": 22,
   "metadata": {},
   "outputs": [
    {
     "name": "stdout",
     "output_type": "stream",
     "text": [
      "<class 'bs4.element.ResultSet'>\n",
      "<class 'bs4.element.Tag'>\n"
     ]
    }
   ],
   "source": [
    "soup.find_all(\"h2\")\n",
    "print(type(soup.find_all(\"h2\")))\n",
    "print(type(soup.find(\"h2\")))"
   ]
  },
  {
   "cell_type": "code",
   "execution_count": 19,
   "metadata": {},
   "outputs": [
    {
     "data": {
      "text/plain": [
       "[<span itemprop=\"ratingValue\">8.8</span>,\n",
       " <span class=\"grey\">/</span>,\n",
       " <span class=\"grey\" itemprop=\"bestRating\">10</span>]"
      ]
     },
     "execution_count": 19,
     "metadata": {},
     "output_type": "execute_result"
    }
   ],
   "source": [
    "soup.select(\".ratingValue span\")"
   ]
  },
  {
   "cell_type": "markdown",
   "metadata": {},
   "source": [
    "## pyquery\n",
    "\n",
    "- `from pyquery import PyQuery as pq`\n",
    "- `d = pq(html_str)`\n",
    "- `d(\"<SELECTOR>\")`: Finding specific data via CSS Selector\n",
    "- PyQuery\n",
    "    - HtmlElement.items()\n",
    "        - .text()\n",
    "        - .attr(\"<ATTR>\")"
   ]
  },
  {
   "cell_type": "code",
   "execution_count": 24,
   "metadata": {},
   "outputs": [
    {
     "data": {
      "text/plain": [
       "pyquery.pyquery.PyQuery"
      ]
     },
     "execution_count": 24,
     "metadata": {},
     "output_type": "execute_result"
    }
   ],
   "source": [
    "from pyquery import PyQuery as pq\n",
    "d = pq(html_str)\n",
    "type(d)\n",
    "\n",
    "for i in d(\".ratingValue span\").items():\n",
    "    print(i.text())\n",
    "    \n",
    "for i in d(\"img\").items():\n",
    "    print(i)"
   ]
  },
  {
   "cell_type": "markdown",
   "metadata": {},
   "source": [
    "## Demo\n",
    "#### 片長、卡司"
   ]
  },
  {
   "cell_type": "code",
   "execution_count": 27,
   "metadata": {},
   "outputs": [
    {
     "name": "stderr",
     "output_type": "stream",
     "text": [
      "C:\\Users\\richi\\Anaconda3\\envs\\crawler\\lib\\site-packages\\urllib3\\connectionpool.py:847: InsecureRequestWarning: Unverified HTTPS request is being made. Adding certificate verification is strongly advised. See: https://urllib3.readthedocs.io/en/latest/advanced-usage.html#ssl-warnings\n",
      "  InsecureRequestWarning)\n"
     ]
    },
    {
     "name": "stdout",
     "output_type": "stream",
     "text": [
      "200\n",
      "242381\n"
     ]
    }
   ],
   "source": [
    "import requests\n",
    "r = requests.get(\"https://www.imdb.com/title/tt4154796/\", verify=False) # get nonWEBAPI data\n",
    "print(r.status_code)\n",
    "html_str = r.text\n",
    "print(len(html_str))\n",
    "from bs4 import BeautifulSoup\n",
    "soup = BeautifulSoup(html_str)"
   ]
  },
  {
   "cell_type": "code",
   "execution_count": 28,
   "metadata": {},
   "outputs": [
    {
     "name": "stdout",
     "output_type": "stream",
     "text": [
      "3h 1min\n",
      "181 min\n"
     ]
    }
   ],
   "source": [
    "# 片長\n",
    "for i in soup.find_all(\"time\"):\n",
    "    print(i.text.strip())"
   ]
  },
  {
   "cell_type": "code",
   "execution_count": 32,
   "metadata": {},
   "outputs": [
    {
     "name": "stdout",
     "output_type": "stream",
     "text": [
      "Robert Downey Jr. https://www.imdb.com//name/nm0000375/\n",
      "\n",
      "Chris Evans https://www.imdb.com//name/nm0262635/\n",
      "\n",
      "Mark Ruffalo https://www.imdb.com//name/nm0749263/\n",
      "\n",
      "Chris Hemsworth https://www.imdb.com//name/nm1165110/\n",
      "\n",
      "Scarlett Johansson https://www.imdb.com//name/nm0424060/\n",
      "\n",
      "Jeremy Renner https://www.imdb.com//name/nm0719637/\n",
      "\n",
      "Don Cheadle https://www.imdb.com//name/nm0000332/\n",
      "\n",
      "Paul Rudd https://www.imdb.com//name/nm0748620/\n",
      "\n",
      "Benedict Cumberbatch https://www.imdb.com//name/nm1212722/\n",
      "\n",
      "Chadwick Boseman https://www.imdb.com//name/nm1569276/\n",
      "\n",
      "Brie Larson https://www.imdb.com//name/nm0488953/\n",
      "\n",
      "Tom Holland https://www.imdb.com//name/nm4043618/\n",
      "\n",
      "Karen Gillan https://www.imdb.com//name/nm2394794/\n",
      "\n",
      "Zoe Saldana https://www.imdb.com//name/nm0757855/\n",
      "\n",
      "Evangeline Lilly https://www.imdb.com//name/nm1431940/\n",
      "\n"
     ]
    }
   ],
   "source": [
    "# 卡司表\n",
    "for i in soup.select(\".primary_photo+ td a\"):\n",
    "    route = i.get(\"href\")\n",
    "    print(i.text.strip(), \"https://www.imdb.com/\" + route)"
   ]
  },
  {
   "cell_type": "markdown",
   "metadata": {},
   "source": [
    "## 練習題\n",
    "- 把所有Released Date抓出來，並做Summary"
   ]
  },
  {
   "cell_type": "code",
   "execution_count": 1,
   "metadata": {},
   "outputs": [
    {
     "name": "stderr",
     "output_type": "stream",
     "text": [
      "C:\\Users\\richi\\Anaconda3\\envs\\crawler\\lib\\site-packages\\urllib3\\connectionpool.py:847: InsecureRequestWarning: Unverified HTTPS request is being made. Adding certificate verification is strongly advised. See: https://urllib3.readthedocs.io/en/latest/advanced-usage.html#ssl-warnings\n",
      "  InsecureRequestWarning)\n"
     ]
    },
    {
     "name": "stdout",
     "output_type": "stream",
     "text": [
      "200\n",
      "109850\n"
     ]
    }
   ],
   "source": [
    "import requests\n",
    "r = requests.get(\"https://www.imdb.com/title/tt4154796/releaseinfo?ref_=tt_ov_inf\", verify=False) # get nonWEBAPI data\n",
    "print(r.status_code)\n",
    "html_str = r.text\n",
    "print(len(html_str))\n",
    "from bs4 import BeautifulSoup\n",
    "soup = BeautifulSoup(html_str)"
   ]
  },
  {
   "cell_type": "code",
   "execution_count": 11,
   "metadata": {},
   "outputs": [
    {
     "name": "stdout",
     "output_type": "stream",
     "text": [
      "Parsing Release Information of Avengers: Endgame(2019)\n",
      "USA                     22 April 2019\n",
      "Russia                  23 April 2019\n",
      "United Arab Emirates    24 April 2019\n",
      "Austria                 24 April 2019\n",
      "Australia               24 April 2019\n",
      "dtype: object\n",
      "\n",
      "Method I\n",
      "Summarizing Number of Countries Grouped by Released Date\n",
      "24 April 2019    31\n",
      "25 April 2019    21\n",
      "26 April 2019    14\n",
      "22 April 2019     1\n",
      "28 April 2019     1\n",
      "23 April 2019     1\n",
      "29 April 2019     1\n",
      "dtype: int64\n",
      "\n",
      "\n",
      "Method II\n",
      "               Country\n",
      "Released Date         \n",
      "22 April 2019        1\n",
      "23 April 2019        1\n",
      "24 April 2019       31\n",
      "25 April 2019       21\n",
      "26 April 2019       14\n",
      "28 April 2019        1\n",
      "29 April 2019        1\n",
      "\n",
      "The Date Released in Taiwan is 24 April 2019\n"
     ]
    }
   ],
   "source": [
    "date = []\n",
    "for i in soup.select(\".release-date-item__date\"):\n",
    "    d = i.text.strip()\n",
    "    date.append(d)\n",
    "\n",
    "country = []\n",
    "for i in soup.select(\".release-date-item__country-name a\"):\n",
    "    d = i.text.strip()\n",
    "    country.append(d)\n",
    "\n",
    "import pandas as pd\n",
    "ser = pd.Series(date, index=country)\n",
    "print(\"Parsing Release Information of Avengers: Endgame(2019)\")\n",
    "print(ser.head())\n",
    "# ==================================================================\n",
    "print()\n",
    "print(\"Method I\")\n",
    "print(\"Summarizing Number of Countries Grouped by Released Date\")\n",
    "print(ser.value_counts())\n",
    "print()\n",
    "print()\n",
    "# ==============================\n",
    "print(\"Method II\")\n",
    "df = pd.DataFrame()\n",
    "df['Country'] = country\n",
    "df['Released Date'] = date\n",
    "summary = df.groupby('Released Date').count()\n",
    "print(summary)\n",
    "# ==================================================================\n",
    "print()\n",
    "print(\"The Date Released in Taiwan is \" + str(ser['Taiwan']))"
   ]
  },
  {
   "cell_type": "code",
   "execution_count": null,
   "metadata": {},
   "outputs": [],
   "source": [
    "from bs4 import BeautifulSoup\n",
    "\n",
    "def get_imdb_movie_data(movie_url):\n",
    "    r = requests.get(movie_url, verify=False) \n",
    "    html_str = r.text\n",
    "    soup = BeautifulSoup(html_str)\n"
   ]
  }
 ],
 "metadata": {
  "kernelspec": {
   "display_name": "Python 3",
   "language": "python",
   "name": "python3"
  },
  "language_info": {
   "codemirror_mode": {
    "name": "ipython",
    "version": 3
   },
   "file_extension": ".py",
   "mimetype": "text/x-python",
   "name": "python",
   "nbconvert_exporter": "python",
   "pygments_lexer": "ipython3",
   "version": "3.7.3"
  }
 },
 "nbformat": 4,
 "nbformat_minor": 2
}
