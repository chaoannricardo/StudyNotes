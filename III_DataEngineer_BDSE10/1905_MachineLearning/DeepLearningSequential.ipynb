{
 "cells": [
  {
   "cell_type": "code",
   "execution_count": 23,
   "metadata": {},
   "outputs": [],
   "source": [
    "import tensorflow as tf\n",
    "import tensorflow.keras as keras\n",
    "import numpy as np\n",
    "import pandas as pd"
   ]
  },
  {
   "cell_type": "code",
   "execution_count": 24,
   "metadata": {},
   "outputs": [],
   "source": [
    "np.random.seed(123)\n",
    "tf.set_random_seed(123)\n",
    "df = pd.read_csv(\"C:/Users/Student/Desktop/dummyaaawithouttextmining.csv\")\n",
    "#df = pd.read_csv(\"C:/Users/Student/Desktop/crazy/carazy/final.csv\")\n",
    "#df = pd.read_csv(\"C:/Users/Student/Desktop/crazy/carazy/final_without_cat.csv\")\n",
    "# Create arrays for features and target variable\n",
    "y = df['stars_review']\n",
    "#y = df['STARS']\n",
    "y = y.values\n",
    "#y = np.asarray(y, dtype=\"|S6\")\n",
    "X = df.drop(['stars_review'], axis=1)\n",
    "#X = df.drop(['STARS','review_id','business_id','user_id'], axis=1)"
   ]
  },
  {
   "cell_type": "code",
   "execution_count": 25,
   "metadata": {},
   "outputs": [],
   "source": [
    "#X = df.drop(['STARS','review_id','business_id','user_id'], axis=1)\n",
    "#X=X.iloc[:,1:]"
   ]
  },
  {
   "cell_type": "code",
   "execution_count": 26,
   "metadata": {},
   "outputs": [],
   "source": [
    "# Train, Test, Validation Split\n",
    "from sklearn.model_selection import train_test_split\n",
    "\n",
    "X_train, X_test, y_train, y_test = train_test_split(X, y, test_size=0.3, random_state=1)\n",
    "X_train, X_val, y_train, y_val = train_test_split(X_train, y_train, test_size=0.3, random_state=1)\n",
    "#y_val_onehot = keras.utils.to_categorical(y_val,num_classes=6)\n",
    "#y_train_onehot = keras.utils.to_categorical(y_train,num_classes=6)\n",
    "#y_test_onehot = keras.utils.to_categorical(y_test,num_classes=6)\n",
    "\n",
    "#y_train_onehot=pd.DataFrame(y_train_onehot).iloc[:,1:6].values\n",
    "#y_val_onehot=pd.DataFrame(y_val_onehot).iloc[:,1:6].values\n",
    "#y_test_onehot=pd.DataFrame(y_test_onehot).iloc[:,1:6].values\n",
    "#X_train=X_train.values\n",
    "#X_test=X_test.values\n",
    "#X_train = X_train.reshape((*X_train.shape,1))\n",
    "#X_test =X_test.reshape((*X_test.shape,1))\n",
    "# X_train, X_val, y_train, y_val = train_test_split(X_train, y_train, test_size=0.3, random_state=1)"
   ]
  },
  {
   "cell_type": "code",
   "execution_count": 27,
   "metadata": {},
   "outputs": [
    {
     "data": {
      "text/plain": [
       "array([[0., 0., 0., 0., 1.],\n",
       "       [1., 0., 0., 0., 0.],\n",
       "       [0., 0., 0., 1., 0.],\n",
       "       ...,\n",
       "       [0., 1., 0., 0., 0.],\n",
       "       [0., 0., 1., 0., 0.],\n",
       "       [0., 0., 0., 1., 0.]], dtype=float32)"
      ]
     },
     "execution_count": 27,
     "metadata": {},
     "output_type": "execute_result"
    }
   ],
   "source": [
    "y_train_onehot"
   ]
  },
  {
   "cell_type": "code",
   "execution_count": 28,
   "metadata": {},
   "outputs": [
    {
     "data": {
      "text/plain": [
       "(75905, 12)"
      ]
     },
     "execution_count": 28,
     "metadata": {},
     "output_type": "execute_result"
    }
   ],
   "source": [
    "X_train.shape"
   ]
  },
  {
   "cell_type": "code",
   "execution_count": 32,
   "metadata": {
    "scrolled": true
   },
   "outputs": [
    {
     "name": "stdout",
     "output_type": "stream",
     "text": [
      "Train on 75905 samples, validate on 32532 samples\n",
      "Epoch 1/100\n",
      "75905/75905 [==============================] - 3s 36us/step - loss: 1.1425 - acc: 0.3745 - val_loss: 2.4373 - val_acc: 0.2126\n",
      "Epoch 2/100\n",
      "75905/75905 [==============================] - 2s 27us/step - loss: 0.9897 - acc: 0.3995 - val_loss: 3.1750 - val_acc: 0.1455\n",
      "Epoch 3/100\n",
      "75905/75905 [==============================] - 2s 27us/step - loss: 0.9635 - acc: 0.4110 - val_loss: 4.1674 - val_acc: 0.1339\n",
      "Epoch 4/100\n",
      "75905/75905 [==============================] - 2s 26us/step - loss: 0.9526 - acc: 0.4156 - val_loss: 1.7640 - val_acc: 0.1894\n",
      "Epoch 5/100\n",
      "75905/75905 [==============================] - 2s 26us/step - loss: 0.9400 - acc: 0.4184 - val_loss: 1.5351 - val_acc: 0.3705\n",
      "Epoch 6/100\n",
      "75905/75905 [==============================] - 2s 26us/step - loss: 0.9354 - acc: 0.4231 - val_loss: 0.9202 - val_acc: 0.4099\n",
      "Epoch 7/100\n",
      "75905/75905 [==============================] - 2s 26us/step - loss: 0.9301 - acc: 0.4227 - val_loss: 2.1677 - val_acc: 0.2426\n",
      "Epoch 8/100\n",
      "75905/75905 [==============================] - 2s 26us/step - loss: 0.9288 - acc: 0.4238 - val_loss: 3.7302 - val_acc: 0.1168\n",
      "Epoch 9/100\n",
      "75905/75905 [==============================] - 2s 26us/step - loss: 0.9298 - acc: 0.4243 - val_loss: 3.3134 - val_acc: 0.1234\n",
      "Epoch 10/100\n",
      "75905/75905 [==============================] - 2s 28us/step - loss: 0.9272 - acc: 0.4256 - val_loss: 0.9142 - val_acc: 0.4173\n",
      "Epoch 11/100\n",
      "75905/75905 [==============================] - 2s 27us/step - loss: 0.9197 - acc: 0.4275 - val_loss: 1.1455 - val_acc: 0.3019\n",
      "Epoch 12/100\n",
      "75905/75905 [==============================] - 2s 27us/step - loss: 0.9194 - acc: 0.4290 - val_loss: 4.7056 - val_acc: 0.1041\n",
      "Epoch 13/100\n",
      "75905/75905 [==============================] - 2s 27us/step - loss: 0.9226 - acc: 0.4275 - val_loss: 1.2156 - val_acc: 0.2919\n",
      "Epoch 14/100\n",
      "75905/75905 [==============================] - 2s 27us/step - loss: 0.9168 - acc: 0.4276 - val_loss: 0.9639 - val_acc: 0.3880\n",
      "Epoch 15/100\n",
      "75905/75905 [==============================] - 2s 27us/step - loss: 0.9165 - acc: 0.4289 - val_loss: 1.9387 - val_acc: 0.2754\n",
      "Epoch 16/100\n",
      "75905/75905 [==============================] - 2s 27us/step - loss: 0.9174 - acc: 0.4306 - val_loss: 0.9333 - val_acc: 0.4036\n",
      "Epoch 17/100\n",
      "75905/75905 [==============================] - 2s 27us/step - loss: 0.9160 - acc: 0.4287 - val_loss: 3.7247 - val_acc: 0.1107\n",
      "Epoch 18/100\n",
      "75905/75905 [==============================] - 2s 26us/step - loss: 0.9182 - acc: 0.4283 - val_loss: 1.7340 - val_acc: 0.3699\n",
      "Epoch 19/100\n",
      "75905/75905 [==============================] - 2s 26us/step - loss: 0.9140 - acc: 0.4299 - val_loss: 1.4463 - val_acc: 0.3586\n",
      "Epoch 20/100\n",
      "75905/75905 [==============================] - 2s 26us/step - loss: 0.9126 - acc: 0.4316 - val_loss: 1.1341 - val_acc: 0.3067\n",
      "Epoch 21/100\n",
      "75905/75905 [==============================] - 2s 27us/step - loss: 0.9122 - acc: 0.4295 - val_loss: 1.9446 - val_acc: 0.2988\n",
      "Epoch 22/100\n",
      "75905/75905 [==============================] - 2s 26us/step - loss: 0.9141 - acc: 0.4302 - val_loss: 1.1980 - val_acc: 0.2983\n",
      "Epoch 23/100\n",
      "75905/75905 [==============================] - 2s 27us/step - loss: 0.9113 - acc: 0.4327 - val_loss: 5.7572 - val_acc: 0.0901\n",
      "Epoch 24/100\n",
      "75905/75905 [==============================] - 2s 26us/step - loss: 0.9359 - acc: 0.4254 - val_loss: 1.3143 - val_acc: 0.2522\n",
      "Epoch 25/100\n",
      "75905/75905 [==============================] - 2s 26us/step - loss: 0.9147 - acc: 0.4292 - val_loss: 5.1082 - val_acc: 0.0952\n",
      "Epoch 26/100\n",
      "75905/75905 [==============================] - 2s 27us/step - loss: 0.9201 - acc: 0.4271 - val_loss: 1.1296 - val_acc: 0.4350\n",
      "Epoch 27/100\n",
      "75905/75905 [==============================] - 2s 27us/step - loss: 0.9110 - acc: 0.4307 - val_loss: 2.2732 - val_acc: 0.1756\n",
      "Epoch 28/100\n",
      "75905/75905 [==============================] - 2s 27us/step - loss: 0.9097 - acc: 0.4323 - val_loss: 2.3299 - val_acc: 0.2460\n",
      "Epoch 29/100\n",
      "75905/75905 [==============================] - 2s 26us/step - loss: 0.9108 - acc: 0.4305 - val_loss: 0.9306 - val_acc: 0.4586\n",
      "Epoch 30/100\n",
      "75905/75905 [==============================] - 2s 26us/step - loss: 0.9079 - acc: 0.4320 - val_loss: 1.0564 - val_acc: 0.3495\n",
      "Epoch 31/100\n",
      "75905/75905 [==============================] - 2s 26us/step - loss: 0.9081 - acc: 0.4320 - val_loss: 0.9045 - val_acc: 0.4450\n",
      "Epoch 32/100\n",
      "75905/75905 [==============================] - 2s 26us/step - loss: 0.9072 - acc: 0.4321 - val_loss: 0.9555 - val_acc: 0.3898\n",
      "Epoch 33/100\n",
      "75905/75905 [==============================] - 2s 26us/step - loss: 0.9067 - acc: 0.4335 - val_loss: 1.9927 - val_acc: 0.2590\n",
      "Epoch 34/100\n",
      "75905/75905 [==============================] - 2s 26us/step - loss: 0.9071 - acc: 0.4327 - val_loss: 0.9134 - val_acc: 0.4485\n",
      "Epoch 35/100\n",
      "75905/75905 [==============================] - 2s 26us/step - loss: 0.9049 - acc: 0.4329 - val_loss: 0.9745 - val_acc: 0.4568\n",
      "Epoch 36/100\n",
      "75905/75905 [==============================] - 2s 26us/step - loss: 0.9043 - acc: 0.4333 - val_loss: 0.9634 - val_acc: 0.3757\n",
      "Epoch 37/100\n",
      "75905/75905 [==============================] - 2s 26us/step - loss: 0.9043 - acc: 0.4337 - val_loss: 1.1047 - val_acc: 0.3431\n",
      "Epoch 38/100\n",
      "75905/75905 [==============================] - 2s 26us/step - loss: 0.9044 - acc: 0.4324 - val_loss: 1.5506 - val_acc: 0.3582\n",
      "Epoch 39/100\n",
      "75905/75905 [==============================] - 2s 26us/step - loss: 0.9051 - acc: 0.4330 - val_loss: 0.9128 - val_acc: 0.4537\n",
      "Epoch 40/100\n",
      "75905/75905 [==============================] - 2s 26us/step - loss: 0.9033 - acc: 0.4344 - val_loss: 0.9336 - val_acc: 0.4567\n",
      "Epoch 41/100\n",
      "75905/75905 [==============================] - 2s 26us/step - loss: 0.9034 - acc: 0.4331 - val_loss: 1.8129 - val_acc: 0.3069\n",
      "Epoch 42/100\n",
      "75905/75905 [==============================] - 2s 26us/step - loss: 0.9039 - acc: 0.4331 - val_loss: 0.9410 - val_acc: 0.3955\n",
      "Epoch 43/100\n",
      "75905/75905 [==============================] - 2s 26us/step - loss: 0.9020 - acc: 0.4342 - val_loss: 1.0437 - val_acc: 0.4448\n",
      "Epoch 44/100\n",
      "75905/75905 [==============================] - 2s 26us/step - loss: 0.9032 - acc: 0.4324 - val_loss: 2.0429 - val_acc: 0.1956\n",
      "Epoch 45/100\n",
      "75905/75905 [==============================] - 2s 27us/step - loss: 0.9037 - acc: 0.4345 - val_loss: 2.8285 - val_acc: 0.1896\n",
      "Epoch 46/100\n",
      "75905/75905 [==============================] - 2s 26us/step - loss: 0.9037 - acc: 0.4345 - val_loss: 0.9004 - val_acc: 0.4294\n",
      "Epoch 47/100\n",
      "75905/75905 [==============================] - 2s 26us/step - loss: 0.9003 - acc: 0.4335 - val_loss: 1.5976 - val_acc: 0.2257\n",
      "Epoch 48/100\n",
      "75905/75905 [==============================] - 2s 26us/step - loss: 0.9013 - acc: 0.4330 - val_loss: 1.1387 - val_acc: 0.4155\n",
      "Epoch 49/100\n",
      "75905/75905 [==============================] - 2s 26us/step - loss: 0.9002 - acc: 0.4358 - val_loss: 1.1148 - val_acc: 0.4466\n",
      "Epoch 50/100\n",
      "75905/75905 [==============================] - 2s 26us/step - loss: 0.9009 - acc: 0.4346 - val_loss: 1.4773 - val_acc: 0.2575\n",
      "Epoch 51/100\n",
      "75905/75905 [==============================] - 2s 26us/step - loss: 0.9009 - acc: 0.4353 - val_loss: 1.6985 - val_acc: 0.3458\n",
      "Epoch 52/100\n",
      "75905/75905 [==============================] - 2s 26us/step - loss: 0.8987 - acc: 0.4346 - val_loss: 1.6809 - val_acc: 0.3284\n",
      "Epoch 53/100\n",
      "75905/75905 [==============================] - 2s 26us/step - loss: 0.9003 - acc: 0.4345 - val_loss: 0.8973 - val_acc: 0.4309\n",
      "Epoch 54/100\n",
      "75905/75905 [==============================] - 2s 26us/step - loss: 0.8981 - acc: 0.4351 - val_loss: 1.6553 - val_acc: 0.2135\n",
      "Epoch 55/100\n",
      "75905/75905 [==============================] - 2s 26us/step - loss: 0.8983 - acc: 0.4343 - val_loss: 0.8975 - val_acc: 0.4405\n",
      "Epoch 56/100\n",
      "75905/75905 [==============================] - 2s 26us/step - loss: 0.8988 - acc: 0.4362 - val_loss: 1.0765 - val_acc: 0.4417\n",
      "Epoch 57/100\n",
      "75905/75905 [==============================] - 2s 26us/step - loss: 0.8975 - acc: 0.4351 - val_loss: 1.1654 - val_acc: 0.2917\n",
      "Epoch 58/100\n",
      "75905/75905 [==============================] - 2s 26us/step - loss: 0.8973 - acc: 0.4345 - val_loss: 0.9923 - val_acc: 0.3737\n",
      "Epoch 59/100\n"
     ]
    },
    {
     "name": "stdout",
     "output_type": "stream",
     "text": [
      "75905/75905 [==============================] - 2s 26us/step - loss: 0.8971 - acc: 0.4342 - val_loss: 0.8969 - val_acc: 0.4384\n",
      "Epoch 60/100\n",
      "75905/75905 [==============================] - 2s 26us/step - loss: 0.8965 - acc: 0.4359 - val_loss: 1.0397 - val_acc: 0.4461\n",
      "Epoch 61/100\n",
      "75905/75905 [==============================] - 2s 26us/step - loss: 0.8962 - acc: 0.4352 - val_loss: 1.0584 - val_acc: 0.4463\n",
      "Epoch 62/100\n",
      "75905/75905 [==============================] - 2s 26us/step - loss: 0.8955 - acc: 0.4362 - val_loss: 0.9032 - val_acc: 0.4469\n",
      "Epoch 63/100\n",
      "75905/75905 [==============================] - 2s 26us/step - loss: 0.8954 - acc: 0.4355 - val_loss: 0.9467 - val_acc: 0.4639\n",
      "Epoch 64/100\n",
      "75905/75905 [==============================] - 2s 26us/step - loss: 0.8945 - acc: 0.4363 - val_loss: 1.5902 - val_acc: 0.3371\n",
      "Epoch 65/100\n",
      "75905/75905 [==============================] - 2s 26us/step - loss: 0.8959 - acc: 0.4350 - val_loss: 2.0105 - val_acc: 0.1989\n",
      "Epoch 66/100\n",
      "75905/75905 [==============================] - 2s 26us/step - loss: 0.8981 - acc: 0.4346 - val_loss: 0.8976 - val_acc: 0.4330\n",
      "Epoch 67/100\n",
      "75905/75905 [==============================] - 2s 26us/step - loss: 0.8962 - acc: 0.4375 - val_loss: 1.2770 - val_acc: 0.3935\n",
      "Epoch 68/100\n",
      "75905/75905 [==============================] - 2s 26us/step - loss: 0.8946 - acc: 0.4355 - val_loss: 0.9765 - val_acc: 0.3760\n",
      "Epoch 69/100\n",
      "75905/75905 [==============================] - 2s 26us/step - loss: 0.8931 - acc: 0.4372 - val_loss: 1.1085 - val_acc: 0.4259\n",
      "Epoch 70/100\n",
      "75905/75905 [==============================] - 2s 26us/step - loss: 0.8929 - acc: 0.4377 - val_loss: 1.3180 - val_acc: 0.3926\n",
      "Epoch 71/100\n",
      "75905/75905 [==============================] - 2s 26us/step - loss: 0.8948 - acc: 0.4373 - val_loss: 0.9163 - val_acc: 0.4070\n",
      "Epoch 72/100\n",
      "75905/75905 [==============================] - 2s 26us/step - loss: 0.8929 - acc: 0.4356 - val_loss: 0.8997 - val_acc: 0.4244\n",
      "Epoch 73/100\n",
      "75905/75905 [==============================] - 2s 26us/step - loss: 0.8925 - acc: 0.4361 - val_loss: 1.0547 - val_acc: 0.4355\n",
      "Epoch 74/100\n",
      "75905/75905 [==============================] - 2s 26us/step - loss: 0.8919 - acc: 0.4367 - val_loss: 0.8978 - val_acc: 0.4445\n",
      "Epoch 75/100\n",
      "75905/75905 [==============================] - 2s 26us/step - loss: 0.8928 - acc: 0.4365 - val_loss: 0.9098 - val_acc: 0.4552\n",
      "Epoch 76/100\n",
      "75905/75905 [==============================] - 2s 27us/step - loss: 0.8916 - acc: 0.4364 - val_loss: 1.0086 - val_acc: 0.3588\n",
      "Epoch 77/100\n",
      "75905/75905 [==============================] - 2s 28us/step - loss: 0.8911 - acc: 0.4370 - val_loss: 0.9751 - val_acc: 0.4591\n",
      "Epoch 78/100\n",
      "75905/75905 [==============================] - 2s 27us/step - loss: 0.8914 - acc: 0.4367 - val_loss: 1.3560 - val_acc: 0.4012\n",
      "Epoch 79/100\n",
      "75905/75905 [==============================] - 2s 28us/step - loss: 0.8927 - acc: 0.4361 - val_loss: 1.6405 - val_acc: 0.3568\n",
      "Epoch 80/100\n",
      "75905/75905 [==============================] - 2s 27us/step - loss: 0.8924 - acc: 0.4357 - val_loss: 0.9018 - val_acc: 0.4385\n",
      "Epoch 81/100\n",
      "75905/75905 [==============================] - 2s 27us/step - loss: 0.8918 - acc: 0.4361 - val_loss: 0.8938 - val_acc: 0.4406\n",
      "Epoch 82/100\n",
      "75905/75905 [==============================] - 2s 26us/step - loss: 0.8907 - acc: 0.4379 - val_loss: 1.0013 - val_acc: 0.3461\n",
      "Epoch 83/100\n",
      "75905/75905 [==============================] - 2s 26us/step - loss: 0.8900 - acc: 0.4369 - val_loss: 0.9884 - val_acc: 0.4593\n",
      "Epoch 84/100\n",
      "75905/75905 [==============================] - 2s 26us/step - loss: 0.8905 - acc: 0.4380 - val_loss: 0.8923 - val_acc: 0.4374\n",
      "Epoch 85/100\n",
      "75905/75905 [==============================] - 2s 27us/step - loss: 0.8896 - acc: 0.4366 - val_loss: 0.8975 - val_acc: 0.4265\n",
      "Epoch 86/100\n",
      "75905/75905 [==============================] - 2s 27us/step - loss: 0.8899 - acc: 0.4384 - val_loss: 0.9223 - val_acc: 0.4041\n",
      "Epoch 87/100\n",
      "75905/75905 [==============================] - 2s 26us/step - loss: 0.8903 - acc: 0.4360 - val_loss: 1.1946 - val_acc: 0.4353\n",
      "Epoch 88/100\n",
      "75905/75905 [==============================] - 2s 26us/step - loss: 0.8898 - acc: 0.4381 - val_loss: 1.3504 - val_acc: 0.2569\n",
      "Epoch 89/100\n",
      "75905/75905 [==============================] - 2s 26us/step - loss: 0.8898 - acc: 0.4371 - val_loss: 0.8994 - val_acc: 0.4483\n",
      "Epoch 90/100\n",
      "75905/75905 [==============================] - 2s 26us/step - loss: 0.8879 - acc: 0.4367 - val_loss: 1.0232 - val_acc: 0.4545\n",
      "Epoch 91/100\n",
      "75905/75905 [==============================] - 2s 27us/step - loss: 0.8895 - acc: 0.4387 - val_loss: 1.1781 - val_acc: 0.4166\n",
      "Epoch 92/100\n",
      "75905/75905 [==============================] - 2s 27us/step - loss: 0.8891 - acc: 0.4377 - val_loss: 0.8983 - val_acc: 0.4508\n",
      "Epoch 93/100\n",
      "75905/75905 [==============================] - 2s 26us/step - loss: 0.8879 - acc: 0.4383 - val_loss: 1.1244 - val_acc: 0.4378\n",
      "Epoch 94/100\n",
      "75905/75905 [==============================] - 2s 26us/step - loss: 0.8879 - acc: 0.4374 - val_loss: 0.9312 - val_acc: 0.4056\n",
      "Epoch 95/100\n",
      "75905/75905 [==============================] - 2s 26us/step - loss: 0.8879 - acc: 0.4374 - val_loss: 2.8805 - val_acc: 0.1365\n",
      "Epoch 96/100\n",
      "75905/75905 [==============================] - 2s 26us/step - loss: 0.9064 - acc: 0.4323 - val_loss: 0.9332 - val_acc: 0.4019\n",
      "Epoch 97/100\n",
      "75905/75905 [==============================] - 2s 26us/step - loss: 0.8927 - acc: 0.4364 - val_loss: 0.9993 - val_acc: 0.3592\n",
      "Epoch 98/100\n",
      "75905/75905 [==============================] - 2s 26us/step - loss: 0.8895 - acc: 0.4353 - val_loss: 1.3106 - val_acc: 0.3962\n",
      "Epoch 99/100\n",
      "75905/75905 [==============================] - 2s 26us/step - loss: 0.8881 - acc: 0.4362 - val_loss: 1.3194 - val_acc: 0.3849\n",
      "Epoch 100/100\n",
      "75905/75905 [==============================] - 2s 26us/step - loss: 0.8891 - acc: 0.4374 - val_loss: 0.9606 - val_acc: 0.4584\n"
     ]
    }
   ],
   "source": [
    "from keras.models import Sequential\n",
    "from keras.layers import Dense, Conv2D, MaxPooling2D\n",
    "from keras.optimizers import SGD\n",
    "from keras.metrics import categorical_accuracy, categorical_crossentropy\n",
    "\n",
    "act=\"relu\"\n",
    "model = Sequential()\n",
    "layers = [Dense(100, activation=act, input_dim=(X_train.shape[1]),),\n",
    "          Dense(100, activation=act),\n",
    "          Dense(100, activation=act),\n",
    "          Dense(100, activation=act),\n",
    "          Dense(100, activation=act),\n",
    "          Dense(1, activation=None)]\n",
    "\n",
    "for layer in layers:\n",
    "    model.add(layer)\n",
    "\n",
    "    \n",
    "from keras import backend as K\n",
    "#def root_mean_squared_error(y_true, y_pred):\n",
    "        #return K.sqrt(K.mean(K.square(y_pred - y_true))) \n",
    "model.compile(#loss='cosine_proximity',\n",
    "              loss = 'mse',\n",
    "              #optimizer = \"rmsprop\",\n",
    "              optimizer=SGD(lr=0.01, momentum=0.01),\n",
    "              metrics=[\"accuracy\"])\n",
    "# model.summary()\n",
    "records = model.fit(X_train, y_train,validation_data=(X_val,y_val), epochs=100, batch_size=64)\n",
    "#records = model.fit(X_train, y_train_onehot,validation_data=(X_val,y_val_onehot),epochs=100, batch_size=32)\n",
    "#records = model.fit(X_train, y_train,validation_data=(X_val,y_val), epochs=50, batch_size=32)"
   ]
  },
  {
   "cell_type": "code",
   "execution_count": null,
   "metadata": {},
   "outputs": [],
   "source": [
    "score = model.evaluate(X_test, y_test_onehot, batch_size=32)\n",
    "print()\n",
    "print('\\nloss=%s \\naccuracy=%s'%(score[0],score[1]) )"
   ]
  },
  {
   "cell_type": "code",
   "execution_count": null,
   "metadata": {},
   "outputs": [],
   "source": [
    "for j in range(5000,6000):\n",
    "    predY= model.predict(X_val.iloc[j:j+1,:])\n",
    "    print(\"    \")\n",
    "    print(j)\n",
    "    print(predY)\n",
    "    print(predY.argmax())\n",
    "    trueY= y_val_onehot[j]\n",
    "    print(\"    \")\n",
    "    print(trueY)\n",
    "    print(trueY.argmax())\n",
    "    #print(predY,trueY,end='\\t')\n"
   ]
  },
  {
   "cell_type": "code",
   "execution_count": null,
   "metadata": {},
   "outputs": [],
   "source": [
    "plt.plot(records.history['acc'],ms=5,marker='o',label='accuracy')\n",
    "plt.plot(records.history['loss'],ms=5,marker='x',label='loss')\n",
    "plt.legend()\n",
    "plt.show()"
   ]
  },
  {
   "cell_type": "code",
   "execution_count": null,
   "metadata": {},
   "outputs": [],
   "source": []
  },
  {
   "cell_type": "code",
   "execution_count": null,
   "metadata": {},
   "outputs": [],
   "source": [
    "train, test = train_test_split(df, test_size=0.1, random_state=1)"
   ]
  },
  {
   "cell_type": "code",
   "execution_count": null,
   "metadata": {},
   "outputs": [],
   "source": [
    "df = pd.read_csv(\"C:/Users/Student/Desktop/crazy/carazy/final_without_cat.csv\")\n",
    "df = df.drop(['review_id','business_id','user_id'], axis=1)\n",
    "train,test = train_test_split(df, test_size=0.1, random_state=1)\n",
    "train=train.iloc[:,1:]\n",
    "test=test.iloc[:,1:]\n",
    "train.to_csv(\"C:/Users/Student/Desktop/crazy/carazy/luwig/train.csv\")\n",
    "test.to_csv(\"C:/Users/Student/Desktop/crazy/carazy/luwig/test.csv\")\n"
   ]
  },
  {
   "cell_type": "code",
   "execution_count": null,
   "metadata": {},
   "outputs": [],
   "source": [
    "username$ jt -r"
   ]
  },
  {
   "cell_type": "code",
   "execution_count": null,
   "metadata": {},
   "outputs": [],
   "source": []
  }
 ],
 "metadata": {
  "kernelspec": {
   "display_name": "Python 3",
   "language": "python",
   "name": "python3"
  },
  "language_info": {
   "codemirror_mode": {
    "name": "ipython",
    "version": 3
   },
   "file_extension": ".py",
   "mimetype": "text/x-python",
   "name": "python",
   "nbconvert_exporter": "python",
   "pygments_lexer": "ipython3",
   "version": "3.7.3"
  }
 },
 "nbformat": 4,
 "nbformat_minor": 2
}
