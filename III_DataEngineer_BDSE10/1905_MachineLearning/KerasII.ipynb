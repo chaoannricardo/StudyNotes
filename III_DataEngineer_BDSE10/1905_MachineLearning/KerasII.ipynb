{
 "cells": [
  {
   "cell_type": "code",
   "execution_count": 1,
   "metadata": {},
   "outputs": [],
   "source": [
    "import tensorflow as tf\n",
    "import pandas as pd\n",
    "import numpy as np\n",
    "np.random.seed(123)\n",
    "tf.set_random_seed(123)\n",
    "df = pd.read_csv(\"C:/Users/Student/Desktop/dummy.csv\")\n",
    "\n",
    "# Create arrays for features and target variable\n",
    "y = df['stars_review'] * 4\n",
    "y = y.values\n",
    "#y = np.asarray(y, dtype=\"|S6\")\n",
    "X = df.drop(['stars_review'], axis=1).values"
   ]
  },
  {
   "cell_type": "code",
   "execution_count": null,
   "metadata": {},
   "outputs": [],
   "source": [
    "import keras\n",
    "from sklearn.model_selection import train_test_split\n",
    "\n",
    "X_train, X_test, y_train, y_test = train_test_split(X, y, test_size=0.3, random_state=1)\n",
    "X_train, X_val, y_train, y_val = train_test_split(X_train, y_train, test_size=0.3, random_state=1)\n",
    "# X_train, X_val, y_train, y_val = train_test_split(X_train, y_train, test_size=0.3, random_state=1)\n",
    "y_train_onehot = keras.utils.to_categorical(y_train,num_classes=5)\n",
    "y_val_onehot = keras.utils.to_categorical(y_val,num_classes=5)\n",
    "y_test_onehot = keras.utils.to_categorical(y_test,num_classes=5)\n",
    "y_train_onehot"
   ]
  },
  {
   "cell_type": "code",
   "execution_count": null,
   "metadata": {},
   "outputs": [],
   "source": [
    "X_train=X_train.reshape(*X_train.shape,31)\n",
    "X_val=X_val.reshape(*X_val.shape,31)\n",
    "X_test=X_test.reshape(*X_test.shape,31)"
   ]
  },
  {
   "cell_type": "code",
   "execution_count": null,
   "metadata": {},
   "outputs": [],
   "source": [
    "print(type(X_train))\n",
    "X_train.shape"
   ]
  },
  {
   "cell_type": "code",
   "execution_count": null,
   "metadata": {},
   "outputs": [],
   "source": [
    "from keras.models import Sequential\n",
    "from keras.layers import Dense, Dropout, Flatten,Conv2D, MaxPooling2D\n",
    "from keras.layers import Activation\n",
    "from keras.optimizers import SGD,Adam,Adamax\n",
    "\n",
    "input_shape=(31, 1)\n",
    "\n",
    "model = Sequential()\n",
    "\n",
    "#conv1\n",
    "model.add(Conv2D(filters=32, kernel_size=(3, 3),\n",
    "                activation='relu',\n",
    "                input_shape=input_shape))\n",
    "          \n",
    "#conv2\n",
    "model.add(Conv2D(filters=64, kernel_size=(3, 3), activation='relu')\n",
    "         )\n",
    "#pool1\n",
    "model.add(MaxPooling2D(pool_size=(2, 2))\n",
    "         )\n",
    "#conv3\n",
    "model.add(Conv2D(filters=64, kernel_size=(3, 3), activation='relu')\n",
    "         )\n",
    "#pool2\n",
    "model.add(MaxPooling2D(pool_size=(2, 2))\n",
    "         )\n",
    "#dropout1\n",
    "model.add(Dropout(0.5))\n",
    "model.add(Flatten())\n",
    "#dense1\n",
    "model.add(Dense(128, activation='relu')   # Dense 只收一維\n",
    "         )\n",
    "#dropout2\n",
    "model.add(Dropout(0.5))\n",
    "#dense2\n",
    "model.add(Dense(10, activation='softmax'))\n",
    "\n",
    "model.compile(loss='categorical_crossentropy',\n",
    "              optimizer=SGD(lr=0.05),\n",
    "              metrics=['accuracy'])"
   ]
  },
  {
   "cell_type": "code",
   "execution_count": null,
   "metadata": {},
   "outputs": [],
   "source": []
  }
 ],
 "metadata": {
  "kernelspec": {
   "display_name": "Python 3",
   "language": "python",
   "name": "python3"
  },
  "language_info": {
   "codemirror_mode": {
    "name": "ipython",
    "version": 3
   },
   "file_extension": ".py",
   "mimetype": "text/x-python",
   "name": "python",
   "nbconvert_exporter": "python",
   "pygments_lexer": "ipython3",
   "version": "3.7.3"
  }
 },
 "nbformat": 4,
 "nbformat_minor": 2
}
