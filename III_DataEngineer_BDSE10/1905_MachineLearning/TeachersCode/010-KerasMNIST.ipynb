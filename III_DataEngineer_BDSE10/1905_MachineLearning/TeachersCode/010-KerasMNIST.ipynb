{
 "cells": [
  {
   "cell_type": "markdown",
   "metadata": {},
   "source": [
    "# 本筆記將帶大家用Keras建模\n",
    "# 此範例使用MNIST手寫數字資料集"
   ]
  },
  {
   "cell_type": "markdown",
   "metadata": {},
   "source": [
    "---\n",
    "\n",
    "# 索引\n",
    "\n",
    "[1. 資料準備](#I.-資料準備)\n",
    "  * [1.a. 載入圖片](#1.a.-載入圖片)\n",
    "  * [1.b. 利用Pandas可迅速了解每個資料夾裡面有幾張圖片](#1.b.-利用Pandas可迅速了解每個資料夾裡面有幾張圖片)\n",
    "  * [1.c. 將圖片路徑資料切割成三份：取其80%做為train-data。 之後，剩下的20%中的10%做validation data，10%做test data](#1.c.-將圖片路徑資料切割成三份：取其80%做為train-data。-之後，剩下的20%中的10%做validation-data，10%做test-data)\n",
    "  * [1.d. 將圖片載入，存成數值矩陣](#1.d.-將圖片載入，存成數值矩陣)\n",
    "  \n",
    "\n",
    "[2. Softmax Regression](#2.-Softmax-Regression)\n",
    "\n",
    "  * [2.a. 將y 轉成one hot形式](#2.a.-將y-轉成one-hot形式)\n",
    "  * [2.b. 開始建立模型](#2.b.-開始建立模型)\n",
    "  * [2.c. 開始訓練模型](#2.c.-開始訓練模型)\n",
    "  * [2.d. 檢視訓練好的模型用於test data有多少準確率](#2.d.-檢視訓練好的模型用於test-data有多少準確率)\n",
    "  * [2.e. 檢視50筆測試資料的預測結果，以稍為了解預測是否還算ok](#2.e.-檢視50筆測試資料的預測結果，以稍為了解預測是否還算ok)\n",
    "  * [2.f. 畫出模型訓練過程](#2.f.-畫出模型訓練過程)\n",
    "  * [2.g. 儲存模型和權重](#2.g.-儲存模型和權重)\n",
    "  * [2.h. 載入存好的模型和權重](#2.h.-載入存好的模型和權重)\n",
    "  * [2.i. 輸出分類報告](#2.i.-輸出分類報告)\n",
    "  \n",
    "[3. AlexNet-like Network](#3.-AlexNet-like-Network)\n",
    "\n",
    "  * [3.a. 建立模型](#3.a.-建立模型)\n",
    "  * [3.b. 訓練模型](#3.b.-訓練模型)\n",
    "  * [3.c. 檢視模型訓練結果](#3.c.-檢視模型訓練結果)\n",
    "  * [3.d. 檢視模型準確率](#3.d.-檢視模型準確率)\n",
    "  * [3.e. 檢視分類報告](#3.e.-檢視分類報告)\n",
    "  \n",
    "---"
   ]
  },
  {
   "cell_type": "code",
   "execution_count": 6,
   "metadata": {},
   "outputs": [],
   "source": [
    "# =========================================================================\n",
    "# 由於課堂上可能有多人共用同一顆GPU，以下限定使用者只能用計算卡上45%的記憶體。\n",
    "import tensorflow as tf\n",
    "from keras.backend.tensorflow_backend import set_session\n",
    "config = tf.ConfigProto()\n",
    "config.gpu_options.per_process_gpu_memory_fraction = 0.45 # 使用45%記憶體\n",
    "set_session(tf.Session(config=config))\n",
    "# ========================================================================="
   ]
  },
  {
   "cell_type": "code",
   "execution_count": 7,
   "metadata": {},
   "outputs": [],
   "source": [
    "import numpy as np\n",
    "import matplotlib.pyplot as plt\n",
    "%matplotlib inline\n",
    "import seaborn as sns\n",
    "sns.set()\n",
    "import pandas as pd\n",
    "import sklearn\n",
    "import os\n",
    "\n",
    "import keras"
   ]
  },
  {
   "cell_type": "markdown",
   "metadata": {},
   "source": [
    "---"
   ]
  },
  {
   "cell_type": "markdown",
   "metadata": {},
   "source": [
    "### 1. 資料準備"
   ]
  },
  {
   "cell_type": "markdown",
   "metadata": {},
   "source": [
    "#### 1.a. 載入圖片"
   ]
  },
  {
   "cell_type": "code",
   "execution_count": 8,
   "metadata": {},
   "outputs": [],
   "source": [
    "def filePathsGen(rootPath):\n",
    "    '''此函數將rootPath資料夾目錄中的所有圖片路徑資訊儲存至一個清單內。'''\n",
    "    paths=[]\n",
    "    dirs=[]\n",
    "    for dirPath,dirNames,fileNames in os.walk(rootPath):\n",
    "        for fileName in fileNames:\n",
    "            fullPath=os.path.join(dirPath,fileName)\n",
    "            paths.append((int(dirPath[len(rootPath) ]),fullPath))\n",
    "        dirs.append(dirNames)\n",
    "    return dirs,paths"
   ]
  },
  {
   "cell_type": "code",
   "execution_count": 9,
   "metadata": {},
   "outputs": [
    {
     "name": "stderr",
     "output_type": "stream",
     "text": [
      "'ls' 不是內部或外部命令、可執行的程式或批次檔。\n"
     ]
    }
   ],
   "source": [
    "!ls ../datasets/mnist"
   ]
  },
  {
   "cell_type": "code",
   "execution_count": 10,
   "metadata": {},
   "outputs": [
    {
     "data": {
      "text/html": [
       "<div>\n",
       "<style scoped>\n",
       "    .dataframe tbody tr th:only-of-type {\n",
       "        vertical-align: middle;\n",
       "    }\n",
       "\n",
       "    .dataframe tbody tr th {\n",
       "        vertical-align: top;\n",
       "    }\n",
       "\n",
       "    .dataframe thead th {\n",
       "        text-align: right;\n",
       "    }\n",
       "</style>\n",
       "<table border=\"1\" class=\"dataframe\">\n",
       "  <thead>\n",
       "    <tr style=\"text-align: right;\">\n",
       "      <th></th>\n",
       "      <th>class</th>\n",
       "      <th>path</th>\n",
       "    </tr>\n",
       "  </thead>\n",
       "  <tbody>\n",
       "    <tr>\n",
       "      <th>0</th>\n",
       "      <td>0</td>\n",
       "      <td>../datasets/mnist/0\\00001.jpg</td>\n",
       "    </tr>\n",
       "    <tr>\n",
       "      <th>1</th>\n",
       "      <td>0</td>\n",
       "      <td>../datasets/mnist/0\\00021.jpg</td>\n",
       "    </tr>\n",
       "    <tr>\n",
       "      <th>2</th>\n",
       "      <td>0</td>\n",
       "      <td>../datasets/mnist/0\\00034.jpg</td>\n",
       "    </tr>\n",
       "  </tbody>\n",
       "</table>\n",
       "</div>"
      ],
      "text/plain": [
       "   class                           path\n",
       "0      0  ../datasets/mnist/0\\00001.jpg\n",
       "1      0  ../datasets/mnist/0\\00021.jpg\n",
       "2      0  ../datasets/mnist/0\\00034.jpg"
      ]
     },
     "execution_count": 10,
     "metadata": {},
     "output_type": "execute_result"
    }
   ],
   "source": [
    "dirs,paths=filePathsGen('../datasets/mnist/') #載入圖片路徑\n",
    "\n",
    "dfPath=pd.DataFrame(paths,columns=['class','path']) #圖片路徑存成Pandas資料表\n",
    "dfPath.head(3) # 看資料表前3個row"
   ]
  },
  {
   "cell_type": "markdown",
   "metadata": {},
   "source": [
    "[回索引](#索引)"
   ]
  },
  {
   "cell_type": "markdown",
   "metadata": {
    "collapsed": true
   },
   "source": [
    "#### 1.b. 利用Pandas可迅速了解每個資料夾裡面有幾張圖片"
   ]
  },
  {
   "cell_type": "code",
   "execution_count": 11,
   "metadata": {},
   "outputs": [
    {
     "data": {
      "text/plain": [
       "<matplotlib.axes._subplots.AxesSubplot at 0x23115a4a400>"
      ]
     },
     "execution_count": 11,
     "metadata": {},
     "output_type": "execute_result"
    },
    {
     "data": {
      "image/png": "[encoded data removed]",
      "text/plain": [
       "<Figure size 432x288 with 1 Axes>"
      ]
     },
     "metadata": {},
     "output_type": "display_data"
    }
   ],
   "source": [
    "#依照class分群後，數各群的數量，並繪圖\n",
    "dfCountPerClass=dfPath.groupby('class').count()\n",
    "dfCountPerClass.rename(columns={'path':'amount of figures'},inplace=True)\n",
    "dfCountPerClass.plot(kind='bar',rot=0)"
   ]
  },
  {
   "cell_type": "markdown",
   "metadata": {},
   "source": [
    "[回索引](#索引)"
   ]
  },
  {
   "cell_type": "markdown",
   "metadata": {},
   "source": [
    "####  1.c. 將圖片路徑資料切割成三份：取其80%做為train data。 之後，剩下的20%中取一半做validation data，另一半做test data"
   ]
  },
  {
   "cell_type": "code",
   "execution_count": 12,
   "metadata": {},
   "outputs": [
    {
     "name": "stdout",
     "output_type": "stream",
     "text": [
      "shape(all figures)=\t\t (60000, 2)\n",
      "shape(fraction of figures)=\t (60000, 2)\n",
      "shape(train)=\t\t\t (48000, 2)\n",
      "shape(trainVal)=\t\t (6000, 2)\n",
      "shape(test)=\t\t\t (6000, 2)\n"
     ]
    },
    {
     "data": {
      "image/png": "[encoded data removed]",
      "text/plain": [
       "<Figure size 432x288 with 1 Axes>"
      ]
     },
     "metadata": {},
     "output_type": "display_data"
    },
    {
     "data": {
      "image/png": "[encoded data removed]",
      "text/plain": [
       "<Figure size 432x288 with 1 Axes>"
      ]
     },
     "metadata": {},
     "output_type": "display_data"
    },
    {
     "data": {
      "image/png": "[encoded data removed]",
      "text/plain": [
       "<Figure size 432x288 with 1 Axes>"
      ]
     },
     "metadata": {},
     "output_type": "display_data"
    }
   ],
   "source": [
    "dfFrac=dfPath.sample(frac=1) # 打亂一下path data\n",
    "    \n",
    "train=dfFrac.sample(frac=0.8) # 將path data隨機取樣，80%的path data當train\n",
    "test=dfFrac.drop(train.index) # 20%的path data當test\n",
    "\n",
    "trainVal=test.sample(frac=0.5)\n",
    "test=test.drop(trainVal.index)\n",
    "\n",
    "print('shape(all figures)=\\t\\t',dfPath.shape)\n",
    "print('shape(fraction of figures)=\\t',dfFrac.shape)\n",
    "print('shape(train)=\\t\\t\\t',train.shape)\n",
    "print('shape(trainVal)=\\t\\t',trainVal.shape)\n",
    "print('shape(test)=\\t\\t\\t',test.shape)\n",
    "\n",
    "#隨便抓三張圖來看\n",
    "for j in range(3):\n",
    "    img=plt.imread(train['path'].iloc[j])\n",
    "    plt.imshow(img,cmap=\"gray\")\n",
    "    plt.show()"
   ]
  },
  {
   "cell_type": "markdown",
   "metadata": {},
   "source": [
    "[回索引](#索引)"
   ]
  },
  {
   "cell_type": "markdown",
   "metadata": {
    "collapsed": true
   },
   "source": [
    "####  1.d. 將圖片載入，存成數值矩陣"
   ]
  },
  {
   "cell_type": "code",
   "execution_count": 13,
   "metadata": {},
   "outputs": [],
   "source": [
    "def dataLoad(dfPath):\n",
    "    paths=dfPath['path'].values\n",
    "    x=np.zeros((len(paths),28,28),dtype=np.float32 )\n",
    "    for j in range(len(paths)):\n",
    "        x[j,:,:]=plt.imread(paths[j])/255\n",
    "\n",
    "    y=dfPath['class'].values\n",
    "    return x,y"
   ]
  },
  {
   "cell_type": "code",
   "execution_count": 14,
   "metadata": {},
   "outputs": [],
   "source": [
    "trainX,trainY=dataLoad(train)\n",
    "trainValX,trainValY=dataLoad(trainVal)\n",
    "testX,testY=dataLoad(test)"
   ]
  },
  {
   "cell_type": "code",
   "execution_count": 15,
   "metadata": {},
   "outputs": [
    {
     "name": "stdout",
     "output_type": "stream",
     "text": [
      "train:\t (48000, 28, 28) (48000,)\n",
      "trainVal: (6000, 28, 28) (6000,)\n",
      "test:\t (6000, 28, 28) (6000,)\n"
     ]
    }
   ],
   "source": [
    "print('train:\\t',trainX.shape,trainY.shape)\n",
    "print('trainVal:',trainValX.shape,trainValY.shape)\n",
    "print('test:\\t',testX.shape,testY.shape)"
   ]
  },
  {
   "cell_type": "markdown",
   "metadata": {},
   "source": [
    "[回索引](#索引)"
   ]
  },
  {
   "cell_type": "markdown",
   "metadata": {},
   "source": [
    "## 2. Softmax Regression"
   ]
  },
  {
   "cell_type": "code",
   "execution_count": 16,
   "metadata": {},
   "outputs": [],
   "source": [
    "from keras.models import Sequential\n",
    "from keras.layers import Dense,Flatten\n",
    "from keras.optimizers import SGD"
   ]
  },
  {
   "cell_type": "markdown",
   "metadata": {},
   "source": [
    "#### 2.a. 將y 轉成one hot形式"
   ]
  },
  {
   "cell_type": "code",
   "execution_count": 17,
   "metadata": {},
   "outputs": [
    {
     "name": "stderr",
     "output_type": "stream",
     "text": [
      "C:\\Users\\Student\\Anaconda3\\lib\\site-packages\\sklearn\\preprocessing\\_encoders.py:371: FutureWarning: The handling of integer data will change in version 0.22. Currently, the categories are determined based on the range [0, max(values)], while in the future they will be determined based on the unique values.\n",
      "If you want the future behaviour and silence this warning, you can specify \"categories='auto'\".\n",
      "In case you used a LabelEncoder before this OneHotEncoder to convert the categories to integers, then you can now use the OneHotEncoder directly.\n",
      "  warnings.warn(msg, FutureWarning)\n",
      "C:\\Users\\Student\\Anaconda3\\lib\\site-packages\\sklearn\\preprocessing\\_encoders.py:371: FutureWarning: The handling of integer data will change in version 0.22. Currently, the categories are determined based on the range [0, max(values)], while in the future they will be determined based on the unique values.\n",
      "If you want the future behaviour and silence this warning, you can specify \"categories='auto'\".\n",
      "In case you used a LabelEncoder before this OneHotEncoder to convert the categories to integers, then you can now use the OneHotEncoder directly.\n",
      "  warnings.warn(msg, FutureWarning)\n",
      "C:\\Users\\Student\\Anaconda3\\lib\\site-packages\\sklearn\\preprocessing\\_encoders.py:371: FutureWarning: The handling of integer data will change in version 0.22. Currently, the categories are determined based on the range [0, max(values)], while in the future they will be determined based on the unique values.\n",
      "If you want the future behaviour and silence this warning, you can specify \"categories='auto'\".\n",
      "In case you used a LabelEncoder before this OneHotEncoder to convert the categories to integers, then you can now use the OneHotEncoder directly.\n",
      "  warnings.warn(msg, FutureWarning)\n"
     ]
    }
   ],
   "source": [
    "from sklearn.preprocessing import OneHotEncoder\n",
    "enc = OneHotEncoder()\n",
    "trainYOneHot=enc.fit_transform(trainY.reshape(-1,1)) \\\n",
    "                .toarray()\n",
    "\n",
    "trainValYOneHot=enc.fit_transform(trainValY.reshape(-1,1)) \\\n",
    "                   .toarray()\n",
    "\n",
    "testYOneHot=enc.fit_transform(testY.reshape(-1,1)) \\\n",
    "               .toarray()"
   ]
  },
  {
   "cell_type": "code",
   "execution_count": 18,
   "metadata": {},
   "outputs": [
    {
     "name": "stdout",
     "output_type": "stream",
     "text": [
      "train:\t (48000, 28, 28) (48000,)\n",
      "trainVal: (6000, 28, 28) (6000,)\n",
      "test:\t (6000, 28, 28) (6000,)\n"
     ]
    }
   ],
   "source": [
    "print('train:\\t',trainX.shape,trainY.shape)\n",
    "print('trainVal:',trainValX.shape,trainValY.shape)\n",
    "print('test:\\t',testX.shape,testY.shape)"
   ]
  },
  {
   "cell_type": "code",
   "execution_count": 19,
   "metadata": {},
   "outputs": [
    {
     "data": {
      "text/plain": [
       "(6000, 10)"
      ]
     },
     "execution_count": 19,
     "metadata": {},
     "output_type": "execute_result"
    }
   ],
   "source": [
    "testYOneHot.shape"
   ]
  },
  {
   "cell_type": "code",
   "execution_count": 20,
   "metadata": {},
   "outputs": [
    {
     "data": {
      "text/plain": [
       "array([[1., 0., 0., ..., 0., 0., 0.],\n",
       "       [0., 0., 0., ..., 0., 0., 0.],\n",
       "       [0., 0., 0., ..., 0., 0., 0.],\n",
       "       ...,\n",
       "       [0., 0., 0., ..., 0., 0., 0.],\n",
       "       [0., 0., 0., ..., 0., 0., 0.],\n",
       "       [1., 0., 0., ..., 0., 0., 0.]])"
      ]
     },
     "execution_count": 20,
     "metadata": {},
     "output_type": "execute_result"
    }
   ],
   "source": [
    "testYOneHot"
   ]
  },
  {
   "cell_type": "markdown",
   "metadata": {},
   "source": [
    "[回索引](#索引)"
   ]
  },
  {
   "cell_type": "markdown",
   "metadata": {},
   "source": [
    "#### 2.b. 開始建立模型"
   ]
  },
  {
   "cell_type": "code",
   "execution_count": 21,
   "metadata": {},
   "outputs": [],
   "source": [
    "from keras.layers import Flatten"
   ]
  },
  {
   "cell_type": "code",
   "execution_count": 22,
   "metadata": {},
   "outputs": [
    {
     "data": {
      "text/plain": [
       "(48000, 28, 28)"
      ]
     },
     "execution_count": 22,
     "metadata": {},
     "output_type": "execute_result"
    }
   ],
   "source": [
    "trainX.shape"
   ]
  },
  {
   "cell_type": "code",
   "execution_count": 23,
   "metadata": {},
   "outputs": [],
   "source": [
    "model = Sequential()\n",
    "model.add(Flatten(input_shape=(28,28)))"
   ]
  },
  {
   "cell_type": "code",
   "execution_count": 24,
   "metadata": {},
   "outputs": [
    {
     "data": {
      "text/plain": [
       "(48000, 784)"
      ]
     },
     "execution_count": 24,
     "metadata": {},
     "output_type": "execute_result"
    }
   ],
   "source": [
    "( model.predict(trainX) ).shape"
   ]
  },
  {
   "cell_type": "code",
   "execution_count": 25,
   "metadata": {},
   "outputs": [
    {
     "name": "stdout",
     "output_type": "stream",
     "text": [
      "WARNING:tensorflow:From C:\\Users\\Student\\Anaconda3\\lib\\site-packages\\tensorflow\\python\\framework\\op_def_library.py:263: colocate_with (from tensorflow.python.framework.ops) is deprecated and will be removed in a future version.\n",
      "Instructions for updating:\n",
      "Colocations handled automatically by placer.\n"
     ]
    }
   ],
   "source": [
    "model = Sequential()\n",
    "model.add(Flatten(input_shape=(28,28)))    # 此層將28X28的資料攤成1維\n",
    "model.add(Dense(10, activation='softmax') )# 此層將以十個神經元輸出十種數字的個別機率\n",
    "\n",
    "sgd=SGD(lr=0.05) \n",
    "model.compile(optimizer= sgd,             # 告知模型訓練方式 \n",
    "      loss='categorical_crossentropy',\n",
    "      metrics=['accuracy'])"
   ]
  },
  {
   "cell_type": "code",
   "execution_count": 26,
   "metadata": {},
   "outputs": [
    {
     "name": "stdout",
     "output_type": "stream",
     "text": [
      "_________________________________________________________________\n",
      "Layer (type)                 Output Shape              Param #   \n",
      "=================================================================\n",
      "flatten_2 (Flatten)          (None, 784)               0         \n",
      "_________________________________________________________________\n",
      "dense_1 (Dense)              (None, 10)                7850      \n",
      "=================================================================\n",
      "Total params: 7,850\n",
      "Trainable params: 7,850\n",
      "Non-trainable params: 0\n",
      "_________________________________________________________________\n"
     ]
    }
   ],
   "source": [
    "# 檢視一下所訓練的模型\n",
    "model.summary()"
   ]
  },
  {
   "cell_type": "markdown",
   "metadata": {},
   "source": [
    "[回索引](#索引)"
   ]
  },
  {
   "cell_type": "markdown",
   "metadata": {},
   "source": [
    "#### 2.c. 開始訓練模型"
   ]
  },
  {
   "cell_type": "code",
   "execution_count": 27,
   "metadata": {
    "scrolled": false
   },
   "outputs": [
    {
     "name": "stdout",
     "output_type": "stream",
     "text": [
      "WARNING:tensorflow:From C:\\Users\\Student\\Anaconda3\\lib\\site-packages\\tensorflow\\python\\ops\\math_ops.py:3066: to_int32 (from tensorflow.python.ops.math_ops) is deprecated and will be removed in a future version.\n",
      "Instructions for updating:\n",
      "Use tf.cast instead.\n",
      "Train on 48000 samples, validate on 6000 samples\n",
      "Epoch 1/20\n",
      "48000/48000 [==============================] - 1s 29us/step - loss: 2.2728 - acc: 0.6602 - val_loss: 1.9340 - val_acc: 0.7753\n",
      "Epoch 2/20\n",
      "48000/48000 [==============================] - 1s 12us/step - loss: 1.8238 - acc: 0.8045 - val_loss: 1.8415 - val_acc: 0.8080\n",
      "Epoch 3/20\n",
      "48000/48000 [==============================] - 1s 12us/step - loss: 1.7774 - acc: 0.8165 - val_loss: 1.8009 - val_acc: 0.8248\n",
      "Epoch 4/20\n",
      "48000/48000 [==============================] - 1s 11us/step - loss: 1.7545 - acc: 0.8234 - val_loss: 1.7845 - val_acc: 0.8250\n",
      "Epoch 5/20\n",
      "48000/48000 [==============================] - 1s 12us/step - loss: 1.7408 - acc: 0.8261 - val_loss: 1.7776 - val_acc: 0.8278\n",
      "Epoch 6/20\n",
      "48000/48000 [==============================] - 1s 12us/step - loss: 1.7306 - acc: 0.8301 - val_loss: 1.7670 - val_acc: 0.8305\n",
      "Epoch 7/20\n",
      "48000/48000 [==============================] - 1s 11us/step - loss: 1.7225 - acc: 0.8331 - val_loss: 1.7769 - val_acc: 0.8293\n",
      "Epoch 8/20\n",
      "48000/48000 [==============================] - 1s 12us/step - loss: 1.7157 - acc: 0.8341 - val_loss: 1.7559 - val_acc: 0.8335\n",
      "Epoch 9/20\n",
      "48000/48000 [==============================] - 1s 12us/step - loss: 1.7127 - acc: 0.8355 - val_loss: 1.7617 - val_acc: 0.8293\n",
      "Epoch 10/20\n",
      "48000/48000 [==============================] - 1s 12us/step - loss: 1.7067 - acc: 0.8365 - val_loss: 1.7631 - val_acc: 0.8335\n",
      "Epoch 11/20\n",
      "48000/48000 [==============================] - 1s 11us/step - loss: 1.7039 - acc: 0.8384 - val_loss: 1.7442 - val_acc: 0.8383\n",
      "Epoch 12/20\n",
      "48000/48000 [==============================] - 1s 12us/step - loss: 1.7007 - acc: 0.8388 - val_loss: 1.7431 - val_acc: 0.8387\n",
      "Epoch 13/20\n",
      "48000/48000 [==============================] - 1s 13us/step - loss: 1.6981 - acc: 0.8398 - val_loss: 1.7475 - val_acc: 0.8368\n",
      "Epoch 14/20\n",
      "48000/48000 [==============================] - 1s 11us/step - loss: 1.6948 - acc: 0.8413 - val_loss: 1.7420 - val_acc: 0.8370\n",
      "Epoch 15/20\n",
      "48000/48000 [==============================] - 1s 12us/step - loss: 1.6927 - acc: 0.8414 - val_loss: 1.7376 - val_acc: 0.8405\n",
      "Epoch 16/20\n",
      "48000/48000 [==============================] - 1s 12us/step - loss: 1.6909 - acc: 0.8425 - val_loss: 1.7390 - val_acc: 0.8388\n",
      "Epoch 17/20\n",
      "48000/48000 [==============================] - 1s 12us/step - loss: 1.6888 - acc: 0.8423 - val_loss: 1.7459 - val_acc: 0.8418\n",
      "Epoch 18/20\n",
      "48000/48000 [==============================] - 1s 11us/step - loss: 1.6875 - acc: 0.8429 - val_loss: 1.7374 - val_acc: 0.8388\n",
      "Epoch 19/20\n",
      "48000/48000 [==============================] - 1s 12us/step - loss: 1.6860 - acc: 0.8437 - val_loss: 1.7337 - val_acc: 0.8395\n",
      "Epoch 20/20\n",
      "48000/48000 [==============================] - 1s 12us/step - loss: 1.6843 - acc: 0.8437 - val_loss: 1.7505 - val_acc: 0.8305\n"
     ]
    }
   ],
   "source": [
    "hist=model.fit(trainX, trainYOneHot,      \n",
    "               epochs=20, batch_size=128,\n",
    "               validation_data=(trainValX,trainValYOneHot))"
   ]
  },
  {
   "cell_type": "markdown",
   "metadata": {},
   "source": [
    "[回索引](#索引)"
   ]
  },
  {
   "cell_type": "markdown",
   "metadata": {},
   "source": [
    "#### 2.d. 檢視訓練好的模型用於test data有多少準確率"
   ]
  },
  {
   "cell_type": "code",
   "execution_count": 28,
   "metadata": {},
   "outputs": [
    {
     "name": "stdout",
     "output_type": "stream",
     "text": [
      "6000/6000 [==============================] - 0s 6us/step\n",
      "\n",
      "\n",
      "loss=1.6897010431289672 \n",
      "accuracy=0.8351666669845581\n"
     ]
    }
   ],
   "source": [
    "score = model.evaluate(testX, testYOneHot, batch_size=128)\n",
    "print()\n",
    "print('\\nloss=%s \\naccuracy=%s'%(score[0],score[1]) )"
   ]
  },
  {
   "cell_type": "code",
   "execution_count": 29,
   "metadata": {},
   "outputs": [],
   "source": [
    "# j=0\n",
    "# trainValX[j:j+1,:][0].shape"
   ]
  },
  {
   "cell_type": "markdown",
   "metadata": {},
   "source": [
    "[回索引](#索引)"
   ]
  },
  {
   "cell_type": "markdown",
   "metadata": {},
   "source": [
    "#### 2.e. 檢視50筆測試資料的預測結果，以稍為了解預測是否還算ok"
   ]
  },
  {
   "cell_type": "code",
   "execution_count": 30,
   "metadata": {},
   "outputs": [
    {
     "name": "stdout",
     "output_type": "stream",
     "text": [
      "7 7\t8 8\t2 2\t1 8\t8 5\t9 9\t0 0\t9 9\t1 1\t0 0\t8 8\t9 7\t0 0\t8 8\t1 1\t4 4\t3 3\t9 9\t0 0\t9 5\t8 8\t2 2\t1 1\t2 2\t9 9\t4 4\t6 5\t4 4\t6 5\t1 1\t1 1\t3 3\t1 1\t9 7\t6 6\t6 6\t8 8\t8 5\t1 1\t1 1\t8 8\t8 8\t9 9\t1 1\t2 2\t4 4\t3 3\t8 8\t9 7\t3 3\t"
     ]
    }
   ],
   "source": [
    "for j in range(50):\n",
    "    predY= model.predict(trainValX[j:j+1,:]).argmax()\n",
    "    trueY= trainValYOneHot[j].argmax()\n",
    "    print( predY,trueY,end='\\t')"
   ]
  },
  {
   "cell_type": "markdown",
   "metadata": {},
   "source": [
    "[回索引](#索引)"
   ]
  },
  {
   "cell_type": "markdown",
   "metadata": {},
   "source": [
    "#### 2.f. 畫出模型訓練過程"
   ]
  },
  {
   "cell_type": "code",
   "execution_count": 31,
   "metadata": {},
   "outputs": [
    {
     "data": {
      "image/png": "[encoded data removed]",
      "text/plain": [
       "<Figure size 432x288 with 1 Axes>"
      ]
     },
     "metadata": {},
     "output_type": "display_data"
    }
   ],
   "source": [
    "plt.plot(hist.history['acc'],ms=5,marker='o',label='accuracy')\n",
    "plt.plot(hist.history['val_acc'],ms=5,marker='o',label='val accuracy')\n",
    "plt.legend()\n",
    "plt.show()"
   ]
  },
  {
   "cell_type": "markdown",
   "metadata": {},
   "source": [
    "[回索引](#索引)"
   ]
  },
  {
   "cell_type": "markdown",
   "metadata": {},
   "source": [
    "#### 2.g. 儲存模型和權重"
   ]
  },
  {
   "cell_type": "code",
   "execution_count": 32,
   "metadata": {},
   "outputs": [],
   "source": [
    "import json\n",
    "with open('first_try.json', 'w') as jsOut:\n",
    "    json.dump(model.to_json(), jsOut)\n",
    "\n",
    "model.save_weights('first_try.h5')"
   ]
  },
  {
   "cell_type": "markdown",
   "metadata": {},
   "source": [
    "[回索引](#索引)"
   ]
  },
  {
   "cell_type": "markdown",
   "metadata": {},
   "source": [
    "#### 2.h. 載入存好的模型和權重"
   ]
  },
  {
   "cell_type": "code",
   "execution_count": 33,
   "metadata": {},
   "outputs": [],
   "source": [
    "from keras.models import model_from_json"
   ]
  },
  {
   "cell_type": "code",
   "execution_count": 34,
   "metadata": {},
   "outputs": [],
   "source": [
    "with open('first_try.json', 'r') as jsIn:\n",
    "    modelJson=json.load(jsIn)\n",
    "    \n",
    "modelLoaded=model_from_json(modelJson)\n",
    "modelLoaded.load_weights('first_try.h5')"
   ]
  },
  {
   "cell_type": "code",
   "execution_count": 35,
   "metadata": {},
   "outputs": [
    {
     "name": "stdout",
     "output_type": "stream",
     "text": [
      "_________________________________________________________________\n",
      "Layer (type)                 Output Shape              Param #   \n",
      "=================================================================\n",
      "flatten_2 (Flatten)          (None, 784)               0         \n",
      "_________________________________________________________________\n",
      "dense_1 (Dense)              (None, 10)                7850      \n",
      "=================================================================\n",
      "Total params: 7,850\n",
      "Trainable params: 7,850\n",
      "Non-trainable params: 0\n",
      "_________________________________________________________________\n"
     ]
    }
   ],
   "source": [
    "modelLoaded.summary()"
   ]
  },
  {
   "cell_type": "markdown",
   "metadata": {},
   "source": [
    "[回索引](#索引)"
   ]
  },
  {
   "cell_type": "markdown",
   "metadata": {},
   "source": [
    "#### 2.i. 輸出分類報告"
   ]
  },
  {
   "cell_type": "code",
   "execution_count": 36,
   "metadata": {},
   "outputs": [
    {
     "name": "stdout",
     "output_type": "stream",
     "text": [
      "              precision    recall  f1-score   support\n",
      "\n",
      "           0       0.92      0.96      0.94       588\n",
      "           1       0.92      0.98      0.95       673\n",
      "           2       0.93      0.86      0.89       615\n",
      "           3       0.70      0.93      0.80       596\n",
      "           4       0.89      0.88      0.89       606\n",
      "           5       0.00      0.00      0.00       532\n",
      "           6       0.92      0.97      0.94       603\n",
      "           7       0.95      0.83      0.89       600\n",
      "           8       0.73      0.90      0.80       622\n",
      "           9       0.68      0.94      0.79       565\n",
      "\n",
      "   micro avg       0.84      0.84      0.84      6000\n",
      "   macro avg       0.76      0.82      0.79      6000\n",
      "weighted avg       0.77      0.84      0.80      6000\n",
      "\n"
     ]
    },
    {
     "name": "stderr",
     "output_type": "stream",
     "text": [
      "C:\\Users\\Student\\Anaconda3\\lib\\site-packages\\sklearn\\metrics\\classification.py:1143: UndefinedMetricWarning: Precision and F-score are ill-defined and being set to 0.0 in labels with no predicted samples.\n",
      "  'precision', 'predicted', average, warn_for)\n",
      "C:\\Users\\Student\\Anaconda3\\lib\\site-packages\\sklearn\\metrics\\classification.py:1143: UndefinedMetricWarning: Precision and F-score are ill-defined and being set to 0.0 in labels with no predicted samples.\n",
      "  'precision', 'predicted', average, warn_for)\n",
      "C:\\Users\\Student\\Anaconda3\\lib\\site-packages\\sklearn\\metrics\\classification.py:1143: UndefinedMetricWarning: Precision and F-score are ill-defined and being set to 0.0 in labels with no predicted samples.\n",
      "  'precision', 'predicted', average, warn_for)\n"
     ]
    }
   ],
   "source": [
    "predY=model.predict(testX).argmax(axis=1)\n",
    "from sklearn.metrics import classification_report\n",
    "print( classification_report(testY,predY) )"
   ]
  },
  {
   "cell_type": "markdown",
   "metadata": {},
   "source": [
    "[回索引](#索引)"
   ]
  },
  {
   "cell_type": "markdown",
   "metadata": {},
   "source": [
    "## 3. AlexNet-like Network"
   ]
  },
  {
   "cell_type": "code",
   "execution_count": 37,
   "metadata": {},
   "outputs": [],
   "source": [
    "trainX=trainX.reshape(*trainX.shape,1)\n",
    "trainValX=trainValX.reshape(*trainValX.shape,1)\n",
    "testX=testX.reshape(*testX.shape,1)"
   ]
  },
  {
   "cell_type": "markdown",
   "metadata": {},
   "source": [
    "#### 3.a. 建立模型"
   ]
  },
  {
   "cell_type": "code",
   "execution_count": 38,
   "metadata": {},
   "outputs": [
    {
     "name": "stdout",
     "output_type": "stream",
     "text": [
      "WARNING:tensorflow:From C:\\Users\\Student\\Anaconda3\\lib\\site-packages\\keras\\backend\\tensorflow_backend.py:3445: calling dropout (from tensorflow.python.ops.nn_ops) with keep_prob is deprecated and will be removed in a future version.\n",
      "Instructions for updating:\n",
      "Please use `rate` instead of `keep_prob`. Rate should be set to `rate = 1 - keep_prob`.\n"
     ]
    }
   ],
   "source": [
    "from keras.models import Sequential\n",
    "from keras.layers import Dense, Dropout, Flatten,Conv2D, MaxPooling2D\n",
    "from keras.layers import Activation\n",
    "from keras.optimizers import SGD,Adam,Adamax\n",
    "\n",
    "input_shape=(28,28,1)\n",
    "\n",
    "model = Sequential()\n",
    "\n",
    "#conv1\n",
    "model.add(Conv2D(filters=32, kernel_size=(3, 3),\n",
    "                activation='relu',\n",
    "                input_shape=input_shape))\n",
    "          \n",
    "#conv2\n",
    "model.add(Conv2D(filters=64, kernel_size=(3, 3), activation='relu')\n",
    "         )\n",
    "#pool1\n",
    "model.add(MaxPooling2D(pool_size=(2, 2))\n",
    "         )\n",
    "#conv3\n",
    "model.add(Conv2D(filters=64, kernel_size=(3, 3), activation='relu')\n",
    "         )\n",
    "#pool2\n",
    "model.add(MaxPooling2D(pool_size=(2, 2))\n",
    "         )\n",
    "#dropout1\n",
    "model.add(Dropout(0.5))\n",
    "model.add(Flatten())\n",
    "#dense1\n",
    "model.add(Dense(128, activation='relu')\n",
    "         )\n",
    "#dropout2\n",
    "model.add(Dropout(0.5))\n",
    "#dense2\n",
    "model.add(Dense(10, activation='softmax'))\n",
    "\n",
    "model.compile(loss='categorical_crossentropy',\n",
    "              optimizer=SGD(lr=0.05),\n",
    "              metrics=['accuracy'])"
   ]
  },
  {
   "cell_type": "markdown",
   "metadata": {},
   "source": [
    "[回索引](#索引)"
   ]
  },
  {
   "cell_type": "markdown",
   "metadata": {},
   "source": [
    "#### 3.b. 訓練模型"
   ]
  },
  {
   "cell_type": "code",
   "execution_count": null,
   "metadata": {
    "scrolled": false
   },
   "outputs": [
    {
     "name": "stdout",
     "output_type": "stream",
     "text": [
      "Train on 48000 samples, validate on 6000 samples\n",
      "Epoch 1/30\n",
      "48000/48000 [==============================] - 84s 2ms/step - loss: 1.0782 - acc: 0.6296 - val_loss: 0.1691 - val_acc: 0.9533\n",
      "Epoch 2/30\n",
      "48000/48000 [==============================] - 83s 2ms/step - loss: 0.2644 - acc: 0.9186 - val_loss: 0.1069 - val_acc: 0.9692\n",
      "Epoch 3/30\n",
      "48000/48000 [==============================] - 79s 2ms/step - loss: 0.1868 - acc: 0.9430 - val_loss: 0.0825 - val_acc: 0.9747\n",
      "Epoch 4/30\n",
      "48000/48000 [==============================] - 80s 2ms/step - loss: 0.1535 - acc: 0.9523 - val_loss: 0.0708 - val_acc: 0.9803\n",
      "Epoch 5/30\n",
      "48000/48000 [==============================] - 80s 2ms/step - loss: 0.1322 - acc: 0.9600 - val_loss: 0.0695 - val_acc: 0.9787\n",
      "Epoch 6/30\n",
      "48000/48000 [==============================] - 80s 2ms/step - loss: 0.1193 - acc: 0.9644 - val_loss: 0.0582 - val_acc: 0.9838\n",
      "Epoch 7/30\n",
      "48000/48000 [==============================] - 79s 2ms/step - loss: 0.1093 - acc: 0.9666 - val_loss: 0.0548 - val_acc: 0.9842\n",
      "Epoch 8/30\n",
      "48000/48000 [==============================] - 79s 2ms/step - loss: 0.1005 - acc: 0.9692 - val_loss: 0.0518 - val_acc: 0.9848\n",
      "Epoch 9/30\n",
      "48000/48000 [==============================] - 80s 2ms/step - loss: 0.0960 - acc: 0.9705 - val_loss: 0.0493 - val_acc: 0.9863\n",
      "Epoch 10/30\n",
      "48000/48000 [==============================] - 80s 2ms/step - loss: 0.0906 - acc: 0.9728 - val_loss: 0.0467 - val_acc: 0.9855\n",
      "Epoch 11/30\n",
      "48000/48000 [==============================] - 80s 2ms/step - loss: 0.0861 - acc: 0.9731 - val_loss: 0.0490 - val_acc: 0.9852\n",
      "Epoch 12/30\n",
      "48000/48000 [==============================] - 80s 2ms/step - loss: 0.0812 - acc: 0.9754 - val_loss: 0.0419 - val_acc: 0.9868\n",
      "Epoch 13/30\n",
      "48000/48000 [==============================] - 81s 2ms/step - loss: 0.0769 - acc: 0.9762 - val_loss: 0.0407 - val_acc: 0.9877\n",
      "Epoch 14/30\n",
      "48000/48000 [==============================] - 79s 2ms/step - loss: 0.0744 - acc: 0.9771 - val_loss: 0.0385 - val_acc: 0.9885\n",
      "Epoch 15/30\n",
      "48000/48000 [==============================] - 79s 2ms/step - loss: 0.0727 - acc: 0.9778 - val_loss: 0.0378 - val_acc: 0.9888\n",
      "Epoch 16/30\n",
      "48000/48000 [==============================] - 79s 2ms/step - loss: 0.0691 - acc: 0.9786 - val_loss: 0.0377 - val_acc: 0.9893\n",
      "Epoch 17/30\n",
      "48000/48000 [==============================] - 79s 2ms/step - loss: 0.0668 - acc: 0.9797 - val_loss: 0.0365 - val_acc: 0.9892\n",
      "Epoch 18/30\n",
      "48000/48000 [==============================] - 78s 2ms/step - loss: 0.0644 - acc: 0.9807 - val_loss: 0.0371 - val_acc: 0.9898\n",
      "Epoch 19/30\n",
      "48000/48000 [==============================] - 80s 2ms/step - loss: 0.0594 - acc: 0.9817 - val_loss: 0.0357 - val_acc: 0.9900\n",
      "Epoch 20/30\n",
      "48000/48000 [==============================] - 79s 2ms/step - loss: 0.0613 - acc: 0.9816 - val_loss: 0.0413 - val_acc: 0.9878\n",
      "Epoch 21/30\n",
      "48000/48000 [==============================] - 78s 2ms/step - loss: 0.0587 - acc: 0.9824 - val_loss: 0.0330 - val_acc: 0.9905\n",
      "Epoch 22/30\n",
      "48000/48000 [==============================] - 79s 2ms/step - loss: 0.0580 - acc: 0.9820 - val_loss: 0.0340 - val_acc: 0.9900\n",
      "Epoch 23/30\n",
      " 4224/48000 [=>............................] - ETA: 1:13 - loss: 0.0539 - acc: 0.9827"
     ]
    }
   ],
   "source": [
    "%%time \n",
    "hist=model.fit(trainX, trainYOneHot, \n",
    "               epochs=30,\n",
    "               batch_size=128,\n",
    "               validation_data=(trainValX,trainValYOneHot),\n",
    "              )"
   ]
  },
  {
   "cell_type": "markdown",
   "metadata": {},
   "source": [
    "[回索引](#索引)"
   ]
  },
  {
   "cell_type": "markdown",
   "metadata": {},
   "source": [
    "#### 3.c. 檢視模型訓練結果"
   ]
  },
  {
   "cell_type": "code",
   "execution_count": null,
   "metadata": {},
   "outputs": [],
   "source": [
    "plt.plot(hist.history['acc'],ms=5,marker='o',label='accuracy')\n",
    "plt.plot(hist.history['val_acc'],ms=5,marker='o',label='val accuracy')\n",
    "plt.legend()\n",
    "plt.show()"
   ]
  },
  {
   "cell_type": "markdown",
   "metadata": {},
   "source": [
    "[回索引](#索引)"
   ]
  },
  {
   "cell_type": "markdown",
   "metadata": {},
   "source": [
    "#### 3.d. 檢視模型準確率"
   ]
  },
  {
   "cell_type": "code",
   "execution_count": null,
   "metadata": {},
   "outputs": [],
   "source": [
    "score = model.evaluate(testX, testYOneHot, batch_size=128)\n",
    "print()\n",
    "print('\\nloss=%s \\naccuracy=%s'%(score[0],score[1]) )"
   ]
  },
  {
   "cell_type": "markdown",
   "metadata": {},
   "source": [
    "[回索引](#索引)"
   ]
  },
  {
   "cell_type": "markdown",
   "metadata": {},
   "source": [
    "#### 3.e. 檢視分類報告"
   ]
  },
  {
   "cell_type": "code",
   "execution_count": null,
   "metadata": {},
   "outputs": [],
   "source": [
    "predY=model.predict(testX).argmax(axis=1)\n",
    "from sklearn.metrics import classification_report\n",
    "print( classification_report(predY,testY) )"
   ]
  },
  {
   "cell_type": "markdown",
   "metadata": {},
   "source": [
    "[回索引](#索引)"
   ]
  },
  {
   "cell_type": "code",
   "execution_count": null,
   "metadata": {},
   "outputs": [],
   "source": []
  }
 ],
 "metadata": {
  "kernelspec": {
   "display_name": "Python 3",
   "language": "python",
   "name": "python3"
  },
  "language_info": {
   "codemirror_mode": {
    "name": "ipython",
    "version": 3
   },
   "file_extension": ".py",
   "mimetype": "text/x-python",
   "name": "python",
   "nbconvert_exporter": "python",
   "pygments_lexer": "ipython3",
   "version": "3.7.3"
  }
 },
 "nbformat": 4,
 "nbformat_minor": 2
}
