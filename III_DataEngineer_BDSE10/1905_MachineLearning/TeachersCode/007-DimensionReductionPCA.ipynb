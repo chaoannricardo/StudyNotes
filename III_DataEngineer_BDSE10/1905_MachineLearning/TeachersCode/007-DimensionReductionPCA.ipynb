{
 "cells": [
  {
   "cell_type": "markdown",
   "metadata": {},
   "source": [
    "# 學習目標: 了解PCA基本原理，並知道如何使用PCA做降維。"
   ]
  },
  {
   "cell_type": "code",
   "execution_count": 1,
   "metadata": {},
   "outputs": [],
   "source": [
    "import numpy as np\n",
    "\n",
    "import matplotlib.pyplot as plt\n",
    "%matplotlib inline\n",
    "\n",
    "from sklearn.decomposition import PCA"
   ]
  },
  {
   "cell_type": "markdown",
   "metadata": {},
   "source": [
    "## 建立&畫出練習用的data"
   ]
  },
  {
   "cell_type": "code",
   "execution_count": 2,
   "metadata": {},
   "outputs": [
    {
     "data": {
      "image/png": "[encoded data removed]",
      "text/plain": [
       "<Figure size 432x432 with 1 Axes>"
      ]
     },
     "metadata": {
      "needs_background": "light"
     },
     "output_type": "display_data"
    }
   ],
   "source": [
    "# 建立toy data\n",
    "x1 = np.linspace(-5,5,200)\n",
    "noise = np.random.normal(0,1.,len(x1))\n",
    "x2 = x1 + noise\n",
    "\n",
    "# 畫出toy data\n",
    "plt.figure(figsize=(6,6))\n",
    "plt.scatter(x1,x2)\n",
    "plt.xlabel(\"$x_1$\")\n",
    "plt.ylabel(\"$x_2$\")\n",
    "plt.show()"
   ]
  },
  {
   "cell_type": "markdown",
   "metadata": {},
   "source": [
    "寫一個函數來算data的variance:"
   ]
  },
  {
   "cell_type": "code",
   "execution_count": 4,
   "metadata": {},
   "outputs": [],
   "source": [
    "variance = lambda x:np.sum( (x-x.mean() )**2 ) / ( len(x) - 1 )"
   ]
  },
  {
   "cell_type": "markdown",
   "metadata": {},
   "source": [
    "看$\\sigma^2_{x_1}$:"
   ]
  },
  {
   "cell_type": "code",
   "execution_count": 5,
   "metadata": {},
   "outputs": [
    {
     "data": {
      "text/plain": [
       "8.459382338829828"
      ]
     },
     "execution_count": 5,
     "metadata": {},
     "output_type": "execute_result"
    }
   ],
   "source": [
    "variance(x1)"
   ]
  },
  {
   "cell_type": "markdown",
   "metadata": {},
   "source": [
    "看$\\sigma^2_{x_2}$:"
   ]
  },
  {
   "cell_type": "code",
   "execution_count": 6,
   "metadata": {},
   "outputs": [
    {
     "data": {
      "text/plain": [
       "8.795201767690985"
      ]
     },
     "execution_count": 6,
     "metadata": {},
     "output_type": "execute_result"
    }
   ],
   "source": [
    "variance(x2)"
   ]
  },
  {
   "cell_type": "markdown",
   "metadata": {},
   "source": [
    "看$\\sigma^2_{tot} = \\sigma^2_{x_1}+\\sigma^2_{x_2}$:"
   ]
  },
  {
   "cell_type": "code",
   "execution_count": 7,
   "metadata": {},
   "outputs": [
    {
     "name": "stdout",
     "output_type": "stream",
     "text": [
      "17.254584106520813\n"
     ]
    }
   ],
   "source": [
    "tot_var = variance(x1) + variance(x2)\n",
    "print(tot_var)"
   ]
  },
  {
   "cell_type": "code",
   "execution_count": 8,
   "metadata": {},
   "outputs": [
    {
     "name": "stdout",
     "output_type": "stream",
     "text": [
      "(200, 2)\n"
     ]
    }
   ],
   "source": [
    "data = np.vstack((x1,x2)).T  # 資料組成一個Tensor\n",
    "print(data.shape)"
   ]
  },
  {
   "cell_type": "markdown",
   "metadata": {},
   "source": [
    "## 使用PCA來降維度"
   ]
  },
  {
   "cell_type": "code",
   "execution_count": 9,
   "metadata": {},
   "outputs": [],
   "source": [
    "pca = PCA(n_components=1)    # 模型將會把資料投影至一個方向\n",
    "pca = pca.fit(data)          # 喂資料給模型。模型會根據資料特性，來尋找出恰當的方向向量"
   ]
  },
  {
   "cell_type": "code",
   "execution_count": 10,
   "metadata": {},
   "outputs": [
    {
     "name": "stdout",
     "output_type": "stream",
     "text": [
      "[[0.69985155 0.71428833]]\n"
     ]
    }
   ],
   "source": [
    "unit_vec = pca.components_   # 找到了方向向量\n",
    "print(unit_vec)"
   ]
  },
  {
   "cell_type": "code",
   "execution_count": 11,
   "metadata": {},
   "outputs": [],
   "source": [
    "reduced_data = np.dot(data, unit_vec.T )  # 將資料投影到找出來的\"方向向量\"上\n",
    "# 現在，reduced_data即為降為後的資料"
   ]
  },
  {
   "cell_type": "code",
   "execution_count": null,
   "metadata": {},
   "outputs": [],
   "source": [
    "# reduced_data = pca.transform(data)[0]   # 事實上，也可以直接用transform這個方法來得出降維後的資料"
   ]
  },
  {
   "cell_type": "code",
   "execution_count": 12,
   "metadata": {},
   "outputs": [
    {
     "data": {
      "text/plain": [
       "16.85186131679279"
      ]
     },
     "execution_count": 12,
     "metadata": {},
     "output_type": "execute_result"
    }
   ],
   "source": [
    "variance(reduced_data)                    # 對降維後的資料計算variance"
   ]
  },
  {
   "cell_type": "markdown",
   "metadata": {},
   "source": [
    "我們發現，降維後的資料($x'_1$)，其variance和降維前資料的總variance是差不多的。\n",
    "\n",
    "亦即: $\\sigma^2_{x'_1}) \\approx \\sigma^2_{x_1}+\\sigma^2_{x_2}$."
   ]
  },
  {
   "cell_type": "code",
   "execution_count": 13,
   "metadata": {},
   "outputs": [
    {
     "data": {
      "text/plain": [
       "array([16.85186132])"
      ]
     },
     "execution_count": 13,
     "metadata": {},
     "output_type": "execute_result"
    }
   ],
   "source": [
    "pca.explained_variance_         # 降維後，所有維度的總variance"
   ]
  },
  {
   "cell_type": "code",
   "execution_count": 14,
   "metadata": {},
   "outputs": [
    {
     "data": {
      "text/plain": [
       "array([0.97665995])"
      ]
     },
     "execution_count": 14,
     "metadata": {},
     "output_type": "execute_result"
    }
   ],
   "source": [
    "pca.explained_variance_ratio_   # 降維後，所有維度的總variance，佔降維度前的總variance有多少成分。"
   ]
  },
  {
   "cell_type": "markdown",
   "metadata": {},
   "source": [
    "```pca.explained_variance_ratio_```亦可用以下方式計算而得:"
   ]
  },
  {
   "cell_type": "code",
   "execution_count": null,
   "metadata": {},
   "outputs": [],
   "source": [
    "# variance(reduced_data) / (variance(x1)+ variance(x2))"
   ]
  },
  {
   "cell_type": "markdown",
   "metadata": {},
   "source": [
    "---"
   ]
  },
  {
   "cell_type": "code",
   "execution_count": 39,
   "metadata": {},
   "outputs": [
    {
     "data": {
      "image/png": "[encoded data removed]",
      "text/plain": [
       "<Figure size 432x288 with 1 Axes>"
      ]
     },
     "metadata": {
      "needs_background": "light"
     },
     "output_type": "display_data"
    }
   ],
   "source": [
    "# 建立toy data\n",
    "x1 = np.linspace(-5,5,200)\n",
    "noise = np.random.normal(0,0.1,len(x1))\n",
    "x2 =  noise\n",
    "\n",
    "# 畫出toy data\n",
    "plt.scatter(x1,x2)\n",
    "plt.xlabel(\"$x_1$\")\n",
    "plt.ylabel(\"$x_2$\")\n",
    "plt.ylim(-1,1)\n",
    "plt.show()"
   ]
  },
  {
   "cell_type": "markdown",
   "metadata": {},
   "source": [
    "練習：將以上資料做降維。"
   ]
  },
  {
   "cell_type": "code",
   "execution_count": 40,
   "metadata": {},
   "outputs": [],
   "source": [
    "# pca = PCA(n_components=1)\n",
    "# ...\n",
    "# ..."
   ]
  },
  {
   "cell_type": "code",
   "execution_count": 41,
   "metadata": {},
   "outputs": [
    {
     "name": "stdout",
     "output_type": "stream",
     "text": [
      "8.459382338829828\n",
      "0.00985097006560006\n",
      "8.469233308895427\n"
     ]
    }
   ],
   "source": [
    "print(variance(x1))\n",
    "print(variance(x2))\n",
    "tot_var = variance(x1) + variance(x2)\n",
    "print(tot_var)"
   ]
  },
  {
   "cell_type": "code",
   "execution_count": 42,
   "metadata": {},
   "outputs": [
    {
     "name": "stdout",
     "output_type": "stream",
     "text": [
      "(200, 2)\n"
     ]
    }
   ],
   "source": [
    "data = np.vstack((x1,x2)).T  # 資料組成一個Tensor\n",
    "print(data.shape)"
   ]
  },
  {
   "cell_type": "code",
   "execution_count": 43,
   "metadata": {},
   "outputs": [],
   "source": [
    "pca = PCA(n_components=1)    # 模型將會把資料投影至一個方向\n",
    "pca = pca.fit(data)          # 喂資料給模型。模型會根據資料特性，來尋找出恰當的方向向量"
   ]
  },
  {
   "cell_type": "code",
   "execution_count": 44,
   "metadata": {},
   "outputs": [
    {
     "name": "stdout",
     "output_type": "stream",
     "text": [
      "[[9.99999993e-01 1.14285636e-04]]\n"
     ]
    }
   ],
   "source": [
    "unit_vec = pca.components_   # 找到了方向向量\n",
    "print(unit_vec)"
   ]
  },
  {
   "cell_type": "code",
   "execution_count": 64,
   "metadata": {},
   "outputs": [
    {
     "data": {
      "text/plain": [
       "array([-4.99998955, -4.9497403 , -4.89948582, -4.84923627, -4.79900931,\n",
       "       -4.74874112, -4.69849266, -4.6482439 , -4.59799722, -4.54773696,\n",
       "       -4.49749353, -4.44722889, -4.39697848, -4.34674057, -4.29646653,\n",
       "       -4.2462355 , -4.19599017, -4.14572981, -4.09547644, -4.04520782,\n",
       "       -3.99497046, -3.94474144, -3.89447236, -3.84419954, -3.7939644 ,\n",
       "       -3.74372659, -3.69347687, -3.64323471, -3.5929553 , -3.54271926,\n",
       "       -3.49245723, -3.44221344, -3.39193817, -3.34171285, -3.29145341,\n",
       "       -3.24119465, -3.19095039, -3.1406979 , -3.09046823, -3.04021422,\n",
       "       -2.98994955, -2.93969328, -2.88945285, -2.83919808, -2.78895711,\n",
       "       -2.73871421, -2.68846533, -2.63818174, -2.5879602 , -2.53767816,\n",
       "       -2.48743442, -2.43719329, -2.3869188 , -2.3366985 , -2.28643627,\n",
       "       -2.23617745, -2.18592631, -2.13567284, -2.08543031, -2.03516973,\n",
       "       -1.98491207, -1.93468055, -1.8844249 , -1.83418097, -1.78393129,\n",
       "       -1.73369119, -1.68341618, -1.63316953, -1.58291712, -1.53268526,\n",
       "       -1.48240042, -1.4321582 , -1.38190134, -1.33165312, -1.28141085,\n",
       "       -1.23115384, -1.18090586, -1.13065053, -1.08041685, -1.03015175,\n",
       "       -0.97988639, -0.92964388, -0.87940528, -0.82912654, -0.77887271,\n",
       "       -0.72864958, -0.67837479, -0.6281481 , -0.57789279, -0.52763434,\n",
       "       -0.47739813, -0.42714593, -0.37687219, -0.32664388, -0.27639495,\n",
       "       -0.22613261, -0.17588929, -0.12561133, -0.07538213, -0.02511255,\n",
       "        0.02513212,  0.07536493,  0.12563138,  0.17588524,  0.22612723,\n",
       "        0.2763837 ,  0.3266303 ,  0.37688631,  0.42712597,  0.47736544,\n",
       "        0.52763526,  0.57789491,  0.62814426,  0.67839738,  0.72865345,\n",
       "        0.77890994,  0.82914142,  0.87941523,  0.92963066,  0.97990192,\n",
       "        1.0301689 ,  1.08040591,  1.13062229,  1.18088789,  1.23116692,\n",
       "        1.28142277,  1.33167658,  1.38192613,  1.43215282,  1.48240999,\n",
       "        1.53266533,  1.58292112,  1.63316482,  1.68341309,  1.73367596,\n",
       "        1.78392842,  1.83417193,  1.88440458,  1.93467469,  1.98492044,\n",
       "        2.03519506,  2.08542296,  2.13567542,  2.18593043,  2.23618521,\n",
       "        2.28644676,  2.33669037,  2.38694594,  2.43717663,  2.48740868,\n",
       "        2.5376904 ,  2.58793332,  2.63817367,  2.6884495 ,  2.73870238,\n",
       "        2.78894688,  2.8392253 ,  2.88943497,  2.93970903,  2.98994824,\n",
       "        3.04020419,  3.09043792,  3.14069079,  3.19095117,  3.24119494,\n",
       "        3.2914427 ,  3.34172353,  3.39197229,  3.44219085,  3.49250027,\n",
       "        3.54271136,  3.59296755,  3.64322593,  3.69348441,  3.74372869,\n",
       "        3.79396967,  3.84423804,  3.8944801 ,  3.94471352,  3.99497099,\n",
       "        4.04522107,  4.09548576,  4.14572178,  4.1959678 ,  4.24623511,\n",
       "        4.29648192,  4.34672088,  4.39699388,  4.44723374,  4.49746401,\n",
       "        4.54773297,  4.59799324,  4.64822632,  4.69848243,  4.74875413,\n",
       "        4.79898062,  4.84925492,  4.89950028,  4.94975016,  4.9999912 ])"
      ]
     },
     "execution_count": 64,
     "metadata": {},
     "output_type": "execute_result"
    }
   ],
   "source": [
    "pca.transform(data).squeeze()"
   ]
  },
  {
   "cell_type": "code",
   "execution_count": 62,
   "metadata": {},
   "outputs": [],
   "source": [
    "reduced_data = pca.transform(data)"
   ]
  },
  {
   "cell_type": "code",
   "execution_count": 63,
   "metadata": {},
   "outputs": [
    {
     "data": {
      "text/plain": [
       "8.459382449190905"
      ]
     },
     "execution_count": 63,
     "metadata": {},
     "output_type": "execute_result"
    }
   ],
   "source": [
    "variance(reduced_data.squeeze())  "
   ]
  }
 ],
 "metadata": {
  "kernelspec": {
   "display_name": "Python 3",
   "language": "python",
   "name": "python3"
  },
  "language_info": {
   "codemirror_mode": {
    "name": "ipython",
    "version": 3
   },
   "file_extension": ".py",
   "mimetype": "text/x-python",
   "name": "python",
   "nbconvert_exporter": "python",
   "pygments_lexer": "ipython3",
   "version": "3.7.3"
  }
 },
 "nbformat": 4,
 "nbformat_minor": 2
}
