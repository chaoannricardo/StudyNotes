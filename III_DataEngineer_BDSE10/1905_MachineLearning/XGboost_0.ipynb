{
 "cells": [
  {
   "cell_type": "code",
   "execution_count": 1,
   "metadata": {},
   "outputs": [],
   "source": [
    "import pandas as pd\n",
    "import numpy as np\n",
    "import matplotlib.pyplot as plt\n",
    "%matplotlib inline\n",
    "import seaborn as sns\n",
    "from sklearn.model_selection import train_test_split\n",
    "from sklearn.metrics import accuracy_score"
   ]
  },
  {
   "cell_type": "code",
   "execution_count": 11,
   "metadata": {},
   "outputs": [
    {
     "name": "stdout",
     "output_type": "stream",
     "text": [
      "import pandas as pd\n",
      "import numpy as np\n",
      "import matplotlib.pyplot as plt\n",
      "%matplotlib inline\n",
      "import seaborn as sns\n",
      "from sklearn.model_selection import train_test_split\n",
      "from sklearn.metrics import accuracy_score\n",
      "np.random.seed(123)\n",
      "df = pd.read_csv(\"C:/Users/Student/Desktop/dummyaaa.csv\")\n",
      "y = df['stars_review']\n",
      "#y = y.values\n",
      "X = df.drop(['stars_review'], axis=1)\n",
      "\n",
      "X_train, X_test, y_train, y_test = train_test_split(X, y, test_size=0.3, random_state=1)\n",
      "#X_train, X_val, y_train, y_val = train_test_split(X_train, y_train, test_size=0.3, random_state=1)\n",
      "#X_train, X_val, y_train, y_val = train_test_split(X_train, y_train, test_size=0.3, random_state=1)\n",
      "#y_val_onehot = keras.utils.to_categorical(y_val,num_classes=6)\n",
      "#y_train_onehot = keras.utils.to_categorical(y_train,num_classes=6)\n",
      "#y_test_onehot = keras.utils.to_categorical(y_test,num_classes=6)\n",
      "#y_train_onehot=pd.DataFrame(y_train_onehot).iloc[:,1:6].values\n",
      "#y_val_onehot=pd.DataFrame(y_val_onehot).iloc[:,1:6].values\n",
      "#y_test_onehot=pd.DataFrame(y_test_onehot).iloc[:,1:6].values\n",
      "import xgboost as xgb\n",
      "from sklearn.model_selection import GridSearchCV\n",
      "data_train = xgb.DMatrix( X_train, label=y_train)\n",
      "data_test  = xgb.DMatrix( X_test, label=y_test)\n",
      "data_train = xgb.DMatrix( X_train, label=y_train)\n",
      "data_test  = xgb.DMatrix( X_test, label=y_test)\n",
      "#給予模型參數，告知演算法該如何訓練模型\n",
      "#optimized param = {'learning_rate': 0.07, 'n_estimators': 400, 'max_depth': 4, 'min_child_weight': 5, 'seed': 0,\n",
      "#'subsample': 0.7, 'colsample_bytree': 0.8, 'gamma': 0.6, 'reg_alpha': 2, 'reg_lambda': 2}\n",
      "param = {}\n",
      "param['booster'] = 'gbtree'\n",
      "param['objective'] = 'reg:linear' \n",
      "#param['objective']='multi:softmax'\n",
      "#param['num_class']= 6\n",
      "param['tree_method'] = 'hist'\n",
      "param['silent']=1\n",
      "param['max_depth']=6\n",
      "param['min_child_weight'] = 4\n",
      "param['subsample']=0.7\n",
      "#param['colsample_bytree']=0.8\n",
      "param['eta']=0.1\n",
      "param['gamma']=0.5\n",
      "#param['learning_rate']=0.07\n",
      "#param['reg_alpha']=2\n",
      "#param['reg_lambda']=2\n",
      "#param['n_estimators']=400\n",
      "eval_list  = [(data_train,'train'),(data_test,'test')]\n",
      "num_round = 90\n",
      "eval_history={}\n",
      "\n",
      "# 訓練模型\n",
      "model = xgb.train( param, data_train, num_round,eval_list,\n",
      "                  evals_result=eval_history,verbose_eval=False)\n",
      "# process \n",
      "rmse_train=eval_history['train']['rmse']\n",
      "rmse_test=eval_history['test']['rmse']\n",
      "plt.plot(rmse_train,ms=10,marker='.',label='train_eval')\n",
      "plt.plot(rmse_test,ms=10,marker='v',label='test_eval')\n",
      "plt.legend()\n",
      "plt.show()\n",
      "# 檢視最後rms error\n",
      "model.eval(data_test)\n",
      "# 檢視最後rms error\n",
      "model.eval(data_train)\n",
      "# importence of columns\n",
      "from xgboost import plot_importance\n",
      "plot_importance(model)\n",
      "plt.show()\n",
      "from sklearn.metrics import r2_score, accuracy_score\n",
      "testY_pred=model.predict(data_test)\n",
      "r2_score(y_test, testY_pred)\n",
      "trainY_pred = model.predict(data_train)\n",
      "r2_score(y_train, trainY_pred)\n",
      "history\n"
     ]
    }
   ],
   "source": [
    "history"
   ]
  },
  {
   "cell_type": "code",
   "execution_count": 12,
   "metadata": {},
   "outputs": [],
   "source": [
    "np.random.seed(123)\n",
    "df = pd.read_csv(\"C:/Users/Student/Desktop/dummyaaa.csv\")\n",
    "y = df['stars_review']\n",
    "#y = y.values\n",
    "X = df.drop(['stars_review'], axis=1)\n",
    "\n",
    "X_train, X_test, y_train, y_test = train_test_split(X, y, test_size=0.3, random_state=1)\n",
    "#X_train, X_val, y_train, y_val = train_test_split(X_train, y_train, test_size=0.3, random_state=1)\n",
    "#X_train, X_val, y_train, y_val = train_test_split(X_train, y_train, test_size=0.3, random_state=1)\n",
    "#y_val_onehot = keras.utils.to_categorical(y_val,num_classes=6)\n",
    "#y_train_onehot = keras.utils.to_categorical(y_train,num_classes=6)\n",
    "#y_test_onehot = keras.utils.to_categorical(y_test,num_classes=6)\n",
    "#y_train_onehot=pd.DataFrame(y_train_onehot).iloc[:,1:6].values\n",
    "#y_val_onehot=pd.DataFrame(y_val_onehot).iloc[:,1:6].values\n",
    "#y_test_onehot=pd.DataFrame(y_test_onehot).iloc[:,1:6].values"
   ]
  },
  {
   "cell_type": "code",
   "execution_count": 3,
   "metadata": {},
   "outputs": [
    {
     "name": "stderr",
     "output_type": "stream",
     "text": [
      "C:\\Users\\Student\\Anaconda3\\lib\\site-packages\\xgboost\\core.py:587: FutureWarning: Series.base is deprecated and will be removed in a future version\n",
      "  if getattr(data, 'base', None) is not None and \\\n"
     ]
    }
   ],
   "source": [
    "import xgboost as xgb\n",
    "from sklearn.model_selection import GridSearchCV\n",
    "data_train = xgb.DMatrix( X_train, label=y_train)\n",
    "data_test  = xgb.DMatrix( X_test, label=y_test)"
   ]
  },
  {
   "cell_type": "markdown",
   "metadata": {},
   "source": [
    "## ref: https://codertw.com/%E7%A8%8B%E5%BC%8F%E8%AA%9E%E8%A8%80/4226/"
   ]
  },
  {
   "cell_type": "markdown",
   "metadata": {},
   "source": [
    "## optimize n_estimator"
   ]
  },
  {
   "cell_type": "code",
   "execution_count": 8,
   "metadata": {},
   "outputs": [
    {
     "name": "stdout",
     "output_type": "stream",
     "text": [
      "Fitting 5 folds for each of 5 candidates, totalling 25 fits\n"
     ]
    },
    {
     "name": "stderr",
     "output_type": "stream",
     "text": [
      "[Parallel(n_jobs=4)]: Using backend LokyBackend with 4 concurrent workers.\n",
      "[Parallel(n_jobs=4)]: Done  25 out of  25 | elapsed:  6.5min finished\n"
     ]
    },
    {
     "name": "stdout",
     "output_type": "stream",
     "text": [
      "[14:18:01] WARNING: d:\\build\\xgboost\\xgboost-0.90.git\\src\\objective\\regression_obj.cu:152: reg:linear is now deprecated in favor of reg:squarederror.\n",
      "每輪迭代執行結果:{'mean_fit_time': array([36.61270704, 45.15041547, 53.83588047, 63.11996989, 68.01645789]), 'std_fit_time': array([0.7384989 , 1.00110771, 0.24441544, 1.46180173, 5.12460062]), 'mean_score_time': array([0.51245894, 0.62807446, 0.76243901, 0.90305266, 0.95617142]), 'std_score_time': array([0.00624974, 0.02072729, 0.0153083 , 0.01169163, 0.06510119]), 'param_n_estimators': masked_array(data=[400, 500, 600, 700, 800],\n",
      "             mask=[False, False, False, False, False],\n",
      "       fill_value='?',\n",
      "            dtype=object), 'params': [{'n_estimators': 400}, {'n_estimators': 500}, {'n_estimators': 600}, {'n_estimators': 700}, {'n_estimators': 800}], 'split0_test_score': array([0.3686221 , 0.36748313, 0.36576428, 0.36433115, 0.36278018]), 'split1_test_score': array([0.35481504, 0.35320981, 0.35166282, 0.34949532, 0.34748686]), 'split2_test_score': array([0.36127852, 0.35911469, 0.35646131, 0.35436337, 0.35273937]), 'split3_test_score': array([0.37030893, 0.36891116, 0.36740462, 0.36598565, 0.36409922]), 'split4_test_score': array([0.36080186, 0.35878298, 0.35704841, 0.35492444, 0.35363212]), 'mean_test_score': array([0.36316526, 0.36150033, 0.35966827, 0.35781997, 0.35614753]), 'std_test_score': array([0.00565124, 0.00587408, 0.00597075, 0.00630408, 0.00632729]), 'rank_test_score': array([1, 2, 3, 4, 5]), 'split0_train_score': array([0.44464242, 0.45964835, 0.4731956 , 0.48578619, 0.49772157]), 'split1_train_score': array([0.44618497, 0.46125112, 0.47511867, 0.48786511, 0.50005498]), 'split2_train_score': array([0.44538614, 0.45987451, 0.47383156, 0.48662631, 0.49887271]), 'split3_train_score': array([0.44296711, 0.45800366, 0.47193944, 0.48495941, 0.4969997 ]), 'split4_train_score': array([0.44447507, 0.45941899, 0.47350632, 0.48673007, 0.49904813]), 'mean_train_score': array([0.44473114, 0.45963933, 0.47351832, 0.48639342, 0.49853942]), 'std_train_score': array([0.00107032, 0.00103704, 0.00102532, 0.00097556, 0.00106831])}\n",
      "引數的最佳取值：{'n_estimators': 400}\n",
      "最佳模型得分:0.3631652646907943\n"
     ]
    }
   ],
   "source": [
    "cv_params = {'n_estimators': [400, 500, 600, 700, 800]}\n",
    "other_params = {'learning_rate': 0.1, 'n_estimators': 500, 'max_depth': 5, 'min_child_weight': 1, 'seed': 0,\n",
    "'subsample': 0.8, 'colsample_bytree': 0.8, 'gamma': 0, 'reg_alpha': 0, 'reg_lambda': 1}\n",
    "model = xgb.XGBRegressor(**other_params)\n",
    "optimized_GBM = GridSearchCV(estimator=model, param_grid=cv_params, scoring='r2', cv=5, verbose=1, n_jobs=4)\n",
    "optimized_GBM.fit(X_train, y_train)\n",
    "evalute_result = optimized_GBM.cv_results_\n",
    "print('每輪迭代執行結果:{0}'.format(evalute_result))\n",
    "print('引數的最佳取值：{0}'.format(optimized_GBM.best_params_))\n",
    "print('最佳模型得分:{0}'.format(optimized_GBM.best_score_))"
   ]
  },
  {
   "cell_type": "markdown",
   "metadata": {},
   "source": [
    "## optimize max_depth, ,min_child_weight"
   ]
  },
  {
   "cell_type": "code",
   "execution_count": 26,
   "metadata": {},
   "outputs": [
    {
     "name": "stdout",
     "output_type": "stream",
     "text": [
      "Fitting 2 folds for each of 48 candidates, totalling 96 fits\n"
     ]
    },
    {
     "name": "stderr",
     "output_type": "stream",
     "text": [
      "[Parallel(n_jobs=4)]: Using backend LokyBackend with 4 concurrent workers.\n",
      "[Parallel(n_jobs=4)]: Done  42 tasks      | elapsed:  4.0min\n",
      "[Parallel(n_jobs=4)]: Done  96 out of  96 | elapsed: 13.6min finished\n",
      "C:\\Users\\Student\\Anaconda3\\lib\\site-packages\\xgboost\\core.py:587: FutureWarning: Series.base is deprecated and will be removed in a future version\n",
      "  if getattr(data, 'base', None) is not None and \\\n"
     ]
    },
    {
     "name": "stdout",
     "output_type": "stream",
     "text": [
      "[15:21:45] WARNING: d:\\build\\xgboost\\xgboost-0.90.git\\src\\objective\\regression_obj.cu:152: reg:linear is now deprecated in favor of reg:squarederror.\n",
      "每輪迭代執行結果:{'mean_fit_time': array([14.03794265, 14.1473099 , 14.28011227, 14.30353963, 14.19418263,\n",
      "       14.41292202, 18.0298146 , 17.87357509, 17.83451653, 17.70952666,\n",
      "       17.50641656, 17.54546738, 21.6701504 , 21.70139575, 21.48266578,\n",
      "       21.24049664, 21.72483361, 21.52172256, 26.07604849, 26.01355112,\n",
      "       26.6072638 , 26.62288845, 26.34946215, 26.32603598, 30.95065999,\n",
      "       31.74746931, 30.81785822, 31.36469722, 30.71630192, 30.81785977,\n",
      "       35.55185497, 35.45029879, 36.08306396, 35.73152649, 36.2236762 ,\n",
      "       35.80183482, 41.33264554, 41.59824777, 41.1842196 , 40.6295743 ,\n",
      "       40.76237655, 40.71550548, 46.63690865, 46.75408685, 46.47286117,\n",
      "       46.49629521, 45.98852301, 46.09007752]), 'std_fit_time': array([5.46827316e-02, 3.90585661e-02, 1.56223774e-02, 5.46902418e-02,\n",
      "       7.03072548e-02, 7.80403614e-03, 3.12477350e-02, 8.34465027e-07,\n",
      "       3.90598774e-02, 1.64049268e-01, 2.34336853e-02, 1.56247139e-01,\n",
      "       6.24929667e-02, 1.56237125e-01, 3.12457085e-02, 7.03055859e-02,\n",
      "       7.03042746e-02, 1.64050102e-01, 1.87485576e-01, 1.40613198e-01,\n",
      "       9.53674316e-06, 5.93693137e-01, 3.82781863e-01, 1.87493801e-01,\n",
      "       2.03108072e-01, 9.37424302e-01, 5.46827316e-02, 2.42174625e-01,\n",
      "       7.81171322e-02, 1.64046168e-01, 7.03071356e-02, 3.43723059e-01,\n",
      "       1.95298791e-01, 1.56234503e-02, 8.59329700e-02, 1.01553679e-01,\n",
      "       1.48425460e-01, 2.89040804e-01, 4.68714237e-02, 7.81202316e-03,\n",
      "       1.24988794e-01, 2.18732476e-01, 7.81179667e-02, 2.34326124e-02,\n",
      "       5.46852350e-02, 1.56230927e-02, 2.57791042e-01, 9.37417746e-02]), 'mean_score_time': array([0.72650456, 0.69525671, 0.69525611, 0.67182052, 0.69525516,\n",
      "       0.6796236 , 0.99991834, 0.99210775, 0.99210858, 0.97648299,\n",
      "       1.00773215, 0.99210739, 1.27333331, 1.26552451, 1.27333295,\n",
      "       1.25770986, 1.28895676, 1.26552415, 1.67173982, 1.69517684,\n",
      "       1.69516718, 1.68735445, 1.67174149, 1.67954278, 2.18732429,\n",
      "       2.21076012, 2.1092062 , 2.10138464, 2.1404556 , 2.13263965,\n",
      "       2.89039433, 2.86695993, 2.76540363, 2.79665196, 2.79665172,\n",
      "       2.7575922 , 3.76532447, 3.83563054, 3.83563066, 3.88250256,\n",
      "       3.65595794, 3.74189043, 5.05428302, 5.16364932, 5.01522565,\n",
      "       5.06209815, 4.69494045, 4.71838462]), 'std_score_time': array([7.81202316e-03, 7.81345367e-03, 7.81047344e-03, 3.12479734e-02,\n",
      "       7.81166553e-03, 2.34270096e-02, 1.56246424e-02, 7.81261921e-03,\n",
      "       7.81178474e-03, 2.34352350e-02, 7.81202316e-03, 3.90591621e-02,\n",
      "       2.34377384e-02, 8.34465027e-07, 7.81381130e-03, 7.81333447e-03,\n",
      "       7.81452656e-03, 1.56233311e-02, 3.12476158e-02, 7.81345367e-03,\n",
      "       2.34256983e-02, 1.56136751e-02, 1.56242847e-02, 2.34446526e-02,\n",
      "       4.68728542e-02, 3.90605927e-02, 3.12485695e-02, 3.90665531e-02,\n",
      "       3.12503576e-02, 2.34386921e-02, 3.12486887e-02, 3.90604734e-02,\n",
      "       4.68710661e-02, 6.24953508e-02, 9.37429667e-02, 3.90586853e-02,\n",
      "       4.68693972e-02, 7.81214237e-03, 2.34344006e-02, 7.81035423e-03,\n",
      "       6.24945164e-02, 5.46834469e-02, 1.32800698e-01, 1.79675341e-01,\n",
      "       4.68702316e-02, 3.12470198e-02, 3.90583277e-02, 1.56151056e-02]), 'param_max_depth': masked_array(data=[3, 3, 3, 3, 3, 3, 4, 4, 4, 4, 4, 4, 5, 5, 5, 5, 5, 5,\n",
      "                   6, 6, 6, 6, 6, 6, 7, 7, 7, 7, 7, 7, 8, 8, 8, 8, 8, 8,\n",
      "                   9, 9, 9, 9, 9, 9, 10, 10, 10, 10, 10, 10],\n",
      "             mask=[False, False, False, False, False, False, False, False,\n",
      "                   False, False, False, False, False, False, False, False,\n",
      "                   False, False, False, False, False, False, False, False,\n",
      "                   False, False, False, False, False, False, False, False,\n",
      "                   False, False, False, False, False, False, False, False,\n",
      "                   False, False, False, False, False, False, False, False],\n",
      "       fill_value='?',\n",
      "            dtype=object), 'param_min_child_weight': masked_array(data=[1, 2, 3, 4, 5, 6, 1, 2, 3, 4, 5, 6, 1, 2, 3, 4, 5, 6,\n",
      "                   1, 2, 3, 4, 5, 6, 1, 2, 3, 4, 5, 6, 1, 2, 3, 4, 5, 6,\n",
      "                   1, 2, 3, 4, 5, 6, 1, 2, 3, 4, 5, 6],\n",
      "             mask=[False, False, False, False, False, False, False, False,\n",
      "                   False, False, False, False, False, False, False, False,\n",
      "                   False, False, False, False, False, False, False, False,\n",
      "                   False, False, False, False, False, False, False, False,\n",
      "                   False, False, False, False, False, False, False, False,\n",
      "                   False, False, False, False, False, False, False, False],\n",
      "       fill_value='?',\n",
      "            dtype=object), 'params': [{'max_depth': 3, 'min_child_weight': 1}, {'max_depth': 3, 'min_child_weight': 2}, {'max_depth': 3, 'min_child_weight': 3}, {'max_depth': 3, 'min_child_weight': 4}, {'max_depth': 3, 'min_child_weight': 5}, {'max_depth': 3, 'min_child_weight': 6}, {'max_depth': 4, 'min_child_weight': 1}, {'max_depth': 4, 'min_child_weight': 2}, {'max_depth': 4, 'min_child_weight': 3}, {'max_depth': 4, 'min_child_weight': 4}, {'max_depth': 4, 'min_child_weight': 5}, {'max_depth': 4, 'min_child_weight': 6}, {'max_depth': 5, 'min_child_weight': 1}, {'max_depth': 5, 'min_child_weight': 2}, {'max_depth': 5, 'min_child_weight': 3}, {'max_depth': 5, 'min_child_weight': 4}, {'max_depth': 5, 'min_child_weight': 5}, {'max_depth': 5, 'min_child_weight': 6}, {'max_depth': 6, 'min_child_weight': 1}, {'max_depth': 6, 'min_child_weight': 2}, {'max_depth': 6, 'min_child_weight': 3}, {'max_depth': 6, 'min_child_weight': 4}, {'max_depth': 6, 'min_child_weight': 5}, {'max_depth': 6, 'min_child_weight': 6}, {'max_depth': 7, 'min_child_weight': 1}, {'max_depth': 7, 'min_child_weight': 2}, {'max_depth': 7, 'min_child_weight': 3}, {'max_depth': 7, 'min_child_weight': 4}, {'max_depth': 7, 'min_child_weight': 5}, {'max_depth': 7, 'min_child_weight': 6}, {'max_depth': 8, 'min_child_weight': 1}, {'max_depth': 8, 'min_child_weight': 2}, {'max_depth': 8, 'min_child_weight': 3}, {'max_depth': 8, 'min_child_weight': 4}, {'max_depth': 8, 'min_child_weight': 5}, {'max_depth': 8, 'min_child_weight': 6}, {'max_depth': 9, 'min_child_weight': 1}, {'max_depth': 9, 'min_child_weight': 2}, {'max_depth': 9, 'min_child_weight': 3}, {'max_depth': 9, 'min_child_weight': 4}, {'max_depth': 9, 'min_child_weight': 5}, {'max_depth': 9, 'min_child_weight': 6}, {'max_depth': 10, 'min_child_weight': 1}, {'max_depth': 10, 'min_child_weight': 2}, {'max_depth': 10, 'min_child_weight': 3}, {'max_depth': 10, 'min_child_weight': 4}, {'max_depth': 10, 'min_child_weight': 5}, {'max_depth': 10, 'min_child_weight': 6}], 'split0_test_score': array([0.35851574, 0.35830379, 0.35856637, 0.35849315, 0.35861861,\n",
      "       0.35806668, 0.35723594, 0.3565596 , 0.35728153, 0.35751061,\n",
      "       0.35717586, 0.35733617, 0.35159535, 0.35162057, 0.35160649,\n",
      "       0.352479  , 0.35190523, 0.35068055, 0.34235997, 0.34325033,\n",
      "       0.342669  , 0.34335881, 0.34352778, 0.3429303 , 0.33291917,\n",
      "       0.33158162, 0.33276675, 0.33292515, 0.33233708, 0.33181453,\n",
      "       0.31926131, 0.31975972, 0.32056797, 0.32100434, 0.31947338,\n",
      "       0.32003238, 0.30198451, 0.30546362, 0.30369269, 0.30502186,\n",
      "       0.30623782, 0.30496528, 0.29376487, 0.29524429, 0.29314452,\n",
      "       0.2947369 , 0.29546759, 0.29558415]), 'split1_test_score': array([0.36172986, 0.36175847, 0.3615892 , 0.36187491, 0.36164249,\n",
      "       0.36161397, 0.36096165, 0.36088102, 0.36083452, 0.36111993,\n",
      "       0.36193758, 0.36094065, 0.35716089, 0.35820166, 0.3578194 ,\n",
      "       0.35755096, 0.3587287 , 0.35730406, 0.35151985, 0.34948704,\n",
      "       0.34921995, 0.34983347, 0.35037023, 0.35122512, 0.33947227,\n",
      "       0.33813215, 0.34025541, 0.33895446, 0.33882102, 0.33958018,\n",
      "       0.32488861, 0.32632228, 0.32575566, 0.32514248, 0.32480441,\n",
      "       0.32694993, 0.31308868, 0.31161113, 0.31358973, 0.31213573,\n",
      "       0.3099378 , 0.31485347, 0.29674142, 0.30122512, 0.29894981,\n",
      "       0.30033217, 0.30040804, 0.30065524]), 'mean_test_score': array([0.36012279, 0.36003111, 0.36007777, 0.36018402, 0.36013054,\n",
      "       0.35984031, 0.35909878, 0.35872029, 0.35905801, 0.35931525,\n",
      "       0.3595567 , 0.35913839, 0.35437809, 0.35491108, 0.35471292,\n",
      "       0.35501496, 0.35531694, 0.35399227, 0.34693987, 0.34636866,\n",
      "       0.34594445, 0.34659611, 0.34694898, 0.34707767, 0.33619569,\n",
      "       0.33485686, 0.33651104, 0.33593978, 0.33557902, 0.33569732,\n",
      "       0.32207494, 0.32304097, 0.32316179, 0.32307339, 0.32213887,\n",
      "       0.32349113, 0.30753654, 0.30853735, 0.30864116, 0.30857876,\n",
      "       0.30808779, 0.30990933, 0.29525313, 0.29823468, 0.29604714,\n",
      "       0.29753451, 0.29793779, 0.29811967]), 'std_test_score': array([0.00160706, 0.00172734, 0.00151141, 0.00169088, 0.00151194,\n",
      "       0.00177364, 0.00186286, 0.00216071, 0.0017765 , 0.00180466,\n",
      "       0.00238086, 0.00180224, 0.00278277, 0.00329055, 0.00310645,\n",
      "       0.00253598, 0.00341173, 0.00331176, 0.00457994, 0.00311836,\n",
      "       0.00327548, 0.00323733, 0.00342122, 0.00414741, 0.00327655,\n",
      "       0.00327526, 0.00374433, 0.00301466, 0.00324197, 0.00388283,\n",
      "       0.00281365, 0.00328128, 0.00259385, 0.00206907, 0.00266551,\n",
      "       0.00345878, 0.00555208, 0.00307375, 0.00494852, 0.00355693,\n",
      "       0.00184999, 0.00494409, 0.00148828, 0.00299042, 0.00290264,\n",
      "       0.00279764, 0.00247023, 0.00253555]), 'rank_test_score': array([ 3,  5,  4,  1,  2,  6, 10, 12, 11,  8,  7,  9, 17, 15, 16, 14, 13,\n",
      "       18, 21, 23, 24, 22, 20, 19, 26, 30, 25, 27, 29, 28, 36, 34, 32, 33,\n",
      "       35, 31, 42, 40, 38, 39, 41, 37, 48, 43, 47, 46, 45, 44]), 'split0_train_score': array([0.39461813, 0.39478011, 0.39478782, 0.39471264, 0.39426364,\n",
      "       0.39416299, 0.42856805, 0.42833663, 0.42902403, 0.42865077,\n",
      "       0.42850442, 0.42758698, 0.47981041, 0.48024104, 0.48002386,\n",
      "       0.48001769, 0.47882444, 0.47687428, 0.5549149 , 0.55406646,\n",
      "       0.55279608, 0.55035262, 0.54762525, 0.54537072, 0.6476908 ,\n",
      "       0.64553623, 0.64079011, 0.63787777, 0.63438432, 0.62774309,\n",
      "       0.74929103, 0.74523595, 0.74239593, 0.73268611, 0.72895038,\n",
      "       0.72325418, 0.84674824, 0.84205095, 0.83555639, 0.82985887,\n",
      "       0.82064752, 0.81456368, 0.92533535, 0.91678533, 0.91184039,\n",
      "       0.90426701, 0.89281407, 0.88723567]), 'split1_train_score': array([0.38918662, 0.38875949, 0.38875137, 0.38899893, 0.38872311,\n",
      "       0.38869215, 0.42329139, 0.42279748, 0.42263354, 0.42256444,\n",
      "       0.42218769, 0.4220567 , 0.47341093, 0.47376273, 0.47283985,\n",
      "       0.47280803, 0.47215735, 0.47081814, 0.54824766, 0.5471353 ,\n",
      "       0.54578721, 0.54311344, 0.5417157 , 0.54324821, 0.63938626,\n",
      "       0.64155001, 0.63353383, 0.63266938, 0.62719331, 0.62328347,\n",
      "       0.74312683, 0.74039311, 0.73709579, 0.73145743, 0.72646709,\n",
      "       0.71557373, 0.844055  , 0.83835039, 0.83072154, 0.8238718 ,\n",
      "       0.81725338, 0.80787911, 0.92315649, 0.91765109, 0.90877304,\n",
      "       0.90185766, 0.89203269, 0.88433642]), 'mean_train_score': array([0.39190238, 0.3917698 , 0.3917696 , 0.39185579, 0.39149338,\n",
      "       0.39142757, 0.42592972, 0.42556705, 0.42582879, 0.4256076 ,\n",
      "       0.42534606, 0.42482184, 0.47661067, 0.47700189, 0.47643185,\n",
      "       0.47641286, 0.4754909 , 0.47384621, 0.55158128, 0.55060088,\n",
      "       0.54929164, 0.54673303, 0.54467047, 0.54430946, 0.64353853,\n",
      "       0.64354312, 0.63716197, 0.63527357, 0.63078881, 0.62551328,\n",
      "       0.74620893, 0.74281453, 0.73974586, 0.73207177, 0.72770873,\n",
      "       0.71941395, 0.84540162, 0.84020067, 0.83313897, 0.82686534,\n",
      "       0.81895045, 0.81122139, 0.92424592, 0.91721821, 0.91030671,\n",
      "       0.90306233, 0.89242338, 0.88578604]), 'std_train_score': array([0.00271575, 0.00301031, 0.00301822, 0.00285686, 0.00277027,\n",
      "       0.00273542, 0.00263833, 0.00276958, 0.00319525, 0.00304317,\n",
      "       0.00315837, 0.00276514, 0.00319974, 0.00323915, 0.003592  ,\n",
      "       0.00360483, 0.00333354, 0.00302807, 0.00333362, 0.00346558,\n",
      "       0.00350443, 0.00361959, 0.00295478, 0.00106125, 0.00415227,\n",
      "       0.00199311, 0.00362814, 0.00260419, 0.0035955 , 0.00222981,\n",
      "       0.0030821 , 0.00242142, 0.00265007, 0.00061434, 0.00124165,\n",
      "       0.00384023, 0.00134662, 0.00185028, 0.00241743, 0.00299353,\n",
      "       0.00169707, 0.00334228, 0.00108943, 0.00043288, 0.00153368,\n",
      "       0.00120468, 0.00039069, 0.00144962])}\n",
      "引數的最佳取值：{'max_depth': 3, 'min_child_weight': 4}\n",
      "最佳模型得分:0.3601840174265957\n"
     ]
    }
   ],
   "source": [
    "cv_params = {'max_depth': [3, 4, 5, 6, 7, 8, 9, 10], 'min_child_weight': [1, 2, 3, 4, 5, 6]}\n",
    "other_params = {'learning_rate': 0.1, 'n_estimators': 400, 'max_depth': 5, 'min_child_weight': 1, 'seed': 0,\n",
    "'subsample': 0.8, 'colsample_bytree': 0.8, 'gamma': 0, 'reg_alpha': 0, 'reg_lambda': 1}\n",
    "model = xgb.XGBRegressor(**other_params)\n",
    "optimized_GBM = GridSearchCV(estimator=model, param_grid=cv_params, scoring='r2', cv=2, verbose=1, n_jobs=4)\n",
    "optimized_GBM.fit(X_train, y_train)\n",
    "evalute_result = optimized_GBM.cv_results_\n",
    "print('每輪迭代執行結果:{0}'.format(evalute_result))\n",
    "print('引數的最佳取值：{0}'.format(optimized_GBM.best_params_))\n",
    "print('最佳模型得分:{0}'.format(optimized_GBM.best_score_))"
   ]
  },
  {
   "cell_type": "markdown",
   "metadata": {},
   "source": [
    "## optimize gamma"
   ]
  },
  {
   "cell_type": "code",
   "execution_count": 27,
   "metadata": {},
   "outputs": [
    {
     "name": "stdout",
     "output_type": "stream",
     "text": [
      "Fitting 5 folds for each of 6 candidates, totalling 30 fits\n"
     ]
    },
    {
     "name": "stderr",
     "output_type": "stream",
     "text": [
      "[Parallel(n_jobs=4)]: Using backend LokyBackend with 4 concurrent workers.\n",
      "[Parallel(n_jobs=4)]: Done  30 out of  30 | elapsed:  4.5min finished\n"
     ]
    },
    {
     "name": "stdout",
     "output_type": "stream",
     "text": [
      "[15:47:28] WARNING: d:\\build\\xgboost\\xgboost-0.90.git\\src\\objective\\regression_obj.cu:152: reg:linear is now deprecated in favor of reg:squarederror.\n",
      "每輪迭代執行結果:{'mean_fit_time': array([31.21626282, 31.53811078, 32.56695485, 32.86579976, 32.13222637,\n",
      "       29.42026124]), 'std_fit_time': array([0.27079137, 0.81786117, 0.15951136, 0.29420413, 0.90121395,\n",
      "       1.79847403]), 'mean_score_time': array([0.41871624, 0.39371881, 0.41551166, 0.42104325, 0.38133202,\n",
      "       0.43655367]), 'std_score_time': array([0.02072712, 0.01530813, 0.01449449, 0.01728736, 0.02914598,\n",
      "       0.0323335 ]), 'param_gamma': masked_array(data=[0.1, 0.2, 0.3, 0.4, 0.5, 0.6],\n",
      "             mask=[False, False, False, False, False, False],\n",
      "       fill_value='?',\n",
      "            dtype=object), 'params': [{'gamma': 0.1}, {'gamma': 0.2}, {'gamma': 0.3}, {'gamma': 0.4}, {'gamma': 0.5}, {'gamma': 0.6}], 'split0_test_score': array([0.37028699, 0.3698978 , 0.37022384, 0.37022384, 0.37006135,\n",
      "       0.3701623 ]), 'split1_test_score': array([0.35601418, 0.35572706, 0.35572706, 0.35572706, 0.35634141,\n",
      "       0.35639289]), 'split2_test_score': array([0.36116594, 0.36116594, 0.36108992, 0.36108992, 0.36109231,\n",
      "       0.36108908]), 'split3_test_score': array([0.36977003, 0.36977003, 0.36976344, 0.36976344, 0.36976344,\n",
      "       0.36945906]), 'split4_test_score': array([0.36033566, 0.36108434, 0.36108434, 0.36108434, 0.36048774,\n",
      "       0.36090145]), 'mean_test_score': array([0.36351455, 0.36352902, 0.36357771, 0.36357771, 0.36354925,\n",
      "       0.36360095]), 'std_test_score': array([0.00560135, 0.00551261, 0.00559419, 0.00559419, 0.00544771,\n",
      "       0.00534646]), 'rank_test_score': array([6, 5, 2, 2, 4, 1]), 'split0_train_score': array([0.38808207, 0.38785825, 0.38793278, 0.38793278, 0.38785188,\n",
      "       0.38783396]), 'split1_train_score': array([0.3911529 , 0.39113819, 0.39113819, 0.39113819, 0.39121304,\n",
      "       0.39091364]), 'split2_train_score': array([0.38955145, 0.38955145, 0.38951732, 0.38951732, 0.3895168 ,\n",
      "       0.38951486]), 'split3_train_score': array([0.38794971, 0.38794971, 0.38795157, 0.38795157, 0.38795157,\n",
      "       0.38801484]), 'split4_train_score': array([0.38956608, 0.38970288, 0.38970288, 0.38970288, 0.38956639,\n",
      "       0.38960291]), 'mean_train_score': array([0.38926044, 0.3892401 , 0.38924855, 0.38924855, 0.38921993,\n",
      "       0.38917604]), 'std_train_score': array([0.00117184, 0.0012238 , 0.00120523, 0.00120523, 0.00123782,\n",
      "       0.00113717])}\n",
      "引數的最佳取值：{'gamma': 0.6}\n",
      "最佳模型得分:0.36360094958933\n"
     ]
    }
   ],
   "source": [
    "cv_params = {'gamma': [0.1, 0.2, 0.3, 0.4, 0.5, 0.6]}\n",
    "other_params = {'learning_rate': 0.1, 'n_estimators': 550, 'max_depth': 3, 'min_child_weight': 4, 'seed': 0,\n",
    "'subsample': 0.8, 'colsample_bytree': 0.8, 'gamma': 0, 'reg_alpha': 0, 'reg_lambda': 1}\n",
    "model = xgb.XGBRegressor(**other_params)\n",
    "optimized_GBM = GridSearchCV(estimator=model, param_grid=cv_params, scoring='r2', cv=5, verbose=1, n_jobs=4)\n",
    "optimized_GBM.fit(X_train, y_train)\n",
    "evalute_result = optimized_GBM.cv_results_\n",
    "print('每輪迭代執行結果:{0}'.format(evalute_result))\n",
    "print('引數的最佳取值：{0}'.format(optimized_GBM.best_params_))\n",
    "print('最佳模型得分:{0}'.format(optimized_GBM.best_score_))"
   ]
  },
  {
   "cell_type": "markdown",
   "metadata": {},
   "source": [
    "##  optimize subsample, colsample_bytree"
   ]
  },
  {
   "cell_type": "code",
   "execution_count": 30,
   "metadata": {},
   "outputs": [
    {
     "name": "stdout",
     "output_type": "stream",
     "text": [
      "Fitting 5 folds for each of 16 candidates, totalling 80 fits\n"
     ]
    },
    {
     "name": "stderr",
     "output_type": "stream",
     "text": [
      "[Parallel(n_jobs=4)]: Using backend LokyBackend with 4 concurrent workers.\n",
      "[Parallel(n_jobs=4)]: Done  42 tasks      | elapsed:  4.0min\n",
      "[Parallel(n_jobs=4)]: Done  80 out of  80 | elapsed:  7.8min finished\n"
     ]
    },
    {
     "name": "stdout",
     "output_type": "stream",
     "text": [
      "[17:37:38] WARNING: d:\\build\\xgboost\\xgboost-0.90.git\\src\\objective\\regression_obj.cu:152: reg:linear is now deprecated in favor of reg:squarederror.\n",
      "每輪迭代執行結果:{'mean_fit_time': array([20.69695621, 18.75642066, 17.80797596, 17.30908608, 21.3625381 ,\n",
      "       21.94733958, 20.95875158, 19.55239058, 23.39385915, 22.51955347,\n",
      "       23.85978246, 21.88220634, 26.16722131, 25.11629734, 24.68553681,\n",
      "       23.43541679]), 'std_fit_time': array([0.50320903, 0.79360132, 0.35101172, 0.613105  , 0.68297661,\n",
      "       0.64002563, 0.78409809, 0.28061261, 0.35183581, 0.3532    ,\n",
      "       1.28980081, 0.90879777, 0.38278542, 0.40991135, 0.40486112,\n",
      "       0.72352038]), 'mean_score_time': array([0.27691612, 0.26532874, 0.24454961, 0.25873508, 0.26153178,\n",
      "       0.26033545, 0.2661273 , 0.25933509, 0.28610749, 0.26772633,\n",
      "       0.25693688, 0.27511873, 0.31687536, 0.27132149, 0.27092252,\n",
      "       0.23995438]), 'std_score_time': array([0.0164563 , 0.04771967, 0.03512862, 0.02664136, 0.03257576,\n",
      "       0.02075507, 0.01283229, 0.01447099, 0.03441248, 0.02173043,\n",
      "       0.02171615, 0.01715939, 0.04588501, 0.01541906, 0.01712157,\n",
      "       0.03387944]), 'param_colsample_bytree': masked_array(data=[0.6, 0.6, 0.6, 0.6, 0.7, 0.7, 0.7, 0.7, 0.8, 0.8, 0.8,\n",
      "                   0.8, 0.9, 0.9, 0.9, 0.9],\n",
      "             mask=[False, False, False, False, False, False, False, False,\n",
      "                   False, False, False, False, False, False, False, False],\n",
      "       fill_value='?',\n",
      "            dtype=object), 'param_subsample': masked_array(data=[0.6, 0.7, 0.8, 0.9, 0.6, 0.7, 0.8, 0.9, 0.6, 0.7, 0.8,\n",
      "                   0.9, 0.6, 0.7, 0.8, 0.9],\n",
      "             mask=[False, False, False, False, False, False, False, False,\n",
      "                   False, False, False, False, False, False, False, False],\n",
      "       fill_value='?',\n",
      "            dtype=object), 'params': [{'colsample_bytree': 0.6, 'subsample': 0.6}, {'colsample_bytree': 0.6, 'subsample': 0.7}, {'colsample_bytree': 0.6, 'subsample': 0.8}, {'colsample_bytree': 0.6, 'subsample': 0.9}, {'colsample_bytree': 0.7, 'subsample': 0.6}, {'colsample_bytree': 0.7, 'subsample': 0.7}, {'colsample_bytree': 0.7, 'subsample': 0.8}, {'colsample_bytree': 0.7, 'subsample': 0.9}, {'colsample_bytree': 0.8, 'subsample': 0.6}, {'colsample_bytree': 0.8, 'subsample': 0.7}, {'colsample_bytree': 0.8, 'subsample': 0.8}, {'colsample_bytree': 0.8, 'subsample': 0.9}, {'colsample_bytree': 0.9, 'subsample': 0.6}, {'colsample_bytree': 0.9, 'subsample': 0.7}, {'colsample_bytree': 0.9, 'subsample': 0.8}, {'colsample_bytree': 0.9, 'subsample': 0.9}], 'split0_test_score': array([0.36919821, 0.36973343, 0.37007883, 0.36956491, 0.36955208,\n",
      "       0.37045375, 0.36961631, 0.36992932, 0.36947721, 0.3708604 ,\n",
      "       0.37019039, 0.37033529, 0.36939066, 0.3698185 , 0.36998429,\n",
      "       0.36997995]), 'split1_test_score': array([0.35608483, 0.35628553, 0.35669531, 0.35674232, 0.35593187,\n",
      "       0.35669092, 0.35629991, 0.35661322, 0.35626974, 0.35686179,\n",
      "       0.35632343, 0.35644042, 0.35612803, 0.35663435, 0.35671451,\n",
      "       0.35715224]), 'split2_test_score': array([0.36086605, 0.36143611, 0.36124375, 0.36168181, 0.36134583,\n",
      "       0.36109053, 0.36115935, 0.36224408, 0.36181224, 0.36196657,\n",
      "       0.36111995, 0.36138246, 0.36137717, 0.36174989, 0.36168754,\n",
      "       0.36244711]), 'split3_test_score': array([0.36740627, 0.36743392, 0.36744631, 0.36772285, 0.36795031,\n",
      "       0.36822995, 0.36832025, 0.36869155, 0.36841609, 0.36866931,\n",
      "       0.36860905, 0.36800188, 0.36891597, 0.36863627, 0.36815742,\n",
      "       0.36889573]), 'split4_test_score': array([0.35988088, 0.35997627, 0.36016929, 0.36037236, 0.36143683,\n",
      "       0.35993144, 0.36040793, 0.36050012, 0.36032756, 0.36104461,\n",
      "       0.36029956, 0.3610936 , 0.36096046, 0.36051427, 0.3607644 ,\n",
      "       0.36065545]), 'mean_test_score': array([0.36268725, 0.36297305, 0.3631267 , 0.36321685, 0.36324337,\n",
      "       0.36327932, 0.36316075, 0.36359565, 0.36326056, 0.36388054,\n",
      "       0.36330847, 0.36345073, 0.36335445, 0.36347065, 0.36346163,\n",
      "       0.36382609]), 'std_test_score': array([0.0048877 , 0.00493295, 0.00491218, 0.00475333, 0.00494529,\n",
      "       0.00520364, 0.00503887, 0.00502491, 0.00499599, 0.00515017,\n",
      "       0.00525534, 0.00504164, 0.00508389, 0.00500833, 0.00491006,\n",
      "       0.00490036]), 'rank_test_score': array([16, 15, 14, 12, 11,  9, 13,  3, 10,  1,  8,  6,  7,  4,  5,  2]), 'split0_train_score': array([0.37940804, 0.37916922, 0.37905926, 0.3788911 , 0.38047543,\n",
      "       0.38050786, 0.38046007, 0.38050765, 0.38117821, 0.38154253,\n",
      "       0.3814272 , 0.38128164, 0.38148702, 0.38189632, 0.38201202,\n",
      "       0.3813637 ]), 'split1_train_score': array([0.38240207, 0.38271054, 0.3827392 , 0.38242221, 0.38334582,\n",
      "       0.38388231, 0.38365951, 0.3835891 , 0.38445797, 0.38456773,\n",
      "       0.38474104, 0.38460681, 0.3847633 , 0.385153  , 0.38486916,\n",
      "       0.38493001]), 'split2_train_score': array([0.38122995, 0.38157217, 0.38166993, 0.38155444, 0.38209213,\n",
      "       0.38255236, 0.38245508, 0.38237795, 0.3830536 , 0.38373436,\n",
      "       0.38331575, 0.38311638, 0.38386732, 0.38416141, 0.38431965,\n",
      "       0.38405283]), 'split3_train_score': array([0.37955293, 0.37986961, 0.37980357, 0.37969576, 0.38071563,\n",
      "       0.38113658, 0.38135313, 0.38067722, 0.38120812, 0.38149066,\n",
      "       0.38194049, 0.3813224 , 0.38167056, 0.38221107, 0.38223482,\n",
      "       0.38204416]), 'split4_train_score': array([0.38114318, 0.3817488 , 0.38146889, 0.38171257, 0.38250696,\n",
      "       0.38274801, 0.38276686, 0.38205723, 0.38306229, 0.38369296,\n",
      "       0.38347381, 0.38318477, 0.3836335 , 0.38433445, 0.38436544,\n",
      "       0.38397473]), 'mean_train_score': array([0.38074723, 0.38101407, 0.38094817, 0.38085521, 0.38182719,\n",
      "       0.38216542, 0.38213893, 0.38184183, 0.38259204, 0.38300565,\n",
      "       0.38297966, 0.3827024 , 0.38308434, 0.38355125, 0.38356022,\n",
      "       0.38327309]), 'std_train_score': array([0.00112677, 0.00129943, 0.00133251, 0.00133278, 0.0010864 ,\n",
      "       0.00120357, 0.00111736, 0.0011422 , 0.0012514 , 0.00125534,\n",
      "       0.00117895, 0.00126125, 0.00128715, 0.00127171, 0.00119097,\n",
      "       0.00134177])}\n",
      "引數的最佳取值：{'colsample_bytree': 0.8, 'subsample': 0.7}\n",
      "最佳模型得分:0.36388053759101\n"
     ]
    }
   ],
   "source": [
    "cv_params = {'subsample': [0.6, 0.7, 0.8, 0.9], 'colsample_bytree': [0.6, 0.7, 0.8, 0.9]}\n",
    "other_params = {'learning_rate': 0.1, 'n_estimators': 400, 'max_depth': 3, 'min_child_weight': 4, 'seed': 0,\n",
    "'subsample': 0.8, 'colsample_bytree': 0.8, 'gamma': 0.6, 'reg_alpha': 0, 'reg_lambda': 1}\n",
    "model = xgb.XGBRegressor(**other_params)\n",
    "optimized_GBM = GridSearchCV(estimator=model, param_grid=cv_params, scoring='r2', cv=5, verbose=1, n_jobs=4)\n",
    "optimized_GBM.fit(X_train, y_train)\n",
    "evalute_result = optimized_GBM.cv_results_\n",
    "print('每輪迭代執行結果:{0}'.format(evalute_result))\n",
    "print('引數的最佳取值：{0}'.format(optimized_GBM.best_params_))\n",
    "print('最佳模型得分:{0}'.format(optimized_GBM.best_score_))"
   ]
  },
  {
   "cell_type": "markdown",
   "metadata": {},
   "source": [
    "## optimize reg_alpha, reg_lamba"
   ]
  },
  {
   "cell_type": "code",
   "execution_count": 31,
   "metadata": {},
   "outputs": [
    {
     "name": "stdout",
     "output_type": "stream",
     "text": [
      "Fitting 5 folds for each of 25 candidates, totalling 125 fits\n"
     ]
    },
    {
     "name": "stderr",
     "output_type": "stream",
     "text": [
      "[Parallel(n_jobs=4)]: Using backend LokyBackend with 4 concurrent workers.\n",
      "[Parallel(n_jobs=4)]: Done  42 tasks      | elapsed:  5.8min\n",
      "[Parallel(n_jobs=4)]: Done 125 out of 125 | elapsed: 16.8min finished\n"
     ]
    },
    {
     "name": "stdout",
     "output_type": "stream",
     "text": [
      "[17:57:48] WARNING: d:\\build\\xgboost\\xgboost-0.90.git\\src\\objective\\regression_obj.cu:152: reg:linear is now deprecated in favor of reg:squarederror.\n",
      "每輪迭代執行結果:{'mean_fit_time': array([29.44725981, 29.42009144, 29.84405723, 29.84885211, 29.13038831,\n",
      "       29.61089649, 29.63027616, 29.79870496, 28.82809725, 29.71119399,\n",
      "       29.94315581, 29.43827362, 30.30338874, 29.99909925, 29.83666511,\n",
      "       31.15431709, 29.68542047, 29.89540534, 30.11438136, 29.96753201,\n",
      "       30.19669671, 29.72098398, 29.80289941, 29.84685488, 28.46007404]), 'std_fit_time': array([0.17391456, 0.2488885 , 0.23066338, 0.35790084, 0.20255542,\n",
      "       0.29756941, 0.28943086, 0.2387708 , 0.434069  , 0.53062818,\n",
      "       0.3707171 , 0.42680777, 0.49936033, 0.64694971, 0.66242444,\n",
      "       0.62669531, 0.19899825, 0.5508766 , 0.35808892, 0.52708334,\n",
      "       0.60207475, 0.57263083, 0.56784154, 0.46305672, 2.19095965]), 'mean_score_time': array([0.39120002, 0.38460674, 0.39919157, 0.41157875, 0.40818429,\n",
      "       0.41537457, 0.39999075, 0.39319768, 0.3973937 , 0.39419727,\n",
      "       0.39879179, 0.40118918, 0.39439664, 0.40418639, 0.39639411,\n",
      "       0.3961946 , 0.39179959, 0.37921243, 0.39299808, 0.39939151,\n",
      "       0.40139046, 0.40878139, 0.39119992, 0.40338812, 0.36442685]), 'std_score_time': array([0.01377858, 0.01417005, 0.01438788, 0.03157144, 0.00984154,\n",
      "       0.01585063, 0.01065874, 0.0099214 , 0.00666876, 0.01482505,\n",
      "       0.00745954, 0.01219585, 0.01310714, 0.00905963, 0.00416272,\n",
      "       0.01194764, 0.01979334, 0.01904464, 0.00751812, 0.01220888,\n",
      "       0.02186152, 0.04126358, 0.00366247, 0.02799466, 0.01809675]), 'param_reg_alpha': masked_array(data=[0.05, 0.05, 0.05, 0.05, 0.05, 0.1, 0.1, 0.1, 0.1, 0.1,\n",
      "                   1, 1, 1, 1, 1, 2, 2, 2, 2, 2, 3, 3, 3, 3, 3],\n",
      "             mask=[False, False, False, False, False, False, False, False,\n",
      "                   False, False, False, False, False, False, False, False,\n",
      "                   False, False, False, False, False, False, False, False,\n",
      "                   False],\n",
      "       fill_value='?',\n",
      "            dtype=object), 'param_reg_lambda': masked_array(data=[0.05, 0.1, 1, 2, 3, 0.05, 0.1, 1, 2, 3, 0.05, 0.1, 1,\n",
      "                   2, 3, 0.05, 0.1, 1, 2, 3, 0.05, 0.1, 1, 2, 3],\n",
      "             mask=[False, False, False, False, False, False, False, False,\n",
      "                   False, False, False, False, False, False, False, False,\n",
      "                   False, False, False, False, False, False, False, False,\n",
      "                   False],\n",
      "       fill_value='?',\n",
      "            dtype=object), 'params': [{'reg_alpha': 0.05, 'reg_lambda': 0.05}, {'reg_alpha': 0.05, 'reg_lambda': 0.1}, {'reg_alpha': 0.05, 'reg_lambda': 1}, {'reg_alpha': 0.05, 'reg_lambda': 2}, {'reg_alpha': 0.05, 'reg_lambda': 3}, {'reg_alpha': 0.1, 'reg_lambda': 0.05}, {'reg_alpha': 0.1, 'reg_lambda': 0.1}, {'reg_alpha': 0.1, 'reg_lambda': 1}, {'reg_alpha': 0.1, 'reg_lambda': 2}, {'reg_alpha': 0.1, 'reg_lambda': 3}, {'reg_alpha': 1, 'reg_lambda': 0.05}, {'reg_alpha': 1, 'reg_lambda': 0.1}, {'reg_alpha': 1, 'reg_lambda': 1}, {'reg_alpha': 1, 'reg_lambda': 2}, {'reg_alpha': 1, 'reg_lambda': 3}, {'reg_alpha': 2, 'reg_lambda': 0.05}, {'reg_alpha': 2, 'reg_lambda': 0.1}, {'reg_alpha': 2, 'reg_lambda': 1}, {'reg_alpha': 2, 'reg_lambda': 2}, {'reg_alpha': 2, 'reg_lambda': 3}, {'reg_alpha': 3, 'reg_lambda': 0.05}, {'reg_alpha': 3, 'reg_lambda': 0.1}, {'reg_alpha': 3, 'reg_lambda': 1}, {'reg_alpha': 3, 'reg_lambda': 2}, {'reg_alpha': 3, 'reg_lambda': 3}], 'split0_test_score': array([0.37009063, 0.37004343, 0.37076162, 0.3709062 , 0.37021142,\n",
      "       0.37062191, 0.37024688, 0.36988461, 0.37058648, 0.37090721,\n",
      "       0.37056589, 0.37033639, 0.36990564, 0.37021355, 0.36989904,\n",
      "       0.37077835, 0.37030168, 0.37102291, 0.37160717, 0.37025414,\n",
      "       0.37134201, 0.37062902, 0.37169819, 0.37024321, 0.37065745]), 'split1_test_score': array([0.35704775, 0.35682298, 0.35678338, 0.35735285, 0.35754755,\n",
      "       0.35753095, 0.35686965, 0.35739516, 0.35756264, 0.35748984,\n",
      "       0.3573411 , 0.3574402 , 0.35757866, 0.35821816, 0.35805557,\n",
      "       0.35782583, 0.35799188, 0.35843356, 0.35829047, 0.35678252,\n",
      "       0.35713425, 0.35704407, 0.35808827, 0.35708482, 0.35798007]), 'split2_test_score': array([0.36265107, 0.36282014, 0.36210701, 0.36334957, 0.36364496,\n",
      "       0.36241235, 0.36233613, 0.36263188, 0.36310948, 0.36309306,\n",
      "       0.36224831, 0.36258794, 0.36318334, 0.36300045, 0.36270888,\n",
      "       0.36320217, 0.36208373, 0.36329134, 0.36272989, 0.362915  ,\n",
      "       0.36305081, 0.3630164 , 0.36287498, 0.36273003, 0.36259386]), 'split3_test_score': array([0.36953377, 0.37007339, 0.36990867, 0.36993807, 0.37045356,\n",
      "       0.37031386, 0.36909723, 0.37064166, 0.36989404, 0.36961153,\n",
      "       0.37067759, 0.37002971, 0.37053052, 0.37069841, 0.37054647,\n",
      "       0.37033208, 0.37093693, 0.3697614 , 0.3705705 , 0.36996657,\n",
      "       0.36979833, 0.37037469, 0.37014512, 0.37056614, 0.37105159]), 'split4_test_score': array([0.36147761, 0.36105285, 0.36087813, 0.36248233, 0.36236123,\n",
      "       0.36085154, 0.36104927, 0.36211887, 0.3617443 , 0.36204091,\n",
      "       0.36152023, 0.36081779, 0.36162452, 0.36167876, 0.36228647,\n",
      "       0.36204441, 0.36198702, 0.36197718, 0.3621522 , 0.3623248 ,\n",
      "       0.36285902, 0.36209363, 0.36209573, 0.36211254, 0.36170726]), 'mean_test_score': array([0.36416016, 0.36416254, 0.36408776, 0.36480579, 0.36484373,\n",
      "       0.36434612, 0.36391983, 0.36453442, 0.36457938, 0.3646285 ,\n",
      "       0.36447061, 0.3642424 , 0.36456452, 0.36476185, 0.36469927,\n",
      "       0.36483656, 0.36466024, 0.36489727, 0.36507004, 0.36444859,\n",
      "       0.36483687, 0.36463155, 0.36498046, 0.36454733, 0.36479804]), 'std_test_score': array([0.00498212, 0.00519357, 0.00540378, 0.00503235, 0.00492175,\n",
      "       0.00524212, 0.00504563, 0.00502689, 0.00497525, 0.00498535,\n",
      "       0.00529441, 0.00512574, 0.00496942, 0.00490699, 0.00479897,\n",
      "       0.0050025 , 0.00508872, 0.0047764 , 0.00515642, 0.00509481,\n",
      "       0.00516464, 0.0052072 , 0.00513927, 0.00516896, 0.00518337]), 'rank_test_score': array([23, 22, 24,  7,  4, 20, 25, 17, 14, 13, 18, 21, 15,  9, 10,  6, 11,\n",
      "        3,  1, 19,  5, 12,  2, 16,  8]), 'split0_train_score': array([0.40458849, 0.40499689, 0.40409592, 0.40398664, 0.40341805,\n",
      "       0.40482016, 0.40504858, 0.40441518, 0.40377909, 0.40396633,\n",
      "       0.40408439, 0.40431013, 0.4034902 , 0.40290127, 0.40343483,\n",
      "       0.40334556, 0.40311673, 0.40280597, 0.4023494 , 0.402204  ,\n",
      "       0.40266448, 0.40198002, 0.40195131, 0.40167902, 0.40154256]), 'split1_train_score': array([0.40891709, 0.40879899, 0.40803673, 0.40714936, 0.40716162,\n",
      "       0.40933471, 0.40868903, 0.40798734, 0.40787104, 0.4063535 ,\n",
      "       0.40782597, 0.40790145, 0.4073182 , 0.40682555, 0.40684832,\n",
      "       0.40657231, 0.40659496, 0.40637202, 0.40637984, 0.40526168,\n",
      "       0.40596969, 0.40622833, 0.40564245, 0.40573281, 0.40474829]), 'split2_train_score': array([0.40794755, 0.40791477, 0.40645992, 0.40652151, 0.40633208,\n",
      "       0.40789591, 0.40773521, 0.40685106, 0.40652035, 0.40640504,\n",
      "       0.4070514 , 0.40728058, 0.40626319, 0.4055364 , 0.4052136 ,\n",
      "       0.40598688, 0.40593139, 0.4051896 , 0.40519737, 0.40471122,\n",
      "       0.40442833, 0.40464323, 0.40447768, 0.40369798, 0.40399475]), 'split3_train_score': array([0.40520457, 0.40529998, 0.40527086, 0.40439834, 0.40448442,\n",
      "       0.40509964, 0.40502457, 0.40457306, 0.40423035, 0.40383521,\n",
      "       0.4046743 , 0.40501059, 0.40384579, 0.40359415, 0.40341664,\n",
      "       0.40315864, 0.4032818 , 0.40319966, 0.40263232, 0.40294336,\n",
      "       0.40252562, 0.4025106 , 0.40248818, 0.40216189, 0.40169507]), 'split4_train_score': array([0.40757793, 0.4075597 , 0.40680489, 0.4063662 , 0.40540148,\n",
      "       0.40795977, 0.40758353, 0.4066368 , 0.40606309, 0.4059843 ,\n",
      "       0.4062959 , 0.40638094, 0.40555175, 0.40527418, 0.4049042 ,\n",
      "       0.40571503, 0.40543501, 0.40450092, 0.40500916, 0.4040348 ,\n",
      "       0.40416743, 0.40437219, 0.40421625, 0.40387999, 0.40377944]), 'mean_train_score': array([0.40684713, 0.40691407, 0.40613367, 0.40568441, 0.40535953,\n",
      "       0.40702204, 0.40681618, 0.40609269, 0.40569278, 0.40530888,\n",
      "       0.40598639, 0.40617674, 0.40529383, 0.40482631, 0.40476352,\n",
      "       0.40495568, 0.40487198, 0.40441364, 0.40431362, 0.40383101,\n",
      "       0.40395111, 0.40394688, 0.40375517, 0.40343034, 0.40315202]), 'std_train_score': array([0.00166308, 0.00150014, 0.00134726, 0.00125284, 0.00132139,\n",
      "       0.00176269, 0.00150169, 0.0013845 , 0.00150783, 0.00115958,\n",
      "       0.0014109 , 0.00134751, 0.00144597, 0.00140895, 0.00127658,\n",
      "       0.00141953, 0.00141546, 0.0013041 , 0.00156327, 0.00112234,\n",
      "       0.0012678 , 0.00153637, 0.00135319, 0.00143187, 0.00129345])}\n",
      "引數的最佳取值：{'reg_alpha': 2, 'reg_lambda': 2}\n",
      "最佳模型得分:0.36507004218966915\n"
     ]
    }
   ],
   "source": [
    " cv_params = {'reg_alpha': [0.05, 0.1, 1, 2, 3], 'reg_lambda': [0.05, 0.1, 1, 2, 3]}\n",
    "other_params = {'learning_rate': 0.1, 'n_estimators': 400, 'max_depth': 4, 'min_child_weight': 5, 'seed': 0,\n",
    "'subsample': 0.7, 'colsample_bytree': 0.8, 'gamma': 0.6, 'reg_alpha': 0, 'reg_lambda': 1}\n",
    "model = xgb.XGBRegressor(**other_params)\n",
    "optimized_GBM = GridSearchCV(estimator=model, param_grid=cv_params, scoring='r2', cv=5, verbose=1, n_jobs=4)\n",
    "optimized_GBM.fit(X_train, y_train)\n",
    "evalute_result = optimized_GBM.cv_results_\n",
    "print('每輪迭代執行結果:{0}'.format(evalute_result))\n",
    "print('引數的最佳取值：{0}'.format(optimized_GBM.best_params_))\n",
    "print('最佳模型得分:{0}'.format(optimized_GBM.best_score_))"
   ]
  },
  {
   "cell_type": "markdown",
   "metadata": {},
   "source": [
    "## optimize leaning rate"
   ]
  },
  {
   "cell_type": "code",
   "execution_count": 32,
   "metadata": {},
   "outputs": [
    {
     "name": "stdout",
     "output_type": "stream",
     "text": [
      "Fitting 5 folds for each of 5 candidates, totalling 25 fits\n"
     ]
    },
    {
     "name": "stderr",
     "output_type": "stream",
     "text": [
      "[Parallel(n_jobs=4)]: Using backend LokyBackend with 4 concurrent workers.\n",
      "[Parallel(n_jobs=4)]: Done  25 out of  25 | elapsed:  3.6min finished\n"
     ]
    },
    {
     "name": "stdout",
     "output_type": "stream",
     "text": [
      "[18:18:58] WARNING: d:\\build\\xgboost\\xgboost-0.90.git\\src\\objective\\regression_obj.cu:152: reg:linear is now deprecated in favor of reg:squarederror.\n",
      "每輪迭代執行結果:{'mean_fit_time': array([29.71379118, 29.63846831, 29.73337193, 30.16592932, 28.05548925]), 'std_fit_time': array([0.2969602 , 0.34155388, 0.39569594, 0.19097144, 2.67829198]), 'mean_score_time': array([0.37761374, 0.39819512, 0.39979572, 0.4083818 , 0.38081021]), 'std_score_time': array([0.01492436, 0.01536834, 0.01336912, 0.00777421, 0.02147661]), 'param_learning_rate': masked_array(data=[0.01, 0.05, 0.07, 0.1, 0.2],\n",
      "             mask=[False, False, False, False, False],\n",
      "       fill_value='?',\n",
      "            dtype=object), 'params': [{'learning_rate': 0.01}, {'learning_rate': 0.05}, {'learning_rate': 0.07}, {'learning_rate': 0.1}, {'learning_rate': 0.2}], 'split0_test_score': array([0.3592305 , 0.37141885, 0.37138632, 0.37160717, 0.36404529]), 'split1_test_score': array([0.34570012, 0.35745737, 0.35890814, 0.35829047, 0.35137466]), 'split2_test_score': array([0.34914776, 0.36299746, 0.36356824, 0.36272989, 0.35765296]), 'split3_test_score': array([0.35557011, 0.36995908, 0.37001423, 0.3705705 , 0.36319473]), 'split4_test_score': array([0.34789943, 0.36275408, 0.36341676, 0.3621522 , 0.35440261]), 'mean_test_score': array([0.3515096 , 0.36491736, 0.36545873, 0.36507004, 0.35813404]), 'std_test_score': array([0.0050688 , 0.0051324 , 0.00461615, 0.00515642, 0.00490712]), 'rank_test_score': array([5, 3, 1, 2, 4]), 'split0_train_score': array([0.35436115, 0.38477544, 0.39258122, 0.4023494 , 0.42724585]), 'split1_train_score': array([0.3575796 , 0.38796462, 0.39589935, 0.40637984, 0.43061891]), 'split2_train_score': array([0.35669227, 0.38717488, 0.39518398, 0.40519737, 0.42898323]), 'split3_train_score': array([0.355184  , 0.38529347, 0.39281379, 0.40263232, 0.42678548]), 'split4_train_score': array([0.35697076, 0.38689299, 0.39464503, 0.40500916, 0.428682  ]), 'mean_train_score': array([0.35615756, 0.38642028, 0.39422467, 0.40431362, 0.4284631 ]), 'std_train_score': array([0.00119535, 0.00119608, 0.00131096, 0.00156327, 0.00136103])}\n",
      "引數的最佳取值：{'learning_rate': 0.07}\n",
      "最佳模型得分:0.3654587322290045\n"
     ]
    }
   ],
   "source": [
    "cv_params = {'learning_rate': [0.01, 0.05, 0.07, 0.1, 0.2]}\n",
    "other_params = {'learning_rate': 0.1, 'n_estimators': 400, 'max_depth': 4, 'min_child_weight': 5, 'seed': 0,\n",
    "'subsample': 0.7, 'colsample_bytree': 0.8, 'gamma': 0.6, 'reg_alpha': 2, 'reg_lambda': 2}\n",
    "model = xgb.XGBRegressor(**other_params)\n",
    "optimized_GBM = GridSearchCV(estimator=model, param_grid=cv_params, scoring='r2', cv=5, verbose=1, n_jobs=4)\n",
    "optimized_GBM.fit(X_train, y_train)\n",
    "evalute_result = optimized_GBM.cv_results_\n",
    "print('每輪迭代執行結果:{0}'.format(evalute_result))\n",
    "print('引數的最佳取值：{0}'.format(optimized_GBM.best_params_))\n",
    "print('最佳模型得分:{0}'.format(optimized_GBM.best_score_))"
   ]
  },
  {
   "cell_type": "markdown",
   "metadata": {},
   "source": [
    "## ref:https://blog.csdn.net/chuanda112233/article/details/51913254"
   ]
  },
  {
   "cell_type": "code",
   "execution_count": 4,
   "metadata": {},
   "outputs": [],
   "source": [
    "data_train = xgb.DMatrix( X_train, label=y_train)\n",
    "data_test  = xgb.DMatrix( X_test, label=y_test)\n",
    "#給予模型參數，告知演算法該如何訓練模型\n",
    "#optimized param = {'learning_rate': 0.07, 'n_estimators': 400, 'max_depth': 4, 'min_child_weight': 5, 'seed': 0,\n",
    "#'subsample': 0.7, 'colsample_bytree': 0.8, 'gamma': 0.6, 'reg_alpha': 2, 'reg_lambda': 2}\n",
    "param = {}\n",
    "param['booster'] = 'gbtree'\n",
    "param['objective'] = 'reg:linear' \n",
    "#param['objective']='multi:softmax'\n",
    "#param['num_class']= 6\n",
    "param['tree_method'] = 'hist'\n",
    "param['silent']=1\n",
    "param['max_depth']=6\n",
    "param['min_child_weight'] = 4\n",
    "param['subsample']=0.7\n",
    "#param['colsample_bytree']=0.8\n",
    "param['eta']=0.01\n",
    "param['gamma']=0.5\n",
    "#param['learning_rate']=0.07\n",
    "#param['reg_alpha']=2\n",
    "#param['reg_lambda']=2\n",
    "#param['n_estimators']=400\n",
    "eval_list  = [(data_train,'train'),(data_test,'test')]\n",
    "num_round = 90\n",
    "eval_history={}\n",
    "\n",
    "# 訓練模型\n",
    "model = xgb.train( param, data_train, num_round,eval_list,\n",
    "                  evals_result=eval_history,verbose_eval=False)"
   ]
  },
  {
   "cell_type": "code",
   "execution_count": 5,
   "metadata": {},
   "outputs": [
    {
     "data": {
      "image/png": "[encoded data removed]",
      "text/plain": [
       "<Figure size 432x288 with 1 Axes>"
      ]
     },
     "metadata": {
      "needs_background": "light"
     },
     "output_type": "display_data"
    }
   ],
   "source": [
    "# process \n",
    "rmse_train=eval_history['train']['rmse']\n",
    "rmse_test=eval_history['test']['rmse']\n",
    "plt.plot(rmse_train,ms=10,marker='.',label='train_eval')\n",
    "plt.plot(rmse_test,ms=10,marker='v',label='test_eval')\n",
    "plt.legend()\n",
    "plt.show()\n",
    "\n"
   ]
  },
  {
   "cell_type": "code",
   "execution_count": 6,
   "metadata": {},
   "outputs": [
    {
     "data": {
      "text/plain": [
       "'[0]\\teval-rmse:0.935165'"
      ]
     },
     "execution_count": 6,
     "metadata": {},
     "output_type": "execute_result"
    }
   ],
   "source": [
    "# 檢視最後rms error\n",
    "model.eval(data_test)"
   ]
  },
  {
   "cell_type": "code",
   "execution_count": 7,
   "metadata": {},
   "outputs": [
    {
     "data": {
      "text/plain": [
       "'[0]\\teval-rmse:0.913145'"
      ]
     },
     "execution_count": 7,
     "metadata": {},
     "output_type": "execute_result"
    }
   ],
   "source": [
    "# 檢視最後rms error\n",
    "model.eval(data_train)"
   ]
  },
  {
   "cell_type": "code",
   "execution_count": 8,
   "metadata": {},
   "outputs": [
    {
     "data": {
      "image/png": "[encoded data removed]",
      "text/plain": [
       "<Figure size 432x288 with 1 Axes>"
      ]
     },
     "metadata": {
      "needs_background": "light"
     },
     "output_type": "display_data"
    }
   ],
   "source": [
    "# importence of columns\n",
    "from xgboost import plot_importance\n",
    "plot_importance(model)\n",
    "plt.show()\n",
    "\n"
   ]
  },
  {
   "cell_type": "markdown",
   "metadata": {},
   "source": [
    "## use R square for evaluation"
   ]
  },
  {
   "cell_type": "code",
   "execution_count": 9,
   "metadata": {},
   "outputs": [
    {
     "data": {
      "text/plain": [
       "0.3617660018584621"
      ]
     },
     "execution_count": 9,
     "metadata": {},
     "output_type": "execute_result"
    }
   ],
   "source": [
    "from sklearn.metrics import r2_score, accuracy_score\n",
    "testY_pred=model.predict(data_test)\n",
    "r2_score(y_test, testY_pred)"
   ]
  },
  {
   "cell_type": "code",
   "execution_count": 10,
   "metadata": {},
   "outputs": [
    {
     "data": {
      "text/plain": [
       "0.3987764139346467"
      ]
     },
     "execution_count": 10,
     "metadata": {},
     "output_type": "execute_result"
    }
   ],
   "source": [
    "trainY_pred = model.predict(data_train)\n",
    "r2_score(y_train, trainY_pred)"
   ]
  },
  {
   "cell_type": "code",
   "execution_count": null,
   "metadata": {},
   "outputs": [],
   "source": []
  },
  {
   "cell_type": "code",
   "execution_count": null,
   "metadata": {},
   "outputs": [],
   "source": []
  },
  {
   "cell_type": "code",
   "execution_count": null,
   "metadata": {},
   "outputs": [],
   "source": []
  }
 ],
 "metadata": {
  "kernelspec": {
   "display_name": "Python 3",
   "language": "python",
   "name": "python3"
  },
  "language_info": {
   "codemirror_mode": {
    "name": "ipython",
    "version": 3
   },
   "file_extension": ".py",
   "mimetype": "text/x-python",
   "name": "python",
   "nbconvert_exporter": "python",
   "pygments_lexer": "ipython3",
   "version": "3.7.3"
  }
 },
 "nbformat": 4,
 "nbformat_minor": 2
}
