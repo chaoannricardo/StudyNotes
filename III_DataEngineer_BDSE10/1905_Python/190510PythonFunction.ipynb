{
 "cells": [
  {
   "cell_type": "code",
   "execution_count": 1,
   "metadata": {},
   "outputs": [
    {
     "name": "stdout",
     "output_type": "stream",
     "text": [
      "Ricardo is a handsome guy\n"
     ]
    }
   ],
   "source": [
    "# first function\n",
    "def printme(pstr):\n",
    "    '''\n",
    "    The function would print out a text line.\n",
    "    pstr: String\n",
    "    '''\n",
    "    print(pstr)\n",
    "    return \n",
    "\n",
    "printme(\"Ricardo is a handsome guy\")"
   ]
  },
  {
   "cell_type": "code",
   "execution_count": 2,
   "metadata": {},
   "outputs": [],
   "source": [
    "printme?"
   ]
  },
  {
   "cell_type": "code",
   "execution_count": 3,
   "metadata": {},
   "outputs": [
    {
     "name": "stdout",
     "output_type": "stream",
     "text": [
      "Values in the function before change:  [10, 20, 30]\n",
      "Values in the function after change:  [10, 50, 30]\n"
     ]
    }
   ],
   "source": [
    "def changme(mylist):\n",
    "    print('Values in the function before change: ', mylist)\n",
    "    mylist[1]=50\n",
    "    print('Values in the function after change: ', mylist)\n",
    "    return # implies none reply\n",
    "\n",
    "lista=[10,20,30]\n",
    "changme(lista)"
   ]
  },
  {
   "cell_type": "code",
   "execution_count": 4,
   "metadata": {},
   "outputs": [
    {
     "name": "stdout",
     "output_type": "stream",
     "text": [
      "test\n"
     ]
    }
   ],
   "source": [
    "# Function definition is here\n",
    "def printme(pstr):\n",
    "    '''\n",
    "    The function would print out a text line.\n",
    "    pstr: String\n",
    "    '''\n",
    "    print(pstr)\n",
    "    return\n",
    "\n",
    "# Now you can call printme function\n",
    "printme(\"test\")"
   ]
  },
  {
   "cell_type": "code",
   "execution_count": 5,
   "metadata": {},
   "outputs": [
    {
     "name": "stdout",
     "output_type": "stream",
     "text": [
      "It's None\n",
      "None\n",
      "It's True\n",
      "None\n",
      "It's False\n",
      "None\n",
      "It's False\n",
      "None\n",
      "It's False\n",
      "None\n",
      "It's False\n",
      "None\n",
      "It's False\n",
      "None\n",
      "It's False\n",
      "None\n"
     ]
    }
   ],
   "source": [
    "def is_none(thing):\n",
    "    if thing is None:\n",
    "        print(\"It's None\")\n",
    "    elif thing:\n",
    "        print(\"It's True\")\n",
    "    else:\n",
    "        print(\"It's False\")\n",
    "        \n",
    "print(is_none(None))\n",
    "print(is_none(True))\n",
    "print(is_none(False))\n",
    "print(is_none(0))\n",
    "print(is_none(0.0))\n",
    "print(is_none([]))\n",
    "print(is_none({}))\n",
    "print(is_none(set()))"
   ]
  },
  {
   "cell_type": "code",
   "execution_count": 6,
   "metadata": {},
   "outputs": [
    {
     "data": {
      "text/plain": [
       "\"You're a idiot!!! You're a idiot!!!\""
      ]
     },
     "execution_count": 6,
     "metadata": {},
     "output_type": "execute_result"
    }
   ],
   "source": [
    "def echo(anything):\n",
    "    return anything + ' ' + anything\n",
    "\n",
    "echo(\"You're a idiot!!!\")"
   ]
  },
  {
   "cell_type": "code",
   "execution_count": 7,
   "metadata": {},
   "outputs": [
    {
     "name": "stdout",
     "output_type": "stream",
     "text": [
      "Values in the function before change:  [10, 20, 30]\n",
      "Values in the function after change:  [10, 20, 50]\n",
      "Values outside the function:  [10, 20, 50]\n"
     ]
    }
   ],
   "source": [
    "# Function definition is here\n",
    "def changeme(mylist):\n",
    "    print(\"Values in the function before change: \", mylist)\n",
    "    mylist[2]=50\n",
    "    print(\"Values in the function after change: \", mylist)\n",
    "    return\n",
    "\n",
    "# Now you can call changeme function\n",
    "mylist = [10,20,30]\n",
    "changeme(mylist)\n",
    "print(\"Values outside the function: \", mylist)"
   ]
  },
  {
   "cell_type": "code",
   "execution_count": 8,
   "metadata": {},
   "outputs": [
    {
     "name": "stdout",
     "output_type": "stream",
     "text": [
      "Name: Ricardo\n",
      "Age: 23\n"
     ]
    }
   ],
   "source": [
    "def printinfo(name,age):\n",
    "    print(\"Name:\",name)\n",
    "    print(\"Age:\",age)\n",
    "    return\n",
    "\n",
    "printinfo(\"Ricardo\",23)"
   ]
  },
  {
   "cell_type": "code",
   "execution_count": 9,
   "metadata": {},
   "outputs": [
    {
     "name": "stdout",
     "output_type": "stream",
     "text": [
      "Name: Ricardo\n",
      "Age: 23\n"
     ]
    }
   ],
   "source": [
    "# keyword Arguments\n",
    "def printinfo(name,age):\n",
    "    print(\"Name:\",name)\n",
    "    print(\"Age:\",age)\n",
    "    return\n",
    "\n",
    "printinfo(age=23,name='Ricardo')"
   ]
  },
  {
   "cell_type": "code",
   "execution_count": 10,
   "metadata": {},
   "outputs": [
    {
     "name": "stdout",
     "output_type": "stream",
     "text": [
      "Name: Ricardo\n",
      "Age: 35\n"
     ]
    }
   ],
   "source": [
    "# Default Arguments\n",
    "def printinfo(name,age=35):\n",
    "    '''\n",
    "    Within the function,\n",
    "    default value of age would be set by 35.\n",
    "    '''\n",
    "    print(\"Name:\",name)\n",
    "    print(\"Age:\",age)\n",
    "    return\n",
    "\n",
    "printinfo(\"Ricardo\")"
   ]
  },
  {
   "cell_type": "code",
   "execution_count": 11,
   "metadata": {},
   "outputs": [
    {
     "data": {
      "text/plain": [
       "{'wine': 'abcdefg', 'entree': 'ttteSdfs', 'dessert': 'fsgearrg'}"
      ]
     },
     "execution_count": 11,
     "metadata": {},
     "output_type": "execute_result"
    }
   ],
   "source": [
    "def menu(wine,entree,dessert): \n",
    "    return {'wine':wine,'entree':entree,'dessert':dessert}\n",
    "\n",
    "menu('abcdefg','ttteSdfs','fsgearrg')"
   ]
  },
  {
   "cell_type": "code",
   "execution_count": 12,
   "metadata": {},
   "outputs": [
    {
     "name": "stdout",
     "output_type": "stream",
     "text": [
      "Output is:\n",
      "10\n",
      "\n",
      "Output is:\n",
      "70\n",
      "60\n",
      "50\n",
      "\n",
      "Output is:\n",
      "80\n",
      "90\n",
      "100\n",
      "110\n",
      "120\n",
      "130\n",
      "\n"
     ]
    }
   ],
   "source": [
    "# Variable-length Arguments\n",
    "def printinfo(arg1,*vartuple):\n",
    "    print(\"Output is:\")\n",
    "    print(arg1)\n",
    "    for var in vartuple:\n",
    "        print(var)\n",
    "    print()\n",
    "    return\n",
    "        \n",
    "# Call the function\n",
    "printinfo(10)\n",
    "printinfo(70,60,50)\n",
    "printinfo(80,90,100,110,120,130)"
   ]
  },
  {
   "cell_type": "code",
   "execution_count": 13,
   "metadata": {},
   "outputs": [
    {
     "name": "stdout",
     "output_type": "stream",
     "text": [
      "42\n",
      "42\n",
      "Type of run_something is <class 'function'>\n"
     ]
    }
   ],
   "source": [
    "def answer():\n",
    "    print(42)\n",
    "\n",
    "answer()\n",
    "\n",
    "def run_something(func):\n",
    "    func()\n",
    "    \n",
    "run_something(answer)\n",
    "\n",
    "print(\"Type of run_something is\", type(run_something))"
   ]
  },
  {
   "cell_type": "code",
   "execution_count": 14,
   "metadata": {},
   "outputs": [
    {
     "name": "stdout",
     "output_type": "stream",
     "text": [
      "Value of total:  4\n",
      "Value of total:  40\n"
     ]
    }
   ],
   "source": [
    "# The Anonymous Functions I\n",
    "sum_data = lambda a, b: a + b\n",
    "\n",
    "print(\"Value of total: \",sum_data(1,3))\n",
    "print(\"Value of total: \",sum_data(10,30))"
   ]
  },
  {
   "cell_type": "code",
   "execution_count": 15,
   "metadata": {},
   "outputs": [
    {
     "name": "stdout",
     "output_type": "stream",
     "text": [
      "operate_on(10,40,(lambda a,b:a+b))= 50\n"
     ]
    }
   ],
   "source": [
    "# The Anonymous Function II\n",
    "def operate_on(x,y,func):\n",
    "    return func(x,y)\n",
    "\n",
    "r = operate_on(10,40,(lambda a,b:a+b))\n",
    "print(\"operate_on(10,40,(lambda a,b:a+b))=\",r)"
   ]
  },
  {
   "cell_type": "code",
   "execution_count": 21,
   "metadata": {},
   "outputs": [
    {
     "name": "stdout",
     "output_type": "stream",
     "text": [
      "Inside the function 30\n"
     ]
    }
   ],
   "source": [
    "# The Return Statement\n",
    "def sum_data2(a,b):\n",
    "    total = a + b\n",
    "    print(\"Inside the function\",total)\n",
    "\n",
    "# Call the function\n",
    "sum_data2(10,20)\n",
    "#print(\"Outside the function: \", total) # total is not defined"
   ]
  },
  {
   "cell_type": "code",
   "execution_count": 24,
   "metadata": {},
   "outputs": [
    {
     "name": "stdout",
     "output_type": "stream",
     "text": [
      "spam\n",
      "spam\n",
      "spam\n"
     ]
    }
   ],
   "source": [
    "def spam():\n",
    "    global eggs\n",
    "    eggs = 'spam' # this is the global\n",
    "    \n",
    "def bacon():\n",
    "    eggs = 'bacon' # this is a local\n",
    "\n",
    "def ham():\n",
    "    print(eggs) # this is the global\n",
    "\n",
    "eggs=42\n",
    "spam()\n",
    "print(eggs) # spam\n",
    "bacon()\n",
    "print(eggs)\n",
    "ham()"
   ]
  },
  {
   "cell_type": "code",
   "execution_count": null,
   "metadata": {},
   "outputs": [],
   "source": [
    "# Iterators\n",
    "fruits=['apple','orange','banana','grape']\n",
    "fruits_iterator=iter(fruits)\n"
   ]
  }
 ],
 "metadata": {
  "kernelspec": {
   "display_name": "Python 3",
   "language": "python",
   "name": "python3"
  },
  "language_info": {
   "codemirror_mode": {
    "name": "ipython",
    "version": 3
   },
   "file_extension": ".py",
   "mimetype": "text/x-python",
   "name": "python",
   "nbconvert_exporter": "python",
   "pygments_lexer": "ipython3",
   "version": "3.7.3"
  }
 },
 "nbformat": 4,
 "nbformat_minor": 2
}
