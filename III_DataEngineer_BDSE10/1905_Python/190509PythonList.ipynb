{
 "cells": [
  {
   "cell_type": "code",
   "execution_count": 11,
   "metadata": {},
   "outputs": [
    {
     "name": "stdout",
     "output_type": "stream",
     "text": [
      "Value of index 2 ['physics', 'chenmistry', 1997, 2000]\n",
      "ID of the list is 140602400485128\n",
      "ID of the lst[2] is 140602400884368\n"
     ]
    }
   ],
   "source": [
    "lst=['physics','chenmistry',1997,2000]\n",
    "print(\"Value of index 2\",lst)\n",
    "print(\"ID of the list is\",id(lst))"
   ]
  },
  {
   "cell_type": "code",
   "execution_count": 3,
   "metadata": {},
   "outputs": [
    {
     "name": "stdout",
     "output_type": "stream",
     "text": [
      "New value available at index 2 is 2001\n"
     ]
    }
   ],
   "source": [
    "lst[2]=2001\n",
    "print(\"New value available at index 2 is\",lst[2])"
   ]
  },
  {
   "cell_type": "code",
   "execution_count": 9,
   "metadata": {},
   "outputs": [
    {
     "name": "stdout",
     "output_type": "stream",
     "text": [
      "['physics', 'chenmistry', 1997, 2000]\n",
      "ID after editing is 140602400482184\n"
     ]
    }
   ],
   "source": [
    "print(lst)\n",
    "del lst[2]\n",
    "print(\"ID after editing is\",id(lst))"
   ]
  },
  {
   "cell_type": "code",
   "execution_count": 5,
   "metadata": {},
   "outputs": [
    {
     "name": "stdout",
     "output_type": "stream",
     "text": [
      "After deleting value at index 2: ['physics', 'chenmistry', 1997, 2000]\n",
      "Length of list: ['physics', 'chenmistry', 1997, 2000]\n"
     ]
    }
   ],
   "source": [
    "print(\"After deleting value at index 2:\",lst)\n",
    "print(\"Length of list:\",lst)"
   ]
  },
  {
   "cell_type": "code",
   "execution_count": 12,
   "metadata": {},
   "outputs": [
    {
     "name": "stdout",
     "output_type": "stream",
     "text": [
      "ID of the lst[2] is 140602400884368\n"
     ]
    }
   ],
   "source": [
    "print(\"ID of the lst[2] is\",id(lst[2]))"
   ]
  },
  {
   "cell_type": "code",
   "execution_count": 15,
   "metadata": {},
   "outputs": [],
   "source": [
    "lst[2]=5"
   ]
  },
  {
   "cell_type": "code",
   "execution_count": 24,
   "metadata": {},
   "outputs": [
    {
     "name": "stdout",
     "output_type": "stream",
     "text": [
      "ID of the new lst[2] is 140602400884880\n"
     ]
    }
   ],
   "source": [
    "print(\"ID of the new lst[2] is\",id(lst[2]))"
   ]
  },
  {
   "cell_type": "code",
   "execution_count": 25,
   "metadata": {},
   "outputs": [
    {
     "name": "stdout",
     "output_type": "stream",
     "text": [
      "ID of the new lst[2] is 140602400885072\n",
      "ID of the new lst[3] is 140602400884304\n"
     ]
    }
   ],
   "source": [
    "lst[2]=2000\n",
    "print(\"ID of the new lst[2] is\",id(lst[2]))\n",
    "print(\"ID of the new lst[3] is\",id(lst[3]))"
   ]
  }
 ],
 "metadata": {
  "kernelspec": {
   "display_name": "Python 3",
   "language": "python",
   "name": "python3"
  },
  "language_info": {
   "codemirror_mode": {
    "name": "ipython",
    "version": 3
   },
   "file_extension": ".py",
   "mimetype": "text/x-python",
   "name": "python",
   "nbconvert_exporter": "python",
   "pygments_lexer": "ipython3",
   "version": "3.7.3"
  }
 },
 "nbformat": 4,
 "nbformat_minor": 2
}
