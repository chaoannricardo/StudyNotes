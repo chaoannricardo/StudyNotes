{
 "cells": [
  {
   "cell_type": "code",
   "execution_count": 2,
   "metadata": {},
   "outputs": [
    {
     "name": "stdout",
     "output_type": "stream",
     "text": [
      "1 true expression\n",
      "100\n",
      "Goodbye\n"
     ]
    }
   ],
   "source": [
    "var1=100\n",
    "if var1:\n",
    "    print('1 true expression')\n",
    "    print(var1)\n",
    "var2=0\n",
    "if var2:\n",
    "    print('2 true expression')\n",
    "    print(var2)\n",
    "print('Goodbye')"
   ]
  },
  {
   "cell_type": "code",
   "execution_count": 3,
   "metadata": {},
   "outputs": [
    {
     "name": "stdout",
     "output_type": "stream",
     "text": [
      "Input temperature => 21\n",
      "God dammit it's hot!\n",
      "Today's temperature = 21\n"
     ]
    }
   ],
   "source": [
    "t = int(input(\"Input temperature => \"))\n",
    "if t < 20:\n",
    "    print(\"wear a coat!\")\n",
    "else:\n",
    "    print(\"God dammit it's hot!\")\n",
    "print(\"Today's temperature =\",t)"
   ]
  },
  {
   "cell_type": "code",
   "execution_count": 2,
   "metadata": {},
   "outputs": [
    {
     "data": {
      "text/plain": [
       "654.3000000000001"
      ]
     },
     "execution_count": 2,
     "metadata": {},
     "output_type": "execute_result"
    }
   ],
   "source": [
    "# eval() funtion\n",
    "n=100\n",
    "eval('100*6.543')"
   ]
  },
  {
   "cell_type": "code",
   "execution_count": 5,
   "metadata": {},
   "outputs": [
    {
     "name": "stdout",
     "output_type": "stream",
     "text": [
      "enter a number15\n",
      "Divisible by 3 but not by 2\n"
     ]
    }
   ],
   "source": [
    "# Nested if Statement\n",
    "num = int(input(\"enter a number\"))\n",
    "if num%2 == 0:\n",
    "    if num%3 == 0:\n",
    "        print(\"Divisible by 2 and 3\")\n",
    "    else:\n",
    "        print(\"Divisible by 2 but not by 3\")\n",
    "else:\n",
    "    if num%3==0:\n",
    "        print(\"Divisible by 3 but not by 2\")\n",
    "    else:\n",
    "        print(\"Is not divisible by 2 and 3\")"
   ]
  }
 ],
 "metadata": {
  "kernelspec": {
   "display_name": "Python 3",
   "language": "python",
   "name": "python3"
  },
  "language_info": {
   "codemirror_mode": {
    "name": "ipython",
    "version": 3
   },
   "file_extension": ".py",
   "mimetype": "text/x-python",
   "name": "python",
   "nbconvert_exporter": "python",
   "pygments_lexer": "ipython3",
   "version": "3.7.3"
  }
 },
 "nbformat": 4,
 "nbformat_minor": 2
}
