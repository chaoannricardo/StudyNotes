{
 "cells": [
  {
   "cell_type": "code",
   "execution_count": 1,
   "metadata": {},
   "outputs": [
    {
     "name": "stdout",
     "output_type": "stream",
     "text": [
      "1\n",
      "2\n",
      "3\n",
      "4\n",
      "5\n"
     ]
    }
   ],
   "source": [
    "# while stmt\n",
    "i=1\n",
    "while True:\n",
    "    print(i)\n",
    "    i+=1\n",
    "    if i > 5:\n",
    "        break"
   ]
  },
  {
   "cell_type": "code",
   "execution_count": 3,
   "metadata": {},
   "outputs": [
    {
     "name": "stdout",
     "output_type": "stream",
     "text": [
      "Current Letter: P\n",
      "Current Letter: y\n",
      "Current Letter: t\n",
      "Current Letter: h\n",
      "Current Letter: o\n",
      "Current Letter: n\n",
      "\n",
      "Current Fruit is: banana\n",
      "Current Fruit is: apple\n",
      "Current Fruit is: mango\n",
      "Goodbye\n"
     ]
    }
   ],
   "source": [
    "# traversal of a string sequence\n",
    "for letter in 'Python':\n",
    "    print('Current Letter:',letter)\n",
    "print()\n",
    "fruits=['banana','apple','mango']\n",
    "\n",
    "# traversal of List sequence\n",
    "for fruit in fruits:\n",
    "    print('Current Fruit is:',fruit)\n",
    "print(\"Goodbye\")"
   ]
  },
  {
   "cell_type": "code",
   "execution_count": 13,
   "metadata": {},
   "outputs": [
    {
     "name": "stdout",
     "output_type": "stream",
     "text": [
      "90.5 µs ± 12.2 µs per loop (mean ± std. dev. of 7 runs, 10000 loops each)\n"
     ]
    }
   ],
   "source": [
    "%%timeit\n",
    "# Lazy Evaluation I\n",
    "list(range(5000))"
   ]
  },
  {
   "cell_type": "code",
   "execution_count": 7,
   "metadata": {},
   "outputs": [
    {
     "name": "stdout",
     "output_type": "stream",
     "text": [
      "102 µs ± 8.06 µs per loop (mean ± std. dev. of 7 runs, 10000 loops each)\n"
     ]
    }
   ],
   "source": [
    "%%timeit\n",
    "# Lazy Evaluation II\n",
    "tuple(range(5000))"
   ]
  },
  {
   "cell_type": "code",
   "execution_count": 14,
   "metadata": {},
   "outputs": [
    {
     "name": "stdout",
     "output_type": "stream",
     "text": [
      "Input a value =>90\n",
      "sum = 4095\n"
     ]
    }
   ],
   "source": [
    "# forstmt1.py: for stmt\n",
    "m = int(input(\"Input a value =>\"))\n",
    "s = 0\n",
    "for i in range(1, m+1):\n",
    "    s += i\n",
    "print(\"sum =\",s)"
   ]
  },
  {
   "cell_type": "code",
   "execution_count": 15,
   "metadata": {},
   "outputs": [
    {
     "name": "stdout",
     "output_type": "stream",
     "text": [
      "range(5) values = 0\n",
      "range(5) values = 1\n",
      "range(5) values = 2\n",
      "range(5) values = 3\n",
      "range(5) values = 4\n",
      "range(1,5) values = 1\n",
      "range(1,5) values = 2\n",
      "range(1,5) values = 3\n",
      "range(1,5) values = 4\n",
      "range(1,11,2) values = 1\n",
      "range(1,11,2) values = 3\n",
      "range(1,11,2) values = 5\n",
      "range(1,11,2) values = 7\n",
      "range(1,11,2) values = 9\n"
     ]
    }
   ],
   "source": [
    "# forstmt2.py: for stmt\n",
    "for i in range(5):\n",
    "    print(\"range(5) values =\",i)\n",
    "for i in range(1, 5):\n",
    "    print(\"range(1,5) values =\",i)\n",
    "for i in range(1, 11, 2):\n",
    "    print(\"range(1,11,2) values =\",i)"
   ]
  },
  {
   "cell_type": "code",
   "execution_count": 21,
   "metadata": {},
   "outputs": [
    {
     "name": "stdout",
     "output_type": "stream",
     "text": [
      "The list do not contains a even number\n"
     ]
    }
   ],
   "source": [
    "numbers=[11,33,55,39,55,75,37,21,23,41,13]\n",
    "for num in numbers:\n",
    "    if num%2==0:\n",
    "        print(\"The list contains a or more even numbers\")\n",
    "        break\n",
    "else:\n",
    "    print('The list do not contains a even number')"
   ]
  },
  {
   "cell_type": "code",
   "execution_count": 23,
   "metadata": {},
   "outputs": [
    {
     "name": "stdout",
     "output_type": "stream",
     "text": [
      "using else block after for loop\n",
      "end of the loop\n",
      "sum= 5\n",
      "using else block after while loop\n",
      "end of while loop\n",
      "5!= 120\n"
     ]
    }
   ],
   "source": [
    "# else stmt\n",
    "# using else block after for loop\n",
    "print(\"using else block after for loop\")\n",
    "s=0\n",
    "for i in range(1,6):\n",
    "    s+=1\n",
    "else:\n",
    "    print('end of the loop')\n",
    "    print('sum=',s)\n",
    "# using else block after while loop\n",
    "print(\"using else block after while loop\")\n",
    "r=n=1\n",
    "while n<=5:\n",
    "    r*=n\n",
    "    n+=1\n",
    "else:\n",
    "    print(\"end of while loop\")\n",
    "    print(\"5!=\",str(r))"
   ]
  },
  {
   "cell_type": "code",
   "execution_count": 53,
   "metadata": {},
   "outputs": [
    {
     "name": "stdout",
     "output_type": "stream",
     "text": [
      "[0, 1, 4, 9, 16, 25, 36, 49, 64, 81]\n",
      "[1, 2, 4, 8, 16, 32, 64, 128, 256, 512, 1024]\n",
      "[0, 4, 16, 36, 64]\n"
     ]
    }
   ],
   "source": [
    "# List Comprehension\n",
    "S = [x**2 for x in range(10)]\n",
    "print(S)\n",
    "V = [2**i for i in range(11)]\n",
    "print(V)\n",
    "M = [x for x in S if not x % 2]\n",
    "print(M)"
   ]
  }
 ],
 "metadata": {
  "kernelspec": {
   "display_name": "Python 3",
   "language": "python",
   "name": "python3"
  },
  "language_info": {
   "codemirror_mode": {
    "name": "ipython",
    "version": 3
   },
   "file_extension": ".py",
   "mimetype": "text/x-python",
   "name": "python",
   "nbconvert_exporter": "python",
   "pygments_lexer": "ipython3",
   "version": "3.7.3"
  }
 },
 "nbformat": 4,
 "nbformat_minor": 2
}
