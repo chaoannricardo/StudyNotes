{
 "cells": [
  {
   "cell_type": "markdown",
   "metadata": {},
   "source": [
    "# TensorFlow 學習筆記(1)\n",
    "https://dotblogs.com.tw/shaynling/2017/11/14/173025"
   ]
  },
  {
   "cell_type": "markdown",
   "metadata": {},
   "source": [
    "### First Program: Hello World!!!"
   ]
  },
  {
   "cell_type": "code",
   "execution_count": 9,
   "metadata": {},
   "outputs": [],
   "source": [
    "import os\n",
    "os.environ['TF_CPP_MIN_LOG_LEVEL'] = '2'  # 去除警告訊息"
   ]
  },
  {
   "cell_type": "markdown",
   "metadata": {},
   "source": [
    "### tf.constant"
   ]
  },
  {
   "cell_type": "code",
   "execution_count": 6,
   "metadata": {},
   "outputs": [
    {
     "name": "stdout",
     "output_type": "stream",
     "text": [
      "Tensor(\"Const_5:0\", shape=(), dtype=string)\n",
      "b'My name is Ricardo'\n"
     ]
    }
   ],
   "source": [
    "import tensorflow as tf\n",
    "\n",
    "tensorflowConstant = tf.constant('My name is Ricardo', dtype=tf.string)\n",
    "\n",
    "with tf.Session() as session:\n",
    "    print(tensorflowConstant)\n",
    "    print(session.run(tensorflowConstant))  \n",
    "    "
   ]
  },
  {
   "cell_type": "markdown",
   "metadata": {},
   "source": [
    "### tf.Variable"
   ]
  },
  {
   "cell_type": "code",
   "execution_count": 8,
   "metadata": {},
   "outputs": [
    {
     "name": "stdout",
     "output_type": "stream",
     "text": [
      "<tf.Variable 'Variable_1:0' shape=() dtype=string_ref>\n",
      "b'One'\n",
      "b'Two'\n",
      "b'And Three'\n"
     ]
    }
   ],
   "source": [
    "import tensorflow as tf\n",
    "\n",
    "tensorflowVariable = tf.Variable('My name is Ricardo', dtype=tf.string)\n",
    "variableTest = ['One', 'Two', 'And Three']\n",
    "\n",
    "with tf.Session() as session:\n",
    "    print(tensorflowVariable)\n",
    "    session.run(tf.global_variables_initializer())\n",
    "    for i, j in enumerate(variableTest):\n",
    "        print(session.run(tensorflowVariable.assign(j)))"
   ]
  },
  {
   "cell_type": "markdown",
   "metadata": {},
   "source": [
    "### tf.placeholder"
   ]
  },
  {
   "cell_type": "code",
   "execution_count": 12,
   "metadata": {},
   "outputs": [
    {
     "name": "stdout",
     "output_type": "stream",
     "text": [
      "One\n",
      "Two\n",
      "And Three\n"
     ]
    }
   ],
   "source": [
    "import tensorflow as tf\n",
    "\n",
    "placeholderList = ['One', 'Two', 'And Three']\n",
    "tensorflowPlaceholder = tf.placeholder(dtype=tf.string)\n",
    "\n",
    "with tf.Session() as session:\n",
    "    for i,j in enumerate(placeholderList):\n",
    "        result = session.run(tensorflowPlaceholder, feed_dict={tensorflowPlaceholder: j})\n",
    "        print(result)"
   ]
  },
  {
   "cell_type": "code",
   "execution_count": 14,
   "metadata": {},
   "outputs": [
    {
     "name": "stdout",
     "output_type": "stream",
     "text": [
      "100\n"
     ]
    }
   ],
   "source": [
    "import tensorflow as tf\n",
    "\n",
    "tensorflowPlaceholder0 = tf.placeholder(dtype=tf.int64)\n",
    "tensorflowPlaceholder1 = tf.placeholder(dtype=tf.int64)\n",
    "tensorflowPlaceholder2 = tf.placeholder(dtype=tf.int64)\n",
    "tensorflowPlaceholder3 = tensorflowPlaceholder0 + tensorflowPlaceholder1 + tensorflowPlaceholder2\n",
    "\n",
    "with tf.Session() as session:\n",
    "    result = session.run(tensorflowPlaceholder3, feed_dict={tensorflowPlaceholder0: 50, \n",
    "                                                            tensorflowPlaceholder1: 20,\n",
    "                                                           tensorflowPlaceholder2: 30})\n",
    "    print(result)"
   ]
  },
  {
   "cell_type": "markdown",
   "metadata": {},
   "source": [
    "### TensorBoard"
   ]
  },
  {
   "cell_type": "code",
   "execution_count": 16,
   "metadata": {},
   "outputs": [
    {
     "name": "stdout",
     "output_type": "stream",
     "text": [
      "3\n"
     ]
    }
   ],
   "source": [
    "import tensorflow as tf\n",
    "\n",
    "tensorflowConstant0 = tf.constant(1, dtype=tf.int64)\n",
    "tensorflowConstant1 = tf.constant(2, dtype=tf.int64)\n",
    "\n",
    "with tf.Session() as session:\n",
    "    with tf.name_scope('Run'):\n",
    "        result = session.run(tensorflowConstant0 + tensorflowConstant1)\n",
    "    print(result)\n",
    "    \n",
    "    result_writer = tf.summary.FileWriter('./TensorFlow', session.graph)\n",
    "    result_writer.close()"
   ]
  },
  {
   "cell_type": "markdown",
   "metadata": {},
   "source": [
    "events.out.tfevents.xxxxxxxxxx(一連串的數字).(主機名稱)\n",
    "\n",
    "確認沒問題後，在指令列下命令：\n",
    "$ tensorboard --logdir=/home/shayne/tfboard_Test\n",
    "\n",
    "這個指令的格式是：\n",
    "$ tensorboard --logdir=(your path)\n",
    "剛才輸出的路徑是\"/home/shayne/tfboard_Test\"，所以就用他代換(your path)。\n",
    "\n",
    "按下確認後，tensorboard就會把你專屬的計算圖輸出到網頁，網址是：\n",
    "\n",
    "\"http://(your ip):6006\"\n",
    "\n",
    "假設夏恩的主機的IP是192.168.100.100的話，這時候就開啟google瀏覽器，\n",
    "鍵入網址，就可以看到計算圖了！\n",
    "\n",
    "如果網頁打不開，可以懷疑是防火牆的問題。\n",
    "要打開防火牆，請使用以下指令，把防火牆關了：\n",
    "\n",
    "Linux Command: \n",
    "firewall-cmd --zone=public --add-port=6006/tcp\n",
    "service firewalld restart"
   ]
  },
  {
   "cell_type": "code",
   "execution_count": null,
   "metadata": {},
   "outputs": [],
   "source": []
  },
  {
   "cell_type": "code",
   "execution_count": null,
   "metadata": {},
   "outputs": [],
   "source": []
  },
  {
   "cell_type": "code",
   "execution_count": null,
   "metadata": {},
   "outputs": [],
   "source": []
  },
  {
   "cell_type": "code",
   "execution_count": null,
   "metadata": {},
   "outputs": [],
   "source": []
  },
  {
   "cell_type": "code",
   "execution_count": null,
   "metadata": {},
   "outputs": [],
   "source": []
  },
  {
   "cell_type": "code",
   "execution_count": null,
   "metadata": {},
   "outputs": [],
   "source": []
  },
  {
   "cell_type": "code",
   "execution_count": null,
   "metadata": {},
   "outputs": [],
   "source": []
  },
  {
   "cell_type": "code",
   "execution_count": null,
   "metadata": {},
   "outputs": [],
   "source": []
  }
 ],
 "metadata": {
  "kernelspec": {
   "display_name": "Python 3",
   "language": "python",
   "name": "python3"
  },
  "language_info": {
   "codemirror_mode": {
    "name": "ipython",
    "version": 3
   },
   "file_extension": ".py",
   "mimetype": "text/x-python",
   "name": "python",
   "nbconvert_exporter": "python",
   "pygments_lexer": "ipython3",
   "version": "3.6.4"
  }
 },
 "nbformat": 4,
 "nbformat_minor": 2
}
