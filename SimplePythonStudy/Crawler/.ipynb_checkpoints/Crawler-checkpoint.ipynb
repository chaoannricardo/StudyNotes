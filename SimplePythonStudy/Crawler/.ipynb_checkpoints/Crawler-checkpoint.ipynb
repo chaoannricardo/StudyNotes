{
 "cells": [
  {
   "cell_type": "markdown",
   "metadata": {},
   "source": [
    "# PTT 爬蟲Sample"
   ]
  },
  {
   "cell_type": "markdown",
   "metadata": {},
   "source": [
    "# Request"
   ]
  },
  {
   "cell_type": "code",
   "execution_count": 31,
   "metadata": {},
   "outputs": [
    {
     "name": "stderr",
     "output_type": "stream",
     "text": [
      "C:\\Users\\ricardo\\Anaconda3\\envs\\Crawler\\lib\\site-packages\\urllib3\\connectionpool.py:847: InsecureRequestWarning: Unverified HTTPS request is being made. Adding certificate verification is strongly advised. See: https://urllib3.readthedocs.io/en/latest/advanced-usage.html#ssl-warnings\n",
      "  InsecureRequestWarning)\n"
     ]
    },
    {
     "name": "stdout",
     "output_type": "stream",
     "text": [
      "/bbs/Gossiping/M.1566644185.A.570.html\n",
      "/bbs/Gossiping/M.1566644215.A.7E2.html\n",
      "/bbs/Gossiping/M.1566644276.A.BC4.html\n",
      "/bbs/Gossiping/M.1566644329.A.0C3.html\n",
      "/bbs/Gossiping/M.1566644348.A.D61.html\n",
      "/bbs/Gossiping/M.1566644388.A.9B7.html\n",
      "/bbs/Gossiping/M.1566644392.A.897.html\n",
      "/bbs/Gossiping/M.1566644428.A.E6B.html\n",
      "/bbs/Gossiping/M.1566644468.A.ED7.html\n",
      "/bbs/Gossiping/M.1566644488.A.5A1.html\n",
      "/bbs/Gossiping/M.1566644538.A.B12.html\n",
      "/bbs/Gossiping/M.1566644552.A.7E7.html\n",
      "/bbs/Gossiping/M.1566644628.A.F73.html\n",
      "/bbs/Gossiping/M.1566644698.A.B23.html\n",
      "/bbs/Gossiping/M.1566644746.A.579.html\n",
      "/bbs/Gossiping/M.1566644759.A.C18.html\n",
      "/bbs/Gossiping/M.1566644796.A.FE7.html\n",
      "/bbs/Gossiping/M.1566644822.A.EB1.html\n",
      "/bbs/Gossiping/M.1566644893.A.85A.html\n",
      "/bbs/Gossiping/M.1566644914.A.70A.html\n",
      "[問卦] 櫻木花道是處男嗎?\n",
      "[問卦] 找到光碟上寫<解碼>是國家機密嗎？\n",
      "[問卦] 王力宏-安全感歌曲前奏會不會太久\n",
      "[新聞] 亞馬遜森林大火持續燃燒 巴西派軍隊撲救\n",
      "[問卦] 有沒有韓國娛樂社可以加入\n",
      "[問卦] 妹妹背著洋娃娃\n",
      "[問卦] 以前的大學夜間部程度跟日間部差很多嗎?\n",
      "[新聞] 消費稅變10%！日本環球影城門票10月起調\n",
      "[問卦] 韓國人真的很機掰嗎\n",
      "[新聞] 新iPhone模型出爐！果粉大驚變三眼怪\n",
      "[新聞] 酒駕男臉書狂曬與16歲女友閃照 提神變恍\n",
      "[問卦] 你的名字當年有多紅\n",
      "[問卦] 慟！單挑肯德基雙人餐失敗\n",
      "[新聞] 夏天飲料別放久！ 醫師警告：開封後2小\n",
      "[問卦] 肥宅放自己遮右眼的樣子的照片有加分嗎？\n",
      "[新聞] 台中藥局兇殺 七旬藥師殺妻一死一傷\n",
      "Re: [問卦] 打阿館雞肉加味精違法是不是很白痴\n",
      "[爆卦] 台北律師公會開嗆全國聯合會啦！\n",
      "Re: [新聞] 傳三星良率出問題 代工高通5G產品全報廢\n",
      "[問卦] 傲嬌>< (小穹陣線)\n"
     ]
    }
   ],
   "source": [
    "# Some hints: https://ithelp.ithome.com.tw/articles/10204709\n",
    "import requests\n",
    "from bs4 import BeautifulSoup\n",
    "\n",
    "cookies = {\n",
    "    'over18':'1'\n",
    "}\n",
    "\n",
    "r = requests.get(\"https://www.ptt.cc/bbs/Gossiping/index34969.html\", verify=False, cookies=cookies) # get non WebAPI data\n",
    "#print(r.status_code) # 200:Successful, 404:Not Found \n",
    "\n",
    "html_text = r.text # strip text from web, html file\n",
    "\n",
    "# Beautiful Soup Process\n",
    "soup = BeautifulSoup(html_text)\n",
    "\n",
    "# crawl href data\n",
    "html = []\n",
    "results = soup.select(\".title\")\n",
    "for i in results:\n",
    "    item_href = i.select_one(\"a\").get(\"href\")\n",
    "    html.append(item_href)\n",
    "    \n",
    "for i,j in enumerate(html):\n",
    "    print(j)\n",
    "    \n",
    "# crawl title data\n",
    "title = []\n",
    "for i in soup.select('.title a'):\n",
    "    content = i.text.strip()\n",
    "    title.append(content)\n",
    "    \n",
    "for i,j in enumerate(title):\n",
    "    print(j)"
   ]
  },
  {
   "cell_type": "markdown",
   "metadata": {},
   "source": [
    "# Selenium"
   ]
  },
  {
   "cell_type": "code",
   "execution_count": 40,
   "metadata": {},
   "outputs": [
    {
     "name": "stdout",
     "output_type": "stream",
     "text": [
      "[新聞] 國台辦批蔡 汙一國兩制謀選票\n",
      "[問卦] 聽過韓團少女時代風華的年代都幾歲了?\n",
      "Re: [新聞] 外送員車禍 foodpanda回應了\n",
      "[問卦] 追求什麼樣的自由就可以剝奪別人的自由\n",
      "Re: [新聞] 賣命！熊貓美食外送員遭撞慘死 超驚悚畫\n",
      "[問卦] 路上看到巨乳會這樣拍照嗎？\n",
      "[問卦] 現在南方澳大橋的風向是不是被洗了\n",
      "[問卦] 蔡依林板第二名；\n",
      "[問卦] 1985-1994年間最好聽的歌是哪首\n",
      "[問卦] ptt各板的本體是?\n",
      "Re: [新聞] 美方憂我「軍訓役4個月」役期太短　國防\n",
      "Re: [問卦] 最好當的老師是不是國中數學老師?\n",
      "Re: [新聞] 外送員車禍 foodpanda回應了\n",
      "[問卦]第一次買票，沒抓到喇\n",
      "Re: [問卦] 川普都不管香港了 香港還有救嗎?\n",
      "Re: [問卦] 要泯滅人性到什麼程度國際才能介入\n",
      "[問卦] 英國航空5390號是不是真的是奇蹟啊\n",
      "[新聞] 堅定投韓信心 韓粉感謝韓黑和綠媒\n",
      "Re: [新聞] 金額破兆 對台投資荷蘭第一\n",
      "Re: [新聞] 川普：香港抗爭逐漸緩和 「問題會自行解\n",
      "[公告] 八卦板板規(2019.08.21)\n",
      "Fw: 尋人 家裡長輩失蹤\n",
      "[公告] 第二階段─板主總決賽投票開始!\n",
      "[公告] 第一階段板主選舉─候選名單說明\n",
      "[公告] 十月份置底閒聊文 泡茶的賀索債\n"
     ]
    }
   ],
   "source": [
    "from selenium import webdriver\n",
    "\n",
    "driver = webdriver.Firefox(executable_path='./geckodriver.exe')\n",
    "driver.get('https://www.ptt.cc/bbs/Gossiping/index.html')\n",
    "# Pass over-18 verification\n",
    "elem = driver.find_element_by_xpath('/html/body/div[2]/form/div[1]/button')\n",
    "elem.click()\n",
    "# Extract titles\n",
    "# Reference: https://selenium-python.readthedocs.io/locating-elements.html\n",
    "\n",
    "elem = driver.find_elements_by_css_selector('.title a')\n",
    "for i,j in enumerate(elem):\n",
    "    title_text = elem[i].text\n",
    "    print(title_text)"
   ]
  }
 ],
 "metadata": {
  "kernelspec": {
   "display_name": "Crawler",
   "language": "python",
   "name": "crawler"
  },
  "language_info": {
   "codemirror_mode": {
    "name": "ipython",
    "version": 3
   },
   "file_extension": ".py",
   "mimetype": "text/x-python",
   "name": "python",
   "nbconvert_exporter": "python",
   "pygments_lexer": "ipython3",
   "version": "3.7.3"
  }
 },
 "nbformat": 4,
 "nbformat_minor": 2
}
