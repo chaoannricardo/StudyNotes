{
 "cells": [
  {
   "cell_type": "markdown",
   "metadata": {},
   "source": [
    "# Q1\n",
    "<img src='./picture_source/HW_4_1.PNG' width='500px' align='middle'>"
   ]
  },
  {
   "cell_type": "markdown",
   "metadata": {},
   "source": [
    "# Answer"
   ]
  },
  {
   "cell_type": "code",
   "execution_count": 1,
   "metadata": {},
   "outputs": [],
   "source": [
    "# import packages needed\n",
    "import pandas as pd\n",
    "import numpy as np\n",
    "import statsmodels.api as sm"
   ]
  },
  {
   "cell_type": "code",
   "execution_count": 3,
   "metadata": {},
   "outputs": [
    {
     "name": "stdout",
     "output_type": "stream",
     "text": [
      "   Year  Capital    Labor  Value_Added  log_Value_Added\n",
      "0    72  1209188  1259142      11150.0         9.319195\n",
      "1    73  1330372  1371795      12853.6         9.461379\n",
      "2    74  1157371  1263084      10450.8         9.254434\n",
      "3    75  1070860  1118226       9318.3         9.139735\n",
      "4    76  1233475  1274345      12097.7         9.400771\n"
     ]
    }
   ],
   "source": [
    "# prepare the data\n",
    "# create original dataframe\n",
    "data_FRB = pd.DataFrame({\n",
    "    'Year':[i for i in range(72, 87, 1)],\n",
    "    'Capital':[1209188, 1330372, 1157371, 1070860, 1233475, 1355769, 1351667, 1326248, 1089545, 1111942,\n",
    "              988165, 1069651, 1191677, 1246536, 1281262],\n",
    "    'Labor':[1259142, 1371795, 1263084, 1118226, 1274345, 1369877, 1451595, 1328683, 1077207, 1056231, 947502,\n",
    "            1057159, 1169442, 1195255, 1171664],\n",
    "    'Value_Added':[11150.0, 12853.6, 10450.8, 9318.3, 12097.7, 12844.8, 13309.9, 13402.3, 8571.0, 8739.7,\n",
    "                  8140.0, 10958.4, 10838.9, 10030.5, 10836.5]\n",
    "})\n",
    "\n",
    "# append 'log_Value_Added' as Value_added with log function applied\n",
    "data_FRB.loc[:, 'log_Value_Added'] = np.log(data_FRB.loc[:, 'Value_Added'])\n",
    "\n",
    "# divide data into X and y\n",
    "X = data_FRB.iloc[:, 1:-2]\n",
    "y = data_FRB.iloc[:, -1]"
   ]
  },
  {
   "cell_type": "code",
   "execution_count": null,
   "metadata": {},
   "outputs": [],
   "source": [
    "# train with multiple regression\n",
    "\n",
    "\n",
    "# create a statsmodel\n",
    "# create statsmodels model\n",
    "model = sm.regression.linear_model.OLS(y, X)\n",
    "\n",
    "for i, j in enumerate(lambda_list):\n",
    "    result_LASSO = model.fit_regularized(L1_wt=L1_wt, alpha=float(j))\n",
    "    predict_list_original = result_LASSO.fittedvalues.tolist()\n",
    "    mse_value = mean_squared_error(y, predict_list_original)\n",
    "    print('MSE when lambda=', j, \n",
    "      'is: ', mse_value)\n"
   ]
  },
  {
   "cell_type": "markdown",
   "metadata": {},
   "source": [
    "# Q2\n",
    "<img src='./picture_source/HW_4_2.PNG' width='500px' align='middle'>"
   ]
  },
  {
   "cell_type": "markdown",
   "metadata": {},
   "source": [
    "# Answer\n",
    "#### (a) 根據我的程式碼，Lambda在越小時，MSE同有下降的趨勢，並在Lambda=0.0時達到最小，MSE=1.8042175649346816e-08；使用stepwise regression得到MSE=0.014399127818860755為；相比較發現stepwise regression方法的預測效率較佳\n",
    "#### (b) 如本題最下方程式碼所產生的圖所示。"
   ]
  },
  {
   "cell_type": "code",
   "execution_count": 1,
   "metadata": {},
   "outputs": [],
   "source": [
    "# import packages needed \n",
    "from sklearn.metrics import mean_squared_error\n",
    "from sklearn import linear_model\n",
    "import cv2\n",
    "import matplotlib.pyplot as plt\n",
    "import numpy as np\n",
    "import pandas as pd\n",
    "import statsmodels.api as sm"
   ]
  },
  {
   "cell_type": "code",
   "execution_count": 2,
   "metadata": {},
   "outputs": [],
   "source": [
    "# prepare the data\n",
    "ORL_data = pd.read_csv('./data/ORL_data.csv')\n",
    "# divide into X and y\n",
    "X = ORL_data.iloc[:, :-1]\n",
    "y = ORL_data.iloc[:, -1].tolist()"
   ]
  },
  {
   "cell_type": "code",
   "execution_count": 6,
   "metadata": {},
   "outputs": [
    {
     "name": "stderr",
     "output_type": "stream",
     "text": [
      "C:\\Users\\ricardo\\AppData\\Roaming\\Python\\Python37\\site-packages\\ipykernel_launcher.py:8: UserWarning: With alpha=0, this algorithm does not converge well. You are advised to use the LinearRegression estimator\n",
      "  \n",
      "C:\\Users\\ricardo\\Anaconda3\\lib\\site-packages\\sklearn\\linear_model\\_coordinate_descent.py:476: UserWarning: Coordinate descent with no regularization may lead to unexpected results and is discouraged.\n",
      "  positive)\n",
      "C:\\Users\\ricardo\\Anaconda3\\lib\\site-packages\\sklearn\\linear_model\\_coordinate_descent.py:476: ConvergenceWarning: Objective did not converge. You might want to increase the number of iterations. Duality gap: 0.025962355545366744, tolerance: 0.004375\n",
      "  positive)\n"
     ]
    },
    {
     "name": "stdout",
     "output_type": "stream",
     "text": [
      "MSE is lowest when lambda= 0.0 , while MSE is  1.8042175649346816e-08\n"
     ]
    }
   ],
   "source": [
    "# implement with Lasso regression (with sklearn package)\n",
    "\n",
    "lambda_list = np.arange(0, 10.1, 0.1)\n",
    "mse_list = []\n",
    "\n",
    "for i, j in enumerate(lambda_list):\n",
    "    reg_lasso = linear_model.Lasso(alpha=j)\n",
    "    reg_lasso.fit(X, y)\n",
    "    predict_list_original = reg_lasso.predict(X).tolist()\n",
    "    mse_list.append(mean_squared_error(y, predict_list_original))\n",
    "    \n",
    "minimum_value = np.min(mse_list)\n",
    "minimum_index_list = [i for i, j in enumerate(mse_list) if j == minimum_value]\n",
    "# print(mse_list)\n",
    "# print(minimum_index_list)\n",
    "print('MSE is lowest when lambda=', lambda_list[minimum_index_list[0]], \n",
    "      ', while MSE is ', mse_list[minimum_index_list[0]])"
   ]
  },
  {
   "cell_type": "code",
   "execution_count": 7,
   "metadata": {},
   "outputs": [
    {
     "name": "stderr",
     "output_type": "stream",
     "text": [
      "C:\\Users\\ricardo\\Anaconda3\\lib\\site-packages\\sklearn\\linear_model\\_ridge.py:188: LinAlgWarning: Ill-conditioned matrix (rcond=6.20387e-19): result may not be accurate.\n",
      "  overwrite_a=False)\n"
     ]
    },
    {
     "name": "stdout",
     "output_type": "stream",
     "text": [
      "MSE is lowest when lambda= 0.0 , while MSE is  3.033838863451482e-29\n"
     ]
    }
   ],
   "source": [
    "# implement with Ridge regression (with sklearn package)\n",
    "lambda_list = np.arange(0, 10.1, 0.1)\n",
    "mse_list = []\n",
    "\n",
    "for i, j in enumerate(lambda_list):\n",
    "    reg_ridge = linear_model.Ridge(alpha=j)\n",
    "    reg_ridge.fit(X, y)\n",
    "    predict_list_original = reg_ridge.predict(X).tolist()\n",
    "    mse_list.append(mean_squared_error(y, predict_list_original))\n",
    "    \n",
    "minimum_value = np.min(mse_list)\n",
    "minimum_index_list = [i for i, j in enumerate(mse_list) if j == minimum_value]\n",
    "# print(mse_list)\n",
    "# print(minimum_index_list)\n",
    "print('MSE is lowest when lambda=', lambda_list[minimum_index_list[0]], \n",
    "      ', while MSE is ', mse_list[minimum_index_list[0]])"
   ]
  },
  {
   "cell_type": "code",
   "execution_count": 11,
   "metadata": {},
   "outputs": [
    {
     "name": "stdout",
     "output_type": "stream",
     "text": [
      "MSE when lambda= 0 is:  0.03492422008163612\n",
      "MSE when lambda= 0.001 is:  0.034903909423569794\n",
      "MSE when lambda= 1 is:  0.06668417375325184\n"
     ]
    }
   ],
   "source": [
    "# To compare with stepwise regression, we select LASSO regression with lambda = 0, 0.001, and 1\n",
    "# We use statsmodels package this time.\n",
    "# Reference:\n",
    "# Documentation of penalized (regularized) regression in statsmodels (Elastic Net)\n",
    "# https://www.statsmodels.org/dev/generated/statsmodels.regression.linear_model.OLS.fit_regularized.html\n",
    "\n",
    "lambda_list = [0, 0.001, 1]\n",
    "L1_wt = 1 # 1 when LASSO fit, 0 when ridge fit\n",
    "\n",
    "# create statsmodels model\n",
    "model = sm.regression.linear_model.OLS(y, X)\n",
    "\n",
    "for i, j in enumerate(lambda_list):\n",
    "    result_LASSO = model.fit_regularized(L1_wt=L1_wt, alpha=float(j))\n",
    "    predict_list_original = result_LASSO.fittedvalues.tolist()\n",
    "    mse_value = mean_squared_error(y, predict_list_original)\n",
    "    print('MSE when lambda=', j, \n",
    "      'is: ', mse_value)"
   ]
  },
  {
   "cell_type": "code",
   "execution_count": 14,
   "metadata": {},
   "outputs": [],
   "source": [
    "# create stepwise regression function\n",
    "\n",
    "def stepwise_selection(X, y, initial_list=[], threshold_in=0.01, threshold_out=0.05, verbose=True):\n",
    "    \"\"\" Perform a forward-backward feature selection\n",
    "    Reference: # https://www.twblogs.net/a/5c13a86fbd9eee5e40bb7431\n",
    "    based on p-value from statsmodels.api.OLS\n",
    "    Arguments:\n",
    "        X - pandas.DataFrame with candidate features\n",
    "        y - list-like with the target\n",
    "        initial_list - list of features to start with (column names of X)\n",
    "        threshold_in - include a feature if its p-value < threshold_in\n",
    "        threshold_out - exclude a feature if its p-value > threshold_out\n",
    "        verbose - whether to print the sequence of inclusions and exclusions\n",
    "    Returns: list of selected features\n",
    "    Always set threshold_in < threshold_out to avoid infinite looping.\n",
    "    \"\"\"\n",
    "    included = list(initial_list)\n",
    "\n",
    "    while True:\n",
    "        changed = False\n",
    "        # forward step\n",
    "        excluded = list(set(X.columns) - set(included))\n",
    "        new_pval = pd.Series(index=excluded)\n",
    "        for new_column in excluded:\n",
    "            model = sm.OLS(y, sm.add_constant(pd.DataFrame(X[included + [new_column]]))).fit()\n",
    "            new_pval[new_column] = model.pvalues[new_column]\n",
    "        best_pval = new_pval.min()\n",
    "        if best_pval < threshold_in:\n",
    "            best_feature = new_pval.idxmin()\n",
    "            included.append(best_feature)\n",
    "            changed = True\n",
    "            if verbose:\n",
    "                print('Add  {:30} with p-value {:.6}'.format(best_feature, best_pval))\n",
    "\n",
    "            # backward step\n",
    "            model = sm.OLS(y, sm.add_constant(pd.DataFrame(X[included].values))).fit()\n",
    "            print('R_square = ', model.rsquared)\n",
    "            # use all coefs except intercept\n",
    "            pvalues = model.pvalues.iloc[1:]\n",
    "            worst_pval = pvalues.max()  # null if pvalues is empty\n",
    "            if worst_pval > threshold_out:\n",
    "                changed = True\n",
    "                worst_feature = pvalues.idxmax()\n",
    "                included.remove(included[worst_feature])\n",
    "                if verbose:\n",
    "                    print('Drop {:30} with p-value {:.6}'.format(worst_feature, worst_pval))\n",
    "            if not changed:\n",
    "                break\n",
    "    return included"
   ]
  },
  {
   "cell_type": "code",
   "execution_count": null,
   "metadata": {},
   "outputs": [
    {
     "name": "stderr",
     "output_type": "stream",
     "text": [
      "C:\\Users\\ricardo\\AppData\\Roaming\\Python\\Python37\\site-packages\\ipykernel_launcher.py:23: DeprecationWarning: The default dtype for empty Series will be 'object' instead of 'float64' in a future version. Specify a dtype explicitly to silence this warning.\n"
     ]
    },
    {
     "name": "stdout",
     "output_type": "stream",
     "text": [
      "Add  pixel_1470                     with p-value 3.91841e-14\n",
      "R_square =  0.13404309865692476\n",
      "Add  pixel_2488                     with p-value 3.38413e-16\n",
      "R_square =  0.2678723779962152\n",
      "Add  pixel_2271                     with p-value 6.02768e-11\n",
      "R_square =  0.34298316156352904\n",
      "Add  pixel_1722                     with p-value 7.004e-08\n",
      "R_square =  0.38964653438298524\n",
      "Add  pixel_555                      with p-value 1.31884e-07\n",
      "R_square =  0.4313340061910136\n",
      "Add  pixel_1474                     with p-value 5.65748e-06\n",
      "R_square =  0.46041103180240095\n",
      "Add  pixel_1386                     with p-value 8.20976e-06\n",
      "R_square =  0.48713763178062175\n",
      "Add  pixel_1476                     with p-value 6.706e-07\n",
      "R_square =  0.5185697594190422\n",
      "Add  pixel_1051                     with p-value 6.99533e-06\n",
      "R_square =  0.5428944164631441\n",
      "Add  pixel_1561                     with p-value 1.92879e-05\n",
      "R_square =  0.5638799029382524\n",
      "Add  pixel_202                      with p-value 1.4955e-05\n",
      "R_square =  0.5844727398029121\n",
      "Add  pixel_133                      with p-value 1.23609e-05\n",
      "R_square =  0.6045148272306424\n",
      "Add  pixel_186                      with p-value 6.96418e-12\n",
      "R_square =  0.6499422370848498\n",
      "Add  pixel_1687                     with p-value 3.21537e-06\n",
      "R_square =  0.6691369901454154\n",
      "Add  pixel_319                      with p-value 3.01682e-06\n",
      "R_square =  0.6874248986626645\n",
      "Add  pixel_2393                     with p-value 7.13528e-05\n",
      "R_square =  0.7000535030407766\n",
      "Add  pixel_1984                     with p-value 3.73409e-06\n",
      "R_square =  0.7164130615202478\n",
      "Add  pixel_1325                     with p-value 6.84276e-05\n",
      "R_square =  0.7279861021848284\n",
      "Add  pixel_343                      with p-value 9.94106e-05\n",
      "R_square =  0.7386297350875746\n",
      "Add  pixel_325                      with p-value 0.000562402\n",
      "R_square =  0.7467169625438768\n",
      "Add  pixel_1730                     with p-value 0.000406945\n",
      "R_square =  0.7549664661083192\n",
      "Add  pixel_546                      with p-value 0.000298487\n",
      "R_square =  0.7633328875127459\n",
      "Add  pixel_380                      with p-value 4.57692e-05\n",
      "R_square =  0.7735769523121608\n",
      "Add  pixel_183                      with p-value 0.000308109\n",
      "R_square =  0.7813138125011371\n",
      "Add  pixel_95                       with p-value 3.63205e-05\n",
      "R_square =  0.7910747573914318\n",
      "Drop                             12 with p-value 0.606526\n",
      "Add  pixel_1180                     with p-value 3.86642e-05\n",
      "R_square =  0.8001947167154811\n",
      "Add  pixel_2158                     with p-value 9.85121e-05\n",
      "R_square =  0.8081656771085574\n",
      "Add  pixel_2208                     with p-value 3.67526e-05\n",
      "R_square =  0.8167620724289808\n",
      "Add  pixel_2168                     with p-value 0.000133239\n",
      "R_square =  0.8238401408803954\n",
      "Add  pixel_1935                     with p-value 0.000485927\n",
      "R_square =  0.8295471736784147\n",
      "Add  pixel_2117                     with p-value 0.000222031\n",
      "R_square =  0.8357387833553851\n",
      "Add  pixel_430                      with p-value 0.000142728\n",
      "R_square =  0.8420789131635588\n",
      "Drop                             17 with p-value 0.0709408\n",
      "Add  pixel_2516                     with p-value 0.000718295\n",
      "R_square =  0.8455552264931512\n",
      "Add  pixel_1260                     with p-value 0.00163652\n",
      "R_square =  0.8496787374970376\n",
      "Add  pixel_1809                     with p-value 0.00187537\n",
      "R_square =  0.853602684916661\n",
      "Add  pixel_1565                     with p-value 0.000980758\n",
      "R_square =  0.8579015069074752\n",
      "Add  pixel_845                      with p-value 0.00346772\n",
      "R_square =  0.861202327963152\n",
      "Add  pixel_1366                     with p-value 0.00615045\n",
      "R_square =  0.8640466240370939\n",
      "Add  pixel_414                      with p-value 0.00446665\n",
      "R_square =  0.8670529819217331\n",
      "Add  pixel_2121                     with p-value 0.00397132\n",
      "R_square =  0.8700777953085174\n",
      "Add  pixel_1936                     with p-value 0.00453467\n",
      "R_square =  0.8729569119610687\n"
     ]
    }
   ],
   "source": [
    "# implement stepwise regression model\n",
    "included_features = stepwise_selection(X, y)\n",
    "print('resulting features:')\n",
    "print(included_features)\n",
    "print('Number of included feincluded_featurees is: ', len(included_features))"
   ]
  },
  {
   "cell_type": "code",
   "execution_count": 9,
   "metadata": {},
   "outputs": [
    {
     "name": "stdout",
     "output_type": "stream",
     "text": [
      "MSE= 0.014399127818860755\n"
     ]
    }
   ],
   "source": [
    "# create new_dataset with feature selected\n",
    "included_features = ['pixel_1470', 'pixel_2488', 'pixel_2271', 'pixel_1722', 'pixel_555', 'pixel_1474', \\\n",
    " 'pixel_1386', 'pixel_1476', 'pixel_1051', 'pixel_1561', 'pixel_202', 'pixel_133',  \\\n",
    " 'pixel_1687', 'pixel_319', 'pixel_2393', 'pixel_1984', 'pixel_1325', 'pixel_325', 'pixel_1730', \\\n",
    " 'pixel_546', 'pixel_380', 'pixel_183', 'pixel_95', 'pixel_1180', 'pixel_2158', 'pixel_2208', 'pixel_2168', \\\n",
    " 'pixel_1935', 'pixel_2117', 'pixel_430', 'pixel_2516', 'pixel_1260 ', 'pixel_1809', 'pixel_1565', 'pixel_845', \\\n",
    " 'pixel_1366', 'pixel_414', 'pixel_2121', 'pixel_1936']\n",
    "\n",
    "\n",
    "# prepare the data\n",
    "X = ORL_data[ORL_data.columns & included_features]\n",
    "# included_featuresde into X and y\n",
    "y = ORL_data.iloc[:, -1].tolist()\n",
    "# calculate mse with features selected by stepwise regression\n",
    "reg = linear_model.LinearRegression()\n",
    "reg.fit(X, y)\n",
    "predict_list = reg.predict(X)\n",
    "mse_value = mean_squared_error(y, predict_list)\n",
    "print('MSE=', mse_value)"
   ]
  },
  {
   "cell_type": "code",
   "execution_count": 13,
   "metadata": {},
   "outputs": [
    {
     "name": "stdout",
     "output_type": "stream",
     "text": [
      "MSE when lambda= 1 is:  0.06668417375325184\n"
     ]
    }
   ],
   "source": [
    "# Implement LASSO model when setting lambda=1\n",
    "result_LASSO = model.fit_regularized(L1_wt=1, alpha=1)\n",
    "predict_list_original = result_LASSO.fittedvalues.tolist()\n",
    "mse_value = mean_squared_error(y, predict_list_original)\n",
    "print('MSE when lambda=', j, 'is: ', mse_value)\n",
    "\n",
    "# interpret the result of LASSO\n",
    "param_data_LASSO = pd.DataFrame({\n",
    "    'Pixel':result_LASSO.params.index.tolist(),\n",
    "    'Params':result_LASSO.params.values.tolist()\n",
    "})\n",
    "\n",
    "param_data_LASSO = param_data_LASSO.sort_values(by=['Params'], ascending=False)\n",
    "chosen_vars_LASSO = param_data_LASSO.iloc[0:54, 0].values.tolist()"
   ]
  },
  {
   "cell_type": "code",
   "execution_count": 14,
   "metadata": {},
   "outputs": [
    {
     "data": {
      "image/png": "[encoded data removed]",
      "text/plain": [
       "<Figure size 432x288 with 1 Axes>"
      ]
     },
     "metadata": {
      "needs_background": "light"
     },
     "output_type": "display_data"
    }
   ],
   "source": [
    "# Interpret and plot the result\n",
    "pixel_list_number = []\n",
    "pixel_list_x = []\n",
    "pixel_list_y = []\n",
    "# transform back to pixel\n",
    "for i, j in enumerate(chosen_vars_LASSO):\n",
    "    value = int(j[6:])\n",
    "    row = value / 46 - 1\n",
    "    column = value % 46 - 1\n",
    "    pixel_list_number.append(value)\n",
    "    pixel_list_x.append(row)\n",
    "    pixel_list_y.append(column)\n",
    "    file = \"./data/ORL_Faces_Classified/0/1_1.png\"\n",
    "    sample = cv2.imread(file, cv2.IMREAD_GRAYSCALE)\n",
    "    for i, j in enumerate(pixel_list_x):\n",
    "        x_value = int(j - 1)\n",
    "        y_value = int(pixel_list_y[i] - 1)\n",
    "        sample[x_value, y_value] = 0\n",
    "# cv2.imwrite( \"./sample.png\", sample)\n",
    "imgplot = plt.imshow(sample, cmap='gray', vmin=0, vmax=255)\n",
    "plt.show()"
   ]
  },
  {
   "cell_type": "markdown",
   "metadata": {},
   "source": [
    "# Q3\n",
    "<img src='./picture_source/HW_4_3.PNG' width='500px' align='middle'>"
   ]
  },
  {
   "cell_type": "code",
   "execution_count": null,
   "metadata": {},
   "outputs": [],
   "source": [
    "from sklearn.decomposition import PCA\n",
    "import numpy as np\n",
    "import pandas as pd"
   ]
  },
  {
   "cell_type": "code",
   "execution_count": 22,
   "metadata": {},
   "outputs": [],
   "source": [
    "def PCA_decomposition(X, isCorrMX):\n",
    "    # Reference: https://machinelearningmastery.com/calculate-principal-component-analysis-scratch-python/\n",
    "    # calculate mean of the array\n",
    "    X_mean = np.mean(X.T, axis=1)\n",
    "    # center the values\n",
    "    X_center = X - X_mean\n",
    "    # check if use Correlation Matrix\n",
    "    if isCorrMX == True:\n",
    "        X_covariance = np.corrcoef(X_center.T)\n",
    "    else:\n",
    "        X_covariance = np.cov(X_center.T)\n",
    "    # calculate eigenvalues and eigenvectors\n",
    "    # https://docs.scipy.org/doc/numpy/reference/generated/numpy.linalg.eig.html\n",
    "    eigenvalues, eigenvectors = np.linalg.eig(X_covariance)\n",
    "    X_project = -(eigenvectors.T.dot(X_center.T).T)\n",
    "    return eigenvalues, eigenvectors, X_project"
   ]
  },
  {
   "cell_type": "code",
   "execution_count": 23,
   "metadata": {},
   "outputs": [
    {
     "name": "stdout",
     "output_type": "stream",
     "text": [
      "[7.93954312 0.06045688]\n",
      "\n",
      "[[ 0.83849224 -0.54491354]\n",
      " [ 0.54491354  0.83849224]]\n",
      "\n",
      "[[ 1.38340578  0.2935787 ]\n",
      " [ 2.22189802 -0.25133484]\n",
      " [ 3.6053038   0.04224385]\n",
      " [-1.38340578 -0.2935787 ]\n",
      " [-2.22189802  0.25133484]\n",
      " [-3.6053038  -0.04224385]]\n"
     ]
    }
   ],
   "source": [
    "# test PCA function\n",
    "\n",
    "X = np.array([[1, 1], [0, 1], [-1, 0], [3, 3], [4, 3], [5, 4]])\n",
    "\n",
    "# eigenvalues, eigenvectors, X_project = PCA_decomposition(X, True)\n",
    "eigenvalues, eigenvectors, X_project = PCA_decomposition(X, False)\n",
    "print(eigenvalues)\n",
    "print()\n",
    "print(eigenvectors)\n",
    "print()\n",
    "print(X_project)"
   ]
  },
  {
   "cell_type": "code",
   "execution_count": 24,
   "metadata": {},
   "outputs": [
    {
     "name": "stdout",
     "output_type": "stream",
     "text": [
      "[[ 1.38340578  0.2935787 ]\n",
      " [ 2.22189802 -0.25133484]\n",
      " [ 3.6053038   0.04224385]\n",
      " [-1.38340578 -0.2935787 ]\n",
      " [-2.22189802  0.25133484]\n",
      " [-3.6053038  -0.04224385]]\n"
     ]
    }
   ],
   "source": []
  },
  {
   "cell_type": "code",
   "execution_count": null,
   "metadata": {},
   "outputs": [],
   "source": [
    "# implement PCA with AutoMPG dataset\n",
    "\n",
    "AutoMPG = pd.read_csv('./data/AutoMPG.csv')\n",
    "eigenvalues, eigenvectors, AutoMPG_project = PCA_decomposition(AutoMPG, False)\n"
   ]
  },
  {
   "cell_type": "markdown",
   "metadata": {},
   "source": [
    "# Q4\n",
    "<img src='./picture_source/HW_4_4.PNG' width='500px' align='middle'>"
   ]
  },
  {
   "cell_type": "code",
   "execution_count": null,
   "metadata": {},
   "outputs": [],
   "source": [
    "import pandas as pd\n",
    "import numpy as np\n",
    "import matplotlib.pyplot as plt\n",
    "import cv2"
   ]
  },
  {
   "cell_type": "code",
   "execution_count": null,
   "metadata": {},
   "outputs": [],
   "source": [
    "ORL_data = pd.read_csv('./data/ORL_data.csv').iloc[:,:-1]\n",
    "\n",
    "ORL_data_array = np.transpose(ORL_data.to_numpy())\n",
    "# print(ORL_data_array.shape)\n",
    "eigenvalues, eigenvectors, X_project = PCA_decomposition(ORL_data_array, False)\n",
    "# print(eigenvalues.shape)"
   ]
  },
  {
   "cell_type": "code",
   "execution_count": null,
   "metadata": {},
   "outputs": [],
   "source": [
    "# calculate explainable ratio of each pricipal components\n",
    "explainable_ratio_list = []\n",
    "for i in range(eigenvalues.shape[0]):\n",
    "    eigenvalues_totals = np.sum(eigenvalues)\n",
    "    ratio = eigenvalues[i] / eigenvalues_totals\n",
    "    explainable_ratio_list.append(ratio)\n",
    "    \n",
    "# print(explainable_ratio_list)"
   ]
  },
  {
   "cell_type": "code",
   "execution_count": null,
   "metadata": {},
   "outputs": [],
   "source": [
    "# calculate how many principal components needed to explain 50, 60, 70, 80, 90% of total variance\n",
    "total_explainable_ratio = 0\n",
    "components_needed_list = []\n",
    "\n",
    "for i, j in enumerate(explainable_ratio_list):\n",
    "    total_explainable_ratio += j\n",
    "    if total_explainable_ratio >= 0.9:\n",
    "        if len(components_needed_list) < 5: \n",
    "            components_needed_list.append(i+1) \n",
    "            print('90%:', str(i+1), 'pricipal components needed.')\n",
    "        break\n",
    "    elif total_explainable_ratio >= 0.8:\n",
    "        if len(components_needed_list) < 4: \n",
    "            components_needed_list.append(i+1) \n",
    "            print('80%:', str(i+1), 'pricipal components needed.')\n",
    "    elif total_explainable_ratio >= 0.7:\n",
    "        if len(components_needed_list) < 3: \n",
    "            components_needed_list.append(i+1) \n",
    "            print('70%:', str(i+1), 'pricipal components needed.')\n",
    "    elif total_explainable_ratio >= 0.6:\n",
    "        if len(components_needed_list) < 2: \n",
    "            components_needed_list.append(i+1) \n",
    "            print('60%:', str(i+1), 'pricipal components needed.')\n",
    "    elif total_explainable_ratio >= 0.5:\n",
    "        if len(components_needed_list) < 1: \n",
    "            components_needed_list.append(i+1) \n",
    "            print('50%:', str(i+1), 'pricipal components needed.')\n",
    "            \n",
    "print(components_needed_list)"
   ]
  },
  {
   "cell_type": "code",
   "execution_count": null,
   "metadata": {},
   "outputs": [],
   "source": [
    "ORL_data = pd.read_csv('./data/ORL_data.csv').iloc[:,:-1]\n",
    "\n",
    "ORL_data_array = np.transpose(ORL_data.to_numpy())\n",
    "# print(ORL_data_array.shape)\n",
    "eigenvalues, eigenvectors, X_project = PCA_decomposition(ORL_data_array, False)\n",
    "# print(eigenvalues.shape)\n",
    "# print(X_project.shape)\n",
    "\n",
    "pc1_X_project = X_project[:, 0]\n",
    "print(pc1_X_project.shape)\n",
    "# print(pc1_X_project[0])\n",
    "min_pc1 = np.min(pc1_X_project)\n",
    "range_pc1 = np.max(pc1_X_project) - np.min(pc1_X_project)\n",
    "\n",
    "for i, j in enumerate(pc1_X_project):\n",
    "    pc1_X_project[i] = 255 * ((j - min_pc1) / range_pc1)\n",
    "    \n",
    "# print(pc1_X_project)\n",
    "# print(pc1_X_project.shape)"
   ]
  },
  {
   "cell_type": "code",
   "execution_count": null,
   "metadata": {},
   "outputs": [],
   "source": [
    "pixel_list_number = []\n",
    "pixel_list_x = []\n",
    "pixel_list_y = []\n",
    "\n",
    "for i, j in enumerate(pc1_X_project.tolist()):\n",
    "    value = (i+1)\n",
    "    row = value / 46\n",
    "    column = value % 46 - 1\n",
    "    pixel_list_number.append(value)\n",
    "    pixel_list_x.append(row)\n",
    "    pixel_list_y.append(column)\n",
    "    \n",
    "\n",
    "sample = np.zeros(shape=(56, 46))\n",
    "for i, j in enumerate(pixel_list_x):\n",
    "    x_value = int(j - 1)\n",
    "    y_value = int(pixel_list_y[i] - 1)\n",
    "    sample[x_value, y_value] = pc1_X_project[i]\n",
    "\n",
    "imgplot = plt.imshow(sample, cmap='gray', vmin=0, vmax=255)\n",
    "plt.show()"
   ]
  }
 ],
 "metadata": {
  "kernelspec": {
   "display_name": "KerasGPU",
   "language": "python",
   "name": "kerasgpu"
  },
  "language_info": {
   "codemirror_mode": {
    "name": "ipython",
    "version": 3
   },
   "file_extension": ".py",
   "mimetype": "text/x-python",
   "name": "python",
   "nbconvert_exporter": "python",
   "pygments_lexer": "ipython3",
   "version": "3.7.7"
  }
 },
 "nbformat": 4,
 "nbformat_minor": 4
}
