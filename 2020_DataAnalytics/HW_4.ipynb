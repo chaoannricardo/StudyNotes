{
 "cells": [
  {
   "cell_type": "markdown",
   "metadata": {},
   "source": [
    "# Q1\n",
    "<img src='./picture_source/HW_4_1.PNG' width='500px' align='middle'>"
   ]
  },
  {
   "cell_type": "code",
   "execution_count": null,
   "metadata": {},
   "outputs": [],
   "source": [
    "\n"
   ]
  },
  {
   "cell_type": "markdown",
   "metadata": {},
   "source": [
    "# Q2\n",
    "<img src='./picture_source/HW_4_2.PNG' width='500px' align='middle'>"
   ]
  },
  {
   "cell_type": "markdown",
   "metadata": {},
   "source": [
    "# Answer\n",
    "\n"
   ]
  },
  {
   "cell_type": "code",
   "execution_count": 1,
   "metadata": {},
   "outputs": [],
   "source": [
    "# import packages needed \n",
    "from sklearn.metrics import mean_squared_error\n",
    "from sklearn import linear_model\n",
    "import cv2\n",
    "import matplotlib.pyplot as plt\n",
    "import numpy as np\n",
    "import pandas as pd\n",
    "import statsmodels.api as sm"
   ]
  },
  {
   "cell_type": "code",
   "execution_count": 2,
   "metadata": {},
   "outputs": [],
   "source": [
    "# prepare the data\n",
    "ORL_data = pd.read_csv('./data/ORL_data.csv')\n",
    "# divide into X and y\n",
    "X = ORL_data.iloc[:, :-1]\n",
    "y = ORL_data.iloc[:, -1].tolist()"
   ]
  },
  {
   "cell_type": "code",
   "execution_count": null,
   "metadata": {},
   "outputs": [],
   "source": [
    "# implement with Lasso regression\n",
    "# Reference:\n",
    "# Documentation of penalized (regularized) regression in statsmodels (Elastic Net)\n",
    "# https://www.statsmodels.org/dev/generated/statsmodels.regression.linear_model.OLS.fit_regularized.html\n",
    "\n",
    "lambda_list = np.arange(0, 10.1, 0.1)\n",
    "mse_list = []\n",
    "L1_wt = 1 # 1 when LASSO fit, 0 when ridge fit\n",
    "\n",
    "# create statsmodels model\n",
    "model = sm.regression.linear_model.OLS(y, X)\n",
    "\n",
    "for i, j in enumerate(lambda_list):\n",
    "    result_LASSO = model.fit_regularized(L1_wt=L1_wt, alpha=float(j))\n",
    "    predict_list_original = result_LASSO.fittedvalues.tolist()\n",
    "    mse_list.append(mean_squared_error(y, predict_list_original))\n",
    "    \n",
    "minimum_value = np.min(mse_list)\n",
    "minimum_index_list = [i for i, j in enumerate(mse_list) if j == minimum_value]\n",
    "# print(mse_list)\n",
    "# print(minimum_index_list)\n",
    "print('MSE is lowest when lambda=', lambda_list[minimum_index_list[0]], \n",
    "      ', while MSE is ', mse_list[minimum_index_list[0]])"
   ]
  },
  {
   "cell_type": "code",
   "execution_count": 4,
   "metadata": {},
   "outputs": [
    {
     "name": "stdout",
     "output_type": "stream",
     "text": [
      "MSE is lowest when lambda= 0.0 , while MSE is  6.358327951982005e-30\n"
     ]
    }
   ],
   "source": [
    "# implement with Ridge regression\n",
    "# Reference:\n",
    "# Documentation of penalized (regularized) regression in statsmodels (Elastic Net)\n",
    "# https://www.statsmodels.org/dev/generated/statsmodels.regression.linear_model.OLS.fit_regularized.html\n",
    "\n",
    "lambda_list = np.arange(0, 10.1, 0.1)\n",
    "mse_list = []\n",
    "L1_wt = 0 # 1 when LASSO fit, 0 when ridge fit\n",
    "\n",
    "# create statsmodels model\n",
    "model = sm.regression.linear_model.OLS(y, X)\n",
    "\n",
    "for i, j in enumerate(lambda_list):\n",
    "    result_LASSO = model.fit_regularized(L1_wt=L1_wt, alpha=float(j))\n",
    "    predict_list_original = result_LASSO.fittedvalues.tolist()\n",
    "    mse_list.append(mean_squared_error(y, predict_list_original))\n",
    "    \n",
    "minimum_value = np.min(mse_list)\n",
    "minimum_index_list = [i for i, j in enumerate(mse_list) if j == minimum_value]\n",
    "# print(mse_list)\n",
    "# print(minimum_index_list)\n",
    "print('MSE is lowest when lambda=', lambda_list[minimum_index_list[0]], \n",
    "      ', while MSE is ', mse_list[minimum_index_list[0]])"
   ]
  },
  {
   "cell_type": "code",
   "execution_count": null,
   "metadata": {},
   "outputs": [],
   "source": [
    "# To compare with stepwise regression, we select LASSO regression with lambda = 0, 0.001, and 1\n",
    "\n",
    "lambda_list = [0, 0.001, 1]\n",
    "L1_wt = 1 # 1 when LASSO fit, 0 when ridge fit\n",
    "\n",
    "for i, j in enumerate(lambda_list)\n",
    "    result_LASSO = model.fit_regularized(L1_wt=L1_wt, alpha=float(j))\n",
    "    predict_list_original = result_LASSO.fittedvalues.tolist()\n",
    "    mse_value = mean_squared_error(y, predict_list_original)\n",
    "    print('MSE when lambda=', j, \n",
    "      'is: ', mse_value)"
   ]
  },
  {
   "cell_type": "code",
   "execution_count": null,
   "metadata": {},
   "outputs": [],
   "source": [
    "# create stepwise regression function\n",
    "\n",
    "def stepwise_selection(X, y, initial_list=[], threshold_in=0.01, threshold_out=0.05, verbose=True):\n",
    "    \"\"\" Perform a forward-backward feature selection\n",
    "    Reference: # https://www.twblogs.net/a/5c13a86fbd9eee5e40bb7431\n",
    "    based on p-value from statsmodels.api.OLS\n",
    "    Arguments:\n",
    "        X - pandas.DataFrame with candidate features\n",
    "        y - list-like with the target\n",
    "        initial_list - list of features to start with (column names of X)\n",
    "        threshold_in - include a feature if its p-value < threshold_in\n",
    "        threshold_out - exclude a feature if its p-value > threshold_out\n",
    "        verbose - whether to print the sequence of inclusions and exclusions\n",
    "    Returns: list of selected features\n",
    "    Always set threshold_in < threshold_out to avoid infinite looping.\n",
    "    \"\"\"\n",
    "    included = list(initial_list)\n",
    "\n",
    "    while True:\n",
    "        changed = False\n",
    "        # forward step\n",
    "        excluded = list(set(X.columns) - set(included))\n",
    "        new_pval = pd.Series(index=excluded)\n",
    "        for new_column in excluded:\n",
    "            model = sm.OLS(y, sm.add_constant(pd.DataFrame(X[included + [new_column]]))).fit()\n",
    "            new_pval[new_column] = model.pvalues[new_column]\n",
    "        best_pval = new_pval.min()\n",
    "        if best_pval < threshold_in:\n",
    "            best_feature = new_pval.argmin()\n",
    "            included.append(best_feature)\n",
    "            changed = True\n",
    "            if verbose:\n",
    "                print('Add  {:30} with p-value {:.6}'.format(best_feature, best_pval))\n",
    "\n",
    "            # backward step\n",
    "            model = sm.OLS(y, sm.add_constant(pd.DataFrame(X[included]))).fit()\n",
    "            print('R_square = ', model.rsquared)\n",
    "            # use all coefs except intercept\n",
    "            pvalues = model.pvalues.iloc[1:]\n",
    "            worst_pval = pvalues.max()  # null if pvalues is empty\n",
    "            if worst_pval > threshold_out:\n",
    "                changed = True\n",
    "                worst_feature = pvalues.argmax()\n",
    "                included.remove(worst_feature)\n",
    "                if verbose:\n",
    "                    print('Drop {:30} with p-value {:.6}'.format(worst_feature, worst_pval))\n",
    "            if not changed:\n",
    "                break\n",
    "    return included"
   ]
  },
  {
   "cell_type": "code",
   "execution_count": null,
   "metadata": {},
   "outputs": [],
   "source": [
    "# Implement LASSO model when setting lambda=1\n",
    "result_LASSO = model.fit_regularized(L1_wt=1, alpha=1)\n",
    "predict_list_original = result_LASSO.fittedvalues.tolist()\n",
    "mse_value = mean_squared_error(y, predict_list_original)\n",
    "print('MSE when lambda=', j, 'is: ', mse_value)\n",
    "\n",
    "# interpret the result of LASSO\n",
    "param_data_LASSO = pd.DataFrame({\n",
    "    'Pixel':result_LASSO.params.index.tolist(),\n",
    "    'Params':result_LASSO.params.values.tolist()\n",
    "})\n",
    "\n",
    "param_data_LASSO = param_data_LASSO.sort_values(by=['Params'], ascending=False)\n",
    "chosen_vars_LASSO = param_data_LASSO.iloc[0:54, 0].values.tolist()\n",
    "\n",
    "shared_var_list = []\n",
    "\n",
    "for i, j in enumerate(chosen_vars_LASSO):\n",
    "    if j in included_list:\n",
    "        shared_var_list.append(j)\n",
    "\n",
    "# print(len(shared_var_list))"
   ]
  },
  {
   "cell_type": "code",
   "execution_count": null,
   "metadata": {},
   "outputs": [],
   "source": [
    "# (b)\n",
    "# Interpret and plot the result\n",
    "pixel_list_number = []\n",
    "pixel_list_x = []\n",
    "pixel_list_y = []\n",
    "# transform back to pixel\n",
    "for i, j in enumerate(chosen_vars_LASSO):\n",
    "    value = int(j[6:])\n",
    "    row = value / 46 - 1\n",
    "    column = value % 46 - 1\n",
    "    pixel_list_number.append(value)\n",
    "    pixel_list_x.append(row)\n",
    "    pixel_list_y.append(column)\n",
    "    file = \"./data/ORL_Faces_Classified/0/1_1.png\"\n",
    "    sample = cv2.imread(file, cv2.IMREAD_GRAYSCALE)\n",
    "    for i, j in enumerate(pixel_list_x):\n",
    "        x_value = int(j - 1)\n",
    "        y_value = int(pixel_list_y[i] - 1)\n",
    "        sample[x_value, y_value] = 0\n",
    "# cv2.imwrite( \"./sample.png\", sample)\n",
    "imgplot = plt.imshow(sample, cmap='gray', vmin=0, vmax=255)\n",
    "plt.show()"
   ]
  },
  {
   "cell_type": "markdown",
   "metadata": {},
   "source": [
    "# Q3\n",
    "<img src='./picture_source/HW_4_3.PNG' width='500px' align='middle'>"
   ]
  },
  {
   "cell_type": "code",
   "execution_count": null,
   "metadata": {},
   "outputs": [],
   "source": [
    "from sklearn.decomposition import PCA\n",
    "import numpy as np\n",
    "import pandas as pd"
   ]
  },
  {
   "cell_type": "code",
   "execution_count": null,
   "metadata": {},
   "outputs": [],
   "source": [
    "def PCA_decomposition(X, isCorrMX):\n",
    "    # Reference: https://machinelearningmastery.com/calculate-principal-component-analysis-scratch-python/\n",
    "    # calculate mean of the array\n",
    "    X_mean = np.mean(X.T, axis=1)\n",
    "    # center the values\n",
    "    X_center = X - X_mean\n",
    "    # check if use Correlation Matrix\n",
    "    if isCorrMX == True:\n",
    "        X_covariance = np.corrcoef(X_center.T)\n",
    "    else:\n",
    "        X_covariance = np.cov(X_center.T)\n",
    "    # calculate eigenvalues and eigenvectors\n",
    "    # https://docs.scipy.org/doc/numpy/reference/generated/numpy.linalg.eig.html\n",
    "    eigenvalues, eigenvectors = np.linalg.eig(X_covariance)\n",
    "    # \n",
    "    X_project = eigenvectors.T.dot(X_center.T).T\n",
    "    return eigenvalues, eigenvectors, X_project\n",
    "\n",
    "X = np.array([[1, 1], [0, 1], [-1, 0], [3, 3], [4, 3], [5, 4]])\n",
    "\n",
    "# eigenvalues, eigenvectors, X_project = PCA_decomposition(X, True)\n",
    "eigenvalues, eigenvectors, X_project = PCA_decomposition(X, False)\n",
    "print(eigenvalues)\n",
    "print()\n",
    "print(eigenvectors)\n",
    "print()\n",
    "# print(X_project)"
   ]
  },
  {
   "cell_type": "markdown",
   "metadata": {},
   "source": [
    "# Q4\n",
    "<img src='./picture_source/HW_4_4.PNG' width='500px' align='middle'>"
   ]
  },
  {
   "cell_type": "code",
   "execution_count": null,
   "metadata": {},
   "outputs": [],
   "source": [
    "import pandas as pd\n",
    "import numpy as np\n",
    "import matplotlib.pyplot as plt\n",
    "import cv2"
   ]
  },
  {
   "cell_type": "code",
   "execution_count": null,
   "metadata": {},
   "outputs": [],
   "source": [
    "ORL_data = pd.read_csv('./data/ORL_data.csv').iloc[:,:-1]\n",
    "\n",
    "ORL_data_array = np.transpose(ORL_data.to_numpy())\n",
    "# print(ORL_data_array.shape)\n",
    "eigenvalues, eigenvectors, X_project = PCA_decomposition(ORL_data_array, False)\n",
    "# print(eigenvalues.shape)"
   ]
  },
  {
   "cell_type": "code",
   "execution_count": null,
   "metadata": {},
   "outputs": [],
   "source": [
    "# calculate explainable ratio of each pricipal components\n",
    "explainable_ratio_list = []\n",
    "for i in range(eigenvalues.shape[0]):\n",
    "    eigenvalues_totals = np.sum(eigenvalues)\n",
    "    ratio = eigenvalues[i] / eigenvalues_totals\n",
    "    explainable_ratio_list.append(ratio)\n",
    "    \n",
    "# print(explainable_ratio_list)"
   ]
  },
  {
   "cell_type": "code",
   "execution_count": null,
   "metadata": {},
   "outputs": [],
   "source": [
    "# calculate how many principal components needed to explain 50, 60, 70, 80, 90% of total variance\n",
    "total_explainable_ratio = 0\n",
    "components_needed_list = []\n",
    "\n",
    "for i, j in enumerate(explainable_ratio_list):\n",
    "    total_explainable_ratio += j\n",
    "    if total_explainable_ratio >= 0.9:\n",
    "        if len(components_needed_list) < 5: \n",
    "            components_needed_list.append(i+1) \n",
    "            print('90%:', str(i+1), 'pricipal components needed.')\n",
    "        break\n",
    "    elif total_explainable_ratio >= 0.8:\n",
    "        if len(components_needed_list) < 4: \n",
    "            components_needed_list.append(i+1) \n",
    "            print('80%:', str(i+1), 'pricipal components needed.')\n",
    "    elif total_explainable_ratio >= 0.7:\n",
    "        if len(components_needed_list) < 3: \n",
    "            components_needed_list.append(i+1) \n",
    "            print('70%:', str(i+1), 'pricipal components needed.')\n",
    "    elif total_explainable_ratio >= 0.6:\n",
    "        if len(components_needed_list) < 2: \n",
    "            components_needed_list.append(i+1) \n",
    "            print('60%:', str(i+1), 'pricipal components needed.')\n",
    "    elif total_explainable_ratio >= 0.5:\n",
    "        if len(components_needed_list) < 1: \n",
    "            components_needed_list.append(i+1) \n",
    "            print('50%:', str(i+1), 'pricipal components needed.')\n",
    "            \n",
    "print(components_needed_list)"
   ]
  },
  {
   "cell_type": "code",
   "execution_count": null,
   "metadata": {},
   "outputs": [],
   "source": [
    "ORL_data = pd.read_csv('./data/ORL_data.csv').iloc[:,:-1]\n",
    "\n",
    "ORL_data_array = np.transpose(ORL_data.to_numpy())\n",
    "# print(ORL_data_array.shape)\n",
    "eigenvalues, eigenvectors, X_project = PCA_decomposition(ORL_data_array, False)\n",
    "# print(eigenvalues.shape)\n",
    "# print(X_project.shape)\n",
    "\n",
    "pc1_X_project = X_project[:, 0]\n",
    "print(pc1_X_project.shape)\n",
    "# print(pc1_X_project[0])\n",
    "min_pc1 = np.min(pc1_X_project)\n",
    "range_pc1 = np.max(pc1_X_project) - np.min(pc1_X_project)\n",
    "\n",
    "for i, j in enumerate(pc1_X_project):\n",
    "    pc1_X_project[i] = 255 * ((j - min_pc1) / range_pc1)\n",
    "    \n",
    "# print(pc1_X_project)\n",
    "# print(pc1_X_project.shape)"
   ]
  },
  {
   "cell_type": "code",
   "execution_count": null,
   "metadata": {},
   "outputs": [],
   "source": [
    "pixel_list_number = []\n",
    "pixel_list_x = []\n",
    "pixel_list_y = []\n",
    "\n",
    "for i, j in enumerate(pc1_X_project.tolist()):\n",
    "    value = (i+1)\n",
    "    row = value / 46\n",
    "    column = value % 46 - 1\n",
    "    pixel_list_number.append(value)\n",
    "    pixel_list_x.append(row)\n",
    "    pixel_list_y.append(column)\n",
    "    \n",
    "\n",
    "sample = np.zeros(shape=(56, 46))\n",
    "for i, j in enumerate(pixel_list_x):\n",
    "    x_value = int(j - 1)\n",
    "    y_value = int(pixel_list_y[i] - 1)\n",
    "    sample[x_value, y_value] = pc1_X_project[i]\n",
    "\n",
    "imgplot = plt.imshow(sample, cmap='gray', vmin=0, vmax=255)\n",
    "plt.show()"
   ]
  }
 ],
 "metadata": {
  "kernelspec": {
   "display_name": "KerasGPU",
   "language": "python",
   "name": "kerasgpu"
  },
  "language_info": {
   "codemirror_mode": {
    "name": "ipython",
    "version": 3
   },
   "file_extension": ".py",
   "mimetype": "text/x-python",
   "name": "python",
   "nbconvert_exporter": "python",
   "pygments_lexer": "ipython3",
   "version": "3.7.7"
  }
 },
 "nbformat": 4,
 "nbformat_minor": 4
}
