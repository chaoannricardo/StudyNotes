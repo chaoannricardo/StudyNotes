{
 "cells": [
  {
   "cell_type": "markdown",
   "metadata": {},
   "source": [
    "# Q1\n",
    "<img src='./picture_source/HW_4_1.PNG' width='500px' align='middle'>"
   ]
  },
  {
   "cell_type": "code",
   "execution_count": null,
   "metadata": {},
   "outputs": [],
   "source": [
    "import pandas as pd\n",
    "import numpy as np\n",
    "\n"
   ]
  },
  {
   "cell_type": "markdown",
   "metadata": {},
   "source": [
    "# Q2\n",
    "<img src='./picture_source/HW_4_2.PNG' width='500px' align='middle'>"
   ]
  },
  {
   "cell_type": "code",
   "execution_count": 52,
   "metadata": {},
   "outputs": [],
   "source": [
    "# import packages needed \n",
    "import cv2\n",
    "import matplotlib.pyplot as plt\n",
    "import numpy as np\n",
    "import pandas as pd\n",
    "import statsmodels.api as sm"
   ]
  },
  {
   "cell_type": "code",
   "execution_count": 8,
   "metadata": {},
   "outputs": [],
   "source": [
    "# prepare the data\n",
    "ORL_data = pd.read_csv('./data/ORL_data.csv')\n",
    "# divide into X and y\n",
    "X = ORL_data.iloc[:, :-1]\n",
    "y = ORL_data.iloc[:, -1]"
   ]
  },
  {
   "cell_type": "code",
   "execution_count": 10,
   "metadata": {},
   "outputs": [],
   "source": [
    "# create statsmodels model\n",
    "model = sm.regression.linear_model.OLS(y, X)\n",
    "\n",
    "# implement with Lasso regression\n",
    "# Reference:\n",
    "# Documentation of penalized (regularized) regression in statsmodels (Elastic Net)\n",
    "# https://www.statsmodels.org/dev/generated/statsmodels.regression.linear_model.OLS.fit_regularized.html\n",
    "\n",
    "L1_wt = 1 # 1 when LASSO fit, 0 when ridge fit\n",
    "result_LASSO = model.fit_regularized(L1_wt=L1_wt)"
   ]
  },
  {
   "cell_type": "code",
   "execution_count": 41,
   "metadata": {},
   "outputs": [],
   "source": [
    "# implement with Ridge regression\n",
    "L1_wt = 0 # 1 when LASSO fit, 0 when ridge fit\n",
    "result_Ridge = model.fit_regularized(L1_wt=L1_wt)"
   ]
  },
  {
   "cell_type": "code",
   "execution_count": 5,
   "metadata": {},
   "outputs": [
    {
     "name": "stdout",
     "output_type": "stream",
     "text": [
      "Forward Selection\n"
     ]
    },
    {
     "name": "stderr",
     "output_type": "stream",
     "text": [
      "C:\\Users\\ricardo\\AppData\\Roaming\\Python\\Python37\\site-packages\\ipykernel_launcher.py:11: DeprecationWarning: The default dtype for empty Series will be 'object' instead of 'float64' in a future version. Specify a dtype explicitly to silence this warning.\n",
      "  # This is added back by InteractiveShellApp.init_path()\n"
     ]
    },
    {
     "name": "stdout",
     "output_type": "stream",
     "text": [
      "Add  pixel_1470                     with p-value 3.91841e-14\n",
      "Add  pixel_2488                     with p-value 3.38413e-16\n",
      "Add  pixel_2271                     with p-value 6.02768e-11\n",
      "Add  pixel_1722                     with p-value 7.004e-08\n",
      "Add  pixel_555                      with p-value 1.31884e-07\n",
      "Add  pixel_1474                     with p-value 5.65748e-06\n",
      "Add  pixel_1386                     with p-value 8.20976e-06\n",
      "Add  pixel_1476                     with p-value 6.706e-07\n",
      "Add  pixel_1051                     with p-value 6.99533e-06\n",
      "Add  pixel_1561                     with p-value 1.92879e-05\n",
      "Add  pixel_202                      with p-value 1.4955e-05\n",
      "Add  pixel_133                      with p-value 1.23609e-05\n",
      "Add  pixel_186                      with p-value 6.96418e-12\n",
      "Add  pixel_1687                     with p-value 3.21537e-06\n",
      "Add  pixel_319                      with p-value 3.01682e-06\n",
      "Add  pixel_2393                     with p-value 7.13528e-05\n",
      "Add  pixel_1984                     with p-value 3.73409e-06\n",
      "Add  pixel_1325                     with p-value 6.84276e-05\n",
      "Add  pixel_343                      with p-value 9.94106e-05\n",
      "Add  pixel_325                      with p-value 0.000562402\n",
      "Add  pixel_1730                     with p-value 0.000406945\n",
      "Add  pixel_546                      with p-value 0.000298487\n",
      "Add  pixel_380                      with p-value 4.57692e-05\n",
      "Add  pixel_183                      with p-value 0.000308109\n",
      "Add  pixel_95                       with p-value 3.63205e-05\n",
      "Add  pixel_1180                     with p-value 3.31484e-05\n",
      "Add  pixel_2158                     with p-value 0.000121498\n",
      "Add  pixel_2162                     with p-value 4.16994e-05\n",
      "Add  pixel_2168                     with p-value 8.06627e-05\n",
      "Add  pixel_1936                     with p-value 0.000889671\n",
      "Add  pixel_429                      with p-value 0.000837327\n",
      "Add  pixel_845                      with p-value 0.000697652\n",
      "Add  pixel_1701                     with p-value 0.00106987\n",
      "Add  pixel_427                      with p-value 0.00217797\n",
      "Add  pixel_1846                     with p-value 0.00183714\n",
      "Add  pixel_1976                     with p-value 0.000389739\n",
      "Add  pixel_1565                     with p-value 0.0027571\n",
      "Add  pixel_1796                     with p-value 0.0042983\n",
      "Add  pixel_2120                     with p-value 0.000574771\n",
      "Add  pixel_288                      with p-value 0.00418911\n",
      "Add  pixel_96                       with p-value 0.00568254\n",
      "Add  pixel_97                       with p-value 0.00430898\n",
      "Add  pixel_11                       with p-value 0.00332272\n",
      "Add  pixel_135                      with p-value 0.00183605\n",
      "Add  pixel_1929                     with p-value 0.00266105\n",
      "Add  pixel_1000                     with p-value 0.00262142\n",
      "Add  pixel_2207                     with p-value 0.000862107\n",
      "Add  pixel_2021                     with p-value 0.00276112\n",
      "Add  pixel_2561                     with p-value 0.0030418\n",
      "Add  pixel_884                      with p-value 0.00615057\n",
      "Add  pixel_1343                     with p-value 0.00655036\n",
      "Add  pixel_492                      with p-value 0.00926238\n",
      "Add  pixel_574                      with p-value 0.00303123\n",
      "Add  pixel_1005                     with p-value 0.00151712\n",
      "Add  pixel_1152                     with p-value 0.0020989\n",
      "Add  pixel_606                      with p-value 0.00180389\n",
      "Add  pixel_1588                     with p-value 0.00472962\n",
      "Add  pixel_2241                     with p-value 0.00267524\n",
      "Add  pixel_2034                     with p-value 0.00628596\n",
      "Add  pixel_2341                     with p-value 0.00209227\n",
      "Add  pixel_509                      with p-value 0.00983602\n",
      "Add  pixel_1105                     with p-value 0.00472625\n",
      "Backward Selection\n",
      "Drop pixel_2162                     with p-value 0.91927\n",
      "Drop pixel_186                      with p-value 0.489168\n",
      "Drop pixel_1687                     with p-value 0.211977\n",
      "Drop pixel_1051                     with p-value 0.203061\n",
      "Drop pixel_1470                     with p-value 0.0701448\n",
      "Drop pixel_2488                     with p-value 0.0676052\n",
      "Drop pixel_380                      with p-value 0.0122945\n",
      "Drop pixel_884                      with p-value 0.0111691\n",
      "['pixel_2271', 'pixel_1722', 'pixel_555', 'pixel_1474', 'pixel_1386', 'pixel_1476', 'pixel_1561', 'pixel_202', 'pixel_133', 'pixel_319', 'pixel_2393', 'pixel_1984', 'pixel_1325', 'pixel_343', 'pixel_325', 'pixel_1730', 'pixel_546', 'pixel_183', 'pixel_95', 'pixel_1180', 'pixel_2158', 'pixel_2168', 'pixel_1936', 'pixel_429', 'pixel_845', 'pixel_1701', 'pixel_427', 'pixel_1846', 'pixel_1976', 'pixel_1565', 'pixel_1796', 'pixel_2120', 'pixel_288', 'pixel_96', 'pixel_97', 'pixel_11', 'pixel_135', 'pixel_1929', 'pixel_1000', 'pixel_2207', 'pixel_2021', 'pixel_2561', 'pixel_1343', 'pixel_492', 'pixel_574', 'pixel_1005', 'pixel_1152', 'pixel_606', 'pixel_1588', 'pixel_2241', 'pixel_2034', 'pixel_2341', 'pixel_509', 'pixel_1105']\n",
      "Length: 54\n"
     ]
    }
   ],
   "source": [
    "# implement with stepwise regression\n",
    "def forward_regression(X, y,\n",
    "                       threshold_in,\n",
    "                       verbose):\n",
    "    print('Forward Selection')\n",
    "    initial_list = []\n",
    "    included = list(initial_list)\n",
    "    while True:\n",
    "        changed=False\n",
    "        excluded = list(set(X.columns)-set(included))\n",
    "        new_pval = pd.Series(index=excluded)\n",
    "        for new_column in excluded:\n",
    "            model = sm.OLS(y, sm.add_constant(pd.DataFrame(X[included+[new_column]]))).fit()\n",
    "            new_pval[new_column] = model.pvalues[new_column]\n",
    "        best_pval = new_pval.min()\n",
    "        if best_pval < threshold_in:\n",
    "            best_feature = new_pval.idxmin()\n",
    "            included.append(best_feature)\n",
    "            changed=True\n",
    "            if verbose:\n",
    "                print('Add  {:30} with p-value {:.6}'.format(best_feature, best_pval))\n",
    "        if not changed:\n",
    "            break\n",
    "    return included\n",
    "\n",
    "def backward_regression(X, y,\n",
    "                           threshold_out,\n",
    "                           verbose=False):\n",
    "    print('Backward Selection')\n",
    "    included=list(X.columns)\n",
    "    while True:\n",
    "        changed=False\n",
    "        model = sm.OLS(y, sm.add_constant(pd.DataFrame(X[included]))).fit()\n",
    "        # use all coefs except intercept\n",
    "        pvalues = model.pvalues.iloc[1:]\n",
    "        worst_pval = pvalues.max() # null if pvalues is empty\n",
    "        if worst_pval > threshold_out:\n",
    "            changed=True\n",
    "            worst_feature = pvalues.idxmax()\n",
    "            included.remove(worst_feature)\n",
    "            if verbose:\n",
    "                print('Drop {:30} with p-value {:.6}'.format(worst_feature, worst_pval))\n",
    "        if not changed:\n",
    "            break\n",
    "    return included\n",
    "\n",
    "# perform stepwise regression (with forward selection)\n",
    "included_list = forward_regression(X, y, 0.01, True)\n",
    "# perform stepwise regression (with backward selection)\n",
    "X = pd.DataFrame(X[[j for i, j in enumerate(included_list)]])\n",
    "included_list = backward_regression(X, y, 0.01, True)\n",
    "print(included_list)\n",
    "print('Length:', len(included_list))"
   ]
  },
  {
   "cell_type": "code",
   "execution_count": 50,
   "metadata": {},
   "outputs": [
    {
     "name": "stdout",
     "output_type": "stream",
     "text": [
      "5\n"
     ]
    }
   ],
   "source": [
    "# interpret the result of Lasso\n",
    "param_data_LASSO = pd.DataFrame({\n",
    "    'Pixel':result_LASSO.params.index.tolist(),\n",
    "    'Params':result_LASSO.params.values.tolist()\n",
    "})\n",
    "\n",
    "param_data_LASSO = param_data_LASSO.sort_values(by=['Params'], ascending=False)\n",
    "chosen_vars_LASSO = param_data_LASSO.iloc[0:54, 0].values.tolist()\n",
    "\n",
    "shared_var_list = []\n",
    "\n",
    "for i, j in enumerate(chosen_vars_LASSO):\n",
    "    if j in included_list:\n",
    "        shared_var_list.append(j)\n",
    "\n",
    "print(len(shared_var_list))"
   ]
  },
  {
   "cell_type": "code",
   "execution_count": 56,
   "metadata": {},
   "outputs": [
    {
     "data": {
      "image/png": "[encoded data removed]",
      "text/plain": [
       "<Figure size 432x288 with 1 Axes>"
      ]
     },
     "metadata": {
      "needs_background": "light"
     },
     "output_type": "display_data"
    }
   ],
   "source": [
    "# (b)\n",
    "# Interpret and plot the result\n",
    "pixel_list_number = []\n",
    "pixel_list_x = []\n",
    "pixel_list_y = []\n",
    "# transform back to pixel\n",
    "for i, j in enumerate(chosen_vars_LASSO):\n",
    "    value = int(j[6:])\n",
    "    row = value / 46 - 1\n",
    "    column = value % 46 - 1\n",
    "    pixel_list_number.append(value)\n",
    "    pixel_list_x.append(row)\n",
    "    pixel_list_y.append(column)\n",
    "    file = \"./data/ORL_Faces_Classified/0/1_1.png\"\n",
    "    sample = cv2.imread(file, cv2.IMREAD_GRAYSCALE)\n",
    "    for i, j in enumerate(pixel_list_x):\n",
    "        x_value = int(j - 1)\n",
    "        y_value = int(pixel_list_y[i] - 1)\n",
    "        sample[x_value, y_value] = 0\n",
    "# cv2.imwrite( \"./sample.png\", sample)\n",
    "imgplot = plt.imshow(sample, cmap='gray', vmin=0, vmax=255)\n",
    "plt.show()"
   ]
  },
  {
   "cell_type": "markdown",
   "metadata": {},
   "source": [
    "# Q3\n",
    "<img src='./picture_source/HW_4_3.PNG' width='500px' align='middle'>"
   ]
  },
  {
   "cell_type": "code",
   "execution_count": 1,
   "metadata": {},
   "outputs": [],
   "source": [
    "from sklearn.decomposition import PCA\n",
    "import numpy as np\n",
    "import pandas as pd"
   ]
  },
  {
   "cell_type": "code",
   "execution_count": 90,
   "metadata": {},
   "outputs": [
    {
     "name": "stdout",
     "output_type": "stream",
     "text": [
      "[7.93954312 0.06045688]\n",
      "\n",
      "[[ 0.83849224 -0.54491354]\n",
      " [ 0.54491354  0.83849224]]\n",
      "\n",
      "[[-1.38340578 -0.2935787 ]\n",
      " [-2.22189802  0.25133484]\n",
      " [-3.6053038  -0.04224385]\n",
      " [ 1.38340578  0.2935787 ]\n",
      " [ 2.22189802 -0.25133484]\n",
      " [ 3.6053038   0.04224385]]\n"
     ]
    }
   ],
   "source": [
    "def PCA_decomposition(X, isCorrMX):\n",
    "    # Reference: https://machinelearningmastery.com/calculate-principal-component-analysis-scratch-python/\n",
    "    # calculate mean of the array\n",
    "    X_mean = np.mean(X.T, axis=1)\n",
    "    # center the values\n",
    "    X_center = X - X_mean\n",
    "    # check if use Correlation Matrix\n",
    "    if isCorrMX == True:\n",
    "        X_covariance = np.corrcoef(X_center.T)\n",
    "    else:\n",
    "        X_covariance = np.cov(X_center.T)\n",
    "    # calculate eigenvalues and eigenvectors\n",
    "    # https://docs.scipy.org/doc/numpy/reference/generated/numpy.linalg.eig.html\n",
    "    eigenvalues, eigenvectors = np.linalg.eig(X_covariance)\n",
    "    # \n",
    "    X_project = eigenvectors.T.dot(X_center.T).T\n",
    "    return eigenvalues, eigenvectors, X_project\n",
    "\n",
    "X = np.array([[1, 1], [0, 1], [-1, 0], [3, 3], [4, 3], [5, 4]])\n",
    "\n",
    "# eigenvalues, eigenvectors, X_project = PCA_decomposition(X, True)\n",
    "eigenvalues, eigenvectors, X_project = PCA_decomposition(X, False)\n",
    "print(eigenvalues)\n",
    "print()\n",
    "print(eigenvectors)\n",
    "print()\n",
    "print(X_project)"
   ]
  },
  {
   "cell_type": "markdown",
   "metadata": {},
   "source": [
    "# Q4\n",
    "<img src='./picture_source/HW_4_4.PNG' width='500px' align='middle'>"
   ]
  },
  {
   "cell_type": "code",
   "execution_count": 9,
   "metadata": {},
   "outputs": [],
   "source": [
    "import pandas as pd"
   ]
  },
  {
   "cell_type": "code",
   "execution_count": 14,
   "metadata": {},
   "outputs": [
    {
     "name": "stdout",
     "output_type": "stream",
     "text": [
      "(400, 2577)\n"
     ]
    }
   ],
   "source": [
    "ORL_data = pd.read_csv('./data/ORL_data.csv')\n",
    "\n",
    "ORL_data_array = ORL_data.to_numpy()\n",
    "print(ORL_data_array.shape)"
   ]
  }
 ],
 "metadata": {
  "kernelspec": {
   "display_name": "KerasGPU",
   "language": "python",
   "name": "kerasgpu"
  },
  "language_info": {
   "codemirror_mode": {
    "name": "ipython",
    "version": 3
   },
   "file_extension": ".py",
   "mimetype": "text/x-python",
   "name": "python",
   "nbconvert_exporter": "python",
   "pygments_lexer": "ipython3",
   "version": "3.7.7"
  }
 },
 "nbformat": 4,
 "nbformat_minor": 4
}
