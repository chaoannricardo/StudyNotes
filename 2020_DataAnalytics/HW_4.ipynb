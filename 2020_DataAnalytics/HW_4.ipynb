{
 "cells": [
  {
   "cell_type": "markdown",
   "metadata": {},
   "source": [
    "# Q1\n",
    "<img src='./picture_source/HW_4_1.PNG' width='500px' align='middle'>"
   ]
  },
  {
   "cell_type": "markdown",
   "metadata": {},
   "source": [
    "# Answer"
   ]
  },
  {
   "cell_type": "code",
   "execution_count": 1,
   "metadata": {},
   "outputs": [],
   "source": [
    "# import packages needed\n",
    "import pandas as pd\n",
    "import numpy as np\n",
    "import statsmodels.api as sm"
   ]
  },
  {
   "cell_type": "code",
   "execution_count": 3,
   "metadata": {},
   "outputs": [
    {
     "name": "stdout",
     "output_type": "stream",
     "text": [
      "   Year  Capital    Labor  Value_Added  log_Value_Added\n",
      "0    72  1209188  1259142      11150.0         9.319195\n",
      "1    73  1330372  1371795      12853.6         9.461379\n",
      "2    74  1157371  1263084      10450.8         9.254434\n",
      "3    75  1070860  1118226       9318.3         9.139735\n",
      "4    76  1233475  1274345      12097.7         9.400771\n"
     ]
    }
   ],
   "source": [
    "# prepare data\n",
    "\n",
    "# create original dataframe\n",
    "data_FRB = pd.DataFrame({\n",
    "    'Year':[i for i in range(72, 87, 1)],\n",
    "    'Capital':[1209188, 1330372, 1157371, 1070860, 1233475, 1355769, 1351667, 1326248, 1089545, 1111942,\n",
    "              988165, 1069651, 1191677, 1246536, 1281262],\n",
    "    'Labor':[1259142, 1371795, 1263084, 1118226, 1274345, 1369877, 1451595, 1328683, 1077207, 1056231, 947502,\n",
    "            1057159, 1169442, 1195255, 1171664],\n",
    "    'Value_Added':[11150.0, 12853.6, 10450.8, 9318.3, 12097.7, 12844.8, 13309.9, 13402.3, 8571.0, 8739.7,\n",
    "                  8140.0, 10958.4, 10838.9, 10030.5, 10836.5]\n",
    "})\n",
    "\n",
    "# append 'log_Value_Added' as Value_added with log function applied\n",
    "data_FRB.loc[:, 'log_Value_Added'] = np.log(data_FRB.loc[:, 'Value_Added'])"
   ]
  },
  {
   "cell_type": "markdown",
   "metadata": {},
   "source": [
    "# Q2\n",
    "<img src='./picture_source/HW_4_2.PNG' width='500px' align='middle'>"
   ]
  },
  {
   "cell_type": "markdown",
   "metadata": {},
   "source": [
    "# Answer\n",
    "#### (a) 根據我的程式碼，Lambda在越小時，MSE同有下降的趨勢，並在Lambda=0.0時達到最小，MSE=1.8042175649346816e-08；使用stepwise regression得到MSE為；相比較發現方法的預測效率較佳\n",
    "#### (b) 如本題最下方程式碼所產生的圖所示。"
   ]
  },
  {
   "cell_type": "code",
   "execution_count": 21,
   "metadata": {},
   "outputs": [],
   "source": [
    "# import packages needed \n",
    "from sklearn.metrics import mean_squared_error\n",
    "from sklearn import linear_model\n",
    "import cv2\n",
    "import matplotlib.pyplot as plt\n",
    "import numpy as np\n",
    "import pandas as pd\n",
    "import statsmodels.api as sm"
   ]
  },
  {
   "cell_type": "code",
   "execution_count": 4,
   "metadata": {},
   "outputs": [],
   "source": [
    "# prepare the data\n",
    "ORL_data = pd.read_csv('./data/ORL_data.csv')\n",
    "# divide into X and y\n",
    "X = ORL_data.iloc[:, :-1]\n",
    "y = ORL_data.iloc[:, -1].tolist()"
   ]
  },
  {
   "cell_type": "code",
   "execution_count": 6,
   "metadata": {},
   "outputs": [
    {
     "name": "stderr",
     "output_type": "stream",
     "text": [
      "C:\\Users\\ricardo\\AppData\\Roaming\\Python\\Python37\\site-packages\\ipykernel_launcher.py:8: UserWarning: With alpha=0, this algorithm does not converge well. You are advised to use the LinearRegression estimator\n",
      "  \n",
      "C:\\Users\\ricardo\\Anaconda3\\lib\\site-packages\\sklearn\\linear_model\\_coordinate_descent.py:476: UserWarning: Coordinate descent with no regularization may lead to unexpected results and is discouraged.\n",
      "  positive)\n",
      "C:\\Users\\ricardo\\Anaconda3\\lib\\site-packages\\sklearn\\linear_model\\_coordinate_descent.py:476: ConvergenceWarning: Objective did not converge. You might want to increase the number of iterations. Duality gap: 0.025962355545366744, tolerance: 0.004375\n",
      "  positive)\n"
     ]
    },
    {
     "name": "stdout",
     "output_type": "stream",
     "text": [
      "MSE is lowest when lambda= 0.0 , while MSE is  1.8042175649346816e-08\n"
     ]
    }
   ],
   "source": [
    "# implement with Lasso regression (with sklearn package)\n",
    "\n",
    "lambda_list = np.arange(0, 10.1, 0.1)\n",
    "mse_list = []\n",
    "\n",
    "for i, j in enumerate(lambda_list):\n",
    "    reg_lasso = linear_model.Lasso(alpha=j)\n",
    "    reg_lasso.fit(X, y)\n",
    "    predict_list_original = reg_lasso.predict(X).tolist()\n",
    "    mse_list.append(mean_squared_error(y, predict_list_original))\n",
    "    \n",
    "minimum_value = np.min(mse_list)\n",
    "minimum_index_list = [i for i, j in enumerate(mse_list) if j == minimum_value]\n",
    "# print(mse_list)\n",
    "# print(minimum_index_list)\n",
    "print('MSE is lowest when lambda=', lambda_list[minimum_index_list[0]], \n",
    "      ', while MSE is ', mse_list[minimum_index_list[0]])"
   ]
  },
  {
   "cell_type": "code",
   "execution_count": 7,
   "metadata": {},
   "outputs": [
    {
     "name": "stderr",
     "output_type": "stream",
     "text": [
      "C:\\Users\\ricardo\\Anaconda3\\lib\\site-packages\\sklearn\\linear_model\\_ridge.py:188: LinAlgWarning: Ill-conditioned matrix (rcond=6.20387e-19): result may not be accurate.\n",
      "  overwrite_a=False)\n"
     ]
    },
    {
     "name": "stdout",
     "output_type": "stream",
     "text": [
      "MSE is lowest when lambda= 0.0 , while MSE is  3.033838863451482e-29\n"
     ]
    }
   ],
   "source": [
    "# implement with Ridge regression (with sklearn package)\n",
    "lambda_list = np.arange(0, 10.1, 0.1)\n",
    "mse_list = []\n",
    "\n",
    "for i, j in enumerate(lambda_list):\n",
    "    reg_ridge = linear_model.Ridge(alpha=j)\n",
    "    reg_ridge.fit(X, y)\n",
    "    predict_list_original = reg_ridge.predict(X).tolist()\n",
    "    mse_list.append(mean_squared_error(y, predict_list_original))\n",
    "    \n",
    "minimum_value = np.min(mse_list)\n",
    "minimum_index_list = [i for i, j in enumerate(mse_list) if j == minimum_value]\n",
    "# print(mse_list)\n",
    "# print(minimum_index_list)\n",
    "print('MSE is lowest when lambda=', lambda_list[minimum_index_list[0]], \n",
    "      ', while MSE is ', mse_list[minimum_index_list[0]])"
   ]
  },
  {
   "cell_type": "code",
   "execution_count": 8,
   "metadata": {},
   "outputs": [
    {
     "name": "stdout",
     "output_type": "stream",
     "text": [
      "MSE when lambda= 0 is:  0.002437011999583227\n",
      "MSE when lambda= 0.001 is:  0.002460105433393009\n",
      "MSE when lambda= 1 is:  0.056079651135815166\n"
     ]
    }
   ],
   "source": [
    "# To compare with stepwise regression, we select LASSO regression with lambda = 0, 0.001, and 1\n",
    "# We use statsmodels package this time.\n",
    "# Reference:\n",
    "# Documentation of penalized (regularized) regression in statsmodels (Elastic Net)\n",
    "# https://www.statsmodels.org/dev/generated/statsmodels.regression.linear_model.OLS.fit_regularized.html\n",
    "\n",
    "lambda_list = [0, 0.001, 1]\n",
    "L1_wt = 1 # 1 when LASSO fit, 0 when ridge fit\n",
    "\n",
    "# create statsmodels model\n",
    "model = sm.regression.linear_model.OLS(y, X)\n",
    "\n",
    "for i, j in enumerate(lambda_list):\n",
    "    result_LASSO = model.fit_regularized(L1_wt=L1_wt, alpha=float(j))\n",
    "    predict_list_original = result_LASSO.fittedvalues.tolist()\n",
    "    mse_value = mean_squared_error(y, predict_list_original)\n",
    "    print('MSE when lambda=', j, \n",
    "      'is: ', mse_value)"
   ]
  },
  {
   "cell_type": "code",
   "execution_count": 19,
   "metadata": {},
   "outputs": [],
   "source": [
    "# create stepwise regression function\n",
    "\n",
    "def stepwise_selection(X, y, initial_list=[], threshold_in=0.01, threshold_out=0.05, verbose=True):\n",
    "    \"\"\" Perform a forward-backward feature selection\n",
    "    Reference: # https://www.twblogs.net/a/5c13a86fbd9eee5e40bb7431\n",
    "    based on p-value from statsmodels.api.OLS\n",
    "    Arguments:\n",
    "        X - pandas.DataFrame with candidate features\n",
    "        y - list-like with the target\n",
    "        initial_list - list of features to start with (column names of X)\n",
    "        threshold_in - include a feature if its p-value < threshold_in\n",
    "        threshold_out - exclude a feature if its p-value > threshold_out\n",
    "        verbose - whether to print the sequence of inclusions and exclusions\n",
    "    Returns: list of selected features\n",
    "    Always set threshold_in < threshold_out to avoid infinite looping.\n",
    "    \"\"\"\n",
    "    included = list(initial_list)\n",
    "\n",
    "    while True:\n",
    "        changed = False\n",
    "        # forward step\n",
    "        excluded = list(set(X.columns) - set(included))\n",
    "        new_pval = pd.Series(index=excluded)\n",
    "        for new_column in excluded:\n",
    "            model = sm.OLS(y, sm.add_constant(pd.DataFrame(X[included + [new_column]]))).fit()\n",
    "            new_pval[new_column] = model.pvalues[new_column]\n",
    "        best_pval = new_pval.min()\n",
    "        if best_pval < threshold_in:\n",
    "            best_feature = new_pval.argmin()\n",
    "            included.append(best_feature)\n",
    "            changed = True\n",
    "            if verbose:\n",
    "                print('Add  {:30} with p-value {:.6}'.format(best_feature, best_pval))\n",
    "\n",
    "            # backward step\n",
    "            model = sm.OLS(y, sm.add_constant(pd.DataFrame(X[included]))).fit()\n",
    "            print('R_square = ', model.rsquared)\n",
    "            # use all coefs except intercept\n",
    "            pvalues = model.pvalues.iloc[1:]\n",
    "            worst_pval = pvalues.max()  # null if pvalues is empty\n",
    "            if worst_pval > threshold_out:\n",
    "                changed = True\n",
    "                worst_feature = pvalues.argmax()\n",
    "                included.remove(worst_feature)\n",
    "                if verbose:\n",
    "                    print('Drop {:30} with p-value {:.6}'.format(worst_feature, worst_pval))\n",
    "            if not changed:\n",
    "                break\n",
    "    return included"
   ]
  },
  {
   "cell_type": "code",
   "execution_count": 20,
   "metadata": {},
   "outputs": [
    {
     "name": "stderr",
     "output_type": "stream",
     "text": [
      "C:\\Users\\ricardo\\AppData\\Roaming\\Python\\Python37\\site-packages\\ipykernel_launcher.py:23: DeprecationWarning: The default dtype for empty Series will be 'object' instead of 'float64' in a future version. Specify a dtype explicitly to silence this warning.\n"
     ]
    },
    {
     "name": "stdout",
     "output_type": "stream",
     "text": [
      "Add                            2265 with p-value 3.91841e-14\n"
     ]
    },
    {
     "ename": "KeyError",
     "evalue": "\"None of [Int64Index([2265], dtype='int64')] are in the [columns]\"",
     "output_type": "error",
     "traceback": [
      "\u001b[1;31m---------------------------------------------------------------------------\u001b[0m",
      "\u001b[1;31mKeyError\u001b[0m                                  Traceback (most recent call last)",
      "\u001b[1;32m<ipython-input-20-4c74a625efb6>\u001b[0m in \u001b[0;36m<module>\u001b[1;34m\u001b[0m\n\u001b[0;32m      6\u001b[0m \u001b[0my\u001b[0m \u001b[1;33m=\u001b[0m \u001b[0mORL_data\u001b[0m\u001b[1;33m.\u001b[0m\u001b[0miloc\u001b[0m\u001b[1;33m[\u001b[0m\u001b[1;33m:\u001b[0m\u001b[1;33m,\u001b[0m \u001b[1;33m-\u001b[0m\u001b[1;36m1\u001b[0m\u001b[1;33m]\u001b[0m\u001b[1;33m.\u001b[0m\u001b[0mtolist\u001b[0m\u001b[1;33m(\u001b[0m\u001b[1;33m)\u001b[0m\u001b[1;33m\u001b[0m\u001b[1;33m\u001b[0m\u001b[0m\n\u001b[0;32m      7\u001b[0m \u001b[1;31m# document time now\u001b[0m\u001b[1;33m\u001b[0m\u001b[1;33m\u001b[0m\u001b[1;33m\u001b[0m\u001b[0m\n\u001b[1;32m----> 8\u001b[1;33m \u001b[0mresult\u001b[0m \u001b[1;33m=\u001b[0m \u001b[0mstepwise_selection\u001b[0m\u001b[1;33m(\u001b[0m\u001b[0mX\u001b[0m\u001b[1;33m,\u001b[0m \u001b[0my\u001b[0m\u001b[1;33m)\u001b[0m\u001b[1;33m\u001b[0m\u001b[1;33m\u001b[0m\u001b[0m\n\u001b[0m\u001b[0;32m      9\u001b[0m \u001b[0mprint\u001b[0m\u001b[1;33m(\u001b[0m\u001b[1;34m'resulting features:'\u001b[0m\u001b[1;33m)\u001b[0m\u001b[1;33m\u001b[0m\u001b[1;33m\u001b[0m\u001b[0m\n\u001b[0;32m     10\u001b[0m \u001b[0mprint\u001b[0m\u001b[1;33m(\u001b[0m\u001b[0mresult\u001b[0m\u001b[1;33m)\u001b[0m\u001b[1;33m\u001b[0m\u001b[1;33m\u001b[0m\u001b[0m\n",
      "\u001b[1;32m<ipython-input-19-3492d6ca460d>\u001b[0m in \u001b[0;36mstepwise_selection\u001b[1;34m(X, y, initial_list, threshold_in, threshold_out, verbose)\u001b[0m\n\u001b[0;32m     34\u001b[0m \u001b[1;33m\u001b[0m\u001b[0m\n\u001b[0;32m     35\u001b[0m             \u001b[1;31m# backward step\u001b[0m\u001b[1;33m\u001b[0m\u001b[1;33m\u001b[0m\u001b[1;33m\u001b[0m\u001b[0m\n\u001b[1;32m---> 36\u001b[1;33m             \u001b[0mmodel\u001b[0m \u001b[1;33m=\u001b[0m \u001b[0msm\u001b[0m\u001b[1;33m.\u001b[0m\u001b[0mOLS\u001b[0m\u001b[1;33m(\u001b[0m\u001b[0my\u001b[0m\u001b[1;33m,\u001b[0m \u001b[0msm\u001b[0m\u001b[1;33m.\u001b[0m\u001b[0madd_constant\u001b[0m\u001b[1;33m(\u001b[0m\u001b[0mpd\u001b[0m\u001b[1;33m.\u001b[0m\u001b[0mDataFrame\u001b[0m\u001b[1;33m(\u001b[0m\u001b[0mX\u001b[0m\u001b[1;33m[\u001b[0m\u001b[0mincluded\u001b[0m\u001b[1;33m]\u001b[0m\u001b[1;33m)\u001b[0m\u001b[1;33m)\u001b[0m\u001b[1;33m)\u001b[0m\u001b[1;33m.\u001b[0m\u001b[0mfit\u001b[0m\u001b[1;33m(\u001b[0m\u001b[1;33m)\u001b[0m\u001b[1;33m\u001b[0m\u001b[1;33m\u001b[0m\u001b[0m\n\u001b[0m\u001b[0;32m     37\u001b[0m             \u001b[0mprint\u001b[0m\u001b[1;33m(\u001b[0m\u001b[1;34m'R_square = '\u001b[0m\u001b[1;33m,\u001b[0m \u001b[0mmodel\u001b[0m\u001b[1;33m.\u001b[0m\u001b[0mrsquared\u001b[0m\u001b[1;33m)\u001b[0m\u001b[1;33m\u001b[0m\u001b[1;33m\u001b[0m\u001b[0m\n\u001b[0;32m     38\u001b[0m             \u001b[1;31m# use all coefs except intercept\u001b[0m\u001b[1;33m\u001b[0m\u001b[1;33m\u001b[0m\u001b[1;33m\u001b[0m\u001b[0m\n",
      "\u001b[1;32m~\\Anaconda3\\lib\\site-packages\\pandas\\core\\frame.py\u001b[0m in \u001b[0;36m__getitem__\u001b[1;34m(self, key)\u001b[0m\n\u001b[0;32m   2804\u001b[0m             \u001b[1;32mif\u001b[0m \u001b[0mis_iterator\u001b[0m\u001b[1;33m(\u001b[0m\u001b[0mkey\u001b[0m\u001b[1;33m)\u001b[0m\u001b[1;33m:\u001b[0m\u001b[1;33m\u001b[0m\u001b[1;33m\u001b[0m\u001b[0m\n\u001b[0;32m   2805\u001b[0m                 \u001b[0mkey\u001b[0m \u001b[1;33m=\u001b[0m \u001b[0mlist\u001b[0m\u001b[1;33m(\u001b[0m\u001b[0mkey\u001b[0m\u001b[1;33m)\u001b[0m\u001b[1;33m\u001b[0m\u001b[1;33m\u001b[0m\u001b[0m\n\u001b[1;32m-> 2806\u001b[1;33m             \u001b[0mindexer\u001b[0m \u001b[1;33m=\u001b[0m \u001b[0mself\u001b[0m\u001b[1;33m.\u001b[0m\u001b[0mloc\u001b[0m\u001b[1;33m.\u001b[0m\u001b[0m_get_listlike_indexer\u001b[0m\u001b[1;33m(\u001b[0m\u001b[0mkey\u001b[0m\u001b[1;33m,\u001b[0m \u001b[0maxis\u001b[0m\u001b[1;33m=\u001b[0m\u001b[1;36m1\u001b[0m\u001b[1;33m,\u001b[0m \u001b[0mraise_missing\u001b[0m\u001b[1;33m=\u001b[0m\u001b[1;32mTrue\u001b[0m\u001b[1;33m)\u001b[0m\u001b[1;33m[\u001b[0m\u001b[1;36m1\u001b[0m\u001b[1;33m]\u001b[0m\u001b[1;33m\u001b[0m\u001b[1;33m\u001b[0m\u001b[0m\n\u001b[0m\u001b[0;32m   2807\u001b[0m \u001b[1;33m\u001b[0m\u001b[0m\n\u001b[0;32m   2808\u001b[0m         \u001b[1;31m# take() does not accept boolean indexers\u001b[0m\u001b[1;33m\u001b[0m\u001b[1;33m\u001b[0m\u001b[1;33m\u001b[0m\u001b[0m\n",
      "\u001b[1;32m~\\Anaconda3\\lib\\site-packages\\pandas\\core\\indexing.py\u001b[0m in \u001b[0;36m_get_listlike_indexer\u001b[1;34m(self, key, axis, raise_missing)\u001b[0m\n\u001b[0;32m   1551\u001b[0m \u001b[1;33m\u001b[0m\u001b[0m\n\u001b[0;32m   1552\u001b[0m         self._validate_read_indexer(\n\u001b[1;32m-> 1553\u001b[1;33m             \u001b[0mkeyarr\u001b[0m\u001b[1;33m,\u001b[0m \u001b[0mindexer\u001b[0m\u001b[1;33m,\u001b[0m \u001b[0mo\u001b[0m\u001b[1;33m.\u001b[0m\u001b[0m_get_axis_number\u001b[0m\u001b[1;33m(\u001b[0m\u001b[0maxis\u001b[0m\u001b[1;33m)\u001b[0m\u001b[1;33m,\u001b[0m \u001b[0mraise_missing\u001b[0m\u001b[1;33m=\u001b[0m\u001b[0mraise_missing\u001b[0m\u001b[1;33m\u001b[0m\u001b[1;33m\u001b[0m\u001b[0m\n\u001b[0m\u001b[0;32m   1554\u001b[0m         )\n\u001b[0;32m   1555\u001b[0m         \u001b[1;32mreturn\u001b[0m \u001b[0mkeyarr\u001b[0m\u001b[1;33m,\u001b[0m \u001b[0mindexer\u001b[0m\u001b[1;33m\u001b[0m\u001b[1;33m\u001b[0m\u001b[0m\n",
      "\u001b[1;32m~\\Anaconda3\\lib\\site-packages\\pandas\\core\\indexing.py\u001b[0m in \u001b[0;36m_validate_read_indexer\u001b[1;34m(self, key, indexer, axis, raise_missing)\u001b[0m\n\u001b[0;32m   1638\u001b[0m             \u001b[1;32mif\u001b[0m \u001b[0mmissing\u001b[0m \u001b[1;33m==\u001b[0m \u001b[0mlen\u001b[0m\u001b[1;33m(\u001b[0m\u001b[0mindexer\u001b[0m\u001b[1;33m)\u001b[0m\u001b[1;33m:\u001b[0m\u001b[1;33m\u001b[0m\u001b[1;33m\u001b[0m\u001b[0m\n\u001b[0;32m   1639\u001b[0m                 \u001b[0maxis_name\u001b[0m \u001b[1;33m=\u001b[0m \u001b[0mself\u001b[0m\u001b[1;33m.\u001b[0m\u001b[0mobj\u001b[0m\u001b[1;33m.\u001b[0m\u001b[0m_get_axis_name\u001b[0m\u001b[1;33m(\u001b[0m\u001b[0maxis\u001b[0m\u001b[1;33m)\u001b[0m\u001b[1;33m\u001b[0m\u001b[1;33m\u001b[0m\u001b[0m\n\u001b[1;32m-> 1640\u001b[1;33m                 \u001b[1;32mraise\u001b[0m \u001b[0mKeyError\u001b[0m\u001b[1;33m(\u001b[0m\u001b[1;34mf\"None of [{key}] are in the [{axis_name}]\"\u001b[0m\u001b[1;33m)\u001b[0m\u001b[1;33m\u001b[0m\u001b[1;33m\u001b[0m\u001b[0m\n\u001b[0m\u001b[0;32m   1641\u001b[0m \u001b[1;33m\u001b[0m\u001b[0m\n\u001b[0;32m   1642\u001b[0m             \u001b[1;31m# We (temporarily) allow for some missing keys with .loc, except in\u001b[0m\u001b[1;33m\u001b[0m\u001b[1;33m\u001b[0m\u001b[1;33m\u001b[0m\u001b[0m\n",
      "\u001b[1;31mKeyError\u001b[0m: \"None of [Int64Index([2265], dtype='int64')] are in the [columns]\""
     ]
    }
   ],
   "source": [
    "# implement stepwise regression model\n",
    "# prepare the data\n",
    "ORL_data = pd.read_csv('./data/ORL_data.csv')\n",
    "# divide into X and y\n",
    "X = ORL_data.iloc[:, :-1]\n",
    "y = ORL_data.iloc[:, -1].tolist()\n",
    "# document time now\n",
    "result = stepwise_selection(X, y)\n",
    "print('resulting features:')\n",
    "print(result)\n",
    "\n",
    "\n",
    "print(included_features)\n",
    "print('Number of included feincluded_featurees is: ', included_features)"
   ]
  },
  {
   "cell_type": "code",
   "execution_count": null,
   "metadata": {},
   "outputs": [],
   "source": [
    "# create new_dataset with feature selected\n",
    "# prepare the data\n",
    "ORL_data_feature_selected = ORL_data[ORL_data.colums & iincluded_features]\n",
    "# included_featuresde into X and y\n",
    "X = ORL_data_feature_selected.iloc[:, :-1]\n",
    "y = ORL_data_feature_selected.iloc[:, -1].tolist()\n",
    "# calculate mse with features selected by stepwise regression ()"
   ]
  },
  {
   "cell_type": "code",
   "execution_count": 14,
   "metadata": {},
   "outputs": [
    {
     "name": "stdout",
     "output_type": "stream",
     "text": [
      "MSE when lambda= pixel_1424 is:  0.056079651135815166\n"
     ]
    }
   ],
   "source": [
    "# Implement LASSO model when setting lambda=1\n",
    "result_LASSO = model.fit_regularized(L1_wt=1, alpha=1)\n",
    "predict_list_original = result_LASSO.fittedvalues.tolist()\n",
    "mse_value = mean_squared_error(y, predict_list_original)\n",
    "print('MSE when lambda=', j, 'is: ', mse_value)\n",
    "\n",
    "# interpret the result of LASSO\n",
    "param_data_LASSO = pd.DataFrame({\n",
    "    'Pixel':result_LASSO.params.index.tolist(),\n",
    "    'Params':result_LASSO.params.values.tolist()\n",
    "})\n",
    "\n",
    "param_data_LASSO = param_data_LASSO.sort_values(by=['Params'], ascending=False)\n",
    "chosen_vars_LASSO = param_data_LASSO.iloc[0:54, 0].values.tolist()"
   ]
  },
  {
   "cell_type": "code",
   "execution_count": null,
   "metadata": {},
   "outputs": [],
   "source": [
    "# Interpret and plot the result\n",
    "pixel_list_number = []\n",
    "pixel_list_x = []\n",
    "pixel_list_y = []\n",
    "# transform back to pixel\n",
    "for i, j in enumerate(chosen_vars_LASSO):\n",
    "    value = int(j[6:])\n",
    "    row = value / 46 - 1\n",
    "    column = value % 46 - 1\n",
    "    pixel_list_number.append(value)\n",
    "    pixel_list_x.append(row)\n",
    "    pixel_list_y.append(column)\n",
    "    file = \"./data/ORL_Faces_Classified/0/1_1.png\"\n",
    "    sample = cv2.imread(file, cv2.IMREAD_GRAYSCALE)\n",
    "    for i, j in enumerate(pixel_list_x):\n",
    "        x_value = int(j - 1)\n",
    "        y_value = int(pixel_list_y[i] - 1)\n",
    "        sample[x_value, y_value] = 0\n",
    "# cv2.imwrite( \"./sample.png\", sample)\n",
    "imgplot = plt.imshow(sample, cmap='gray', vmin=0, vmax=255)\n",
    "plt.show()"
   ]
  },
  {
   "cell_type": "markdown",
   "metadata": {},
   "source": [
    "# Q3\n",
    "<img src='./picture_source/HW_4_3.PNG' width='500px' align='middle'>"
   ]
  },
  {
   "cell_type": "code",
   "execution_count": null,
   "metadata": {},
   "outputs": [],
   "source": [
    "from sklearn.decomposition import PCA\n",
    "import numpy as np\n",
    "import pandas as pd"
   ]
  },
  {
   "cell_type": "code",
   "execution_count": null,
   "metadata": {},
   "outputs": [],
   "source": [
    "def PCA_decomposition(X, isCorrMX):\n",
    "    # Reference: https://machinelearningmastery.com/calculate-principal-component-analysis-scratch-python/\n",
    "    # calculate mean of the array\n",
    "    X_mean = np.mean(X.T, axis=1)\n",
    "    # center the values\n",
    "    X_center = X - X_mean\n",
    "    # check if use Correlation Matrix\n",
    "    if isCorrMX == True:\n",
    "        X_covariance = np.corrcoef(X_center.T)\n",
    "    else:\n",
    "        X_covariance = np.cov(X_center.T)\n",
    "    # calculate eigenvalues and eigenvectors\n",
    "    # https://docs.scipy.org/doc/numpy/reference/generated/numpy.linalg.eig.html\n",
    "    eigenvalues, eigenvectors = np.linalg.eig(X_covariance)\n",
    "    # \n",
    "    X_project = eigenvectors.T.dot(X_center.T).T\n",
    "    return eigenvalues, eigenvectors, X_project"
   ]
  },
  {
   "cell_type": "code",
   "execution_count": null,
   "metadata": {},
   "outputs": [],
   "source": [
    "# test PCA function\n",
    "\n",
    "X = np.array([[1, 1], [0, 1], [-1, 0], [3, 3], [4, 3], [5, 4]])\n",
    "\n",
    "# eigenvalues, eigenvectors, X_project = PCA_decomposition(X, True)\n",
    "eigenvalues, eigenvectors, X_project = PCA_decomposition(X, False)\n",
    "print(eigenvalues)\n",
    "print()\n",
    "print(eigenvectors)\n",
    "print()\n",
    "print(X_project)"
   ]
  },
  {
   "cell_type": "code",
   "execution_count": null,
   "metadata": {},
   "outputs": [],
   "source": [
    "# create scree plot\n",
    "\n"
   ]
  },
  {
   "cell_type": "code",
   "execution_count": null,
   "metadata": {},
   "outputs": [],
   "source": [
    "# implement PCA with AutoMPG dataset\n",
    "\n",
    "AutoMPG = pd.read_csv('./data/AutoMPG.csv')\n",
    "eigenvalues, eigenvectors, AutoMPG_project = PCA_decomposition(AutoMPG, False)\n"
   ]
  },
  {
   "cell_type": "markdown",
   "metadata": {},
   "source": [
    "# Q4\n",
    "<img src='./picture_source/HW_4_4.PNG' width='500px' align='middle'>"
   ]
  },
  {
   "cell_type": "code",
   "execution_count": null,
   "metadata": {},
   "outputs": [],
   "source": [
    "import pandas as pd\n",
    "import numpy as np\n",
    "import matplotlib.pyplot as plt\n",
    "import cv2"
   ]
  },
  {
   "cell_type": "code",
   "execution_count": null,
   "metadata": {},
   "outputs": [],
   "source": [
    "ORL_data = pd.read_csv('./data/ORL_data.csv').iloc[:,:-1]\n",
    "\n",
    "ORL_data_array = np.transpose(ORL_data.to_numpy())\n",
    "# print(ORL_data_array.shape)\n",
    "eigenvalues, eigenvectors, X_project = PCA_decomposition(ORL_data_array, False)\n",
    "# print(eigenvalues.shape)"
   ]
  },
  {
   "cell_type": "code",
   "execution_count": null,
   "metadata": {},
   "outputs": [],
   "source": [
    "# calculate explainable ratio of each pricipal components\n",
    "explainable_ratio_list = []\n",
    "for i in range(eigenvalues.shape[0]):\n",
    "    eigenvalues_totals = np.sum(eigenvalues)\n",
    "    ratio = eigenvalues[i] / eigenvalues_totals\n",
    "    explainable_ratio_list.append(ratio)\n",
    "    \n",
    "# print(explainable_ratio_list)"
   ]
  },
  {
   "cell_type": "code",
   "execution_count": null,
   "metadata": {},
   "outputs": [],
   "source": [
    "# calculate how many principal components needed to explain 50, 60, 70, 80, 90% of total variance\n",
    "total_explainable_ratio = 0\n",
    "components_needed_list = []\n",
    "\n",
    "for i, j in enumerate(explainable_ratio_list):\n",
    "    total_explainable_ratio += j\n",
    "    if total_explainable_ratio >= 0.9:\n",
    "        if len(components_needed_list) < 5: \n",
    "            components_needed_list.append(i+1) \n",
    "            print('90%:', str(i+1), 'pricipal components needed.')\n",
    "        break\n",
    "    elif total_explainable_ratio >= 0.8:\n",
    "        if len(components_needed_list) < 4: \n",
    "            components_needed_list.append(i+1) \n",
    "            print('80%:', str(i+1), 'pricipal components needed.')\n",
    "    elif total_explainable_ratio >= 0.7:\n",
    "        if len(components_needed_list) < 3: \n",
    "            components_needed_list.append(i+1) \n",
    "            print('70%:', str(i+1), 'pricipal components needed.')\n",
    "    elif total_explainable_ratio >= 0.6:\n",
    "        if len(components_needed_list) < 2: \n",
    "            components_needed_list.append(i+1) \n",
    "            print('60%:', str(i+1), 'pricipal components needed.')\n",
    "    elif total_explainable_ratio >= 0.5:\n",
    "        if len(components_needed_list) < 1: \n",
    "            components_needed_list.append(i+1) \n",
    "            print('50%:', str(i+1), 'pricipal components needed.')\n",
    "            \n",
    "print(components_needed_list)"
   ]
  },
  {
   "cell_type": "code",
   "execution_count": null,
   "metadata": {},
   "outputs": [],
   "source": [
    "ORL_data = pd.read_csv('./data/ORL_data.csv').iloc[:,:-1]\n",
    "\n",
    "ORL_data_array = np.transpose(ORL_data.to_numpy())\n",
    "# print(ORL_data_array.shape)\n",
    "eigenvalues, eigenvectors, X_project = PCA_decomposition(ORL_data_array, False)\n",
    "# print(eigenvalues.shape)\n",
    "# print(X_project.shape)\n",
    "\n",
    "pc1_X_project = X_project[:, 0]\n",
    "print(pc1_X_project.shape)\n",
    "# print(pc1_X_project[0])\n",
    "min_pc1 = np.min(pc1_X_project)\n",
    "range_pc1 = np.max(pc1_X_project) - np.min(pc1_X_project)\n",
    "\n",
    "for i, j in enumerate(pc1_X_project):\n",
    "    pc1_X_project[i] = 255 * ((j - min_pc1) / range_pc1)\n",
    "    \n",
    "# print(pc1_X_project)\n",
    "# print(pc1_X_project.shape)"
   ]
  },
  {
   "cell_type": "code",
   "execution_count": null,
   "metadata": {},
   "outputs": [],
   "source": [
    "pixel_list_number = []\n",
    "pixel_list_x = []\n",
    "pixel_list_y = []\n",
    "\n",
    "for i, j in enumerate(pc1_X_project.tolist()):\n",
    "    value = (i+1)\n",
    "    row = value / 46\n",
    "    column = value % 46 - 1\n",
    "    pixel_list_number.append(value)\n",
    "    pixel_list_x.append(row)\n",
    "    pixel_list_y.append(column)\n",
    "    \n",
    "\n",
    "sample = np.zeros(shape=(56, 46))\n",
    "for i, j in enumerate(pixel_list_x):\n",
    "    x_value = int(j - 1)\n",
    "    y_value = int(pixel_list_y[i] - 1)\n",
    "    sample[x_value, y_value] = pc1_X_project[i]\n",
    "\n",
    "imgplot = plt.imshow(sample, cmap='gray', vmin=0, vmax=255)\n",
    "plt.show()"
   ]
  }
 ],
 "metadata": {
  "kernelspec": {
   "display_name": "KerasGPU",
   "language": "python",
   "name": "kerasgpu"
  },
  "language_info": {
   "codemirror_mode": {
    "name": "ipython",
    "version": 3
   },
   "file_extension": ".py",
   "mimetype": "text/x-python",
   "name": "python",
   "nbconvert_exporter": "python",
   "pygments_lexer": "ipython3",
   "version": "3.7.7"
  }
 },
 "nbformat": 4,
 "nbformat_minor": 4
}
