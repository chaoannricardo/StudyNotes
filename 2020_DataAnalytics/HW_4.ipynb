{
 "cells": [
  {
   "cell_type": "markdown",
   "metadata": {},
   "source": [
    "# Q1\n",
    "<img src='./picture_source/HW_4_1.PNG' width='500px' align='middle'>"
   ]
  },
  {
   "cell_type": "markdown",
   "metadata": {},
   "source": [
    "# Answer\n",
    "#### (a)\n",
    "#### 根據我們所建立的regression model (詳細資訊如下所示)，我們可以評估模型下的B1約為4.561e-07 ；B2則為6.916e-07\n",
    "#### (b)\n",
    "#### When B1 + B2 = 1, we estimate B1 =  3.749765918236159 and B2= -2.749765918236159"
   ]
  },
  {
   "cell_type": "code",
   "execution_count": 113,
   "metadata": {},
   "outputs": [],
   "source": [
    "# import packages needed\n",
    "from sklearn.metrics import mean_squared_error\n",
    "import pandas as pd\n",
    "import numpy as np\n",
    "import statsmodels.api as sm\n",
    "import scipy"
   ]
  },
  {
   "cell_type": "code",
   "execution_count": 111,
   "metadata": {},
   "outputs": [],
   "source": [
    "# prepare the data\n",
    "# create original dataframe\n",
    "data_FRB = pd.DataFrame({\n",
    "    'Year':[i for i in range(72, 87, 1)],\n",
    "    'Capital':[1209188, 1330372, 1157371, 1070860, 1233475, 1355769, 1351667, 1326248, 1089545, 1111942,\n",
    "              988165, 1069651, 1191677, 1246536, 1281262],\n",
    "    'Labor':[1259142, 1371795, 1263084, 1118226, 1274345, 1369877, 1451595, 1328683, 1077207, 1056231, 947502,\n",
    "            1057159, 1169442, 1195255, 1171664],\n",
    "    'Value_Added':[11150.0, 12853.6, 10450.8, 9318.3, 12097.7, 12844.8, 13309.9, 13402.3, 8571.0, 8739.7,\n",
    "                  8140.0, 10958.4, 10838.9, 10030.5, 10836.5]\n",
    "})\n",
    "\n",
    "# append 'log_Value_Added' as Value_added with log function applied\n",
    "data_FRB.loc[:, 'log_Value_Added'] = np.log(data_FRB.loc[:, 'Value_Added'])\n",
    "\n",
    "# divide data into X and y\n",
    "X = data_FRB.iloc[:, 1:-2]\n",
    "y = data_FRB.iloc[:, -1]"
   ]
  },
  {
   "cell_type": "code",
   "execution_count": 112,
   "metadata": {},
   "outputs": [
    {
     "name": "stdout",
     "output_type": "stream",
     "text": [
      "                            OLS Regression Results                            \n",
      "==============================================================================\n",
      "Dep. Variable:        log_Value_Added   R-squared:                       0.823\n",
      "Model:                            OLS   Adj. R-squared:                  0.794\n",
      "Method:                 Least Squares   F-statistic:                     27.91\n",
      "Date:                Thu, 09 Apr 2020   Prob (F-statistic):           3.07e-05\n",
      "Time:                        21:02:00   Log-Likelihood:                 19.449\n",
      "No. Observations:                  15   AIC:                            -32.90\n",
      "Df Residuals:                      12   BIC:                            -30.77\n",
      "Df Model:                           2                                         \n",
      "Covariance Type:            nonrobust                                         \n",
      "==============================================================================\n",
      "                 coef    std err          t      P>|t|      [0.025      0.975]\n",
      "------------------------------------------------------------------------------\n",
      "const          7.9019      0.208     37.941      0.000       7.448       8.356\n",
      "Capital     4.561e-07   4.13e-07      1.106      0.291   -4.43e-07    1.35e-06\n",
      "Labor       6.916e-07   3.41e-07      2.028      0.065   -5.16e-08    1.43e-06\n",
      "==============================================================================\n",
      "Omnibus:                        7.893   Durbin-Watson:                   2.002\n",
      "Prob(Omnibus):                  0.019   Jarque-Bera (JB):                4.398\n",
      "Skew:                           1.140   Prob(JB):                        0.111\n",
      "Kurtosis:                       4.356   Cond. No.                     1.87e+07\n",
      "==============================================================================\n",
      "\n",
      "Warnings:\n",
      "[1] Standard Errors assume that the covariance matrix of the errors is correctly specified.\n",
      "[2] The condition number is large, 1.87e+07. This might indicate that there are\n",
      "strong multicollinearity or other numerical problems.\n"
     ]
    },
    {
     "name": "stderr",
     "output_type": "stream",
     "text": [
      "C:\\Users\\ricardo\\Anaconda3\\lib\\site-packages\\scipy\\stats\\stats.py:1535: UserWarning: kurtosistest only valid for n>=20 ... continuing anyway, n=15\n",
      "  \"anyway, n=%i\" % int(n))\n"
     ]
    }
   ],
   "source": [
    "# train with multiple regression\n",
    "\n",
    "# create a statsmodel\n",
    "# create statsmodels model\n",
    "X = sm.add_constant(X)\n",
    "model = sm.regression.linear_model.OLS(y, X).fit()\n",
    "\n",
    "print(model.summary())"
   ]
  },
  {
   "cell_type": "code",
   "execution_count": 152,
   "metadata": {},
   "outputs": [],
   "source": [
    "def sm_model(B1):\n",
    "    return np.sum( ((X_1 * B1 + X_2 * B2) - y) ** 2 )\n",
    "    \n",
    "sm_model = sm_model(1)"
   ]
  },
  {
   "cell_type": "code",
   "execution_count": 165,
   "metadata": {},
   "outputs": [
    {
     "name": "stdout",
     "output_type": "stream",
     "text": [
      "When B1 + B2 = 1, we estimate B1 =  3.749765918236159 and B2= -2.749765918236159\n"
     ]
    }
   ],
   "source": [
    "y = data_FRB.iloc[:, -1].to_numpy()\n",
    "X_1 = data_FRB.iloc[:, 1].to_numpy()\n",
    "X_2 = data_FRB.iloc[:, 2].to_numpy()\n",
    "\n",
    "def sm_model(B1):\n",
    "    return np.sum( ((X_1 * B1 + X_2 * (1-B1)) - y) ** 2 )\n",
    "\n",
    "# optimize the parameter with scipy\n",
    "res = scipy.optimize.minimize(sm_model, x0=[0])\n",
    "print('When B1 + B2 = 1, we estimate B1 = ', res.x[0], 'and B2=', (1- res.x[0]))"
   ]
  },
  {
   "cell_type": "markdown",
   "metadata": {},
   "source": [
    "# Q2\n",
    "<img src='./picture_source/HW_4_2.PNG' width='500px' align='middle'>"
   ]
  },
  {
   "cell_type": "markdown",
   "metadata": {},
   "source": [
    "# Answer\n",
    "#### (a) 根據我的程式碼，Lambda在越小時，MSE同有下降的趨勢，並在Lambda=0.0時達到最小，MSE=1.8042175649346816e-08；使用stepwise regression得到MSE=0.014399127818860755為；相比較發現LASSO regression方法的預測效率較佳\n",
    "#### (b) 如本題最下方程式碼所產生的圖所示。"
   ]
  },
  {
   "cell_type": "code",
   "execution_count": 1,
   "metadata": {},
   "outputs": [],
   "source": [
    "# import packages needed \n",
    "from sklearn.metrics import mean_squared_error\n",
    "from sklearn import linear_model\n",
    "import cv2\n",
    "import matplotlib.pyplot as plt\n",
    "import numpy as np\n",
    "import pandas as pd\n",
    "import statsmodels.api as sm"
   ]
  },
  {
   "cell_type": "code",
   "execution_count": 2,
   "metadata": {},
   "outputs": [],
   "source": [
    "# prepare the data\n",
    "ORL_data = pd.read_csv('./data/ORL_data.csv')\n",
    "# divide into X and y\n",
    "X = ORL_data.iloc[:, :-1]\n",
    "y = ORL_data.iloc[:, -1].tolist()"
   ]
  },
  {
   "cell_type": "code",
   "execution_count": 6,
   "metadata": {},
   "outputs": [
    {
     "name": "stderr",
     "output_type": "stream",
     "text": [
      "C:\\Users\\ricardo\\AppData\\Roaming\\Python\\Python37\\site-packages\\ipykernel_launcher.py:8: UserWarning: With alpha=0, this algorithm does not converge well. You are advised to use the LinearRegression estimator\n",
      "  \n",
      "C:\\Users\\ricardo\\Anaconda3\\lib\\site-packages\\sklearn\\linear_model\\_coordinate_descent.py:476: UserWarning: Coordinate descent with no regularization may lead to unexpected results and is discouraged.\n",
      "  positive)\n",
      "C:\\Users\\ricardo\\Anaconda3\\lib\\site-packages\\sklearn\\linear_model\\_coordinate_descent.py:476: ConvergenceWarning: Objective did not converge. You might want to increase the number of iterations. Duality gap: 0.025962355545366744, tolerance: 0.004375\n",
      "  positive)\n"
     ]
    },
    {
     "name": "stdout",
     "output_type": "stream",
     "text": [
      "MSE is lowest when lambda= 0.0 , while MSE is  1.8042175649346816e-08\n"
     ]
    }
   ],
   "source": [
    "# implement with Lasso regression (with sklearn package)\n",
    "\n",
    "lambda_list = np.arange(0, 10.1, 0.1)\n",
    "mse_list = []\n",
    "\n",
    "for i, j in enumerate(lambda_list):\n",
    "    reg_lasso = linear_model.Lasso(alpha=j)\n",
    "    reg_lasso.fit(X, y)\n",
    "    predict_list_original = reg_lasso.predict(X).tolist()\n",
    "    mse_list.append(mean_squared_error(y, predict_list_original))\n",
    "    \n",
    "minimum_value = np.min(mse_list)\n",
    "minimum_index_list = [i for i, j in enumerate(mse_list) if j == minimum_value]\n",
    "# print(mse_list)\n",
    "# print(minimum_index_list)\n",
    "print('MSE is lowest when lambda=', lambda_list[minimum_index_list[0]], \n",
    "      ', while MSE is ', mse_list[minimum_index_list[0]])"
   ]
  },
  {
   "cell_type": "code",
   "execution_count": 7,
   "metadata": {},
   "outputs": [
    {
     "name": "stderr",
     "output_type": "stream",
     "text": [
      "C:\\Users\\ricardo\\Anaconda3\\lib\\site-packages\\sklearn\\linear_model\\_ridge.py:188: LinAlgWarning: Ill-conditioned matrix (rcond=6.20387e-19): result may not be accurate.\n",
      "  overwrite_a=False)\n"
     ]
    },
    {
     "name": "stdout",
     "output_type": "stream",
     "text": [
      "MSE is lowest when lambda= 0.0 , while MSE is  3.033838863451482e-29\n"
     ]
    }
   ],
   "source": [
    "# implement with Ridge regression (with sklearn package)\n",
    "lambda_list = np.arange(0, 10.1, 0.1)\n",
    "mse_list = []\n",
    "\n",
    "for i, j in enumerate(lambda_list):\n",
    "    reg_ridge = linear_model.Ridge(alpha=j)\n",
    "    reg_ridge.fit(X, y)\n",
    "    predict_list_original = reg_ridge.predict(X).tolist()\n",
    "    mse_list.append(mean_squared_error(y, predict_list_original))\n",
    "    \n",
    "minimum_value = np.min(mse_list)\n",
    "minimum_index_list = [i for i, j in enumerate(mse_list) if j == minimum_value]\n",
    "# print(mse_list)\n",
    "# print(minimum_index_list)\n",
    "print('MSE is lowest when lambda=', lambda_list[minimum_index_list[0]], \n",
    "      ', while MSE is ', mse_list[minimum_index_list[0]])"
   ]
  },
  {
   "cell_type": "code",
   "execution_count": 11,
   "metadata": {},
   "outputs": [
    {
     "name": "stdout",
     "output_type": "stream",
     "text": [
      "MSE when lambda= 0 is:  0.03492422008163612\n",
      "MSE when lambda= 0.001 is:  0.034903909423569794\n",
      "MSE when lambda= 1 is:  0.06668417375325184\n"
     ]
    }
   ],
   "source": [
    "# To compare with stepwise regression, we select LASSO regression with lambda = 0, 0.001, and 1\n",
    "# We use statsmodels package this time.\n",
    "# Reference:\n",
    "# Documentation of penalized (regularized) regression in statsmodels (Elastic Net)\n",
    "# https://www.statsmodels.org/dev/generated/statsmodels.regression.linear_model.OLS.fit_regularized.html\n",
    "\n",
    "lambda_list = [0, 0.001, 1]\n",
    "L1_wt = 1 # 1 when LASSO fit, 0 when ridge fit\n",
    "\n",
    "# create statsmodels model\n",
    "model = sm.regression.linear_model.OLS(y, X)\n",
    "\n",
    "for i, j in enumerate(lambda_list):\n",
    "    result_LASSO = model.fit_regularized(L1_wt=L1_wt, alpha=float(j))\n",
    "    predict_list_original = result_LASSO.fittedvalues.tolist()\n",
    "    mse_value = mean_squared_error(y, predict_list_original)\n",
    "    print('MSE when lambda=', j, \n",
    "      'is: ', mse_value)"
   ]
  },
  {
   "cell_type": "code",
   "execution_count": 14,
   "metadata": {},
   "outputs": [],
   "source": [
    "# create stepwise regression function\n",
    "\n",
    "def stepwise_selection(X, y, initial_list=[], threshold_in=0.01, threshold_out=0.05, verbose=True):\n",
    "    \"\"\" Perform a forward-backward feature selection\n",
    "    Reference: # https://www.twblogs.net/a/5c13a86fbd9eee5e40bb7431\n",
    "    based on p-value from statsmodels.api.OLS\n",
    "    Arguments:\n",
    "        X - pandas.DataFrame with candidate features\n",
    "        y - list-like with the target\n",
    "        initial_list - list of features to start with (column names of X)\n",
    "        threshold_in - include a feature if its p-value < threshold_in\n",
    "        threshold_out - exclude a feature if its p-value > threshold_out\n",
    "        verbose - whether to print the sequence of inclusions and exclusions\n",
    "    Returns: list of selected features\n",
    "    Always set threshold_in < threshold_out to avoid infinite looping.\n",
    "    \"\"\"\n",
    "    included = list(initial_list)\n",
    "\n",
    "    while True:\n",
    "        changed = False\n",
    "        # forward step\n",
    "        excluded = list(set(X.columns) - set(included))\n",
    "        new_pval = pd.Series(index=excluded)\n",
    "        for new_column in excluded:\n",
    "            model = sm.OLS(y, sm.add_constant(pd.DataFrame(X[included + [new_column]]))).fit()\n",
    "            new_pval[new_column] = model.pvalues[new_column]\n",
    "        best_pval = new_pval.min()\n",
    "        if best_pval < threshold_in:\n",
    "            best_feature = new_pval.idxmin()\n",
    "            included.append(best_feature)\n",
    "            changed = True\n",
    "            if verbose:\n",
    "                print('Add  {:30} with p-value {:.6}'.format(best_feature, best_pval))\n",
    "\n",
    "            # backward step\n",
    "            model = sm.OLS(y, sm.add_constant(pd.DataFrame(X[included].values))).fit()\n",
    "            print('R_square = ', model.rsquared)\n",
    "            # use all coefs except intercept\n",
    "            pvalues = model.pvalues.iloc[1:]\n",
    "            worst_pval = pvalues.max()  # null if pvalues is empty\n",
    "            if worst_pval > threshold_out:\n",
    "                changed = True\n",
    "                worst_feature = pvalues.idxmax()\n",
    "                included.remove(included[worst_feature])\n",
    "                if verbose:\n",
    "                    print('Drop {:30} with p-value {:.6}'.format(worst_feature, worst_pval))\n",
    "            if not changed:\n",
    "                break\n",
    "    return included"
   ]
  },
  {
   "cell_type": "code",
   "execution_count": null,
   "metadata": {},
   "outputs": [
    {
     "name": "stderr",
     "output_type": "stream",
     "text": [
      "C:\\Users\\ricardo\\AppData\\Roaming\\Python\\Python37\\site-packages\\ipykernel_launcher.py:23: DeprecationWarning: The default dtype for empty Series will be 'object' instead of 'float64' in a future version. Specify a dtype explicitly to silence this warning.\n"
     ]
    },
    {
     "name": "stdout",
     "output_type": "stream",
     "text": [
      "Add  pixel_1470                     with p-value 3.91841e-14\n",
      "R_square =  0.13404309865692476\n",
      "Add  pixel_2488                     with p-value 3.38413e-16\n",
      "R_square =  0.2678723779962152\n",
      "Add  pixel_2271                     with p-value 6.02768e-11\n",
      "R_square =  0.34298316156352904\n",
      "Add  pixel_1722                     with p-value 7.004e-08\n",
      "R_square =  0.38964653438298524\n",
      "Add  pixel_555                      with p-value 1.31884e-07\n",
      "R_square =  0.4313340061910136\n",
      "Add  pixel_1474                     with p-value 5.65748e-06\n",
      "R_square =  0.46041103180240095\n",
      "Add  pixel_1386                     with p-value 8.20976e-06\n",
      "R_square =  0.48713763178062175\n",
      "Add  pixel_1476                     with p-value 6.706e-07\n",
      "R_square =  0.5185697594190422\n",
      "Add  pixel_1051                     with p-value 6.99533e-06\n",
      "R_square =  0.5428944164631441\n",
      "Add  pixel_1561                     with p-value 1.92879e-05\n",
      "R_square =  0.5638799029382524\n",
      "Add  pixel_202                      with p-value 1.4955e-05\n",
      "R_square =  0.5844727398029121\n",
      "Add  pixel_133                      with p-value 1.23609e-05\n",
      "R_square =  0.6045148272306424\n",
      "Add  pixel_186                      with p-value 6.96418e-12\n",
      "R_square =  0.6499422370848498\n",
      "Add  pixel_1687                     with p-value 3.21537e-06\n",
      "R_square =  0.6691369901454154\n",
      "Add  pixel_319                      with p-value 3.01682e-06\n",
      "R_square =  0.6874248986626645\n",
      "Add  pixel_2393                     with p-value 7.13528e-05\n",
      "R_square =  0.7000535030407766\n",
      "Add  pixel_1984                     with p-value 3.73409e-06\n",
      "R_square =  0.7164130615202478\n",
      "Add  pixel_1325                     with p-value 6.84276e-05\n",
      "R_square =  0.7279861021848284\n",
      "Add  pixel_343                      with p-value 9.94106e-05\n",
      "R_square =  0.7386297350875746\n",
      "Add  pixel_325                      with p-value 0.000562402\n",
      "R_square =  0.7467169625438768\n",
      "Add  pixel_1730                     with p-value 0.000406945\n",
      "R_square =  0.7549664661083192\n",
      "Add  pixel_546                      with p-value 0.000298487\n",
      "R_square =  0.7633328875127459\n",
      "Add  pixel_380                      with p-value 4.57692e-05\n",
      "R_square =  0.7735769523121608\n",
      "Add  pixel_183                      with p-value 0.000308109\n",
      "R_square =  0.7813138125011371\n",
      "Add  pixel_95                       with p-value 3.63205e-05\n",
      "R_square =  0.7910747573914318\n",
      "Drop                             12 with p-value 0.606526\n",
      "Add  pixel_1180                     with p-value 3.86642e-05\n",
      "R_square =  0.8001947167154811\n",
      "Add  pixel_2158                     with p-value 9.85121e-05\n",
      "R_square =  0.8081656771085574\n",
      "Add  pixel_2208                     with p-value 3.67526e-05\n",
      "R_square =  0.8167620724289808\n",
      "Add  pixel_2168                     with p-value 0.000133239\n",
      "R_square =  0.8238401408803954\n",
      "Add  pixel_1935                     with p-value 0.000485927\n",
      "R_square =  0.8295471736784147\n",
      "Add  pixel_2117                     with p-value 0.000222031\n",
      "R_square =  0.8357387833553851\n",
      "Add  pixel_430                      with p-value 0.000142728\n",
      "R_square =  0.8420789131635588\n",
      "Drop                             17 with p-value 0.0709408\n",
      "Add  pixel_2516                     with p-value 0.000718295\n",
      "R_square =  0.8455552264931512\n",
      "Add  pixel_1260                     with p-value 0.00163652\n",
      "R_square =  0.8496787374970376\n",
      "Add  pixel_1809                     with p-value 0.00187537\n",
      "R_square =  0.853602684916661\n",
      "Add  pixel_1565                     with p-value 0.000980758\n",
      "R_square =  0.8579015069074752\n",
      "Add  pixel_845                      with p-value 0.00346772\n",
      "R_square =  0.861202327963152\n",
      "Add  pixel_1366                     with p-value 0.00615045\n",
      "R_square =  0.8640466240370939\n",
      "Add  pixel_414                      with p-value 0.00446665\n",
      "R_square =  0.8670529819217331\n",
      "Add  pixel_2121                     with p-value 0.00397132\n",
      "R_square =  0.8700777953085174\n",
      "Add  pixel_1936                     with p-value 0.00453467\n",
      "R_square =  0.8729569119610687\n"
     ]
    }
   ],
   "source": [
    "# implement stepwise regression model\n",
    "included_features = stepwise_selection(X, y)\n",
    "print('resulting features:')\n",
    "print(included_features)\n",
    "print('Number of included feincluded_featurees is: ', len(included_features))"
   ]
  },
  {
   "cell_type": "code",
   "execution_count": 9,
   "metadata": {},
   "outputs": [
    {
     "name": "stdout",
     "output_type": "stream",
     "text": [
      "MSE= 0.014399127818860755\n"
     ]
    }
   ],
   "source": [
    "# create new_dataset with feature selected\n",
    "included_features = ['pixel_1470', 'pixel_2488', 'pixel_2271', 'pixel_1722', 'pixel_555', 'pixel_1474', \\\n",
    " 'pixel_1386', 'pixel_1476', 'pixel_1051', 'pixel_1561', 'pixel_202', 'pixel_133',  \\\n",
    " 'pixel_1687', 'pixel_319', 'pixel_2393', 'pixel_1984', 'pixel_1325', 'pixel_325', 'pixel_1730', \\\n",
    " 'pixel_546', 'pixel_380', 'pixel_183', 'pixel_95', 'pixel_1180', 'pixel_2158', 'pixel_2208', 'pixel_2168', \\\n",
    " 'pixel_1935', 'pixel_2117', 'pixel_430', 'pixel_2516', 'pixel_1260 ', 'pixel_1809', 'pixel_1565', 'pixel_845', \\\n",
    " 'pixel_1366', 'pixel_414', 'pixel_2121', 'pixel_1936']\n",
    "\n",
    "\n",
    "# prepare the data\n",
    "X = ORL_data[ORL_data.columns & included_features]\n",
    "# included_featuresde into X and y\n",
    "y = ORL_data.iloc[:, -1].tolist()\n",
    "# calculate mse with features selected by stepwise regression\n",
    "reg = linear_model.LinearRegression()\n",
    "reg.fit(X, y)\n",
    "predict_list = reg.predict(X)\n",
    "mse_value = mean_squared_error(y, predict_list)\n",
    "print('MSE=', mse_value)"
   ]
  },
  {
   "cell_type": "code",
   "execution_count": 13,
   "metadata": {},
   "outputs": [
    {
     "name": "stdout",
     "output_type": "stream",
     "text": [
      "MSE when lambda= 1 is:  0.06668417375325184\n"
     ]
    }
   ],
   "source": [
    "# Implement LASSO model when setting lambda=1\n",
    "result_LASSO = model.fit_regularized(L1_wt=1, alpha=1)\n",
    "predict_list_original = result_LASSO.fittedvalues.tolist()\n",
    "mse_value = mean_squared_error(y, predict_list_original)\n",
    "print('MSE when lambda=', j, 'is: ', mse_value)\n",
    "\n",
    "# interpret the result of LASSO\n",
    "param_data_LASSO = pd.DataFrame({\n",
    "    'Pixel':result_LASSO.params.index.tolist(),\n",
    "    'Params':result_LASSO.params.values.tolist()\n",
    "})\n",
    "\n",
    "param_data_LASSO = param_data_LASSO.sort_values(by=['Params'], ascending=False)\n",
    "chosen_vars_LASSO = param_data_LASSO.iloc[0:54, 0].values.tolist()"
   ]
  },
  {
   "cell_type": "code",
   "execution_count": 14,
   "metadata": {},
   "outputs": [
    {
     "data": {
      "image/png": "[encoded data removed]",
      "text/plain": [
       "<Figure size 432x288 with 1 Axes>"
      ]
     },
     "metadata": {
      "needs_background": "light"
     },
     "output_type": "display_data"
    }
   ],
   "source": [
    "# Interpret and plot the result\n",
    "pixel_list_number = []\n",
    "pixel_list_x = []\n",
    "pixel_list_y = []\n",
    "# transform back to pixel\n",
    "for i, j in enumerate(chosen_vars_LASSO):\n",
    "    value = int(j[6:])\n",
    "    row = value / 46 - 1\n",
    "    column = value % 46 - 1\n",
    "    pixel_list_number.append(value)\n",
    "    pixel_list_x.append(row)\n",
    "    pixel_list_y.append(column)\n",
    "    file = \"./data/ORL_Faces_Classified/0/1_1.png\"\n",
    "    sample = cv2.imread(file, cv2.IMREAD_GRAYSCALE)\n",
    "    for i, j in enumerate(pixel_list_x):\n",
    "        x_value = int(j - 1)\n",
    "        y_value = int(pixel_list_y[i] - 1)\n",
    "        sample[x_value, y_value] = 0\n",
    "# cv2.imwrite( \"./sample.png\", sample)\n",
    "imgplot = plt.imshow(sample, cmap='gray', vmin=0, vmax=255)\n",
    "plt.show()"
   ]
  },
  {
   "cell_type": "markdown",
   "metadata": {},
   "source": [
    "# Q3\n",
    "<img src='./picture_source/HW_4_3.PNG' width='500px' align='middle'>"
   ]
  },
  {
   "cell_type": "markdown",
   "metadata": {},
   "source": [
    "# Answer\n",
    "#### (a)\n",
    "#### 如下方程式碼所示\n",
    "#### (b)\n",
    "#### 我們在做PCA的時候，是找向量來maximize variance，但我們的X只有做center沒有做標準化，所以會被各個variable的scale影響，所以是 scale variant 的，其受 scale 影響的情況並可從下方程式馬所output的圖形得知。"
   ]
  },
  {
   "cell_type": "code",
   "execution_count": 30,
   "metadata": {},
   "outputs": [],
   "source": [
    "from sklearn.decomposition import PCA\n",
    "import matplotlib.pyplot as plt\n",
    "import numpy as np\n",
    "import pandas as pd"
   ]
  },
  {
   "cell_type": "code",
   "execution_count": 105,
   "metadata": {},
   "outputs": [],
   "source": [
    "def PCA_decomposition(X, isCorrMX):\n",
    "    # Reference: https://machinelearningmastery.com/calculate-principal-component-analysis-scratch-python/\n",
    "    # calculate mean of the array\n",
    "    X_mean = np.mean(X.T, axis=1)\n",
    "    # center the values\n",
    "    X_center = X - X_mean\n",
    "    # check if use Correlation Matrix\n",
    "    if isCorrMX == True:\n",
    "        X_covariance = np.corrcoef(X_center.T)\n",
    "    else:\n",
    "        X_covariance = np.cov(X_center.T)\n",
    "    # calculate eigenvalues and eigenvectors\n",
    "    # https://docs.scipy.org/doc/numpy/reference/generated/numpy.linalg.eig.html\n",
    "    eigenvalues, eigenvectors = np.linalg.eig(X_covariance)\n",
    "    X_project = -(eigenvectors.T.dot(X_center.T).T)\n",
    "    \n",
    "    # calculate explainable ratio of each pricipal components\n",
    "    explainable_ratio_list = []\n",
    "    for i in range(eigenvalues.shape[0]):\n",
    "        eigenvalues_totals = np.sum(eigenvalues)\n",
    "        ratio = eigenvalues[i] / eigenvalues_totals\n",
    "        explainable_ratio_list.append(ratio)\n",
    "\n",
    "    # calculate how many principal components needed to explain 50, 60, 70, 80, 90% of total variance\n",
    "    total_explainable_ratio = 0\n",
    "    total_explainable_ratio_list = []\n",
    "    culmulative_explainable_ratio_list = []\n",
    "    components_needed_list = []\n",
    "    for i, j in enumerate(explainable_ratio_list):\n",
    "        total_explainable_ratio += j\n",
    "        total_explainable_ratio_list.append(total_explainable_ratio)\n",
    "        culmulative_explainable_ratio_list.append(np.sum(explainable_ratio_list[(i):]))\n",
    "    \n",
    "    total_explainable_ratio = 0\n",
    "    for i, j in enumerate(explainable_ratio_list):\n",
    "        total_explainable_ratio += j\n",
    "        if total_explainable_ratio >= 0.9:\n",
    "            if len(components_needed_list) < 5:\n",
    "                components_needed_list.append(i + 1)\n",
    "                print('90%:', str(i + 1), 'pricipal components needed.')\n",
    "            break\n",
    "        elif total_explainable_ratio >= 0.8:\n",
    "            if len(components_needed_list) < 4:\n",
    "                components_needed_list.append(i + 1)\n",
    "                print('80%:', str(i + 1), 'pricipal components needed.')\n",
    "        elif total_explainable_ratio >= 0.7:\n",
    "            if len(components_needed_list) < 3:\n",
    "                components_needed_list.append(i + 1)\n",
    "                print('70%:', str(i + 1), 'pricipal components needed.')\n",
    "        elif total_explainable_ratio >= 0.6:\n",
    "            if len(components_needed_list) < 2:\n",
    "                components_needed_list.append(i + 1)\n",
    "                print('60%:', str(i + 1), 'pricipal components needed.')\n",
    "        elif total_explainable_ratio >= 0.5:\n",
    "            if len(components_needed_list) < 1:\n",
    "                components_needed_list.append(i + 1)\n",
    "                print('50%:', str(i + 1), 'pricipal components needed.')\n",
    "                \n",
    "    # Plot the scree plot\n",
    "    if len(explainable_ratio_list) <= 15:\n",
    "        x_list = ['PC' + str(i) for i in range(1, len(explainable_ratio_list) + 1)]\n",
    "        plt.plot(total_explainable_ratio_list)\n",
    "        plt.bar(x_list, culmulative_explainable_ratio_list, align='center', alpha=0.5)\n",
    "    else:\n",
    "        x_list = ['PC' + str(i) for i in range(1, 16)]\n",
    "        plt.plot(total_explainable_ratio_list[:15])\n",
    "        plt.bar(x_list, culmulative_explainable_ratio_list[:15], align='center', alpha=0.5)\n",
    "    plt.xticks(rotation=90)\n",
    "    plt.show()\n",
    "\n",
    "    return eigenvalues, eigenvectors, X_project"
   ]
  },
  {
   "cell_type": "code",
   "execution_count": 170,
   "metadata": {},
   "outputs": [
    {
     "name": "stdout",
     "output_type": "stream",
     "text": [
      "60%: 1 pricipal components needed.\n",
      "70%: 2 pricipal components needed.\n",
      "80%: 3 pricipal components needed.\n",
      "90%: 4 pricipal components needed.\n"
     ]
    },
    {
     "data": {
      "image/png": "[encoded data removed]",
      "text/plain": [
       "<Figure size 432x288 with 1 Axes>"
      ]
     },
     "metadata": {
      "needs_background": "light"
     },
     "output_type": "display_data"
    },
    {
     "name": "stdout",
     "output_type": "stream",
     "text": [
      "PCA with Correlation Matrix\n",
      "eigenvalues: [5.37579947 0.94368068 0.81167701 0.48615382 0.18286556 0.11430911\n",
      " 0.03196814 0.0535462 ]\n",
      "\n",
      "eigenvectors: [[-0.38584973  0.0768251   0.29233712  0.09995932 -0.74033405  0.38734891\n",
      "   0.11517032  0.19587534]\n",
      " [ 0.4023881   0.13847377  0.07222155 -0.21604069 -0.48258829 -0.53093056\n",
      "   0.41770206 -0.27886477]\n",
      " [ 0.4164447   0.12637099  0.0742187  -0.13582082 -0.30329986 -0.00696426\n",
      "  -0.82916136  0.08426507]\n",
      " [ 0.4018397  -0.11139899  0.23608904 -0.11972353  0.08431898  0.66672875\n",
      "   0.13477375 -0.53501633]\n",
      " [ 0.40157692  0.21103513 -0.00094958 -0.32248018  0.1312946   0.23577482\n",
      "   0.30996269  0.72201169]\n",
      " [-0.2647346   0.41672193 -0.63954802 -0.49281516 -0.09771744  0.20294159\n",
      "  -0.03519452 -0.22890465]\n",
      " [-0.21387799  0.6905824   0.58696339 -0.10603199  0.30146799 -0.11007417\n",
      "  -0.05431804 -0.12503449]\n",
      " [-0.2778673  -0.50144442  0.30745409 -0.74327015  0.04736686 -0.12085714\n",
      "  -0.07951279  0.03453075]]\n",
      "\n",
      "AutoMPG_project: [[-272.83046976 -117.33197165  -11.96660362 ... -138.12273605\n",
      "   -74.54082255 -376.28573339]\n",
      " [-381.32241659 -158.44667041  -23.19016013 ... -205.12681707\n",
      "  -102.05824478 -497.50945919]\n",
      " [-258.40565926 -101.72696191  -18.20890927 ... -135.14507474\n",
      "   -47.07325409 -317.6444326 ]\n",
      " ...\n",
      " [ 309.15514682  146.39744394    1.76117171 ...  173.37431414\n",
      "   165.41119263  485.63717067]\n",
      " [ 186.08782859   75.30797004    9.34206647 ...   98.03570443\n",
      "    51.80210414  247.8975295 ]\n",
      " [ 147.85462174   55.28848696    8.93567461 ...   72.97178584\n",
      "    21.0029035   180.92813672]]\n",
      "90%: 1 pricipal components needed.\n"
     ]
    },
    {
     "data": {
      "image/png": "[encoded data removed]",
      "text/plain": [
       "<Figure size 432x288 with 1 Axes>"
      ]
     },
     "metadata": {
      "needs_background": "light"
     },
     "output_type": "display_data"
    },
    {
     "name": "stdout",
     "output_type": "stream",
     "text": [
      "PCA without Correlation Matrix\n",
      "eigenvalues: [7.32159308e+05 1.51405465e+03 2.61318016e+02 1.23093098e+01\n",
      " 2.90140740e+00 1.88860286e+00 3.57475600e-01 2.57690315e-01]\n",
      "\n",
      "eigenvectors: [[-3.22887929e-03 -7.39571693e-03 -1.68367301e-02  3.58097463e-01\n",
      "   1.37761080e-01  9.14674563e-01 -1.07540868e-01  6.51528870e-02]\n",
      " [ 1.79261370e-03  1.33241105e-02 -7.29020365e-03 -2.55793640e-03\n",
      "  -1.87354959e-02 -1.58567937e-02  3.90300201e-01  9.20229787e-01]\n",
      " [ 1.14340720e-01  9.45741882e-01 -3.03364700e-01  9.48215207e-03\n",
      "   1.03606815e-02 -1.56514533e-03  6.34075260e-04 -1.63781474e-02]\n",
      " [ 3.89668646e-02  2.98262863e-01  9.48521534e-01  4.74430424e-02\n",
      "   8.52720884e-02 -1.29726089e-02 -8.28994320e-03  8.28033286e-03]\n",
      " [ 9.92668234e-01 -1.20773235e-01 -2.48833009e-03 -5.94826172e-04\n",
      "  -2.71266838e-03  3.10360543e-03 -2.33657118e-04 -1.09049120e-04]\n",
      " [-1.35283053e-03 -3.48265951e-02 -7.69835369e-02 -5.00497666e-02\n",
      "   9.86437038e-01 -1.30450550e-01  1.00203344e-02  1.33435475e-02]\n",
      " [-1.33685177e-03 -2.38692393e-02 -4.30407932e-02  9.31043932e-01\n",
      "  -4.59157658e-03 -3.59349460e-01  3.51338495e-02 -1.85917655e-02]\n",
      " [-5.51536058e-04 -3.24365681e-03  1.24486303e-02  8.41269228e-03\n",
      "   1.43429869e-02  1.29573354e-01  9.13617393e-01 -3.84800879e-01]]\n",
      "\n",
      "AutoMPG_project: [[-5.36449619e+02 -5.08358444e+01  1.07053844e+01 ... -1.50243791e+00\n",
      "  -2.00383876e-01 -7.71177669e-01]\n",
      " [-7.30349183e+02 -7.91426100e+01 -9.03776726e+00 ... -4.71265361e-01\n",
      "  -2.49066403e-02 -2.46702756e-01]\n",
      " [-4.70986617e+02 -7.54516690e+01 -5.17422460e+00 ... -1.14517452e+00\n",
      "  -4.74281894e-02 -7.50696497e-01]\n",
      " ...\n",
      " [ 6.85187239e+02 -2.00931891e+01 -2.93030701e-01 ...  1.38148524e-01\n",
      "   1.02831913e+00  1.82533974e-01]\n",
      " [ 3.59520648e+02  3.56706345e+01  1.23051772e+00 ...  1.49371911e+00\n",
      "   8.20525580e-01  3.16047114e-02]\n",
      " [ 2.65219821e+02  4.72323729e+01 -1.59888239e+00 ...  1.69806277e-01\n",
      "   9.97862955e-01 -9.33253015e-02]]\n"
     ]
    }
   ],
   "source": [
    "# implement PCA with AutoMPG dataset\n",
    "AutoMPG = pd.read_csv('./data/AutoMPG.csv')\n",
    "\n",
    "eigenvalues, eigenvectors, AutoMPG_project = PCA_decomposition(AutoMPG, True)\n",
    "print('PCA with Correlation Matrix')\n",
    "print('eigenvalues:', eigenvalues)\n",
    "print()\n",
    "print('eigenvectors:', eigenvectors)\n",
    "print()\n",
    "print('AutoMPG_project:',  AutoMPG_project)\n",
    "\n",
    "\n",
    "\n",
    "eigenvalues, eigenvectors, AutoMPG_project = PCA_decomposition(AutoMPG, False)\n",
    "print('PCA without Correlation Matrix')\n",
    "print('eigenvalues:', eigenvalues)\n",
    "print()\n",
    "print('eigenvectors:', eigenvectors)\n",
    "print()\n",
    "print('AutoMPG_project:',  AutoMPG_project)"
   ]
  },
  {
   "cell_type": "markdown",
   "metadata": {},
   "source": [
    "# Q4\n",
    "<img src='./picture_source/HW_4_4.PNG' width='500px' align='middle'>"
   ]
  },
  {
   "cell_type": "markdown",
   "metadata": {},
   "source": [
    "# Answer\n",
    "#### (a)\n",
    "#### 50%: 2 pricipal components needed.\n",
    "#### 60%: 3 pricipal components needed.\n",
    "#### 70%: 6 pricipal components needed.\n",
    "#### 80%: 15 pricipal components needed.\n",
    "#### 90%: 47 pricipal components needed.\n",
    "#### (b)\n",
    "#### 如下圖程式碼output所示"
   ]
  },
  {
   "cell_type": "code",
   "execution_count": 100,
   "metadata": {},
   "outputs": [],
   "source": [
    "import pandas as pd\n",
    "import numpy as np\n",
    "import matplotlib.pyplot as plt\n",
    "import cv2"
   ]
  },
  {
   "cell_type": "code",
   "execution_count": 107,
   "metadata": {},
   "outputs": [
    {
     "name": "stdout",
     "output_type": "stream",
     "text": [
      "50%: 2 pricipal components needed.\n",
      "60%: 3 pricipal components needed.\n",
      "70%: 6 pricipal components needed.\n",
      "80%: 15 pricipal components needed.\n",
      "90%: 47 pricipal components needed.\n"
     ]
    },
    {
     "data": {
      "image/png": "[encoded data removed]",
      "text/plain": [
       "<Figure size 432x288 with 1 Axes>"
      ]
     },
     "metadata": {
      "needs_background": "light"
     },
     "output_type": "display_data"
    }
   ],
   "source": [
    "ORL_data = pd.read_csv('./data/ORL_data.csv').iloc[:,:-1]\n",
    "\n",
    "ORL_data_array = np.transpose(ORL_data.to_numpy())\n",
    "# print(ORL_data_array.shape)\n",
    "eigenvalues, eigenvectors, X_project = PCA_decomposition(ORL_data_array, False)\n",
    "# print(eigenvalues.shape)"
   ]
  },
  {
   "cell_type": "code",
   "execution_count": 108,
   "metadata": {},
   "outputs": [
    {
     "name": "stdout",
     "output_type": "stream",
     "text": [
      "50%: 2 pricipal components needed.\n",
      "60%: 3 pricipal components needed.\n",
      "70%: 6 pricipal components needed.\n",
      "80%: 15 pricipal components needed.\n",
      "90%: 47 pricipal components needed.\n"
     ]
    },
    {
     "data": {
      "image/png": "[encoded data removed]",
      "text/plain": [
       "<Figure size 432x288 with 1 Axes>"
      ]
     },
     "metadata": {
      "needs_background": "light"
     },
     "output_type": "display_data"
    },
    {
     "name": "stdout",
     "output_type": "stream",
     "text": [
      "(2576,)\n"
     ]
    }
   ],
   "source": [
    "ORL_data = pd.read_csv('./data/ORL_data.csv').iloc[:,:-1]\n",
    "\n",
    "ORL_data_array = np.transpose(ORL_data.to_numpy())\n",
    "# print(ORL_data_array.shape)\n",
    "eigenvalues, eigenvectors, X_project = PCA_decomposition(ORL_data_array, False)\n",
    "# print(eigenvalues.shape)\n",
    "# print(X_project.shape)\n",
    "\n",
    "pc1_X_project = X_project[:, 0]\n",
    "print(pc1_X_project.shape)\n",
    "# print(pc1_X_project[0])\n",
    "min_pc1 = np.min(pc1_X_project)\n",
    "range_pc1 = np.max(pc1_X_project) - np.min(pc1_X_project)\n",
    "\n",
    "for i, j in enumerate(pc1_X_project):\n",
    "    pc1_X_project[i] = 255 * ((j - min_pc1) / range_pc1)\n",
    "    \n",
    "# print(pc1_X_project)\n",
    "# print(pc1_X_project.shape)"
   ]
  },
  {
   "cell_type": "code",
   "execution_count": 109,
   "metadata": {},
   "outputs": [
    {
     "data": {
      "image/png": "[encoded data removed]",
      "text/plain": [
       "<Figure size 432x288 with 1 Axes>"
      ]
     },
     "metadata": {
      "needs_background": "light"
     },
     "output_type": "display_data"
    }
   ],
   "source": [
    "pixel_list_number = []\n",
    "pixel_list_x = []\n",
    "pixel_list_y = []\n",
    "\n",
    "for i, j in enumerate(pc1_X_project.tolist()):\n",
    "    value = (i+1)\n",
    "    row = value / 46\n",
    "    column = value % 46 - 1\n",
    "    pixel_list_number.append(value)\n",
    "    pixel_list_x.append(row)\n",
    "    pixel_list_y.append(column)\n",
    "    \n",
    "\n",
    "sample = np.zeros(shape=(56, 46))\n",
    "for i, j in enumerate(pixel_list_x):\n",
    "    x_value = int(j - 1)\n",
    "    y_value = int(pixel_list_y[i] - 1)\n",
    "    sample[x_value, y_value] = pc1_X_project[i]\n",
    "\n",
    "imgplot = plt.imshow(sample, cmap='gray', vmin=0, vmax=255)\n",
    "plt.show()"
   ]
  }
 ],
 "metadata": {
  "kernelspec": {
   "display_name": "KerasGPU",
   "language": "python",
   "name": "kerasgpu"
  },
  "language_info": {
   "codemirror_mode": {
    "name": "ipython",
    "version": 3
   },
   "file_extension": ".py",
   "mimetype": "text/x-python",
   "name": "python",
   "nbconvert_exporter": "python",
   "pygments_lexer": "ipython3",
   "version": "3.7.7"
  }
 },
 "nbformat": 4,
 "nbformat_minor": 4
}
