{
 "cells": [
  {
   "cell_type": "markdown",
   "metadata": {},
   "source": [
    "# Q1\n",
    "<img src=\"./picture_source/HW_3_1.PNG\">"
   ]
  },
  {
   "cell_type": "code",
   "execution_count": null,
   "metadata": {},
   "outputs": [],
   "source": []
  },
  {
   "cell_type": "markdown",
   "metadata": {},
   "source": [
    "# Q2\n",
    "<img src=\"./picture_source/HW_3_2.PNG\">"
   ]
  },
  {
   "cell_type": "code",
   "execution_count": 7,
   "metadata": {},
   "outputs": [
    {
     "name": "stdout",
     "output_type": "stream",
     "text": [
      "    0    1    2    3    4    5    6    7    8    9   ...   77   78   79   80  \\\n",
      "0  100  101  102  103  104  105  105  106  107  108  ...  100  100   99   99   \n",
      "1  100  101  102  103  104  105  106  107  108  109  ...  101  101  100  100   \n",
      "2  101  102  103  104  105  105  106  107  108  109  ...  102  101  101  100   \n",
      "3  101  102  103  104  105  106  107  108  109  110  ...  102  102  102  101   \n",
      "4  101  102  103  104  105  106  107  108  109  110  ...  103  102  102  101   \n",
      "\n",
      "    81   82  83  84  85  86  \n",
      "0   99   99  98  98  97  97  \n",
      "1  100   99  99  98  98  97  \n",
      "2  100   99  99  98  98  97  \n",
      "3  100   99  99  99  98  98  \n",
      "4  101  100  99  99  99  98  \n",
      "\n",
      "[5 rows x 87 columns]\n"
     ]
    }
   ],
   "source": [
    "import numpy as np\n",
    "import pandas as pd\n",
    "\n",
    "volcano = pd.read_csv(\"./data/Volcano.csv\", header=None)\n",
    "start = volcano.iloc[60, 86]\n",
    "\n",
    "\n",
    "\n",
    "# print(volcano.iloc[-1, -1])\n",
    "# print(volcano.iloc[60, 86])\n",
    "# volcano.shape\n",
    "# print(volcano.head())"
   ]
  },
  {
   "cell_type": "markdown",
   "metadata": {},
   "source": [
    "# Q3\n",
    "<img src=\"./picture_source/HW_3_3.PNG\">"
   ]
  },
  {
   "cell_type": "code",
   "execution_count": null,
   "metadata": {},
   "outputs": [],
   "source": []
  },
  {
   "cell_type": "code",
   "execution_count": null,
   "metadata": {},
   "outputs": [],
   "source": []
  },
  {
   "cell_type": "code",
   "execution_count": null,
   "metadata": {},
   "outputs": [],
   "source": []
  },
  {
   "cell_type": "code",
   "execution_count": null,
   "metadata": {},
   "outputs": [],
   "source": []
  }
 ],
 "metadata": {
  "kernelspec": {
   "display_name": "Python 3",
   "language": "python",
   "name": "python3"
  },
  "language_info": {
   "codemirror_mode": {
    "name": "ipython",
    "version": 3
   },
   "file_extension": ".py",
   "mimetype": "text/x-python",
   "name": "python",
   "nbconvert_exporter": "python",
   "pygments_lexer": "ipython3",
   "version": "3.7.6"
  }
 },
 "nbformat": 4,
 "nbformat_minor": 4
}
