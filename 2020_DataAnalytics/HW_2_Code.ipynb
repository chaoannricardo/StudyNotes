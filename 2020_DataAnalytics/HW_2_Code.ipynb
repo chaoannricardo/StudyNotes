{
 "cells": [
  {
   "cell_type": "markdown",
   "metadata": {},
   "source": [
    "# Q1\n",
    "#### (15%) Simulate the averages of [2,3,4,5] dices for 1000 times. Draw four histograms for the averages of [2,3,4,5] dices.\n",
    "##### *Recall the “Central Limit Theorem” in the first lecture."
   ]
  },
  {
   "cell_type": "markdown",
   "metadata": {},
   "source": [
    "## Answer\n",
    "如下圖輸出的圖片，皆大致呈常態分佈。"
   ]
  },
  {
   "cell_type": "code",
   "execution_count": 6,
   "metadata": {},
   "outputs": [
    {
     "data": {
      "image/png": "[encoded data removed]",
      "text/plain": [
       "<Figure size 864x864 with 4 Axes>"
      ]
     },
     "metadata": {
      "needs_background": "light"
     },
     "output_type": "display_data"
    }
   ],
   "source": [
    "import random\n",
    "import matplotlib.pyplot as plt\n",
    "\n",
    "def throw_the_dice(dice_numbers):\n",
    "    # set random seed\n",
    "    random.seed(100)\n",
    "    # simulate a dice \n",
    "    dice_list = [1, 2, 3, 4, 5, 6]\n",
    "    result_list = []\n",
    "    for run in range(1000):\n",
    "        dice_sum = 0\n",
    "        for index in range(j):\n",
    "            dice_sum += dice_list[random.randint(0, 5)]\n",
    "        dice_average = dice_sum / j\n",
    "        result_list.append(dice_average)\n",
    "    return result_list\n",
    "\n",
    "# start the program\n",
    "if __name__ == '__main__':\n",
    "    # dice numbers we ganna throw\n",
    "    dice_number_list = [2, 3, 4, 5]\n",
    "    plt.figure(figsize=(12,12))\n",
    "    bins=10\n",
    "    fontsize=12\n",
    "    for i, j in enumerate(dice_number_list):\n",
    "        result = throw_the_dice(j)\n",
    "        plt.subplot((len(dice_number_list)/2), 2, (i+1))\n",
    "        plt.hist(result, bins=bins)\n",
    "        plt.title(\"Histogram when \" + str(j) + \" dices\", fontsize=fontsize)\n",
    "        plt.xlabel(\"Average of Dice Faces\", fontsize=fontsize)\n",
    "        plt.xticks(fontsize=fontsize)\n",
    "        plt.ylabel(\"Run Counts\", fontsize=fontsize)\n",
    "        plt.yticks(fontsize=fontsize)\n",
    "    plt.show()"
   ]
  },
  {
   "cell_type": "markdown",
   "metadata": {},
   "source": [
    "# Q2\n",
    "#### To validate the Kruskal’s count in the first lecture, we play the game with one deck of cards, i.e., 52 cards, for 10000 times. Each time, start from the first 10 cards and the face cards (J/Q/K) are counted as 5 steps.\n",
    "#### a. (10%) What is the probability that all the first 10 cards will end on the same card.\n",
    "#### b. (10%) Vary the simulation settings: [52,104] cards are randomly shuffled and # of steps for face cards =[1,3,5,7,9], what are the 2×5=10 probabilities? What is your observation?"
   ]
  },
  {
   "cell_type": "markdown",
   "metadata": {},
   "source": [
    "## Answer\n",
    "#### (a)\n",
    "Probability that all the first 10 cards will end on the same card with (card_decks, face_card_step, epochs) = (1, 5, 10000) is:  0.5775\n",
    "#### (b)\n",
    "Probability that all the first 10 cards will end on the same card with (card_decks, face_card_step, epochs) = (1, 1, 10000) is:  0.8259\n",
    "\n",
    "Probability that all the first 10 cards will end on the same card with (card_decks, face_card_step, epochs) = (1, 3, 10000) is:  0.7045\n",
    "\n",
    "Probability that all the first 10 cards will end on the same card with (card_decks, face_card_step, epochs) = (1, 5, 10000) is:  0.5801\n",
    "\n",
    "Probability that all the first 10 cards will end on the same card with (card_decks, face_card_step, epochs) = (1, 7, 10000) is:  0.4637\n",
    "\n",
    "Probability that all the first 10 cards will end on the same card with (card_decks, face_card_step, epochs) = (1, 9, 10000) is:  0.3412\n",
    "\n",
    "Probability that all the first 10 cards will end on the same card with (card_decks, face_card_step, epochs) = (2, 1, 10000) is:  0.9912\n",
    "\n",
    "Probability that all the first 10 cards will end on the same card with (card_decks, face_card_step, epochs) = (2, 3, 10000) is:  0.9722\n",
    "\n",
    "Probability that all the first 10 cards will end on the same card with (card_decks, face_card_step, epochs) = (2, 5, 10000) is:  0.9374\n",
    "\n",
    "Probability that all the first 10 cards will end on the same card with (card_decks, face_card_step, epochs) = (2, 7, 10000) is:  0.8848\n",
    "\n",
    "Probability that all the first 10 cards will end on the same card with (card_decks, face_card_step, epochs) = (2, 9, 10000) is:  0.8144\n",
    "\n",
    "根據下面實驗的結果，我們可以發現：\n",
    "1. 牌的張數（副數）和最後落在同一張牌的機率是呈正向關係（牌越多，可能性越高）\n",
    "2. JQK牌面所代表的步數，和最後落在同一張牌的機率是呈反向關係（代表的步數越多，可能性越低）"
   ]
  },
  {
   "cell_type": "code",
   "execution_count": 42,
   "metadata": {},
   "outputs": [
    {
     "name": "stdout",
     "output_type": "stream",
     "text": [
      "Probability that all the first 10 cards will end on the same card with (card_decks, face_card_step, epochs) = (1, 5, 10000) is:  0.5775\n",
      "Probability that all the first 10 cards will end on the same card with (card_decks, face_card_step, epochs) = (1, 1, 10000) is:  0.8259\n",
      "Probability that all the first 10 cards will end on the same card with (card_decks, face_card_step, epochs) = (1, 3, 10000) is:  0.7045\n",
      "Probability that all the first 10 cards will end on the same card with (card_decks, face_card_step, epochs) = (1, 5, 10000) is:  0.5801\n",
      "Probability that all the first 10 cards will end on the same card with (card_decks, face_card_step, epochs) = (1, 7, 10000) is:  0.4637\n",
      "Probability that all the first 10 cards will end on the same card with (card_decks, face_card_step, epochs) = (1, 9, 10000) is:  0.3412\n",
      "Probability that all the first 10 cards will end on the same card with (card_decks, face_card_step, epochs) = (2, 1, 10000) is:  0.9912\n",
      "Probability that all the first 10 cards will end on the same card with (card_decks, face_card_step, epochs) = (2, 3, 10000) is:  0.9722\n",
      "Probability that all the first 10 cards will end on the same card with (card_decks, face_card_step, epochs) = (2, 5, 10000) is:  0.9374\n",
      "Probability that all the first 10 cards will end on the same card with (card_decks, face_card_step, epochs) = (2, 7, 10000) is:  0.8848\n",
      "Probability that all the first 10 cards will end on the same card with (card_decks, face_card_step, epochs) = (2, 9, 10000) is:  0.8144\n"
     ]
    }
   ],
   "source": [
    "import random\n",
    "\n",
    "def kruskal_experiment(card_decks, face_card_step, epochs):\n",
    "    test_result = []\n",
    "    for i in range(epochs):\n",
    "        card_list = [i for i in range(1, 11)] + [face_card_step] * 3\n",
    "        total_cards = card_list * 4 * card_decks\n",
    "        random.shuffle(total_cards)\n",
    "        result_list = []\n",
    "        result = 0\n",
    "        for index in range(10):\n",
    "            chosen_index = index\n",
    "            chosen_card = total_cards[chosen_index]\n",
    "            while True:\n",
    "                if chosen_index + chosen_card < len(total_cards):\n",
    "                    chosen_index = chosen_index + chosen_card\n",
    "                    chosen_card = total_cards[chosen_index]\n",
    "                else:\n",
    "                    last_index = chosen_index\n",
    "                    result_list.append(last_index)\n",
    "                    break\n",
    "        if len(set(result_list)) == 1:\n",
    "            result = 1\n",
    "        test_result.append(result)\n",
    "    prob = test_result.count(1) / len(test_result)\n",
    "    return prob\n",
    "\n",
    "\n",
    "if __name__ == '__main__':\n",
    "    # (a) (card_decks, face_card_step, epochs) = (1, 5, 10000)\n",
    "    card_decks, face_card_step, epochs = 1, 5, 10000\n",
    "    prob = kruskal_experiment(card_decks, face_card_step, epochs)\n",
    "    print(\"Probability that all the first 10 cards will end on the same card with \"\\\n",
    "          \"(card_decks, face_card_step, epochs) = (1, 5, 10000) is: \", prob)\n",
    "    # (b) (card_decks, face_card_step, epochs) = ([1, 2] , [1, 3, 5, 7, 9], 10000)\n",
    "    card_decks = [1, 2] \n",
    "    face_card_step = [1, 3, 5, 7, 9]\n",
    "    epochs = 10000\n",
    "    for i, j in enumerate(card_decks):\n",
    "        for a, b in enumerate(face_card_step):\n",
    "            prob = kruskal_experiment(j, b, epochs)\n",
    "            print(\"Probability that all the first 10 cards will end on the same card with \"\\\n",
    "          \"(card_decks, face_card_step, epochs) = (\" + str(j) + \", \" + str(b) + \", 10000) is: \", prob) "
   ]
  },
  {
   "cell_type": "markdown",
   "metadata": {},
   "source": [
    "# Bonus: Kruskal Card Game 遊玩版\n",
    "#### 可以玩Kruskal Card Game的小程式"
   ]
  },
  {
   "cell_type": "code",
   "execution_count": 41,
   "metadata": {},
   "outputs": [
    {
     "name": "stdout",
     "output_type": "stream",
     "text": [
      "========= Welcome to Ricardo's Kruskal Card Game!!! =========\n",
      "Face Cards's Step is:  3\n",
      "cards: \n",
      "1. 5\n",
      "2. Q\n",
      "3. 3\n",
      "4. 6\n",
      "5. 7\n",
      "6. 4\n",
      "7. K\n",
      "8. J\n",
      "9. 4\n",
      "10. 5\n",
      "\n",
      "\n",
      "Please enter the index of the card you want to start with: 1\n",
      "=============================================================\n",
      "The card chosen by you is:  5\n",
      "The total card deck:  [5, 'Q', 3, 6, 7, 4, 'K', 'J', 4, 5, 9, 'K', 8, 9, 7, 9, 2, 10, 8, 'J', 7, 1, 3, 1, 'K', 1, 8, 7, 6, 2, 10, 10, 'Q', 'Q', 'J', 3, 'Q', 6, 8, 9, 6, 2, 'J', 2, 4, 4, 'K', 10, 3, 5, 1, 5]\n",
      "Your next card is:  4\n",
      "Your next card is:  5\n",
      "Your next card is:  7\n",
      "Your next card is:  1\n",
      "Your next card is:  3\n",
      "Your next card is:  1\n",
      "Your next card is:  8\n",
      "Your next card is:  J\n",
      "Your next card is:  6\n",
      "Your next card is:  2\n",
      "Your next card is:  4\n",
      "Your next card is:  5\n",
      "========= Game Ended ========================================\n",
      "Your ending card is: 5 \n",
      "\n",
      "\n",
      "\n"
     ]
    }
   ],
   "source": [
    "import random\n",
    "\n",
    "def kruskal_card_game(card_decks, face_card_step):\n",
    "    card_list = [i for i in range(1,11)] + [\"J\", \"Q\", \"K\"]\n",
    "    total_cards = card_list * 2 * card_decks\n",
    "    random.shuffle(total_cards)\n",
    "    real_total_cards = []\n",
    "    for i, j in enumerate(total_cards):\n",
    "        if j == \"J\" or j == \"Q\" or j == \"K\":\n",
    "            j = face_card_step\n",
    "        real_total_cards.append(int(j))\n",
    "    hello_message = \"========= Welcome to Ricardo's Kruskal Card Game!!! =========\"\n",
    "    print(hello_message)\n",
    "    print(\"Face Cards's Step is: \", face_card_step)\n",
    "    chosen_string = \"cards: \\n\"\n",
    "    for i, j in enumerate(total_cards[0:10]):\n",
    "        chosen_string += str(i+1) + \". \" +  str(j) + \"\\n\"\n",
    "    print(chosen_string)\n",
    "    print()\n",
    "    chosen_index = int(input('Please enter the index of the card you want to start with: ')) - 1\n",
    "    chosen_card = real_total_cards[chosen_index]\n",
    "    print(\"=============================================================\")\n",
    "    print(\"The card chosen by you is: \", total_cards[chosen_index])\n",
    "    print(\"The total card deck: \", total_cards)\n",
    "    while True:\n",
    "        if chosen_index + chosen_card < len(total_cards):\n",
    "            chosen_index = chosen_index + chosen_card\n",
    "            chosen_card = real_total_cards[chosen_index]\n",
    "            print(\"Your next card is: \", total_cards[chosen_index])\n",
    "        else:\n",
    "            ending_message = \"========= Game Ended =========\"\n",
    "            while True:\n",
    "                if len(ending_message) < len(hello_message):\n",
    "                    ending_message += \"=\"\n",
    "                else:\n",
    "                    break\n",
    "            print(ending_message)\n",
    "            print(\"Your ending card is:\", total_cards[chosen_index], \"\\n\\n\\n\")\n",
    "            break\n",
    "\n",
    "if __name__ == '__main__':\n",
    "    card_decks = 2\n",
    "    face_card_step = 3\n",
    "    kruskal_card_game(card_decks, face_card_step)"
   ]
  }
 ],
 "metadata": {
  "kernelspec": {
   "display_name": "Python 3",
   "language": "python",
   "name": "python3"
  },
  "language_info": {
   "codemirror_mode": {
    "name": "ipython",
    "version": 3
   },
   "file_extension": ".py",
   "mimetype": "text/x-python",
   "name": "python",
   "nbconvert_exporter": "python",
   "pygments_lexer": "ipython3",
   "version": "3.7.6"
  }
 },
 "nbformat": 4,
 "nbformat_minor": 4
}
